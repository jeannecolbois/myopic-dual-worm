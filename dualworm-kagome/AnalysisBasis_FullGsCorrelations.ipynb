{
 "cells": [
  {
   "cell_type": "code",
   "execution_count": null,
   "metadata": {
    "collapsed": true
   },
   "outputs": [],
   "source": [
    "# Import modules\n",
    "import numpy as np # maths\n",
    "\n",
    "from time import time# timer for debug\n",
    "\n",
    "    # gather results obtained from the runs\n",
    "import pickle # open .pkl files where python objects have been saved\n",
    "from safe import safe # the empty class which is used to save the results\n",
    "    \n",
    "    # system commands\n",
    "import os\n",
    "    \n",
    "    # interact with the C++ core and the Python core\n",
    "import dimers as dim # C++ interface module\n",
    "import KagomeFunctions as kf # \"library\" allowing to work on Kagome\n",
    "import KagomeDrawing as kdraw # \"library\" allowing to plot Kagome\n",
    "import Observables as obs #observables that can be used by the run script\n",
    "import KagomeFT as kft #small functions to compute the FT\n",
    "import AnalysisFunctions as af # functions to make the analysis code cleaner\n",
    "    #plots using matplotlib\n",
    "import matplotlib\n",
    "import matplotlib.pyplot as plt\n",
    "%matplotlib inline\n",
    "matplotlib.rcParams['axes.unicode_minus'] = False\n",
    "matplotlib.rcParams.update({'font.size': 14, 'pgf.texsystem':'pdflatex'})"
   ]
  },
  {
   "cell_type": "code",
   "execution_count": null,
   "metadata": {
    "collapsed": true
   },
   "outputs": [],
   "source": [
    "# Create a folder to save the pictures\n",
    "foldername = '../Analysis_PSI/Runs_31-10-19_Mdep/'\n",
    "results_foldername = 'Results_31-10-19/'\n",
    "os.makedirs('./' + foldername + 'Plots' + results_foldername, exist_ok = True)\n",
    "#filenamelist = ['J2J3_nsm128000_L12_cpu12_lam0_J21_J30',\n",
    "#                'J2J3_nsm128000_L12_cpu12_lam0.05_J20.95_J30.05',\n",
    "#                'J2J3_nsm128000_L12_cpu12_lam0.1_J20.9_J30.1',\n",
    "#                'J2J3_nsm128000_L12_cpu12_lam0.15_J20.85_J30.15',\n",
    "#                'J2J3_nsm128000_L12_cpu12_lam0.2_J20.8_J30.2',\n",
    "#                'J2J3_nsm128000_L12_cpu12_lam0.25_J20.75_J30.25',\n",
    "#                'J2J3_nsm128000_L12_cpu12_lam0.3_J20.7_J30.3',\n",
    "#                'J2J3_nsm128000_L12_cpu12_lam0.3333333333333333_J20.6666666666666667_J30.3333333333333333']\n",
    "#filenamelist = ['J2J3_nsm128000_L12_cpu12_lam0.3333333333333333_J20.6666666666666667_J30.3333333333333333',\n",
    "#                'J2J3_nsm128000_L12_cpu12_lam0.35_J20.65_J30.35',\n",
    "#                'J2J3_nsm128000_L12_cpu12_lam0.4_J20.6_J30.4',\n",
    "#                'J2J3_nsm128000_L12_cpu12_lam0.5_J20.5_J30.5']\n",
    "#filenamelist = ['J2J3_nsm128000_L12_cpu12_lam0.5_J20.5_J30.5'#,\n",
    "#                #'J2J3_nsm128000_L12_cpu12_lam0.55_J20.44999999999999996_J30.55',\n",
    "#                #'J2J3_nsm128000_L12_cpu12_lam0.6_J20.4_J30.6',\n",
    "#                #'J2J3_nsm128000_L12_cpu12_lam0.7_J20.30000000000000004_J30.7',\n",
    "#                #'J2J3_nsm128000_L12_cpu12_lam0.8_J20.19999999999999996_J30.8',\n",
    "#                #'J2J3_nsm128000_L12_cpu12_lam0.9_J20.09999999999999998_J30.9',\n",
    "#                #'J2J3_nsm128000_L12_cpu12_lam1_J20_J31'\n",
    "#               ]\n",
    "#filenamelist = ['KJ1_L16_p0.1','KJ1_L16_p0.5','KJ1_L16_p1']\n",
    "filenamelist = ['KJ1_L12_p0_nsm25600','KJ1_L12_p1_nsm25600']\n",
    "n = len(filenamelist)"
   ]
  },
  {
   "cell_type": "code",
   "execution_count": null,
   "metadata": {
    "collapsed": true,
    "scrolled": false
   },
   "outputs": [],
   "source": [
    "[L, numsites, J1, J2, J3, J3st, J4, nb, num_in_bin, temperatures, nt, stat_temps, \n",
    " temperatures_plots, listfunctions, sref] = af.LoadParameters(foldername, filenamelist)\n",
    "\n",
    "swapsth, swaps = af.LoadSwaps(foldername, filenamelist, nb, num_in_bin)\n",
    "\n",
    "[t_MeanE, t_MeanEsq, t_varMeanE, t_varMeanEsq, C, ErrC] = \\\n",
    " af.LoadEnergy(foldername, filenamelist, numsites, nb, stat_temps, temperatures, listfunctions)\n",
    "\n",
    "t_MeanM, t_MeanMsq, t_varMeanM, t_varMeanMsq, Chi, ErrChi = \\\n",
    " af.LoadMagnetisation(foldername, filenamelist, numsites, nb, stat_temps, temperatures, listfunctions)\n",
    "\n",
    "t_MeanSs, t_varMeanSs, t_MeanSi, t_varMeanSi, t_MeanCorr, t_errCorrEstim = \\\n",
    " af.LoadCentralCorrelations(foldername, filenamelist, listfunctions, sref, stat_temps, nb)\n"
   ]
  },
  {
   "cell_type": "code",
   "execution_count": null,
   "metadata": {
    "collapsed": true
   },
   "outputs": [],
   "source": [
    "#f = open('./' + foldername + filenamelist[0] +'.pkl', 'rb')\n",
    "#backup = pickle.load(f) \n",
    "#\n",
    "#meanstat = backup.results.meanstat\n",
    "#f.close()"
   ]
  },
  {
   "cell_type": "code",
   "execution_count": null,
   "metadata": {
    "collapsed": true
   },
   "outputs": [],
   "source": [
    "###########################################\n",
    "        ## ALGORITHM ANALYSIS ##\n",
    "###########################################\n",
    "tidmin = 0\n",
    "tidmax = nt\n",
    "af.SwapsAnalysis(L, n, tidmin, tidmax, temperatures, foldername, results_foldername, swaps)"
   ]
  },
  {
   "cell_type": "code",
   "execution_count": null,
   "metadata": {
    "collapsed": true,
    "scrolled": false
   },
   "outputs": [],
   "source": [
    "###########################################\n",
    "        ## STATISTICS ANALYSIS ##\n",
    "###########################################\n",
    "tidmin = 15\n",
    "tidmax = [len(stat_temps[i]) for i in range(n)]\n",
    "temperatures_plots = np.array(temperatures_plots)\n",
    "### Energy\n",
    "af.BasicPlotsE(L, n, tidmin, tidmax, temperatures_plots, foldername, results_foldername, filenamelist, t_MeanE, t_MeanEsq, t_varMeanE, t_varMeanEsq, C, ErrC, J1, J2, J3, J4)\n",
    "### Magnetisation\n",
    "af.BasicPlotsM(L, n, tidmin, tidmax, temperatures_plots, foldername, results_foldername, filenamelist, t_MeanM, t_MeanMsq, t_varMeanM, t_varMeanMsq, Chi, ErrChi, J1, J2, J3, J4)"
   ]
  },
  {
   "cell_type": "code",
   "execution_count": null,
   "metadata": {
    "collapsed": true,
    "scrolled": true
   },
   "outputs": [],
   "source": [
    "distances =[]\n",
    "distances_spins = []\n",
    "NNList = []\n",
    "for i in range(n):\n",
    "    distancesi, distances_spinsi, NNListi, s_pos, srefs = kf.NearestNeighboursLists(L[i], 4)\n",
    "    distances.append(distancesi)\n",
    "    distances_spins.append(distances_spinsi)\n",
    "    NNList.append(NNListi)"
   ]
  },
  {
   "cell_type": "code",
   "execution_count": null,
   "metadata": {
    "collapsed": true
   },
   "outputs": [],
   "source": [
    "### COMPUTING CORRELATIONS FROM <SISJ> AND <SI> \n",
    "t = 1\n",
    "corr = [[] for i in range(n)]\n",
    "errcorr = [[] for i in range(n)]\n",
    "errf = [[] for i in range(n)]\n",
    "maxerr = [0 for i in range(n)]\n",
    "for i in range(n):\n",
    "    corr[i] = np.array(t_MeanCorr[i])[:,t]\n",
    "    errcorr[i] = np.sqrt(np.array(t_errCorrEstim[i])[:,t])\n",
    "    errf[i] = np.sqrt(np.array(t_varMeanSs[i])[:,t])\n",
    "    maxerr[i] = np.amax(np.abs(np.array(t_MeanSi[i])[:,t]))**2\n",
    "    \n",
    "print(np.sqrt(maxerr))"
   ]
  },
  {
   "cell_type": "code",
   "execution_count": null,
   "metadata": {
    "collapsed": true,
    "scrolled": false
   },
   "outputs": [],
   "source": [
    "### PLOTTING CORRELATIONS IN 2D\n",
    "for i in range(n):\n",
    "    a =1\n",
    "    \n",
    "    plt.figure(dpi=150)\n",
    "    kdraw.plot_function_kag(corr[i][0], L[i], a)\n",
    "    plt.title('L = {0}'.format(L[i]))\n",
    "    plt.clim(-1,1)\n",
    "    plt.savefig('./' + foldername + 'Plots' + results_foldername+ '/Correlations0_L{0}_various-nsms.png'.format(L[i]))\n",
    "    plt.savefig('./' + foldername + 'Plots' + results_foldername+ '/Correlations0_L{0}.pgf'.format(L[i]))\n",
    "    plt.show()\n",
    "    \n",
    "    \n",
    "    plt.figure(dpi=150)\n",
    "    kdraw.plot_function_kag(corr[i][1], L[i], a)\n",
    "    plt.title('L = {0}'.format(L[i]))\n",
    "    plt.clim(-1,1)\n",
    "    plt.savefig('./' + foldername + 'Plots' + results_foldername+ '/Correlations1_L{0}_various-nsms.png'.format(L[i]))\n",
    "    plt.savefig('./' + foldername + 'Plots' + results_foldername+ '/Correlations1_L{0}.pgf'.format(L[i]))\n",
    "    plt.show()\n",
    "    \n",
    "    plt.figure(dpi=150)\n",
    "    kdraw.plot_function_kag(corr[i][2], L[i], a)\n",
    "    plt.title('L = {0}'.format(L[i]))\n",
    "    plt.clim(-1,1)\n",
    "    plt.savefig('./' + foldername + 'Plots' + results_foldername+ '/Correlations2_L{0}_various-nsms.png'.format(L[i]))\n",
    "    plt.savefig('./' + foldername + 'Plots' + results_foldername+ '/Correlations2_L{0}.pgf'.format(L[i]))\n",
    "    plt.show()"
   ]
  },
  {
   "cell_type": "code",
   "execution_count": null,
   "metadata": {
    "collapsed": true
   },
   "outputs": [],
   "source": [
    "### PLOTTING SPIN AVERAGE IN 2D\n",
    "\n",
    "avgsi =  [[] for i in range(n)]\n",
    "for i in range(n):\n",
    "    avgsi[i] = np.array(t_MeanSi[i])[t,:]\n",
    "\n",
    "for i in range(n):\n",
    "    a = 1\n",
    "    \n",
    "    plt.figure(dpi=150)\n",
    "    kdraw.plot_function_kag(avgsi[i], L[i], a)\n",
    "    plt.title('L = {0}'.format(L[i]))\n",
    "    #plt.clim(-1,1)\n",
    "    plt.savefig('./' + foldername + 'Plots' + results_foldername+ '/Spinaverage_L{0}_various-nsms.png'.format(L[i]))\n",
    "    plt.savefig('./' + foldername + 'Plots' + results_foldername+ '/Spinaverage_L{0}.pgf'.format(L[i]))\n",
    "    plt.show()\n",
    "    \n",
    "    print(sum(avgsi[i]))\n",
    "    "
   ]
  },
  {
   "cell_type": "code",
   "execution_count": null,
   "metadata": {
    "collapsed": true,
    "scrolled": false
   },
   "outputs": [],
   "source": [
    "### PLOTTING ERRORS ON CORRELATIONS IN 2D\n",
    "for i in range(n):\n",
    "    a = 1\n",
    "    \n",
    "    plt.figure(dpi=150)\n",
    "    kdraw.plot_function_kag(errf[i][0], L[i], a)\n",
    "    plt.title('L = {0}'.format(L[i]))\n",
    "    #plt.clim(-1,1)\n",
    "    plt.savefig('./' + foldername + 'Plots' + results_foldername+ '/CorrelationsErr0_L{0}_various-nsms.png'.format(L[i]))\n",
    "    plt.savefig('./' + foldername + 'Plots' + results_foldername+ '/CorrelationsErr0_L{0}.pgf'.format(L[i]))\n",
    "    plt.show()\n",
    "    \n",
    "    \n",
    "    plt.figure(dpi=150)\n",
    "    kdraw.plot_function_kag(errf[i][1], L[i], a)\n",
    "    plt.title('L = {0}'.format(L[i]))\n",
    "    #plt.clim(-1,1)\n",
    "    plt.savefig('./' + foldername + 'Plots' + results_foldername+ '/CorrelationsErr1_L{0}_various-nsms.png'.format(L[i]))\n",
    "    plt.savefig('./' + foldername + 'Plots' + results_foldername+ '/CorrelationsErr1_L{0}.pgf'.format(L[i]))\n",
    "    plt.show()\n",
    "    \n",
    "    plt.figure(dpi=150)\n",
    "    kdraw.plot_function_kag(errf[i][2], L[i], a)\n",
    "    plt.title('L = {0}'.format(L[i]))\n",
    "    #plt.clim(-1,1)\n",
    "    plt.savefig('./' + foldername + 'Plots' + results_foldername+ '/CorrelationsErr2_L{0}_various-nsms.png'.format(L[i]))\n",
    "    plt.savefig('./' + foldername + 'Plots' + results_foldername+ '/CorrelationsErr2_L{0}.pgf'.format(L[i]))\n",
    "    plt.show()\n",
    "    \n",
    "    plt.figure(dpi=150)\n",
    "    kdraw.plot_function_kag(errcorr[i][0], L[i], a)\n",
    "    plt.title('L = {0}'.format(L[i]))\n",
    "    #plt.clim(-1,1)\n",
    "    plt.savefig('./' + foldername + 'Plots' + results_foldername+ '/CorrelationsErr0_L{0}_various-nsms.png'.format(L[i]))\n",
    "    plt.savefig('./' + foldername + 'Plots' + results_foldername+ '/CorrelationsErr0_L{0}.pgf'.format(L[i]))\n",
    "    plt.show()\n",
    "    \n",
    "    \n",
    "    plt.figure(dpi=150)\n",
    "    kdraw.plot_function_kag(errcorr[i][1], L[i], a)\n",
    "    plt.title('L = {0}'.format(L[i]))\n",
    "    #plt.clim(-1,1)\n",
    "    plt.savefig('./' + foldername + 'Plots' + results_foldername+ '/CorrelationsErr1_L{0}_various-nsms.png'.format(L[i]))\n",
    "    plt.savefig('./' + foldername + 'Plots' + results_foldername+ '/CorrelationsErr1_L{0}.pgf'.format(L[i]))\n",
    "    plt.show()\n",
    "    \n",
    "    plt.figure(dpi=150)\n",
    "    kdraw.plot_function_kag(errcorr[i][2], L[i], a)\n",
    "    plt.title('L = {0}'.format(L[i]))\n",
    "    #plt.clim(-1,1)\n",
    "    plt.savefig('./' + foldername + 'Plots' + results_foldername+ '/CorrelationsErr2_L{0}_various-nsms.png'.format(L[i]))\n",
    "    plt.savefig('./' + foldername + 'Plots' + results_foldername+ '/CorrelationsErr2_L{0}.pgf'.format(L[i]))\n",
    "    plt.show()"
   ]
  },
  {
   "cell_type": "code",
   "execution_count": null,
   "metadata": {
    "collapsed": true
   },
   "outputs": [],
   "source": [
    "def dist_corr(L, findex, corr, errf,distmax):\n",
    "    distances, distances_spins, NNList, s_pos, srefs = kf.NearestNeighboursLists(L, distmax)\n",
    "    \n",
    "    C = [[0 for i in range(len(NNList[0]))] for j in range(len(srefs))]\n",
    "    ErrC = [[0 for i in range(len(NNList[0]))] for j in range(len(srefs))]\n",
    "    for j in range(len(srefs)):\n",
    "        for i in range(len(NNList[0])):\n",
    "            Corrji = 0\n",
    "            ErrCorrji = 0\n",
    "            count = 0\n",
    "            for pair in NNList[j][i]:\n",
    "                if srefs[j] == pair[0]:\n",
    "                    count += 1\n",
    "                    Corrji += corr[findex][j][pair[1]]\n",
    "                    ErrCorrji += errf[findex][j][pair[1]]\n",
    "            Corrji = Corrji/count\n",
    "            ErrCorrji = ErrCorrji/count\n",
    "\n",
    "            \n",
    "            C[j][i] = Corrji\n",
    "            ErrC[j][i]= ErrCorrji\n",
    "        C[j] = np.array(C[j])\n",
    "        ErrC[j] = np.array(ErrC[j])\n",
    "\n",
    "    C = np.array(sum(C))/3\n",
    "    ErrC = np.array(sum(ErrC))/3\n",
    "    return distances, C, ErrC\n",
    "        "
   ]
  },
  {
   "cell_type": "code",
   "execution_count": null,
   "metadata": {
    "collapsed": true
   },
   "outputs": [],
   "source": [
    "def dist_lincorr(L,findex, corr, errf,distmax):\n",
    "    distances, distances_spins, NNList, s_pos, srefs = kf.NearestNeighboursLists(L, distmax)\n",
    "    rdistances = []\n",
    "    C = [[0 for i in range(len(NNList[0]))] for j in range(len(srefs))]\n",
    "    ErrC = [[0 for i in range(len(NNList[0]))] for j in range(len(srefs))]\n",
    "    for j in range(len(srefs)):\n",
    "        ci = 0\n",
    "        for i in range(len(NNList[0])):\n",
    "            #if i == 0 or i == 2 or i == 5 or i == 9:\n",
    "                Corrji = 0\n",
    "                ErrCorrji = 0\n",
    "                count = 0\n",
    "                for pair in NNList[j][i]:\n",
    "                    if srefs[j] == pair[0]:\n",
    "                        count += 1\n",
    "                        Corrji += corr[findex][j][pair[1]]\n",
    "                        ErrCorrji += errf[findex][j][pair[1]]\n",
    "                Corrji = Corrji/count\n",
    "                ErrCorrji = ErrCorrji/count\n",
    "\n",
    "\n",
    "                C[j][ci] = Corrji\n",
    "                ErrC[j][ci]= ErrCorrji\n",
    "                ci = ci+1\n",
    "                rdistances.append(distances[i])\n",
    "        C[j] = np.array(C[j])\n",
    "        ErrC[j] = np.array(ErrC[j])\n",
    "\n",
    "    C = np.array(sum(C))/3\n",
    "    ErrC = np.array(sum(ErrC))/3\n",
    "    return rdistances, C, ErrC"
   ]
  },
  {
   "cell_type": "code",
   "execution_count": null,
   "metadata": {
    "collapsed": true
   },
   "outputs": [],
   "source": [
    "i = 0\n",
    "distances, distances_spins, NNList, s_pos, srefs = kf.NearestNeighboursLists(L[i],4)"
   ]
  },
  {
   "cell_type": "code",
   "execution_count": null,
   "metadata": {
    "collapsed": true
   },
   "outputs": [],
   "source": [
    "i=0\n",
    "resr, rescorr, reserrcorr = dist_lincorr(L[i], i ,corr, errcorr, 12);"
   ]
  },
  {
   "cell_type": "code",
   "execution_count": null,
   "metadata": {
    "collapsed": true
   },
   "outputs": [],
   "source": [
    "rescorr"
   ]
  },
  {
   "cell_type": "code",
   "execution_count": null,
   "metadata": {
    "collapsed": true,
    "scrolled": false
   },
   "outputs": [],
   "source": [
    "## PLOT RADIAL DEPENDENCE OF THE CORRELATIONS (AND SPOTTING THE FIRST SEVEN SITES)\n",
    "minr = []\n",
    "maxr = []\n",
    "\n",
    "rpos = [[] for _ in range(n)]\n",
    "corrpos = [[] for _ in range(n)]\n",
    "errcorrpos = [[] for _ in range(n)]\n",
    "\n",
    "rneg = [[] for _ in range(n)]\n",
    "corrneg = [[] for _ in range(n)]\n",
    "errcorrneg = [[] for _ in range(n)]\n",
    "\n",
    "rtot = [[] for _ in range(n)]\n",
    "corrtot = [[] for _ in range(n)]\n",
    "errcorrtot = [[] for _ in range(n)]\n",
    "\n",
    "firstfewposlist = []\n",
    "distmax = 6\n",
    "\n",
    "resrlist = [[] for _ in range(n)]\n",
    "for i in range(n):\n",
    "    distmin = 0.5\n",
    "    (resr, rescorr, reserrcorr) = dist_lincorr(L[i], i ,corr, errcorr, distmax)\n",
    "    #firstfewposlist.append(firstfewpos)\n",
    "    #print(rescorr)\n",
    "    print(rescorr)\n",
    "    resrlist[i] = resr\n",
    "    for index, correl in enumerate(rescorr):\n",
    "        if correl >= 0:\n",
    "            rpos[i].append(resr[index])\n",
    "            rtot[i].append(resr[index])\n",
    "            corrpos[i].append(correl)\n",
    "            corrtot[i].append(correl)\n",
    "            errcorrpos[i].append(reserrcorr[index])\n",
    "            errcorrtot[i].append(reserrcorr[index])\n",
    "        else:\n",
    "            rneg[i].append(resr[index])\n",
    "            rtot[i].append(resr[index])\n",
    "            corrneg[i].append(-correl)\n",
    "            corrtot[i].append(-correl)\n",
    "            errcorrneg[i].append(reserrcorr[index])\n",
    "            errcorrtot[i].append(reserrcorr[index])\n",
    "\n",
    "    rpos[i] = np.array(rpos[i])\n",
    "    rneg[i] = np.array(rneg[i])\n",
    "    rtot[i] = np.array(rtot[i])\n",
    "    minr.append(min(rtot[i]))\n",
    "    maxr.append(max(rtot[i]))\n",
    "    corrpos[i] = np.array(corrpos[i])\n",
    "    corrneg[i] = np.array(corrneg[i])\n",
    "    corrtot[i] = np.array(corrtot[i])\n",
    "    errcorrpos[i] = np.array(errcorrpos[i])\n",
    "    errcorrneg[i] = np.array(errcorrneg[i])\n",
    "    errcorrtot[i] = np.array(errcorrtot[i])\n",
    "    \n",
    "    #fig = plt.figure()\n",
    "    #ax = fig.add_subplot(111)\n",
    "    fig, ax = plt.subplots(dpi=200) # short for the above\n",
    "    ax.set_yscale(\"log\", nonposy='clip')\n",
    "    #plt.semilogy(rpos[i], corrpos[i], '.')\n",
    "    plt.errorbar(rpos[i], corrpos[i], yerr=errcorrpos[i], fmt = '.')\n",
    "    plt.hlines([maxerr[i]], minr[i], maxr[i])\n",
    "    plt.xlabel(r'$r$')\n",
    "    plt.ylabel(r'$<\\sigma_i \\sigma_j>(r) - <\\sigma_i> <\\sigma_j>(r) $ (logscale)')\n",
    "    plt.title('Correlations L={0}'.format(L[i]))\n",
    "    plt.savefig('./' + foldername + 'Plots' + results_foldername+ '/Correlations_Pos_L={0}_various-nsms.png'.format(L[i]))\n",
    "    \n",
    "    fig, ax = plt.subplots(dpi=200) # short for the above\n",
    "    ax.set_yscale(\"log\", nonposy='clip')\n",
    "    #plt.semilogy(rpos[i], corrpos[i], '.')\n",
    "    plt.errorbar(rneg[i], corrneg[i], yerr=errcorrneg[i], fmt = '.')\n",
    "    plt.hlines([maxerr[i]], minr[i],maxr[i])\n",
    "    plt.xlabel(r'$r$')\n",
    "    plt.ylabel(r'$<\\sigma_i \\sigma_j>(r) - <\\sigma_i> <\\sigma_j>(r) $ (logscale)')\n",
    "    plt.title('Correlations L={0}'.format(L[i]))\n",
    "    plt.savefig('./' + foldername + 'Plots' + results_foldername+ '/Correlations_Neg_L={0}_various-nsms.png'.format(L[i]))\n",
    "    \n",
    "    fig, ax = plt.subplots(dpi=200, figsize = (9,6)) # short for the above\n",
    "    ax.set_yscale(\"log\", nonposy='clip')\n",
    "    plt.errorbar(rneg[i], corrneg[i], yerr=errcorrneg[i], fmt = '.', color = 'red')\n",
    "    plt.errorbar(rpos[i], corrpos[i], yerr=errcorrpos[i], fmt = '.', color = 'blue')\n",
    "    plt.hlines([maxerr[i]], minr[i],maxr[i])\n",
    "    plt.xlabel(r'$r$')\n",
    "    plt.ylabel(r'$<\\sigma_i \\sigma_j>(r) - <\\sigma_i> <\\sigma_j>(r) $ (logscale)')\n",
    "    plt.title('Correlations L={0}'.format(L[i]))\n",
    "    plt.savefig('./' + foldername + 'Plots' + results_foldername+ '/Correlations_L={0}_various-nsms.png'.format(L[i]))\n",
    "#print(errcorrneg[i])"
   ]
  },
  {
   "cell_type": "code",
   "execution_count": null,
   "metadata": {
    "collapsed": true
   },
   "outputs": [],
   "source": [
    "fig, ax = plt.subplots(dpi=200)\n",
    "for i in range(n): \n",
    "    ax.set_yscale(\"log\", nonposy='clip')\n",
    "    plt.errorbar(rtot[i], corrtot[i], yerr=errcorrtot[i], fmt = '.', color = 'red')\n",
    "    plt.hlines([maxerr[i]], minr[i],maxr[i])\n",
    "    \n",
    "print(corrtot[i])\n",
    "print(errcorrtot[i])\n",
    "plt.xlabel(r'$r$')\n",
    "plt.ylabel(r'$<\\sigma_i \\sigma_j>(r) - <\\sigma_i> <\\sigma_j>(r) $ (logscale)')\n",
    "plt.title('Correlations L={0}'.format(L[i]))\n",
    "plt.savefig('./' + foldername + 'Plots' + results_foldername+ '/Correlations_L={0}_various-nsms_semilogy.png'.format(L[i]))"
   ]
  },
  {
   "cell_type": "code",
   "execution_count": null,
   "metadata": {
    "collapsed": true
   },
   "outputs": [],
   "source": [
    "### FITING\n",
    "def algebraic(x, a, eta):\n",
    "    return a / (x ** eta)\n",
    "def expfunc(x, a, b):\n",
    "    return a * np.exp(-b * x)"
   ]
  },
  {
   "cell_type": "code",
   "execution_count": null,
   "metadata": {
    "collapsed": true,
    "scrolled": false
   },
   "outputs": [],
   "source": [
    "from scipy.optimize import curve_fit\n",
    "\n",
    "poptalgpos = [[] for _ in range(n)]\n",
    "pcovalgpos = [[] for _ in range(n)]\n",
    "\n",
    "poptalgneg = [[] for _ in range(n)]\n",
    "pcovalgneg = [[] for _ in range(n)]\n",
    "\n",
    "poptexppos = [[] for _ in range(n)]\n",
    "pcovexppos = [[] for _ in range(n)]\n",
    "\n",
    "poptexpneg = [[] for _ in range(n)]\n",
    "pcovexpneg = [[] for _ in range(n)]\n",
    "\n",
    "poptexp = [[] for _ in range(n)]\n",
    "pcovexp = [[] for _ in range(n)]\n",
    "\n",
    "rposmax = 25\n",
    "rnegmax = 25\n",
    "rtotmax = 50\n",
    "for i in range(0, n,1):\n",
    "    print(i)\n",
    "    \n",
    "    poptalgpos[i], pcovalgpos[i] = curve_fit(algebraic, rpos[i][1:rposmax], corrpos[i][1:rposmax], bounds = (0, [2., 10]))\n",
    "    poptalgneg[i], pcovalgneg[i] = curve_fit(algebraic, rneg[i][1:rnegmax], corrneg[i][1:rnegmax], bounds = (0, [2., 10]))\n",
    "    \n",
    "    print(i, 'alg')\n",
    "    \n",
    "    poptexppos[i], pcovexppos[i] = curve_fit(expfunc, rpos[i][0:rposmax], corrpos[i][0:rposmax], bounds = (0, [2., 4.]))\n",
    "    poptexpneg[i], pcovexpneg[i] = curve_fit(expfunc, rneg[i][0:rnegmax], corrneg[i][0:rnegmax], bounds = (0, [2., 4.]))\n",
    "    poptexp[i], pcovexp[i] = curve_fit(expfunc, rtot[i][0:rtotmax], corrtot[i][0:rtotmax], bounds=(0, [2., 4.]))\n",
    "    print(i, 'exp')\n",
    "\n",
    "    plt.figure(dpi=200)\n",
    "    plt.loglog(rpos[i][1:rposmax], corrpos[i][1:rposmax], '.')\n",
    "    plt.loglog(rpos[i][1:rposmax], algebraic(rpos[i][1:rposmax], *poptalgpos[i]), 'b-', label='fit: a=%5.3f, eta=%5.3f' % tuple(poptalgpos[i]))\n",
    "    plt.loglog(rneg[i][1:rnegmax], corrneg[i][1:rnegmax], '.', color='red')\n",
    "    plt.loglog(rneg[i][1:rnegmax], algebraic(rneg[i][1:rnegmax], *poptalgneg[i]), 'r-', label='fit: a=%5.3f, eta=%5.3f' % tuple(poptalgneg[i])) \n",
    "    plt.xlabel(r'$r$')\n",
    "    plt.ylabel(r'$<\\sigma_i \\sigma_j>(r) - <\\sigma_i> <\\sigma_j>(r) $')\n",
    "    plt.legend()\n",
    "    plt.title('Correlations L={0} and algebraic fit'.format(L[i]))\n",
    "    plt.savefig('./' + foldername + 'Plots' + results_foldername+ '/Correlations_AndAlgFit_L={0}_distmin=05_various-nsms.png'.format(L[i]))\n",
    "    plt.show()\n",
    "   \n",
    "    print(errcorrpos[i])\n",
    "    fig, ax = plt.subplots(dpi=200, figsize = (9,6))\n",
    "    ax.set_yscale(\"log\")#, nonposy='clip')\n",
    "    plt.errorbar(rpos[i], corrpos[i], yerr=errcorrpos[i], fmt= '.')\n",
    "    plt.errorbar(rneg[i], corrneg[i], yerr=errcorrneg[i], fmt ='.', color='red')\n",
    "    plt.plot(rpos[i][0:rposmax], expfunc(rpos[i][0:rposmax], *poptexppos[i]), 'b-', label='fit: a=%5.3f, b=%5.3f' % tuple(poptexppos[i]))\n",
    "    plt.plot(rneg[i][0:rnegmax], expfunc(rneg[i][0:rnegmax], *poptexpneg[i]), 'r-', label='fit: a=%5.3f, b=%5.3f' % tuple(poptexpneg[i]))\n",
    "    plt.plot(rtot[i][0:rtotmax], expfunc(rtot[i][0:rtotmax], *poptexp[i]), 'k-', label='fit: a=%5.3f, b=%5.3f' % tuple(poptexp[i]))\n",
    "    plt.xlabel(r'$r$')\n",
    "    plt.ylabel(r'$<\\sigma_i \\sigma_j>(r) - <\\sigma_i> <\\sigma_j>(r) $')\n",
    "    plt.legend()\n",
    "    plt.title('Correlations L={0} and exp fit'.format(L[i]))\n",
    "    plt.savefig('./' + foldername + 'Plots' + results_foldername+ '/Correlations_semilogy_AndexpFit_L={0}_distmin=05_various-nsms.png'.format(L[i]))\n",
    "    #"
   ]
  },
  {
   "cell_type": "code",
   "execution_count": null,
   "metadata": {
    "collapsed": true
   },
   "outputs": [],
   "source": [
    "t=0\n",
    "for i in range(n):\n",
    "    corr = [np.array(t_MeanSs[i])[t,:,:]]\n",
    "print(corr[0])"
   ]
  },
  {
   "cell_type": "code",
   "execution_count": null,
   "metadata": {
    "collapsed": true
   },
   "outputs": [],
   "source": [
    "t=0\n",
    "for i in range(n):\n",
    "    corr = [np.array(t_MeanCorr[i])[:,t,:]]\n",
    "print(corr[0])"
   ]
  },
  {
   "cell_type": "code",
   "execution_count": null,
   "metadata": {
    "collapsed": true,
    "scrolled": false
   },
   "outputs": [],
   "source": [
    "\n",
    "distmax = 3.5\n",
    "nlistnames = ['1', '2', '3', '3star', '4', '5', '6', '6star']\n",
    "fig, ax = plt.subplots(dpi=200, figsize = (9,9))\n",
    "ax.set_xscale(\"log\")\n",
    "plt.title('First few neighbours correlations')\n",
    "fmts = ['.','x','v','-','^']\n",
    "for i in range(n):\n",
    "    \n",
    "    length = len(temperatures_plots[i])\n",
    "    fmt = fmts[i]\n",
    "    for t in range(40,length):\n",
    "        \n",
    "        corr = [np.array(t_MeanCorr[i])[:,t,:]]\n",
    "        errcorr = [np.sqrt(np.array(t_errCorrEstim[i])[:,t])]\n",
    "        (resr, rescorr, reserrcorr) = dist_corr(L[i], 0 ,corr, errcorr, distmax)\n",
    "        if t == 40:\n",
    "                print(rescorr)\n",
    "        plt.gca().set_prop_cycle(None)\n",
    "        alpha = 0.5\n",
    "        for nei in range(0,len(rescorr)):\n",
    "            if t == 40:\n",
    "                plt.errorbar(temperatures_plots[i][t], rescorr[nei], reserrcorr[nei], fmt = fmt,label = 'Neighbour {0}'.format(nlistnames[nei]), alpha = alpha)\n",
    "            else:\n",
    "                plt.errorbar(temperatures_plots[i][t], rescorr[nei], reserrcorr[nei], fmt = fmt, alpha = alpha)\n",
    "\n",
    "    #expcov = np.load('covariance.txt.npy')\n",
    "    #experr = np.load('error.txt.npy')\n",
    "    #plt.gca().set_prop_cycle(None)\n",
    "    #for nei in range(0,len(rescorr)):\n",
    "    #    plt.errorbar(2.3, expcov[nei], np.sqrt(experr[nei]), fmt = 'x', label = 'Neighbour {0}'.format(nlistnames[nei]))\n",
    "    plt.xlabel(r'$T/J_1$')\n",
    "    plt.ylabel(r'$<\\sigma_i \\sigma_j> - <\\sigma_i> <\\sigma_j> $')\n",
    "    plt.legend(loc = 'best')\n",
    "    plt.savefig('./' + foldername + 'Plots' + results_foldername+ '/FewCorrelations_L={0}_various-nsms_semilogT.png'.format(L[i]))"
   ]
  }
 ],
 "metadata": {
  "kernelspec": {
   "display_name": "Python 3",
   "language": "python",
   "name": "python3"
  },
  "language_info": {
   "codemirror_mode": {
    "name": "ipython",
    "version": 3
   },
   "file_extension": ".py",
   "mimetype": "text/x-python",
   "name": "python",
   "nbconvert_exporter": "python",
   "pygments_lexer": "ipython3",
   "version": "3.5.3"
  }
 },
 "nbformat": 4,
 "nbformat_minor": 2
}
