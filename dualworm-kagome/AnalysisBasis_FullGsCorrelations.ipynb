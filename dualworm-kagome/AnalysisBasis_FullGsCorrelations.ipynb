{
 "cells": [
  {
   "cell_type": "code",
   "execution_count": null,
   "metadata": {
    "collapsed": true
   },
   "outputs": [],
   "source": [
    "# Import modules\n",
    "import numpy as np # maths\n",
    "\n",
    "from time import time# timer for debug\n",
    "\n",
    "    # gather results obtained from the runs\n",
    "import hickle as hkl # open .pkl files where python objects have been saved\n",
    "from safe import safe # the empty class which is used to save the results\n",
    "    \n",
    "    # system commands\n",
    "\n",
    "import os\n",
    "    \n",
    "    # interact with the C++ core and the Python core\n",
    "import dimers as dim # C++ interface module\n",
    "import KagomeFunctions as kf # \"library\" allowing to work on Kagome\n",
    "import KagomeDrawing as kdraw # \"library\" allowing to plot Kagome\n",
    "import Observables as obs #observables that can be used by the run script\n",
    "import KagomeFT as kft #small functions to compute the FT\n",
    "import AnalysisFunctions as af # functions to make the analysis code cleaner\n",
    "    #plots using matplotlib\n",
    "import matplotlib\n",
    "import matplotlib.pyplot as plt\n",
    "%matplotlib inline\n",
    "matplotlib.rcParams['axes.unicode_minus'] = False\n",
    "matplotlib.rcParams.update({'font.size': 14, 'pgf.texsystem':'pdflatex'})"
   ]
  },
  {
   "cell_type": "code",
   "execution_count": null,
   "metadata": {
    "collapsed": true
   },
   "outputs": [],
   "source": [
    "# Create a folder to save the pictures\n",
    "foldername = '../Analysis_PSI/TheoreticalStructureFactors/Runs_04-02-20_StrctFact/KJ1h_L8_nsm32768_folder/'\n",
    "results_foldername = '11-02-2020/'\n",
    "os.makedirs('./' + foldername + 'Plots' + results_foldername, exist_ok = True)\n",
    "\n",
    "filenamelist = ['backup']\n",
    "n = len(filenamelist)"
   ]
  },
  {
   "cell_type": "code",
   "execution_count": null,
   "metadata": {
    "collapsed": false,
    "scrolled": false
   },
   "outputs": [],
   "source": [
    "[L, numsites, J1, J2, J3, J3st, J4, nb, num_in_bin, temperatures,\n",
    " nt, stat_temps, temperatures_plots, hfields, nh, stat_hfields,\n",
    " hfields_plots, listfunctions, sref] = af.LoadParameters(foldername, filenamelist)"
   ]
  },
  {
   "cell_type": "code",
   "execution_count": null,
   "metadata": {
    "collapsed": true
   },
   "outputs": [],
   "source": [
    "kw = {'binning':False, 'plzplot': False,\n",
    "      'plotmin': 0, 'plotmax': 20}"
   ]
  },
  {
   "cell_type": "code",
   "execution_count": null,
   "metadata": {
    "collapsed": true,
    "scrolled": false
   },
   "outputs": [],
   "source": [
    "[t_h_MeanE, t_h_MeanEsq, t_h_varMeanE, t_h_varMeanEsq, C, ErrC] = \\\n",
    " af.LoadEnergy(foldername, filenamelist, numsites, nb,\n",
    "               stat_temps, temperatures, stat_hfields,\n",
    "               listfunctions, **kw)"
   ]
  },
  {
   "cell_type": "code",
   "execution_count": null,
   "metadata": {
    "collapsed": true,
    "scrolled": false
   },
   "outputs": [],
   "source": [
    "[t_h_MeanM, t_h_MeanMsq, t_h_varMeanM, t_h_varMeanMsq, Chi, ErrChi] = \\\n",
    " af.LoadMagnetisation(foldername, filenamelist, numsites, nb,\n",
    "                      stat_temps, temperatures, stat_hfields,listfunctions, **kw)"
   ]
  },
  {
   "cell_type": "code",
   "execution_count": null,
   "metadata": {
    "collapsed": false,
    "scrolled": false
   },
   "outputs": [],
   "source": [
    "t_h_MeanSs, t_h_varMeanSs, t_h_MeanSi, t_h_varMeanSi, t_h_MeanCorr, t_h_errCorrEstim = \\\n",
    " af.LoadCentralCorrelations(foldername, filenamelist, listfunctions, sref, stat_temps[0:4], stat_hfields, nb, **kw)\n"
   ]
  },
  {
   "cell_type": "code",
   "execution_count": null,
   "metadata": {
    "collapsed": false,
    "scrolled": false
   },
   "outputs": [],
   "source": [
    "###########################################\n",
    "        ## ALGORITHM ANALYSIS ##\n",
    "###########################################\n",
    "tidmin = 0\n",
    "tidmax = nt\n",
    "swapst_th, swapsh_th, swapst, swapsh = af.LoadSwaps(foldername, filenamelist, nb, num_in_bin, nh, nt)\n",
    "af.SwapsAnalysis(L, n, tidmin, tidmax, temperatures, hfields, foldername, results_foldername, swapst, swapsh)"
   ]
  },
  {
   "cell_type": "code",
   "execution_count": null,
   "metadata": {
    "collapsed": false,
    "scrolled": false
   },
   "outputs": [],
   "source": [
    "###########################################\n",
    "        ## STATISTICS ANALYSIS ##\n",
    "###########################################\n",
    "tidmin = 0\n",
    "tidmax = [len(stat_temps[i]) for i in range(n)]\n",
    "temperatures_plots = np.array(temperatures_plots)\n",
    "if nh > nt:\n",
    "    ploth = True\n",
    "else:\n",
    "    ploth = False\n",
    "### Energy\n",
    "kwargs = {'RS':True, 'ploth': ploth}\n",
    "af.BasicPlotsE(L, n, tidmin, tidmax, temperatures_plots, hfields_plots,\n",
    "               foldername, results_foldername, filenamelist, t_h_MeanE,\n",
    "               t_h_MeanEsq, t_h_varMeanE, t_h_varMeanEsq, C, ErrC, J1, J2, J3, J4, **kwargs)\n"
   ]
  },
  {
   "cell_type": "code",
   "execution_count": null,
   "metadata": {
    "collapsed": false,
    "scrolled": false
   },
   "outputs": [],
   "source": [
    "### Magnetisation\n",
    "af.BasicPlotsM(L, n, tidmin, tidmax, temperatures_plots, hfields_plots,\n",
    "               foldername, results_foldername, filenamelist, t_h_MeanM,\n",
    "               t_h_MeanMsq, t_h_varMeanM, t_h_varMeanMsq, Chi, ErrChi,\n",
    "               J1, J2, J3, J4, **kwargs)"
   ]
  },
  {
   "cell_type": "code",
   "execution_count": null,
   "metadata": {
    "collapsed": false
   },
   "outputs": [],
   "source": [
    "# Check correlations\n",
    "t_h_MeanSisq1 = []\n",
    "t_h_MeanSifile = np.copy(t_h_MeanSi[0])\n",
    "for i in range(len(sref[0])):\n",
    "        column = t_h_MeanSifile[:, :, sref[0][i]]\n",
    "        column = column[:,:,np.newaxis]\n",
    "        t_h_MeanSisq1.append(t_h_MeanSifile*column)\n",
    "\n",
    "t_h_MeanSisq2 = [] \n",
    "t_h_MeanCorrCheck = [np.copy(t_h_MeanSs[0][:,:,i,:]) for i in range(len(sref[0]))]\n",
    "for i in range(len(sref[0])):\n",
    "    t_h_MeanSisq2.append(np.zeros(t_h_MeanSs[0][:,:,i,:].shape))\n",
    "    for sid in range(9*L[0]**2):\n",
    "        x = t_h_MeanSifile[:,:,sref[0][i]]*t_h_MeanSifile[:,:,sid]\n",
    "        t_h_MeanCorrCheck[i][:,:,sid] += -x\n",
    "        t_h_MeanSisq2[i][:,:,sid] = x\n",
    "for srefid in range(3):\n",
    "    print(\"Correlations difference\",\n",
    "          np.amax(t_h_MeanCorrCheck[srefid]-t_h_MeanCorr[0][srefid]))\n",
    "    print(\"Si expectation value difference\",\n",
    "          np.amax(t_h_MeanSisq1[srefid]-t_h_MeanSisq2[srefid]))"
   ]
  },
  {
   "cell_type": "code",
   "execution_count": null,
   "metadata": {
    "collapsed": false,
    "scrolled": false
   },
   "outputs": [],
   "source": [
    "### COMPUTING CORRELATIONS FROM <SISJ> AND <SI> and plotting in 2D\n",
    "if not ploth:\n",
    "    tid = 1\n",
    "    hid = 1\n",
    "    rid = tid\n",
    "else:\n",
    "    tid = 9\n",
    "    hid = 15\n",
    "    rid = hid\n",
    "\n",
    "[corr, errcorr, maxerr] = af.PrepPlot2DCorrelations(rid, n, \n",
    "                                                t_h_MeanCorr,\n",
    "                                                t_h_errCorrEstim,\n",
    "                                                t_h_MeanSi,\n",
    "                                                hfields_plots,\n",
    "                                                temperatures_plots,\\\n",
    "                                                ploth = ploth)\n",
    "print(\"t = \",temperatures_plots[0][tid])\n",
    "print(\"h = \",hfields_plots[0][hid])"
   ]
  },
  {
   "cell_type": "code",
   "execution_count": null,
   "metadata": {
    "collapsed": false,
    "scrolled": true
   },
   "outputs": [],
   "source": [
    "af.BasicPlotsCorrelations2D(foldername, results_foldername, rid,\n",
    "                            n,L,corr,errcorr,\n",
    "                            t_h_MeanSi, hfields_plots, \n",
    "                            temperatures_plots,\n",
    "                            ploth = ploth)"
   ]
  },
  {
   "cell_type": "code",
   "execution_count": null,
   "metadata": {
    "collapsed": false,
    "scrolled": true
   },
   "outputs": [],
   "source": [
    "# Check structure factor:\n",
    "testMeanCorr = [np.zeros(t_h_MeanCorr[0].shape)]\n",
    "testMeanCorr[0][0, :,:,sref[0][0]] = 1\n",
    "testMeanCorr[0][1, :,:,sref[0][1]] = 1\n",
    "testMeanCorr[0][2, :,:,sref[0][2]] = 1\n",
    "StrctFact =\\\n",
    "kft.StrctFact(L[0],\n",
    "              np.array(testMeanCorr[0])[:,tid,hid,:],\\\n",
    "              centered = True, srefs = sref[0])\n",
    "af.PlotStrctFact(StrctFact, foldername, results_foldername, tid,\n",
    "                 hid, L, 0, hfields_plots, temperatures_plots, \n",
    "                 vmindiag = 0.4, vmaxdiag = 1.6, vminoff = -0.6, vmaxoff = 0.6)"
   ]
  },
  {
   "cell_type": "code",
   "execution_count": null,
   "metadata": {
    "collapsed": false,
    "scrolled": true
   },
   "outputs": [],
   "source": [
    "## COMPUTE AND PLOT STRUCTURE FACTORS\n",
    "i = 0\n",
    "\n",
    "StrctFact =\\\n",
    "kft.StrctFact(L[i],\n",
    "              np.array(t_h_MeanCorr[i])[:,tid,hid,:],\\\n",
    "              centered = True, srefs = sref[i])\n",
    "vmin = 1.5\n",
    "vmax = 2.5\n",
    "\n",
    "af.PlotStrctFact(StrctFact, foldername, results_foldername, tid,\n",
    "                 hid, L, i, hfields_plots, temperatures_plots,\n",
    "                 vmindiag = 0.4, vmaxdiag = 1.6,vminoff = -0.6, vmaxoff = 0.6)"
   ]
  },
  {
   "cell_type": "code",
   "execution_count": null,
   "metadata": {
    "collapsed": false,
    "scrolled": true
   },
   "outputs": [],
   "source": [
    "af.PlotFirstCorrelations(n, L,foldername, results_foldername,  hfields_plots, temperatures_plots,\n",
    "                         t_h_MeanCorr, t_h_errCorrEstim,\\\n",
    "                         distmax = 2, ploth = ploth)"
   ]
  },
  {
   "cell_type": "code",
   "execution_count": null,
   "metadata": {
    "collapsed": true
   },
   "outputs": [],
   "source": [
    "############ OLD CODE ################"
   ]
  },
  {
   "cell_type": "code",
   "execution_count": null,
   "metadata": {
    "collapsed": true
   },
   "outputs": [],
   "source": [
    "#def dist_lincorr(L,findex, corr, errf,distmax):\n",
    "#    distances, distances_spins, NNList, s_pos, srefs = kf.NearestNeighboursLists(L, distmax)\n",
    "#    rdistances = []\n",
    "#    C = [[0 for i in range(len(NNList[0]))] for j in range(len(srefs))]\n",
    "#    ErrC = [[0 for i in range(len(NNList[0]))] for j in range(len(srefs))]\n",
    "#    for j in range(len(srefs)):\n",
    "#        ci = 0\n",
    "#        for i in range(len(NNList[0])):\n",
    "#            #if i == 0 or i == 2 or i == 5 or i == 9:\n",
    "#                Corrji = 0\n",
    "#                ErrCorrji = 0\n",
    "#                count = 0\n",
    "#                for pair in NNList[j][i]:\n",
    "#                    if srefs[j] == pair[0]:\n",
    "#                        count += 1\n",
    "#                        Corrji += corr[findex][j][pair[1]]\n",
    "#                        ErrCorrji += errf[findex][j][pair[1]]\n",
    "#                if count == 0:\n",
    "#                    print(\"Warning, sthg weird with count\")\n",
    "#                    count = 1\n",
    "#                Corrji = Corrji/count\n",
    "#                ErrCorrji = ErrCorrji/count\n",
    "#\n",
    "#\n",
    "#                C[j][ci] = Corrji\n",
    "#                ErrC[j][ci]= ErrCorrji\n",
    "#                ci = ci+1\n",
    "#                rdistances.append(distances[i])\n",
    "#        C[j] = np.array(C[j])\n",
    "#        ErrC[j] = np.array(ErrC[j])\n",
    "#\n",
    "#    C = np.array(sum(C))/3\n",
    "#    ErrC = np.array(sum(ErrC))/3\n",
    "#    return rdistances, C, ErrC"
   ]
  },
  {
   "cell_type": "code",
   "execution_count": null,
   "metadata": {
    "collapsed": true
   },
   "outputs": [],
   "source": [
    "## PLOT RADIAL DEPENDENCE OF THE CORRELATIONS (AND SPOTTING THE FIRST SEVEN SITES)\n",
    "#minr = []\n",
    "#maxr = []\n",
    "#\n",
    "#rpos = [[] for _ in range(n)]\n",
    "#corrpos = [[] for _ in range(n)]\n",
    "#errcorrpos = [[] for _ in range(n)]\n",
    "#\n",
    "#rneg = [[] for _ in range(n)]\n",
    "#corrneg = [[] for _ in range(n)]\n",
    "#errcorrneg = [[] for _ in range(n)]\n",
    "#\n",
    "#rtot = [[] for _ in range(n)]\n",
    "#corrtot = [[] for _ in range(n)]\n",
    "#errcorrtot = [[] for _ in range(n)]\n",
    "#\n",
    "#firstfewposlist = []\n",
    "#distmax = 6\n",
    "#\n",
    "#resrlist = [[] for _ in range(n)]\n",
    "#for i in range(n):\n",
    "#    distmin = 0.5\n",
    "#    (resr, rescorr, reserrcorr) = dist_lincorr(L[i], i ,corr, errcorr, distmax)\n",
    "#    #firstfewposlist.append(firstfewpos)\n",
    "#    #print(rescorr)\n",
    "#    print(rescorr)\n",
    "#    resrlist[i] = resr\n",
    "#    for index, correl in enumerate(rescorr):\n",
    "#        if correl >= 0:\n",
    "#            rpos[i].append(resr[index])\n",
    "#            rtot[i].append(resr[index])\n",
    "#            corrpos[i].append(correl)\n",
    "#            corrtot[i].append(correl)\n",
    "#            errcorrpos[i].append(reserrcorr[index])\n",
    "#            errcorrtot[i].append(reserrcorr[index])\n",
    "#        else:\n",
    "#            rneg[i].append(resr[index])\n",
    "#            rtot[i].append(resr[index])\n",
    "#            corrneg[i].append(-correl)\n",
    "#            corrtot[i].append(-correl)\n",
    "#            errcorrneg[i].append(reserrcorr[index])\n",
    "#            errcorrtot[i].append(reserrcorr[index])\n",
    "#\n",
    "#    rpos[i] = np.array(rpos[i])\n",
    "#    rneg[i] = np.array(rneg[i])\n",
    "#    rtot[i] = np.array(rtot[i])\n",
    "#    minr.append(min(rtot[i]))\n",
    "#    maxr.append(max(rtot[i]))\n",
    "#    corrpos[i] = np.array(corrpos[i])\n",
    "#    corrneg[i] = np.array(corrneg[i])\n",
    "#    corrtot[i] = np.array(corrtot[i])\n",
    "#    errcorrpos[i] = np.array(errcorrpos[i])\n",
    "#    errcorrneg[i] = np.array(errcorrneg[i])\n",
    "#    errcorrtot[i] = np.array(errcorrtot[i])\n",
    "#    \n",
    "#    #fig = plt.figure()\n",
    "#    #ax = fig.add_subplot(111)\n",
    "#    fig, ax = plt.subplots(dpi=200) # short for the above\n",
    "#    ax.set_yscale(\"log\", nonposy='clip')\n",
    "#    #plt.semilogy(rpos[i], corrpos[i], '.')\n",
    "#    plt.errorbar(rpos[i], corrpos[i], yerr=errcorrpos[i], fmt = '.')\n",
    "#    plt.hlines([maxerr[i]], minr[i], maxr[i])\n",
    "#    plt.xlabel(r'$r$')\n",
    "#    plt.ylabel(r'$<\\sigma_i \\sigma_j>(r) - <\\sigma_i> <\\sigma_j>(r) $ (logscale)')\n",
    "#    plt.title('Correlations L={0}'.format(L[i]))\n",
    "#    plt.savefig('./' + foldername + 'Plots' + results_foldername+ '/Correlations_Pos_L={0}_various-nsms.png'.format(L[i]))\n",
    "#    \n",
    "#    fig, ax = plt.subplots(dpi=200) # short for the above\n",
    "#    ax.set_yscale(\"log\", nonposy='clip')\n",
    "#    #plt.semilogy(rpos[i], corrpos[i], '.')\n",
    "#    plt.errorbar(rneg[i], corrneg[i], yerr=errcorrneg[i], fmt = '.')\n",
    "#    plt.hlines([maxerr[i]], minr[i],maxr[i])\n",
    "#    plt.xlabel(r'$r$')\n",
    "#    plt.ylabel(r'$<\\sigma_i \\sigma_j>(r) - <\\sigma_i> <\\sigma_j>(r) $ (logscale)')\n",
    "#    plt.title('Correlations L={0}'.format(L[i]))\n",
    "#    plt.savefig('./' + foldername + 'Plots' + results_foldername+ '/Correlations_Neg_L={0}_various-nsms.png'.format(L[i]))\n",
    "#    \n",
    "#    fig, ax = plt.subplots(dpi=200, figsize = (9,6)) # short for the above\n",
    "#    ax.set_yscale(\"log\", nonposy='clip')\n",
    "#    plt.errorbar(rneg[i], corrneg[i], yerr=errcorrneg[i], fmt = '.', color = 'red')\n",
    "#    plt.errorbar(rpos[i], corrpos[i], yerr=errcorrpos[i], fmt = '.', color = 'blue')\n",
    "#    plt.hlines([maxerr[i]], minr[i],maxr[i])\n",
    "#    plt.xlabel(r'$r$')\n",
    "#    plt.ylabel(r'$<\\sigma_i \\sigma_j>(r) - <\\sigma_i> <\\sigma_j>(r) $ (logscale)')\n",
    "#    plt.title('Correlations L={0}'.format(L[i]))\n",
    "#    plt.savefig('./' + foldername + 'Plots' + results_foldername+ '/Correlations_L={0}_various-nsms.png'.format(L[i]))\n",
    "##print(errcorrneg[i])"
   ]
  },
  {
   "cell_type": "code",
   "execution_count": null,
   "metadata": {
    "collapsed": true
   },
   "outputs": [],
   "source": [
    "#fig, ax = plt.subplots(dpi=200)\n",
    "#for i in range(n): \n",
    "#    ax.set_yscale(\"log\", nonposy='clip')\n",
    "#    plt.errorbar(rtot[i], corrtot[i], yerr=errcorrtot[i], fmt = '.', color = 'red')\n",
    "#    plt.hlines([maxerr[i]], minr[i],maxr[i])\n",
    "#    \n",
    "#print(corrtot[i])\n",
    "#print(errcorrtot[i])\n",
    "#plt.xlabel(r'$r$')\n",
    "#plt.ylabel(r'$<\\sigma_i \\sigma_j>(r) - <\\sigma_i> <\\sigma_j>(r) $ (logscale)')\n",
    "#plt.title('Correlations L={0}'.format(L[i]))\n",
    "#plt.savefig('./' + foldername + 'Plots' + results_foldername+ '/Correlations_L={0}_various-nsms_semilogy.png'.format(L[i]))"
   ]
  },
  {
   "cell_type": "code",
   "execution_count": null,
   "metadata": {
    "collapsed": true
   },
   "outputs": [],
   "source": [
    "#### FITING\n",
    "#def algebraic(x, a, eta):\n",
    "#    return a / (x ** eta)\n",
    "#def expfunc(x, a, b):\n",
    "#    return a * np.exp(-b * x)"
   ]
  },
  {
   "cell_type": "code",
   "execution_count": null,
   "metadata": {
    "collapsed": true
   },
   "outputs": [],
   "source": [
    "#from scipy.optimize import curve_fit\n",
    "#\n",
    "#poptalgpos = [[] for _ in range(n)]\n",
    "#pcovalgpos = [[] for _ in range(n)]\n",
    "#\n",
    "#poptalgneg = [[] for _ in range(n)]\n",
    "#pcovalgneg = [[] for _ in range(n)]\n",
    "#\n",
    "#poptexppos = [[] for _ in range(n)]\n",
    "#pcovexppos = [[] for _ in range(n)]\n",
    "#\n",
    "#poptexpneg = [[] for _ in range(n)]\n",
    "#pcovexpneg = [[] for _ in range(n)]\n",
    "#\n",
    "#poptexp = [[] for _ in range(n)]\n",
    "#pcovexp = [[] for _ in range(n)]\n",
    "#\n",
    "#rposmax = 25\n",
    "#rnegmax = 25\n",
    "#rtotmax = 50\n",
    "#for i in range(0, n,1):\n",
    "#    print(i)\n",
    "#    \n",
    "#    poptalgpos[i], pcovalgpos[i] = curve_fit(algebraic, rpos[i][1:rposmax], corrpos[i][1:rposmax], bounds = (0, [2., 10]))\n",
    "#    poptalgneg[i], pcovalgneg[i] = curve_fit(algebraic, rneg[i][1:rnegmax], corrneg[i][1:rnegmax], bounds = (0, [2., 10]))\n",
    "#    \n",
    "#    print(i, 'alg')\n",
    "#    \n",
    "#    poptexppos[i], pcovexppos[i] = curve_fit(expfunc, rpos[i][0:rposmax], corrpos[i][0:rposmax], bounds = (0, [2., 4.]))\n",
    "#    poptexpneg[i], pcovexpneg[i] = curve_fit(expfunc, rneg[i][0:rnegmax], corrneg[i][0:rnegmax], bounds = (0, [2., 4.]))\n",
    "#    poptexp[i], pcovexp[i] = curve_fit(expfunc, rtot[i][0:rtotmax], corrtot[i][0:rtotmax], bounds=(0, [2., 4.]))\n",
    "#    print(i, 'exp')\n",
    "#\n",
    "#    plt.figure(dpi=200)\n",
    "#    plt.loglog(rpos[i][1:rposmax], corrpos[i][1:rposmax], '.')\n",
    "#    plt.loglog(rpos[i][1:rposmax], algebraic(rpos[i][1:rposmax], *poptalgpos[i]), 'b-', label='fit: a=%5.3f, eta=%5.3f' % tuple(poptalgpos[i]))\n",
    "#    plt.loglog(rneg[i][1:rnegmax], corrneg[i][1:rnegmax], '.', color='red')\n",
    "#    plt.loglog(rneg[i][1:rnegmax], algebraic(rneg[i][1:rnegmax], *poptalgneg[i]), 'r-', label='fit: a=%5.3f, eta=%5.3f' % tuple(poptalgneg[i])) \n",
    "#    plt.xlabel(r'$r$')\n",
    "#    plt.ylabel(r'$<\\sigma_i \\sigma_j>(r) - <\\sigma_i> <\\sigma_j>(r) $')\n",
    "#    plt.legend()\n",
    "#    plt.title('Correlations L={0} and algebraic fit'.format(L[i]))\n",
    "#    plt.savefig('./' + foldername + 'Plots' + results_foldername+ '/Correlations_AndAlgFit_L={0}_distmin=05_various-nsms.png'.format(L[i]))\n",
    "#    plt.show()\n",
    "#   \n",
    "#    print(errcorrpos[i])\n",
    "#    fig, ax = plt.subplots(dpi=200, figsize = (9,6))\n",
    "#    ax.set_yscale(\"log\")#, nonposy='clip')\n",
    "#    plt.errorbar(rpos[i], corrpos[i], yerr=errcorrpos[i], fmt= '.')\n",
    "#    plt.errorbar(rneg[i], corrneg[i], yerr=errcorrneg[i], fmt ='.', color='red')\n",
    "#    plt.plot(rpos[i][0:rposmax], expfunc(rpos[i][0:rposmax], *poptexppos[i]), 'b-', label='fit: a=%5.3f, b=%5.3f' % tuple(poptexppos[i]))\n",
    "#    plt.plot(rneg[i][0:rnegmax], expfunc(rneg[i][0:rnegmax], *poptexpneg[i]), 'r-', label='fit: a=%5.3f, b=%5.3f' % tuple(poptexpneg[i]))\n",
    "#    plt.plot(rtot[i][0:rtotmax], expfunc(rtot[i][0:rtotmax], *poptexp[i]), 'k-', label='fit: a=%5.3f, b=%5.3f' % tuple(poptexp[i]))\n",
    "#    plt.xlabel(r'$r$')\n",
    "#    plt.ylabel(r'$<\\sigma_i \\sigma_j>(r) - <\\sigma_i> <\\sigma_j>(r) $')\n",
    "#    plt.legend()\n",
    "#    plt.title('Correlations L={0} and exp fit'.format(L[i]))\n",
    "#    plt.savefig('./' + foldername + 'Plots' + results_foldername+ '/Correlations_semilogy_AndexpFit_L={0}_distmin=05_various-nsms.png'.format(L[i]))\n",
    "#    #"
   ]
  },
  {
   "cell_type": "code",
   "execution_count": null,
   "metadata": {
    "collapsed": true
   },
   "outputs": [],
   "source": []
  }
 ],
 "metadata": {
  "kernelspec": {
   "display_name": "Python 3",
   "language": "python",
   "name": "python3"
  },
  "language_info": {
   "codemirror_mode": {
    "name": "ipython",
    "version": 3
   },
   "file_extension": ".py",
   "mimetype": "text/x-python",
   "name": "python",
   "nbconvert_exporter": "python",
   "pygments_lexer": "ipython3",
   "version": "3.5.3"
  }
 },
 "nbformat": 4,
 "nbformat_minor": 2
}
