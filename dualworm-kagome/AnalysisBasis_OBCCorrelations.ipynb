{
 "cells": [
  {
   "cell_type": "markdown",
   "metadata": {},
   "source": [
    "Last update 23.07.2019\n",
    "Author : Jeanne Colbois\n",
    "Please send any comments, questions or remarks to Jeanne Colbois: jeanne.colbois@epfl.ch.\n",
    "The author would appreciate to be cited in uses of this code, and would be very happy to hear about potential nice developments."
   ]
  },
  {
   "cell_type": "code",
   "execution_count": null,
   "metadata": {
    "collapsed": true
   },
   "outputs": [],
   "source": [
    "# Import modules\n",
    "import numpy as np # maths\n",
    "\n",
    "from time import time# timer for debug\n",
    "    # gather results obtained from the runs  \n",
    "    # system commands\n",
    "import os\n",
    "\n",
    "import KagomeFunctions_OBC as kf # \"library\" allowing to work on Kagome\n",
    "import KagomeDrawing_Reduced as kdraw # \"library\" allowing to plot Kagome\n",
    "import AnalysisFunctions_OBC as af # functions to make the analysis code cleaner\n",
    "    #plots using matplotlib\n",
    "import matplotlib\n",
    "import matplotlib.pyplot as plt\n",
    "#import matplotlib.image as mpimg\n",
    "%matplotlib inline\n",
    "matplotlib.rcParams['axes.unicode_minus'] = False\n",
    "matplotlib.rcParams.update({'font.size': 14})"
   ]
  },
  {
   "cell_type": "code",
   "execution_count": null,
   "metadata": {
    "collapsed": true
   },
   "outputs": [],
   "source": [
    "# Create a folder to save the pictures\n",
    "#foldername = 'Tests_SpinConfigs/'\n",
    "#results_foldername = 'Results_Tests_SpinConfigs'\n",
    "#os.makedirs('./' + foldername + 'Plots' + results_foldername, exist_ok = True)"
   ]
  },
  {
   "cell_type": "code",
   "execution_count": null,
   "metadata": {
    "collapsed": false
   },
   "outputs": [],
   "source": [
    "secondfoldername = ['../Analysis_PSI/Kagome_54-1_Demag_all/']\n",
    "secondfilename = ['54-1_Demag2_5-BR_spin_config.txt']\n",
    "imgfile = \"mag_threshold_0.1_cropped_scaled.png\"\n",
    "imgfile = \"\"\n",
    "factor = [177]\n",
    "configlist = []\n",
    "x = []\n",
    "y = []\n",
    "sconf = []\n",
    "c1, x1, y1, sconf1 = af.LoadSpinConfigsLarge(secondfoldername[0], secondfilename[0], imgfile, alpha = 1, factor = factor[0])\n",
    "configlist.append(c1)\n",
    "x.append(x1)\n",
    "y.append(y1)\n",
    "sconf.append(sconf1)\n",
    "plt.plot(x[0][11]/factor, y[0][11]/factor,'.', color = \"red\")\n",
    "plt.plot(x[0][12]/factor, y[0][12]/factor,'.', color = \"blue\")\n",
    "print(x[0][11],\" \", y[0][11], \" \", x[0][12], \" \", y[0][12])\n",
    "print(np.sqrt((x[0][11]-x[0][12])**2 + (y[0][11]-y[0][12])**2))\n",
    "m = sum(sconf[0])/len(sconf[0])\n",
    "print(m)\n",
    "if 0 in sconf[0]:\n",
    "    print(\"there is a 0\")"
   ]
  },
  {
   "cell_type": "code",
   "execution_count": null,
   "metadata": {
    "collapsed": false
   },
   "outputs": [],
   "source": [
    "secondfoldername.append('../Analysis_PSI/Kagome_54-1_Demag_all/')\n",
    "secondfilename.append('54-1_Demag2_5-TL_spin_config.txt')\n",
    "imgfile = \"\"\n",
    "factor.append(178)\n",
    "c2, x2, y2, sconf2 = af.LoadSpinConfigsLarge(secondfoldername[1], secondfilename[1], imgfile, alpha = 1, factor = factor[1])\n",
    "\n",
    "configlist.append(c2)\n",
    "x.append(x2)\n",
    "y.append(y2)\n",
    "sconf.append(sconf2)\n",
    "\n",
    "plt.plot(x[1][11]/factor, y[1][11]/factor,'.', color = \"red\")\n",
    "plt.plot(x[1][12]/factor, y[1][12]/factor,'.', color = \"blue\")\n",
    "print(x[1][11],\" \", y[1][11], \" \", x[1][12], \" \", y[1][12])\n",
    "print(np.sqrt((x[1][11]-x[1][12])**2 + (y[1][11]-y[1][12])**2))\n",
    "m = sum(sconf[1])/len(sconf[1])\n",
    "print(m)"
   ]
  },
  {
   "cell_type": "code",
   "execution_count": null,
   "metadata": {
    "collapsed": false
   },
   "outputs": [],
   "source": [
    "#secondfoldername = '../Analysis_PSI/Kagome_54-1_Demag_all/'\n",
    "#secondfilename = '54-1_Demag3_5-BL_spin_config.txt'\n",
    "#imgfile = \"\"\n",
    "#factor = 178.34\n",
    "#configlist, x, y, sconf = af.LoadSpinConfigsLarge(secondfoldername, secondfilename, imgfile, alpha = 1, factor = factor)\n",
    "#plt.plot(x[11]/factor, y[11]/factor,'.', color = \"red\")\n",
    "#plt.plot(x[12]/factor, y[12]/factor,'.', color = \"blue\")\n",
    "#print(x[11],\" \", y[11], \" \", x[12], \" \", y[12])\n",
    "#print(np.sqrt((x[11]-x[12])**2 + (y[11]-y[12])**2))\n",
    "#m = sum(sconf)/len(sconf)\n",
    "#print(m)"
   ]
  },
  {
   "cell_type": "code",
   "execution_count": null,
   "metadata": {
    "collapsed": true
   },
   "outputs": [],
   "source": [
    "#secondfoldername = '../Analysis_PSI/Kagome_54-1_Demag_all/'\n",
    "#secondfilename = '54-1_Demag3_5-BR_spin_config.txt'\n",
    "#imgfile = \"\"\n",
    "#factor = 178.29\n",
    "#configlist, x, y, sconf = af.LoadSpinConfigsLarge(secondfoldername, secondfilename, imgfile, alpha = 1, factor = factor)\n",
    "#plt.plot(x[10]/factor, y[10]/factor,'.', color = \"red\")\n",
    "#plt.plot(x[11]/factor, y[11]/factor,'.', color = \"blue\")\n",
    "#print(x[10],\" \", y[10], \" \", x[11], \" \", y[11])\n",
    "#print(np.sqrt((x[11]-x[10])**2 + (y[11]-y[10])**2))\n",
    "#m = sum(sconf)/len(sconf)\n",
    "#print(m)"
   ]
  },
  {
   "cell_type": "code",
   "execution_count": null,
   "metadata": {
    "collapsed": true
   },
   "outputs": [],
   "source": [
    "#secondfoldername = '../Analysis_PSI/Kagome_54-1_Demag_all/'\n",
    "#secondfilename = '54-1_Demag3_5-TL_spin_config.txt'\n",
    "#imgfile = \"\"\n",
    "#factor = 178\n",
    "#configlist, x, y, sconf = af.LoadSpinConfigsLarge(secondfoldername, secondfilename, imgfile, alpha = 1, factor = factor)\n",
    "#plt.plot(x[11]/factor, y[11]/factor,'.', color = \"red\")\n",
    "#plt.plot(x[12]/factor, y[12]/factor,'.', color = \"blue\")\n",
    "#print(x[11],\" \", y[11], \" \", x[12], \" \", y[12])\n",
    "#print(np.sqrt((x[11]-x[12])**2 + (y[11]-y[12])**2))\n",
    "#m = sum(sconf)/len(sconf)\n",
    "#print(m)"
   ]
  },
  {
   "cell_type": "code",
   "execution_count": null,
   "metadata": {
    "collapsed": true
   },
   "outputs": [],
   "source": [
    "#secondfoldername = '../Analysis_PSI/Kagome_54-1_Demag_all/'\n",
    "#secondfilename = '54-1_Demag4_5-BL_spin_config.txt'\n",
    "#imgfile = \"\"\n",
    "#factor = 179\n",
    "#configlist, x, y, sconf = af.LoadSpinConfigsLarge(secondfoldername, secondfilename, imgfile, alpha = 1, factor = factor)\n",
    "#plt.plot(x[10]/factor, y[10]/factor,'.', color = \"red\")\n",
    "#plt.plot(x[11]/factor, y[11]/factor,'.', color = \"blue\")\n",
    "#print(x[10],\" \", y[10], \" \", x[11], \" \", y[11])\n",
    "#print(np.sqrt((x[11]-x[10])**2 + (y[11]-y[10])**2))\n",
    "#m = sum(sconf)/len(sconf)\n",
    "#print(m)"
   ]
  },
  {
   "cell_type": "code",
   "execution_count": null,
   "metadata": {
    "collapsed": true
   },
   "outputs": [],
   "source": [
    "#secondfoldername = '../Analysis_PSI/Kagome_54-1_Demag_all/'\n",
    "#secondfilename = '54-1_Demag4_5-TL_spin_config.txt'\n",
    "#imgfile = \"\"\n",
    "#factor = 179.11\n",
    "#configlist, x, y, sconf = af.LoadSpinConfigsLarge(secondfoldername, secondfilename, imgfile, alpha = 1, factor = factor)\n",
    "#plt.plot(x[10]/factor, y[10]/factor,'.', color = \"red\")\n",
    "#plt.plot(x[11]/factor, y[11]/factor,'.', color = \"blue\")\n",
    "#print(x[10],\" \", y[10], \" \", x[11], \" \", y[11])\n",
    "#print(np.sqrt((x[11]-x[10])**2 + (y[11]-y[10])**2))\n",
    "#m = sum(sconf)/len(sconf)\n",
    "#print(m)"
   ]
  },
  {
   "cell_type": "code",
   "execution_count": null,
   "metadata": {
    "collapsed": true
   },
   "outputs": [],
   "source": [
    "#secondfoldername = '../Analysis_PSI/Kagome_54-1_Demag_all/'\n",
    "#secondfilename = '54-1_Demag5_5-BL_spin_config.txt'\n",
    "#imgfile = \"\"\n",
    "#factor = 179.11\n",
    "#configlist, x, y, sconf = af.LoadSpinConfigsLarge(secondfoldername, secondfilename, imgfile, alpha = 1, factor = factor)\n",
    "#plt.plot(x[10]/factor, y[10]/factor,'.', color = \"red\")\n",
    "#plt.plot(x[11]/factor, y[11]/factor,'.', color = \"blue\")\n",
    "#print(x[10],\" \", y[10], \" \", x[11], \" \", y[11])\n",
    "#print(np.sqrt((x[11]-x[10])**2 + (y[11]-y[10])**2))\n",
    "#m = sum(sconf)/len(sconf)\n",
    "#print(m)"
   ]
  },
  {
   "cell_type": "code",
   "execution_count": null,
   "metadata": {
    "collapsed": true
   },
   "outputs": [],
   "source": [
    "#secondfoldername = '../Analysis_PSI/Kagome_54-1_Demag_all/'\n",
    "#secondfilename = '54-1_Demag5_5-BR_spin_config.txt'\n",
    "#imgfile = \"\"\n",
    "#factor = 179.11\n",
    "#configlist, x, y, sconf = af.LoadSpinConfigsLarge(secondfoldername, secondfilename, imgfile, alpha = 1, factor = factor)\n",
    "#plt.plot(x[10]/factor, y[10]/factor,'.', color = \"red\")\n",
    "#plt.plot(x[11]/factor, y[11]/factor,'.', color = \"blue\")\n",
    "#print(x[10],\" \", y[10], \" \", x[11], \" \", y[11])\n",
    "#print(np.sqrt((x[11]-x[10])**2 + (y[11]-y[10])**2))\n",
    "#m = sum(sconf)/len(sconf)\n",
    "#print(m)"
   ]
  },
  {
   "cell_type": "code",
   "execution_count": null,
   "metadata": {
    "collapsed": true
   },
   "outputs": [],
   "source": [
    "#secondfoldername = '../Analysis_PSI/Kagome_54-1_Demag_all/'\n",
    "#secondfilename = '54-1_Demag5_5-TL_spin_config.txt'\n",
    "#imgfile = \"\"\n",
    "#factor = 180\n",
    "#configlist, x, y, sconf = af.LoadSpinConfigsLarge(secondfoldername, secondfilename, imgfile, alpha = 1, factor = factor)\n",
    "#plt.plot(x[11]/factor, y[11]/factor,'.', color = \"red\")\n",
    "#plt.plot(x[12]/factor, y[12]/factor,'.', color = \"blue\")\n",
    "#print(x[11],\" \", y[11], \" \", x[12], \" \", y[12])\n",
    "#print(np.sqrt((x[11]-x[12])**2 + (y[11]-y[12])**2))\n",
    "#m = sum(sconf)/len(sconf)\n",
    "#print(m)"
   ]
  },
  {
   "cell_type": "code",
   "execution_count": null,
   "metadata": {
    "collapsed": true
   },
   "outputs": [],
   "source": [
    "#secondfoldername = '../Analysis_PSI/Kagome_54-1_Demag_all/'\n",
    "#secondfilename = '54-1_Demag6_5-BL_spin_config.txt'\n",
    "#imgfile = \"\"\n",
    "#factor = 180\n",
    "#configlist, x, y, sconf = af.LoadSpinConfigsLarge(secondfoldername, secondfilename, imgfile, alpha = 1, factor = factor)\n",
    "#plt.plot(x[11]/factor, y[11]/factor,'.', color = \"red\")\n",
    "#plt.plot(x[12]/factor, y[12]/factor,'.', color = \"blue\")\n",
    "#print(x[11],\" \", y[11], \" \", x[12], \" \", y[12])\n",
    "#print(np.sqrt((x[11]-x[12])**2 + (y[11]-y[12])**2))\n",
    "#m = sum(sconf)/len(sconf)\n",
    "#print(m)"
   ]
  },
  {
   "cell_type": "code",
   "execution_count": null,
   "metadata": {
    "collapsed": true
   },
   "outputs": [],
   "source": [
    "#secondfoldername = '../Analysis_PSI/Kagome_54-1_Demag_all/'\n",
    "#secondfilename = '54-1_Demag6_5-BR_spin_config.txt'\n",
    "#imgfile = \"\"\n",
    "#factor = 177\n",
    "#configlist, x, y, sconf = af.LoadSpinConfigsLarge(secondfoldername, secondfilename, imgfile, alpha = 1, factor = factor)\n",
    "#plt.plot(x[11]/factor, y[11]/factor,'.', color = \"red\")\n",
    "#plt.plot(x[12]/factor, y[12]/factor,'.', color = \"blue\")\n",
    "#print(x[11],\" \", y[11], \" \", x[12], \" \", y[12])\n",
    "#print(np.sqrt((x[11]-x[12])**2 + (y[11]-y[12])**2))\n",
    "#m = sum(sconf)/len(sconf)\n",
    "#print(m)"
   ]
  },
  {
   "cell_type": "code",
   "execution_count": null,
   "metadata": {
    "collapsed": true
   },
   "outputs": [],
   "source": [
    "#secondfoldername = '../Analysis_PSI/Kagome_54-1_Demag_all/'\n",
    "#secondfilename = '54-1_Demag6_5-TL_spin_config.txt'\n",
    "#imgfile = \"\"\n",
    "#factor = 179\n",
    "#configlist, x, y, sconf = af.LoadSpinConfigsLarge(secondfoldername, secondfilename, imgfile, alpha = 1, factor = factor)\n",
    "#plt.plot(x[11]/factor, y[11]/factor,'.', color = \"red\")\n",
    "#plt.plot(x[12]/factor, y[12]/factor,'.', color = \"blue\")\n",
    "#print(x[11],\" \", y[11], \" \", x[12], \" \", y[12])\n",
    "#print(np.sqrt((x[11]-x[12])**2 + (y[11]-y[12])**2))\n",
    "#m = sum(sconf)/len(sconf)\n",
    "#print(m)"
   ]
  },
  {
   "cell_type": "code",
   "execution_count": null,
   "metadata": {
    "collapsed": true
   },
   "outputs": [],
   "source": [
    "#secondfoldername = '../Analysis_PSI/Kagome_54-1_Demag_all/'\n",
    "#secondfilename = '54-1_Demag7_4-BL_spin_config.txt'\n",
    "#imgfile = \"\"\n",
    "#factor = 178.9\n",
    "#configlist, x, y, sconf = af.LoadSpinConfigsLarge(secondfoldername, secondfilename, imgfile, alpha = 1, factor = factor)\n",
    "#plt.plot(x[10]/factor, y[10]/factor,'.', color = \"red\")\n",
    "#plt.plot(x[11]/factor, y[11]/factor,'.', color = \"blue\")\n",
    "#print(x[10],\" \", y[10], \" \", x[11], \" \", y[11])\n",
    "#print(np.sqrt((x[11]-x[10])**2 + (y[11]-y[10])**2))\n",
    "#m = sum(sconf)/len(sconf)\n",
    "#print(m)"
   ]
  },
  {
   "cell_type": "code",
   "execution_count": null,
   "metadata": {
    "collapsed": true
   },
   "outputs": [],
   "source": [
    "#secondfoldername = '../Analysis_PSI/Kagome_54-1_Demag_all/'\n",
    "#secondfilename = '54-1_Demag7_4-BR_spin_config.txt'\n",
    "#imgfile = \"\"\n",
    "#factor = 176.8\n",
    "#configlist, x, y, sconf = af.LoadSpinConfigsLarge(secondfoldername, secondfilename, imgfile, alpha = 1, factor = factor)\n",
    "#plt.plot(x[10]/factor, y[10]/factor,'.', color = \"red\")\n",
    "#plt.plot(x[11]/factor, y[11]/factor,'.', color = \"blue\")\n",
    "#print(x[10],\" \", y[10], \" \", x[11], \" \", y[11])\n",
    "#print(np.sqrt((x[11]-x[10])**2 + (y[11]-y[10])**2))\n",
    "#m = sum(sconf)/len(sconf)\n",
    "#print(m)"
   ]
  },
  {
   "cell_type": "code",
   "execution_count": null,
   "metadata": {
    "collapsed": true
   },
   "outputs": [],
   "source": [
    "#secondfoldername = '../Analysis_PSI/Kagome_54-1_Demag_all/'\n",
    "#secondfilename = '54-1_Demag7_4-TL_spin_config.txt'\n",
    "#imgfile = \"\"\n",
    "#factor = 177.1\n",
    "#configlist, x, y, sconf = af.LoadSpinConfigsLarge(secondfoldername, secondfilename, imgfile, alpha = 1, factor = factor)\n",
    "#plt.plot(x[10]/factor, y[10]/factor,'.', color = \"red\")\n",
    "#plt.plot(x[11]/factor, y[11]/factor,'.', color = \"blue\")\n",
    "#print(x[10],\" \", y[10], \" \", x[11], \" \", y[11])\n",
    "#print(np.sqrt((x[11]-x[10])**2 + (y[11]-y[10])**2))\n",
    "#m = sum(sconf)/len(sconf)\n",
    "#print(m)"
   ]
  },
  {
   "cell_type": "code",
   "execution_count": null,
   "metadata": {
    "collapsed": true
   },
   "outputs": [],
   "source": [
    "#secondfoldername = '../Analysis_PSI/Kagome_54-1_Demag_all/'\n",
    "#secondfilename = '54-1_Demag7_4-TR_spin_config.txt'\n",
    "#imgfile = \"\"\n",
    "#factor = 176.1\n",
    "#configlist, x, y, sconf = af.LoadSpinConfigsLarge(secondfoldername, secondfilename, imgfile, alpha = 1, factor = factor)\n",
    "#plt.plot(x[11]/factor, y[11]/factor,'.', color = \"red\")\n",
    "#plt.plot(x[12]/factor, y[12]/factor,'.', color = \"blue\")\n",
    "#print(x[11],\" \", y[11], \" \", x[12], \" \", y[12])\n",
    "#print(np.sqrt((x[11]-x[12])**2 + (y[11]-y[12])**2))\n",
    "#m = sum(sconf)/len(sconf)\n",
    "#print(m)"
   ]
  },
  {
   "cell_type": "code",
   "execution_count": null,
   "metadata": {
    "collapsed": true
   },
   "outputs": [],
   "source": [
    "#secondfoldername = '../Analysis_PSI/Kagome_54-1_Demag_all/'\n",
    "#secondfilename = '54-1_Demag7_5-BL_spin_config.txt'\n",
    "#imgfile = \"\"\n",
    "#factor = 178.79\n",
    "#configlist, x, y, sconf = af.LoadSpinConfigsLarge(secondfoldername, secondfilename, imgfile, alpha = 1, factor = factor)\n",
    "#plt.plot(x[10]/factor, y[10]/factor,'.', color = \"red\")\n",
    "#plt.plot(x[11]/factor, y[11]/factor,'.', color = \"blue\")\n",
    "#print(x[10],\" \", y[10], \" \", x[11], \" \", y[11])\n",
    "#print(np.sqrt((x[11]-x[10])**2 + (y[11]-y[10])**2))\n",
    "#m = sum(sconf)/len(sconf)\n",
    "#print(m)"
   ]
  },
  {
   "cell_type": "code",
   "execution_count": null,
   "metadata": {
    "collapsed": true
   },
   "outputs": [],
   "source": [
    "#secondfoldername = '../Analysis_PSI/Kagome_54-1_Demag_all/'\n",
    "#secondfilename = '54-1_Demag7_5-BR_spin_config.txt'\n",
    "#imgfile = \"\"\n",
    "#factor = 178.5\n",
    "#configlist, x, y, sconf = af.LoadSpinConfigsLarge(secondfoldername, secondfilename, imgfile, alpha = 1, factor = factor)\n",
    "#plt.plot(x[11]/factor, y[11]/factor,'.', color = \"red\")\n",
    "#plt.plot(x[12]/factor, y[12]/factor,'.', color = \"blue\")\n",
    "#print(x[11],\" \", y[11], \" \", x[12], \" \", y[12])\n",
    "#print(np.sqrt((x[11]-x[12])**2 + (y[11]-y[12])**2))\n",
    "#m = sum(sconf)/len(sconf)\n",
    "#print(m)"
   ]
  },
  {
   "cell_type": "code",
   "execution_count": null,
   "metadata": {
    "collapsed": true
   },
   "outputs": [],
   "source": [
    "#secondfoldername = '../Analysis_PSI/Kagome_54-1_Demag_all/'\n",
    "#secondfilename = '54-1_Demag7_5-TL_spin_config.txt'\n",
    "#imgfile = \"\"\n",
    "#factor = 177.5\n",
    "#configlist, x, y, sconf = af.LoadSpinConfigsLarge(secondfoldername, secondfilename, imgfile, alpha = 1, factor = factor)\n",
    "#plt.plot(x[11]/factor, y[11]/factor,'.', color = \"red\")\n",
    "#plt.plot(x[12]/factor, y[12]/factor,'.', color = \"blue\")\n",
    "#print(x[11],\" \", y[11], \" \", x[12], \" \", y[12])\n",
    "#print(np.sqrt((x[11]-x[12])**2 + (y[11]-y[12])**2))\n",
    "#m = sum(sconf)/len(sconf)\n",
    "#print(m)"
   ]
  },
  {
   "cell_type": "code",
   "execution_count": null,
   "metadata": {
    "collapsed": true
   },
   "outputs": [],
   "source": [
    "#ssecondfoldername = '../Analysis_PSI/Kagome_54-1_Demag_all/'\n",
    "#ssecondfilename = '54-1_Demag7_5-TR_spin_config.txt'\n",
    "#iimgfile = \"\"\n",
    "#ffactor = 178.7\n",
    "#cconfiglist, x, y, sconf = af.LoadSpinConfigsLarge(secondfoldername, secondfilename, imgfile, alpha = 1, factor = factor)\n",
    "#pplt.plot(x[43]/factor, y[43]/factor,'.', color = \"red\")\n",
    "#pplt.plot(x[42]/factor, y[42]/factor,'.', color = \"blue\")\n",
    "#pprint(x[43],\" \", y[10], \" \", x[11], \" \", y[11])\n",
    "#pprint(np.sqrt((x[43]-x[42])**2 + (y[43]-y[42])**2))\n",
    "#mm = sum(sconf)/len(sconf)\n",
    "#pprint(m)"
   ]
  },
  {
   "cell_type": "code",
   "execution_count": null,
   "metadata": {
    "collapsed": false
   },
   "outputs": [],
   "source": [
    "distances_s1s2 = []\n",
    "n = 2\n",
    "for i in range(n):\n",
    "    distances_s1s2.append(af.KagomeLatticeHistogram(x[i],y[i], factor=factor[i]))\n",
    "    plt.savefig(secondfoldername[i] + 'Histogram' + secondfilename[i]+'.png')"
   ]
  },
  {
   "cell_type": "code",
   "execution_count": null,
   "metadata": {
    "collapsed": true
   },
   "outputs": [],
   "source": [
    "distconds = [(0.95, 1.05), (1.68, 1.78), (1.95, 2.05), (2.59, 2.69), (2.95, 3.05), (3.41, 3.52), (3.54, 3.67), (3.95, 4.05)]"
   ]
  },
  {
   "cell_type": "code",
   "execution_count": null,
   "metadata": {
    "collapsed": true
   },
   "outputs": [],
   "source": [
    "NNList = af.KagomeLatticeNeighboursLists(distances_s1s2, distconds)"
   ]
  },
  {
   "cell_type": "code",
   "execution_count": null,
   "metadata": {
    "collapsed": true
   },
   "outputs": [],
   "source": [
    "cconf, xc,yc, tlist = af.KagomeLatticeCharges(NNList,sconf,x,y)"
   ]
  },
  {
   "cell_type": "code",
   "execution_count": null,
   "metadata": {
    "collapsed": false
   },
   "outputs": [],
   "source": [
    "charges = [np.count_nonzero(cconf == 3), np.count_nonzero(cconf == 1),\n",
    "           np.count_nonzero(cconf == -1), np.count_nonzero(cconf == -3)]\n",
    "print(charges)\n",
    "np.savetxt(secondfoldername + 'charges' + secondfilename,\n",
    "           np.array(charges), newline=\",\")"
   ]
  },
  {
   "cell_type": "code",
   "execution_count": null,
   "metadata": {
    "collapsed": true
   },
   "outputs": [],
   "source": [
    "# sanity check\n",
    "for pair in NNList[0][0:2000]:\n",
    "    if pair in NNList[0][2000:]:\n",
    "        print(pair, \"already exists\")\n",
    "    newpair = (pair[1], pair[0])\n",
    "    if newpair in NNList[0]:\n",
    "        print(newpair, \"already exists\")"
   ]
  },
  {
   "cell_type": "code",
   "execution_count": null,
   "metadata": {
    "collapsed": false
   },
   "outputs": [],
   "source": [
    "fig, ax = plt.subplots(figsize=(10,10),dpi=300)\n",
    "af.plotSpinSites(secondfoldername, imgfile, x, y, \n",
    "                 [i for i in range(len(x)) if sconf[i] == 1],\n",
    "                 putimage = False, color = 'blue', alpha = 1,\n",
    "                 linestyle = 'none')\n",
    "af.plotSpinSites(secondfoldername, imgfile, x, y, \n",
    "                 [i for i in range(len(x)) if sconf[i] == -1],\n",
    "                 putimage = False, color = 'red', alpha = 1,\n",
    "                 linestyle = 'none')\n",
    "af.plotSpinSites(secondfoldername, imgfile, xc, yc, \n",
    "                 [i for i in range(len(xc)) if abs(cconf[i]) == 3], \n",
    "                 putimage = False, color = 'yellow', alpha = 1,\n",
    "                 linestyle = 'none')\n",
    "af.plotSpinSites(secondfoldername, imgfile, xc, yc, \n",
    "                 [i for i in range(len(xc)) if abs(cconf[i]) == 1], \n",
    "                 putimage = False, color = 'green', alpha = 1,\n",
    "                 linestyle = 'none')\n",
    "plt.savefig(secondfoldername + 'State_' + secondfilename+'.png')\n",
    "\n",
    "#fig, ax = plt.subplots(figsize=(10,10),dpi=300)\n",
    "#af.plotSpinPairs(secondfoldername, imgfile, x, y, NNList[0][2000:], putimage = False, marker = ',',color = 'orange', alpha = 0.7)\n",
    "#af.plotSpinPairs(secondfoldername, imgfile, x, y, NNList[0][0:2000], putimage = False, marker = ',',color = 'green', alpha = 0.7)\n",
    "#af.plotSpinSites(secondfoldername, imgfile, x, y, \n",
    "#                 [i for i in range(len(x)) if sconf[i] == 1],\n",
    "#                 putimage = False, color = 'blue', alpha = 1,\n",
    "#                 linestyle = 'none')\n",
    "#af.plotSpinSites(secondfoldername, imgfile, x, y, \n",
    "#                 [i for i in range(len(x)) if sconf[i] == -1],\n",
    "#                 putimage = False, color = 'red', alpha = 1,\n",
    "#                 linestyle = 'none')\n",
    "#plt.savefig(secondfoldername + 'State3_' + secondfilename+'_interactions.png')\n",
    "#"
   ]
  },
  {
   "cell_type": "code",
   "execution_count": null,
   "metadata": {
    "collapsed": false
   },
   "outputs": [],
   "source": [
    "cov = []\n",
    "varcov = []\n",
    "d = []\n",
    "vard = []\n",
    "\n",
    "covbis = []\n",
    "varcovbis =[]\n",
    "dbis = []\n",
    "vardbis = []\n",
    "for i in range(9):\n",
    "    print(i)\n",
    "    cov1, varcov1, d1, vard1= af.OtherComputeNthCorrList(NNList[i], sconf, x, y, factor)\n",
    "    covbis.append(cov1)\n",
    "    varcovbis.append(varcov1)\n",
    "    dbis.append(d1)\n",
    "    vardbis.append(vard1)\n",
    "    cov0, varcov0, d0, vard0= af.ComputeNthCorrList(NNList[i], sconf, x, y, factor)\n",
    "    cov.append(cov0)\n",
    "    varcov.append(varcov0)\n",
    "    d.append(d0)\n",
    "    vard.append(vard0)"
   ]
  },
  {
   "cell_type": "code",
   "execution_count": null,
   "metadata": {
    "collapsed": false
   },
   "outputs": [],
   "source": [
    "print(np.array(cov)[0])"
   ]
  },
  {
   "cell_type": "code",
   "execution_count": null,
   "metadata": {
    "collapsed": false
   },
   "outputs": [],
   "source": [
    "fig, ax = plt.subplots(dpi=200)\n",
    "plt.errorbar(d, np.array(cov),xerr = np.sqrt(np.array(vard)),yerr=np.sqrt(np.array(varcov)),  fmt= '.')\n",
    "plt.xlabel('Distance')\n",
    "plt.ylabel('Accumulated correlations')\n",
    "plt.ylim(-0.27,0.12)\n",
    "plt.savefig(secondfoldername + 'FirstResult_' + secondfilename+'.png')"
   ]
  },
  {
   "cell_type": "code",
   "execution_count": null,
   "metadata": {
    "collapsed": false
   },
   "outputs": [],
   "source": [
    "covsave = np.array(cov)\n",
    "varcovsave = np.array(varcov)\n",
    "covsave = np.transpose(covsave)[0]\n",
    "varcovsave = np.transpose(varcovsave)[0]\n",
    "covsave = np.insert(covsave, 0, m)\n",
    "print(covsave)\n",
    "print(varcovsave)\n",
    "np.savetxt(secondfoldername + 'covariance' + secondfilename,covsave, newline=\",\")\n",
    "np.savetxt(secondfoldername + 'covarianceerror' + secondfilename, varcovsave)"
   ]
  },
  {
   "cell_type": "code",
   "execution_count": null,
   "metadata": {
    "collapsed": false
   },
   "outputs": [],
   "source": [
    "ListNei = ['1', '2', '3par', '3star', '4', '5', '6', '6bis', '7', '8', '8bis','9']\n",
    "fig, ax = plt.subplots(dpi=200)\n",
    "x = [1 for y in cov];\n",
    "\n",
    "for index, covi in enumerate(cov[0:8]):\n",
    "    print(index)\n",
    "    plt.errorbar(1, covi,yerr=np.sqrt(np.array(varcov)[index]), label='Neighbour {0}'.format(ListNei[index]),  fmt= 'x', )\n",
    "plt.xlabel('')\n",
    "plt.ylabel('Accumulated correlations')\n",
    "plt.ylim(-0.27, 0.12)\n",
    "plt.legend()\n",
    "plt.savefig(secondfoldername+'FirstFewCorrelations'+secondfilename+'.png')"
   ]
  },
  {
   "cell_type": "code",
   "execution_count": null,
   "metadata": {
    "collapsed": true,
    "scrolled": false
   },
   "outputs": [],
   "source": [
    "#L = [3]\n",
    "#n = 1\n",
    "#s42_ijl, ijl_s42, s42_realpos, s42_pos, pos_s42, realspinstates = af.LoadSpinConfigs(L,n,foldername+'spin_config.txt')\n",
    "#ListPairs= kf.OBC_NeighboursList(foldername)\n",
    "#\n",
    "#distances = []\n",
    "#truedistances = []\n",
    "#avgdistances = []\n",
    "#avgdistancesvar = []\n",
    "#acccorrelations = []\n",
    "#accvars = []\n",
    "#correlations = []\n",
    "#variances = []\n",
    "#for N, TupleLists in enumerate(ListPairs):\n",
    "#    \n",
    "#    firstpairs = TupleLists[0]\n",
    "#    \n",
    "#    dist = np.linalg.norm(s42_pos[firstpairs[0][0]]- s42_pos[firstpairs[0][1]]) #distance between the neighbours (first two)\n",
    "#    distances.append(dist)\n",
    "#      \n",
    "#    (nthcorr, acccorr, nthvar, accvar, nthdist, nthavgdist, \n",
    "#     nthvardist) = af.ComputeNthCorr(firstpairs, realspinstates, s42_realpos)\n",
    "#    acccorrelations.append(acccorr)\n",
    "#    accvars.append(accvar)\n",
    "#    truedistances.append(nthdist)\n",
    "#    avgdistances.append(nthavgdist)\n",
    "#    avgdistancesvar.append(nthvardist)\n",
    "#    \n",
    "#\n",
    "#    secondpairs = TupleLists[1]\n",
    "#    if secondpairs.size !=0:\n",
    "#        distances.append(dist)\n",
    "#        (nthcorr2, acccorr, nthvar2, accvar, nthdist, nthavgdist, \n",
    "#         nthvardist) = af.ComputeNthCorr(secondpairs, realspinstates, s42_realpos)\n",
    "#        acccorrelations.append(acccorr)\n",
    "#        accvars.append(accvar)\n",
    "#        truedistances.append(nthdist)\n",
    "#        avgdistances.append(nthavgdist)\n",
    "#        avgdistancesvar.append(nthvardist)\n",
    "#        correlations.append([nthcorr, nthcorr2])\n",
    "#        variances.append([nthvar, nthvar2])\n",
    "#    else:\n",
    "#        correlations.append(nthcorr)\n",
    "#        variances.append(nthvar)"
   ]
  },
  {
   "cell_type": "code",
   "execution_count": null,
   "metadata": {
    "collapsed": true,
    "scrolled": false
   },
   "outputs": [],
   "source": [
    "#fig, ax = plt.subplots(dpi=200)\n",
    "#plt.errorbar(avgdistances, abs(np.array(acccorrelations)),yerr=np.sqrt(np.array(accvars)),  fmt= '.')\n",
    "#plt.xlabel('Distance (px)')\n",
    "#plt.ylabel('Accumulated correlations (absolute value)')\n",
    "#plt.savefig('./FirstResultpx.png')\n",
    "#\n",
    "#fig, ax = plt.subplots(dpi=200)\n",
    "#plt.errorbar(distances, np.array(acccorrelations),xerr = np.sqrt(np.array(avgdistancesvar)),yerr=np.sqrt(np.array(accvars)),  fmt= '.')\n",
    "#plt.xlabel('Distance')\n",
    "#plt.ylabel('Accumulated correlations')\n",
    "#plt.savefig('./FirstResult.png')"
   ]
  },
  {
   "cell_type": "code",
   "execution_count": null,
   "metadata": {
    "collapsed": true,
    "scrolled": false
   },
   "outputs": [],
   "source": [
    "## 2D visualization\n",
    "# For each type of neighbour pair:\n",
    "#      For each pair:\n",
    "#      Plot a line from one site to the other with the colour corresponding to the correlations\n",
    "\n",
    "#vmin = -1.5\n",
    "#vmax = 1.5\n",
    "#\n",
    "#vvarmin = vmin\n",
    "#vvarmax = vmax\n",
    "#for N, TupleLists in enumerate(ListPairs):    \n",
    "#    firstpairs = TupleLists[0] # list of pairs\n",
    "#    secondpairs = TupleLists[1] #list of pairs\n",
    "#    if secondpairs.size == 0:\n",
    "#        values = [correlations[N][pairid] for pairid in range(len(correlations[N]))]\n",
    "#        kdraw.draw_values_kagedges(s42_realpos, firstpairs, values, vmin, vmax, nodescolor = 'blue', edgelinewidth = 4)\n",
    "#        \n",
    "#        values = [variances[N][pairid] for pairid in range(len(variances[N]))]\n",
    "#        kdraw.draw_values_kagedges(s42_realpos, firstpairs, values, vvarmin, vvarmax, nodescolor = 'blue', edgelinewidth = 4)\n",
    "#        \n",
    "#    else:\n",
    "#        \n",
    "#        values = [correlations[N][0][pairid] for pairid in range(len(correlations[N][0]))]\n",
    "#        kdraw.draw_values_kagedges(s42_realpos, firstpairs, values, vmin, vmax, nodescolor = 'blue', edgelinewidth = 4)\n",
    "#        \n",
    "#        values = [variances[N][0][pairid] for pairid in range(len(variances[N][0]))]\n",
    "#        kdraw.draw_values_kagedges(s42_realpos, firstpairs, values, vvarmin, vvarmax, nodescolor = 'blue', edgelinewidth = 4)\n",
    "#        \n",
    "#        values = [correlations[N][1][pairid] for pairid in range(len(correlations[N][1]))]\n",
    "#        kdraw.draw_values_kagedges(s42_realpos, secondpairs, values, vmin, vmax, nodescolor = 'blue', edgelinewidth = 4)\n",
    "#        \n",
    "#        values = [variances[N][1][pairid] for pairid in range(len(variances[N][1]))]\n",
    "#        kdraw.draw_values_kagedges(s42_realpos, firstpairs, values, vvarmin, vvarmax, nodescolor = 'blue', edgelinewidth = 4)"
   ]
  },
  {
   "cell_type": "code",
   "execution_count": null,
   "metadata": {
    "collapsed": true
   },
   "outputs": [],
   "source": [
    "#ListNei = ['1', '2', '3', '3bis', '4', '5', '6', '6bis', '7', '8', '8bis','9']\n",
    "#fig, ax = plt.subplots(dpi=200)\n",
    "#x = [1 for y in acccorrelations];\n",
    "#for index, acccorrelation in enumerate(acccorrelations[1:8]):\n",
    "#    print(index)\n",
    "#    plt.errorbar(1, acccorrelation,yerr=np.sqrt(np.array(accvars)[index]), label='Neighbour {0}'.format(ListNei[index]),  fmt= '.', )\n",
    "#plt.xlabel('')\n",
    "#plt.ylabel('Accumulated correlations')\n",
    "#plt.legend()\n",
    "#plt.savefig('./FirstFewCorrelations.png')"
   ]
  }
 ],
 "metadata": {
  "kernelspec": {
   "display_name": "Python 3",
   "language": "python",
   "name": "python3"
  },
  "language_info": {
   "codemirror_mode": {
    "name": "ipython",
    "version": 3
   },
   "file_extension": ".py",
   "mimetype": "text/x-python",
   "name": "python",
   "nbconvert_exporter": "python",
   "pygments_lexer": "ipython3",
   "version": "3.5.3"
  }
 },
 "nbformat": 4,
 "nbformat_minor": 2
}
