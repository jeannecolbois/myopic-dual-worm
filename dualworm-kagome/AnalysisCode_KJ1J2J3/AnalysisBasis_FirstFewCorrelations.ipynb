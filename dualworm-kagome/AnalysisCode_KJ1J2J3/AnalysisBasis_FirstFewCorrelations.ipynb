{
 "cells": [
  {
   "cell_type": "code",
   "execution_count": null,
   "metadata": {},
   "outputs": [],
   "source": [
    "import os,sys,inspect\n",
    "currentdir = os.path.dirname(os.path.abspath(inspect.getfile(inspect.currentframe())))\n",
    "parentdir = os.path.dirname(currentdir)\n",
    "sys.path.insert(0,parentdir) "
   ]
  },
  {
   "cell_type": "code",
   "execution_count": null,
   "metadata": {},
   "outputs": [],
   "source": [
    "# Import modules\n",
    "import numpy as np # maths\n",
    "\n",
    "from time import time# timer for debug\n",
    "\n",
    "    # gather results obtained from the runs\n",
    "import hickle as hkl # open .pkl files where python objects have been saved\n",
    "from safe import safe # the empty class which is used to save the results\n",
    "    \n",
    "    # system commands\n",
    "\n",
    "import os\n",
    "    \n",
    "    # interact with the C++ core and the Python core\n",
    "import dimers as dim # C++ interface module\n",
    "import KagomeFunctions as kf # \"library\" allowing to work on Kagome\n",
    "import KagomeDrawing as kdraw # \"library\" allowing to plot Kagome\n",
    "import Observables as obs #observables that can be used by the run script\n",
    "import KagomeFT as kft #small functions to compute the FT\n",
    "import AnalysisFunctions as af # functions to make the analysis code cleaner\n",
    "    #plots using matplotlib\n",
    "import matplotlib\n",
    "import matplotlib.pyplot as plt\n",
    "%matplotlib inline\n",
    "matplotlib.rcParams['axes.unicode_minus'] = False\n",
    "matplotlib.rcParams.update({'font.size': 14, 'pgf.texsystem':'pdflatex'})"
   ]
  },
  {
   "cell_type": "code",
   "execution_count": null,
   "metadata": {},
   "outputs": [],
   "source": [
    "# Create a folder to save the pictures\n",
    "foldername = '../../Analysis_PSI_EPFL/Runs_22-08-20_J1Plot/MediumKJ1_Corr_L4_folder/'\n",
    "results_foldername = '22-08-2020/'\n",
    "os.makedirs('./' + foldername + results_foldername, exist_ok = True)\n",
    "\n",
    "filenamelist = ['backup']\n",
    "n = len(filenamelist)"
   ]
  },
  {
   "cell_type": "code",
   "execution_count": null,
   "metadata": {},
   "outputs": [],
   "source": [
    "[L, numsites, J1, J2, J3, J3st, J4, nb, num_in_bin, temperatures, nt,\n",
    " stat_temps, temperatures_plots, hfields, nh, \n",
    " stat_hfields, hfields_plots, listfunctions, sref, ids2walker] = \\\n",
    "af.LoadParameters(foldername, filenamelist)\n",
    "\n",
    "s_ijl, ijl_s = kdraw.createspinsitetable(L[0])\n",
    "print(\"nb \", nb, \"num_in_bin \", num_in_bin)\n",
    "swapst_th, swapsh_th, swapst, swapsh = af.LoadSwaps(foldername, filenamelist, nb, num_in_bin, nh, nt)\n",
    "\n",
    "n = len(L)\n",
    "failedth, failedssfth, failed, failedssf = \\\n",
    "af.LoadUpdates(foldername, filenamelist, nb, num_in_bin, [9*L[i]**2 for i in range(n)])\n",
    "\n",
    "kw = {'binning': True, 'plzplot': False, 'plotmin': 0, 'plotmax': 16}\n",
    "[t_h_MeanE, t_h_MeanEsq, t_h_varMeanE, t_h_varMeanEsq, C, ErrC] = \\\n",
    " af.LoadEnergy(foldername, filenamelist, numsites,\n",
    "               nb, stat_temps, temperatures, stat_hfields, listfunctions, **kw)\n",
    "\n",
    "[t_h_MeanM, t_h_MeanMsq, t_h_varMeanM, t_h_varMeanMsq, Chi, ErrChi] = \\\n",
    " af.LoadMagnetisation(foldername, filenamelist, numsites,\n",
    "               nb, stat_temps, temperatures, stat_hfields, listfunctions, **kw)"
   ]
  },
  {
   "cell_type": "code",
   "execution_count": null,
   "metadata": {},
   "outputs": [],
   "source": [
    "###########################################\n",
    "        ## ALGORITHM ANALYSIS ##\n",
    "###########################################\n",
    "tidmin = 0\n",
    "tidmax = nt\n",
    "af.SwapsAnalysis(L, n, tidmin, tidmax, temperatures, hfields,\n",
    "                 foldername, results_foldername, swapst, swapsh)"
   ]
  },
  {
   "cell_type": "code",
   "execution_count": null,
   "metadata": {},
   "outputs": [],
   "source": [
    "af.FailedAnalysis(L, n, tidmin, tidmax, temperatures, hfields,\n",
    "                 foldername, results_foldername,failed, failedssf)"
   ]
  },
  {
   "cell_type": "code",
   "execution_count": null,
   "metadata": {},
   "outputs": [],
   "source": [
    "############################################\n",
    "#        ## Energy ANALYSIS ##\n",
    "############################################\n",
    "### Energy\n",
    "S0 = np.log(2)\n",
    "kw = {'gscheck': True}\n",
    "af.BasicPlotsE(L, n, tidmin, tidmax, temperatures_plots, hfields_plots, foldername,\n",
    "                results_foldername, filenamelist, t_h_MeanE, t_h_MeanEsq, t_h_varMeanE,\n",
    "                t_h_varMeanEsq, C, ErrC, J1, J2, J3, J4, **kw)\n",
    "plt.show()"
   ]
  },
  {
   "cell_type": "code",
   "execution_count": null,
   "metadata": {},
   "outputs": [],
   "source": [
    "## #        ## MAGNETISATION ANALYSIS ##\n",
    "###########################################\n",
    "af.BasicPlotsM(L, n, tidmin, tidmax, temperatures_plots, hfields_plots, foldername,\n",
    "                results_foldername, filenamelist, t_h_MeanM, t_h_MeanMsq, t_h_varMeanM,\n",
    "                t_h_varMeanMsq, Chi, ErrChi, J1, J2, J3, J4, **kw)\n",
    "plt.show()"
   ]
  },
  {
   "cell_type": "code",
   "execution_count": null,
   "metadata": {},
   "outputs": [],
   "source": [
    "rmmag = True\n",
    "kw = {'rmmag':rmmag,'binning': True, 'plzplot':False}\n",
    "\n",
    "t_h_MeanFc, t_h_varMeanFc, t_h_MeanSi, t_h_varMeanSi= \\\n",
    " af.LoadFirstCorrelations(foldername, filenamelist, listfunctions,stat_temps,\n",
    "                          stat_hfields, nb,t_h_varMeanMsq, **kw)"
   ]
  },
  {
   "cell_type": "code",
   "execution_count": null,
   "metadata": {},
   "outputs": [],
   "source": [
    "## Exact solution data:\n",
    "NNdata = np.loadtxt(foldername + \"ExactSolutionGraph_MorePreciseScan_ShearApplied_NN.dat\")\n",
    "NN2data = np.loadtxt(foldername + \"ExactSolutionGraph_NN2.dat\")\n",
    "NN3pdata = np.loadtxt(foldername + \"ExactSolutionGraph_NN3par.dat\")\n",
    "NN3sdata = np.loadtxt(foldername + \"ExactSolutionGraph_NN3star.dat\")\n",
    "\n",
    "## correct for the x-axis scale (cf Fig. 4 in Barry, Khatun, Int. J. Mod. Phy. B 11, 1997)\n",
    "NNdata[:,0] = NNdata[:,0]\n",
    "NN2data[:,0] = 4*NN2data[:,0]\n",
    "NN3pdata[:,0] = 4*NN3pdata[:,0]\n",
    "NN3sdata[:,0] = 4*NN3sdata[:,0]"
   ]
  },
  {
   "cell_type": "code",
   "execution_count": null,
   "metadata": {},
   "outputs": [],
   "source": [
    "i = 0\n",
    "af.BasicPlotsFirstCorrelations(L, i, t_h_MeanFc, temperatures_plots, \n",
    "                               t_h_varMeanFc, foldername, \n",
    "                               results_foldername, filenamelist,\n",
    "                               tmin = 0, setyticks = np.arange(-0.4,0.7,0.1),\n",
    "                               addsave = \"\",\n",
    "                               addtitle = \"\", log = False)\n",
    "plt.gca().set_prop_cycle(None)\n",
    "plt.plot(NNdata[:,0], NNdata[:,1], label = r'Exact $c_1$')\n",
    "plt.plot(NN2data[:,0], NN2data[:,1], label = r'Exact $c_2$')\n",
    "plt.plot(NN3pdata[:,0], NN3pdata[:,1], label = r'Exact $c_{3||}$')\n",
    "plt.plot(NN3sdata[:,0], NN3sdata[:,1], label = r'Exact $c_{3\\star}$')\n",
    "plt.xlabel(r'$T/J_1$')\n",
    "plt.ylabel(r'$\\langle \\sigma_i \\sigma_j \\rangle - \\langle \\sigma_i \\rangle \\langle \\sigma_j \\rangle$')\n",
    "plt.legend()"
   ]
  },
  {
   "cell_type": "code",
   "execution_count": null,
   "metadata": {},
   "outputs": [],
   "source": []
  }
 ],
 "metadata": {
  "kernelspec": {
   "display_name": "Python 3",
   "language": "python",
   "name": "python3"
  },
  "language_info": {
   "codemirror_mode": {
    "name": "ipython",
    "version": 3
   },
   "file_extension": ".py",
   "mimetype": "text/x-python",
   "name": "python",
   "nbconvert_exporter": "python",
   "pygments_lexer": "ipython3",
   "version": "3.6.9"
  }
 },
 "nbformat": 4,
 "nbformat_minor": 4
}
