{
 "cells": [
  {
   "cell_type": "code",
   "execution_count": 1,
   "metadata": {},
   "outputs": [],
   "source": [
    "import os,sys,inspect\n",
    "currentdir = os.path.dirname(os.path.abspath(inspect.getfile(inspect.currentframe())))\n",
    "parentdir = os.path.dirname(currentdir)\n",
    "sys.path.insert(0,parentdir) "
   ]
  },
  {
   "cell_type": "code",
   "execution_count": 2,
   "metadata": {},
   "outputs": [],
   "source": [
    "# Import modules\n",
    "import numpy as np # maths\n",
    "\n",
    "from time import time# timer for debug\n",
    "\n",
    "    # gather results obtained from the runs\n",
    "\n",
    "    # system commands\n",
    "import os\n",
    "    \n",
    "    # interact with the C++ core and the Python core\n",
    "import dimers as dim # C++ interface module\n",
    "import KagomeFunctions as kf # \"library\" allowing to work on Kagome\n",
    "import KagomeDrawing as kdraw # \"library\" allowing to plot Kagome\n",
    "import Observables as obs #observables that can be used by the run script\n",
    "import KagomeFT as kft #small functions to compute the FT\n",
    "import AnalysisFunctions as af # functions to make the analysis code cleaner\n",
    "    #plots using matplotlib\n",
    "import matplotlib\n",
    "import matplotlib.pyplot as plt\n",
    "%matplotlib inline\n",
    "matplotlib.rcParams['axes.unicode_minus'] = False\n",
    "matplotlib.rcParams.update({'font.size': 14, 'pgf.texsystem':'pdflatex'})"
   ]
  },
  {
   "cell_type": "code",
   "execution_count": 3,
   "metadata": {},
   "outputs": [],
   "source": [
    "# Create a folder to save the pictures\n",
    "foldername = '../../MFUs/Runs_04-09-20_EasyPhase_L14/'\n",
    "#foldername = '../Analysis_PSI/Runs_12-11-19_ssfMagnField/'\n",
    "results_foldername = 'Results_08-09-20/'\n",
    "os.makedirs('./' + foldername + results_foldername, exist_ok = True)\n",
    "\n",
    "filenamelist = ['KEasyPhase_L14_it0_nsm131072_folder/backup',\n",
    "                'KEasyPhase_L14_it1_nsm131072_folder/backup',\n",
    "                'KEasyPhase_L14_it2_nsm131072_folder/backup',\n",
    "                'KEasyPhase_L14_it3_nsm131072_folder/backup'\n",
    "                #'KEasyPhase_L14_it4_nsm131072_folder/backup',\n",
    "                #'KEasyPhase_L14_it5_nsm131072_folder/backup',\n",
    "                #'KEasyPhase_L14_it6_nsm131072_folder/backup',\n",
    "                ##'KEasyPhase_L14_it7_nsm131072_folder/backup',\n",
    "                #'KEasyPhase_L14_it8_nsm131072_folder/backup',\n",
    "                #'KEasyPhase_L14_it9_nsm131072_folder/backup',\n",
    "                #'KEasyPhase_L14_it10_nsm131072_folder/backup',\n",
    "                #'KEasyPhase_L14_it11_nsm131072_folder/backup',\n",
    "                #'KEasyPhase_L14_it12_nsm131072_folder/backup',\n",
    "                #'KEasyPhase_L14_it13_nsm131072_folder/backup',\n",
    "                #'KEasyPhase_L14_it14_nsm131072_folder/backup',\n",
    "                #'KEasyPhase_L14_it15_nsm131072_folder/backup',\n",
    "                #'KEasyPhase_L14_it16_nsm131072_folder/backup',\n",
    "                #'KEasyPhase_L14_it17_nsm131072_folder/backup',\n",
    "                #'KEasyPhase_L14_it18_nsm131072_folder/backup',\n",
    "                #'KEasyPhase_L14_it19_nsm131072_folder/backup',\n",
    "                #'KEasyPhase_L14_it20_nsm131072_folder/backup',\n",
    "                #'KEasyPhase_L14_it21_nsm131072_folder/backup',\n",
    "                #'KEasyPhase_L14_it22_nsm131072_folder/backup',\n",
    "                #'KEasyPhase_L14_it23_nsm131072_folder/backup',\n",
    "                #'KEasyPhase_L14_it24_nsm131072_folder/backup',\n",
    "                #'KEasyPhase_L14_it25_nsm131072_folder/backup',\n",
    "                #'KEasyPhase_L14_it26_nsm131072_folder/backup',\n",
    "                #'KEasyPhase_L14_it27_nsm131072_folder/backup',\n",
    "                #'KEasyPhase_L14_it28_nsm131072_folder/backup',\n",
    "                #'KEasyPhase_L14_it29_nsm131072_folder/backup',\n",
    "                #'KEasyPhase_L14_it30_nsm131072_folder/backup',\n",
    "                #'KEasyPhase_L14_it31_nsm131072_folder/backup'\n",
    "               ]\n",
    "n = len(filenamelist)"
   ]
  },
  {
   "cell_type": "code",
   "execution_count": 4,
   "metadata": {
    "scrolled": false
   },
   "outputs": [
    {
     "name": "stdout",
     "output_type": "stream",
     "text": [
      "nb  [131072, 131072, 131072, 131072] num_in_bin  [1, 1, 1, 1]\n"
     ]
    }
   ],
   "source": [
    "mergeruns =False\n",
    "nb_drop = 0\n",
    "kw = {'mergeruns':mergeruns}\n",
    "\n",
    "[L, numsites, J1, J2, J3, J3st, J4, nb, num_in_bin, \n",
    " htip, Ttip, pswitch, uponly, path,\n",
    " temperatures, nt,\n",
    " stat_temps, temperatures_plots, hfields, nh, \n",
    " stat_hfields, hfields_plots, listfunctions, sref, ids2walker] = \\\n",
    "af.LoadParameters(foldername, filenamelist, **kw)\n",
    "\n",
    "s_ijl, ijl_s = kdraw.createspinsitetable(L[0])\n",
    "print(\"nb \", nb, \"num_in_bin \", num_in_bin)\n",
    "swapst_th, swapsh_th, swapst, swapsh = af.LoadSwaps(foldername, filenamelist, nb, num_in_bin, nh, nt, **kw)\n",
    "\n",
    "\n",
    "failedth, failedssfth, failed, failedssf = \\\n",
    "af.LoadUpdates(foldername, filenamelist, nb, num_in_bin, [9*L[i]**2 for i in range(n)], **kw)\n"
   ]
  },
  {
   "cell_type": "code",
   "execution_count": 5,
   "metadata": {},
   "outputs": [
    {
     "data": {
      "text/plain": [
       "<module 'AnalysisFunctions' from '/home/jcolbois/Documents/Codes_DipolarIsingModel/myopic-dual-worm/dualworm-kagome/AnalysisFunctions.py'>"
      ]
     },
     "execution_count": 5,
     "metadata": {},
     "output_type": "execute_result"
    }
   ],
   "source": [
    "import importlib\n",
    "importlib.reload(af)"
   ]
  },
  {
   "cell_type": "code",
   "execution_count": 6,
   "metadata": {
    "scrolled": false
   },
   "outputs": [
    {
     "ename": "KeyboardInterrupt",
     "evalue": "",
     "output_type": "error",
     "traceback": [
      "\u001b[0;31m---------------------------------------------------------------------------\u001b[0m",
      "\u001b[0;31mKeyboardInterrupt\u001b[0m                         Traceback (most recent call last)",
      "\u001b[0;32m<ipython-input-6-148f102b277e>\u001b[0m in \u001b[0;36m<module>\u001b[0;34m\u001b[0m\n\u001b[1;32m      5\u001b[0m  t_h_S, t_h_Smin, t_h_Smax, MergedData ] = \\\n\u001b[1;32m      6\u001b[0m  af.LoadEnergy(foldername, filenamelist, numsites,\n\u001b[0;32m----> 7\u001b[0;31m                nb, stat_temps, temperatures, stat_hfields, listfunctions, **kw)\n\u001b[0m\u001b[1;32m      8\u001b[0m \u001b[0;34m\u001b[0m\u001b[0m\n\u001b[1;32m      9\u001b[0m \u001b[0;32mif\u001b[0m \u001b[0mmergeruns\u001b[0m\u001b[0;34m:\u001b[0m\u001b[0;34m\u001b[0m\u001b[0;34m\u001b[0m\u001b[0m\n",
      "\u001b[0;32m~/Documents/Codes_DipolarIsingModel/myopic-dual-worm/dualworm-kagome/AnalysisFunctions.py\u001b[0m in \u001b[0;36mLoadEnergy\u001b[0;34m(foldername, filenamelist, numsites, nb, stat_temps, temperatures, stat_hfields, listfunctions, **kwargs)\u001b[0m\n\u001b[1;32m    563\u001b[0m              C[nf], ErrC[nf], t_h_S[nf], t_h_Smin[nf], t_h_Smax[nf]] = \\\n\u001b[1;32m    564\u001b[0m                 LoadEnergyFromFile(foldername, filename, numsites[nf], nb[nf], stat_temps[nf],\n\u001b[0;32m--> 565\u001b[0;31m                                    temperatures[nf], stat_hfields[nf], idfunc, **kwargs)\n\u001b[0m\u001b[1;32m    566\u001b[0m         \u001b[0;32melse\u001b[0m\u001b[0;34m:\u001b[0m\u001b[0;34m\u001b[0m\u001b[0;34m\u001b[0m\u001b[0m\n\u001b[1;32m    567\u001b[0m             [t_h_MeanE[nf], t_h_MeanEsq[nf], t_h_varMeanE[nf],\n",
      "\u001b[0;32m~/Documents/Codes_DipolarIsingModel/myopic-dual-worm/dualworm-kagome/AnalysisFunctions.py\u001b[0m in \u001b[0;36mLoadEnergyFromFile\u001b[0;34m(foldername, filename, numsites, nb, stat_temps, temperatures, stat_hfields, idfunc, **kwargs)\u001b[0m\n\u001b[1;32m    659\u001b[0m     \u001b[0mnbb_drop\u001b[0m \u001b[0;34m=\u001b[0m \u001b[0mnb_drop\u001b[0m\u001b[0;34m//\u001b[0m\u001b[0;34m(\u001b[0m\u001b[0;36m2\u001b[0m\u001b[0;34m**\u001b[0m\u001b[0ml\u001b[0m\u001b[0;34m)\u001b[0m\u001b[0;34m\u001b[0m\u001b[0;34m\u001b[0m\u001b[0m\n\u001b[1;32m    660\u001b[0m     t_h_MeanE, t_h_varMeanE =    ExtractStatistics(backup, idfunc, name,\n\u001b[0;32m--> 661\u001b[0;31m                       nb, stat_temps, stat_hfields, **kwargs)\n\u001b[0m\u001b[1;32m    662\u001b[0m \u001b[0;34m\u001b[0m\u001b[0m\n\u001b[1;32m    663\u001b[0m     \u001b[0mprint\u001b[0m\u001b[0;34m(\u001b[0m\u001b[0mt_h_MeanE\u001b[0m\u001b[0;34m[\u001b[0m\u001b[0;36m0\u001b[0m\u001b[0;34m]\u001b[0m\u001b[0;34m)\u001b[0m\u001b[0;34m\u001b[0m\u001b[0;34m\u001b[0m\u001b[0m\n",
      "\u001b[0;32m~/Documents/Codes_DipolarIsingModel/myopic-dual-worm/dualworm-kagome/AnalysisFunctions.py\u001b[0m in \u001b[0;36mExtractStatistics\u001b[0;34m(backup, idfunc, name, nb, stat_temps, stat_hfields, sq, **kwargs)\u001b[0m\n\u001b[1;32m    209\u001b[0m         \u001b[0;32mfor\u001b[0m \u001b[0mreshid\u001b[0m\u001b[0;34m,\u001b[0m \u001b[0mh\u001b[0m \u001b[0;32min\u001b[0m \u001b[0menumerate\u001b[0m\u001b[0;34m(\u001b[0m\u001b[0mstat_hfields\u001b[0m\u001b[0;34m)\u001b[0m\u001b[0;34m:\u001b[0m\u001b[0;34m\u001b[0m\u001b[0;34m\u001b[0m\u001b[0m\n\u001b[1;32m    210\u001b[0m             \u001b[0;32mfor\u001b[0m \u001b[0mb\u001b[0m \u001b[0;32min\u001b[0m \u001b[0mrange\u001b[0m\u001b[0;34m(\u001b[0m\u001b[0mnb_drop\u001b[0m\u001b[0;34m,\u001b[0m \u001b[0mnb\u001b[0m\u001b[0;34m)\u001b[0m\u001b[0;34m:\u001b[0m\u001b[0;34m\u001b[0m\u001b[0;34m\u001b[0m\u001b[0m\n\u001b[0;32m--> 211\u001b[0;31m                 \u001b[0mt_h_varmeanfunc\u001b[0m\u001b[0;34m[\u001b[0m\u001b[0mresid\u001b[0m\u001b[0;34m,\u001b[0m\u001b[0mreshid\u001b[0m\u001b[0;34m]\u001b[0m \u001b[0;34m+=\u001b[0m \u001b[0;34m(\u001b[0m\u001b[0;34m(\u001b[0m\u001b[0mnb_stattuple\u001b[0m\u001b[0;34m[\u001b[0m\u001b[0mb\u001b[0m\u001b[0;34m,\u001b[0m \u001b[0msq\u001b[0m\u001b[0;34m,\u001b[0m \u001b[0mresid\u001b[0m\u001b[0;34m,\u001b[0m \u001b[0mreshid\u001b[0m\u001b[0;34m]\u001b[0m \u001b[0;34m-\u001b[0m \u001b[0mt_h_meanfunc\u001b[0m\u001b[0;34m[\u001b[0m\u001b[0mresid\u001b[0m\u001b[0;34m]\u001b[0m\u001b[0;34m[\u001b[0m\u001b[0mreshid\u001b[0m\u001b[0;34m]\u001b[0m\u001b[0;34m)\u001b[0m \u001b[0;34m**\u001b[0m \u001b[0;36m2\u001b[0m\u001b[0;34m)\u001b[0m\u001b[0;34m/\u001b[0m\u001b[0;34m(\u001b[0m\u001b[0;34m(\u001b[0m\u001b[0mnb\u001b[0m \u001b[0;34m-\u001b[0m\u001b[0mnb_drop\u001b[0m\u001b[0;34m)\u001b[0m\u001b[0;34m*\u001b[0m \u001b[0;34m(\u001b[0m\u001b[0mnb\u001b[0m \u001b[0;34m-\u001b[0m\u001b[0mnb_drop\u001b[0m \u001b[0;34m-\u001b[0m \u001b[0;36m1\u001b[0m\u001b[0;34m)\u001b[0m\u001b[0;34m)\u001b[0m\u001b[0;34m\u001b[0m\u001b[0;34m\u001b[0m\u001b[0m\n\u001b[0m\u001b[1;32m    212\u001b[0m                 \u001b[0;31m# note that this is like t_h_varmeanfunc[resid,reshid, :]\u001b[0m\u001b[0;34m\u001b[0m\u001b[0;34m\u001b[0m\u001b[0;34m\u001b[0m\u001b[0m\n\u001b[1;32m    213\u001b[0m \u001b[0;34m\u001b[0m\u001b[0m\n",
      "\u001b[0;31mKeyboardInterrupt\u001b[0m: "
     ]
    }
   ],
   "source": [
    "kw = {'binning':True, 'plzplot': False, 'minbin':63, 'RS':True, \n",
    "      'S0':np.log(2), 'mergeruns':mergeruns, 'nb_drop':nb_drop,\n",
    "     'plotmin':80, 'plotmax':85, 'binning_level':1, 'jackknife': True}\n",
    "[t_h_MeanE, t_h_MeanEsq, t_h_varMeanE, t_h_varMeanEsq, C, ErrC,\n",
    " t_h_S, t_h_Smin, t_h_Smax, MergedData ] = \\\n",
    " af.LoadEnergy(foldername, filenamelist, numsites,\n",
    "               nb, stat_temps, temperatures, stat_hfields, listfunctions, **kw)\n",
    "\n",
    "if mergeruns:\n",
    "    [t_h_MeanE, t_h_MeanEsq, t_h_varMeanE, t_h_varMeanEsq, C, ErrC,\n",
    " t_h_S, t_h_Smin, t_h_Smax] = MergedData"
   ]
  },
  {
   "cell_type": "code",
   "execution_count": null,
   "metadata": {
    "scrolled": false
   },
   "outputs": [],
   "source": [
    "#t_MeanM, t_MeanMsq, t_varMeanM, t_varMeanMsq, Chi, ErrChi = \\\n",
    "# af.LoadMagnetisation(foldername, filenamelist, numsites, nb,\n",
    "#                      stat_temps, temperatures, listfunctions, **kw)"
   ]
  },
  {
   "cell_type": "code",
   "execution_count": null,
   "metadata": {
    "scrolled": true
   },
   "outputs": [],
   "source": [
    "###########################################\n",
    "        ## ALGORITHM ANALYSIS ##\n",
    "###########################################\n",
    "tidmin = 0\n",
    "tidmax = nt\n",
    "af.SwapsAnalysis(L, n, tidmin, tidmax, temperatures, hfields,\n",
    "                 foldername, results_foldername, swapst, swapsh)"
   ]
  },
  {
   "cell_type": "code",
   "execution_count": null,
   "metadata": {
    "scrolled": true
   },
   "outputs": [],
   "source": [
    "af.FailedAnalysis(L, n, tidmin, tidmax, temperatures, hfields,\n",
    "                 foldername, results_foldername,failed, failedssf)"
   ]
  },
  {
   "cell_type": "code",
   "execution_count": null,
   "metadata": {},
   "outputs": [],
   "source": [
    "import importlib\n",
    "importlib.reload(af)"
   ]
  },
  {
   "cell_type": "code",
   "execution_count": null,
   "metadata": {},
   "outputs": [],
   "source": [
    "tidmin = 0\n",
    "tidmax = [len(stat_temps[i]) for i in range(n)]\n",
    "temperatures_plots = np.array(temperatures_plots)\n",
    "S0 = np.log(2)\n",
    "kw = {'gscheck': True, 'S0': S0, 'RS': True, 't_h_EntropyData': (t_h_S, t_h_Smin, t_h_Smax) }\n",
    "\n",
    "print(t_h_Smin[0][0:5,0])\n",
    "print(t_h_S[0][0:5,0])\n",
    "print(t_h_Smax[0][0:5,0])"
   ]
  },
  {
   "cell_type": "code",
   "execution_count": null,
   "metadata": {},
   "outputs": [],
   "source": [
    "import matplotlib.font_manager\n",
    "from matplotlib import rc\n",
    "rc('font',**{'family':'serif','serif':['Time New Roman'],'size':12})\n",
    "rc('text', usetex=True)\n",
    "import os\n",
    "fm = matplotlib.font_manager.json_load(os.path.expanduser(\"~/.cache/matplotlib/fontlist-v310.json\"))\n",
    "\n",
    "fm.findfont(\"serif\", rebuild_if_missing=False)"
   ]
  },
  {
   "cell_type": "code",
   "execution_count": null,
   "metadata": {
    "scrolled": false
   },
   "outputs": [],
   "source": [
    "###########################################\n",
    "        ## STATISTICS ANALYSIS ##\n",
    "###########################################\n",
    "#for i in range(n):\n",
    "#    af.BasicPlotsE(L, i, tidmin, tidmax, temperatures_plots, hfields_plots, foldername,\n",
    "#                    results_foldername, filenamelist, t_h_MeanE, t_h_MeanEsq, t_h_varMeanE,\n",
    "#                    t_h_varMeanEsq, C, ErrC, J1, J2, J3, J4, **kw)\n",
    "#\n",
    "#\n",
    "if mergeruns:\n",
    "    nplots = 1\n",
    "    addsave = \"_Merged_\"\n",
    "else:\n",
    "    nplots = n\n",
    "    addsave = \"_IndependentRuns_\"\n",
    "    \n",
    "tidmin = 0\n",
    "put_legend = False\n",
    "af.BulkPlotsE(L, nplots, 0, tidmin, tidmax, temperatures_plots, foldername,\n",
    "                results_foldername, filenamelist, t_h_MeanE, t_h_MeanEsq, t_h_varMeanE,\n",
    "                t_h_varMeanEsq, C, ErrC, J1, J2, J3, J4,\n",
    "              t_h_S, t_h_Smin, t_h_Smax, addsave = addsave,\n",
    "              figsize = (6,4), markersize = 3, ncol = 2, loc = 'upper right',\n",
    "              put_legend = put_legend)"
   ]
  },
  {
   "cell_type": "code",
   "execution_count": null,
   "metadata": {},
   "outputs": [],
   "source": [
    "if not mergeruns:\n",
    "    margin = [0.15, 0.15, 0.02, 0.1]\n",
    "    figsize = (6,4)\n",
    "    markersize = 3\n",
    "    ncol = 4\n",
    "    hid = 0\n",
    "    plt.figure(figsize=figsize,dpi=300)\n",
    "    plt.axes(margin[:2] + [1-margin[0]-margin[2], 1-margin[1]-margin[3]])\n",
    "    for i in range(1,n):\n",
    "        plt.semilogx(temperatures_plots[i][tidmin:tidmax[i]],\n",
    "                         t_h_MeanE[i][tidmin:tidmax[i]][:,hid]-t_h_MeanE[0][tidmin:tidmax[0]][:,hid],'.', markersize=markersize,\\\n",
    "                          label = r'$it$ = {0}'.format(i))\n",
    "        #plt.fill_between(temperatures_plots[i][tidmin:tidmax[i]],\n",
    "        #                 (t_h_MeanE[i][tidmin:tidmax[i]][:,hid]\n",
    "        #                  - np.sqrt(t_h_varMeanE[i][tidmin:tidmax[i]][:,hid])),\n",
    "        #                 (t_h_MeanE[i][tidmin:tidmax[i]][:,hid]\n",
    "        #                  + np.sqrt(t_h_varMeanE[i][tidmin:tidmax[i]][:,hid])),\\\n",
    "        #                 alpha=alpha)\n",
    "    plt.xlabel(r'$T$')\n",
    "    plt.ylabel(r'$\\Delta E$')\n",
    "    plt.grid(which = 'both', linestyle = '--', alpha = 0.3)\n",
    "    if put_legend:\n",
    "        plt.legend(loc= 'best', ncol = 4, framealpha=0.5)\n",
    "    plt.savefig('./' + foldername  + results_foldername+ '/ErrorE.pdf')\n",
    "    plt.savefig('./' + foldername  + results_foldername+ '/ErrorE.png')\n",
    "\n",
    "    margin = [0.15, 0.15, 0.02, 0.1]\n",
    "    figsize = (6,4)\n",
    "    markersize = 3\n",
    "    ncol = 4\n",
    "    hid = 0\n",
    "    plt.figure(figsize=figsize,dpi=300)\n",
    "    plt.axes(margin[:2] + [1-margin[0]-margin[2], 1-margin[1]-margin[3]])\n",
    "    for i in range(1,n):\n",
    "        plt.semilogx(temperatures_plots[i][tidmin:tidmax[i]],\n",
    "                         t_h_S[i][tidmin:tidmax[i]][:,hid]-t_h_S[0][tidmin:tidmax[0]][:,hid],'.', markersize=markersize,\\\n",
    "                          label = r'$it$ = {0}'.format(i))\n",
    "        #plt.fill_between(temperatures_plots[i][tidmin:tidmax[i]],\n",
    "        #                 (t_h_MeanE[i][tidmin:tidmax[i]][:,hid]\n",
    "        #                  - np.sqrt(t_h_varMeanE[i][tidmin:tidmax[i]][:,hid])),\n",
    "        #                 (t_h_MeanE[i][tidmin:tidmax[i]][:,hid]\n",
    "        #                  + np.sqrt(t_h_varMeanE[i][tidmin:tidmax[i]][:,hid])),\\\n",
    "        #                 alpha=alpha)\n",
    "    plt.xlabel(r'$T$')\n",
    "    plt.ylabel(r'$\\Delta S$')\n",
    "    plt.grid(which = 'both', linestyle = '--', alpha = 0.3)\n",
    "    if put_legend:\n",
    "        plt.legend(loc= 'best', ncol = 4, framealpha=0.5)\n",
    "    plt.savefig('./' + foldername  + results_foldername+ '/ErrorS.pdf')\n",
    "    plt.savefig('./' + foldername  + results_foldername+ '/ErrorS.png')\n",
    "\n",
    "else:\n",
    "    print(\"S = \", t_h_S[0][0], r\"+/-\", max(abs(t_h_S[0][0]-t_h_Smin[0][0]),abs(t_h_S[0][0]-t_h_Smax[0][0])))"
   ]
  },
  {
   "cell_type": "code",
   "execution_count": null,
   "metadata": {},
   "outputs": [],
   "source": [
    "np.savetxt(foldername + results_foldername + \"/AvgS.txt\", t_h_S[0])\n",
    "np.savetxt(foldername + results_foldername + \"/AvgSmin.txt\", t_h_Smin[0])\n",
    "np.savetxt(foldername + results_foldername + \"/AvgSmax.txt\", t_h_Smax[0])"
   ]
  },
  {
   "cell_type": "code",
   "execution_count": null,
   "metadata": {},
   "outputs": [],
   "source": [
    "np.savetxt(foldername + results_foldername + \"/AvgC.txt\", C[0])\n",
    "np.savetxt(foldername + results_foldername + \"/ErrC.txt\", ErrC[0])"
   ]
  },
  {
   "cell_type": "code",
   "execution_count": null,
   "metadata": {},
   "outputs": [],
   "source": [
    "print(foldername + results_foldername)"
   ]
  },
  {
   "cell_type": "code",
   "execution_count": null,
   "metadata": {},
   "outputs": [],
   "source": []
  }
 ],
 "metadata": {
  "kernelspec": {
   "display_name": "Python 3",
   "language": "python",
   "name": "python3"
  },
  "language_info": {
   "codemirror_mode": {
    "name": "ipython",
    "version": 3
   },
   "file_extension": ".py",
   "mimetype": "text/x-python",
   "name": "python",
   "nbconvert_exporter": "python",
   "pygments_lexer": "ipython3",
   "version": "3.6.9"
  }
 },
 "nbformat": 4,
 "nbformat_minor": 2
}
