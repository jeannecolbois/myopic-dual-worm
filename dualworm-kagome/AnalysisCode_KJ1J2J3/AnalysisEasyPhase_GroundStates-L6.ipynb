{
 "cells": [
  {
   "cell_type": "code",
   "execution_count": null,
   "metadata": {},
   "outputs": [],
   "source": [
    "import os,sys,inspect\n",
    "currentdir = os.path.dirname(os.path.abspath(inspect.getfile(inspect.currentframe())))\n",
    "parentdir = os.path.dirname(currentdir)\n",
    "sys.path.insert(0,parentdir) "
   ]
  },
  {
   "cell_type": "code",
   "execution_count": null,
   "metadata": {},
   "outputs": [],
   "source": [
    "# Import modules\n",
    "import numpy as np # maths\n",
    "\n",
    "from time import time# timer for debug\n",
    "\n",
    "    # gather results obtained from the runs\n",
    "\n",
    "    # system commands\n",
    "import os\n",
    "    \n",
    "    # interact with the C++ core and the Python core\n",
    "import dimers as dim # C++ interface module\n",
    "import KagomeFunctions as kf # \"library\" allowing to work on Kagome\n",
    "import KagomeDrawing as kdraw # \"library\" allowing to plot Kagome\n",
    "import Observables as obs #observables that can be used by the run script\n",
    "import KagomeFT as kft #small functions to compute the FT\n",
    "import AnalysisFunctions as af # functions to make the analysis code cleaner\n",
    "    #plots using matplotlib\n",
    "import matplotlib\n",
    "import matplotlib.pyplot as plt\n",
    "%matplotlib inline\n",
    "matplotlib.rcParams['axes.unicode_minus'] = False\n",
    "matplotlib.rcParams.update({'font.size': 14, 'pgf.texsystem':'pdflatex'})"
   ]
  },
  {
   "cell_type": "code",
   "execution_count": null,
   "metadata": {},
   "outputs": [],
   "source": [
    "# Create a folder to save the pictures\n",
    "foldername = '../../MFUs/Runs_04-09-20_EasyPhase_L6/'\n",
    "foldername = '../../MFUs/Runs_15-09-20_EasyPhase_L6/'\n",
    "#foldername = '../Analysis_PSI/Runs_12-11-19_ssfMagnField/'\n",
    "results_foldername = 'Results_24-11-20_GroundStatesL6/'\n",
    "\n",
    "os.makedirs('./' + foldername + results_foldername, exist_ok = True)\n",
    "\n",
    "filenamelist = ['KEasyPhase_L6_it0_nsm1048576_folder/backup',\n",
    "                'KEasyPhase_L6_it1_nsm1048576_folder/backup',\n",
    "                'KEasyPhase_L6_it2_nsm1048576_folder/backup',\n",
    "                'KEasyPhase_L6_it3_nsm1048576_folder/backup',\n",
    "                'KEasyPhase_L6_it4_nsm1048576_folder/backup',\n",
    "                'KEasyPhase_L6_it5_nsm1048576_folder/backup',\n",
    "                #'KEasyPhase_L6_it6_nsm1048576_folder/backup',\n",
    "                'KEasyPhase_L6_it7_nsm1048576_folder/backup',\n",
    "                #'KEasyPhase_L6_it8_nsm1048576_folder/backup',\n",
    "                'KEasyPhase_L6_it9_nsm1048576_folder/backup',\n",
    "                'KEasyPhase_L6_it10_nsm1048576_folder/backup',\n",
    "                'KEasyPhase_L6_it11_nsm1048576_folder/backup',\n",
    "                'KEasyPhase_L6_it12_nsm1048576_folder/backup',\n",
    "                'KEasyPhase_L6_it13_nsm1048576_folder/backup',\n",
    "                'KEasyPhase_L6_it14_nsm1048576_folder/backup',\n",
    "                'KEasyPhase_L6_it15_nsm1048576_folder/backup',\n",
    "                'KEasyPhase_L6_it16_nsm1048576_folder/backup',\n",
    "                'KEasyPhase_L6_it17_nsm1048576_folder/backup',\n",
    "                'KEasyPhase_L6_it18_nsm1048576_folder/backup',\n",
    "                'KEasyPhase_L6_it19_nsm1048576_folder/backup',\n",
    "                'KEasyPhase_L6_it20_nsm1048576_folder/backup',\n",
    "                'KEasyPhase_L6_it21_nsm1048576_folder/backup',\n",
    "                'KEasyPhase_L6_it22_nsm1048576_folder/backup',\n",
    "                'KEasyPhase_L6_it23_nsm1048576_folder/backup',\n",
    "                'KEasyPhase_L6_it24_nsm1048576_folder/backup',\n",
    "                'KEasyPhase_L6_it25_nsm1048576_folder/backup',\n",
    "                'KEasyPhase_L6_it26_nsm1048576_folder/backup',\n",
    "                'KEasyPhase_L6_it27_nsm1048576_folder/backup',\n",
    "                'KEasyPhase_L6_it28_nsm1048576_folder/backup',\n",
    "                'KEasyPhase_L6_it29_nsm1048576_folder/backup',\n",
    "                'KEasyPhase_L6_it30_nsm1048576_folder/backup',\n",
    "                'KEasyPhase_L6_it31_nsm1048576_folder/backup'\n",
    "               ]\n",
    "\n",
    "filenamelist = ['KEasyPhase_L6_it0_nsm1048576_folder/backup',\n",
    "                'KEasyPhase_L6_it1_nsm1048576_folder/backup',\n",
    "                'KEasyPhase_L6_it2_nsm1048576_folder/backup',\n",
    "                'KEasyPhase_L6_it3_nsm1048576_folder/backup'\n",
    "               ]\n",
    "filenamelist = ['KEasyPhase_L6_it0_nsm1048576_nips2_folder/backup',\n",
    "                'KEasyPhase_L6_it0_nsm1048576_nips2_restarted_folder/backup',\n",
    "                'KEasyPhase_L6_it1_nsm1048576_nips2_folder/backup',\n",
    "                'KEasyPhase_L6_it1_nsm1048576_nips2_restarted_folder/backup',\n",
    "                'KEasyPhase_L6_it2_nsm1048576_nips2_folder/backup',\n",
    "                'KEasyPhase_L6_it2_nsm1048576_nips2_restarted_folder/backup',\n",
    "                'KEasyPhase_L6_it3_nsm1048576_nips2_folder/backup',\n",
    "                'KEasyPhase_L6_it3_nsm1048576_nips2_restarted_folder/backup',\n",
    "                'KEasyPhase_L6_it4_nsm1048576_nips2_folder/backup',\n",
    "                'KEasyPhase_L6_it4_nsm1048576_nips2_restarted_folder/backup',\n",
    "                'KEasyPhase_L6_it5_nsm1048576_nips2_folder/backup',\n",
    "                'KEasyPhase_L6_it5_nsm1048576_nips2_restarted_folder/backup',\n",
    "                'KEasyPhase_L6_it6_nsm1048576_nips2_folder/backup',\n",
    "                'KEasyPhase_L6_it6_nsm1048576_nips2_restarted_folder/backup',\n",
    "                'KEasyPhase_L6_it7_nsm1048576_nips2_folder/backup',\n",
    "                'KEasyPhase_L6_it7_nsm1048576_nips2_restarted_folder/backup',\n",
    "                'KEasyPhase_L6_it8_nsm1048576_nips2_folder/backup',\n",
    "                'KEasyPhase_L6_it8_nsm1048576_nips2_restarted_folder/backup',\n",
    "                'KEasyPhase_L6_it9_nsm1048576_nips2_folder/backup',\n",
    "                'KEasyPhase_L6_it9_nsm1048576_nips2_restarted_folder/backup',\n",
    "                'KEasyPhase_L6_it10_nsm1048576_nips2_folder/backup',\n",
    "                'KEasyPhase_L6_it10_nsm1048576_nips2_restarted_folder/backup',\n",
    "                'KEasyPhase_L6_it11_nsm1048576_nips2_folder/backup',\n",
    "                'KEasyPhase_L6_it11_nsm1048576_nips2_restarted_folder/backup',\n",
    "                'KEasyPhase_L6_it12_nsm1048576_nips2_folder/backup',\n",
    "                'KEasyPhase_L6_it12_nsm1048576_nips2_restarted_folder/backup',\n",
    "                'KEasyPhase_L6_it13_nsm1048576_nips2_folder/backup',\n",
    "                'KEasyPhase_L6_it13_nsm1048576_nips2_restarted_folder/backup',\n",
    "                'KEasyPhase_L6_it14_nsm1048576_nips2_folder/backup',\n",
    "                'KEasyPhase_L6_it14_nsm1048576_nips2_restarted_folder/backup',\n",
    "                'KEasyPhase_L6_it15_nsm1048576_nips2_folder/backup',\n",
    "                'KEasyPhase_L6_it15_nsm1048576_nips2_restarted_folder/backup'\n",
    "                ]\n",
    "n = len(filenamelist)"
   ]
  },
  {
   "cell_type": "code",
   "execution_count": null,
   "metadata": {
    "scrolled": true
   },
   "outputs": [],
   "source": [
    "mergeruns = False\n",
    "groupruns = 1\n",
    "nb_drop = 0\n",
    "kw = {'mergeruns':mergeruns, 'groupruns': groupruns}\n",
    "\n",
    "[L, numsites, J1, J2, J3, J3st, J4, nb, num_in_bin, \n",
    " htip, Ttip, pswitch, uponly, path,\n",
    " temperatures, nt,\n",
    " stat_temps, temperatures_plots, hfields, nh, \n",
    " stat_hfields, hfields_plots, listfunctions, sref, ids2walker] = \\\n",
    "af.LoadParameters(foldername, filenamelist, **kw)\n",
    "\n",
    "\n",
    "s_ijl, ijl_s = kdraw.createspinsitetable(L[0])\n",
    "print(\"nb \", nb, \"num_in_bin \", num_in_bin)\n",
    "swapst_th, swapsh_th, swapst, swapsh = af.LoadSwaps(foldername, filenamelist, nb, num_in_bin, nh, nt, **kw)\n",
    "\n",
    "\n",
    "failedth, failedssfth, failed, failedssf = \\\n",
    "af.LoadUpdates(foldername, filenamelist, nb, num_in_bin, [9*L[i]**2 for i in range(n)], **kw)\n"
   ]
  },
  {
   "cell_type": "code",
   "execution_count": null,
   "metadata": {},
   "outputs": [],
   "source": [
    "hid = 0"
   ]
  },
  {
   "cell_type": "code",
   "execution_count": null,
   "metadata": {},
   "outputs": [],
   "source": [
    "# Plot the lowest temperature state to get an idea\n",
    "t_spinstates, t_states, t_charges = af.LoadStates(foldername, filenamelist, L, nh)"
   ]
  },
  {
   "cell_type": "code",
   "execution_count": null,
   "metadata": {},
   "outputs": [],
   "source": [
    "import DualwormFunctions as dw"
   ]
  },
  {
   "cell_type": "code",
   "execution_count": null,
   "metadata": {},
   "outputs": [],
   "source": [
    "import importlib\n",
    "importlib.reload(kdraw)"
   ]
  },
  {
   "cell_type": "code",
   "execution_count": null,
   "metadata": {},
   "outputs": [],
   "source": [
    "latsize = t_spinstates[0][hid].size\n",
    "[d_ijl, ijl_d, s_ijl, ijl_s, d_2s, s2_d, d_nd, d_vd, d_wn,\n",
    "     sidlist, didlist, c_ijl, ijl_c, c2s, csign] =\\\n",
    "    dw.latticeinit(L[0])\n",
    "print(ids2walker[0][0,hid])"
   ]
  },
  {
   "cell_type": "code",
   "execution_count": null,
   "metadata": {},
   "outputs": [],
   "source": [
    "print(foldername + results_foldername)"
   ]
  },
  {
   "cell_type": "code",
   "execution_count": null,
   "metadata": {},
   "outputs": [],
   "source": [
    "len(filenamelist)"
   ]
  },
  {
   "cell_type": "code",
   "execution_count": null,
   "metadata": {
    "scrolled": false
   },
   "outputs": [],
   "source": [
    "count = 0\n",
    "for i in range(len(filenamelist)):\n",
    "    Lp = L[i]\n",
    "    state = t_states[i][ids2walker[i][0,hid]]\n",
    "    spinstate = t_spinstates[i][ids2walker[i][0,hid]]\n",
    "    kdraw.plotstate(0, Lp, d_ijl, ijl_s, sidlist, didlist, s2_d, [state], [spinstate],\n",
    "                    dim_node_color = 'none', dim_color ='none', \n",
    "                    spin_up_color = 'blue', spin_down_color = 'red', no_dim_color = 'crimson')\n",
    "    #kdraw.plot_honeycomb_chargestate(chargestate, ijl_c,\n",
    "    #                                 L,2,c1_color = 'black', c2_color = 'green',\n",
    "    #                                 c3_color = 'red', c4_color = 'black', uponly=True)\n",
    "    \n",
    "    # compute energy\n",
    "    \n",
    "    # write energy, if not gs write like \"careful\" or something\n",
    "    config = af.correlationsTester(state, latsize, d_ijl, ijl_d, L[0])\n",
    "    H = config['J1']*J1[i] + config['J2']*J2[i] + config['J3']*J3[i]\n",
    "    print(\" H = \", config['J1'], \"J1 + \", config['J2'], \"J2 + \",config['J3'], \"J3\")\n",
    "    ExpectH = 2/3*J1[i] - 2/3*J2[i] - J3[i]\n",
    "    isgroundstate = np.abs(ExpectH - H) < 1e-9\n",
    "    print(\"GS? \", isgroundstate)\n",
    "    plt.legend()\n",
    "    plt.title(\"Is ground state ?{0}\".format(isgroundstate))\n",
    "    #\n",
    "    # save figure.\n",
    "    if isgroundstate:\n",
    "        count = count + 1;\n",
    "        plt.savefig(foldername + results_foldername + \"GroundState{0}.png\".format(count))"
   ]
  },
  {
   "cell_type": "code",
   "execution_count": null,
   "metadata": {},
   "outputs": [],
   "source": []
  }
 ],
 "metadata": {
  "kernelspec": {
   "display_name": "Python 3",
   "language": "python",
   "name": "python3"
  },
  "language_info": {
   "codemirror_mode": {
    "name": "ipython",
    "version": 3
   },
   "file_extension": ".py",
   "mimetype": "text/x-python",
   "name": "python",
   "nbconvert_exporter": "python",
   "pygments_lexer": "ipython3",
   "version": "3.6.9"
  }
 },
 "nbformat": 4,
 "nbformat_minor": 2
}
