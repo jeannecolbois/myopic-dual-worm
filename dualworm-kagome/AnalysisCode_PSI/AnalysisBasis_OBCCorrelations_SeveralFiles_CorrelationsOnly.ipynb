{
 "cells": [
  {
   "cell_type": "markdown",
   "metadata": {},
   "source": [
    "Last update 19.12.2019\n",
    "\n",
    "Author : Jeanne Colbois\n",
    "\n",
    "Please send any comments, questions or remarks to Jeanne Colbois: jeanne.colbois@epfl.ch.\n",
    "The author would appreciate to be cited in uses of this code, and would be very happy to hear about potential nice developments."
   ]
  },
  {
   "cell_type": "code",
   "execution_count": null,
   "metadata": {
    "collapsed": true
   },
   "outputs": [],
   "source": [
    "%load_ext line_profiler"
   ]
  },
  {
   "cell_type": "code",
   "execution_count": null,
   "metadata": {
    "collapsed": true
   },
   "outputs": [],
   "source": [
    "import os,sys,inspect\n",
    "currentdir = os.path.dirname(os.path.abspath(inspect.getfile(inspect.currentframe())))\n",
    "parentdir = os.path.dirname(currentdir)\n",
    "sys.path.insert(0,parentdir) "
   ]
  },
  {
   "cell_type": "code",
   "execution_count": null,
   "metadata": {
    "collapsed": true
   },
   "outputs": [],
   "source": [
    "# Import modules\n",
    "import numpy as np # maths\n",
    "\n",
    "from time import time# timer for debug\n",
    "    # gather results obtained from the runs  \n",
    "\n",
    "import KagomeFunctions_OBC as kf # \"library\"< allowing to work on Kagome\n",
    "import KagomeDrawing as kdraw # \"library\" allowing to plot Kagome\n",
    "import KagomeFT as kft\n",
    "import AnalysisFunctions_OBC as af # functions to make the analysis code cleaner\n",
    "    #plots using matplotlib\n",
    "import matplotlib\n",
    "import matplotlib.pyplot as plt\n",
    "import StartStates as strst\n",
    "#import matplotlib.image as mpimg\n",
    "%matplotlib inline\n",
    "matplotlib.rcParams['axes.unicode_minus'] = False\n",
    "matplotlib.rcParams.update({'font.size': 14})"
   ]
  },
  {
   "cell_type": "code",
   "execution_count": null,
   "metadata": {
    "collapsed": true
   },
   "outputs": [],
   "source": [
    "# Create a folder to save the pictures\n",
    "#foldername = 'Tests_SpinConfigs/'\n",
    "#results_foldername = 'Results_Tests_SpinConfigs'\n",
    "#os.makedirs('./' + foldername + 'Plots' + results_foldername, exist_ok = True)"
   ]
  },
  {
   "cell_type": "code",
   "execution_count": null,
   "metadata": {
    "collapsed": true
   },
   "outputs": [],
   "source": [
    "#secondfoldername = ['../Analysis_PSI/Kagome_54-1_Demag_all/',]*2\n",
    "#secondfilename = ['54-1_Demag2_5-BR_spin_config.txt','54-1_Demag2_5-TL_spin_config.txt']\n",
    "\n",
    "#secondfoldername = ['../Analysis_PSI/Kagome_54-1_Demag_all/']*3\n",
    "#secondfilename = ['54-1_Demag3_5-BL_spin_config.txt',\n",
    "#                  '54-1_Demag3_5-BR_spin_config.txt',\n",
    "#                  '54-1_Demag3_5-TL_spin_config.txt']\n",
    "\n",
    "#secondfoldername = ['../Analysis_PSI/Kagome_54-1_Demag_all/']*2\n",
    "#secondfilename = ['54-1_Demag4_5-BL_spin_config.txt',\n",
    "#                  '54-1_Demag4_5-TL_spin_config.txt']\n",
    "\n",
    "#secondfoldername = ['../Analysis_PSI/Kagome_54-1_Demag_all/']*3\n",
    "#secondfilename = ['54-1_Demag5_5-BL_spin_config.txt',\n",
    "#                  '54-1_Demag5_5-BR_spin_config.txt',\n",
    "#                  '54-1_Demag5_5-TL_spin_config.txt']\n",
    "#\n",
    "#secondfoldername = ['../Analysis_PSI/Kagome_54-1_Demag_all/']*3\n",
    "#secondfilename = ['54-1_Demag6_5-BL_spin_config.txt',\n",
    "#                  '54-1_Demag6_5-BR_spin_config.txt',\n",
    "#                  '54-1_Demag6_5-TL_spin_config.txt']\n",
    "#\n",
    "secondfoldername = ['../Analysis_PSI/Kagome_54-1_Demag_all/']#*20\n",
    "secondfilename = ['54-1_Demag7_1-BL_spin_config.txt',\n",
    "                  '54-1_Demag7_1-BR_spin_config.txt',\n",
    "                  '54-1_Demag7_1-TL_spin_config.txt',\n",
    "                  '54-1_Demag7_1-TR_spin_config.txt',\n",
    "                  '54-1_Demag7_2-BL_spin_config.txt',\n",
    "                  '54-1_Demag7_2-BR_spin_config.txt',\n",
    "                  '54-1_Demag7_2-TL_spin_config.txt',\n",
    "                  '54-1_Demag7_2-TR_spin_config.txt',\n",
    "                  '54-1_Demag7_3-BL_spin_config.txt',\n",
    "                  '54-1_Demag7_3-BR_spin_config.txt',\n",
    "                  '54-1_Demag7_3-TL_spin_config.txt',\n",
    "                  '54-1_Demag7_3-TR_spin_config.txt',\n",
    "                  '54-1_Demag7_4-BL_spin_config.txt',\n",
    "                  '54-1_Demag7_4-BR_spin_config.txt',\n",
    "                  '54-1_Demag7_4-TL_spin_config.txt',\n",
    "                  '54-1_Demag7_4-TR_spin_config.txt',\n",
    "                  '54-1_Demag7_5-BL_spin_config.txt',\n",
    "                  '54-1_Demag7_5-BR_spin_config.txt',\n",
    "                  '54-1_Demag7_5-TL_spin_config.txt',\n",
    "                  '54-1_Demag7_5-TR_spin_config.txt']"
   ]
  },
  {
   "cell_type": "code",
   "execution_count": null,
   "metadata": {
    "collapsed": false,
    "scrolled": false
   },
   "outputs": [],
   "source": [
    "n = len(secondfilename)\n",
    "\n",
    "factors = [177, 178]\n",
    "nnloclist = [(11,12), (11,12)]\n",
    "\n",
    "#factors = [178.34, 178.29, 178]\n",
    "#nnloclist = [(11,12), (10,11), (11,12)]\n",
    "\n",
    "#factors = [179, 179]\n",
    "#nnloclist = [(10,11), (10,11)]\n",
    "#\n",
    "#factors = [179, 179, 180]\n",
    "#nnloclist = [(10,11), (10,11), (11,12)]\n",
    "#\n",
    "\n",
    "#factors = [180, 177, 179]\n",
    "#nnloclist = [(11,12), (11,12), (11,12)]\n",
    "\n",
    "factors = [178.27, 178, 177, 178,\n",
    "           177, 178, 178, 178,\n",
    "           178, 176.5, 178, 176.5,\n",
    "           179, 178.5, 178.5, 177,\n",
    "           177, 178, 178.5, 178.5]\n",
    "nnloclist = [(11,12), (11,12), (11,12), (11,12),\n",
    "             (11,12), (11,12), (41,42), (41,42),\n",
    "             (41,42), (41,42), (42,43), (42,43),\n",
    "             (42,43), (42,43), (41,42), (41,42),\n",
    "             (42,43), (41,42), (42,43), (42,43)]\n",
    "#factors=[178, 176.5,\n",
    "#           179, 178.5, 178.5, 177,\n",
    "#           177, 178, 178.5, 178.5]\n",
    "#nnloclist = [(42,43), (42,43),\n",
    "#             (42,43), (42,43), (41,42), (41,42),\n",
    "#             (42,43), (41,42), (42,43), (42,43)]\n",
    "#\n",
    "distconds = [(0.95, 1.05), (1.68, 1.78), (1.95, 2.05), (2.59, 2.69), (2.95, 3.05), (3.41, 3.52), (3.54, 3.67), (3.95, 4.05)]\n",
    "imgfile = \"\"\n",
    "\n",
    "covlist = []\n",
    "varcovlist = []\n",
    "dlist = []\n",
    "vardlist = []\n",
    "\n",
    "\n",
    "for i in range(len(secondfilename)):\n",
    "    print(\"------------------- File number \", i, \" ----------------------\")\n",
    "    factor = factors[i]\n",
    "    configlist, x, y, sconf= af.LoadSpinConfigsLarge(secondfoldername[i], secondfilename[i], imgfile, alpha = 1, factor = factor)\n",
    "\n",
    "    plt.plot(x[nnloclist[i][0]]/factor, y[nnloclist[i][0]]/factor,'.', color = \"red\")\n",
    "    plt.plot(x[nnloclist[i][1]]/factor, y[nnloclist[i][1]]/factor,'.', color = \"blue\")\n",
    "    print(x[nnloclist[i][0]],\" \", y[nnloclist[i][0]], \" \", x[nnloclist[i][1]], \" \", y[nnloclist[i][1]])\n",
    "    print(np.sqrt((x[nnloclist[i][0]]-x[nnloclist[i][1]])**2 + (y[nnloclist[i][0]]-y[nnloclist[i][1]])**2))\n",
    "    m = sum(sconf)/len(sconf)\n",
    "    print(\"magnetisation: \", m)\n",
    "    \n",
    "    distances_s1s2 = af.KagomeLatticeHistogram(x,y, factor=factor)\n",
    "    plt.savefig(secondfoldername[i] + 'Histogram' + secondfilename[i]+'.png')\n",
    "    plt.show()\n",
    "    NNList = af.KagomeLatticeNeighboursLists(distances_s1s2, distconds)\n",
    "    cconf, xc,yc, tlist = af.KagomeLatticeCharges(NNList,sconf,x,y)\n",
    "    charges = [np.count_nonzero(cconf == 3), np.count_nonzero(cconf == 1),\n",
    "           np.count_nonzero(cconf == -1), np.count_nonzero(cconf == -3)]\n",
    "    print(charges)\n",
    "    np.savetxt(secondfoldername[i] + 'charges' + secondfilename[i],\n",
    "           np.array(charges), newline=\",\")\n",
    "    \n",
    "    fig, ax = plt.subplots(figsize = (8,8),dpi=200)\n",
    "    af.plotSpinSites(secondfoldername, imgfile, x, y, \n",
    "                 [i for i in range(len(x)) if sconf[i] == 1],\n",
    "                 putimage = False, color = 'blue', alpha = 1,\n",
    "                 linestyle = 'none')\n",
    "    af.plotSpinSites(secondfoldername, imgfile, x, y, \n",
    "                     [i for i in range(len(x)) if sconf[i] == -1],\n",
    "                     putimage = False, color = 'red', alpha = 1,\n",
    "                     linestyle = 'none')\n",
    "    af.plotSpinSites(secondfoldername, imgfile, xc, yc, \n",
    "                     [i for i in range(len(xc)) if abs(cconf[i]) == 3], \n",
    "                     putimage = False, color = 'yellow', alpha = 1,\n",
    "                     linestyle = 'none')\n",
    "    af.plotSpinSites(secondfoldername, imgfile, xc, yc, \n",
    "                     [i for i in range(len(xc)) if abs(cconf[i]) == 1], \n",
    "                     putimage = False, color = 'green', alpha = 1,\n",
    "                     linestyle = 'none')\n",
    "    plt.savefig(secondfoldername[i] + 'State_' + secondfilename[i]+'.png')\n",
    "    plt.show()\n",
    "\n",
    "    cov = []\n",
    "    varcov = []\n",
    "    d = []\n",
    "    vard = []\n",
    "\n",
    "    for j in range(9):\n",
    "        print(j)\n",
    "        cov0, varcov0, d0, vard0= af.ComputeNthCorrList(NNList[j], sconf, x, y, factor)\n",
    "        cov.append(cov0)\n",
    "        varcov.append(varcov0)\n",
    "        d.append(d0)\n",
    "        vard.append(vard0)\n",
    "      \n",
    "    covlist.append(cov)\n",
    "    varcovlist.append(varcov)\n",
    "    dlist.append(d)\n",
    "    vardlist.append(vard)\n",
    "    \n",
    "    \n",
    "        \n",
    "    del configlist\n",
    "    del x\n",
    "    del y\n",
    "    del sconf\n",
    "    del distances_s1s2\n",
    "    del NNList\n",
    "    del cconf\n",
    "    del xc\n",
    "    del yc\n",
    "    del charges\n",
    "    del cov\n",
    "    del varcov\n",
    "    del d\n",
    "    del vard\n"
   ]
  },
  {
   "cell_type": "code",
   "execution_count": null,
   "metadata": {
    "collapsed": true
   },
   "outputs": [],
   "source": [
    "d = np.array(dlist).sum(0)/n\n",
    "vard = np.array(vardlist).sum(0)/n\n",
    "\n",
    "cov = np.array(covlist).sum(0)/n\n",
    "varcov = np.array([(covlist[i] - cov)**2 for i in range(n)]).sum(0)/n\n",
    "\n",
    "varcov2 = np.array(varcovlist).sum(0)/n"
   ]
  },
  {
   "cell_type": "code",
   "execution_count": null,
   "metadata": {
    "collapsed": true
   },
   "outputs": [],
   "source": [
    "print(cov)"
   ]
  },
  {
   "cell_type": "code",
   "execution_count": null,
   "metadata": {
    "collapsed": true
   },
   "outputs": [],
   "source": [
    "print(np.sqrt(np.array(varcov)))\n",
    "print(np.sqrt(np.array(varcov2)))"
   ]
  },
  {
   "cell_type": "code",
   "execution_count": null,
   "metadata": {
    "collapsed": true
   },
   "outputs": [],
   "source": [
    "fig, ax = plt.subplots(dpi=200)\n",
    "plt.errorbar(d, np.array(cov),xerr = np.sqrt(np.array(vard)),yerr=np.sqrt(np.array(varcov)),  fmt= '.')\n",
    "plt.xlabel('Distance')\n",
    "plt.ylabel('Accumulated correlations')\n",
    "plt.ylim(-0.27,0.12)\n",
    "plt.savefig(secondfoldername[i] + 'FirstResult_' + secondfilename[i]+'.png')\n",
    "plt.show()"
   ]
  },
  {
   "cell_type": "code",
   "execution_count": null,
   "metadata": {
    "collapsed": true,
    "scrolled": false
   },
   "outputs": [],
   "source": [
    "ListNei = ['1', '2', '3par', '3star', '4', '5', '6', '6bis', '7', '8', '8bis','9']\n",
    "for i in range(n):\n",
    "    fig, ax = plt.subplots(figsize = (8,8), dpi=200)\n",
    "\n",
    "    for index, covi in enumerate(covlist[i][0:8]):\n",
    "        #print(index)\n",
    "        plt.errorbar(1, covi,yerr=np.sqrt(np.array(varcovlist[i])[index]), label='Neighbour {0}'.format(ListNei[index]),  fmt= 'x', )\n",
    "\n",
    "    plt.xlabel('')\n",
    "    plt.ylabel('Accumulated correlations')\n",
    "    plt.ylim(-0.27, 0.12)\n",
    "    plt.legend(loc='best')\n",
    "    plt.savefig(secondfoldername[i]+'FirstFewCorrelations'+secondfilename[i]+'.png')\n",
    "\n",
    "fig, ax = plt.subplots(figsize = (8,8),dpi=200)\n",
    "x = [1 for y in cov];\n",
    "\n",
    "for index, covi in enumerate(cov[0:8]):\n",
    "    print(index)\n",
    "    plt.errorbar(1, covi,yerr=np.sqrt(np.array(varcov2)[index]), label='Neighbour {0}'.format(ListNei[index]),  fmt= 'x', )\n",
    "plt.xlabel('')\n",
    "plt.ylabel('Accumulated correlations (20 samples average)')\n",
    "plt.ylim(-0.27, 0.12)\n",
    "plt.legend()\n",
    "plt.savefig(secondfoldername[0]+'AvgFirstFewCorrelations'+secondfilename[0]+'.png')    "
   ]
  },
  {
   "cell_type": "code",
   "execution_count": null,
   "metadata": {
    "collapsed": true
   },
   "outputs": [],
   "source": [
    "#secondfoldername = '../Analysis_PSI/Kagome_54-1_Demag_all/'\n",
    "#secondfilename = '54-1_Demag3_5-BL_spin_config.txt'\n",
    "#imgfile = \"\"\n",
    "#factor = 178.34\n",
    "#configlist, x, y, sconf = af.LoadSpinConfigsLarge(secondfoldername, secondfilename, imgfile, alpha = 1, factor = factor)\n",
    "#plt.plot(x[11]/factor, y[11]/factor,'.', color = \"red\")\n",
    "#plt.plot(x[12]/factor, y[12]/factor,'.', color = \"blue\")\n",
    "#print(x[11],\" \", y[11], \" \", x[12], \" \", y[12])\n",
    "#print(np.sqrt((x[11]-x[12])**2 + (y[11]-y[12])**2))\n",
    "#m = sum(sconf)/len(sconf)\n",
    "#print(m)"
   ]
  },
  {
   "cell_type": "code",
   "execution_count": null,
   "metadata": {
    "collapsed": true
   },
   "outputs": [],
   "source": [
    "#secondfoldername = '../Analysis_PSI/Kagome_54-1_Demag_all/'\n",
    "#secondfilename = '54-1_Demag3_5-BR_spin_config.txt'\n",
    "#imgfile = \"\"\n",
    "#factor = 178.29\n",
    "#configlist, x, y, sconf = af.LoadSpinConfigsLarge(secondfoldername, secondfilename, imgfile, alpha = 1, factor = factor)\n",
    "#plt.plot(x[10]/factor, y[10]/factor,'.', color = \"red\")\n",
    "#plt.plot(x[11]/factor, y[11]/factor,'.', color = \"blue\")\n",
    "#print(x[10],\" \", y[10], \" \", x[11], \" \", y[11])\n",
    "#print(np.sqrt((x[11]-x[10])**2 + (y[11]-y[10])**2))\n",
    "#m = sum(sconf)/len(sconf)\n",
    "#print(m)"
   ]
  },
  {
   "cell_type": "code",
   "execution_count": null,
   "metadata": {
    "collapsed": true
   },
   "outputs": [],
   "source": [
    "#secondfoldername = '../Analysis_PSI/Kagome_54-1_Demag_all/'\n",
    "#secondfilename = '54-1_Demag3_5-TL_spin_config.txt'\n",
    "#imgfile = \"\"\n",
    "#factor = 178\n",
    "#configlist, x, y, sconf = af.LoadSpinConfigsLarge(secondfoldername, secondfilename, imgfile, alpha = 1, factor = factor)\n",
    "#plt.plot(x[11]/factor, y[11]/factor,'.', color = \"red\")\n",
    "#plt.plot(x[12]/factor, y[12]/factor,'.', color = \"blue\")\n",
    "#print(x[11],\" \", y[11], \" \", x[12], \" \", y[12])\n",
    "#print(np.sqrt((x[11]-x[12])**2 + (y[11]-y[12])**2))\n",
    "#m = sum(sconf)/len(sconf)\n",
    "#print(m)"
   ]
  },
  {
   "cell_type": "code",
   "execution_count": null,
   "metadata": {
    "collapsed": true
   },
   "outputs": [],
   "source": [
    "#secondfoldername = '../Analysis_PSI/Kagome_54-1_Demag_all/'\n",
    "#secondfilename = '54-1_Demag4_5-BL_spin_config.txt'\n",
    "#imgfile = \"\"\n",
    "#factor = 179\n",
    "#configlist, x, y, sconf = af.LoadSpinConfigsLarge(secondfoldername, secondfilename, imgfile, alpha = 1, factor = factor)\n",
    "#plt.plot(x[10]/factor, y[10]/factor,'.', color = \"red\")\n",
    "#plt.plot(x[11]/factor, y[11]/factor,'.', color = \"blue\")\n",
    "#print(x[10],\" \", y[10], \" \", x[11], \" \", y[11])\n",
    "#print(np.sqrt((x[11]-x[10])**2 + (y[11]-y[10])**2))\n",
    "#m = sum(sconf)/len(sconf)\n",
    "#print(m)"
   ]
  },
  {
   "cell_type": "code",
   "execution_count": null,
   "metadata": {
    "collapsed": true
   },
   "outputs": [],
   "source": [
    "#secondfoldername = '../Analysis_PSI/Kagome_54-1_Demag_all/'\n",
    "#secondfilename = '54-1_Demag4_5-TL_spin_config.txt'\n",
    "#imgfile = \"\"\n",
    "#factor = 179.11\n",
    "#configlist, x, y, sconf = af.LoadSpinConfigsLarge(secondfoldername, secondfilename, imgfile, alpha = 1, factor = factor)\n",
    "#plt.plot(x[10]/factor, y[10]/factor,'.', color = \"red\")\n",
    "#plt.plot(x[11]/factor, y[11]/factor,'.', color = \"blue\")\n",
    "#print(x[10],\" \", y[10], \" \", x[11], \" \", y[11])\n",
    "#print(np.sqrt((x[11]-x[10])**2 + (y[11]-y[10])**2))\n",
    "#m = sum(sconf)/len(sconf)\n",
    "#print(m)"
   ]
  },
  {
   "cell_type": "code",
   "execution_count": null,
   "metadata": {
    "collapsed": true
   },
   "outputs": [],
   "source": []
  },
  {
   "cell_type": "code",
   "execution_count": null,
   "metadata": {
    "collapsed": true
   },
   "outputs": [],
   "source": [
    "#secondfoldername = '../Analysis_PSI/Kagome_54-1_Demag_all/'\n",
    "#secondfilename = '54-1_Demag5_5-BL_spin_config.txt'\n",
    "#imgfile = \"\"\n",
    "#factor = 179.11\n",
    "#configlist, x, y, sconf = af.LoadSpinConfigsLarge(secondfoldername, secondfilename, imgfile, alpha = 1, factor = factor)\n",
    "#plt.plot(x[10]/factor, y[10]/factor,'.', color = \"red\")\n",
    "#plt.plot(x[11]/factor, y[11]/factor,'.', color = \"blue\")\n",
    "#print(x[10],\" \", y[10], \" \", x[11], \" \", y[11])\n",
    "#print(np.sqrt((x[11]-x[10])**2 + (y[11]-y[10])**2))\n",
    "#m = sum(sconf)/len(sconf)\n",
    "#print(m)"
   ]
  },
  {
   "cell_type": "code",
   "execution_count": null,
   "metadata": {
    "collapsed": true
   },
   "outputs": [],
   "source": [
    "#secondfoldername = '../Analysis_PSI/Kagome_54-1_Demag_all/'\n",
    "#secondfilename = '54-1_Demag5_5-BR_spin_config.txt'\n",
    "#imgfile = \"\"\n",
    "#factor = 179.11\n",
    "#configlist, x, y, sconf = af.LoadSpinConfigsLarge(secondfoldername, secondfilename, imgfile, alpha = 1, factor = factor)\n",
    "#plt.plot(x[10]/factor, y[10]/factor,'.', color = \"red\")\n",
    "#plt.plot(x[11]/factor, y[11]/factor,'.', color = \"blue\")\n",
    "#print(x[10],\" \", y[10], \" \", x[11], \" \", y[11])\n",
    "#print(np.sqrt((x[11]-x[10])**2 + (y[11]-y[10])**2))\n",
    "#m = sum(sconf)/len(sconf)\n",
    "#print(m)"
   ]
  },
  {
   "cell_type": "code",
   "execution_count": null,
   "metadata": {
    "collapsed": true
   },
   "outputs": [],
   "source": [
    "#secondfoldername = '../Analysis_PSI/Kagome_54-1_Demag_all/'\n",
    "#secondfilename = '54-1_Demag5_5-TL_spin_config.txt'\n",
    "#imgfile = \"\"\n",
    "#factor = 180\n",
    "#configlist, x, y, sconf = af.LoadSpinConfigsLarge(secondfoldername, secondfilename, imgfile, alpha = 1, factor = factor)\n",
    "#plt.plot(x[11]/factor, y[11]/factor,'.', color = \"red\")\n",
    "#plt.plot(x[12]/factor, y[12]/factor,'.', color = \"blue\")\n",
    "#print(x[11],\" \", y[11], \" \", x[12], \" \", y[12])\n",
    "#print(np.sqrt((x[11]-x[12])**2 + (y[11]-y[12])**2))\n",
    "#m = sum(sconf)/len(sconf)\n",
    "#print(m)"
   ]
  },
  {
   "cell_type": "code",
   "execution_count": null,
   "metadata": {
    "collapsed": true
   },
   "outputs": [],
   "source": []
  },
  {
   "cell_type": "code",
   "execution_count": null,
   "metadata": {
    "collapsed": true
   },
   "outputs": [],
   "source": [
    "#secondfoldername = '../Analysis_PSI/Kagome_54-1_Demag_all/'\n",
    "#secondfilename = '54-1_Demag6_5-BL_spin_config.txt'\n",
    "#imgfile = \"\"\n",
    "#factor = 180\n",
    "#configlist, x, y, sconf = af.LoadSpinConfigsLarge(secondfoldername, secondfilename, imgfile, alpha = 1, factor = factor)\n",
    "#plt.plot(x[11]/factor, y[11]/factor,'.', color = \"red\")\n",
    "#plt.plot(x[12]/factor, y[12]/factor,'.', color = \"blue\")\n",
    "#print(x[11],\" \", y[11], \" \", x[12], \" \", y[12])\n",
    "#print(np.sqrt((x[11]-x[12])**2 + (y[11]-y[12])**2))\n",
    "#m = sum(sconf)/len(sconf)\n",
    "#print(m)"
   ]
  },
  {
   "cell_type": "code",
   "execution_count": null,
   "metadata": {
    "collapsed": true
   },
   "outputs": [],
   "source": [
    "#secondfoldername = '../Analysis_PSI/Kagome_54-1_Demag_all/'\n",
    "#secondfilename = '54-1_Demag6_5-BR_spin_config.txt'\n",
    "#imgfile = \"\"\n",
    "#factor = 177\n",
    "#configlist, x, y, sconf = af.LoadSpinConfigsLarge(secondfoldername, secondfilename, imgfile, alpha = 1, factor = factor)\n",
    "#plt.plot(x[11]/factor, y[11]/factor,'.', color = \"red\")\n",
    "#plt.plot(x[12]/factor, y[12]/factor,'.', color = \"blue\")\n",
    "#print(x[11],\" \", y[11], \" \", x[12], \" \", y[12])\n",
    "#print(np.sqrt((x[11]-x[12])**2 + (y[11]-y[12])**2))\n",
    "#m = sum(sconf)/len(sconf)\n",
    "#print(m)"
   ]
  },
  {
   "cell_type": "code",
   "execution_count": null,
   "metadata": {
    "collapsed": true
   },
   "outputs": [],
   "source": [
    "#secondfoldername = '../Analysis_PSI/Kagome_54-1_Demag_all/'\n",
    "#secondfilename = '54-1_Demag6_5-TL_spin_config.txt'\n",
    "#imgfile = \"\"\n",
    "#factor = 179\n",
    "#configlist, x, y, sconf = af.LoadSpinConfigsLarge(secondfoldername, secondfilename, imgfile, alpha = 1, factor = factor)\n",
    "#plt.plot(x[11]/factor, y[11]/factor,'.', color = \"red\")\n",
    "#plt.plot(x[12]/factor, y[12]/factor,'.', color = \"blue\")\n",
    "#print(x[11],\" \", y[11], \" \", x[12], \" \", y[12])\n",
    "#print(np.sqrt((x[11]-x[12])**2 + (y[11]-y[12])**2))\n",
    "#m = sum(sconf)/len(sconf)\n",
    "#print(m)"
   ]
  },
  {
   "cell_type": "code",
   "execution_count": null,
   "metadata": {
    "collapsed": true
   },
   "outputs": [],
   "source": []
  },
  {
   "cell_type": "code",
   "execution_count": null,
   "metadata": {
    "collapsed": true
   },
   "outputs": [],
   "source": [
    "#secondfoldername = '../Analysis_PSI/Kagome_54-1_Demag_all/'\n",
    "#secondfilename = '54-1_Demag7_4-BL_spin_config.txt'\n",
    "#imgfile = \"\"\n",
    "#factor = 178.9\n",
    "#configlist, x, y, sconf = af.LoadSpinConfigsLarge(secondfoldername, secondfilename, imgfile, alpha = 1, factor = factor)\n",
    "#plt.plot(x[10]/factor, y[10]/factor,'.', color = \"red\")\n",
    "#plt.plot(x[11]/factor, y[11]/factor,'.', color = \"blue\")\n",
    "#print(x[10],\" \", y[10], \" \", x[11], \" \", y[11])\n",
    "#print(np.sqrt((x[11]-x[10])**2 + (y[11]-y[10])**2))\n",
    "#m = sum(sconf)/len(sconf)\n",
    "#print(m)"
   ]
  },
  {
   "cell_type": "code",
   "execution_count": null,
   "metadata": {
    "collapsed": true
   },
   "outputs": [],
   "source": [
    "#secondfoldername = '../Analysis_PSI/Kagome_54-1_Demag_all/'\n",
    "#secondfilename = '54-1_Demag7_4-BR_spin_config.txt'\n",
    "#imgfile = \"\"\n",
    "#factor = 176.8\n",
    "#configlist, x, y, sconf = af.LoadSpinConfigsLarge(secondfoldername, secondfilename, imgfile, alpha = 1, factor = factor)\n",
    "#plt.plot(x[10]/factor, y[10]/factor,'.', color = \"red\")\n",
    "#plt.plot(x[11]/factor, y[11]/factor,'.', color = \"blue\")\n",
    "#print(x[10],\" \", y[10], \" \", x[11], \" \", y[11])\n",
    "#print(np.sqrt((x[11]-x[10])**2 + (y[11]-y[10])**2))\n",
    "#m = sum(sconf)/len(sconf)\n",
    "#print(m)"
   ]
  },
  {
   "cell_type": "code",
   "execution_count": null,
   "metadata": {
    "collapsed": true
   },
   "outputs": [],
   "source": [
    "#secondfoldername = '../Analysis_PSI/Kagome_54-1_Demag_all/'\n",
    "#secondfilename = '54-1_Demag7_4-TL_spin_config.txt'\n",
    "#imgfile = \"\"\n",
    "#factor = 177.1\n",
    "#configlist, x, y, sconf = af.LoadSpinConfigsLarge(secondfoldername, secondfilename, imgfile, alpha = 1, factor = factor)\n",
    "#plt.plot(x[10]/factor, y[10]/factor,'.', color = \"red\")\n",
    "#plt.plot(x[11]/factor, y[11]/factor,'.', color = \"blue\")\n",
    "#print(x[10],\" \", y[10], \" \", x[11], \" \", y[11])\n",
    "#print(np.sqrt((x[11]-x[10])**2 + (y[11]-y[10])**2))\n",
    "#m = sum(sconf)/len(sconf)\n",
    "#print(m)"
   ]
  },
  {
   "cell_type": "code",
   "execution_count": null,
   "metadata": {
    "collapsed": true
   },
   "outputs": [],
   "source": [
    "#secondfoldername = '../Analysis_PSI/Kagome_54-1_Demag_all/'\n",
    "#secondfilename = '54-1_Demag7_4-TR_spin_config.txt'\n",
    "#imgfile = \"\"\n",
    "#factor = 176.1\n",
    "#configlist, x, y, sconf = af.LoadSpinConfigsLarge(secondfoldername, secondfilename, imgfile, alpha = 1, factor = factor)\n",
    "#plt.plot(x[11]/factor, y[11]/factor,'.', color = \"red\")\n",
    "#plt.plot(x[12]/factor, y[12]/factor,'.', color = \"blue\")\n",
    "#print(x[11],\" \", y[11], \" \", x[12], \" \", y[12])\n",
    "#print(np.sqrt((x[11]-x[12])**2 + (y[11]-y[12])**2))\n",
    "#m = sum(sconf)/len(sconf)\n",
    "#print(m)"
   ]
  },
  {
   "cell_type": "code",
   "execution_count": null,
   "metadata": {
    "collapsed": true
   },
   "outputs": [],
   "source": [
    "#secondfoldername = '../Analysis_PSI/Kagome_54-1_Demag_all/'\n",
    "#secondfilename = '54-1_Demag7_5-BL_spin_config.txt'\n",
    "#imgfile = \"\"\n",
    "#factor = 178.79\n",
    "#configlist, x, y, sconf = af.LoadSpinConfigsLarge(secondfoldername, secondfilename, imgfile, alpha = 1, factor = factor)\n",
    "#plt.plot(x[10]/factor, y[10]/factor,'.', color = \"red\")\n",
    "#plt.plot(x[11]/factor, y[11]/factor,'.', color = \"blue\")\n",
    "#print(x[10],\" \", y[10], \" \", x[11], \" \", y[11])\n",
    "#print(np.sqrt((x[11]-x[10])**2 + (y[11]-y[10])**2))\n",
    "#m = sum(sconf)/len(sconf)\n",
    "#print(m)"
   ]
  },
  {
   "cell_type": "code",
   "execution_count": null,
   "metadata": {
    "collapsed": true
   },
   "outputs": [],
   "source": [
    "#secondfoldername = '../Analysis_PSI/Kagome_54-1_Demag_all/'\n",
    "#secondfilename = '54-1_Demag7_5-BR_spin_config.txt'\n",
    "#imgfile = \"\"\n",
    "#factor = 178.5\n",
    "#configlist, x, y, sconf = af.LoadSpinConfigsLarge(secondfoldername, secondfilename, imgfile, alpha = 1, factor = factor)\n",
    "#plt.plot(x[11]/factor, y[11]/factor,'.', color = \"red\")\n",
    "#plt.plot(x[12]/factor, y[12]/factor,'.', color = \"blue\")\n",
    "#print(x[11],\" \", y[11], \" \", x[12], \" \", y[12])\n",
    "#print(np.sqrt((x[11]-x[12])**2 + (y[11]-y[12])**2))\n",
    "#m = sum(sconf)/len(sconf)\n",
    "#print(m)"
   ]
  },
  {
   "cell_type": "code",
   "execution_count": null,
   "metadata": {
    "collapsed": true
   },
   "outputs": [],
   "source": [
    "#secondfoldername = '../Analysis_PSI/Kagome_54-1_Demag_all/'\n",
    "#secondfilename = '54-1_Demag7_5-TL_spin_config.txt'\n",
    "#imgfile = \"\"\n",
    "#factor = 177.5\n",
    "#configlist, x, y, sconf = af.LoadSpinConfigsLarge(secondfoldername, secondfilename, imgfile, alpha = 1, factor = factor)\n",
    "#plt.plot(x[11]/factor, y[11]/factor,'.', color = \"red\")\n",
    "#plt.plot(x[12]/factor, y[12]/factor,'.', color = \"blue\")\n",
    "#print(x[11],\" \", y[11], \" \", x[12], \" \", y[12])\n",
    "#print(np.sqrt((x[11]-x[12])**2 + (y[11]-y[12])**2))\n",
    "#m = sum(sconf)/len(sconf)\n",
    "#print(m)"
   ]
  },
  {
   "cell_type": "code",
   "execution_count": null,
   "metadata": {
    "collapsed": true
   },
   "outputs": [],
   "source": [
    "#ssecondfoldername = '../Analysis_PSI/Kagome_54-1_Demag_all/'\n",
    "#ssecondfilename = '54-1_Demag7_5-TR_spin_config.txt'\n",
    "#iimgfile = \"\"\n",
    "#ffactor = 178.7\n",
    "#cconfiglist, x, y, sconf = af.LoadSpinConfigsLarge(secondfoldername, secondfilename, imgfile, alpha = 1, factor = factor)\n",
    "#pplt.plot(x[43]/factor, y[43]/factor,'.', color = \"red\")\n",
    "#pplt.plot(x[42]/factor, y[42]/factor,'.', color = \"blue\")\n",
    "#pprint(x[43],\" \", y[10], \" \", x[11], \" \", y[11])\n",
    "#pprint(np.sqrt((x[43]-x[42])**2 + (y[43]-y[42])**2))\n",
    "#mm = sum(sconf)/len(sconf)\n",
    "#pprint(m)"
   ]
  }
 ],
 "metadata": {
  "kernelspec": {
   "display_name": "Python 3",
   "language": "python",
   "name": "python3"
  },
  "language_info": {
   "codemirror_mode": {
    "name": "ipython",
    "version": 3
   },
   "file_extension": ".py",
   "mimetype": "text/x-python",
   "name": "python",
   "nbconvert_exporter": "python",
   "pygments_lexer": "ipython3",
   "version": "3.5.3"
  }
 },
 "nbformat": 4,
 "nbformat_minor": 2
}
