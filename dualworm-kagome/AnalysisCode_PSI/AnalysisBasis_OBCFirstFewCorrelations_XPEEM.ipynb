{
 "cells": [
  {
   "cell_type": "markdown",
   "metadata": {},
   "source": [
    "Last update 03.08.2020\n",
    "\n",
    "Author : Jeanne Colbois\n",
    "\n",
    "Please send any comments, questions or remarks to Jeanne Colbois: jeanne.colbois@epfl.ch.\n",
    "The author would appreciate to be cited in uses of this code, and would be very happy to hear about developments."
   ]
  },
  {
   "cell_type": "code",
   "execution_count": 1,
   "metadata": {},
   "outputs": [],
   "source": [
    "import os,sys,inspect\n",
    "currentdir = os.path.dirname(os.path.abspath(inspect.getfile(inspect.currentframe())))\n",
    "parentdir = os.path.dirname(currentdir)\n",
    "sys.path.insert(0,parentdir) "
   ]
  },
  {
   "cell_type": "code",
   "execution_count": 2,
   "metadata": {},
   "outputs": [],
   "source": [
    "# Import modules\n",
    "import numpy as np # maths\n",
    "\n",
    "from time import time# timer for debug\n",
    "    # gather results obtained from the runs  \n",
    "\n",
    "import KagomeFunctions_OBC as kf # \"library\"< allowing to work on Kagome\n",
    "import KagomeDrawing as kdraw # \"library\" allowing to plot Kagome\n",
    "import KagomeFT as kft\n",
    "import AnalysisFunctions_OBC_XPEEM as af # functions to make the analysis code cleaner\n",
    "    #plots using matplotlib\n",
    "import matplotlib\n",
    "import matplotlib.pyplot as plt\n",
    "import StartStates as strst\n",
    "#import matplotlib.image as mpimg\n",
    "%matplotlib inline\n",
    "matplotlib.rcParams['axes.unicode_minus'] = False\n",
    "matplotlib.rcParams.update({'font.size': 14})"
   ]
  },
  {
   "cell_type": "code",
   "execution_count": 3,
   "metadata": {},
   "outputs": [],
   "source": [
    "secondfoldername = ['../../Analysis_PSI/ExperimentalDataAndAnalysis_August2020/Inputs/']*11\n",
    "secondfilename = ['PEEM_spin_config_threshold_0.txt',\n",
    "                  'PEEM_spin_config_threshold_0.1.txt',\n",
    "                  'PEEM_spin_config_threshold_0.2.txt',\n",
    "                  'PEEM_spin_config_threshold_0.3.txt',\n",
    "                  'PEEM_spin_config_threshold_0.4.txt',\n",
    "                  'PEEM_spin_config_threshold_0.5.txt',\n",
    "                  'PEEM_spin_config_threshold_0.6.txt',\n",
    "                  'PEEM_spin_config_threshold_0.7.txt',\n",
    "                  'PEEM_spin_config_threshold_0.8.txt',\n",
    "                  'PEEM_spin_config_threshold_0.9.txt',\n",
    "                  'PEEM_spin_config_threshold_1.txt']"
   ]
  },
  {
   "cell_type": "code",
   "execution_count": 6,
   "metadata": {},
   "outputs": [
    {
     "name": "stdout",
     "output_type": "stream",
     "text": [
      "[-0.03806584 -0.03775241 -0.03419689 -0.03352412 -0.02431907 -0.02311796\n",
      " -0.02318624 -0.01685393 -0.01654846  0.00940439 -0.01265823]\n",
      "0.01320636902092263\n"
     ]
    }
   ],
   "source": [
    "mlist = np.array(mlist)\n",
    "print(mlist)\n",
    "avgm = np.sum(mlist)/len(mlist)\n",
    "print(np.std(mlist))"
   ]
  },
  {
   "cell_type": "code",
   "execution_count": 7,
   "metadata": {},
   "outputs": [
    {
     "data": {
      "text/plain": [
       "-0.022801706379208773"
      ]
     },
     "execution_count": 7,
     "metadata": {},
     "output_type": "execute_result"
    }
   ],
   "source": [
    "avgm"
   ]
  },
  {
   "cell_type": "markdown",
   "metadata": {},
   "source": [
    "#### Bootstrapping the result to get an error estimate:\n",
    "The idea is to compute the correlations as the average of the correlations over 18 of the 20 samples, chosing these 18 in an arbitrary way, then compute the error as the standard deviation of this result"
   ]
  },
  {
   "cell_type": "code",
   "execution_count": 8,
   "metadata": {},
   "outputs": [],
   "source": [
    "n = len(mlist)"
   ]
  },
  {
   "cell_type": "code",
   "execution_count": 9,
   "metadata": {},
   "outputs": [
    {
     "data": {
      "text/plain": [
       "(11, 4)"
      ]
     },
     "execution_count": 9,
     "metadata": {},
     "output_type": "execute_result"
    }
   ],
   "source": [
    "np.array(covlist).shape"
   ]
  },
  {
   "cell_type": "code",
   "execution_count": 10,
   "metadata": {},
   "outputs": [],
   "source": [
    "d = np.array(dlist).sum(0)/n\n",
    "vard = np.array(vardlist).sum(0)/n\n",
    "\n",
    "cov = np.array(covlist).sum(0)/n\n",
    "#varcov = np.array([(covlist[i] - cov)**2 for i in range(n)]).sum(0)/n\n",
    "#\n",
    "#varcov2 = np.array(varcovlist).sum(0)/n"
   ]
  },
  {
   "cell_type": "code",
   "execution_count": 11,
   "metadata": {},
   "outputs": [
    {
     "data": {
      "text/plain": [
       "[[0.3907932042842885,\n",
       "  0.10680633931552005,\n",
       "  0.12732330866464475,\n",
       "  0.08288977030627966],\n",
       " [0.4897820007312742,\n",
       "  0.13260117617656822,\n",
       "  0.14443223845442899,\n",
       "  0.0879650810649079],\n",
       " [0.6026942245866573,\n",
       "  0.1636307265053883,\n",
       "  0.16902327317186272,\n",
       "  0.11430707657122371],\n",
       " [0.7206051854108811,\n",
       "  0.2072894698678067,\n",
       "  0.19744699106401573,\n",
       "  0.13794556680100634],\n",
       " [0.7904871682477738,\n",
       "  0.2378405176912651,\n",
       "  0.20976282441480723,\n",
       "  0.1830160509041898],\n",
       " [0.8742249154934969,\n",
       "  0.2514251953623093,\n",
       "  0.21443865412937757,\n",
       "  0.21714439821236037],\n",
       " [0.9392142277060839,\n",
       "  0.3028885354149664,\n",
       "  0.24243585182752503,\n",
       "  0.2526766595289078],\n",
       " [0.9754109495992335,\n",
       "  0.3584914032168609,\n",
       "  0.26325953151891623,\n",
       "  0.30805975334375624],\n",
       " [0.9919236080325707,\n",
       "  0.38186021880368404,\n",
       "  0.3109821111242755,\n",
       "  0.34976452119309187],\n",
       " [0.9968204863796495,\n",
       "  0.43136510347446383,\n",
       "  0.39730493371006387,\n",
       "  0.37945256842894703],\n",
       " [0.9958082497212903,\n",
       "  0.5362078496406859,\n",
       "  0.488014311270125,\n",
       "  0.38755980861244044]]"
      ]
     },
     "execution_count": 11,
     "metadata": {},
     "output_type": "execute_result"
    }
   ],
   "source": [
    "covlist"
   ]
  },
  {
   "cell_type": "code",
   "execution_count": null,
   "metadata": {},
   "outputs": [],
   "source": [
    "avgcorr = []\n",
    "corr = np.array(covlist)\n",
    "s = 5\n",
    "nsample = 20\n",
    "masks = []\n",
    "for randid in range(nsample):\n",
    "    mask = np.random.choice(20, size=s)\n",
    "    masks.append(mask)\n",
    "    avgcorr.append(corr[mask,:,:].sum(0)/s)\n",
    "    \n",
    "avgcorr = np.array(avgcorr)\n",
    "navg = avgcorr.shape[0]\n",
    "stdev = np.std(avgcorr, axis=0)\n",
    "avgcorrplot = avgcorr.sum(0)/nsample"
   ]
  },
  {
   "cell_type": "code",
   "execution_count": null,
   "metadata": {},
   "outputs": [],
   "source": [
    "stdev"
   ]
  },
  {
   "cell_type": "code",
   "execution_count": null,
   "metadata": {},
   "outputs": [],
   "source": [
    "avgcorrplot"
   ]
  },
  {
   "cell_type": "code",
   "execution_count": null,
   "metadata": {
    "scrolled": false
   },
   "outputs": [],
   "source": [
    "ListNei = ['1', '2', '3par', '3star', '4', '5', '6', '6bis', '7', '8', '8bis','9']\n",
    "fig, ax = plt.subplots(figsize = (8,8), dpi=200)\n",
    "for index in range(4):\n",
    "    print(index)\n",
    "    plt.errorbar(1, avgcorrplot[index,0],yerr=stdev[index,0], \n",
    "    label='Neighbour {0}'.format(ListNei[index]),  fmt= 'x')\n",
    "plt.xlabel('')\n",
    "plt.ylabel('Accumulated correlations')\n",
    "plt.title('20 samples average,\\n errors from std deviation of {0} samples averages'.format(s))\n",
    "plt.ylim(-0.27, 0.12)\n",
    "plt.legend()\n",
    "plt.savefig(secondfoldername[0]+'AvgFirstFewCorrelations'+secondfilename[0]+'.png')    "
   ]
  },
  {
   "cell_type": "code",
   "execution_count": null,
   "metadata": {},
   "outputs": [],
   "source": [
    "fig, ax = plt.subplots(figsize = (8,8), dpi=200)\n",
    "for i in range(5):\n",
    "    plt.gca().set_prop_cycle(None)\n",
    "    for index in range(4):\n",
    "        print(index)\n",
    "        if i == 0:\n",
    "            plt.errorbar(i, avgcorr[i,index,0],yerr=stdev[index,0], \n",
    "            label='Neighbour {0}'.format(ListNei[index]),  fmt= 'x')\n",
    "        else:\n",
    "            plt.errorbar(i, avgcorr[i,index,0],yerr=stdev[index,0],  fmt= 'x')\n",
    "plt.xticks([0, 1, 2, 3, 4], ['Set 1', 'Set 2', 'Set 3','Set 4','Set 5'])\n",
    "plt.ylabel('Accumulated correlations')\n",
    "plt.ylim(-0.27, 0.12)\n",
    "plt.legend()\n",
    "plt.savefig(secondfoldername[0]+'AvgFirstFewCorrelations'+'_5Masks_{1}_samples_bootstrapping'.format(i,s)+secondfilename[0]+'.png')    "
   ]
  },
  {
   "cell_type": "code",
   "execution_count": null,
   "metadata": {},
   "outputs": [],
   "source": [
    "print(cov)"
   ]
  },
  {
   "cell_type": "code",
   "execution_count": null,
   "metadata": {},
   "outputs": [],
   "source": [
    "print(np.sqrt(np.array(varcov)))\n",
    "print(np.sqrt(np.array(varcov2)))"
   ]
  },
  {
   "cell_type": "code",
   "execution_count": null,
   "metadata": {},
   "outputs": [],
   "source": [
    "fig, ax = plt.subplots(dpi=200)\n",
    "plt.errorbar(d, np.array(cov),xerr = np.sqrt(np.array(vard)),yerr=np.sqrt(np.array(varcov)),  fmt= '.')\n",
    "plt.xlabel('Distance')\n",
    "plt.ylabel('Accumulated correlations')\n",
    "plt.ylim(-0.27,0.12)\n",
    "plt.savefig(secondfoldername[i] + 'FirstResult_' + secondfilename[i]+'.png')\n",
    "plt.show()"
   ]
  },
  {
   "cell_type": "code",
   "execution_count": null,
   "metadata": {
    "scrolled": true
   },
   "outputs": [],
   "source": [
    "ListNei = ['1', '2', '3par', '3star', '4', '5', '6', '6bis', '7', '8', '8bis','9']\n",
    "for i in range(n):\n",
    "    fig, ax = plt.subplots(figsize = (8,8), dpi=200)\n",
    "\n",
    "    for index, covi in enumerate(covlist[i][0:5]):\n",
    "        #print(index)\n",
    "        plt.errorbar(1, covi,yerr=np.sqrt(np.array(varcovlist[i])[index]), label='Neighbour {0}'.format(ListNei[index]),  fmt= 'x')\n",
    "\n",
    "    plt.xlabel('')\n",
    "    plt.xticks([])\n",
    "    plt.ylabel('Accumulated correlations')\n",
    "    plt.ylim(-0.27, 0.12)\n",
    "    plt.legend(loc='best')\n",
    "    plt.savefig(secondfoldername[i]+'FirstFewCorrelations'+secondfilename[i]+'.png')\n",
    "\n",
    "fig, ax = plt.subplots(figsize = (8,8),dpi=200)\n",
    "x = [1 for y in cov];\n",
    "\n",
    "for index, covi in enumerate(cov[0:4]):\n",
    "    print(index)\n",
    "    plt.errorbar(1, covi,yerr=np.sqrt(np.array(varcov2)[index]), label='Neighbour {0}'.format(ListNei[index]),  fmt= 'x')\n",
    "plt.xlabel('')\n",
    "plt.xticks([])\n",
    "plt.ylabel('Accumulated correlations (20 samples average)')\n",
    "plt.ylim(-0.27, 0.12)\n",
    "plt.legend()\n",
    "plt.savefig(secondfoldername[0]+'AvgFirstFewCorrelations'+secondfilename[0]+'.png')    "
   ]
  },
  {
   "cell_type": "code",
   "execution_count": null,
   "metadata": {},
   "outputs": [],
   "source": [
    "#ssecondfoldername = '../Analysis_PSI/Kagome_54-1_Demag_all/'\n",
    "#ssecondfilename = '54-1_Demag7_5-TR_spin_config.txt'\n",
    "#iimgfile = \"\"\n",
    "#ffactor = 178.7\n",
    "#cconfiglist, x, y, sconf = af.LoadSpinConfigsLarge(secondfoldername, secondfilename, imgfile, alpha = 1, factor = factor)\n",
    "#pplt.plot(x[43]/factor, y[43]/factor,'.', color = \"red\")\n",
    "#pplt.plot(x[42]/factor, y[42]/factor,'.', color = \"blue\")\n",
    "#pprint(x[43],\" \", y[10], \" \", x[11], \" \", y[11])\n",
    "#pprint(np.sqrt((x[43]-x[42])**2 + (y[43]-y[42])**2))\n",
    "#mm = sum(sconf)/len(sconf)\n",
    "#pprint(m)"
   ]
  },
  {
   "cell_type": "code",
   "execution_count": null,
   "metadata": {},
   "outputs": [],
   "source": []
  }
 ],
 "metadata": {
  "kernelspec": {
   "display_name": "Python 3",
   "language": "python",
   "name": "python3"
  },
  "language_info": {
   "codemirror_mode": {
    "name": "ipython",
    "version": 3
   },
   "file_extension": ".py",
   "mimetype": "text/x-python",
   "name": "python",
   "nbconvert_exporter": "python",
   "pygments_lexer": "ipython3",
   "version": "3.5.3"
  }
 },
 "nbformat": 4,
 "nbformat_minor": 2
}
