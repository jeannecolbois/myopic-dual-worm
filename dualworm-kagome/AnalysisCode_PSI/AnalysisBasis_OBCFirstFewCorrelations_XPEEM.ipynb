{
 "cells": [
  {
   "cell_type": "markdown",
   "metadata": {},
   "source": [
    "Last update 31.07.2020\n",
    "\n",
    "Author : Jeanne Colbois\n",
    "\n",
    "Please send any comments, questions or remarks to Jeanne Colbois: jeanne.colbois@epfl.ch.\n",
    "The author would appreciate to be cited in uses of this code, and would be very happy to hear about developments."
   ]
  },
  {
   "cell_type": "code",
   "execution_count": null,
   "metadata": {},
   "outputs": [],
   "source": [
    "import os,sys,inspect\n",
    "currentdir = os.path.dirname(os.path.abspath(inspect.getfile(inspect.currentframe())))\n",
    "parentdir = os.path.dirname(currentdir)\n",
    "sys.path.insert(0,parentdir) "
   ]
  },
  {
   "cell_type": "code",
   "execution_count": null,
   "metadata": {},
   "outputs": [],
   "source": [
    "# Import modules\n",
    "import numpy as np # maths\n",
    "\n",
    "from time import time# timer for debug\n",
    "    # gather results obtained from the runs  \n",
    "\n",
    "import KagomeFunctions_OBC as kf # \"library\"< allowing to work on Kagome\n",
    "import KagomeDrawing as kdraw # \"library\" allowing to plot Kagome\n",
    "import KagomeFT as kft\n",
    "import AnalysisFunctions_OBC as af # functions to make the analysis code cleaner\n",
    "    #plots using matplotlib\n",
    "import matplotlib\n",
    "import matplotlib.pyplot as plt\n",
    "import StartStates as strst\n",
    "#import matplotlib.image as mpimg\n",
    "%matplotlib inline\n",
    "matplotlib.rcParams['axes.unicode_minus'] = False\n",
    "matplotlib.rcParams.update({'font.size': 14})"
   ]
  },
  {
   "cell_type": "code",
   "execution_count": null,
   "metadata": {},
   "outputs": [],
   "source": [
    "secondfoldername = ['../../Analysis_PSI/ExperimentalDataAndAnalysis_August2020/Inputs/']*11\n",
    "secondfilename = ['PEEM_spin_config_threshold_0.txt',\n",
    "                  'PEEM_spin_config_threshold_0.1.txt',\n",
    "                  'PEEM_spin_config_threshold_0.2.txt',\n",
    "                  'PEEM_spin_config_threshold_0.3.txt',\n",
    "                  'PEEM_spin_config_threshold_0.4.txt',\n",
    "                  'PEEM_spin_config_threshold_0.5.txt',\n",
    "                  'PEEM_spin_config_threshold_0.6.txt',\n",
    "                  'PEEM_spin_config_threshold_0.7.txt',\n",
    "                  'PEEM_spin_config_threshold_0.8.txt',\n",
    "                  'PEEM_spin_config_threshold_0.9.txt',\n",
    "                  'PEEM_spin_config_threshold_1.txt']"
   ]
  },
  {
   "cell_type": "code",
   "execution_count": null,
   "metadata": {
    "scrolled": false
   },
   "outputs": [],
   "source": [
    "## Kagome lattice structure reader check\n",
    "n = len(secondfilename)\n",
    "nneighs2plot = 90\n",
    "factors = [12]\n",
    "nnloclist = [(11,12)]\n",
    "distconds = [(0.95, 1.05), (1.68, 1.78), (1.95, 2.05), (2.59, 2.69), (2.95, 3.05), (3.41, 3.52), (3.54, 3.67), (3.95, 4.05)]\n",
    "imgfile = \"\"\n",
    "\n",
    "for i in range(1):\n",
    "    print(\"------------------- File number \", i, \" ----------------------\")\n",
    "    factor = factors[i]\n",
    "    configlist, x, y, sconf= af.LoadSpinConfigsLarge(secondfoldername[i], \n",
    "                                                     secondfilename[i], \n",
    "                                                     imgfile, \n",
    "                                                     alpha = 1, \n",
    "                                                     factor = factor)\n",
    "    x = 2*x;\n",
    "    \n",
    "    plt.plot(x[nnloclist[i][0]]/factor, y[nnloclist[i][0]]/factor,'.', color = \"red\")\n",
    "    plt.plot(x[nnloclist[i][1]]/factor, y[nnloclist[i][1]]/factor,'.', color = \"blue\")\n",
    "    print(x[nnloclist[i][0]],\" \", y[nnloclist[i][0]], \" \", x[nnloclist[i][1]], \" \", y[nnloclist[i][1]])\n",
    "    print(np.sqrt((x[nnloclist[i][0]]-x[nnloclist[i][1]])**2 + (y[nnloclist[i][0]]-y[nnloclist[i][1]])**2))\n",
    "    distances_s1s2 = af.KagomeLatticeHistogram(x,y, factor=factor)\n",
    "    plt.savefig(secondfoldername[i] + 'Histogram' + secondfilename[i]+'.png')\n",
    "    plt.show()\n",
    "    \n",
    "    NNList = af.KagomeLatticeNeighboursLists(distances_s1s2, distconds)\n",
    "    for j in range(4):\n",
    "        fig, ax = plt.subplots(figsize = (8,8),dpi=200)\n",
    "        af.plotSpinSites(secondfoldername, imgfile, x, y, \n",
    "                     [i for i in range(len(x))],\n",
    "                     putimage = False, color = 'black', alpha = 0.3,\n",
    "                     linestyle = 'none')\n",
    "        for k in range(nneighs2plot):\n",
    "            #print(list(NNList[j][k]))\n",
    "            idk = np.random.randint(len(NNList[j]))\n",
    "            af.plotSpinPairs(secondfoldername, imgfile, x, y,\n",
    "                             [NNList[j][idk]], putimage = False, color = 'blue', alpha=0.3)\n",
    "            \n",
    "        plt.savefig(secondfoldername[i] + 'StructureSanityCheck_N{0}_'.format(j) + secondfilename[i]+'.png')\n",
    "        plt.show()\n",
    "    \n",
    "        \n",
    "    del configlist\n",
    "    del x\n",
    "    del y\n",
    "    del sconf\n",
    "    del distances_s1s2\n",
    "    del NNList"
   ]
  },
  {
   "cell_type": "code",
   "execution_count": null,
   "metadata": {
    "scrolled": true
   },
   "outputs": [],
   "source": [
    "n = len(secondfilename)\n",
    "\n",
    "#factors = [177, 178]\n",
    "#nnloclist = [(11,12), (11,12)]\n",
    "\n",
    "#factors = [178.34, 178.29, 178]\n",
    "#nnloclist = [(11,12), (10,11), (11,12)]\n",
    "\n",
    "#factors = [179, 179]\n",
    "#nnloclist = [(10,11), (10,11)]\n",
    "#\n",
    "#factors = [179, 179, 180]\n",
    "#nnloclist = [(10,11), (10,11), (11,12)]\n",
    "#\n",
    "\n",
    "#factors = [180, 177, 179]\n",
    "#nnloclist = [(11,12), (11,12), (11,12)]\n",
    "\n",
    "factors = [178.27, 178, 177, 178,\n",
    "           177, 178, 178, 178,\n",
    "           178, 176.5, 178, 176.5,\n",
    "           179, 178.5, 178.5, 177,\n",
    "           177, 178, 178.5, 178.5]\n",
    "nnloclist = [(11,12), (11,12), (11,12), (11,12),\n",
    "             (11,12), (11,12), (41,42), (41,42),\n",
    "             (41,42), (41,42), (42,43), (42,43),\n",
    "             (42,43), (42,43), (41,42), (41,42),\n",
    "             (42,43), (41,42), (42,43), (42,43)]\n",
    "#factors=[178, 176.5,\n",
    "#           179, 178.5, 178.5, 177,\n",
    "#           177, 178, 178.5, 178.5]\n",
    "#nnloclist = [(42,43), (42,43),\n",
    "#             (42,43), (42,43), (41,42), (41,42),\n",
    "#             (42,43), (41,42), (42,43), (42,43)]\n",
    "#\n",
    "distconds = [(0.95, 1.05), (1.68, 1.78), (1.95, 2.05), (2.59, 2.69), (2.95, 3.05), (3.41, 3.52), (3.54, 3.67), (3.95, 4.05)]\n",
    "imgfile = \"\"\n",
    "\n",
    "covlist = []\n",
    "varcovlist = []\n",
    "dlist = []\n",
    "vardlist = []\n",
    "mlist = []\n",
    "\n",
    "print(len(factors))\n",
    "\n",
    "for i in range(len(secondfilename)):\n",
    "    print(\"------------------- File number \", i, \" ----------------------\")\n",
    "    factor = factors[i]\n",
    "    configlist, x, y, sconf= af.LoadSpinConfigsLarge(secondfoldername[i], \n",
    "                                                     secondfilename[i], \n",
    "                                                     imgfile, \n",
    "                                                     alpha = 1, \n",
    "                                                     factor = factor)\n",
    "\n",
    "    plt.plot(x[nnloclist[i][0]]/factor, y[nnloclist[i][0]]/factor,'.', color = \"red\")\n",
    "    plt.plot(x[nnloclist[i][1]]/factor, y[nnloclist[i][1]]/factor,'.', color = \"blue\")\n",
    "    print(x[nnloclist[i][0]],\" \", y[nnloclist[i][0]], \" \", x[nnloclist[i][1]], \" \", y[nnloclist[i][1]])\n",
    "    print(np.sqrt((x[nnloclist[i][0]]-x[nnloclist[i][1]])**2 + (y[nnloclist[i][0]]-y[nnloclist[i][1]])**2))\n",
    "    m = sum(sconf)/len(sconf)\n",
    "    print(\"magnetisation: \", m)\n",
    "    mlist.append(m)\n",
    "    distances_s1s2 = af.KagomeLatticeHistogram(x,y, factor=factor)\n",
    "    plt.savefig(secondfoldername[i] + 'Histogram' + secondfilename[i]+'.png')\n",
    "    plt.show()\n",
    "    \n",
    "    NNList = af.KagomeLatticeNeighboursLists(distances_s1s2, distconds)\n",
    "    cconf, xc,yc, tlist = af.KagomeLatticeCharges(NNList,sconf,x,y)\n",
    "    charges = [np.count_nonzero(cconf == 3), np.count_nonzero(cconf == 1),\n",
    "           np.count_nonzero(cconf == -1), np.count_nonzero(cconf == -3)]\n",
    "    print(charges)\n",
    "    np.savetxt(secondfoldername[i] + 'charges' + secondfilename[i],\n",
    "           np.array(charges), newline=\",\")\n",
    "    \n",
    "    fig, ax = plt.subplots(figsize = (8,8),dpi=200)\n",
    "    af.plotSpinSites(secondfoldername, imgfile, x, y, \n",
    "                 [i for i in range(len(x)) if sconf[i] == 1],\n",
    "                 putimage = False, color = 'blue', alpha = 1,\n",
    "                 linestyle = 'none')\n",
    "    af.plotSpinSites(secondfoldername, imgfile, x, y, \n",
    "                     [i for i in range(len(x)) if sconf[i] == -1],\n",
    "                     putimage = False, color = 'red', alpha = 1,\n",
    "                     linestyle = 'none')\n",
    "    af.plotSpinSites(secondfoldername, imgfile, xc, yc, \n",
    "                     [i for i in range(len(xc)) if abs(cconf[i]) == 3], \n",
    "                     putimage = False, color = 'yellow', alpha = 1,\n",
    "                     linestyle = 'none')\n",
    "    #af.plotSpinSites(secondfoldername, imgfile, xc, yc, \n",
    "    #                 [i for i in range(len(xc)) if abs(cconf[i]) == 1], \n",
    "    #                 putimage = False, color = 'green', alpha = 1,\n",
    "    #                 linestyle = 'none')\n",
    "    plt.savefig(secondfoldername[i] + 'State_' + secondfilename[i]+'.png')\n",
    "    plt.show()\n",
    "    \n",
    "    cov = []\n",
    "    varcov = []\n",
    "    d = []\n",
    "    vard = []\n",
    "\n",
    "    for j in range(9):\n",
    "        print(j)\n",
    "        cov0, varcov0, d0, vard0= af.ComputeNthCorrList(NNList[j], sconf, x, y, factor)\n",
    "        cov.append(cov0)\n",
    "        varcov.append(varcov0)\n",
    "        d.append(d0)\n",
    "        vard.append(vard0)\n",
    "      \n",
    "    covlist.append(cov)\n",
    "    varcovlist.append(varcov)\n",
    "    dlist.append(d)\n",
    "    vardlist.append(vard)\n",
    "    \n",
    "    \n",
    "        \n",
    "    del configlist\n",
    "    del x\n",
    "    del y\n",
    "    del sconf\n",
    "    del distances_s1s2\n",
    "    del NNList\n",
    "    del cconf\n",
    "    del xc\n",
    "    del yc\n",
    "    del charges\n",
    "    del cov\n",
    "    del varcov\n",
    "    del d\n",
    "    del vard\n"
   ]
  },
  {
   "cell_type": "code",
   "execution_count": null,
   "metadata": {},
   "outputs": [],
   "source": [
    "mlist = np.array(mlist)\n",
    "avgm = np.sum(mlist)/20\n",
    "print(np.std(mlist))"
   ]
  },
  {
   "cell_type": "code",
   "execution_count": null,
   "metadata": {},
   "outputs": [],
   "source": [
    "avgm"
   ]
  },
  {
   "cell_type": "code",
   "execution_count": null,
   "metadata": {},
   "outputs": [],
   "source": [
    "d = np.array(dlist).sum(0)/n\n",
    "vard = np.array(vardlist).sum(0)/n\n",
    "\n",
    "cov = np.array(covlist).sum(0)/n\n",
    "varcov = np.array([(covlist[i] - cov)**2 for i in range(n)]).sum(0)/n\n",
    "\n",
    "varcov2 = np.array(varcovlist).sum(0)/n"
   ]
  },
  {
   "cell_type": "markdown",
   "metadata": {},
   "source": [
    "#### Bootstrapping the result to get an error estimate:\n",
    "The idea is to compute the correlations as the average of the correlations over 18 of the 20 samples, chosing these 18 in an arbitrary way, then compute the error as the standard deviation of this result"
   ]
  },
  {
   "cell_type": "code",
   "execution_count": null,
   "metadata": {},
   "outputs": [],
   "source": [
    "np.array(covlist).shape"
   ]
  },
  {
   "cell_type": "code",
   "execution_count": null,
   "metadata": {},
   "outputs": [],
   "source": [
    "avgcorr = []\n",
    "corr = np.array(covlist)\n",
    "s = 5\n",
    "nsample = 20\n",
    "masks = []\n",
    "for randid in range(nsample):\n",
    "    mask = np.random.choice(20, size=s)\n",
    "    masks.append(mask)\n",
    "    avgcorr.append(corr[mask,:,:].sum(0)/s)\n",
    "    \n",
    "avgcorr = np.array(avgcorr)\n",
    "navg = avgcorr.shape[0]\n",
    "stdev = np.std(avgcorr, axis=0)\n",
    "avgcorrplot = avgcorr.sum(0)/nsample"
   ]
  },
  {
   "cell_type": "code",
   "execution_count": null,
   "metadata": {},
   "outputs": [],
   "source": [
    "stdev"
   ]
  },
  {
   "cell_type": "code",
   "execution_count": null,
   "metadata": {},
   "outputs": [],
   "source": [
    "avgcorrplot"
   ]
  },
  {
   "cell_type": "code",
   "execution_count": null,
   "metadata": {
    "scrolled": false
   },
   "outputs": [],
   "source": [
    "ListNei = ['1', '2', '3par', '3star', '4', '5', '6', '6bis', '7', '8', '8bis','9']\n",
    "fig, ax = plt.subplots(figsize = (8,8), dpi=200)\n",
    "for index in range(4):\n",
    "    print(index)\n",
    "    plt.errorbar(1, avgcorrplot[index,0],yerr=stdev[index,0], \n",
    "    label='Neighbour {0}'.format(ListNei[index]),  fmt= 'x')\n",
    "plt.xlabel('')\n",
    "plt.ylabel('Accumulated correlations')\n",
    "plt.title('20 samples average,\\n errors from std deviation of {0} samples averages'.format(s))\n",
    "plt.ylim(-0.27, 0.12)\n",
    "plt.legend()\n",
    "plt.savefig(secondfoldername[0]+'AvgFirstFewCorrelations'+secondfilename[0]+'.png')    "
   ]
  },
  {
   "cell_type": "code",
   "execution_count": null,
   "metadata": {},
   "outputs": [],
   "source": [
    "fig, ax = plt.subplots(figsize = (8,8), dpi=200)\n",
    "for i in range(5):\n",
    "    plt.gca().set_prop_cycle(None)\n",
    "    for index in range(4):\n",
    "        print(index)\n",
    "        if i == 0:\n",
    "            plt.errorbar(i, avgcorr[i,index,0],yerr=stdev[index,0], \n",
    "            label='Neighbour {0}'.format(ListNei[index]),  fmt= 'x')\n",
    "        else:\n",
    "            plt.errorbar(i, avgcorr[i,index,0],yerr=stdev[index,0],  fmt= 'x')\n",
    "plt.xticks([0, 1, 2, 3, 4], ['Set 1', 'Set 2', 'Set 3','Set 4','Set 5'])\n",
    "plt.ylabel('Accumulated correlations')\n",
    "plt.ylim(-0.27, 0.12)\n",
    "plt.legend()\n",
    "plt.savefig(secondfoldername[0]+'AvgFirstFewCorrelations'+'_5Masks_{1}_samples_bootstrapping'.format(i,s)+secondfilename[0]+'.png')    "
   ]
  },
  {
   "cell_type": "code",
   "execution_count": null,
   "metadata": {},
   "outputs": [],
   "source": [
    "print(cov)"
   ]
  },
  {
   "cell_type": "code",
   "execution_count": null,
   "metadata": {},
   "outputs": [],
   "source": [
    "print(np.sqrt(np.array(varcov)))\n",
    "print(np.sqrt(np.array(varcov2)))"
   ]
  },
  {
   "cell_type": "code",
   "execution_count": null,
   "metadata": {},
   "outputs": [],
   "source": [
    "fig, ax = plt.subplots(dpi=200)\n",
    "plt.errorbar(d, np.array(cov),xerr = np.sqrt(np.array(vard)),yerr=np.sqrt(np.array(varcov)),  fmt= '.')\n",
    "plt.xlabel('Distance')\n",
    "plt.ylabel('Accumulated correlations')\n",
    "plt.ylim(-0.27,0.12)\n",
    "plt.savefig(secondfoldername[i] + 'FirstResult_' + secondfilename[i]+'.png')\n",
    "plt.show()"
   ]
  },
  {
   "cell_type": "code",
   "execution_count": null,
   "metadata": {
    "scrolled": true
   },
   "outputs": [],
   "source": [
    "ListNei = ['1', '2', '3par', '3star', '4', '5', '6', '6bis', '7', '8', '8bis','9']\n",
    "for i in range(n):\n",
    "    fig, ax = plt.subplots(figsize = (8,8), dpi=200)\n",
    "\n",
    "    for index, covi in enumerate(covlist[i][0:5]):\n",
    "        #print(index)\n",
    "        plt.errorbar(1, covi,yerr=np.sqrt(np.array(varcovlist[i])[index]), label='Neighbour {0}'.format(ListNei[index]),  fmt= 'x')\n",
    "\n",
    "    plt.xlabel('')\n",
    "    plt.xticks([])\n",
    "    plt.ylabel('Accumulated correlations')\n",
    "    plt.ylim(-0.27, 0.12)\n",
    "    plt.legend(loc='best')\n",
    "    plt.savefig(secondfoldername[i]+'FirstFewCorrelations'+secondfilename[i]+'.png')\n",
    "\n",
    "fig, ax = plt.subplots(figsize = (8,8),dpi=200)\n",
    "x = [1 for y in cov];\n",
    "\n",
    "for index, covi in enumerate(cov[0:4]):\n",
    "    print(index)\n",
    "    plt.errorbar(1, covi,yerr=np.sqrt(np.array(varcov2)[index]), label='Neighbour {0}'.format(ListNei[index]),  fmt= 'x')\n",
    "plt.xlabel('')\n",
    "plt.xticks([])\n",
    "plt.ylabel('Accumulated correlations (20 samples average)')\n",
    "plt.ylim(-0.27, 0.12)\n",
    "plt.legend()\n",
    "plt.savefig(secondfoldername[0]+'AvgFirstFewCorrelations'+secondfilename[0]+'.png')    "
   ]
  },
  {
   "cell_type": "code",
   "execution_count": null,
   "metadata": {},
   "outputs": [],
   "source": [
    "#ssecondfoldername = '../Analysis_PSI/Kagome_54-1_Demag_all/'\n",
    "#ssecondfilename = '54-1_Demag7_5-TR_spin_config.txt'\n",
    "#iimgfile = \"\"\n",
    "#ffactor = 178.7\n",
    "#cconfiglist, x, y, sconf = af.LoadSpinConfigsLarge(secondfoldername, secondfilename, imgfile, alpha = 1, factor = factor)\n",
    "#pplt.plot(x[43]/factor, y[43]/factor,'.', color = \"red\")\n",
    "#pplt.plot(x[42]/factor, y[42]/factor,'.', color = \"blue\")\n",
    "#pprint(x[43],\" \", y[10], \" \", x[11], \" \", y[11])\n",
    "#pprint(np.sqrt((x[43]-x[42])**2 + (y[43]-y[42])**2))\n",
    "#mm = sum(sconf)/len(sconf)\n",
    "#pprint(m)"
   ]
  },
  {
   "cell_type": "code",
   "execution_count": null,
   "metadata": {},
   "outputs": [],
   "source": []
  }
 ],
 "metadata": {
  "kernelspec": {
   "display_name": "Python 3",
   "language": "python",
   "name": "python3"
  },
  "language_info": {
   "codemirror_mode": {
    "name": "ipython",
    "version": 3
   },
   "file_extension": ".py",
   "mimetype": "text/x-python",
   "name": "python",
   "nbconvert_exporter": "python",
   "pygments_lexer": "ipython3",
   "version": "3.5.3"
  }
 },
 "nbformat": 4,
 "nbformat_minor": 2
}
