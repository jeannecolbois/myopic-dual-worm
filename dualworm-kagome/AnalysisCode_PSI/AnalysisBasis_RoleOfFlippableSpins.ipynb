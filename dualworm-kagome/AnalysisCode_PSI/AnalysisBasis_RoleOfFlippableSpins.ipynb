{
 "cells": [
  {
   "cell_type": "code",
   "execution_count": null,
   "metadata": {},
   "outputs": [],
   "source": [
    "import os,sys,inspect\n",
    "currentdir = os.path.dirname(os.path.abspath(inspect.getfile(inspect.currentframe())))\n",
    "parentdir = os.path.dirname(currentdir)\n",
    "sys.path.insert(0,parentdir) "
   ]
  },
  {
   "cell_type": "code",
   "execution_count": null,
   "metadata": {},
   "outputs": [],
   "source": [
    "# Import modules\n",
    "import numpy as np # maths\n",
    "\n",
    "from time import time# timer for debug\n",
    "\n",
    "    # gather results obtained from the runs\n",
    "import pickle # open .pkl files where python objects have been saved\n",
    "from safe import safe # the empty class which is used to save the results\n",
    "    \n",
    "    # system commands\n",
    "import os\n",
    "    \n",
    "    # interact with the C++ core and the Python core\n",
    "import dimers as dim # C++ interface module\n",
    "import KagomeFunctions as kf # \"library\" allowing to work on Kagome\n",
    "import KagomeDrawing as kdraw # \"library\" allowing to plot Kagome\n",
    "import Observables as obs #observables that can be used by the run script\n",
    "import KagomeFT as kft #small functions to compute the FT\n",
    "import AnalysisFunctions as af # functions to make the analysis code cleaner\n",
    "    #plots using matplotlib\n",
    "import matplotlib\n",
    "import matplotlib.pyplot as plt\n",
    "%matplotlib inline\n",
    "matplotlib.rcParams['axes.unicode_minus'] = False\n",
    "matplotlib.rcParams.update({'font.size': 14, 'pgf.texsystem':'pdflatex'})"
   ]
  },
  {
   "cell_type": "code",
   "execution_count": null,
   "metadata": {},
   "outputs": [],
   "source": [
    "# Create a folder to save the pictures\n",
    "foldername = '../../Analysis_PSI_EPFL/Runs_16-07-20_Both/'\n",
    "results_foldername = 'CompareFields/Results_23-07-20/'\n",
    "filenamelist = ['FieldJ1_Measupdate_L4_ri4_rj4_p0_folder/backup',\n",
    "                'KJ1_Measupdate_L4_ri4_rj4_folder/backup',\n",
    "                'FieldJ1_Measupdate_L4_ri4_rj4_p2_folder/backup',\n",
    "                'FieldJ1_Measupdate_L4_ri4_rj4_p4_folder/backup']\n",
    "os.makedirs('./' + foldername + results_foldername, exist_ok = True)\n",
    "\n",
    "n = len(filenamelist)"
   ]
  },
  {
   "cell_type": "code",
   "execution_count": null,
   "metadata": {
    "scrolled": false
   },
   "outputs": [],
   "source": [
    "[L, numsites, J1, J2, J3, J3st, J4, nb, num_in_bin, temperatures, nt,\n",
    " stat_temps, temperatures_plots, hfields, nh, \n",
    " stat_hfields, hfields_plots, listfunctions, sref, ids2walker] = \\\n",
    "af.LoadParameters(foldername, filenamelist)\n",
    "print(listfunctions)\n",
    "\n",
    "s_ijl, ijl_s = kdraw.createspinsitetable(L[0])\n",
    "print(\"nb \", nb, \"num_in_bin \", num_in_bin)\n",
    "swapst_th, swapsh_th, swapst, swapsh = af.LoadSwaps(foldername, filenamelist, nb, num_in_bin, nh, nt)\n",
    "\n",
    "#n = len(L)\n",
    "#failedth, failedssfth, failed, failedssf = \\\n",
    "#af.LoadUpdates(foldername, filenamelist, nb, num_in_bin, [9*L[i]**2 for i in range(n)])\n",
    "\n",
    "Ttip = [0,0,0,0]\n",
    "print(\"Ttip\", Ttip)\n",
    "htip = [0,1,2,4]\n",
    "print(\"htip\", htip)\n",
    "kw = {'binning': True, 'plzplot': False, 'plotmin': 0, 'plotmax': 16}\n",
    "[t_h_MeanE, t_h_MeanEsq, t_h_varMeanE, t_h_varMeanEsq, C, ErrC] = \\\n",
    " af.LoadEnergy(foldername, filenamelist, numsites,\n",
    "               nb, stat_temps, temperatures, stat_hfields, listfunctions, **kw)\n",
    "\n",
    "[t_h_MeanM, t_h_MeanMsq, t_h_varMeanM, t_h_varMeanMsq, Chi, ErrChi] = \\\n",
    " af.LoadMagnetisation(foldername, filenamelist, numsites,\n",
    "               nb, stat_temps, temperatures, stat_hfields, listfunctions, **kw)"
   ]
  },
  {
   "cell_type": "code",
   "execution_count": null,
   "metadata": {},
   "outputs": [],
   "source": [
    "###########################################\n",
    "        ## ALGORITHM ANALYSIS ##\n",
    "###########################################\n",
    "tidmin = 0\n",
    "tidmax = nt\n",
    "af.SwapsAnalysis(L, n, tidmin, tidmax, temperatures, hfields,\n",
    "                 foldername, results_foldername, swapst, swapsh)"
   ]
  },
  {
   "cell_type": "code",
   "execution_count": null,
   "metadata": {},
   "outputs": [],
   "source": [
    "af.FailedAnalysis(L, n, tidmin, tidmax, temperatures, hfields,\n",
    "                 foldername, results_foldername,failed, failedssf)"
   ]
  },
  {
   "cell_type": "code",
   "execution_count": null,
   "metadata": {},
   "outputs": [],
   "source": [
    "tidmin = 0\n",
    "tidmax = [len(stat_temps[i]) for i in range(n)]\n",
    "temperatures_plots = np.array(temperatures_plots)"
   ]
  },
  {
   "cell_type": "code",
   "execution_count": null,
   "metadata": {},
   "outputs": [],
   "source": [
    "###########################################\n",
    "        ## Energy ANALYSIS ##\n",
    "###########################################\n",
    "### Energy\n",
    "S0 = np.log(2)\n",
    "kw = {'gscheck': True}\n",
    "af.BasicPlotsE(L, n, tidmin, tidmax, temperatures_plots, hfields_plots, foldername,\n",
    "                results_foldername, filenamelist, t_h_MeanE, t_h_MeanEsq, t_h_varMeanE,\n",
    "                t_h_varMeanEsq, C, ErrC, J1, J2, J3, J4, **kw)\n",
    "plt.show()"
   ]
  },
  {
   "cell_type": "code",
   "execution_count": null,
   "metadata": {},
   "outputs": [],
   "source": [
    "###########################################\n",
    "        ## MAGNETISATION ANALYSIS ##\n",
    "###########################################\n",
    "af.BasicPlotsM(L, n, tidmin, tidmax, temperatures_plots, hfields_plots, foldername,\n",
    "                results_foldername, filenamelist, t_h_MeanM, t_h_MeanMsq, t_h_varMeanM,\n",
    "                t_h_varMeanMsq, Chi, ErrChi, J1, J2, J3, J4, **kw)\n",
    "plt.show()"
   ]
  },
  {
   "cell_type": "code",
   "execution_count": null,
   "metadata": {},
   "outputs": [],
   "source": [
    "###########################################\n",
    "    ## Correlations load and analysis ##\n",
    "###########################################"
   ]
  },
  {
   "cell_type": "code",
   "execution_count": null,
   "metadata": {},
   "outputs": [],
   "source": [
    "rmmag = True\n",
    "kw = {'rmmag':rmmag}"
   ]
  },
  {
   "cell_type": "code",
   "execution_count": null,
   "metadata": {
    "scrolled": true
   },
   "outputs": [],
   "source": [
    "t_h_MeanFc, t_h_varMeanFc, t_h_MeanSi, t_h_varMeanSi= \\\n",
    " af.LoadFirstCorrelations(foldername, filenamelist, listfunctions,stat_temps[0:4], stat_hfields, nb, t_h_varMeanMsq, **kw)"
   ]
  },
  {
   "cell_type": "code",
   "execution_count": null,
   "metadata": {},
   "outputs": [],
   "source": [
    "t_h_MeanSs, t_h_varMeanSs, t_h_MeanSi, t_h_varMeanSi, t_h_MeanCorr, t_h_errCorrEstim = \\\n",
    " af.LoadCentralCorrelations(foldername, filenamelist, listfunctions, sref, stat_temps[0:4], stat_hfields, nb, **kw)\n",
    "print(t_h_errCorrEstim[0].shape)\n",
    "print(t_h_MeanFc[0].shape)"
   ]
  },
  {
   "cell_type": "code",
   "execution_count": null,
   "metadata": {},
   "outputs": [],
   "source": [
    "for i in range(n):\n",
    "    addsave = \"Ttip={0}_ht={1}_L={2}\".format(Ttip[i],htip[i],L[i]);\n",
    "    addtitle = r\"$T_{t}/J_1=$\"+\"{0},\".format(Ttip[i])+r\" $h_{t}/J_1$=\" +\"{0}, $L$ = {1}\".format(htip[i], L[i]);\n",
    "\n",
    "        \n",
    "    af.BasicPlotsFirstCorrelations(L, i, t_h_MeanFc, temperatures_plots, \n",
    "                                   t_h_varMeanFc, \n",
    "                                   foldername, results_foldername, \n",
    "                                   filenamelist, tmin = 0, \n",
    "                                   setyticks = None,\n",
    "                                   addtitle = addtitle, addsave = addsave,\n",
    "                                   save = True, log = True,\n",
    "                                   figsize=(9,6), dpi = 200)"
   ]
  },
  {
   "cell_type": "code",
   "execution_count": null,
   "metadata": {},
   "outputs": [],
   "source": [
    "for i in range(n):\n",
    "    addsave = \"Ttip={0}_ht={1}_L={2}\".format(Ttip[i],htip[i],L[i]);\n",
    "    addtitle = r\"$T_{t}/J_1=$\"+\"{0}\".format(Ttip[i])+r\", $h_{t}/J_1$=\" +\"{0}, $L$ = {1}\".format(htip[i], L[i]);\n",
    "\n",
    "        \n",
    "    af.BasicPlotsFirstCorrelations(L, i, t_h_MeanFc, temperatures_plots, \n",
    "                                   t_h_varMeanFc, \n",
    "                                   foldername, results_foldername, \n",
    "                                   filenamelist, tmin = 0, \n",
    "                                   setyticks = None,\n",
    "                                   addtitle = addtitle, addsave = addsave,\n",
    "                                   save = True, log = False,\n",
    "                                   figsize=(9,6), dpi = 200)"
   ]
  },
  {
   "cell_type": "code",
   "execution_count": null,
   "metadata": {},
   "outputs": [],
   "source": [
    "# Introducing the experimental values for the plots below:\n",
    "## <sisj>-<si><sj>:\n",
    "NN1exp = -0.22;\n",
    "NN1experr = 0.0097;\n",
    "NN2exp = 0.021;\n",
    "NN2experr = 0.009;\n",
    "NN3pexp = 0.065;\n",
    "NN3pexperr = 0.012;\n",
    "NN3sexp = -0.001;\n",
    "NN3sexperr = 0.011;\n",
    "\n",
    "mexp = -0.193;\n",
    "\n",
    "rmexpmag = True\n",
    "\n",
    "if not rmexpmag:\n",
    "    NN1exp += mexp**2;\n",
    "    NN2exp += mexp**2;\n",
    "    NN3pexp += mexp**2;\n",
    "    NN3sexp += mexp**2;\n",
    "    \n",
    "\n",
    "print(NN1exp)\n",
    "print(NN2exp)\n",
    "print(NN3pexp)\n",
    "print(NN3sexp)"
   ]
  },
  {
   "cell_type": "code",
   "execution_count": null,
   "metadata": {},
   "outputs": [],
   "source": [
    "for i in range(n):\n",
    "    addsave = \"Ttip={0}_ht={1}_L={2}\".format(Ttip[i],htip[i],L[i]);\n",
    "    addtitle = r\"$T_{t}/J_1=$\"+\"{0}\".format(Ttip[i])+r\", $h_{t}/J_1$=\" +\"{0}, $L$ = {1}\".format(htip[i], L[i]);\n",
    "\n",
    "        \n",
    "    af.BasicPlotsFirstCorrelations(L, i, t_h_MeanFc, temperatures_plots, \n",
    "                                   t_h_varMeanFc, \n",
    "                                   foldername, results_foldername, \n",
    "                                   filenamelist, tmin = 0, \n",
    "                                   setyticks = None,\n",
    "                                   addtitle = addtitle, addsave = addsave,\n",
    "                                   save = True, log = True,\n",
    "                                   figsize=(9,6), dpi = 200)\n",
    "    plt.gca().set_prop_cycle(None)\n",
    "    plt.fill_between([1e-3,60],[NN1exp-NN1experr,NN1exp-NN1experr],[NN1exp+NN1experr, NN1exp+NN1experr], alpha = 0.2, label = r'$c_1$ - exp')\n",
    "    plt.fill_between([1e-3,60],[NN2exp-NN2experr,NN2exp-NN2experr],[NN2exp+NN2experr, NN2exp+NN2experr], alpha = 0.2, label = r'$c_2$ - exp')\n",
    "    plt.fill_between([1e-3,60],[NN3pexp-NN3pexperr,NN3pexp-NN3pexperr],[NN3pexp+NN3pexperr, NN3pexp+NN3pexperr], alpha = 0.2, label = r'$c_{3||}$ - exp')\n",
    "    plt.fill_between([1e-3,60],[NN3sexp-NN3sexperr, NN3sexp-NN3sexperr],[NN3sexp+NN3sexperr, NN3sexp+NN3sexperr], alpha = 0.2, label = r'$c_{3\\star}$- exp')\n",
    "    plt.xlim([0.1, 20])\n",
    "    plt.ylim([-0.35, 0.2])\n",
    "    plt.yticks(np.arange(-0.35,0.25,0.05))\n",
    "    plt.legend()\n",
    "    plt.savefig(\"./\" + foldername + results_foldername + \"/FirstCorrelations_Zoom\" + addsave +\"rmexpmag={0}.png\".format(rmexpmag))"
   ]
  },
  {
   "cell_type": "code",
   "execution_count": null,
   "metadata": {},
   "outputs": [],
   "source": [
    "### COMPUTING CORRELATIONS FROM <SISJ> AND <SI> and plotting in 2D\n",
    "ploth = False\n",
    "if not ploth:\n",
    "    tid = 0\n",
    "    hid = 0\n",
    "    rid = tid\n",
    "else:\n",
    "    tid = 0\n",
    "    hid = 0\n",
    "    rid = hid\n",
    "\n",
    "[corr, errcorr, maxerr] = af.PrepPlot2DCorrelations(rid, n, \n",
    "                                                t_h_MeanCorr,\n",
    "                                                t_h_errCorrEstim,\n",
    "                                                t_h_MeanSi,\n",
    "                                                hfields_plots,\n",
    "                                                temperatures_plots,\\\n",
    "                                                ploth = ploth)\n",
    "print(\"t = \",temperatures_plots[0][tid])\n",
    "print(\"h = \",hfields_plots[0][hid])"
   ]
  },
  {
   "cell_type": "code",
   "execution_count": null,
   "metadata": {},
   "outputs": [],
   "source": [
    "for i in range(n):\n",
    "    af.PlotFirstCorrelations(i, L,foldername, results_foldername,  hfields_plots, temperatures_plots,\n",
    "                             t_h_MeanCorr, t_h_errCorrEstim, sref, \\\n",
    "                             distmax = 2, ploth = ploth, plotFirst = False,\n",
    "                            t_h_MeanFc = t_h_MeanFc, **kw)\n",
    "    plt.title(r\"$T_{t}=$\"+\"{0}\".format(Ttip[i])+ \", \"+ r\"$\\frac{h_{t}}{J_1}=$\"+\"{0}\".format(htip[i]))\n",
    "    plt.savefig(\"./\" + foldername + results_foldername + \"/FirstCorrelations_Central.png\")"
   ]
  },
  {
   "cell_type": "code",
   "execution_count": null,
   "metadata": {
    "scrolled": false
   },
   "outputs": [],
   "source": [
    "for i in range(n):\n",
    "    af.PlotFirstCorrelations(i, L,foldername, results_foldername,  hfields_plots, temperatures_plots,\n",
    "                             t_h_MeanCorr, t_h_errCorrEstim, sref, \\\n",
    "                             distmax = 2, ploth = ploth, plotFirst = True,\n",
    "                            t_h_MeanFc = t_h_MeanFc, **kw)\n",
    "    plt.title(r\"$T_{t}=$\"+\"{0}\".format(Ttip[i])+ \", \"+ r\"$\\frac{h_{t}}{J_1}=$\"+\"{0}\".format(htip[i]))\n",
    "    plt.savefig(\"./\" + foldername + results_foldername + \"/FirstCorrelations_Comparison_htip={0}.png\".format(htip[i]))"
   ]
  },
  {
   "cell_type": "code",
   "execution_count": null,
   "metadata": {},
   "outputs": [],
   "source": []
  }
 ],
 "metadata": {
  "kernelspec": {
   "display_name": "Python 3",
   "language": "python",
   "name": "python3"
  },
  "language_info": {
   "codemirror_mode": {
    "name": "ipython",
    "version": 3
   },
   "file_extension": ".py",
   "mimetype": "text/x-python",
   "name": "python",
   "nbconvert_exporter": "python",
   "pygments_lexer": "ipython3",
   "version": "3.6.9"
  }
 },
 "nbformat": 4,
 "nbformat_minor": 2
}
