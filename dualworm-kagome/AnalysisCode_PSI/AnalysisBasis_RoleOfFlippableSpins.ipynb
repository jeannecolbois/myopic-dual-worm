{
 "cells": [
  {
   "cell_type": "code",
   "execution_count": 1,
   "metadata": {},
   "outputs": [],
   "source": [
    "import os,sys,inspect\n",
    "currentdir = os.path.dirname(os.path.abspath(inspect.getfile(inspect.currentframe())))\n",
    "parentdir = os.path.dirname(currentdir)\n",
    "sys.path.insert(0,parentdir) "
   ]
  },
  {
   "cell_type": "code",
   "execution_count": 2,
   "metadata": {},
   "outputs": [],
   "source": [
    "# Import modules\n",
    "import numpy as np # maths\n",
    "\n",
    "from time import time# timer for debug\n",
    "\n",
    "    # gather results obtained from the runs\n",
    "import pickle # open .pkl files where python objects have been saved\n",
    "from safe import safe # the empty class which is used to save the results\n",
    "    \n",
    "    # system commands\n",
    "import os\n",
    "    \n",
    "    # interact with the C++ core and the Python core\n",
    "import dimers as dim # C++ interface module\n",
    "import KagomeFunctions as kf # \"library\" allowing to work on Kagome\n",
    "import KagomeDrawing as kdraw # \"library\" allowing to plot Kagome\n",
    "import Observables as obs #observables that can be used by the run script\n",
    "import KagomeFT as kft #small functions to compute the FT\n",
    "import AnalysisFunctions as af # functions to make the analysis code cleaner\n",
    "    #plots using matplotlib\n",
    "import matplotlib\n",
    "import matplotlib.pyplot as plt\n",
    "%matplotlib inline\n",
    "matplotlib.rcParams['axes.unicode_minus'] = False\n",
    "matplotlib.rcParams.update({'font.size': 14, 'pgf.texsystem':'pdflatex'})"
   ]
  },
  {
   "cell_type": "code",
   "execution_count": 3,
   "metadata": {},
   "outputs": [],
   "source": [
    "# Create a folder to save the pictures\n",
    "p = 1\n",
    "foldername = '../../Analysis_PSI_EPFL/Runs_16-06-20_Central/'\n",
    "results_foldername = 'KJ1_Mv1_p{0}_L12_folder/Results_16-06-20/'.format(p)\n",
    "filenamelist = ['KJ1_Mv1_p{0}_L12_folder/backup'.format(p)]\n",
    "os.makedirs('./' + foldername + results_foldername, exist_ok = True)\n",
    "\n",
    "n = len(filenamelist)"
   ]
  },
  {
   "cell_type": "code",
   "execution_count": 4,
   "metadata": {
    "scrolled": false
   },
   "outputs": [
    {
     "name": "stdout",
     "output_type": "stream",
     "text": [
      "nb  [512] num_in_bin  [32]\n",
      "[-0.66666667]\n"
     ]
    }
   ],
   "source": [
    "[L, numsites, J1, J2, J3, J3st, J4, nb, num_in_bin, temperatures, nt,\n",
    " stat_temps, temperatures_plots, hfields, nh, \n",
    " stat_hfields, hfields_plots, listfunctions, sref, ids2walker] = \\\n",
    "af.LoadParameters(foldername, filenamelist)\n",
    "\n",
    "s_ijl, ijl_s = kdraw.createspinsitetable(L[0])\n",
    "print(\"nb \", nb, \"num_in_bin \", num_in_bin)\n",
    "swapst_th, swapsh_th, swapst, swapsh = af.LoadSwaps(foldername, filenamelist, nb, num_in_bin, nh, nt)\n",
    "\n",
    "kw = {'binning': False, 'plzplot': True, 'plotmin': 0, 'plotmax': 16}\n",
    "[t_h_MeanE, t_h_MeanEsq, t_h_varMeanE, t_h_varMeanEsq, C, ErrC] = \\\n",
    " af.LoadEnergy(foldername, filenamelist, numsites,\n",
    "               nb, stat_temps, temperatures, stat_hfields, listfunctions, **kw)\n",
    "\n",
    "[t_h_MeanM, t_h_MeanMsq, t_h_varMeanM, t_h_varMeanMsq, Chi, ErrChi] = \\\n",
    " af.LoadMagnetisation(foldername, filenamelist, numsites,\n",
    "               nb, stat_temps, temperatures, stat_hfields, listfunctions, **kw)"
   ]
  },
  {
   "cell_type": "code",
   "execution_count": null,
   "metadata": {},
   "outputs": [],
   "source": [
    "t_h_MeanFc, t_h_varMeanFc, t_h_MeanSi, t_h_varMeanSi= \\\n",
    " af.LoadFirstCorrelations(foldername, filenamelist, listfunctions, sref, stat_temps[0:4], stat_hfields, nb, **kw)\n"
   ]
  },
  {
   "cell_type": "code",
   "execution_count": null,
   "metadata": {},
   "outputs": [],
   "source": [
    "###########################################\n",
    "        ## ALGORITHM ANALYSIS ##\n",
    "###########################################\n",
    "tidmin = 0\n",
    "tidmax = nt\n",
    "af.SwapsAnalysis(L, n, tidmin, tidmax, temperatures, hfields,\n",
    "                 foldername, results_foldername, swapst, swapsh)"
   ]
  },
  {
   "cell_type": "code",
   "execution_count": null,
   "metadata": {},
   "outputs": [],
   "source": [
    "###########################################\n",
    "        ## Energy ANALYSIS ##\n",
    "###########################################\n",
    "tidmin = 0\n",
    "tidmax = [len(stat_temps[i]) for i in range(n)]\n",
    "temperatures_plots = np.array(temperatures_plots)\n",
    "### Energy\n",
    "S0 = np.log(2)\n",
    "kw = {'gscheck': True}\n",
    "af.BasicPlotsE(L, n, tidmin, tidmax, temperatures_plots, hfields_plots, foldername,\n",
    "                results_foldername, filenamelist, t_h_MeanE, t_h_MeanEsq, t_h_varMeanE,\n",
    "                t_h_varMeanEsq, C, ErrC, J1, J2, J3, J4, **kw)\n",
    "plt.show()"
   ]
  },
  {
   "cell_type": "code",
   "execution_count": null,
   "metadata": {},
   "outputs": [],
   "source": [
    "###########################################\n",
    "        ## MAGNETISATION ANALYSIS ##\n",
    "###########################################\n",
    "af.BasicPlotsM(L, n, tidmin, tidmax, temperatures_plots, hfields_plots, foldername,\n",
    "                results_foldername, filenamelist, t_h_MeanM, t_h_MeanMsq, t_h_varMeanM,\n",
    "                t_h_varMeanMsq, C, ErrC, J1, J2, J3, J4, **kw)\n",
    "plt.show()"
   ]
  },
  {
   "cell_type": "code",
   "execution_count": null,
   "metadata": {},
   "outputs": [],
   "source": [
    "tmin = 20\n",
    "plt.figure(figsize=(10,10), dpi = 200)\n",
    "plt.semilogx(temperatures_plots[0][tmin:],t_h_MeanFc[0][tmin:,0,0],'.',label = 'NN')\n",
    "plt.semilogx(temperatures_plots[0][tmin:],t_h_MeanFc[0][tmin:,0,1],'.',label = 'NN2')\n",
    "plt.semilogx(temperatures_plots[0][tmin:],t_h_MeanFc[0][tmin:,0,2],'.',label = 'NN3par')\n",
    "plt.semilogx(temperatures_plots[0][tmin:],t_h_MeanFc[0][tmin:,0,3],'.',label = 'NN3star')\n",
    "plt.title(r\"$h_{tip}/J=$\"+\"{0}\".format(p))\n",
    "plt.xlabel(\"T\")\n",
    "plt.ylabel(\"Correlation\") \n",
    "plt.legend()\n",
    "plt.savefig(\"./\" + foldername + results_foldername + \"/FirstCorrelations.png\")"
   ]
  },
  {
   "cell_type": "code",
   "execution_count": null,
   "metadata": {
    "scrolled": true
   },
   "outputs": [],
   "source": [
    "t_h_MeanSs, t_h_varMeanSs, t_h_MeanSi, t_h_varMeanSi, t_h_MeanCorr, t_h_errCorrEstim = \\\n",
    " af.LoadCentralCorrelations(foldername, filenamelist, listfunctions, sref, stat_temps[0:4], stat_hfields, nb, **kw)\n"
   ]
  },
  {
   "cell_type": "code",
   "execution_count": null,
   "metadata": {},
   "outputs": [],
   "source": [
    "### COMPUTING CORRELATIONS FROM <SISJ> AND <SI> and plotting in 2D\n",
    "ploth = False\n",
    "if not ploth:\n",
    "    tid = 0\n",
    "    hid = 0\n",
    "    rid = tid\n",
    "else:\n",
    "    tid = 9\n",
    "    hid = 15\n",
    "    rid = hid\n",
    "\n",
    "[corr, errcorr, maxerr] = af.PrepPlot2DCorrelations(rid, n, \n",
    "                                                t_h_MeanCorr,\n",
    "                                                t_h_errCorrEstim,\n",
    "                                                t_h_MeanSi,\n",
    "                                                hfields_plots,\n",
    "                                                temperatures_plots,\\\n",
    "                                                ploth = ploth)\n",
    "print(\"t = \",temperatures_plots[0][tid])\n",
    "print(\"h = \",hfields_plots[0][hid])"
   ]
  },
  {
   "cell_type": "code",
   "execution_count": null,
   "metadata": {},
   "outputs": [],
   "source": [
    "af.PlotFirstCorrelations(n, L,foldername, results_foldername,  hfields_plots, temperatures_plots,\n",
    "                         t_h_MeanCorr, t_h_errCorrEstim,\\\n",
    "                         distmax = 2, ploth = ploth)"
   ]
  },
  {
   "cell_type": "code",
   "execution_count": null,
   "metadata": {},
   "outputs": [],
   "source": []
  }
 ],
 "metadata": {
  "kernelspec": {
   "display_name": "Python 3",
   "language": "python",
   "name": "python3"
  },
  "language_info": {
   "codemirror_mode": {
    "name": "ipython",
    "version": 3
   },
   "file_extension": ".py",
   "mimetype": "text/x-python",
   "name": "python",
   "nbconvert_exporter": "python",
   "pygments_lexer": "ipython3",
   "version": "3.5.3"
  }
 },
 "nbformat": 4,
 "nbformat_minor": 2
}
