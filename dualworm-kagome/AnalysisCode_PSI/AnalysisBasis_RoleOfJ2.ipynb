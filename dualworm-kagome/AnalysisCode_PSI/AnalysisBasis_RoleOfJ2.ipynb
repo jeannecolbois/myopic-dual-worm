{
 "cells": [
  {
   "cell_type": "code",
   "execution_count": null,
   "metadata": {},
   "outputs": [],
   "source": [
    "import os,sys,inspect\n",
    "currentdir = os.path.dirname(os.path.abspath(inspect.getfile(inspect.currentframe())))\n",
    "parentdir = os.path.dirname(currentdir)\n",
    "sys.path.insert(0,parentdir) "
   ]
  },
  {
   "cell_type": "code",
   "execution_count": null,
   "metadata": {},
   "outputs": [],
   "source": [
    "# Import modules\n",
    "import numpy as np # maths\n",
    "\n",
    "from time import time# timer for debug\n",
    "\n",
    "    # gather results obtained from the runs\n",
    "import pickle # open .pkl files where python objects have been saved\n",
    "from safe import safe # the empty class which is used to save the results\n",
    "    \n",
    "    # system commands\n",
    "import os\n",
    "    \n",
    "    # interact with the C++ core and the Python core\n",
    "import dimers as dim # C++ interface module\n",
    "import KagomeFunctions as kf # \"library\" allowing to work on Kagome\n",
    "import KagomeDrawing as kdraw # \"library\" allowing to plot Kagome\n",
    "import Observables as obs #observables that can be used by the run script\n",
    "import KagomeFT as kft #small functions to compute the FT\n",
    "import AnalysisFunctions as af # functions to make the analysis code cleaner\n",
    "    #plots using matplotlib\n",
    "import matplotlib\n",
    "import matplotlib.pyplot as plt\n",
    "%matplotlib inline\n",
    "matplotlib.rcParams['axes.unicode_minus'] = False\n",
    "matplotlib.rcParams.update({'font.size': 14, 'pgf.texsystem':'pdflatex'})"
   ]
  },
  {
   "cell_type": "code",
   "execution_count": null,
   "metadata": {},
   "outputs": [],
   "source": [
    "# Create a folder to save the pictures\n",
    "foldername = '../../Analysis_PSI_EPFL/Runs_12-07-20_J1J2/'\n",
    "results_foldername = 'MediumKJ1J2_Corr_L8_J20.02_folder/Results_16-07-20/'\n",
    "filenamelist = ['MediumKJ1J2_Corr_L8_J20.02_folder/backup']\n",
    "os.makedirs('./' + foldername + results_foldername, exist_ok = True)\n",
    "\n",
    "n = len(filenamelist)"
   ]
  },
  {
   "cell_type": "code",
   "execution_count": null,
   "metadata": {
    "scrolled": false
   },
   "outputs": [],
   "source": [
    "[L, numsites, J1, J2, J3, J3st, J4, nb, num_in_bin, temperatures, nt,\n",
    " stat_temps, temperatures_plots, hfields, nh, \n",
    " stat_hfields, hfields_plots, listfunctions, sref, ids2walker] = \\\n",
    "af.LoadParameters(foldername, filenamelist)\n",
    "\n",
    "s_ijl, ijl_s = kdraw.createspinsitetable(L[0])\n",
    "print(\"nb \", nb, \"num_in_bin \", num_in_bin)\n",
    "swapst_th, swapsh_th, swapst, swapsh = af.LoadSwaps(foldername, filenamelist, nb, num_in_bin, nh, nt)\n",
    "\n",
    "kw = {'binning': False, 'plzplot': True, 'plotmin': 0, 'plotmax': 16}\n",
    "[t_h_MeanE, t_h_MeanEsq, t_h_varMeanE, t_h_varMeanEsq, C, ErrC] = \\\n",
    " af.LoadEnergy(foldername, filenamelist, numsites,\n",
    "               nb, stat_temps, temperatures, stat_hfields, listfunctions, **kw)\n",
    "\n",
    "[t_h_MeanM, t_h_MeanMsq, t_h_varMeanM, t_h_varMeanMsq, Chi, ErrChi] = \\\n",
    " af.LoadMagnetisation(foldername, filenamelist, numsites,\n",
    "               nb, stat_temps, temperatures, stat_hfields, listfunctions, **kw)"
   ]
  },
  {
   "cell_type": "code",
   "execution_count": null,
   "metadata": {},
   "outputs": [],
   "source": [
    "###########################################\n",
    "        ## ALGORITHM ANALYSIS ##\n",
    "###########################################\n",
    "tidmin = 0\n",
    "tidmax = nt\n",
    "af.SwapsAnalysis(L, n, tidmin, tidmax, temperatures, hfields,\n",
    "                 foldername, results_foldername, swapst, swapsh)"
   ]
  },
  {
   "cell_type": "code",
   "execution_count": null,
   "metadata": {},
   "outputs": [],
   "source": [
    "###########################################\n",
    "        ## Energy ANALYSIS ##\n",
    "###########################################\n",
    "tidmin = 0\n",
    "tidmax = [len(stat_temps[i]) for i in range(n)]\n",
    "temperatures_plots = np.array(temperatures_plots)\n",
    "### Energy\n",
    "S0 = np.log(2)\n",
    "kw = {'gscheck': True}\n",
    "af.BasicPlotsE(L, n, tidmin, tidmax, temperatures_plots, hfields_plots, foldername,\n",
    "                results_foldername, filenamelist, t_h_MeanE, t_h_MeanEsq, t_h_varMeanE,\n",
    "                t_h_varMeanEsq, C, ErrC, J1, J2, J3, J4, **kw)\n",
    "plt.show()"
   ]
  },
  {
   "cell_type": "code",
   "execution_count": null,
   "metadata": {},
   "outputs": [],
   "source": [
    "###########################################\n",
    "        ## MAGNETISATION ANALYSIS ##\n",
    "###########################################\n",
    "af.BasicPlotsM(L, n, tidmin, tidmax, temperatures_plots, hfields_plots, foldername,\n",
    "                results_foldername, filenamelist, t_h_MeanM, t_h_MeanMsq, t_h_varMeanM,\n",
    "                t_h_varMeanMsq, Chi, ErrChi, J1, J2, J3, J4, **kw)\n",
    "plt.show()"
   ]
  },
  {
   "cell_type": "code",
   "execution_count": null,
   "metadata": {},
   "outputs": [],
   "source": [
    "rmmag = True\n",
    "kw = {'rmmag':rmmag}"
   ]
  },
  {
   "cell_type": "code",
   "execution_count": null,
   "metadata": {
    "scrolled": true
   },
   "outputs": [],
   "source": [
    "t_h_MeanFc, t_h_varMeanFc, t_h_MeanSi, t_h_varMeanSi= \\\n",
    " af.LoadFirstCorrelations(foldername, filenamelist, listfunctions,stat_temps[0:4], stat_hfields, nb, **kw)"
   ]
  },
  {
   "cell_type": "code",
   "execution_count": null,
   "metadata": {},
   "outputs": [],
   "source": [
    "t_h_MeanSs, t_h_varMeanSs, t_h_MeanSi, t_h_varMeanSi, t_h_MeanCorr, t_h_errCorrEstim = \\\n",
    " af.LoadCentralCorrelations(foldername, filenamelist, listfunctions, sref, stat_temps[0:4], stat_hfields, nb, **kw)\n",
    "print(t_h_errCorrEstim[0].shape)\n",
    "print(t_h_MeanFc[0].shape)"
   ]
  },
  {
   "cell_type": "code",
   "execution_count": null,
   "metadata": {
    "scrolled": false
   },
   "outputs": [],
   "source": [
    "tmin = 0\n",
    "plt.figure(figsize=(11,9), dpi = 200)\n",
    "plt.semilogx(temperatures_plots[0][tmin:],t_h_MeanFc[0][tmin:,0,0],'.',label = 'NN')\n",
    "plt.fill_between(temperatures_plots[0][tmin:],\n",
    "                t_h_MeanFc[0][tmin:,0,0]-np.sqrt(t_h_errCorrEstim[0][0,tmin:,0,0]),\n",
    "                t_h_MeanFc[0][tmin:,0,0]+np.sqrt(t_h_errCorrEstim[0][0,tmin:,0,0]), alpha = 0.2)\n",
    "plt.semilogx(temperatures_plots[0][tmin:],t_h_MeanFc[0][tmin:,0,1],'x',label = 'NN2')\n",
    "plt.fill_between(temperatures_plots[0][tmin:],\n",
    "                t_h_MeanFc[0][tmin:,0,1]-np.sqrt(t_h_errCorrEstim[0][0,tmin:,0,0]),\n",
    "                t_h_MeanFc[0][tmin:,0,1]+np.sqrt(t_h_errCorrEstim[0][0,tmin:,0,0]), alpha = 0.2)\n",
    "plt.semilogx(temperatures_plots[0][tmin:],t_h_MeanFc[0][tmin:,0,2],'v',label = 'NN3par')\n",
    "plt.fill_between(temperatures_plots[0][tmin:],\n",
    "                t_h_MeanFc[0][tmin:,0,2]-np.sqrt(t_h_errCorrEstim[0][0,tmin:,0,0]),\n",
    "                t_h_MeanFc[0][tmin:,0,2]+np.sqrt(t_h_errCorrEstim[0][0,tmin:,0,0]), alpha = 0.2)\n",
    "plt.semilogx(temperatures_plots[0][tmin:],t_h_MeanFc[0][tmin:,0,3],'*',label = 'NN3star')\n",
    "plt.fill_between(temperatures_plots[0][tmin:],\n",
    "                t_h_MeanFc[0][tmin:,0,3]-np.sqrt(t_h_errCorrEstim[0][0,tmin:,0,0]),\n",
    "                t_h_MeanFc[0][tmin:,0,3]+np.sqrt(t_h_errCorrEstim[0][0,tmin:,0,0]), alpha = 0.2)\n",
    "plt.title(r\"$J_2/J_1=$\"+\"{0}\".format(J2[0]))\n",
    "plt.xlabel(r\"$T/J_1$\")\n",
    "plt.ylabel(r\"$\\langle \\sigma_i \\sigma_j \\rangle - \\langle \\sigma_i \\rangle \\langle \\sigma_j \\rangle$\")\n",
    "plt.yticks(np.arange(-0.3,0.7,0.1))\n",
    "plt.grid(which='both')\n",
    "plt.legend()\n",
    "plt.savefig(\"./\" + foldername + results_foldername + \"/FirstCorrelations.png\")"
   ]
  },
  {
   "cell_type": "code",
   "execution_count": null,
   "metadata": {},
   "outputs": [],
   "source": [
    "tmin=0\n",
    "tmax = 128"
   ]
  },
  {
   "cell_type": "code",
   "execution_count": null,
   "metadata": {},
   "outputs": [],
   "source": [
    "\n",
    "plt.figure(figsize=(11,9), dpi = 200)\n",
    "plt.semilogx(temperatures_plots[0][tmin:tmax],t_h_MeanFc[0][tmin:tmax,0,0],'.',label = 'NN')\n",
    "plt.fill_between(temperatures_plots[0][tmin:tmax],\n",
    "                t_h_MeanFc[0][tmin:tmax,0,0]-np.sqrt(t_h_errCorrEstim[0][0,tmin:tmax,0,0]),\n",
    "                t_h_MeanFc[0][tmin:tmax,0,0]+np.sqrt(t_h_errCorrEstim[0][0,tmin:tmax,0,0]), alpha = 0.2)\n",
    "\n",
    "plt.semilogx(temperatures_plots[0][tmin:tmax],t_h_MeanFc[0][tmin:tmax,0,1],'x',label = 'NN2')\n",
    "plt.fill_between(temperatures_plots[0][tmin:tmax],\n",
    "                t_h_MeanFc[0][tmin:tmax,0,1]-np.sqrt(t_h_errCorrEstim[0][0,tmin:tmax,0,0]),\n",
    "                t_h_MeanFc[0][tmin:tmax,0,1]+np.sqrt(t_h_errCorrEstim[0][0,tmin:tmax,0,0]), alpha = 0.2)\n",
    "\n",
    "plt.semilogx(temperatures_plots[0][tmin:tmax],t_h_MeanFc[0][tmin:tmax,0,2],'v',label = 'NN3par')\n",
    "plt.fill_between(temperatures_plots[0][tmin:tmax],\n",
    "                t_h_MeanFc[0][tmin:tmax,0,2]-np.sqrt(t_h_errCorrEstim[0][0,tmin:tmax,0,0]),\n",
    "                t_h_MeanFc[0][tmin:tmax,0,2]+np.sqrt(t_h_errCorrEstim[0][0,tmin:tmax,0,0]), alpha = 0.2)\n",
    "\n",
    "plt.semilogx(temperatures_plots[0][tmin:tmax],t_h_MeanFc[0][tmin:tmax,0,3],'*',label = 'NN3star')\n",
    "plt.fill_between(temperatures_plots[0][tmin:tmax],\n",
    "                t_h_MeanFc[0][tmin:tmax,0,3]-np.sqrt(t_h_errCorrEstim[0][0,tmin:tmax,0,0]),\n",
    "                t_h_MeanFc[0][tmin:tmax,0,3]+np.sqrt(t_h_errCorrEstim[0][0,tmin:tmax,0,0]), alpha = 0.2)\n",
    "plt.title(r\"$J_2/J_1=$\"+\"{0}\".format(J2[0]))\n",
    "plt.xlabel(r\"$T/J_1$\")\n",
    "plt.ylabel(r\"$\\langle \\sigma_i \\sigma_j \\rangle - \\langle \\sigma_i \\rangle \\langle \\sigma_j \\rangle$\")\n",
    "plt.grid(which='both')\n",
    "plt.xlim([0.1, 8])\n",
    "plt.ylim([-0.35, 0.2])\n",
    "plt.yticks(np.arange(-0.35,0.25,0.05))\n",
    "plt.legend()\n",
    "plt.savefig(\"./\" + foldername + results_foldername + \"/FirstCorrelations_Zoom.png\")"
   ]
  },
  {
   "cell_type": "code",
   "execution_count": null,
   "metadata": {},
   "outputs": [],
   "source": [
    "tmin =0\n",
    "tmax =128\n",
    "plt.figure(figsize=(11,9), dpi = 200)\n",
    "plt.plot(temperatures_plots[0][tmin:tmax],t_h_MeanFc[0][tmin:tmax,0,0],'.',label = 'NN')\n",
    "plt.fill_between(temperatures_plots[0][tmin:tmax],\n",
    "                t_h_MeanFc[0][tmin:tmax,0,0]-np.sqrt(t_h_errCorrEstim[0][0,tmin:tmax,0,0]),\n",
    "                t_h_MeanFc[0][tmin:tmax,0,0]+np.sqrt(t_h_errCorrEstim[0][0,tmin:tmax,0,0]), alpha = 0.2)\n",
    "plt.plot(temperatures_plots[0][tmin:tmax],t_h_MeanFc[0][tmin:tmax,0,1],'x',label = 'NN2')\n",
    "plt.fill_between(temperatures_plots[0][tmin:tmax],\n",
    "                t_h_MeanFc[0][tmin:tmax,0,1]-np.sqrt(t_h_errCorrEstim[0][0,tmin:tmax,0,0]),\n",
    "                t_h_MeanFc[0][tmin:tmax,0,1]+np.sqrt(t_h_errCorrEstim[0][0,tmin:tmax,0,0]), alpha = 0.2)\n",
    "plt.plot(temperatures_plots[0][tmin:tmax],t_h_MeanFc[0][tmin:tmax,0,2],'v',label = 'NN3par')\n",
    "plt.fill_between(temperatures_plots[0][tmin:tmax],\n",
    "                t_h_MeanFc[0][tmin:tmax,0,2]-np.sqrt(t_h_errCorrEstim[0][0,tmin:tmax,0,0]),\n",
    "                t_h_MeanFc[0][tmin:tmax,0,2]+np.sqrt(t_h_errCorrEstim[0][0,tmin:tmax,0,0]), alpha = 0.2)\n",
    "plt.plot(temperatures_plots[0][tmin:tmax],t_h_MeanFc[0][tmin:tmax,0,3],'*',label = 'NN3star')\n",
    "plt.fill_between(temperatures_plots[0][tmin:tmax],\n",
    "                t_h_MeanFc[0][tmin:tmax,0,3]-np.sqrt(t_h_errCorrEstim[0][0,tmin:tmax,0,0]),\n",
    "                t_h_MeanFc[0][tmin:tmax,0,3]+np.sqrt(t_h_errCorrEstim[0][0,tmin:tmax,0,0]), alpha = 0.2)\n",
    "\n",
    "plt.title(r\"$J_2/J_1=$\"+\"{0}\".format(J2[0]))\n",
    "plt.xlabel(r\"$T/J_1$\")\n",
    "plt.ylabel(r\"$\\langle \\sigma_i \\sigma_j \\rangle - \\langle \\sigma_i \\rangle \\langle \\sigma_j \\rangle$\")\n",
    "plt.xlim([0, 8])\n",
    "plt.ylim([-0.35, 0.2])\n",
    "plt.yticks(np.arange(-0.35,0.25,0.05))\n",
    "plt.grid(which='both')\n",
    "plt.legend()\n",
    "plt.savefig(\"./\" + foldername + results_foldername + \"/FirstCorrelations_ZoomLinear.png\")"
   ]
  },
  {
   "cell_type": "code",
   "execution_count": null,
   "metadata": {},
   "outputs": [],
   "source": [
    "tmin = 0\n",
    "tmax =128\n",
    "plt.figure(figsize=(11,9), dpi = 200)\n",
    "plt.plot(temperatures_plots[0][tmin:tmax],t_h_MeanFc[0][tmin:tmax,0,1]-t_h_MeanFc[0][tmin:tmax,0,2],'k.',label = 'NN2 - NN3par')\n",
    "plt.fill_between(temperatures_plots[0][tmin:tmax],\n",
    "                t_h_MeanFc[0][tmin:tmax,0,1]-t_h_MeanFc[0][tmin:tmax,0,2]-np.sqrt(t_h_errCorrEstim[0][0,tmin:tmax,0,0]),\n",
    "                t_h_MeanFc[0][tmin:tmax,0,1]-t_h_MeanFc[0][tmin:tmax,0,2]+np.sqrt(t_h_errCorrEstim[0][0,tmin:tmax,0,0]), color = 'k', alpha = 0.2)\n",
    "\n",
    "plt.title(r\"$J_2/J_1=$\"+\"{0}\".format(J2[0]))\n",
    "plt.xlabel(r\"$T/J_1$\")\n",
    "plt.ylabel(r\"$\\Delta(\\langle \\sigma_i \\sigma_j \\rangle - \\langle \\sigma_i \\rangle \\langle \\sigma_j \\rangle)$\")\n",
    "plt.xlim([0, 60])\n",
    "plt.ylim([-0.2, 0.05])\n",
    "plt.yticks(np.arange(-0.2,0.075,0.025))\n",
    "plt.grid(which='both')\n",
    "plt.legend()\n",
    "plt.savefig(\"./\" + foldername + results_foldername + \"/FirstCorrelationsDifference_ZoomLinear.png\")"
   ]
  },
  {
   "cell_type": "code",
   "execution_count": null,
   "metadata": {},
   "outputs": [],
   "source": [
    "tmin = 0\n",
    "tmax =128\n",
    "plt.figure(figsize=(11,9), dpi = 200)\n",
    "plt.semilogx(temperatures_plots[0][tmin:tmax],t_h_MeanFc[0][tmin:tmax,0,1]-t_h_MeanFc[0][tmin:tmax,0,2],'k.',label = 'NN2 - NN3par')\n",
    "plt.fill_between(temperatures_plots[0][tmin:tmax],\n",
    "                t_h_MeanFc[0][tmin:tmax,0,1]-t_h_MeanFc[0][tmin:tmax,0,2]-np.sqrt(t_h_errCorrEstim[0][0,tmin:tmax,0,0]),\n",
    "                t_h_MeanFc[0][tmin:tmax,0,1]-t_h_MeanFc[0][tmin:tmax,0,2]+np.sqrt(t_h_errCorrEstim[0][0,tmin:tmax,0,0]), color = 'k', alpha = 0.2)\n",
    "\n",
    "plt.title(r\"$J_2/J_1=$\"+\"{0}\".format(J2[0]))\n",
    "plt.xlabel(r\"$T/J_1$\")\n",
    "plt.ylabel(r\"$\\Delta(\\langle \\sigma_i \\sigma_j \\rangle - \\langle \\sigma_i \\rangle \\langle \\sigma_j \\rangle)$\")\n",
    "plt.xlim([0.1, 8])\n",
    "plt.ylim([-0.2, 0.05])\n",
    "plt.yticks(np.arange(-0.2,0.075,0.025))\n",
    "plt.grid(which='both')\n",
    "plt.legend()\n",
    "plt.savefig(\"./\" + foldername + results_foldername + \"/FirstCorrelationsDifference_ZoomLog.png\")"
   ]
  },
  {
   "cell_type": "code",
   "execution_count": null,
   "metadata": {},
   "outputs": [],
   "source": [
    "tmin = 0\n",
    "tmax =128\n",
    "plt.figure(figsize=(11,9), dpi = 200)\n",
    "plt.plot(temperatures_plots[0][tmin:tmax],t_h_MeanFc[0][tmin:tmax,0,1]-t_h_MeanFc[0][tmin:tmax,0,2],'k.',label = 'NN2 - NN3par')\n",
    "plt.fill_between(temperatures_plots[0][tmin:tmax],\n",
    "                t_h_MeanFc[0][tmin:tmax,0,1]-t_h_MeanFc[0][tmin:tmax,0,2]-np.sqrt(t_h_errCorrEstim[0][0,tmin:tmax,0,0]),\n",
    "                t_h_MeanFc[0][tmin:tmax,0,1]-t_h_MeanFc[0][tmin:tmax,0,2]+np.sqrt(t_h_errCorrEstim[0][0,tmin:tmax,0,0]), color = 'k', alpha = 0.2)\n",
    "\n",
    "plt.title(r\"$J_2/J_1=$\"+\"{0}\".format(J2[0]))\n",
    "plt.xlabel(r\"$T/J_1$\")\n",
    "plt.ylabel(r\"$\\Delta(\\langle \\sigma_i \\sigma_j \\rangle - \\langle \\sigma_i \\rangle \\langle \\sigma_j \\rangle)$\")\n",
    "plt.xlim([0.7, 60])\n",
    "plt.ylim([-0.02, 0.02])\n",
    "#plt.yticks(np.arange(-0.2,0.075,0.025))\n",
    "plt.grid(which='both')\n",
    "plt.legend()\n",
    "plt.savefig(\"./\" + foldername + results_foldername + \"/FirstCorrelationsDifference_Measure.png\")"
   ]
  },
  {
   "cell_type": "code",
   "execution_count": null,
   "metadata": {},
   "outputs": [],
   "source": [
    "### COMPUTING CORRELATIONS FROM <SISJ> AND <SI> and plotting in 2D\n",
    "ploth = False\n",
    "if not ploth:\n",
    "    tid = 0\n",
    "    hid = 0\n",
    "    rid = tid\n",
    "else:\n",
    "    tid = 0\n",
    "    hid = 0\n",
    "    rid = hid\n",
    "\n",
    "[corr, errcorr, maxerr] = af.PrepPlot2DCorrelations(rid, n, \n",
    "                                                t_h_MeanCorr,\n",
    "                                                t_h_errCorrEstim,\n",
    "                                                t_h_MeanSi,\n",
    "                                                hfields_plots,\n",
    "                                                temperatures_plots,\\\n",
    "                                                ploth = ploth)\n",
    "print(\"t = \",temperatures_plots[0][tid])\n",
    "print(\"h = \",hfields_plots[0][hid])"
   ]
  },
  {
   "cell_type": "code",
   "execution_count": null,
   "metadata": {},
   "outputs": [],
   "source": [
    "af.PlotFirstCorrelations(n, L,foldername, results_foldername,  hfields_plots, temperatures_plots,\n",
    "                         t_h_MeanCorr, t_h_errCorrEstim, sref, \\\n",
    "                         distmax = 2, ploth = ploth, plotFirst = True,\n",
    "                        t_h_MeanFc = t_h_MeanFc, tmin = tmin, tmax = tmax, **kw)\n",
    "plt.title(r\"$J_2/J_1=$\"+\"{0}\".format(J2[0]))"
   ]
  },
  {
   "cell_type": "code",
   "execution_count": null,
   "metadata": {},
   "outputs": [],
   "source": []
  }
 ],
 "metadata": {
  "kernelspec": {
   "display_name": "Python 3",
   "language": "python",
   "name": "python3"
  },
  "language_info": {
   "codemirror_mode": {
    "name": "ipython",
    "version": 3
   },
   "file_extension": ".py",
   "mimetype": "text/x-python",
   "name": "python",
   "nbconvert_exporter": "python",
   "pygments_lexer": "ipython3",
   "version": "3.6.8"
  }
 },
 "nbformat": 4,
 "nbformat_minor": 2
}
