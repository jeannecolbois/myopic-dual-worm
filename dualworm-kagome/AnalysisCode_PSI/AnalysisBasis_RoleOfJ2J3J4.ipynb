{
 "cells": [
  {
   "cell_type": "code",
   "execution_count": null,
   "metadata": {},
   "outputs": [],
   "source": [
    "import os,sys,inspect\n",
    "currentdir = os.path.dirname(os.path.abspath(inspect.getfile(inspect.currentframe())))\n",
    "parentdir = os.path.dirname(currentdir)\n",
    "sys.path.insert(0,parentdir) "
   ]
  },
  {
   "cell_type": "code",
   "execution_count": null,
   "metadata": {},
   "outputs": [],
   "source": [
    "# Import modules\n",
    "import numpy as np # maths\n",
    "from scipy.interpolate import interp1d\n",
    "from scipy.optimize import root_scalar\n",
    "\n",
    "from time import time# timer for debug\n",
    "\n",
    "    # gather results obtained from the runs\n",
    "import pickle # open .pkl files where python objects have been saved\n",
    "from safe import safe # the empty class which is used to save the results\n",
    "    \n",
    "    # system commands\n",
    "import os\n",
    "    \n",
    "    # interact with the C++ core and the Python core\n",
    "import dimers as dim # C++ interface module\n",
    "import KagomeFunctions as kf # \"library\" allowing to work on Kagome\n",
    "import KagomeDrawing as kdraw # \"library\" allowing to plot Kagome\n",
    "import Observables as obs #observables that can be used by the run script\n",
    "import KagomeFT as kft #small functions to compute the FT\n",
    "import AnalysisFunctions as af # functions to make the analysis code cleaner\n",
    "    #plots using matplotlib\n",
    "import matplotlib\n",
    "import matplotlib.pyplot as plt\n",
    "\n",
    "\n",
    "%matplotlib inline\n",
    "matplotlib.rcParams['axes.unicode_minus'] = False\n",
    "matplotlib.rcParams.update({'font.size': 14, 'pgf.texsystem':'pdflatex'})"
   ]
  },
  {
   "cell_type": "code",
   "execution_count": null,
   "metadata": {},
   "outputs": [],
   "source": [
    "# Create a folder to save the pictures\n",
    "foldername = '../../Analysis_PSI_EPFL/Runs_26-08-20_J1J2J3par/'\n",
    "results_foldername = 'J1J2J3pJ3stComparison'\n",
    "\n",
    "\n",
    "filenamelist = ['KJ1J2J3p_L4_nsm65536_ncores16_J20.07_J30.066_J3st-0.043_folder/backup',\n",
    "               'KJ1J2J3p_L4_nsm65536_ncores16_J20.07_J30.066_J3st0_folder/backup']\n",
    "\n",
    "os.makedirs('./' + foldername + results_foldername, exist_ok = True)\n",
    "\n",
    "n = len(filenamelist)"
   ]
  },
  {
   "cell_type": "code",
   "execution_count": null,
   "metadata": {
    "scrolled": false
   },
   "outputs": [],
   "source": [
    "[L, numsites, J1, J2, J3, J3st, J4, nb, num_in_bin, temperatures, nt,\n",
    " stat_temps, temperatures_plots, hfields, nh, \n",
    " stat_hfields, hfields_plots, listfunctions, sref, ids2walker] = \\\n",
    "af.LoadParameters(foldername, filenamelist)\n",
    "\n",
    "print(J3)\n",
    "print(J4)\n",
    "s_ijl, ijl_s = kdraw.createspinsitetable(L[0])\n",
    "print(\"nb \", nb, \"num_in_bin \", num_in_bin)\n",
    "swapst_th, swapsh_th, swapst, swapsh = af.LoadSwaps(foldername, filenamelist, nb, num_in_bin, nh, nt)\n",
    "\n",
    "n = len(L)\n",
    "failedth, failedssfth, failed, failedssf = \\\n",
    "af.LoadUpdates(foldername, filenamelist, nb, num_in_bin, [9*L[i]**2 for i in range(n)])\n",
    "\n",
    "kw = {'binning': True, 'plzplot': False, 'plotmin': 0, 'plotmax': 16}\n",
    "[t_h_MeanE, t_h_MeanEsq, t_h_varMeanE, t_h_varMeanEsq, C, ErrC] = \\\n",
    " af.LoadEnergy(foldername, filenamelist, numsites,\n",
    "               nb, stat_temps, temperatures, stat_hfields, listfunctions, **kw)\n",
    "\n",
    "[t_h_MeanM, t_h_MeanMsq, t_h_varMeanM, t_h_varMeanMsq, Chi, ErrChi] = \\\n",
    " af.LoadMagnetisation(foldername, filenamelist, numsites,\n",
    "               nb, stat_temps, temperatures, stat_hfields, listfunctions, **kw)"
   ]
  },
  {
   "cell_type": "code",
   "execution_count": null,
   "metadata": {},
   "outputs": [],
   "source": [
    "###########################################\n",
    "        ## ALGORITHM ANALYSIS ##\n",
    "###########################################\n",
    "tidmin = 0\n",
    "tidmax = nt\n",
    "af.SwapsAnalysis(L, n, tidmin, tidmax, temperatures, hfields,\n",
    "                 foldername, results_foldername, swapst, swapsh)"
   ]
  },
  {
   "cell_type": "code",
   "execution_count": null,
   "metadata": {},
   "outputs": [],
   "source": [
    "af.FailedAnalysis(L, n, tidmin, tidmax, temperatures, hfields,\n",
    "                 foldername, results_foldername,failed, failedssf)"
   ]
  },
  {
   "cell_type": "code",
   "execution_count": null,
   "metadata": {},
   "outputs": [],
   "source": [
    "###########################################\n",
    "tidmin = 0\n",
    "tidmax = [len(stat_temps[i]) for i in range(n)]\n",
    "temperatures_plots = np.array(temperatures_plots)\n",
    "### Energy"
   ]
  },
  {
   "cell_type": "code",
   "execution_count": null,
   "metadata": {
    "scrolled": false
   },
   "outputs": [],
   "source": [
    "############################################\n",
    "#        ## Energy ANALYSIS ##\n",
    "############################################\n",
    "### Energy\n",
    "S0 = np.log(2)\n",
    "kw = {'gscheck': False}\n",
    "af.BasicPlotsE(L, n, tidmin, tidmax, temperatures_plots, hfields_plots, foldername,\n",
    "                results_foldername, filenamelist, t_h_MeanE, t_h_MeanEsq, t_h_varMeanE,\n",
    "                t_h_varMeanEsq, C, ErrC, J1, J2, J3, J4, **kw)\n",
    "plt.show()"
   ]
  },
  {
   "cell_type": "code",
   "execution_count": null,
   "metadata": {},
   "outputs": [],
   "source": [
    "############################################\n",
    "#        ## MAGNETISATION ANALYSIS ##\n",
    "############################################\n",
    "af.BasicPlotsM(L, n, tidmin, tidmax, temperatures_plots, hfields_plots, foldername,\n",
    "                results_foldername, filenamelist, t_h_MeanM, t_h_MeanMsq, t_h_varMeanM,\n",
    "                t_h_varMeanMsq, Chi, ErrChi, J1, J2, J3, J4, **kw)\n",
    "plt.show()"
   ]
  },
  {
   "cell_type": "code",
   "execution_count": null,
   "metadata": {},
   "outputs": [],
   "source": [
    "rmmag = True\n",
    "kw = {'rmmag':rmmag,'binning': True, 'plzplot':False}"
   ]
  },
  {
   "cell_type": "code",
   "execution_count": null,
   "metadata": {
    "scrolled": true
   },
   "outputs": [],
   "source": [
    "t_h_MeanFc, t_h_varMeanFc, t_h_MeanSi, t_h_varMeanSi= \\\n",
    " af.LoadFirstCorrelations(foldername, filenamelist, listfunctions,stat_temps,\n",
    "                          stat_hfields, nb,t_h_varMeanMsq, **kw)"
   ]
  },
  {
   "cell_type": "code",
   "execution_count": null,
   "metadata": {
    "scrolled": true
   },
   "outputs": [],
   "source": [
    "#t_h_MeanSs, t_h_varMeanSs, t_h_MeanSi, t_h_varMeanSi, t_h_MeanCorr, t_h_errCorrEstim = \\\n",
    "# af.LoadCentralCorrelations(foldername, filenamelist, listfunctions, sref, stat_temps, stat_hfields, nb, **kw)\n",
    "#print(t_h_errCorrEstim[0].shape)"
   ]
  },
  {
   "cell_type": "code",
   "execution_count": null,
   "metadata": {
    "scrolled": false
   },
   "outputs": [],
   "source": [
    "for i in range(n):\n",
    "    addsave = \"J2ovJ1\" +\"={0}\".format(J2[i]/J1[i]) + \"J3povJ1\" +\"={0}\".format(J3[i]/J1[i])  + \"J3sovJ1\" +\"={0}\".format(J3st[i]/J1[i])\n",
    "    addtitle = r\"$J_2/J_1$={0}\".format(J2[i]/J1[i]) + r\"  $J_{3||}/J_1$\" + \"={0}\".format(J3[i]/J1[i]) +r\"  $J_{3\\star}/J_1$\"+\"={0}\".format(J3st[i]/J1[i])\n",
    "    af.BasicPlotsFirstCorrelations(L, i, t_h_MeanFc, temperatures_plots, \n",
    "                                   t_h_varMeanFc, foldername, \n",
    "                                   results_foldername, filenamelist,\n",
    "                                   tmin = 0, setyticks = np.arange(-0.4,0.7,0.1),\n",
    "                                   addsave = addsave,\n",
    "                                   addtitle = addtitle)"
   ]
  },
  {
   "cell_type": "code",
   "execution_count": null,
   "metadata": {},
   "outputs": [],
   "source": [
    "# Introducing the experimental values for the plots below:\n",
    "## <sisj>-<si><sj>:\n",
    "NN1exp = -0.218;\n",
    "NN1experr = 0.005;\n",
    "NN2exp = 0.021;\n",
    "NN2experr = 0.004;\n",
    "NN3pexp = 0.063;\n",
    "NN3pexperr = 0.005;\n",
    "NN3sexp = -0.003;\n",
    "NN3sexperr = 0.005;\n",
    "\n",
    "mexp = -0.193;\n",
    "\n",
    "rmexpmag = True\n",
    "\n",
    "if not rmexpmag:\n",
    "    NN1exp += mexp**2;\n",
    "    NN2exp += mexp**2;\n",
    "    NN3pexp += mexp**2;\n",
    "    NN3sexp += mexp**2;\n",
    "    \n",
    "\n",
    "print(NN1exp)\n",
    "print(NN2exp)\n",
    "print(NN3pexp)\n",
    "print(NN3sexp)"
   ]
  },
  {
   "cell_type": "code",
   "execution_count": null,
   "metadata": {
    "scrolled": false
   },
   "outputs": [],
   "source": [
    "for i in range(n):\n",
    "    addsave = \"J2ovJ1\" +\"={0}\".format(J2[i]/J1[i]) + \"J3povJ1\" +\"={0}\".format(J3[i]/J1[i])  + \"J3sovJ1\" +\"={0}\".format(J3st[i]/J1[i])\n",
    "    addtitle = r\"$J_2/J_1$={0}\".format(J2[i]/J1[i]) + r\"  $J_{3||}/J_1$\" + \"={0}\".format(J3[i]/J1[i]) +r\"  $J_{3\\star}/J_1$\"+\"={0}\".format(J3st[i]/J1[i])\n",
    "    af.BasicPlotsFirstCorrelations(L, i, t_h_MeanFc, temperatures_plots, \n",
    "                                   t_h_varMeanFc, foldername, \n",
    "                                   results_foldername, filenamelist,\n",
    "                                   tmin = 0, setyticks = np.arange(-0.3,0.7,0.1),\n",
    "                                   addtitle = addtitle,\n",
    "                                   save = False)\n",
    "    plt.gca().set_prop_cycle(None)\n",
    "    Tmin = min(temperatures_plots[i])\n",
    "    Tmax = max(temperatures_plots[i])\n",
    "    plt.fill_between([Tmin,Tmax],[NN1exp-NN1experr,NN1exp-NN1experr],[NN1exp+NN1experr, NN1exp+NN1experr], alpha = 0.2, label = r'$c_1^{E}$')\n",
    "    plt.fill_between([Tmin,Tmax],[NN2exp-NN2experr,NN2exp-NN2experr],[NN2exp+NN2experr, NN2exp+NN2experr], alpha = 0.2,  label = r'$c_2^{E}$')\n",
    "    plt.fill_between([Tmin,Tmax],[NN3pexp-NN3pexperr,NN3pexp-NN3pexperr],[NN3pexp+NN3pexperr, NN3pexp+NN3pexperr], alpha = 0.2,  label = r'$c_{3||}^{E}$')\n",
    "    plt.fill_between([Tmin,Tmax],[NN3sexp-NN3sexperr, NN3sexp-NN3sexperr],[NN3sexp+NN3sexperr, NN3sexp+NN3sexperr], alpha = 0.2,label = r'$c_{3\\star}^{E}$')\n",
    "    plt.xlim([0.01, 13])\n",
    "    plt.ylim([-0.35, 0.25])\n",
    "    plt.yticks(np.arange(-0.35,0.3,0.05))\n",
    "    plt.legend(loc = 'lower left')\n",
    "    plt.savefig(\"./\" + foldername + results_foldername + \"/FirstCorrelations_Zoom\" + addsave +\"rmexpmag={0}.png\".format(rmexpmag))"
   ]
  },
  {
   "cell_type": "code",
   "execution_count": null,
   "metadata": {},
   "outputs": [],
   "source": []
  }
 ],
 "metadata": {
  "kernelspec": {
   "display_name": "Python 3",
   "language": "python",
   "name": "python3"
  },
  "language_info": {
   "codemirror_mode": {
    "name": "ipython",
    "version": 3
   },
   "file_extension": ".py",
   "mimetype": "text/x-python",
   "name": "python",
   "nbconvert_exporter": "python",
   "pygments_lexer": "ipython3",
   "version": "3.6.9"
  }
 },
 "nbformat": 4,
 "nbformat_minor": 2
}
