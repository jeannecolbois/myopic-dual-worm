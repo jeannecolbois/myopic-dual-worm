{
 "cells": [
  {
   "cell_type": "code",
   "execution_count": null,
   "metadata": {},
   "outputs": [],
   "source": [
    "import os,sys,inspect\n",
    "currentdir = os.path.dirname(os.path.abspath(inspect.getfile(inspect.currentframe())))\n",
    "parentdir = os.path.dirname(currentdir)\n",
    "sys.path.insert(0,parentdir) "
   ]
  },
  {
   "cell_type": "code",
   "execution_count": null,
   "metadata": {},
   "outputs": [],
   "source": [
    "# Import modules\n",
    "import numpy as np # maths\n",
    "from scipy.interpolate import interp1d\n",
    "from scipy.optimize import root_scalar\n",
    "\n",
    "from time import time# timer for debug\n",
    "\n",
    "    # gather results obtained from the runs\n",
    "import pickle # open .pkl files where python objects have been saved\n",
    "from safe import safe # the empty class which is used to save the results\n",
    "    \n",
    "    # system commands\n",
    "import os\n",
    "    \n",
    "    # interact with the C++ core and the Python core\n",
    "import dimers as dim # C++ interface module\n",
    "import KagomeFunctions as kf # \"library\" allowing to work on Kagome\n",
    "import KagomeDrawing as kdraw # \"library\" allowing to plot Kagome\n",
    "import Observables as obs #observables that can be used by the run script\n",
    "import KagomeFT as kft #small functions to compute the FT\n",
    "import AnalysisFunctions as af # functions to make the analysis code cleaner\n",
    "    #plots using matplotlib\n",
    "import matplotlib\n",
    "import matplotlib.pyplot as plt\n",
    "\n",
    "\n",
    "%matplotlib inline\n",
    "matplotlib.rcParams['axes.unicode_minus'] = False\n",
    "matplotlib.rcParams.update({'font.size': 14, 'pgf.texsystem':'pdflatex'})"
   ]
  },
  {
   "cell_type": "code",
   "execution_count": null,
   "metadata": {},
   "outputs": [],
   "source": [
    "# This table gives the expression of the G.S. energy:\n",
    "# E_GS = -Tbl[0]*h + Tbl[1]*J1+ Tbl[2]*J2 + Tbl[3]*J3||\n",
    "# One can thus deduce the magnetisation and correlations\n",
    "mline = 2/9;\n",
    "TNvalsTable = {\"Zero field\":[0, -1/3, -1/3, 1/3],\n",
    "               \"Small field\":[1/9, -1/3 - 1/81, -1/3-1/81, 1/3-1/81, 5/9-1/81],\n",
    "               \"Line\":[mline, -1/3 - mline**2, -1/3-mline**2],\n",
    "               \"Plateau\":[1/3, -1/3-1/9, -1/3-1/9, 1 -1/9, 1-1/9],\n",
    "               \"Large fied\":[],\n",
    "               \"Saturation\":[1, 2, 2, 2]\n",
    "              }\n"
   ]
  },
  {
   "cell_type": "code",
   "execution_count": null,
   "metadata": {},
   "outputs": [],
   "source": [
    "# Create a folder to save the pictures\n",
    "foldername = '../../Analysis_PSI_EPFL/Runs_25-09-20_J1J2J3pField/'\n",
    "foldername = '../../Analysis_PSI_EPFL/Runs_28-09-20_J1J2J3p_LargeField/'\n",
    "#foldername = '../../Analysis_PSI_EPFL/Runs_28-09-20_J1J2J3p_VerySmallField/'\n",
    "#foldername = '../../Analysis_PSI_EPFL/Runs_28-09-20_J1J2J3p_SmallField/'\n",
    "foldername = '../../Analysis_PSI_EPFL/Runs_05-10-20_J1h/'\n",
    "#foldername = '../../Analysis_PSI_EPFL/Runs_16-11-20_J1J2J3p_LargeField/'\n",
    "#foldername = '../../Analysis_PSI_EPFL/Runs_08-12-20_J1J2J3pLine/'\n",
    "#foldername = '../../Analysis_PSI_EPFL/Runs_04-01-21_J1J2J3pLine/'\n",
    "\n",
    "\n",
    "results_foldername = 'Results_07-01-21'\n",
    "\n",
    "\n",
    "filenamelist = ['KJ1Field_L4_MEASFIELD_nsm4096_ncores9_J20_J30_J3st0_folder/backup'\n",
    "                #'KJ1Field_L4_MEASFIELD_J1noh_nsm4096_ncores9_J20_J30_J3st0_folder/backup'\n",
    "                #'KJ1J2J3pField_MEASFIELD_L4_nsm4096_ncores9_J20.0233_J30.0102_J3st0_folder/backup'\n",
    "                #'KJ1J2J3pField_MEASFIELD_L4_nsm4096_ncores9_J20.0233_J30_J3st0_folder/backup'\n",
    "                #'KJ1J2J3pField_SMALLFIELD_L4_nsm8192_ncores6_J20.0233_J30_J3st0_folder/backup'\n",
    "                #'KJ1J2J3pField_SMALLFIELD_L4_nsm8192_ncores9_J20.0233_J30.0102_J3st0_folder/backup'\n",
    "                #'KJ1J2J3pField_LARGEFIELD_L4_nsm8192_ncores6_J20.0233_J30_J3st0_folder/backup'\n",
    "                 #'KJ1J2J3pField_MEDIUM_LARGEFIELD_L4_nsm8192_ncores9_J20.0233_J30.0102_J3st0_folder/backup'\n",
    "                #'KJ1J2J3pField_SHORT_LARGEFIELD_L4_nsm512_ncores9_J20.0233_J30.0102_J3st0_folder/backup'\n",
    "                #'KJ1J2J3pField_VERYSMALLFIELD_L4_nsm1024_ncores4_J20.0233_J30.0102_J3st0_folder/backup'\n",
    "                #'KJ1J2J3pField_MED_VERYSMALLFIELD_L4_nsm8192_ncores4_J20.0233_J30.0102_J3st0_folder/backup'\n",
    "                #'KJ1J2J3pField_LONG_RES_VERYSMALLFIELD_L4_nsm32768_ncores4_J20.0233_J30.0102_J3st0_folder/backup'\n",
    "                #'KJ1J2J3pField_LONG_RES_VERYSMALLFIELD_L8_nsm32768_ncores8_J20.0233_J30.0102_J3st0_folder/backup'\n",
    "                #'KJ1J2J3pField_SMALLFIELD_L4_nsm1024_ncores4_J20.0233_J30.0102_J3st0_folder/backup'\n",
    "                #'KJ1J2J3pField_MEDFIELD_L4_nsm1024_ncores4_J20.0233_J30.0102_J3st0_folder/backup'\n",
    "                #'KJ1J2J3pField_MEDFIELD2_L4_nsm1024_ncores4_J20.0233_J30.0102_J3st0_folder/backup'\n",
    "                #'KJ1J2J3pField_MED_SMALLFIELD_L4_nsm8192_ncores4_J20.0233_J30.0102_J3st0_folder/backup'\n",
    "                #'KJ1J2J3pField_LONG_RES_LARGEFIELD_L4_nsm16384_ncores4_J20.0233_J30.0102_J3st0_folder/backup'\n",
    "                #'KJ1J2J3pField_VERYSMALLFIELD_L8_nsm1024_ncores4_J20.0233_J30.0102_J3st0_folder/backup'\n",
    "                #'KJ1J2J3pField_MEDIUM_LARGEFIELD_L4_nsm4096_ncores8_J20.2_J30.1_J3st0_folder/backup'\n",
    "                #'KJ1J2J3ph_PTLine_L4_J20.02_J3p0.01_restarted1_folder/backup'\n",
    "                #'KJ1J2J3ph_PTLine_L4_J20.02_J3p0.01_restarted2_folder/backup'\n",
    "                #'KJ1J2J3ph_PTLine_L8_J20.02_J3p0.01_it0_nsm1024_Started_folder/backup'\n",
    "]\n",
    "\n",
    "os.makedirs('./' + foldername + results_foldername, exist_ok = True)\n",
    "\n",
    "n = len(filenamelist)"
   ]
  },
  {
   "cell_type": "code",
   "execution_count": null,
   "metadata": {
    "scrolled": false
   },
   "outputs": [],
   "source": [
    "[L, numsites, J1, J2, J3, J3st, J4, nb, num_in_bin, \n",
    " htip, Ttip, pswitch, uponly, path,\n",
    " temperatures, nt,\n",
    " stat_temps, temperatures_plots, hfields, nh,\n",
    " stat_hfields, hfields_plots, listfunctions, sref, idswalker] = \\\n",
    "af.LoadParameters(foldername, filenamelist)\n",
    "\n",
    "print(J3)\n",
    "print(J4)\n",
    "s_ijl, ijl_s = kdraw.createspinsitetable(L[0])\n",
    "print(\"nb \", nb, \"num_in_bin \", num_in_bin)\n",
    "swapst_th, swapsh_th, swapst, swapsh = af.LoadSwaps(foldername, filenamelist, nb, num_in_bin, nh, nt)\n",
    "\n",
    "n = len(L)\n",
    "failedth, failedssfth, failed, failedssf = \\\n",
    "af.LoadUpdates(foldername, filenamelist, nb, num_in_bin, [9*L[i]**2 for i in range(n)])\n",
    "\n",
    "kw = {'binning': False, 'plzplot': False, 'plotmin': 0, 'plotmax': 17, 'binning_level':0}\n",
    "[t_h_MeanE, t_h_MeanEsq, t_h_varMeanE, t_h_varMeanEsq,  t_h_VarE, t_h_ErrVarE,C, ErrC,\\\n",
    "            t_h_S, t_h_Smin, t_h_Smax, MergedData] = \\\n",
    " af.LoadEnergy(foldername, filenamelist, numsites,\n",
    "               nb, stat_temps, temperatures, stat_hfields, listfunctions, **kw)\n",
    "\n",
    "[t_h_MeanM, t_h_MeanMsq, t_h_varMeanM, t_h_varMeanMsq, Chi, ErrChi] = \\\n",
    " af.LoadMagnetisation(foldername, filenamelist, numsites,\n",
    "               nb, stat_temps, temperatures, stat_hfields, listfunctions, **kw)"
   ]
  },
  {
   "cell_type": "code",
   "execution_count": null,
   "metadata": {},
   "outputs": [],
   "source": [
    "hfields_plots"
   ]
  },
  {
   "cell_type": "code",
   "execution_count": null,
   "metadata": {},
   "outputs": [],
   "source": [
    "###########################################\n",
    "        ## ALGORITHM ANALYSIS ##\n",
    "###########################################\n",
    "tidmin = 0\n",
    "tidmax = nt\n",
    "af.SwapsAnalysis(L, n, tidmin, tidmax, temperatures, hfields,\n",
    "                 foldername, results_foldername, swapst, swapsh)"
   ]
  },
  {
   "cell_type": "code",
   "execution_count": null,
   "metadata": {},
   "outputs": [],
   "source": [
    "af.FailedAnalysis(L, n, tidmin, tidmax, temperatures, hfields,\n",
    "                 foldername, results_foldername,failed, failedssf)"
   ]
  },
  {
   "cell_type": "code",
   "execution_count": null,
   "metadata": {},
   "outputs": [],
   "source": [
    "###########################################\n",
    "tidmin = 0\n",
    "tidmax = [len(stat_temps[i]) for i in range(n)]\n",
    "temperatures_plots = np.array(temperatures_plots)\n",
    "### Energy"
   ]
  },
  {
   "cell_type": "code",
   "execution_count": null,
   "metadata": {},
   "outputs": [],
   "source": [
    "hfields_plots"
   ]
  },
  {
   "cell_type": "code",
   "execution_count": null,
   "metadata": {},
   "outputs": [],
   "source": [
    "import importlib\n",
    "importlib.reload(af)"
   ]
  },
  {
   "cell_type": "code",
   "execution_count": null,
   "metadata": {},
   "outputs": [],
   "source": [
    "for i in range(0,nh[0]):\n",
    "    print(\"h/J1 = \", hfields_plots[0][i], \" -> E = \", t_h_MeanE[0][0,i])"
   ]
  },
  {
   "cell_type": "code",
   "execution_count": null,
   "metadata": {
    "scrolled": false
   },
   "outputs": [],
   "source": [
    "############################################\n",
    "#        ## Energy ANALYSIS ##\n",
    "############################################\n",
    "### Energy\n",
    "S0 = np.log(2)\n",
    "kw = {'gscheck': False, 'ploth' : False}\n",
    "tidmin = 0\n",
    "for i in range(n):\n",
    "    af.BasicPlotsE(L, i, tidmin, tidmax, temperatures_plots, hfields_plots, foldername,\n",
    "                    results_foldername, filenamelist, t_h_MeanE, t_h_MeanEsq, t_h_varMeanE,\n",
    "                    t_h_varMeanEsq, C, ErrC, J1, J2, J3, J4, **kw)\n",
    "plt.show()"
   ]
  },
  {
   "cell_type": "code",
   "execution_count": null,
   "metadata": {},
   "outputs": [],
   "source": [
    "TNvals = TNvalsTable[\"Line\"]"
   ]
  },
  {
   "cell_type": "code",
   "execution_count": null,
   "metadata": {
    "scrolled": false
   },
   "outputs": [],
   "source": [
    "############################################\n",
    "#        ## MAGNETISATION ANALYSIS ##\n",
    "############################################\n",
    "kw = {'TNvals': TNvals, 'ploth' : False}\n",
    "for i in range(n):\n",
    "    af.BasicPlotsM(L, i, 0, tidmax, temperatures_plots, hfields_plots, foldername,\n",
    "                    results_foldername, filenamelist, t_h_MeanM, t_h_MeanMsq, t_h_varMeanM,\n",
    "                    t_h_varMeanMsq, Chi, ErrChi, J1, J2, J3, J4, **kw)\n",
    "\n",
    "\n",
    "    plt.legend()\n",
    "plt.show()"
   ]
  },
  {
   "cell_type": "code",
   "execution_count": null,
   "metadata": {},
   "outputs": [],
   "source": [
    "rmmag = True\n",
    "kw = {'rmmag':rmmag,'binning': True, 'plzplot':False}"
   ]
  },
  {
   "cell_type": "code",
   "execution_count": null,
   "metadata": {
    "scrolled": true
   },
   "outputs": [],
   "source": [
    "t_h_MeanFc, t_h_varMeanFc= \\\n",
    " af.LoadFirstCorrelations(foldername, filenamelist, listfunctions,stat_temps,\n",
    "                          stat_hfields, nb,t_h_MeanM,t_h_varMeanMsq, **kw)"
   ]
  },
  {
   "cell_type": "code",
   "execution_count": null,
   "metadata": {},
   "outputs": [],
   "source": [
    "importlib.reload(af)"
   ]
  },
  {
   "cell_type": "code",
   "execution_count": null,
   "metadata": {},
   "outputs": [],
   "source": [
    "t_h_MeanFc[0][1]"
   ]
  },
  {
   "cell_type": "code",
   "execution_count": null,
   "metadata": {},
   "outputs": [],
   "source": [
    "TNvals"
   ]
  },
  {
   "cell_type": "code",
   "execution_count": null,
   "metadata": {
    "scrolled": false
   },
   "outputs": [],
   "source": [
    "for i in range(n):\n",
    "     \n",
    "    for hid in range(nh[i]):\n",
    "        kw = {'TNvals':TNvals}\n",
    "        addsave = \"L={0} \".format(L[i]) + \"J2ovJ1\" +\"={0}\".format(J2[i]/J1[i]) + \"J3povJ1\" +\"={0}\".format(J3[i]/J1[i])  + \"J3sovJ1\" +\"={0}\".format(J3st[i]/J1[i])\n",
    "        addtitle = r\"$L$={0}\".format(L[i])+\\\n",
    "        r\"  $J_2/J_1$={0}\".format(J2[i]/J1[i]) +\\\n",
    "        r\"  $J_{3||}/J_1$\" + \"={0}\".format(J3[i]/J1[i]) +\\\n",
    "        r\"  $J_{3\\star}/J_1$\"+\"={0}\".format(J3st[i]/J1[i]) +\\\n",
    "        r\"  $h/J_1$\"+\"={0}\".format(hfields_plots[i][hid]/J1[i])\n",
    "   \n",
    "        af.BasicPlotsFirstCorrelations(L, i, t_h_MeanFc, temperatures_plots, \n",
    "                                       t_h_varMeanFc, foldername, \n",
    "                                       results_foldername, filenamelist,\n",
    "                                       tmin = 0, setyticks = np.arange(-0.4,0.7,0.1),\n",
    "                                       addsave = addsave,\n",
    "                                       addtitle = addtitle, hid = hid, **kw)"
   ]
  },
  {
   "cell_type": "code",
   "execution_count": null,
   "metadata": {},
   "outputs": [],
   "source": [
    "fig, ax = plt.subplots(1,1, figsize = (11,9), dpi = 200)\n",
    "markersize = 4\n",
    "af.BasicPlotsFirstCorrelations(L, 0, t_h_MeanFc, temperatures_plots, \n",
    "                                   t_h_varMeanFc, foldername, \n",
    "                                   results_foldername, filenamelist,\n",
    "                                   tmin = 0, setyticks = np.arange(-0.4,0.7,0.1),\n",
    "                                   addsave = addsave,\n",
    "                                   addtitle = addtitle, createfig = False, ax = ax, markersize = markersize)"
   ]
  },
  {
   "cell_type": "code",
   "execution_count": null,
   "metadata": {},
   "outputs": [],
   "source": [
    "# Introducing the experimental values for the plots below:\n",
    "## <sisj>-<si><sj>:\n",
    "NN1exp = -0.218;\n",
    "NN1experr = 0.005;\n",
    "NN1expdev = 0.02;\n",
    "\n",
    "NN2exp = 0.021;\n",
    "NN2experr = 0.004;\n",
    "NN2expdev = 0.02;\n",
    "\n",
    "NN3pexp = 0.063;\n",
    "NN3pexperr = 0.005;\n",
    "NN3pexpdev = 0.02;\n",
    "\n",
    "NN3sexp = -0.003;\n",
    "NN3sexperr = 0.005;\n",
    "NN3sexpdev = 0.02\n",
    "mexp = -0.193;\n",
    "\n",
    "rmexpmag = True\n",
    "\n",
    "if not rmexpmag:\n",
    "    NN1exp += mexp**2;\n",
    "    NN2exp += mexp**2;\n",
    "    NN3pexp += mexp**2;\n",
    "    NN3sexp += mexp**2;\n",
    "    \n",
    "\n",
    "print(NN1exp)\n",
    "print(NN2exp)\n",
    "print(NN3pexp)\n",
    "print(NN3sexp)"
   ]
  },
  {
   "cell_type": "code",
   "execution_count": null,
   "metadata": {},
   "outputs": [],
   "source": [
    "import importlib\n",
    "importlib.reload(af)"
   ]
  },
  {
   "cell_type": "code",
   "execution_count": null,
   "metadata": {
    "scrolled": false
   },
   "outputs": [],
   "source": [
    "for i in range(n):\n",
    "    for hid,h in enumerate(hfields_plots[0]):\n",
    "        addsave = \"L={0}\".format(L[i]) + \"h={0}\".format(h)+\"J2ovJ1\" +\"={0}\".format(J2[i]/J1[i]) + \"J3povJ1\" +\"={0}\".format(J3[i]/J1[i])  + \"J3sovJ1\" +\"={0}\".format(J3st[i]/J1[i])\n",
    "        addtitle = r\"$L$={0} \".format(L[i])+ r\", $h/J_1$ = {0} \".format(h)+ r\", $J_2/J_1$={0}\".format(J2[i]/J1[i]) + r\"  $J_{3||}/J_1$\" + \"={0}\".format(J3[i]/J1[i]) +r\"  $J_{3\\star}/J_1$\"+\"={0}\".format(J3st[i]/J1[i])\n",
    "        af.BasicPlotsFirstCorrelations(L, i, t_h_MeanFc, temperatures_plots, \n",
    "                                       t_h_varMeanFc, foldername, \n",
    "                                       results_foldername, filenamelist,\n",
    "                                       tmin = 0, setyticks = np.arange(-0.3,0.7,0.1),\n",
    "                                       addtitle = addtitle,markersize=4,\n",
    "                                       save = False, hid = hid)\n",
    "        plt.gca().set_prop_cycle(None)\n",
    "        Tmin = min(temperatures_plots[i])\n",
    "        Tmax = max(temperatures_plots[i])\n",
    "        plt.fill_between([Tmin,Tmax],[NN1exp-NN1expdev,NN1exp-NN1expdev],[NN1exp+NN1expdev, NN1exp+NN1expdev], alpha = 0.2, label = r'$c_1^{E}$')\n",
    "        plt.fill_between([Tmin,Tmax],[NN2exp-NN2expdev,NN2exp-NN2expdev],[NN2exp+NN2expdev, NN2exp+NN2expdev], alpha = 0.2,  label = r'$c_2^{E}$')\n",
    "        plt.fill_between([Tmin,Tmax],[NN3pexp-NN3pexpdev,NN3pexp-NN3pexpdev],[NN3pexp+NN3pexpdev, NN3pexp+NN3pexpdev], alpha = 0.2,  label = r'$c_{3||}^{E}$')\n",
    "        plt.fill_between([Tmin,Tmax],[NN3sexp-NN3sexpdev, NN3sexp-NN3sexpdev],[NN3sexp+NN3sexpdev, NN3sexp+NN3sexpdev], alpha = 0.2,label = r'$c_{3\\star}^{E}$')\n",
    "        plt.xlim([temperatures_plots[0][0], 40])\n",
    "        plt.ylim([-0.5, 1])\n",
    "        plt.yticks(np.arange(-0.5,1,0.1))\n",
    "        plt.legend(loc = 'lower left')\n",
    "        plt.savefig(\"./\" + foldername + results_foldername + \"/FirstCorrelations_Zoom\" + addsave +\"rmexpmag={0}.png\".format(rmexpmag))"
   ]
  },
  {
   "cell_type": "code",
   "execution_count": null,
   "metadata": {},
   "outputs": [],
   "source": [
    "for i in range(n):\n",
    "    for hid,h in enumerate(hfields_plots[0]):\n",
    "        addsave = \"L={0}\".format(L[i]) + \"h={0}\".format(h)+\"J2ovJ1\" +\"={0}\".format(J2[i]/J1[i]) + \"J3povJ1\" +\"={0}\".format(J3[i]/J1[i])  + \"J3sovJ1\" +\"={0}\".format(J3st[i]/J1[i])\n",
    "        addtitle = r\"$L$={0} \".format(L[i])+ r\", $h/J_1$ = {0} \".format(h)+ r\", $J_2/J_1$={0}\".format(J2[i]/J1[i]) + r\"  $J_{3||}/J_1$\" + \"={0}\".format(J3[i]/J1[i]) +r\"  $J_{3\\star}/J_1$\"+\"={0}\".format(J3st[i]/J1[i])\n",
    "        af.BasicPlotsFirstCorrelations(L, i, t_h_MeanFc, temperatures_plots, \n",
    "                                       t_h_varMeanFc, foldername, \n",
    "                                       results_foldername, filenamelist,\n",
    "                                       tmin = 0, setyticks = np.arange(-0.3,0.7,0.1),\n",
    "                                       addtitle = addtitle,markersize=4,\n",
    "                                       save = False, hid = hid, log = False)\n",
    "        plt.gca().set_prop_cycle(None)\n",
    "        Tmin = min(temperatures_plots[i])\n",
    "        Tmax = max(temperatures_plots[i])\n",
    "        plt.fill_between([Tmin,Tmax],[NN1exp-NN1expdev,NN1exp-NN1expdev],[NN1exp+NN1expdev, NN1exp+NN1expdev], alpha = 0.2, label = r'$c_1^{E}$')\n",
    "        plt.fill_between([Tmin,Tmax],[NN2exp-NN2expdev,NN2exp-NN2expdev],[NN2exp+NN2expdev, NN2exp+NN2expdev], alpha = 0.2,  label = r'$c_2^{E}$')\n",
    "        plt.fill_between([Tmin,Tmax],[NN3pexp-NN3pexpdev,NN3pexp-NN3pexpdev],[NN3pexp+NN3pexpdev, NN3pexp+NN3pexpdev], alpha = 0.2,  label = r'$c_{3||}^{E}$')\n",
    "        plt.fill_between([Tmin,Tmax],[NN3sexp-NN3sexpdev, NN3sexp-NN3sexpdev],[NN3sexp+NN3sexpdev, NN3sexp+NN3sexpdev], alpha = 0.2,label = r'$c_{3\\star}^{E}$')\n",
    "        plt.xlim([temperatures_plots[0][0], 40])\n",
    "        plt.ylim([-0.5, 1])\n",
    "        plt.yticks(np.arange(-0.5,1,0.1))\n",
    "        plt.legend(loc = 'lower left')\n",
    "        plt.savefig(\"./\" + foldername + results_foldername + \"/FirstCorrelations_Zoom\" + addsave +\"rmexpmag={0}.png\".format(rmexpmag))"
   ]
  },
  {
   "cell_type": "code",
   "execution_count": null,
   "metadata": {},
   "outputs": [],
   "source": [
    "np.savetxt('Temperatures.txt', temperatures_plots[0])\n",
    "np.savetxt('Correlations.txt', t_h_MeanFc[0][:,0,:])"
   ]
  },
  {
   "cell_type": "code",
   "execution_count": null,
   "metadata": {},
   "outputs": [],
   "source": [
    "for i in range(n):\n",
    "    addsave = \"L={0}\".format(L[i]) + \"J2ovJ1\" +\"={0}\".format(J2[i]/J1[i]) + \"J3povJ1\" +\"={0}\".format(J3[i]/J1[i])  + \"J3sovJ1\" +\"={0}\".format(J3st[i]/J1[i])\n",
    "    addtitle = r\"$L$={0} \".format(L[i])+r\"$J_2/J_1$={0}\".format(J2[i]/J1[i]) + r\"  $J_{3||}/J_1$\" + \"={0}\".format(J3[i]/J1[i]) +r\"  $J_{3\\star}/J_1$\"+\"={0}\".format(J3st[i]/J1[i])\n",
    "    \n",
    "    figsize=(11,9)\n",
    "    dpi = 200\n",
    "    tmin = 0\n",
    "    tmax = 31\n",
    "    plt.figure(figsize=figsize, dpi = dpi)\n",
    "    for hid,h in enumerate(hfields_plots[0]):\n",
    "        plt.semilogx(temperatures_plots[i][tmin:tmax],t_h_MeanFc[i][tmin:tmax,hid,1]-t_h_MeanFc[i][tmin:tmax,hid,2],label = r'$h/J_1$={0}'.format(h))\n",
    "        plt.fill_between(temperatures_plots[i][tmin:tmax],\n",
    "                        t_h_MeanFc[i][tmin:tmax,hid,1]-t_h_MeanFc[i][tmin:tmax,hid,2]-2*np.sqrt(t_h_varMeanFc[i][tmin:tmax,hid,2]),\n",
    "                        t_h_MeanFc[i][tmin:tmax,hid,1]-t_h_MeanFc[i][tmin:tmax,hid,2]+2*np.sqrt(t_h_varMeanFc[i][tmin:tmax,hid,2]), alpha = 0.2)\n",
    "    plt.title(addtitle)\n",
    "    plt.xlabel(r\"$T/J_1$\")\n",
    "    plt.ylabel(r\"$\\Delta(\\langle \\sigma_i \\sigma_j \\rangle - \\langle \\sigma_i \\rangle \\langle \\sigma_j \\rangle)$\")\n",
    "    plt.grid(which='both')\n",
    "    plt.legend()"
   ]
  },
  {
   "cell_type": "code",
   "execution_count": null,
   "metadata": {},
   "outputs": [],
   "source": [
    " t_h_MeanFrustratedTriangles,t_h_varMeanFrustratedTriangles = \\\n",
    "    af.LoadFrustratedTriangles(foldername, filenamelist,listfunctions,\n",
    "                               stat_temps, stat_hfields, nb, **kw)"
   ]
  },
  {
   "cell_type": "code",
   "execution_count": null,
   "metadata": {},
   "outputs": [],
   "source": [
    "np.linspace(0,4.2,22)"
   ]
  },
  {
   "cell_type": "code",
   "execution_count": null,
   "metadata": {},
   "outputs": [],
   "source": [
    "af.BasicPlotsTriangles(L, n, tidmin, tidmax, temperatures_plots, hfields_plots, foldername,\n",
    "                results_foldername, filenamelist, t_h_MeanFrustratedTriangles,\n",
    "                        t_h_varMeanFrustratedTriangles, **kw)\n",
    "plt.plot([1e-3, 40],[0.116, 0.116])\n",
    "plt.fill_between([1e-3,40],[0.09,0.09],[0.141,0.141],alpha = 0.2)"
   ]
  },
  {
   "cell_type": "code",
   "execution_count": null,
   "metadata": {},
   "outputs": [],
   "source": [
    "import importlib\n",
    "importlib.reload(af)\n",
    "import DualwormFunctions as dw"
   ]
  },
  {
   "cell_type": "code",
   "execution_count": null,
   "metadata": {},
   "outputs": [],
   "source": [
    "ids2walker = idswalker"
   ]
  },
  {
   "cell_type": "code",
   "execution_count": null,
   "metadata": {},
   "outputs": [],
   "source": [
    "hid = 1"
   ]
  },
  {
   "cell_type": "code",
   "execution_count": null,
   "metadata": {},
   "outputs": [],
   "source": [
    "print(hfields[0][hid])"
   ]
  },
  {
   "cell_type": "code",
   "execution_count": null,
   "metadata": {},
   "outputs": [],
   "source": [
    "# Plot the lowest temperature state to get an idea\n",
    "t_spinstates, t_states, t_charges = af.LoadStates(foldername, filenamelist, L, nh)\n",
    "latsize = t_spinstates[0][hid].size\n",
    "[d_ijl, ijl_d, s_ijl, ijl_s, d_2s, s2_d, d_nd, d_vd, d_wn,\n",
    "     sidlist, didlist, c_ijl, ijl_c, c2s, csign] =\\\n",
    "    dw.latticeinit(L[0])\n",
    "print(ids2walker[0][0,hid])"
   ]
  },
  {
   "cell_type": "code",
   "execution_count": null,
   "metadata": {},
   "outputs": [],
   "source": [
    "tid = 2\n",
    "Lp = L[0]\n",
    "state = t_states[0][ids2walker[0][tid,hid]]\n",
    "spinstate = t_spinstates[0][ids2walker[0][2,hid]]\n",
    "#chargestate = t_charges[0][ids2walker[0][0,0]]"
   ]
  },
  {
   "cell_type": "code",
   "execution_count": null,
   "metadata": {},
   "outputs": [],
   "source": [
    "kdraw.plotstate(0, Lp, d_ijl, ijl_s, sidlist, didlist, s2_d, [state], [spinstate],\n",
    "                dim_node_color = 'orange', dim_color ='orange', \n",
    "                spin_up_color = 'blue', spin_down_color = 'red')\n",
    "#kdraw.plot_honeycomb_chargestate(chargestate, ijl_c,\n",
    "#                                 L,2,c1_color = 'black', c2_color = 'green',\n",
    "#                                 c3_color = 'red', c4_color = 'black', uponly=True)\n",
    "plt.legend()\n",
    "kdraw.plotstate(0, Lp, d_ijl, ijl_s, sidlist, didlist, s2_d, [state], [spinstate],\n",
    "                dim_node_color = 'none', dim_color ='none', \n",
    "                spin_up_color = 'blue', spin_down_color = 'red')\n",
    "#kdraw.plot_honeycomb_chargestate(chargestate, ijl_c,\n",
    "#                                 L,2,c1_color = 'black', c2_color = 'green',\n",
    "#                                 c3_color = 'red', c4_color = 'black', uponly=True)\n",
    "plt.legend()"
   ]
  },
  {
   "cell_type": "code",
   "execution_count": null,
   "metadata": {},
   "outputs": [],
   "source": []
  },
  {
   "cell_type": "code",
   "execution_count": null,
   "metadata": {},
   "outputs": [],
   "source": [
    "ijl_s[(L[0],L[0],0)]"
   ]
  },
  {
   "cell_type": "code",
   "execution_count": null,
   "metadata": {},
   "outputs": [],
   "source": [
    "# checking the energy:\n",
    "config = af.correlationsTester(state, latsize, d_ijl, ijl_d, L[0])\n",
    "m = obs.magnetisation(len(s_ijl), state, [],spinstate, s_ijl, ijl_s)\n",
    "H = config['J1']*J1[0] + config['J2']*J2[0] + config['J3']*J3[0]+ config['J3st']*J3st[0] - m*hfields[0][hid]\n",
    "print(\"Former energy: \", H)"
   ]
  },
  {
   "cell_type": "code",
   "execution_count": null,
   "metadata": {},
   "outputs": [],
   "source": [
    "config"
   ]
  },
  {
   "cell_type": "code",
   "execution_count": null,
   "metadata": {},
   "outputs": [],
   "source": [
    "m"
   ]
  },
  {
   "cell_type": "code",
   "execution_count": null,
   "metadata": {},
   "outputs": [],
   "source": [
    "kdraw.plotstate(0, Lp, d_ijl, ijl_s, sidlist, didlist, s2_d, [state], [spinstate],\n",
    "                dim_node_color = 'orange', dim_color ='orange', \n",
    "                spin_up_color = 'blue', spin_down_color = 'red')\n",
    "# spot the two spins that need to be flipped\n",
    "listspins = [ijl_s[(L[0],L[0],0)],ijl_s[(L[0]+1,L[0]-1,2)]]\n",
    "kdraw.plot_kag_spins(listspins, ijl_s, L[0], 2, color = 'green')\n",
    "listdimers = [ijl_d[(L[0], L[0], 0)],\n",
    "                        ijl_d[(L[0]+1, L[0]-1, 4)],\n",
    "                        ijl_d[(L[0]+1, L[0]-1, 3)],\n",
    "                        ijl_d[(L[0]+1, L[0], 5)],\n",
    "                        ijl_d[(L[0]+1, L[0], 4)],\n",
    "                        ijl_d[(L[0], L[0], 2)]\n",
    "                       ]\n",
    "kdraw.plot_dice_dimers(listdimers, d_ijl, L[0], 2, color = 'green')\n",
    "\n",
    "newspinstate = np.copy(spinstate); # otherwise messing spinstate up\n",
    "for spin in listspins:\n",
    "    newspinstate[spin] = - newspinstate[spin]\n",
    "# update the dimer state accordingly, because can be read much more easily.\n",
    "newstate = np.copy(state);\n",
    "for dimer in listdimers:\n",
    "    newstate[dimer] = - newstate[dimer]\n",
    "\n",
    "plt.legend()\n",
    "\n",
    "plt.figure()\n",
    "kdraw.plotstate(0, Lp, d_ijl, ijl_s, sidlist, didlist, s2_d, [newstate], [newspinstate],\n",
    "                dim_node_color = 'none', dim_color ='none', \n",
    "                spin_up_color = 'blue', spin_down_color = 'red')\n",
    "plt.figure()\n",
    "kdraw.plotstate(0, Lp, d_ijl, ijl_s, sidlist, didlist, s2_d, [newstate], [newspinstate],\n",
    "                dim_node_color = 'orange', dim_color ='orange', \n",
    "                spin_up_color = 'blue', spin_down_color = 'red')\n",
    "\n",
    "# Compute the energy of this new configuration\n",
    "config = af.correlationsTester(newstate, latsize, d_ijl, ijl_d, L[0])\n",
    "m = obs.magnetisation(len(s_ijl), newstate, [], newspinstate, s_ijl, ijl_s)\n",
    "H = config['J1']*J1[0] + config['J2']*J2[0] + config['J3']*J3[0]+ config['J3st']*J3st[0] - m*hfields[0][hid]\n",
    "print(\"New energy: \", H)"
   ]
  },
  {
   "cell_type": "code",
   "execution_count": null,
   "metadata": {},
   "outputs": [],
   "source": [
    "config"
   ]
  },
  {
   "cell_type": "code",
   "execution_count": null,
   "metadata": {},
   "outputs": [],
   "source": [
    "m"
   ]
  },
  {
   "cell_type": "code",
   "execution_count": null,
   "metadata": {},
   "outputs": [],
   "source": []
  },
  {
   "cell_type": "code",
   "execution_count": null,
   "metadata": {},
   "outputs": [],
   "source": []
  }
 ],
 "metadata": {
  "kernelspec": {
   "display_name": "Python 3",
   "language": "python",
   "name": "python3"
  },
  "language_info": {
   "codemirror_mode": {
    "name": "ipython",
    "version": 3
   },
   "file_extension": ".py",
   "mimetype": "text/x-python",
   "name": "python",
   "nbconvert_exporter": "python",
   "pygments_lexer": "ipython3",
   "version": "3.6.9"
  }
 },
 "nbformat": 4,
 "nbformat_minor": 2
}
