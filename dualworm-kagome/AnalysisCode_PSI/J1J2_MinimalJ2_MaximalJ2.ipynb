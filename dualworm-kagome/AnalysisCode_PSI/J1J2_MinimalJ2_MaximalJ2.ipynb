{
 "cells": [
  {
   "cell_type": "code",
   "execution_count": null,
   "metadata": {},
   "outputs": [],
   "source": [
    "import numpy as np\n",
    "import matplotlib.pyplot as plt\n",
    "%matplotlib inline"
   ]
  },
  {
   "cell_type": "code",
   "execution_count": null,
   "metadata": {},
   "outputs": [],
   "source": [
    "# Crossing between NN2 and NN3star\n",
    "J2 = [0.0013, 0.0024, 0.0056, 0.0075, \n",
    "      0.01, 0.02]\n",
    "Tcrit = [0.14, 0.25, 0.6, 0.8, \n",
    "         1, 3]\n",
    "Tmin = [0.1, 0.18, 0.4, 0.55, \n",
    "        0.8, 2.5]\n",
    "Tmax = [0.2, 0.36, 0.95, 1, \n",
    "        1.1, 4]\n",
    "assm = [list(np.array(Tcrit)-np.array(Tmin)), \n",
    "        list(np.array(Tmax)-np.array(Tcrit))]"
   ]
  },
  {
   "cell_type": "code",
   "execution_count": null,
   "metadata": {},
   "outputs": [],
   "source": [
    "#Minimal temperature for the crossing between NN2 and NN3star\n",
    "J2_1 = [0.02, 0.03, 0.04, 0.05, 0.06, 0.07]\n",
    "Tmin_1 = [2.5, 4, 6, 8, 9.5, 10]"
   ]
  },
  {
   "cell_type": "code",
   "execution_count": null,
   "metadata": {},
   "outputs": [],
   "source": [
    "J2m = [0.0013,0.0024,0.0056, 0.0075,\n",
    "       0.01, 0.02, 0.03, 0.04, 0.05, \n",
    "       0.06, 0.07, 0.08, 0.1, 0.15]\n",
    "TMcrit = [0.018,0.031,0.075,0.1, \n",
    "          0.132,0.26, 0.4, 0.525, 0.625, \n",
    "          0.825, 1,1.1, 1.7, 20]\n",
    "TMmin = [0.016,0.03, 0.07,0.095, 0.65,\n",
    "         0.125,0.25,0.38, 0.5,\n",
    "         0.77, 0.9, 1,1.55, 15]\n",
    "TMmax = [0.02,0.032,0.08,0.105, 0.7,\n",
    "         0.14, 0.275, 0.42, 0.575,\n",
    "         0.85, 1.1, 1.3, 2,30]\n",
    "assmM = [list(np.array(TMcrit)-np.array(TMmin)), \n",
    "        list(np.array(TMmax)-np.array(TMcrit))]"
   ]
  },
  {
   "cell_type": "code",
   "execution_count": null,
   "metadata": {},
   "outputs": [],
   "source": [
    "assm"
   ]
  },
  {
   "cell_type": "code",
   "execution_count": null,
   "metadata": {},
   "outputs": [],
   "source": [
    "plt.figure(dpi = 200)\n",
    "plt.errorbar(J2, Tcrit, yerr = assm, fmt = '.', label = 'Crossing temperature - 2nd and 3rd par')\n",
    "plt.gca().set_prop_cycle(None)\n",
    "plt.errorbar(J2_1, Tmin_1, fmt = 'x', label = 'Minimal crossing temperature - 2nd and 3rd par')\n",
    "plt.plot([0,0.07], [1.9, 1.9], label = 'Experimental temperature')\n",
    "plt.xlabel(r'$J_2/J_1}$')\n",
    "plt.ylabel(r'$T/J_1$')\n",
    "plt.grid(which = 'both')\n",
    "plt.legend(loc = 'best')\n",
    "plt.savefig('')"
   ]
  },
  {
   "cell_type": "code",
   "execution_count": null,
   "metadata": {},
   "outputs": [],
   "source": [
    "plt.figure(dpi = 200)\n",
    "plt.errorbar(J2m, TMcrit, yerr = assmM, fmt = '.', label = 'Crossing temperature - 2nd and 3rd star')\n",
    "plt.plot([0,.15], [1.9, 1.9], label = 'Experimental temperature')\n",
    "plt.xlabel(r'$J_2/J_1}$')\n",
    "plt.ylabel(r'$T/J_1$')\n",
    "plt.grid(which = 'both')\n",
    "plt.legend(loc = 'best')\n",
    "plt.savefig('')"
   ]
  },
  {
   "cell_type": "code",
   "execution_count": null,
   "metadata": {},
   "outputs": [],
   "source": [
    "plt.figure(dpi = 200)\n",
    "plt.errorbar(J2, Tcrit, yerr = assm, fmt = '.', label = 'Crossing temperature - 2nd and 3rd par')\n",
    "plt.gca().set_prop_cycle(None)\n",
    "plt.errorbar(J2_1, Tmin_1, fmt = 'x', label = 'Minimal crossing temperature - 2nd and 3rd par')\n",
    "plt.errorbar(J2m, TMcrit, yerr = assmM, fmt = '.', label = 'Crossing temperature - 2nd and 3rd star')\n",
    "plt.plot([0,.15], [1.9, 1.9], label = 'Experimental temperature')\n",
    "plt.xlabel(r'$J_2/J_1}$')\n",
    "plt.ylabel(r'$T/J_1$')\n",
    "plt.grid(which = 'both')\n",
    "plt.legend(loc = 'best')\n",
    "plt.savefig('')"
   ]
  }
 ],
 "metadata": {
  "kernelspec": {
   "display_name": "Python 3",
   "language": "python",
   "name": "python3"
  },
  "language_info": {
   "codemirror_mode": {
    "name": "ipython",
    "version": 3
   },
   "file_extension": ".py",
   "mimetype": "text/x-python",
   "name": "python",
   "nbconvert_exporter": "python",
   "pygments_lexer": "ipython3",
   "version": "3.6.8"
  }
 },
 "nbformat": 4,
 "nbformat_minor": 2
}
