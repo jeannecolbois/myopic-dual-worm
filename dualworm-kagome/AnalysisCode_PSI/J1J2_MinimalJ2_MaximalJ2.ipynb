{
 "cells": [
  {
   "cell_type": "code",
   "execution_count": null,
   "metadata": {},
   "outputs": [],
   "source": [
    "import numpy as np\n",
    "import matplotlib.pyplot as plt\n",
    "%matplotlib inline\n",
    "import csv"
   ]
  },
  {
   "cell_type": "code",
   "execution_count": null,
   "metadata": {},
   "outputs": [],
   "source": [
    "# Crossing between NN2 and NN3star\n",
    "J2 = [0.0013, 0.0024, \n",
    "      0.005,\n",
    "      0.0056, 0.0075,\n",
    "      0.008,0.009,\n",
    "      0.01]\n",
    "Tcrit = [0.14, 0.25, \n",
    "         0.51,\n",
    "         0.6, 0.8, \n",
    "         0.85, 1.25,\n",
    "         1.325]\n",
    "Tmin = [0.1, 0.18, \n",
    "        0.45,\n",
    "        0.4, 0.55,\n",
    "        0.7, 0.85,\n",
    "        0.9]\n",
    "Tmax = [0.2, 0.36, \n",
    "        0.65,\n",
    "        0.95, 1,\n",
    "        1.25, 2.5,\n",
    "        10]\n",
    "assm = [list(np.array(Tcrit)-np.array(Tmin)), \n",
    "        list(np.array(Tmax)-np.array(Tcrit))]"
   ]
  },
  {
   "cell_type": "code",
   "execution_count": null,
   "metadata": {},
   "outputs": [],
   "source": [
    "#Minimal temperature for the crossing between NN2 and NN3star\n",
    "J2_1 = [0.0013, 0.0024,\n",
    "        0.005, 0.008, 0.009,\n",
    "        0.01,\n",
    "        0.012,0.013,0.0135,0.014,\n",
    "        0.015,\n",
    "        0.017,\n",
    "        0.02]#, 0.03,0.04, 0.05,0.06, 0.07]\n",
    "Tmin_1 = [0.1, 0.18,\n",
    "          0.45, 0.7,0.85,\n",
    "          0.9, \n",
    "          1.225, 1.65,1.95,3,\n",
    "          4.15,\n",
    "          5,\n",
    "          5.9]#, 4, 6, 8, 9.5, 10]"
   ]
  },
  {
   "cell_type": "code",
   "execution_count": null,
   "metadata": {},
   "outputs": [],
   "source": [
    "J2m = [0.0013,0.0024,0.0056, 0.0075, 0.008,\n",
    "       0.01, 0.02, 0.03, 0.04, 0.05, \n",
    "       0.06, 0.07, 0.08, 0.1, 0.11]\n",
    "TMcrit = [0.018,0.031,0.075,0.1, 0.106,\n",
    "          0.132,0.26, 0.4, 0.525, 0.625, \n",
    "          0.825, 1,1.1, 1.7, 2.2]\n",
    "TMmin = [0.016,0.03, 0.07,0.095, 0.104,\n",
    "         0.125,0.25,0.38, 0.5,0.65,\n",
    "         0.77, 0.9, 1,1.55, 1.9]\n",
    "TMmax = [0.02,0.032,0.08,0.105, 0.108,\n",
    "         0.14, 0.275, 0.42, 0.575,0.7,\n",
    "         0.85, 1.1, 1.3, 2, 10]\n",
    "assmM = [list(np.array(TMcrit)-np.array(TMmin)), \n",
    "        list(np.array(TMmax)-np.array(TMcrit))]"
   ]
  },
  {
   "cell_type": "code",
   "execution_count": null,
   "metadata": {},
   "outputs": [],
   "source": [
    "#Minimal temperature for the crossing between NN2 and NN3star\n",
    "J2m_1 = [0.0013,0.0024,0.0056, 0.0075, 0.008,\n",
    "         0.01, 0.02, 0.03, 0.04, 0.05, \n",
    "         0.06, 0.07, 0.08, 0.1, 0.11,\n",
    "         0.12, 0.13, 0.14, 0.15\n",
    "        ]\n",
    "TMin_1 =[0.016,0.03, 0.07,0.095, 0.104,\n",
    "         0.125,0.25,0.38, 0.5,0.65,\n",
    "         0.77, 0.9, 1,1.55, 1.9,\n",
    "         8.75, 11.5, 14.5, 16\n",
    "        ]"
   ]
  },
  {
   "cell_type": "code",
   "execution_count": null,
   "metadata": {},
   "outputs": [],
   "source": [
    "assm"
   ]
  },
  {
   "cell_type": "code",
   "execution_count": null,
   "metadata": {},
   "outputs": [],
   "source": [
    "plt.figure(figsize=(9,6),dpi = 200)\n",
    "plt.errorbar(Tcrit, J2 , xerr = assm, fmt = '.', label = 'Crossing temperature - 2nd and 3rd par')\n",
    "plt.gca().set_prop_cycle(None)\n",
    "plt.errorbar(Tmin_1, J2_1, fmt = 'x', label = r'Minimal crossing temperature for this $J_2/J_1$ ratio')\n",
    "plt.plot([1.9, 1.9],[0,0.03], label = 'Experimental temperature')\n",
    "plt.ylabel(r'$J_2/J_1}$')\n",
    "plt.xlabel(r'$T/J_1$')\n",
    "plt.grid(which = 'both')\n",
    "plt.legend(loc = 'best')\n",
    "plt.savefig('LowerBound.png')\n",
    "\n",
    "plt.title('LowerBound.png')"
   ]
  },
  {
   "cell_type": "code",
   "execution_count": null,
   "metadata": {},
   "outputs": [],
   "source": [
    "plt.figure(figsize=(9,6),dpi = 200)\n",
    "plt.errorbar(Tcrit, J2,  xerr = assm, fmt = '.', label = 'Crossing temperature - 2nd and 3rd par')\n",
    "plt.gca().set_prop_cycle(None)\n",
    "plt.errorbar(Tmin_1, J2_1,  fmt = 'x', label = 'Minimal crossing temperature - 2nd and 3rd par')\n",
    "plt.plot([1.9, 1.9], [0,0.03], label = 'Experimental temperature')\n",
    "plt.ylabel(r'$J_2/J_1}$')\n",
    "plt.xlabel(r'$T/J_1$')\n",
    "plt.ylim([0.0013, 0.02])\n",
    "plt.yticks(np.arange(0.0, 0.02, 0.002))\n",
    "plt.grid(which = 'both')\n",
    "plt.legend(loc = 'best')\n",
    "plt.savefig('LowerBoundZoom.png')"
   ]
  },
  {
   "cell_type": "code",
   "execution_count": null,
   "metadata": {},
   "outputs": [],
   "source": [
    "plt.figure(figsize=(9,6),dpi = 200)\n",
    "plt.errorbar(TMcrit, J2m,  xerr = assmM, fmt = '.', label = 'Crossing temperature - 2nd and 3rd star')\n",
    "plt.gca().set_prop_cycle(None)\n",
    "plt.errorbar(TMin_1, J2m_1,  fmt = 'x', label = 'Minimal crossing temperature - 2nd and 3rd star')\n",
    "plt.plot( [1.9, 1.9],[0,.15], label = 'Experimental temperature')\n",
    "plt.ylabel(r'$J_2/J_1}$')\n",
    "plt.xlabel(r'$T/J_1$')\n",
    "plt.grid(which = 'both')\n",
    "plt.legend(loc = 'best')\n",
    "plt.savefig('HigherBound.png')\n",
    "plt.title('HigherBound.png')"
   ]
  },
  {
   "cell_type": "code",
   "execution_count": null,
   "metadata": {},
   "outputs": [],
   "source": [
    "plt.figure(figsize=(9,6),dpi = 200)\n",
    "#plt.errorbar(J2, Tcrit, yerr = assm, fmt = '.', label = 'Crossing temperature - 2nd and 3rd par')\n",
    "#plt.gca().set_prop_cycle(None)\n",
    "plt.errorbar(Tmin_1, J2_1, fmt = 'x', label = 'Minimal crossing temperature - 2nd and 3rd par')\n",
    "plt.errorbar(TMin_1, J2m_1,  fmt = 'x', label = 'Minimal crossing temperature - 2nd and 3rd star')\n",
    "#plt.errorbar(TMcrit, J2m, xerr = assmM, fmt = '.', label = 'Crossing temperature - 2nd and 3rd star')\n",
    "plt.fill_betweenx([-0.2,.20], [3, 3], [5, 5],color = 'green', alpha = 0.1, label = 'Experimental temperature')\n",
    "plt.ylim([-0.002, 0.175])\n",
    "plt.ylabel(r'$J_2/J_1}$')\n",
    "plt.xlabel(r'$T/J_1$')\n",
    "plt.grid(which = 'both')\n",
    "plt.legend(loc = 'best')\n",
    "plt.savefig('Bounds.png')\n",
    "plt.title('Bounds.png')"
   ]
  },
  {
   "cell_type": "code",
   "execution_count": null,
   "metadata": {},
   "outputs": [],
   "source": [
    "with open('../../Analysis_PSI_EPFL/CorrelationsAsFunctionJ2/NN.txt', 'r') as f:\n",
    "    NNCorrs = list(csv.reader(f, delimiter='\\t'))\n",
    "f.close()\n",
    "NNCorrs = np.array(NNCorrs[1:], dtype=np.float)   "
   ]
  },
  {
   "cell_type": "code",
   "execution_count": null,
   "metadata": {},
   "outputs": [],
   "source": [
    "with open('../../Analysis_PSI_EPFL/CorrelationsAsFunctionJ2/NN2.txt', 'r') as f:\n",
    "    NN2Corrs = list(csv.reader(f, delimiter='\\t'))\n",
    "f.close()\n",
    "NN2Corrs = np.array(NN2Corrs[1:], dtype=np.float)   "
   ]
  },
  {
   "cell_type": "code",
   "execution_count": null,
   "metadata": {},
   "outputs": [],
   "source": [
    "with open('../../Analysis_PSI_EPFL/CorrelationsAsFunctionJ2/NN3par.txt', 'r') as f:\n",
    "    NN3parCorrs = list(csv.reader(f, delimiter='\\t'))\n",
    "f.close()\n",
    "NN3parCorrs = np.array(NN3parCorrs[1:], dtype=np.float)   "
   ]
  },
  {
   "cell_type": "code",
   "execution_count": null,
   "metadata": {},
   "outputs": [],
   "source": [
    "with open('../../Analysis_PSI_EPFL/CorrelationsAsFunctionJ2/NN3star.txt', 'r') as f:\n",
    "    NN3starCorrs = list(csv.reader(f, delimiter='\\t'))\n",
    "f.close()\n",
    "NN3starCorrs = np.array(NN3starCorrs[1:], dtype=np.float)   "
   ]
  },
  {
   "cell_type": "code",
   "execution_count": null,
   "metadata": {},
   "outputs": [],
   "source": [
    "plt.figure(dpi = 200)\n",
    "plt.errorbar(NNCorrs[:,0], NNCorrs[:,1], fmt = '.', yerr = NNCorrs[:,2],label = 'NN')\n",
    "plt.errorbar(NN2Corrs[:,0], NN2Corrs[:,1], fmt = '.', yerr = NNCorrs[:,2],label =  'NN2')\n",
    "plt.errorbar(NN3parCorrs[:,0], NN3parCorrs[:,1], fmt = '.', yerr = NNCorrs[:,2],label =  'NN3par')\n",
    "plt.errorbar(NN3starCorrs[:,0], NN3starCorrs[:,1], fmt = '.', yerr = NNCorrs[:,2],label =  'NN3star')\n",
    "plt.legend(loc = 'best')\n",
    "plt.xlabel(r'$J_2/J_1$')\n",
    "plt.ylabel(r'$\\langle \\sigma_i \\sigma_j \\rangle - \\langle \\sigma_i \\rangle \\langle \\sigma_j \\rangle$')"
   ]
  },
  {
   "cell_type": "code",
   "execution_count": null,
   "metadata": {},
   "outputs": [],
   "source": [
    "plt.figure(dpi = 200)\n",
    "plt.errorbar(NNCorrs[:,0], NNCorrs[:,1], fmt = '.', yerr = NNCorrs[:,2],label = 'NN')\n",
    "plt.fill_between(NNCorrs[:,0], [-0.20 for i in range(len(NNCorrs[:,0]))], [-0.16 for i in range(len(NNCorrs[:,0]))], alpha = 0.1)\n",
    "plt.errorbar(NN2Corrs[:,0], NN2Corrs[:,1], fmt = '.', yerr = NNCorrs[:,2],label =  'NN2')\n",
    "plt.fill_between(NNCorrs[:,0], [0.041 for i in range(len(NNCorrs[:,0]))], [0.077 for i in range(len(NNCorrs[:,0]))], alpha = 0.1)\n",
    "plt.errorbar(NN3parCorrs[:,0], NN3parCorrs[:,1], fmt = '.', yerr = NNCorrs[:,2],label =  'NN3par')\n",
    "plt.fill_between(NNCorrs[:,0], [0.076 for i in range(len(NNCorrs[:,0]))], [0.124 for i in range(len(NNCorrs[:,0]))], alpha = 0.1)\n",
    "plt.errorbar(NN3starCorrs[:,0], NN3starCorrs[:,1], fmt = '.', yerr = NNCorrs[:,2],label =  'NN3star')\n",
    "plt.fill_between(NNCorrs[:,0], [0.023 for i in range(len(NNCorrs[:,0]))], [0.057 for i in range(len(NNCorrs[:,0]))], alpha = 0.1)\n",
    "plt.legend(loc = 'best')\n",
    "plt.xlabel(r'$J_2/J_1$')\n",
    "plt.ylabel(r'$\\langle \\sigma_i \\sigma_j \\rangle - \\langle \\sigma_i \\rangle \\langle \\sigma_j \\rangle$')"
   ]
  },
  {
   "cell_type": "code",
   "execution_count": null,
   "metadata": {},
   "outputs": [],
   "source": [
    "plt.figure(dpi = 200)\n",
    "plt.errorbar(NNCorrs[:,0], NNCorrs[:,1], fmt = '.', yerr = NNCorrs[:,2],label = 'NN')\n",
    "plt.fill_between(NNCorrs[:,0], [-0.20-0.04 for i in range(len(NNCorrs[:,0]))], [-0.16-0.04 for i in range(len(NNCorrs[:,0]))], alpha = 0.1)\n",
    "plt.errorbar(NN2Corrs[:,0], NN2Corrs[:,1], fmt = '.', yerr = NNCorrs[:,2],label =  'NN2')\n",
    "plt.fill_between(NNCorrs[:,0], [0.041-0.04 for i in range(len(NNCorrs[:,0]))], [0.077-0.04 for i in range(len(NNCorrs[:,0]))], alpha = 0.1)\n",
    "plt.errorbar(NN3parCorrs[:,0], NN3parCorrs[:,1], fmt = '.', yerr = NNCorrs[:,2],label =  'NN3par')\n",
    "plt.fill_between(NNCorrs[:,0], [0.076-0.04 for i in range(len(NNCorrs[:,0]))], [0.124-0.04 for i in range(len(NNCorrs[:,0]))], alpha = 0.1)\n",
    "plt.errorbar(NN3starCorrs[:,0], NN3starCorrs[:,1], fmt = '.', yerr = NNCorrs[:,2],label =  'NN3star')\n",
    "plt.fill_between(NNCorrs[:,0], [0.023-0.04 for i in range(len(NNCorrs[:,0]))], [0.057-0.04 for i in range(len(NNCorrs[:,0]))], alpha = 0.1)\n",
    "plt.legend(loc = 'best')\n",
    "plt.xlabel(r'$J_2/J_1$')\n",
    "plt.ylabel(r'$\\langle \\sigma_i \\sigma_j \\rangle - \\langle \\sigma_i \\rangle \\langle \\sigma_j \\rangle$')"
   ]
  },
  {
   "cell_type": "code",
   "execution_count": null,
   "metadata": {},
   "outputs": [],
   "source": [
    "plt.plot([1e-3,60],[-0.179, -0.179])\n",
    "plt.fill_between([1e-3,60],[-0.2, -0.2], [-0.157, -0.157], alpha = 0.2)\n",
    "plt.plot([1e-3,60],[0.059, 0.059])\n",
    "plt.fill_between([1e-3,60],[0.041, 0.041], [0.077, 0.077], alpha = 0.2)\n",
    "plt.plot([1e-3,60],[0.1, 0.1])\n",
    "plt.fill_between([1e-3,60],[0.076, 0.076], [0.124, 0.124], alpha = 0.2)\n",
    "plt.plot([1e-3,60],[0.03, 0.03])\n",
    "plt.fill_between([1e-3,60],[0.023, 0.023], [0.057, 0.057], alpha = 0.2)\n"
   ]
  }
 ],
 "metadata": {
  "kernelspec": {
   "display_name": "Python 3",
   "language": "python",
   "name": "python3"
  },
  "language_info": {
   "codemirror_mode": {
    "name": "ipython",
    "version": 3
   },
   "file_extension": ".py",
   "mimetype": "text/x-python",
   "name": "python",
   "nbconvert_exporter": "python",
   "pygments_lexer": "ipython3",
   "version": "3.6.9"
  }
 },
 "nbformat": 4,
 "nbformat_minor": 2
}
