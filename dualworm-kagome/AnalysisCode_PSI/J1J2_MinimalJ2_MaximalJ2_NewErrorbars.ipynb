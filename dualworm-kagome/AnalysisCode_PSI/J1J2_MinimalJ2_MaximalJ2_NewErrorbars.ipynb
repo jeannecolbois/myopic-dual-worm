{
 "cells": [
  {
   "cell_type": "code",
   "execution_count": null,
   "metadata": {},
   "outputs": [],
   "source": [
    "import numpy as np\n",
    "import matplotlib.pyplot as plt\n",
    "%matplotlib inline\n",
    "import csv"
   ]
  },
  {
   "cell_type": "code",
   "execution_count": null,
   "metadata": {},
   "outputs": [],
   "source": [
    "# Note: the J2 = 0 simulation tells us to look between -0.002 and 0.002"
   ]
  },
  {
   "cell_type": "code",
   "execution_count": null,
   "metadata": {
    "scrolled": true
   },
   "outputs": [],
   "source": [
    "# Crossing between NN2 and NN3star\n",
    "J2_low = np.array([0.0025, 0.005, 0.0075, 0.01, 0.01, 0.0125])\n",
    "Tcross_low = np.array([0.265, 0.51, 0.8,1.35, 19.75])\n",
    "Tmin_low = np.array([0.255, 0.42, 0.76, 1.3, 19, 7])\n",
    "Tmax_low = np.array([0.272,0.55, 0.84, 1.475])\n",
    "mlow = Tmax_low.shape[0]\n",
    "clow = Tcross_low.shape[0]\n",
    "totlow = J2_low.shape[0]\n",
    "toperrs_low = list(Tmax_low-Tcross_low[0:mlow])\n",
    "for i in range(clow-mlow):\n",
    "    toperrs_low.append(0)\n",
    "botterrs_low = list(Tcross_low[0:clow]-Tmin_low[0:clow])\n",
    "errs_low = [botterrs_low, \n",
    "        toperrs_low]"
   ]
  },
  {
   "cell_type": "code",
   "execution_count": null,
   "metadata": {},
   "outputs": [],
   "source": [
    "## J2 for upper bounds\n",
    "\n",
    "J2_up = np.array([0.0025, 0.005, 0.0075, 0.01, 0.0125 , 0.015,\n",
    "                 0.02,0.03, 0.04, 0.05, 0.06, 0.07, 0.08, 0.09, 0.1, 0.105, 0.11, 0.1125, 0.115, 0.12])#, 0.115, 0.12])\n",
    "Tcross_up = np.array([0.033, 0.0665, 0.1, 0.133,0.165, 0.1975,\n",
    "                      0.26, 0.4, 0.53, 0.665, 0.81, 0.97, 1.15, 1.38, 1.7, 2, 2.25])\n",
    "Tmin_up = np.array([0.032, 0.065, 0.096, 0.13, 0.16, 0.195,\n",
    "                    0.25,  0.38,  0.505, 0.64, 0.77 ,0.92, 1.06, 1.3, 1.52, 1.8, 2, 3.5, 28, 35 ])\n",
    "Tmax_up = np.array([0.034, 0.068, 0.104, 0.135,0.17, 0.205,\n",
    "                    0.275, 0.425, 0.55,  0.69, 0.86, 1.03, 1.25, 1.5, 1.9,  2.2, 2.4])\n",
    "\n",
    "mup = Tmax_up.shape[0]\n",
    "cup = Tcross_up.shape[0]\n",
    "totup = J2_up.shape[0]\n",
    "toperrs_up= list(Tmax_up-Tcross_up[0:mup])\n",
    "for i in range(cup-mup):\n",
    "    toperrs_up.append(0)\n",
    "botterrs_up = list(Tcross_up[0:cup]-Tmin_up[0:cup])\n",
    "errs_up = [botterrs_up, \n",
    "        toperrs_up]"
   ]
  },
  {
   "cell_type": "code",
   "execution_count": null,
   "metadata": {},
   "outputs": [],
   "source": [
    "plt.figure(figsize=(9,6),dpi = 200)\n",
    "plt.errorbar(Tcross_low[0:clow], J2_low[0:clow] , xerr = errs_low, fmt = '.', color = '#AB8C1A', label = r'Crossing temperature - $c_{2}$ and $c_{3 ||}$')\n",
    "plt.plot(Tmin_low, J2_low, '.',color = '#AB8C1A', marker = 5, label = r'Minimal $c_{2}$ and $c_{3 ||}$ crossing temperature for this $J_2/J_1$ ratio')\n",
    "plt.plot(Tmax_low, J2_low[0:mlow], '.', color = '#AB8C1A', marker = 4, label = r'Maximal$c_{2}$ and $c_{3 ||}$ crossing temperature for this $J_2/J_1$ ratio')\n",
    "plt.fill_betweenx([-0.2,.20], [3, 3], [7, 7],color = 'green', alpha = 0.1, label = 'Possible experimental temperature range from the ratio of frustrated triangles')\n",
    "plt.ylabel(r'$J_2/J_1}$')\n",
    "plt.xlabel(r'$T/J_1$')\n",
    "plt.grid(which = 'both')\n",
    "plt.legend(loc = 'upper center', ncol =2)\n",
    "plt.ylim([-0.002, 0.175])\n",
    "plt.title('LowerBound.png')\n",
    "plt.savefig('LowerBound.png')\n",
    "\n"
   ]
  },
  {
   "cell_type": "code",
   "execution_count": null,
   "metadata": {},
   "outputs": [],
   "source": [
    "plt.figure(figsize=(11,6),dpi = 200)\n",
    "plt.errorbar(Tcross_up[0:cup], J2_up[0:cup] , xerr = errs_up, color = '#EB531B', fmt = '.', label = r'Crossing temperature - $c_{2}$ and $c_{3 \\star}$')\n",
    "plt.plot(Tmin_up, J2_up, '.',color = '#EB531B', marker = 5, label = r'Minimal $c_{2}$ and $c_{3  \\star}$ crossing temperature for this $J_2/J_1$ ratio')\n",
    "plt.plot(Tmax_up, J2_up[0:mup], '.',color = '#EB531B', marker = 4, label = r'Maximal$c_{2}$ and $c_{3  \\star}$ crossing temperature for this $J_2/J_1$ ratio')\n",
    "plt.fill_betweenx([-0.2,.20], [3, 3], [7, 7],color = 'green', alpha = 0.1, label = 'Possible experimental temperature range from the ratio of frustrated triangles')\n",
    "plt.ylabel(r'$J_2/J_1}$')\n",
    "plt.xlabel(r'$T/J_1$')\n",
    "plt.grid(which = 'both')\n",
    "plt.legend(loc = 'upper center', ncol =2)\n",
    "plt.ylim([-0.002, None])\n",
    "plt.title('HigherBound.png')\n",
    "plt.savefig('HigherBound.png')"
   ]
  },
  {
   "cell_type": "code",
   "execution_count": null,
   "metadata": {},
   "outputs": [],
   "source": [
    "plt.figure(figsize=(9,6),dpi = 200)\n",
    "plt.errorbar(Tcross_low[0:clow], J2_low[0:clow] , xerr = errs_low, fmt = '.', color = '#AB8C1A', label = r'Crossing temperature - $c_{2}$ and $c_{3 ||}$')\n",
    "plt.plot(Tmin_low, J2_low, '.',color = '#AB8C1A', marker = 5, label = r'Minimal $c_{2}$ and $c_{3 ||}$ crossing temperature for this $J_2/J_1$ ratio')\n",
    "plt.plot(Tmax_low, J2_low[0:mlow], '.', color = '#AB8C1A', marker = 4, label = r'Maximal$c_{2}$ and $c_{3 ||}$ crossing temperature for this $J_2/J_1$ ratio')\n",
    "plt.errorbar(Tcross_up, J2_up[0:cup] , xerr = errs_up, color = '#EB531B', fmt = '.', label = r'Crossing temperature - $c_{2}$ and $c_{3 \\star}$')\n",
    "plt.plot(Tmin_up, J2_up, '.',color = '#EB531B', marker = 5, label = r'Minimal $c_{2}$ and $c_{3 \\star}$ crossing temperature for this $J_2/J_1$ ratio')\n",
    "plt.plot(Tmax_up, J2_up[0:mup], '.',color = '#EB531B', marker = 4, label = r'Maximal$c_{2}$ and $c_{3 \\star}$ crossing temperature for this $J_2/J_1$ ratio')\n",
    "plt.fill_betweenx([-0.2,.20], [3, 3], [7, 7],color = 'green', alpha = 0.1, label = 'Possible experimental temperature range from the ratio of frustrated triangles')\n",
    "plt.ylim([-0.002, 0.175])\n",
    "plt.ylabel(r'$J_2/J_1}$')\n",
    "plt.xlabel(r'$T/J_1$')\n",
    "plt.grid(which = 'both')\n",
    "plt.legend(loc = 'upper center', ncol =2)\n",
    "plt.savefig('Bounds.png')\n",
    "plt.title('Bounds.png')"
   ]
  },
  {
   "cell_type": "code",
   "execution_count": null,
   "metadata": {},
   "outputs": [],
   "source": []
  },
  {
   "cell_type": "code",
   "execution_count": null,
   "metadata": {},
   "outputs": [],
   "source": []
  }
 ],
 "metadata": {
  "kernelspec": {
   "display_name": "Python 3",
   "language": "python",
   "name": "python3"
  },
  "language_info": {
   "codemirror_mode": {
    "name": "ipython",
    "version": 3
   },
   "file_extension": ".py",
   "mimetype": "text/x-python",
   "name": "python",
   "nbconvert_exporter": "python",
   "pygments_lexer": "ipython3",
   "version": "3.6.9"
  }
 },
 "nbformat": 4,
 "nbformat_minor": 2
}
