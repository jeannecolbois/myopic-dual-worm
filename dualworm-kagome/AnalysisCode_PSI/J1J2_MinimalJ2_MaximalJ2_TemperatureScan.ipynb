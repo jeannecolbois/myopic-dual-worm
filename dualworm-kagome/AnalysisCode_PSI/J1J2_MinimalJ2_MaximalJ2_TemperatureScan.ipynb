{
 "cells": [
  {
   "cell_type": "code",
   "execution_count": null,
   "metadata": {},
   "outputs": [],
   "source": [
    "import numpy as np\n",
    "import matplotlib.pyplot as plt\n",
    "%matplotlib inline\n",
    "import csv"
   ]
  },
  {
   "cell_type": "code",
   "execution_count": null,
   "metadata": {},
   "outputs": [],
   "source": [
    "# Note: the J2 = 0 simulation tells us to look between -0.002 and 0.002"
   ]
  },
  {
   "cell_type": "code",
   "execution_count": null,
   "metadata": {
    "scrolled": true
   },
   "outputs": [],
   "source": [
    "# Crossing between NN2 and NN3star\n",
    "T = np.array([0.22,0.25, 0.29, 0.34])\n",
    "xerr = np.array([0.02, 0.02, 0.04, 0.04])\n",
    "\n",
    "\n",
    "J2_low = np.array([0.0025, 0.0025, 0.003])\n",
    "yerr_low = np.array([0.0025, 0.0025, 0.0025])\n",
    "J2_up = np.array([0.0175, 0.02, 0.023])\n",
    "yerr_up = np.array([0.0025, 0.0025, 0.005])\n",
    "\n"
   ]
  },
  {
   "cell_type": "code",
   "execution_count": null,
   "metadata": {},
   "outputs": [],
   "source": [
    "plt.figure(figsize=(9,6),dpi = 200)\n",
    "plt.errorbar(T, J2_low,  xerr = xerr, yerr = yerr_low, fmt = '^',color = '#AB8C1A', label = r'Crossing $J_2$: $c_{2}$ and $c_{3 ||}$')\n",
    "plt.errorbar(T, J2_up,  xerr = xerr, yerr = yerr_up, fmt = 'v',color = '#EB531B', label = r'Crossing $J_2$: $c_{2}$ and $c_{3 \\star}$')\n",
    "plt.fill_betweenx([-0.2,.20], [3, 3], [7, 7],color = 'green', alpha = 0.1, label = 'Possible experimental temperature range from the ratio of frustrated triangles')\n",
    "plt.ylabel(r'$J_2/J_1}$')\n",
    "plt.xlabel(r'$T/J_1$')\n",
    "plt.grid(which = 'both')\n",
    "plt.legend(loc = 'upper center', ncol =2)\n",
    "plt.ylim([-0.002, 0.175])\n",
    "plt.title('LowerBound.png')\n",
    "plt.savefig('LowerBound.png')\n",
    "\n"
   ]
  },
  {
   "cell_type": "code",
   "execution_count": null,
   "metadata": {},
   "outputs": [],
   "source": [
    "plt.figure(figsize=(9,6),dpi = 200)\n",
    "plt.errorbar(T, J2_low,  xerr = xerr, yerr = yerr_low, fmt = '^',color = '#AB8C1A', label = r'Crossing $J_2$: $c_{2}$ and $c_{3 ||}$')\n",
    "plt.errorbar(T, J2_up,  xerr = xerr, yerr = yerr_up, fmt = 'v',color = '#EB531B', label = r'Crossing $J_2$: $c_{2}$ and $c_{3 \\star}$')\n",
    "plt.fill_betweenx([-0.2,.20], [3, 3], [7, 7],color = 'green', alpha = 0.1, label = 'Possible experimental temperature range from the ratio of frustrated triangles')\n",
    "plt.ylabel(r'$J_2/J_1}$')\n",
    "plt.xlabel(r'$T/J_1$')\n",
    "plt.xscale('log')\n",
    "plt.grid(which = 'both')\n",
    "plt.legend(loc = 'upper center', ncol =2)\n",
    "plt.ylim([-0.002, 0.175])\n",
    "plt.title('LowerBound.png')\n",
    "plt.savefig('LowerBound.png')\n"
   ]
  },
  {
   "cell_type": "code",
   "execution_count": null,
   "metadata": {},
   "outputs": [],
   "source": [
    "plt.figure(figsize=(11,6),dpi = 200)\n",
    "plt.errorbar(Tcross_up[0:cup], J2_up[0:cup] , xerr = errs_up, color = '#EB531B', fmt = '.', label = r'Crossing temperature - $c_{2}$ and $c_{3 \\star}$')\n",
    "plt.plot(Tmin_up, J2_up, '.',color = '#EB531B', marker = 5, label = r'Minimal $c_{2}$ and $c_{3  \\star}$ crossing temperature for this $J_2/J_1$ ratio')\n",
    "plt.plot(Tmax_up, J2_up[0:mup], '.',color = '#EB531B', marker = 4, label = r'Maximal$c_{2}$ and $c_{3  \\star}$ crossing temperature for this $J_2/J_1$ ratio')\n",
    "plt.fill_betweenx([-0.2,.20], [3, 3], [7, 7],color = 'green', alpha = 0.1, label = 'Possible experimental temperature range from the ratio of frustrated triangles')\n",
    "plt.ylabel(r'$J_2/J_1}$')\n",
    "plt.xlabel(r'$T/J_1$')\n",
    "plt.grid(which = 'both')\n",
    "plt.legend(loc = 'upper center', ncol =2)\n",
    "plt.ylim([-0.002, None])\n",
    "plt.title('HigherBound.png')\n",
    "plt.savefig('HigherBound.png')"
   ]
  },
  {
   "cell_type": "code",
   "execution_count": null,
   "metadata": {},
   "outputs": [],
   "source": [
    "plt.figure(figsize=(9,6),dpi = 200)\n",
    "plt.errorbar(Tcross_low[0:clow], J2_low[0:clow] , xerr = errs_low, fmt = '.', color = '#AB8C1A', label = r'Crossing temperature - $c_{2}$ and $c_{3 ||}$')\n",
    "plt.plot(Tmin_low, J2_low, '.',color = '#AB8C1A', marker = 5, label = r'Minimal $c_{2}$ and $c_{3 ||}$ crossing temperature for this $J_2/J_1$ ratio')\n",
    "plt.plot(Tmax_low, J2_low[0:mlow], '.', color = '#AB8C1A', marker = 4, label = r'Maximal$c_{2}$ and $c_{3 ||}$ crossing temperature for this $J_2/J_1$ ratio')\n",
    "plt.errorbar(Tcross_up, J2_up[0:cup] , xerr = errs_up, color = '#EB531B', fmt = '.', label = r'Crossing temperature - $c_{2}$ and $c_{3 \\star}$')\n",
    "plt.plot(Tmin_up, J2_up, '.',color = '#EB531B', marker = 5, label = r'Minimal $c_{2}$ and $c_{3 \\star}$ crossing temperature for this $J_2/J_1$ ratio')\n",
    "plt.plot(Tmax_up, J2_up[0:mup], '.',color = '#EB531B', marker = 4, label = r'Maximal$c_{2}$ and $c_{3 \\star}$ crossing temperature for this $J_2/J_1$ ratio')\n",
    "plt.fill_betweenx([-0.2,.20], [3, 3], [7, 7],color = 'green', alpha = 0.1, label = 'Possible experimental temperature range from the ratio of frustrated triangles')\n",
    "plt.ylim([-0.002, 0.175])\n",
    "plt.ylabel(r'$J_2/J_1}$')\n",
    "plt.xlabel(r'$T/J_1$')\n",
    "plt.grid(which = 'both')\n",
    "plt.legend(loc = 'upper center', ncol =2)\n",
    "plt.savefig('Bounds.png')\n",
    "plt.title('Bounds.png')"
   ]
  },
  {
   "cell_type": "code",
   "execution_count": null,
   "metadata": {},
   "outputs": [],
   "source": []
  },
  {
   "cell_type": "code",
   "execution_count": null,
   "metadata": {},
   "outputs": [],
   "source": []
  }
 ],
 "metadata": {
  "kernelspec": {
   "display_name": "Python 3",
   "language": "python",
   "name": "python3"
  },
  "language_info": {
   "codemirror_mode": {
    "name": "ipython",
    "version": 3
   },
   "file_extension": ".py",
   "mimetype": "text/x-python",
   "name": "python",
   "nbconvert_exporter": "python",
   "pygments_lexer": "ipython3",
   "version": "3.6.9"
  }
 },
 "nbformat": 4,
 "nbformat_minor": 2
}
