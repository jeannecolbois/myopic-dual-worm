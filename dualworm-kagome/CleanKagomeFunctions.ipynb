{
 "cells": [
  {
   "cell_type": "code",
   "execution_count": null,
   "metadata": {
    "collapsed": true
   },
   "outputs": [],
   "source": [
    "import numpy as np\n",
    "import dimers as dim"
   ]
  },
  {
   "cell_type": "code",
   "execution_count": null,
   "metadata": {
    "collapsed": true
   },
   "outputs": [],
   "source": [
    "def createdualtable(L):\n",
    "    '''\n",
    "        Creates the table of dual bonds corresponding to a dice lattice of side size L.\n",
    "        Returns a table identifing an int with the three coordinates of the dual bond and a dictionnary identifying the\n",
    "        three coordinates with the dual bond's int index. This allows to handle other relations between dual bonds in an\n",
    "        easier way.\n",
    "    '''\n",
    "    d_ijl = [(i, j, l) for i in range(2*L) for j in range (2*L) for l in range(6) if (i+j > L-2) and (i+j < 3*L-1)]\n",
    "    \n",
    "    # we need as well a dictionary to associate values of (i,j,l) to the correct index d\n",
    "    ijl_d = {} # new empty dictionary\n",
    "    for d, triplet in enumerate(d_ijl): # same as for d in range(d_ijl) triplet = d_ijl[d]\n",
    "        ijl_d[triplet] = d\n",
    "    return (d_ijl, ijl_d)"
   ]
  },
  {
   "cell_type": "code",
   "execution_count": null,
   "metadata": {
    "collapsed": true
   },
   "outputs": [],
   "source": [
    "def createspinsitetable(L):\n",
    "    '''\n",
    "        Creates the table of spin sites corresponding to a dice lattice of side size L.\n",
    "        Returns a table identifing an int with the three coordinates of the spin site and a dictionnary identifying the\n",
    "        three coordinates with the spin site's int index. This allows to handle other relations between spin sites in an\n",
    "        easier way.\n",
    "    '''\n",
    "    s_ijl = [(i, j, l) for i in range(2*L) for j in range(2*L) for l in range(3) if (i+j > L-2) and (i+j < 3*L-1)]\n",
    "    # dictionary\n",
    "    ijl_s = {}\n",
    "    for s, triplet in enumerate(s_ijl):\n",
    "        ijl_s[triplet] = s\n",
    "    return s_ijl, ijl_s"
   ]
  },
  {
   "cell_type": "code",
   "execution_count": null,
   "metadata": {
    "collapsed": true
   },
   "outputs": [],
   "source": [
    "def fixbc(i, j, l, L):\n",
    "    '''\n",
    "        For a lattice side size L, this function handles the periodic boundary conditions by returning the corresponding\n",
    "        value of i, j, l if they match a point which is just outside the borders of the considered cell.\n",
    "    '''\n",
    "    if i == 2*L : # bottom right mapped to top left\n",
    "        i = 0\n",
    "        j += L\n",
    "    if j == 2*L: # top mapped to bottom\n",
    "        i += L\n",
    "        j = 0\n",
    "    if i+j == L-2: # bottom left mapped to top right\n",
    "        i += L\n",
    "        j += L\n",
    "    if i+j == 3*L-1: # top right mapped to bottom left\n",
    "        i -= L\n",
    "        j -= L\n",
    "    if j == -1: # bottom mapped to top\n",
    "        i -= L\n",
    "        j = 2*L-1\n",
    "    if i == -1: # top left mapped to bottom right\n",
    "        i = 2*L-1\n",
    "        j -= L\n",
    "    return (i, j, l)"
   ]
  },
  {
   "cell_type": "code",
   "execution_count": null,
   "metadata": {
    "collapsed": true
   },
   "outputs": [],
   "source": [
    "def dualbondspinsitelinks(d_ijl, ijl_s, L):\n",
    "    '''\n",
    "        For a lattice with side size L, this function  returns two tables:\n",
    "        > d_2s: for each dual bond, which are the 2spin sites around it.\n",
    "        > s2_d: for each pair of spin sites nearest to one another, which is the dual bond between them (dictionary)\n",
    "    '''\n",
    "    linkedspinsite = [[(0, -1, 1),(1, -1, 2)],\n",
    "                  [(1, -1, 2),(0, 0, 0)],\n",
    "                  [(0, 0, 0),(0, 0, 1)],\n",
    "                  [(0, 0, 1),(0, 0, 2)],\n",
    "                  [(0, 0, 2),(-1, 0, 0)],\n",
    "                  [(-1, 0, 0),(0, -1, 1)]]\n",
    "    # without worrying about periodic BC:\n",
    "    d_2s = [[(i + linkedspinsite[l][u][0], j + linkedspinsite[l][u][1], linkedspinsite[l][u][2]) for u in range(2)] for (i, j, l) in d_ijl]\n",
    "    # fix the periodic boundary conditions\n",
    "    d_2s = np.array([[ijl_s[fixbc(si, sj, sl, L)] for (si, sj, sl) in dimd] for dimd in d_2s], dtype = 'int32')\n",
    "\n",
    "    s2_d = {}#empty dictionary\n",
    "    for d, [s1, s2] in enumerate(d_2s):\n",
    "        s2_d[(s1, s2)] = d\n",
    "        s2_d[(s2, s1)] = d #make sure that both orders work\n",
    "\n",
    "    return d_2s, s2_d"
   ]
  },
  {
   "cell_type": "code",
   "execution_count": null,
   "metadata": {
    "collapsed": true
   },
   "outputs": [],
   "source": [
    "def spins_dimers_for_update(s_ijl, ijl_s, s2_d, L):\n",
    "    '''\n",
    "        Returns a list of spin site indices and a list of dual bond indices. Going through the spins list allows to map the whole\n",
    "        spin state of the system. The ith dimer lies between the ith and ith+1 spin.\n",
    "    '''\n",
    "    spinsiteslist = list()\n",
    "    dualbondslist = list()\n",
    "    #first spin\n",
    "    i = 0\n",
    "    j = 2*L - 1\n",
    "    l = 2\n",
    "    id_s = ijl_s[(i, j, l)]\n",
    "    spinsiteslist.append(id_s)\n",
    "    (ni, nj, nl) = (i, j, l-1)\n",
    "\n",
    "    allsites = False\n",
    "    #as long as not every spin site reached: build a new loop\n",
    "    while (allsites == False):\n",
    "        loopclosed = False\n",
    "        #as long as current loop not closed: go to a new site (i, j)\n",
    "        while(loopclosed == False):\n",
    "            sitedone = False\n",
    "            #as long as the spin sites linked to site (i, j) haven't all been reached: nl->nl-1\n",
    "            while(sitedone == False):\n",
    "                #update the spins depending on the dimer between them\n",
    "                id_ns = ijl_s[ni, nj, nl] #\n",
    "                spinsiteslist.append(id_ns)\n",
    "                dualbondslist.append(s2_d[id_s, id_ns])\n",
    "                id_s = id_ns #save new spin site index as new old spin site index\n",
    "                if (nl > 0):\n",
    "                    nl = nl-1\n",
    "                else: # if nl = 0, the next site is ni + 1, nl = 2\n",
    "                    sitedone = True\n",
    "            ni = ni + 1\n",
    "            nl = 2\n",
    "            (ni, nj, nl) = fixbc(ni, nj, nl, L)\n",
    "            if ijl_s[(ni, nj, nl)] in spinsiteslist and (ni, nj, nl) == (i, j, l):\n",
    "                loopclosed = True # when the loop is closed, move to the next one\n",
    "\n",
    "        id_s = ijl_s[fixbc(i-1, j, 0, L)] # take the new starting point\n",
    "        i = i\n",
    "        j = j-1 # id the starting point for the new loop\n",
    "        l = 2\n",
    "        (ni, nj, nl) = (i, j, l)\n",
    "        #check whether this is a spin site which was already visited\n",
    "        if ijl_s[(i, j, l)] in spinsiteslist:\n",
    "            allsites = True\n",
    "\n",
    "    return spinsiteslist, dualbondslist"
   ]
  },
  {
   "cell_type": "code",
   "execution_count": null,
   "metadata": {
    "collapsed": true
   },
   "outputs": [],
   "source": [
    "def nsitesconnections(d_ijl, ijl_d, L):\n",
    "    '''\n",
    "        For each dual bond, which are the other dual bonds which are touching it through an \"n\" site\n",
    "        (in the kagomé case, that's a site with 6 dualbonds)\n",
    "    '''\n",
    "    # the dual bond is connected to each dual bond on the same (ij) n site, only not itself: l =/= nl\n",
    "    d_nd = np.array([[ijl_d[(i,j,nl)] for nl in range(6) if (nl != l)] for (i,j,l) in d_ijl], dtype = 'int32')\n",
    "    # using that the lists will be ordered in the same way\n",
    "    # no issue with the boundary conditions    int ndualbonds = -1;\n",
    "    return d_nd"
   ]
  },
  {
   "cell_type": "code",
   "execution_count": null,
   "metadata": {
    "collapsed": true
   },
   "outputs": [],
   "source": [
    "def vsitesconnections(d_ijl, ijl_d, L):\n",
    "    '''\n",
    "        For each dual bond, which are the other dual bonds which are touching it through an \"v\" site\n",
    "        (in the kagomé case, that's a site with 3 dual bonds)\n",
    "    '''\n",
    "    # first, a list for each of the six l values on how to find the neighbours\n",
    "    # (increase i, increase j, new l)\n",
    "    nextdualbonds = [[(0, -1, 2), (1, -1, 4)],\n",
    "              [(1, -1, 3), (1, 0, 5)],\n",
    "              [(1, 0, 4), (0, 1, 0)],\n",
    "              [(0, 1, 5), (-1, 1, 1)],\n",
    "              [(-1, 1, 0), (-1, 0, 2)],\n",
    "              [(-1, 0, 1), (0, -1, 3)]]\n",
    "    # this would give the following table, except we have to fix boundary conditions first\n",
    "    d_vd = [[(i + nextdualbonds[l][u][0], j + nextdualbonds[l][u][1], nextdualbonds[l][u][2]) for u in range(2)] for (i, j, l) in d_ijl]\n",
    "\n",
    "    # finally, create the list\n",
    "    d_vd = np.array([[ijl_d[fixbc(ni, nj, nl, L)] for (ni, nj, nl) in dimd] for dimd in d_vd], dtype='int32')\n",
    "    return d_vd"
   ]
  },
  {
   "cell_type": "code",
   "execution_count": null,
   "metadata": {
    "collapsed": true
   },
   "outputs": [],
   "source": [
    "def windingtable(d_ijl, L):\n",
    "    '''\n",
    "        For each dual bond, is it on one of the two lines which are used to count the winding numbers?\n",
    "    '''\n",
    "    d_wn = np.zeros((len(d_ijl), 2), dtype = 'int32')\n",
    "    for d, (i, j, l) in enumerate(d_ijl) :\n",
    "        # First winding number\n",
    "        if i == 0:\n",
    "            if j > L-2 and j < 2*L-1:\n",
    "                if l == 1:\n",
    "                    d_wn[d,0] = 1\n",
    "            if j == L - 1:\n",
    "                if l == 0:\n",
    "                    d_wn[d,0] = 1 #other case handled above\n",
    "        if j == 2*L-1:\n",
    "            if i > 0 and i < L:\n",
    "                if l == 0:\n",
    "                    d_wn[d,0] = 1\n",
    "        if i == 1:\n",
    "            if j > L-2 and j < 2*L-1:\n",
    "                if l == 4:\n",
    "                    d_wn[d,0] = 1\n",
    "        if j == 2*L-2:\n",
    "            if i > 0 and i <= L:\n",
    "                if l == 3:\n",
    "                    d_wn[d,0] = 1\n",
    "        #Second winding number\n",
    "        if i+j == L-1:\n",
    "            if j != 0:\n",
    "                if l == 2:\n",
    "                    d_wn[d,1] = 1\n",
    "        if i+j == L:\n",
    "            if j != 0:\n",
    "                if l == 5:\n",
    "                    d_wn[d,1] = 1\n",
    "        if j == 0:\n",
    "            if i >= L and i <= 2*L-1:\n",
    "                if l == 3:\n",
    "                    d_wn[d,1] = 1\n",
    "            if i == 2*L-1:\n",
    "                if l == 2:\n",
    "                    d_wn[d,1] = 1\n",
    "        if j == 1:\n",
    "            if i >= L-1 and i < 2*L-1:\n",
    "                if l == 0:\n",
    "                    d_wn[d,1] = 1\n",
    "    return d_wn"
   ]
  },
  {
   "cell_type": "code",
   "execution_count": null,
   "metadata": {
    "collapsed": true
   },
   "outputs": [],
   "source": [
    "def d_J2d(d_ijl, ijl_d, L):\n",
    "    d_J2d = np.array([[[ijl_d[(i, j, nl)]] for nl in [(l-1)%6, (l+1)%6]]\n",
    "                      for (i, j, l) in d_ijl], dtype = 'int32')\n",
    "    return d_J2d"
   ]
  },
  {
   "cell_type": "code",
   "execution_count": null,
   "metadata": {
    "collapsed": true
   },
   "outputs": [],
   "source": [
    "def d_J3d(d_ijl, ijl_d, L):\n",
    "    nextj3dualbonds = [[(0, -1, 3), (1, -1, 3)],\n",
    "                    [(1, -1, 4), (1, 0, 4)],\n",
    "                    [(1, 0, 5), (0, 1, 5)],\n",
    "                    [(0, 1, 0), (-1, 1, 0)],\n",
    "                    [(-1, 1, 1), (-1, 0, 1)],# relative location of dualbonds\n",
    "                    [(-1, 0, 2), (0, -1, 2)]] # connected via j3 paths\n",
    "    d_J3d = [[[(i + nextj3dualbonds[l][u][0], j + nextj3dualbonds[l][u][1], \n",
    "                nextj3dualbonds[l][u][2])] for u in range (2)] \n",
    "             for (i, j, l) in d_ijl]\n",
    "    # fixing the boundary conditions:\n",
    "    d_J3d = np.array([[[ijl_d[fixbc(ni, nj, nl, L)] for (ni, nj, nl) in path]\n",
    "                       for path in dimd_paths] for dimd_paths in d_J3d], \n",
    "                     dtype = 'int32') \n",
    "    return d_J3d"
   ]
  },
  {
   "cell_type": "code",
   "execution_count": null,
   "metadata": {
    "collapsed": true
   },
   "outputs": [],
   "source": [
    "def d_J3std(d_ijl, ijl_d, L):\n",
    "    d_J3std = np.array([[[ijl_d[(i, j, nl)]  for nl in [(nc-1)%6, nc, (nc+1)%6]\n",
    "                           if nl != l] for nc in [(l-1)%6, l, (l+1)%6]]\n",
    "                         for (i, j, l) in d_ijl], dtype = 'int32')\n",
    "    \n",
    "    return d_J3std"
   ]
  },
  {
   "cell_type": "code",
   "execution_count": null,
   "metadata": {
    "collapsed": true
   },
   "outputs": [],
   "source": [
    "def d_J4d(d_ijl, ijl_d, L):\n",
    "    #list of the surrounding centers (i', j') in the order Left, Bottom Left, Bottom Right, Right\n",
    "    centers = [[(-1, 0), (0, -1), (1, -1), (1, 0)],\n",
    "              [(0, -1), (1, -1), (1, 0),(0, 1)],\n",
    "              [(1, -1), (1, 0), (0, 1), (-1, 1)],\n",
    "              [(1, 0), (0, 1), (-1, 1), (-1, 0)],\n",
    "              [(0, 1), (-1, 1), (-1, 0), (0, -1)],\n",
    "              [(-1, 1), (-1, 0), (0, -1), (1, -1)]]\n",
    "\n",
    "    #table without fixed bc:\n",
    "    d_J4d = [[[(i + centers[l][1][0], j + centers[l][1][1], (l+3)%6), \n",
    "               (i + centers[l][1][0], j + centers[l][1][1], (l+4)%6)],\n",
    "              [(i + centers[l][2][0], j + centers[l][2][1], (l+3)%6), \n",
    "               (i + centers[l][2][0], j + centers[l][2][1], (l+2)%6)],\n",
    "              [(i, j, (l+1)%6), (i + centers[l][1][0], \n",
    "                                 j + centers[l][1][1], (l+3)%6)],\n",
    "              [(i, j, (l-1)%6), (i + centers[l][2][0], \n",
    "                                 j + centers[l][2][1], (l-3)%6)],\n",
    "              [(i, j, (l+1)%6), (i + centers[l][3][0], \n",
    "                                 j + centers[l][3][1], (l-2)%6)],\n",
    "              [(i, j, (l-1)%6), (i + centers[l][0][0], \n",
    "                                 j + centers[l][0][1], (l+2)%6)]] for (i, j, l) in d_ijl]\n",
    "\n",
    "    #fix the boundary conditions\n",
    "    d_J4d = np.array([[[ijl_d[fixbc(ni, nj, nl, L)] for (ni, nj, nl) in path]\n",
    "                       for path in dimd_paths] for dimd_paths in d_J4d], \n",
    "                     dtype = 'int32')\n",
    "    return d_J4d"
   ]
  }
 ],
 "metadata": {
  "kernelspec": {
   "display_name": "Python 3",
   "language": "python",
   "name": "python3"
  },
  "language_info": {
   "codemirror_mode": {
    "name": "ipython",
    "version": 3
   },
   "file_extension": ".py",
   "mimetype": "text/x-python",
   "name": "python",
   "nbconvert_exporter": "python",
   "pygments_lexer": "ipython3",
   "version": "3.5.3"
  }
 },
 "nbformat": 4,
 "nbformat_minor": 2
}
