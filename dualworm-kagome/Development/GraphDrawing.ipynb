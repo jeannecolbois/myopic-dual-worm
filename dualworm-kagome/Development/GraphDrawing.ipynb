{
 "cells": [
  {
   "cell_type": "code",
   "execution_count": null,
   "metadata": {},
   "outputs": [],
   "source": [
    "import numpy as np\n",
    "from matplotlib.collections import LineCollection\n",
    "import matplotlib.pyplot as plt"
   ]
  },
  {
   "cell_type": "code",
   "execution_count": null,
   "metadata": {},
   "outputs": [],
   "source": [
    "def draw_nodes(pos, nodelist, c, **kargs):\n",
    "    '''\n",
    "        This function draws the nodes of a graph\n",
    "    '''\n",
    "    \n",
    "    ax = plt.gca()\n",
    "\n",
    "    xy = np.asarray([pos[v] for v in nodelist])\n",
    "    node_collection = plt.scatter(xy[:, 0], xy[:, 1], c = c, **kargs)\n",
    "    if isinstance(c, list):\n",
    "        plt.colorbar()\n",
    "    node_collection.set_zorder(2)\n",
    "    return node_collection"
   ]
  },
  {
   "cell_type": "code",
   "execution_count": null,
   "metadata": {},
   "outputs": [],
   "source": [
    "def draw_edges(pos, edgelist, *args, **kargs):\n",
    "    '''\n",
    "        This function draws the edges of a graph\n",
    "    '''\n",
    "    ax = plt.gca()\n",
    "\n",
    "    edge_pos = np.asarray([(pos[e[0]], pos[e[1]]) for e in edgelist])\n",
    "    edge_collection = LineCollection(edge_pos, *args, **kargs)\n",
    "    edge_collection.set_zorder(1)  # edges go behind nodes\n",
    "    ax.add_collection(edge_collection)"
   ]
  },
  {
   "cell_type": "code",
   "execution_count": null,
   "metadata": {},
   "outputs": [],
   "source": [
    "def draw_function(pos, function, nodelist, marker = 'H', *args, **kargs):\n",
    "    '''\n",
    "        This function draws a function over a graph\n",
    "    '''\n",
    "    #create the colormap according to the value of the function\n",
    "    color = [function[v] for v in nodelist]\n",
    "    #draw the nodes using the colormap\n",
    "    draw_nodes(pos, nodelist, c = color, edgecolors = 'none', cmap = 'plasma', marker = marker, **kargs)"
   ]
  }
 ],
 "metadata": {
  "kernelspec": {
   "display_name": "Python 3",
   "language": "python",
   "name": "python3"
  },
  "language_info": {
   "codemirror_mode": {
    "name": "ipython",
    "version": 3
   },
   "file_extension": ".py",
   "mimetype": "text/x-python",
   "name": "python",
   "nbconvert_exporter": "python",
   "pygments_lexer": "ipython3",
   "version": "3.5.3"
  }
 },
 "nbformat": 4,
 "nbformat_minor": 2
}
