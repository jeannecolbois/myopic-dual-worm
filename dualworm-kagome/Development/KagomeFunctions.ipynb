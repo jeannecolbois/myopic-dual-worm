{
 "cells": [
  {
   "cell_type": "code",
   "execution_count": null,
   "metadata": {
    "collapsed": true
   },
   "outputs": [],
   "source": [
    "import numpy as np\n",
    "import dimers as dim"
   ]
  },
  {
   "cell_type": "code",
   "execution_count": null,
   "metadata": {
    "collapsed": true
   },
   "outputs": [],
   "source": [
    "def createdualtable(L):\n",
    "    '''\n",
    "        Creates the table of dual bonds corresponding to a dice lattice of side size L.\n",
    "        Returns a table identifing an int with the three coordinates of the dual bond \n",
    "        and a dictionnary identifying the three coordinates with the dual bond's int \n",
    "        index. This allows to handle other relations between dual bonds in an\n",
    "        easier way.\n",
    "    '''\n",
    "    d_ijl = [(i, j, l) for i in range(2*L) for j in range (2*L) for l in range(6) if (i+j > L-2) and (i+j < 3*L-1)]\n",
    "    \n",
    "    # we need as well a dictionary to associate values of (i,j,l) to the correct index d\n",
    "    ijl_d = {} # new empty dictionary\n",
    "    for d, triplet in enumerate(d_ijl): # same as for d in range(d_ijl) triplet = d_ijl[d]\n",
    "        ijl_d[triplet] = d\n",
    "    return (d_ijl, ijl_d)"
   ]
  },
  {
   "cell_type": "code",
   "execution_count": null,
   "metadata": {
    "collapsed": true
   },
   "outputs": [],
   "source": [
    "def createspinsitetable(L):\n",
    "    '''\n",
    "        Creates the table of spin sites corresponding to a dice lattice \n",
    "        of side size L.\n",
    "        Returns a table identifing an int with the three coordinates of \n",
    "        the spin site and a dictionnary identifying the\n",
    "        three coordinates with the spin site's int index. This allows \n",
    "        to handle other relations between spin sites in an\n",
    "        easier way.\n",
    "    '''\n",
    "    s_ijl = [(i, j, l) for i in range(2*L) for j in range(2*L) for l in range(3) if (i+j > L-2) and (i+j < 3*L-1)]\n",
    "    # dictionary\n",
    "    ijl_s = {}\n",
    "    for s, triplet in enumerate(s_ijl):\n",
    "        ijl_s[triplet] = s\n",
    "    return s_ijl, ijl_s"
   ]
  },
  {
   "cell_type": "code",
   "execution_count": null,
   "metadata": {
    "collapsed": true
   },
   "outputs": [],
   "source": [
    "def fixbc(i, j, l, L):\n",
    "    '''\n",
    "        For a lattice side size L, this function handles the periodic \n",
    "        boundary conditions by returning the corresponding\n",
    "        value of i, j, l if they match a point which is just outside \n",
    "        the borders of the considered cell.\n",
    "    '''\n",
    "    if i == 2*L : # bottom right mapped to top left\n",
    "        i = 0\n",
    "        j += L\n",
    "    if j == 2*L: # top mapped to bottom\n",
    "        i += L\n",
    "        j = 0\n",
    "    if i+j == L-2: # bottom left mapped to top right\n",
    "        i += L\n",
    "        j += L\n",
    "    if i+j == 3*L-1: # top right mapped to bottom left\n",
    "        i -= L\n",
    "        j -= L\n",
    "    if j == -1: # bottom mapped to top\n",
    "        i -= L\n",
    "        j = 2*L-1\n",
    "    if i == -1: # top left mapped to bottom right\n",
    "        i = 2*L-1\n",
    "        j -= L\n",
    "    return (i, j, l)"
   ]
  },
  {
   "cell_type": "code",
   "execution_count": null,
   "metadata": {
    "collapsed": true
   },
   "outputs": [],
   "source": [
    "def fullfixbc(i,j,l,L, ijl_s):\n",
    "    '''\n",
    "        For a lattice side size L, this function handles the periodic \n",
    "        boundary conditions by returning the appropriate values\n",
    "        of i, j, l if they initially corresponded to neighbouring cells\n",
    "    '''\n",
    "    listnei = [(0,0),\n",
    "               (-2, 1), (-1,2), (1,1),\n",
    "               (2,-1), (1,-2),(-1,-1)]\n",
    "    \n",
    "    (si, sj, sl) = (i, j, l)\n",
    "    for nei in listnei:\n",
    "        (ni, nj, nl) = (i+nei[0]*L, j+nei[1]*L, l)\n",
    "        if (ni, nj, nl) in ijl_s:\n",
    "            (si, sj, sl) = (ni, nj, nl)\n",
    "            \n",
    "    if (si, sj, sl) not in ijl_s:\n",
    "        raise Exception(\"(si, sj, sl) = ({0},{1},{2}) not in ijl_s\".format(si, sj, sl))\n",
    "        \n",
    "    return (si, sj, sl)"
   ]
  },
  {
   "cell_type": "code",
   "execution_count": null,
   "metadata": {
    "collapsed": true
   },
   "outputs": [],
   "source": [
    "def dualbondspinsitelinks(d_ijl, ijl_s, L):\n",
    "    '''\n",
    "        For a lattice with side size L, this function  returns two tables:\n",
    "        > d_2s: for each dual bond, which are the 2spin sites around it.\n",
    "        > s2_d: for each pair of spin sites nearest to one another, which \n",
    "        is the dual bond between them (dictionary)\n",
    "    '''\n",
    "    linkedspinsite = [[(0, -1, 1),(1, -1, 2)],\n",
    "                  [(1, -1, 2),(0, 0, 0)],\n",
    "                  [(0, 0, 0),(0, 0, 1)],\n",
    "                  [(0, 0, 1),(0, 0, 2)],\n",
    "                  [(0, 0, 2),(-1, 0, 0)],\n",
    "                  [(-1, 0, 0),(0, -1, 1)]]\n",
    "    # without worrying about periodic BC:\n",
    "    d_2s = [[(i + linkedspinsite[l][u][0], j + linkedspinsite[l][u][1], linkedspinsite[l][u][2]) for u in range(2)] for (i, j, l) in d_ijl]\n",
    "    # fix the periodic boundary conditions\n",
    "    d_2s = np.array([[ijl_s[fixbc(si, sj, sl, L)] for (si, sj, sl) in dimd] for dimd in d_2s], dtype = 'int32')\n",
    "\n",
    "    s2_d = {}#empty dictionary\n",
    "    for d, [s1, s2] in enumerate(d_2s):\n",
    "        s2_d[(s1, s2)] = d\n",
    "        s2_d[(s2, s1)] = d #make sure that both orders work\n",
    "\n",
    "    return d_2s, s2_d"
   ]
  },
  {
   "cell_type": "code",
   "execution_count": null,
   "metadata": {
    "collapsed": true
   },
   "outputs": [],
   "source": [
    "def createchargesitestable(L):\n",
    "    '''\n",
    "        Creates the table of charge sites corresponding to a dice lattice \n",
    "        of side size L.\n",
    "        Returns a table identifing an int with the three coordinates of \n",
    "        the charge site and a dictionnary identifying the\n",
    "        three coordinates with the charge site's int index. This allows \n",
    "        to handle other relations between charge sites in an\n",
    "        easier way.\n",
    "    '''\n",
    "    c_ijl = [(i, j, l) for i in range(2*L) for j in range(2*L) for l in range(2) if (i+j > L-2) and (i+j < 3*L-1)]\n",
    "    # dictionary\n",
    "    ijl_c = {}\n",
    "    for c, triplet in enumerate(c_ijl):\n",
    "        ijl_c[triplet] = c\n",
    "    return c_ijl, ijl_c"
   ]
  },
  {
   "cell_type": "code",
   "execution_count": null,
   "metadata": {
    "collapsed": true
   },
   "outputs": [],
   "source": [
    "def charge2spins(c_ijl, ijl_s, L):\n",
    "    '''\n",
    "        Returns the three spin sites associated with each charge site,\n",
    "        and a sign associated with the way the charge should be computed\n",
    "    '''\n",
    "    relspins = [[(0,0,0),(0,0,1),(1,0,2)],[(0,0,1),(0,0,2),(-1,1,0)]]\n",
    "    # without worrying about periodic BC:\n",
    "    c2s = [[(ci+relspins[cl][u][0], cj++relspins[cl][u][1], relspins[cl][u][2])\n",
    "                      for u in range(3)] for (ci,cj,cl) in c_ijl]\n",
    "    csign = [2*cl -1 for (ci,cj,cl) in c_ijl]\n",
    "    # fix the periodic boundary conditions\n",
    "    c2s = [[ijl_s[fixbc(si,sj,sl,L)] for (si,sj,sl) in cspins]\n",
    "                    for cspins in c2s]\n",
    "    return c2s, csign"
   ]
  },
  {
   "cell_type": "code",
   "execution_count": null,
   "metadata": {
    "collapsed": true
   },
   "outputs": [],
   "source": [
    "def spin2plaquette(ijl_s, s_ijl, s2_d, L):\n",
    "    '''\n",
    "        For a lattice with side size L, this function  returns a table giving the\n",
    "        four dimers surrounding it (which one would have to flip to flip the spin)\n",
    "        and the four nn spins.\n",
    "    '''\n",
    "    nnspinslinks = [[(0,0,1),(1,0,2),(1,-1,1),(1,-1,2)],\n",
    "               [(0,0,0),(0,0,2),(1,0,2),(-1,1,0)],\n",
    "               [(0,0,1),(-1,0,0),(-1,0,1),(-1,1,0)]]\n",
    "    #without worrying about the PBC:\n",
    "    nnspins = [[(i+nnspinslinks[l][u][0], j+nnspinslinks[l][u][1],nnspinslinks[l][u][2]) for u in range(4)]\n",
    "               for (i,j,l) in s_ijl]\n",
    "    nnspins = [[ijl_s[fixbc(si, sj, sl, L)] for (si,sj,sl) in spinsneighs]\n",
    "                        for spinsneighs in nnspins]\n",
    "    s2p = [[s2_d[(s1,s2)] for s2 in spinsneighs] for (s1, spinsneighs) in enumerate(nnspins)]\n",
    "    nnspins = np.array(nnspins, dtype = 'int32')\n",
    "    s2p = np.array(s2p, dtype = 'int32')\n",
    "    \n",
    "    return nnspins, s2p"
   ]
  },
  {
   "cell_type": "code",
   "execution_count": null,
   "metadata": {
    "collapsed": true
   },
   "outputs": [],
   "source": [
    "def spins_dimers_for_update(s_ijl, ijl_s, s2_d, L):\n",
    "    '''\n",
    "        Returns a list of spin site indices and a list of dual bond indices. \n",
    "        Going through the spins list allows to map the whole\n",
    "        spin state of the system. The ith dimer lies between the ith and \n",
    "        ith+1 spin.\n",
    "    '''\n",
    "    spinsiteslist = list()\n",
    "    dualbondslist = list()\n",
    "    #first spin\n",
    "    i = 0\n",
    "    j = 2*L - 1\n",
    "    l = 2\n",
    "    id_s = ijl_s[(i, j, l)]\n",
    "    spinsiteslist.append(id_s)\n",
    "    (ni, nj, nl) = (i, j, l-1)\n",
    "\n",
    "    allsites = False\n",
    "    #as long as not every spin site reached: build a new loop\n",
    "    while (allsites == False):\n",
    "        loopclosed = False\n",
    "        #as long as current loop not closed: go to a new site (i, j)\n",
    "        while(loopclosed == False):\n",
    "            sitedone = False\n",
    "            #as long as the spin sites linked to site (i, j) haven't all been reached: nl->nl-1\n",
    "            while(sitedone == False):\n",
    "                #update the spins depending on the dimer between them\n",
    "                id_ns = ijl_s[ni, nj, nl] #\n",
    "                spinsiteslist.append(id_ns)\n",
    "                dualbondslist.append(s2_d[id_s, id_ns])\n",
    "                id_s = id_ns #save new spin site index as new old spin site index\n",
    "                if (nl > 0):\n",
    "                    nl = nl-1\n",
    "                else: # if nl = 0, the next site is ni + 1, nl = 2\n",
    "                    sitedone = True\n",
    "            ni = ni + 1\n",
    "            nl = 2\n",
    "            (ni, nj, nl) = fixbc(ni, nj, nl, L)\n",
    "            if ijl_s[(ni, nj, nl)] in spinsiteslist and (ni, nj, nl) == (i, j, l):\n",
    "                loopclosed = True # when the loop is closed, move to the next one\n",
    "\n",
    "        id_s = ijl_s[fixbc(i-1, j, 0, L)] # take the new starting point\n",
    "        i = i\n",
    "        j = j-1 # id the starting point for the new loop\n",
    "        l = 2\n",
    "        (ni, nj, nl) = (i, j, l)\n",
    "        #check whether this is a spin site which was already visited\n",
    "        if ijl_s[(i, j, l)] in spinsiteslist:\n",
    "            allsites = True\n",
    "\n",
    "    return spinsiteslist, dualbondslist"
   ]
  },
  {
   "cell_type": "code",
   "execution_count": null,
   "metadata": {
    "collapsed": true
   },
   "outputs": [],
   "source": [
    "def nsitesconnections(d_ijl, ijl_d, L):\n",
    "    '''\n",
    "        For each dual bond, which are the other dual bonds which are touching \n",
    "        it through an \"n\" site\n",
    "        (in the kagomé case, that's a site with 6 dualbonds)\n",
    "    '''\n",
    "    # the dual bond is connected to each dual bond on the same (ij) n site, only not itself: l =/= nl\n",
    "    d_nd = np.array([[ijl_d[(i,j,nl)] for nl in range(6) if (nl != l)] for (i,j,l) in d_ijl], dtype = 'int32')\n",
    "    # using that the lists will be ordered in the same way\n",
    "    # no issue with the boundary conditions    int ndualbonds = -1;\n",
    "    return d_nd"
   ]
  },
  {
   "cell_type": "code",
   "execution_count": null,
   "metadata": {
    "collapsed": true
   },
   "outputs": [],
   "source": [
    "def vsitesconnections(d_ijl, ijl_d, L):\n",
    "    '''\n",
    "        For each dual bond, which are the other dual bonds which are touching \n",
    "        it through an \"v\" site\n",
    "        (in the kagomé case, that's a site with 3 dual bonds)\n",
    "    '''\n",
    "    # first, a list for each of the six l values on how to find the neighbours\n",
    "    # (increase i, increase j, new l)\n",
    "    nextdualbonds = [[(0, -1, 2), (1, -1, 4)],\n",
    "              [(1, -1, 3), (1, 0, 5)],\n",
    "              [(1, 0, 4), (0, 1, 0)],\n",
    "              [(0, 1, 5), (-1, 1, 1)],\n",
    "              [(-1, 1, 0), (-1, 0, 2)],\n",
    "              [(-1, 0, 1), (0, -1, 3)]]\n",
    "    # this would give the following table, except we have to fix boundary conditions first\n",
    "    d_vd = [[(i + nextdualbonds[l][u][0], j + nextdualbonds[l][u][1], nextdualbonds[l][u][2]) for u in range(2)] for (i, j, l) in d_ijl]\n",
    "\n",
    "    # finally, create the list\n",
    "    d_vd = np.array([[ijl_d[fixbc(ni, nj, nl, L)] for (ni, nj, nl) in dimd] for dimd in d_vd], dtype='int32')\n",
    "    return d_vd"
   ]
  },
  {
   "cell_type": "code",
   "execution_count": null,
   "metadata": {
    "collapsed": true
   },
   "outputs": [],
   "source": [
    "def windingtable(d_ijl, L):\n",
    "    '''\n",
    "        For each dual bond, is it on one of the two lines which are used to \n",
    "        count the winding numbers?\n",
    "    '''\n",
    "    d_wn = np.zeros((len(d_ijl), 2), dtype = 'int32')\n",
    "    for d, (i, j, l) in enumerate(d_ijl) :\n",
    "        # First winding number\n",
    "        if i == 0:\n",
    "            if j > L-2 and j < 2*L-1:\n",
    "                if l == 1:\n",
    "                    d_wn[d,0] = 1\n",
    "            if j == L - 1:\n",
    "                if l == 0:\n",
    "                    d_wn[d,0] = 1 #other case handled above\n",
    "        if j == 2*L-1:\n",
    "            if i > 0 and i < L:\n",
    "                if l == 0:\n",
    "                    d_wn[d,0] = 1\n",
    "        if i == 1:\n",
    "            if j > L-2 and j < 2*L-1:\n",
    "                if l == 4:\n",
    "                    d_wn[d,0] = 1\n",
    "        if j == 2*L-2:\n",
    "            if i > 0 and i <= L:\n",
    "                if l == 3:\n",
    "                    d_wn[d,0] = 1\n",
    "        #Second winding number\n",
    "        if i+j == L-1:\n",
    "            if j != 0:\n",
    "                if l == 2:\n",
    "                    d_wn[d,1] = 1\n",
    "        if i+j == L:\n",
    "            if j != 0:\n",
    "                if l == 5:\n",
    "                    d_wn[d,1] = 1\n",
    "        if j == 0:\n",
    "            if i >= L and i <= 2*L-1:\n",
    "                if l == 3:\n",
    "                    d_wn[d,1] = 1\n",
    "            if i == 2*L-1:\n",
    "                if l == 2:\n",
    "                    d_wn[d,1] = 1\n",
    "        if j == 1:\n",
    "            if i >= L-1 and i < 2*L-1:\n",
    "                if l == 0:\n",
    "                    d_wn[d,1] = 1\n",
    "    return d_wn"
   ]
  },
  {
   "cell_type": "code",
   "execution_count": null,
   "metadata": {
    "collapsed": true
   },
   "outputs": [],
   "source": [
    "################## NEIGHBOURS STRUCTURE #################\n",
    "def NNpairs(ijl_s, s_ijl, L):\n",
    "    nnpairslist = [[(0,0,0),(0,0,1)],[(0,0,0),(1,0,2)],[(0,0,0),(1,-1,1)],[(0,0,0),(1,-1,2)],\n",
    "               [(0,0,1),(1,0,2)],[(1,-1,1),(1,-1,2)]]\n",
    "\n",
    "    #without worrying about the PBC:\n",
    "    nnpairs = [[[(i+nnpairslist[p][u][0], j+nnpairslist[p][u][1],nnpairslist[p][u][2]) for u in range(2)]\n",
    "               for p in range(6)] for (i,j,l) in s_ijl if l == 0]\n",
    "    nnpairs = [[ijl_s[fixbc(si, sj, sl, L)] for (si, sj, sl) in p] for listsp in nnpairs for p in listsp ] \n",
    "    return nnpairs"
   ]
  },
  {
   "cell_type": "code",
   "execution_count": null,
   "metadata": {
    "collapsed": true
   },
   "outputs": [],
   "source": [
    "def NN2pairs(ijl_s, s_ijl, L):\n",
    "    nnpairslist = [[(0,0,0),(1,0,1)],[(0,0,0),(0,0,2)],[(0,0,1),(1,-1,2)],[(0,0,1),(0,1,0)],\n",
    "                   [(1,0,2),(1,-1,1)],[(1,0,2),(-1,1,0)]]\n",
    "\n",
    "    #without worrying about the PBC:\n",
    "    nn2pairs = [[[(i+nnpairslist[p][u][0], j+nnpairslist[p][u][1], nnpairslist[p][u][2]) for u in range(2)]\n",
    "               for p in range(6)] for (i,j,l) in s_ijl if l == 0]\n",
    "    nn2pairs = [[ijl_s[fixbc(si, sj, sl, L)] for (si, sj, sl) in p]  for listsp in nn2pairs for p in listsp]\n",
    "                       \n",
    "    return nn2pairs"
   ]
  },
  {
   "cell_type": "code",
   "execution_count": null,
   "metadata": {
    "collapsed": true
   },
   "outputs": [],
   "source": [
    "def NN3parpairs(ijl_s, s_ijl, L):\n",
    "    '''\n",
    "        For later use, this is NN3par\n",
    "    '''\n",
    "    nnpairslist = [[(0,0,0),(0,1,0)],[(0,0,0),(-1,1,0)],[(0,0,1),(1,-1,1)],[(0,0,1),(-1,0,1)],\n",
    "                   [(0,0,2),(1,0,2)],[(0,0,2),(0,1,2)]]\n",
    "\n",
    "    #without worrying about the PBC:\n",
    "    nn3parpairs = [[[(i+nnpairslist[p][u][0], j+nnpairslist[p][u][1], nnpairslist[p][u][2]) for u in range(2)]\n",
    "               for p in range(6)] for (i,j,l) in s_ijl if l == 0]\n",
    "    nn3parpairs = [[ijl_s[fixbc(si, sj, sl, L)] for (si, sj, sl) in p]  for listsp in nn3parpairs for p in listsp]\n",
    "                       \n",
    "    return nn3parpairs"
   ]
  },
  {
   "cell_type": "code",
   "execution_count": null,
   "metadata": {
    "collapsed": true
   },
   "outputs": [],
   "source": [
    "def NN3starpairs(ijl_s, s_ijl, L):\n",
    "    '''\n",
    "        For later use, this is NN3star\n",
    "    '''\n",
    "    nnpairslist = [[(0,0,0),(-1,0,0)],[(0,0,1),(0,-1,1)],[(0,0,2),(1,-1,2)]]\n",
    "\n",
    "    #without worrying about the PBC:\n",
    "    nn3starpairs = [[[(i+nnpairslist[p][u][0], j+nnpairslist[p][u][1], nnpairslist[p][u][2]) for u in range(2)]\n",
    "               for p in range(3)] for (i,j,l) in s_ijl if l == 0]\n",
    "    nn3starpairs = [[ijl_s[fixbc(si, sj, sl, L)] for (si, sj, sl) in p]  for listsp in nn3starpairs for p in listsp]\n",
    "\n",
    "    return nn3starpairs"
   ]
  },
  {
   "cell_type": "code",
   "execution_count": null,
   "metadata": {
    "collapsed": true
   },
   "outputs": [],
   "source": [
    "################### ENERGY ##############################"
   ]
  },
  {
   "cell_type": "code",
   "execution_count": null,
   "metadata": {
    "collapsed": true
   },
   "outputs": [],
   "source": [
    "def d_J2d(d_ijl, ijl_d, L):\n",
    "    d_J2d = np.array([[[ijl_d[(i, j, nl)]] for nl in [(l-1)%6, (l+1)%6]]\n",
    "                      for (i, j, l) in d_ijl], dtype = 'int32')\n",
    "    return d_J2d"
   ]
  },
  {
   "cell_type": "code",
   "execution_count": null,
   "metadata": {
    "collapsed": true
   },
   "outputs": [],
   "source": [
    "def d_J3d(d_ijl, ijl_d, L):\n",
    "    nextj3dualbonds = [[(0, -1, 3), (1, -1, 3)],\n",
    "                    [(1, -1, 4), (1, 0, 4)],\n",
    "                    [(1, 0, 5), (0, 1, 5)],\n",
    "                    [(0, 1, 0), (-1, 1, 0)],\n",
    "                    [(-1, 1, 1), (-1, 0, 1)],# relative location of dualbonds\n",
    "                    [(-1, 0, 2), (0, -1, 2)]] # connected via j3 paths\n",
    "    d_J3d = [[[(i + nextj3dualbonds[l][u][0], j + nextj3dualbonds[l][u][1], \n",
    "                nextj3dualbonds[l][u][2])] for u in range (2)] \n",
    "             for (i, j, l) in d_ijl]\n",
    "    # fixing the boundary conditions:\n",
    "    d_J3d = np.array([[[ijl_d[fixbc(ni, nj, nl, L)] for (ni, nj, nl) in path]\n",
    "                       for path in dimd_paths] for dimd_paths in d_J3d], \n",
    "                     dtype = 'int32') \n",
    "    return d_J3d"
   ]
  },
  {
   "cell_type": "code",
   "execution_count": null,
   "metadata": {
    "collapsed": true
   },
   "outputs": [],
   "source": [
    "def d_J3std(d_ijl, ijl_d, L):\n",
    "    d_J3std = np.array([[[ijl_d[(i, j, nl)]  for nl in [(nc-1)%6, nc, (nc+1)%6]\n",
    "                           if nl != l] for nc in [(l-1)%6, l, (l+1)%6]]\n",
    "                         for (i, j, l) in d_ijl], dtype = 'int32')\n",
    "    \n",
    "    return d_J3std"
   ]
  },
  {
   "cell_type": "code",
   "execution_count": null,
   "metadata": {
    "collapsed": true
   },
   "outputs": [],
   "source": [
    "def d_J4d(d_ijl, ijl_d, L):\n",
    "    #list of the surrounding centers (i', j') in the order Left, Bottom Left, Bottom Right, Right\n",
    "    centers = [[(-1, 0), (0, -1), (1, -1), (1, 0)],\n",
    "              [(0, -1), (1, -1), (1, 0),(0, 1)],\n",
    "              [(1, -1), (1, 0), (0, 1), (-1, 1)],\n",
    "              [(1, 0), (0, 1), (-1, 1), (-1, 0)],\n",
    "              [(0, 1), (-1, 1), (-1, 0), (0, -1)],\n",
    "              [(-1, 1), (-1, 0), (0, -1), (1, -1)]]\n",
    "\n",
    "    #table without fixed bc:\n",
    "    d_J4d = [[[(i + centers[l][1][0], j + centers[l][1][1], (l+3)%6), \n",
    "               (i + centers[l][1][0], j + centers[l][1][1], (l+4)%6)],\n",
    "              [(i + centers[l][2][0], j + centers[l][2][1], (l+3)%6), \n",
    "               (i + centers[l][2][0], j + centers[l][2][1], (l+2)%6)],\n",
    "              [(i, j, (l+1)%6), (i + centers[l][1][0], \n",
    "                                 j + centers[l][1][1], (l+3)%6)],\n",
    "              [(i, j, (l-1)%6), (i + centers[l][2][0], \n",
    "                                 j + centers[l][2][1], (l-3)%6)],\n",
    "              [(i, j, (l+1)%6), (i + centers[l][3][0], \n",
    "                                 j + centers[l][3][1], (l-2)%6)],\n",
    "              [(i, j, (l-1)%6), (i + centers[l][0][0], \n",
    "                                 j + centers[l][0][1], (l+2)%6)]] for (i, j, l) in d_ijl]\n",
    "\n",
    "    #fix the boundary conditions\n",
    "    d_J4d = np.array([[[ijl_d[fixbc(ni, nj, nl, L)] for (ni, nj, nl) in path]\n",
    "                       for path in dimd_paths] for dimd_paths in d_J4d], \n",
    "                     dtype = 'int32')\n",
    "    return d_J4d"
   ]
  },
  {
   "cell_type": "code",
   "execution_count": null,
   "metadata": {
    "collapsed": true
   },
   "outputs": [],
   "source": [
    "###### DISTANCES #####"
   ]
  },
  {
   "cell_type": "code",
   "execution_count": null,
   "metadata": {
    "collapsed": true
   },
   "outputs": [],
   "source": [
    "def pairseparation(s1, s2, s_pos, n1, n2, Leff, distmax):\n",
    "    '''\n",
    "        Given two spin sites s1 and s2, this function returns the *minimal distance*\n",
    "        between the two sites (considering pbc) and tells if it is less than Leff/2\n",
    "        and distmax\n",
    "    '''\n",
    "    #What we will do is just list all the six possible positions for the spin s1 and take the minimal distance\n",
    "    pos1 = s_pos[s1]\n",
    "    pos2 = s_pos[s2]\n",
    "    pos2list = []\n",
    "    listnei = [(0, 0), (0, 1), (1, 0), (-1, 1), (-1, 0), (0, -1),(1, -1)]\n",
    "\n",
    "    for nei in listnei:\n",
    "        pos2list.append(pos2 + nei[0]*Leff*n1 + nei[1]*Leff*n2)\n",
    "\n",
    "    distmin = 10*Leff\n",
    "    lessthanmax = False\n",
    "    for pos in pos2list:\n",
    "        dist = np.linalg.norm(pos1 - pos)\n",
    "        if dist < distmin:\n",
    "            distmin = dist\n",
    "\n",
    "    if distmin < min(Leff/2, distmax):\n",
    "        lessthanmax = True\n",
    "\n",
    "    return lessthanmax, distmin"
   ]
  },
  {
   "cell_type": "code",
   "execution_count": null,
   "metadata": {
    "collapsed": true
   },
   "outputs": [],
   "source": [
    "def sitepairslist(srefs, s_pos, n1, n2, Leff, distmax):\n",
    "    '''\n",
    "        For a given structure, this function returns a table containing,\n",
    "        for each pair (coord s1, coord s2) at distance less than Leff/2, \n",
    "        the corresponding distance R and the *indices* s1 and s2 of the \n",
    "        spins in positions these positions. \n",
    "        We only consider couples containing spins in srefs.\n",
    "        It returns as well an ordered list of the distances\n",
    "        and a dictionary associating each distance to a set of spins.\n",
    "    '''\n",
    "    \n",
    "     # for each distance, we get the various spins that are at this distance from a given spin index\n",
    "\n",
    "    pairs = []\n",
    "    distmin = Leff\n",
    "    \n",
    "   \n",
    "    for s1 in srefs:\n",
    "        for s2 in range(len(s_pos)):\n",
    "            (consider, dist) = pairseparation(s1, s2, s_pos, n1, n2, Leff, distmax)\n",
    "            if consider:\n",
    "                if dist < distmin:\n",
    "                    distmin = dist\n",
    "                \n",
    "                pairs.append(((s1, s2), dist))\n",
    "                \n",
    "    distances = []\n",
    "    distances_spins = {}\n",
    "    for (spair, dist) in pairs:\n",
    "        dist = np.round(dist, 4)\n",
    "        if dist != 0:\n",
    "            if dist in distances:\n",
    "                distances_spins[dist].append(spair)\n",
    "            else:\n",
    "                distances.append(dist)\n",
    "                distances_spins[dist] = [spair]\n",
    "\n",
    "    return pairs, sorted(distances), distances_spins"
   ]
  },
  {
   "cell_type": "code",
   "execution_count": null,
   "metadata": {
    "collapsed": true
   },
   "outputs": [],
   "source": [
    "def reducedgraphkag(L, s_ijl, ijl_s):\n",
    "    '''\n",
    "        For the kagome lattice:\n",
    "        returns only one position for each spin (i,j,l) location\n",
    "    '''\n",
    "    #position\n",
    "    s_pos = {} #empty dictionary\n",
    "    ijl_pos = {}\n",
    "    for s, (i,j,l) in enumerate(s_ijl):\n",
    "        x = (2*i + j)\n",
    "        y = j * np.sqrt(3)\n",
    "        if l == 0:\n",
    "            x += 1\n",
    "        if l == 1:\n",
    "            x += 0.5\n",
    "            y +=np.sqrt(3) / 2.0\n",
    "        if l == 2:\n",
    "            x -= 0.5\n",
    "            y += np.sqrt(3) / 2.0\n",
    "        s_pos[s] = np.array((x,y))\n",
    "        ijl_pos[s_ijl[s]] = np.array((x,y))\n",
    "    return s_pos, ijl_pos"
   ]
  },
  {
   "cell_type": "code",
   "execution_count": null,
   "metadata": {
    "collapsed": true
   },
   "outputs": [],
   "source": [
    "def superlattice(L):\n",
    "    n1 = np.array([np.sqrt(3)/2, -1/2])\n",
    "    n2 = np.array([np.sqrt(3)/2, 1/2])\n",
    "    Leff = 2*np.sqrt(3)*L\n",
    "    S = np.sqrt(3)/2 * Leff**2\n",
    "\n",
    "    return n1, n2, Leff, S"
   ]
  },
  {
   "cell_type": "code",
   "execution_count": null,
   "metadata": {
    "collapsed": true
   },
   "outputs": [],
   "source": [
    "def referenceSpins(L, ijl_s):\n",
    "    '''\n",
    "        Returns the basic unit cell\n",
    "    '''\n",
    "    srefs = [ijl_s[(L,L,0)], ijl_s[(L,L,1)], ijl_s[(L,L,2)]]\n",
    "    return srefs"
   ]
  },
  {
   "cell_type": "code",
   "execution_count": null,
   "metadata": {
    "collapsed": true
   },
   "outputs": [],
   "source": [
    "def NearestNeighboursLists(L, distmax):\n",
    "    '''\n",
    "        Returns a list of distances between sites (smaller than distmax) with respect to the 3 reference sites, a dictionary of pairs of sites at a given distance and a list of the nearest neighbour pairs associated with a given site and distance.\n",
    "    '''\n",
    "    #dimer table and dictionary:\n",
    "    (d_ijl, ijl_d) = createdualtable(L)\n",
    "    #spin table and dictionary\n",
    "    (s_ijl, ijl_s) = createspinsitetable(L)\n",
    "    #two spins surrounding each dimer\n",
    "    (d_2s, s2_d) = dualbondspinsitelinks(d_ijl, ijl_s, L)\n",
    "    #dimer-dimer connection through entry sites\n",
    "    d_nd = nsitesconnections(d_ijl, ijl_d, L)\n",
    "    #dimer-dimer connection through vertex sites\n",
    "    d_vd = vsitesconnections(d_ijl, ijl_d, L)\n",
    "    #for each dimer, is it takeing into account in winding number 1 or 2?\n",
    "    d_wn = windingtable(d_ijl, L)\n",
    "    #list of spin indices and dimer indices for the loop allowing to update the spin state\n",
    "    (sidlist, didlist) = spins_dimers_for_update(s_ijl, ijl_s, s2_d, L)\n",
    "    \n",
    "    \n",
    "    #graph\n",
    "    (s_pos, ijl_pos) = reducedgraph(L, s_ijl, ijl_s)\n",
    "    pos = list(s_pos.values())\n",
    "    pos = [list(np.round(posval, 4)) for posval in pos]\n",
    "    #initialise the superlattice\n",
    "    (n1, n2, Leff, S) = superlattice(L)\n",
    "    \n",
    "    # getting the list of pairs that we're interested in, \n",
    "    srefs = [ijl_s[(L,L,0)], ijl_s[(L,L,1)], ijl_s[(L,L,2)]]\n",
    "    pairs, distances, distances_spins = sitepairslist(srefs, s_pos, n1,n2,Leff,distmax+0.01)\n",
    "    \n",
    "    NNList = [[[] for i in range(len(distances))] for j in range(len(srefs))]\n",
    "    \n",
    "    for i in range(len(distances)):\n",
    "        for pair in distances_spins[distances[i]]:\n",
    "            for j in range(len(srefs)):\n",
    "                if srefs[j] in pair:\n",
    "                    NNList[j][i].append(pair)\n",
    "\n",
    "    # correct the neighbour lists elements that can cause trouble\n",
    "    if distmax >= 2:\n",
    "        distances.insert(3, distances[2])\n",
    "    if distmax >= 3.5:\n",
    "        distances.insert(7, distances[6])\n",
    "    if distmax >= 2:\n",
    "        for j in range(len(srefs)):\n",
    "            NNList3_0 = []\n",
    "            NNList3_1 = []\n",
    "            for (s1,s2) in NNList[j][2]:\n",
    "                halfway = np.round((s_pos[s1] + s_pos[s2])/2, 4)\n",
    "                if list(halfway) in pos:\n",
    "                    NNList3_0.append((s1,s2))\n",
    "                else:\n",
    "                    NNList3_1.append((s1,s2))\n",
    "\n",
    "            if distmax >= 3.5:\n",
    "                NNList6_0 = []\n",
    "                NNList6_1 = []\n",
    "                for (s1,s2) in NNList[j][5]:\n",
    "                    halfway = np.round((s_pos[s1] + s_pos[s2])/2, 4)\n",
    "                    if list(halfway) in pos:\n",
    "                        NNList6_0.append((s1,s2))\n",
    "                    else:\n",
    "                        NNList6_1.append((s1,s2))\n",
    "\n",
    "                # replacing in NNList\n",
    "            NNList[j][2] =  NNList3_0\n",
    "            NNList[j].insert(3, NNList3_1)\n",
    "            if distmax >= 3.5:\n",
    "                NNList[j][6] = NNList6_0\n",
    "                NNList[j].insert(7, NNList6_1)\n",
    "\n",
    "    return distances, distances_spins, NNList, s_pos, srefs"
   ]
  },
  {
   "cell_type": "code",
   "execution_count": null,
   "metadata": {
    "collapsed": true
   },
   "outputs": [],
   "source": [
    "def reducedgraph(L, s_ijl, ijl_s):\n",
    "    '''\n",
    "        For the kagome lattice:\n",
    "        returns only one position for each spin (i,j,l) location\n",
    "    '''\n",
    "    #position\n",
    "    s_pos = {} #empty dictionary\n",
    "    ijl_pos = {}\n",
    "    for s, (i,j,l) in enumerate(s_ijl):\n",
    "        x = (2*i + j)\n",
    "        y = j * np.sqrt(3)\n",
    "        if l == 0:\n",
    "            x += 1\n",
    "        if l == 1:\n",
    "            x += 0.5\n",
    "            y +=np.sqrt(3) / 2.0\n",
    "        if l == 2:\n",
    "            x -= 0.5\n",
    "            y += np.sqrt(3) / 2.0\n",
    "        s_pos[s] = np.array((x,y))\n",
    "        ijl_pos[s_ijl[s]] = np.array((x,y))\n",
    "    return s_pos, ijl_pos\n"
   ]
  }
 ],
 "metadata": {
  "kernelspec": {
   "display_name": "Python 3",
   "language": "python",
   "name": "python3"
  },
  "language_info": {
   "codemirror_mode": {
    "name": "ipython",
    "version": 3
   },
   "file_extension": ".py",
   "mimetype": "text/x-python",
   "name": "python",
   "nbconvert_exporter": "python",
   "pygments_lexer": "ipython3",
   "version": "3.6.9"
  }
 },
 "nbformat": 4,
 "nbformat_minor": 2
}
