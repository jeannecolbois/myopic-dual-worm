{
 "cells": [
  {
   "cell_type": "code",
   "execution_count": 1,
   "metadata": {
    "collapsed": true
   },
   "outputs": [],
   "source": [
    "import KagomeFunctions as kf\n",
    "import KagomeDrawing as kdraw\n",
    "import matplotlib.pyplot as plt"
   ]
  },
  {
   "cell_type": "code",
   "execution_count": 2,
   "metadata": {
    "collapsed": false
   },
   "outputs": [],
   "source": [
    "L =2\n",
    "(s_ijl, ijl_s) = kf.createspinsitetable(L)\n",
    "(s_pos, ijl_spos) = kf.reducedgraph(L, s_ijl, ijl_s)"
   ]
  },
  {
   "cell_type": "code",
   "execution_count": 3,
   "metadata": {
    "collapsed": false
   },
   "outputs": [
    {
     "data": {
      "image/png": "[encoded data removed]",
      "text/plain": [
       "<Figure size 288x288 with 1 Axes>"
      ]
     },
     "metadata": {},
     "output_type": "display_data"
    }
   ],
   "source": [
    "f = [1 for i in range(len(s_ijl))]\n",
    "plt.figure(figsize = (2*L,2*L))\n",
    "plt.axis('equal')\n",
    "kdraw.plot_kag_nodes(L,2)\n",
    "plt.tick_params(  \n",
    "    which = 'both',      # both major and minor ticks are affected\n",
    "    bottom = False,      # ticks along the bottom edge are off\n",
    "    top = False,         # ticks along the top edge are off\n",
    "    labelbottom = False,\n",
    "    left = False,\n",
    "    right = False,\n",
    "    labelleft = False)\n",
    "plt.show()"
   ]
  },
  {
   "cell_type": "code",
   "execution_count": null,
   "metadata": {
    "collapsed": false
   },
   "outputs": [],
   "source": [
    "print((11,0,0) in ijl_s)\n",
    "print((0,13,0) in ijl_s)"
   ]
  }
 ],
 "metadata": {
  "kernelspec": {
   "display_name": "Python 3",
   "language": "python",
   "name": "python3"
  },
  "language_info": {
   "codemirror_mode": {
    "name": "ipython",
    "version": 3
   },
   "file_extension": ".py",
   "mimetype": "text/x-python",
   "name": "python",
   "nbconvert_exporter": "python",
   "pygments_lexer": "ipython3",
   "version": "3.5.3"
  }
 },
 "nbformat": 4,
 "nbformat_minor": 2
}
