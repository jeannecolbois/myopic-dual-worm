{
 "cells": [
  {
   "cell_type": "markdown",
   "metadata": {},
   "source": [
    "This is a few functions which will help with sorting state for the MFU"
   ]
  },
  {
   "cell_type": "code",
   "execution_count": null,
   "metadata": {
    "collapsed": true
   },
   "outputs": [],
   "source": [
    "import os,sys,inspect\n",
    "currentdir = os.path.dirname(os.path.abspath(inspect.getfile(inspect.currentframe())))\n",
    "parentdir = os.path.dirname(currentdir)\n",
    "sys.path.insert(0,parentdir)"
   ]
  },
  {
   "cell_type": "code",
   "execution_count": null,
   "metadata": {
    "collapsed": true
   },
   "outputs": [],
   "source": [
    "import numpy as np\n",
    "import DualwormFunctions as dw"
   ]
  },
  {
   "cell_type": "code",
   "execution_count": null,
   "metadata": {
    "collapsed": true
   },
   "outputs": [],
   "source": [
    "def StatesCompare(state1, state2, ratio, d_w1, d_w2, d_ijl, **kwargs):\n",
    "    '''\n",
    "        This function compares two states and decides whether they belong to the same family\n",
    "    '''\n",
    "    print(\"Comparing...\")\n",
    "    # 1 - Make the difference between the two dimer states\n",
    "    diffstate = state1-state2\n",
    "    \n",
    "    # 2 - Check if the two states are the same\n",
    "    same = False\n",
    "    if np.all(diffstate==0):\n",
    "        same = True\n",
    "        \n",
    "    if not same:\n",
    "        # 3 - Compute the winding number\n",
    "        # 3.1 - Find all the dual bonds where the state has flipped\n",
    "        df = np.nonzero(diffstate)\n",
    "        df = df[0]\n",
    "        \n",
    "        print(\"length of df = \", df.size)\n",
    "        # 3.2 - If the number of flipped dimers is high as compared to d_ijl,\n",
    "        # then we consider the move to be non-local (to avoid spending too much time\n",
    "        # finding out the winding number)\n",
    "        if df.size/len(d_ijl) > ratio:\n",
    "            samefamily = False\n",
    "        else:\n",
    "            # 3.3 find the dimers contributing to the winding numbers: \n",
    "            w1array = np.intersect1d(df, d_w1)\n",
    "            w2array = np.intersect1d(df, d_w2)\n",
    "            \n",
    "            print(\"w1 array:\", w1array)\n",
    "            print(\"w2 array:\", w2array)\n",
    "            \n",
    "            if w1array.size == 0 and w2array.size == 0:\n",
    "                samefamily = True\n",
    "            else: # if some of it is non-zero, then we do need to check.\n",
    "                samefamily = False\n",
    "            # FOR NOW WE DO IT SUPER SIMPLE; PROPER WAY WOULD BE:\n",
    "            \n",
    "            #if len(w1array) % 2 == 1 or len(w2array) % 2 == 1:\n",
    "            #    samefamily = False\n",
    "            #else:\n",
    "            #    # 3.4 - Actually go through the loopS to determine\n",
    "            #    # whether the move is local or not\n",
    "            #    df2empty = np.copy(df) # true copy\n",
    "            #    notempty = True\n",
    "            #    w1 = 0\n",
    "            #    w2 = 0\n",
    "            #    while notempty:\n",
    "            #         # Go through the loop and check the direction of the crossing each time.        \n",
    "                    \n",
    "    else:\n",
    "        samefamily = True\n",
    "    \n",
    "    return same, samefamily"
   ]
  },
  {
   "cell_type": "code",
   "execution_count": null,
   "metadata": {
    "collapsed": true
   },
   "outputs": [],
   "source": [
    "def FamiliesFromStates(hamiltonian,liststates,\n",
    "                       gsenergy, listspinstates,\n",
    "                       d_wn, latsize, ratio, d_ijl,\n",
    "                       **kwargs):\n",
    "    '''\n",
    "        From a list of states, this function creates families of similar state\n",
    "        Returns:\n",
    "        - families : list of families, which are list of states indices\n",
    "        - spinsfamilies: list of spin families, which are list of spinstates\n",
    "        (corresponding to the state indices)\n",
    "    '''\n",
    "    \n",
    "    d_w1, d_w2 = dw.winding1and2(d_wn)\n",
    "    families = []\n",
    "    for stateid in range(liststates.shape[0]):\n",
    "        print(\"stateid = \", stateid)\n",
    "        state = liststates[stateid]\n",
    "        # 1 - check that the state is in the ground state\n",
    "        check = dw.check_energy(hamiltonian, state, gsenergy, latsize = latsize)\n",
    "        \n",
    "        # 2 - If it is, compare it against all the families\n",
    "        if check:\n",
    "            if len(families) != 0:\n",
    "                # compare to the pre-existing families\n",
    "                notyet = True\n",
    "                index = 0\n",
    "                \n",
    "                # first round: check if it's the same state as one in an existing family\n",
    "                while notyet:\n",
    "                    if index < len(families):\n",
    "                        diffstate = state-liststates[families[index][0]]\n",
    "                        if np.all(diffstate==0):\n",
    "                            same = True\n",
    "                            notyet = False\n",
    "                \n",
    "                # second round: if not, check more carefully what's going on\n",
    "                index = 0\n",
    "                while notyet:\n",
    "                    print(\"Index: \", index)\n",
    "                    if index < len(families):\n",
    "                        [same, samefamily] =\\\n",
    "                        StatesCompare(state, liststates[families[index][0]], ratio,\n",
    "                                      d_w1, d_w2, d_ijl, **kwargs)\n",
    "                        if same:\n",
    "                            print(\"Somehow missed that it's the same the first time...\")\n",
    "                        elif (not same) and samefamily:\n",
    "                            families[index].append(stateid)\n",
    "                            notyet = False\n",
    "                        else:\n",
    "                            index += 1\n",
    "                    else:\n",
    "                        #the state does not belong to a pre-existing family\n",
    "                        families.append([stateid])\n",
    "                        notyet = False\n",
    "            else: # if families is empty\n",
    "                families.append([stateid])\n",
    "    \n",
    "    # 3 - Return the families\n",
    "    spinfamilies = []\n",
    "    for family in families:\n",
    "        spinfamily = []\n",
    "        for stateid in family:\n",
    "            spinfamily.append(listspinstates[stateid])\n",
    "        spinfamilies.append(spinfamily)\n",
    "        \n",
    "    print(\"Done!\")\n",
    "    return families, spinfamilies\n",
    "        "
   ]
  }
 ],
 "metadata": {
  "kernelspec": {
   "display_name": "Python 3",
   "language": "python",
   "name": "python3"
  },
  "language_info": {
   "codemirror_mode": {
    "name": "ipython",
    "version": 3
   },
   "file_extension": ".py",
   "mimetype": "text/x-python",
   "name": "python",
   "nbconvert_exporter": "python",
   "pygments_lexer": "ipython3",
   "version": "3.5.3"
  }
 },
 "nbformat": 4,
 "nbformat_minor": 2
}
