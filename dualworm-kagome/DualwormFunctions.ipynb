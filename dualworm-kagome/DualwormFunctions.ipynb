{
 "cells": [
  {
   "cell_type": "code",
   "execution_count": null,
   "metadata": {
    "collapsed": true
   },
   "outputs": [],
   "source": [
    "import numpy as np\n",
    "import dimers as dim\n",
    "import CleanKagomeFunctions as lattice"
   ]
  },
  {
   "cell_type": "code",
   "execution_count": null,
   "metadata": {
    "collapsed": true
   },
   "outputs": [],
   "source": [
    "def createdualtable(L):\n",
    "    '''\n",
    "        Creates the table of dual bonds corresponding to the dual lattice \n",
    "        of side size L.\n",
    "        Returns a table identifing an int with the three coordinates of \n",
    "        the dual bond and a dictionnary identifying the\n",
    "        three coordinates with the dual bond's int index. This allows to \n",
    "        handle other relations between dual bonds in an easier way.\n",
    "        > d_ijl: table dimer -> coordinates\n",
    "        > ijl_d: dictionnary coordinates -> dimer\n",
    "    '''\n",
    "    return lattice.createdualtable(L)"
   ]
  },
  {
   "cell_type": "code",
   "execution_count": null,
   "metadata": {
    "collapsed": true
   },
   "outputs": [],
   "source": [
    "def createspinsitetable(L):\n",
    "    '''\n",
    "        Creates the table of spin sites corresponding to a real space \n",
    "        lattice with dual of site size L.\n",
    "        Returns a table identifing an int with the coordinates of the \n",
    "        spin site and a dictionnary identifying the\n",
    "        three coordinates with the spin site's int index. This allows \n",
    "        to handle other relations between spin sites in an easier way.\n",
    "        > d_ijl: table spin -> coordinates\n",
    "        > ijl_d: dictionnary coordinates -> spins\n",
    "    '''\n",
    "    return lattice.creatspinsitetable(L)"
   ]
  },
  {
   "cell_type": "code",
   "execution_count": null,
   "metadata": {
    "collapsed": true
   },
   "outputs": [],
   "source": [
    "def dualbondspinsitelinks(d_ijl, ijl_s, L):\n",
    "    '''\n",
    "        For a lattice with side size L, this function  returns two tables:\n",
    "        > d_2s: for each dual bond, which are the 2spin sites around it.\n",
    "        > s2_d: for each pair of spin sites nearest to one another, which \n",
    "        is the dual bond between them (dictionary)\n",
    "    '''\n",
    "    return lattice.dualbondspinsitelinks(d_ijl, ijl_s, L)"
   ]
  },
  {
   "cell_type": "code",
   "execution_count": null,
   "metadata": {
    "collapsed": true
   },
   "outputs": [],
   "source": [
    "def spins_dimers_for_update(s_ijl, ijl_s, s2_d, L):\n",
    "    '''\n",
    "        Returns a list of spin site indices and a list of dual bond indices. \n",
    "        Going through the spins list allows to map the whole\n",
    "        spin state of the system. The ith dimer lies between the ith and ith+1 \n",
    "        spin.\n",
    "        > spinsiteslist: list of spin sites in the update order\n",
    "        > dualbondslist: list of dual bonds in the update order\n",
    "    '''\n",
    "    return lattice.spins_dimers_for_update(s_ijl, ijl_s, s2_d, L)"
   ]
  },
  {
   "cell_type": "code",
   "execution_count": null,
   "metadata": {
    "collapsed": true
   },
   "outputs": [],
   "source": [
    "def nsitesconnections(d_ijl, ijl_d, L):\n",
    "    '''\n",
    "        For each dual bond, which are the other dual bonds which are \n",
    "        touching it through an \"n\" site (in the kagomé case, that's a \n",
    "        site with 6 dualbonds)\n",
    "        > d_nd: array[d] = list of dual bonds connected to d by a n-site\n",
    "    '''\n",
    "    return lattice.nsitesconnections(d_ijl, ijl_d, L)"
   ]
  },
  {
   "cell_type": "code",
   "execution_count": null,
   "metadata": {
    "collapsed": true
   },
   "outputs": [],
   "source": [
    "def vsitesconnections(d_ijl, ijl_d, L):\n",
    "    '''\n",
    "        For each dual bond, which are the other dual bonds which are \n",
    "        touching it through an \"v\" site (in the kagomé case, that's a \n",
    "        site with 3 dual bonds)\n",
    "        > d_vd: array[d] = list of dual bonds connected to d by a v-site\n",
    "    '''\n",
    "    return lattice.nsitesconnections(d_ijl, ijl_d, L)"
   ]
  },
  {
   "cell_type": "code",
   "execution_count": null,
   "metadata": {
    "collapsed": true
   },
   "outputs": [],
   "source": [
    "def windingtable(d_ijl, L):\n",
    "    '''\n",
    "        For each dual bond, is it on one of the two lines which are used \n",
    "        to count the winding numbers?\n",
    "        > d_wn: array[d] = [w1? w2?]\n",
    "    '''\n",
    "    return lattice.windingtable(d_ijl, L)"
   ]
  },
  {
   "cell_type": "code",
   "execution_count": null,
   "metadata": {
    "collapsed": true
   },
   "outputs": [],
   "source": [
    "def Hamiltonian(couplings, d_ijl, ijl_d, L):\n",
    "    '''\n",
    "        Hamitlonian returns a list of couples (coupling value, interaction \n",
    "        table) where the interaction table states for each dual bond which \n",
    "        are the dual bonds intereacting with it with the mentionned coupling.\n",
    "        < couplings : dict. for each coupling ('J1', 'J2', 'J3', 'J3st', ...), associates the\n",
    "        value (use like a matlab struct)\n",
    "        > hamiltonian = [J1, (J2, d_J2d), (J3, d_J3d), ...]\n",
    "    '''\n",
    "    hamiltonian = [J1]\n",
    "    if 'J2' in couplings: # checks if key in dict.keys() but more efficiently (hash)\n",
    "        J2 = couplings('J2');\n",
    "        d_J2d = lattice.d_J2d(d_ijl, ijl_d, L)\n",
    "        hamiltonian.append((J2, d_J2d))\n",
    "\n",
    "    if 'J3' in couplings:\n",
    "        J3 = couplings('J3');\n",
    "        d_J3d = lattice.d_J3d(d_ijl, ijl_d, L)\n",
    "        hamiltonian.append((J3,d_J3d))\n",
    "            \n",
    "    if 'J3st' in couplings:\n",
    "        J3st = couplings('J3st');\n",
    "        J3st = J3st/2.0 # we are going to write two paths going each way!\n",
    "        d_J3std = lattice.d_J3std(d_ijl, ijl_d, L)\n",
    "        hamiltonian.append((J3st,d_J3std))\n",
    "    \n",
    "    if 'J4' in couplings:\n",
    "        J4 = couplings('J4');\n",
    "        d_J4d = lattice.d_J4d(d_ijl, ijl_d, L)\n",
    "        hamiltonian.append((J4,d_J4d))\n",
    "        \n",
    "    return hamiltonian\n",
    "        \n",
    "    \n",
    "    "
   ]
  }
 ],
 "metadata": {
  "kernelspec": {
   "display_name": "Python 3",
   "language": "python",
   "name": "python3"
  },
  "language_info": {
   "codemirror_mode": {
    "name": "ipython",
    "version": 3
   },
   "file_extension": ".py",
   "mimetype": "text/x-python",
   "name": "python",
   "nbconvert_exporter": "python",
   "pygments_lexer": "ipython3",
   "version": "3.5.3"
  }
 },
 "nbformat": 4,
 "nbformat_minor": 2
}
