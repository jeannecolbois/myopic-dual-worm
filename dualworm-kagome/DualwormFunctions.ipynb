{
 "cells": [
  {
   "cell_type": "code",
   "execution_count": null,
   "metadata": {
    "collapsed": true
   },
   "outputs": [],
   "source": [
    "import numpy as np\n",
    "import dimers as dim\n",
    "import CleanKagomeFunctions as lattice"
   ]
  },
  {
   "cell_type": "code",
   "execution_count": null,
   "metadata": {
    "collapsed": true
   },
   "outputs": [],
   "source": [
    "def createdualtable(L):\n",
    "    '''\n",
    "        Creates the table of dual bonds corresponding to the dual lattice \n",
    "        of side size L.\n",
    "        Returns a table identifing an int with the three coordinates of \n",
    "        the dual bond and a dictionnary identifying the\n",
    "        three coordinates with the dual bond's int index. This allows to \n",
    "        handle other relations between dual bonds in an easier way.\n",
    "        > d_ijl: table dimer -> coordinates\n",
    "        > ijl_d: dictionnary coordinates -> dimer\n",
    "    '''\n",
    "    return lattice.createdualtable(L)"
   ]
  },
  {
   "cell_type": "code",
   "execution_count": null,
   "metadata": {
    "collapsed": true
   },
   "outputs": [],
   "source": [
    "def createspinsitetable(L):\n",
    "    '''\n",
    "        Creates the table of spin sites corresponding to a real space \n",
    "        lattice with dual of site size L.\n",
    "        Returns a table identifing an int with the coordinates of the \n",
    "        spin site and a dictionnary identifying the\n",
    "        three coordinates with the spin site's int index. This allows \n",
    "        to handle other relations between spin sites in an easier way.\n",
    "        > d_ijl: table spin -> coordinates\n",
    "        > ijl_d: dictionnary coordinates -> spins\n",
    "    '''\n",
    "    return lattice.creatspinsitetable(L)"
   ]
  },
  {
   "cell_type": "code",
   "execution_count": null,
   "metadata": {
    "collapsed": true
   },
   "outputs": [],
   "source": [
    "def dualbondspinsitelinks(d_ijl, ijl_s, L):\n",
    "    '''\n",
    "        For a lattice with side size L, this function  returns two tables:\n",
    "        > d_2s: for each dual bond, which are the 2spin sites around it.\n",
    "        > s2_d: for each pair of spin sites nearest to one another, which \n",
    "        is the dual bond between them (dictionary)\n",
    "    '''\n",
    "    return lattice.dualbondspinsitelinks(d_ijl, ijl_s, L)"
   ]
  },
  {
   "cell_type": "code",
   "execution_count": null,
   "metadata": {
    "collapsed": true
   },
   "outputs": [],
   "source": [
    "def spins_dimers_for_update(s_ijl, ijl_s, s2_d, L):\n",
    "    '''\n",
    "        Returns a list of spin site indices and a list of dual bond indices. \n",
    "        Going through the spins list allows to map the whole\n",
    "        spin state of the system. The ith dimer lies between the ith and ith+1 \n",
    "        spin.\n",
    "        > spinsiteslist: list of spin sites in the update order\n",
    "        > dualbondslist: list of dual bonds in the update order\n",
    "    '''\n",
    "    return lattice.spins_dimers_for_update(s_ijl, ijl_s, s2_d, L)"
   ]
  },
  {
   "cell_type": "code",
   "execution_count": null,
   "metadata": {
    "collapsed": true
   },
   "outputs": [],
   "source": [
    "def nsitesconnections(d_ijl, ijl_d, L):\n",
    "    '''\n",
    "        For each dual bond, which are the other dual bonds which are \n",
    "        touching it through an \"n\" site (in the kagomé case, that's a \n",
    "        site with 6 dualbonds)\n",
    "        > d_nd: array[d] = list of dual bonds connected to d by a n-site\n",
    "    '''\n",
    "    return lattice.nsitesconnections(d_ijl, ijl_d, L)"
   ]
  },
  {
   "cell_type": "code",
   "execution_count": null,
   "metadata": {
    "collapsed": true
   },
   "outputs": [],
   "source": [
    "def vsitesconnections(d_ijl, ijl_d, L):\n",
    "    '''\n",
    "        For each dual bond, which are the other dual bonds which are \n",
    "        touching it through an \"v\" site (in the kagomé case, that's a \n",
    "        site with 3 dual bonds)\n",
    "        > d_vd: array[d] = list of dual bonds connected to d by a v-site\n",
    "    '''\n",
    "    return lattice.vsitesconnections(d_ijl, ijl_d, L)"
   ]
  },
  {
   "cell_type": "code",
   "execution_count": null,
   "metadata": {
    "collapsed": true
   },
   "outputs": [],
   "source": [
    "def windingtable(d_ijl, L):\n",
    "    '''\n",
    "        For each dual bond, is it on one of the two lines which are used \n",
    "        to count the winding numbers?\n",
    "        > d_wn: array[d] = [w1? w2?]\n",
    "    '''\n",
    "    return lattice.windingtable(d_ijl, L)"
   ]
  },
  {
   "cell_type": "code",
   "execution_count": null,
   "metadata": {
    "collapsed": true
   },
   "outputs": [],
   "source": [
    "def Hamiltonian(couplings, d_ijl, ijl_d, L):\n",
    "    '''\n",
    "        Hamitlonian returns a list of couples (coupling value, interaction \n",
    "        table) where the interaction table states for each dual bond which \n",
    "        are the dual bonds intereacting with it with the mentionned coupling.\n",
    "        < couplings : dict. for each coupling ('J1', 'J2', 'J3', 'J3st', ...), associates the\n",
    "        value (use like a matlab struct)\n",
    "        > hamiltonian = [J1, (J2, d_J2d), (J3, d_J3d), ...]\n",
    "    '''\n",
    "    hamiltonian = [J1]\n",
    "    if 'J2' in couplings: # checks if key in dict.keys() but more efficiently (hash)\n",
    "        J2 = couplings('J2');\n",
    "        d_J2d = lattice.d_J2d(d_ijl, ijl_d, L)\n",
    "        hamiltonian.append((J2, d_J2d))\n",
    "\n",
    "    if 'J3' in couplings:\n",
    "        J3 = couplings('J3');\n",
    "        d_J3d = lattice.d_J3d(d_ijl, ijl_d, L)\n",
    "        hamiltonian.append((J3,d_J3d))\n",
    "            \n",
    "    if 'J3st' in couplings:\n",
    "        J3st = couplings('J3st');\n",
    "        J3st = J3st/2.0 # we are going to write two paths going each way!\n",
    "        d_J3std = lattice.d_J3std(d_ijl, ijl_d, L)\n",
    "        hamiltonian.append((J3st,d_J3std))\n",
    "    \n",
    "    if 'J4' in couplings:\n",
    "        J4 = couplings('J4');\n",
    "        d_J4d = lattice.d_J4d(d_ijl, ijl_d, L)\n",
    "        hamiltonian.append((J4,d_J4d))\n",
    "        \n",
    "    return hamiltonian"
   ]
  },
  {
   "cell_type": "code",
   "execution_count": null,
   "metadata": {},
   "outputs": [],
   "source": [
    "def compute_energy(hamiltonian, state, latsize = 1):\n",
    "    '''\n",
    "        Computes the energy of the state state given the hamiltonian \n",
    "        (from dualwormfunctions.Hamiltonian) and the lattice size \n",
    "        (number of sites)\n",
    "    '''\n",
    "    return dim.hamiltonian(hamiltonian, state)/latsize"
   ]
  },
  {
   "cell_type": "code",
   "execution_count": null,
   "metadata": {},
   "outputs": [],
   "source": [
    "############### Neighbour pairs #####################"
   ]
  },
  {
   "cell_type": "code",
   "execution_count": null,
   "metadata": {},
   "outputs": [],
   "source": [
    "def reducedgraph(L, s_ijl, ijl_s):\n",
    "    '''\n",
    "        Returns exactly one position per spin coordinate.\n",
    "    '''\n",
    "    return lattice.reducedgraph(L, s_ijl, ijl_s)"
   ]
  },
  {
   "cell_type": "code",
   "execution_count": null,
   "metadata": {},
   "outputs": [],
   "source": [
    "def sitepairslist(srefs, s_pos, n1, n2, Leff, distmax):\n",
    "    '''\n",
    "        For a given structure, this function returns a table containing,\n",
    "        for each pair (coord s1, coord s2) at distance less than Leff/2, \n",
    "        the corresponding distance R and the *indices* s1 and s2 of the \n",
    "        spins in positions these positions. \n",
    "        We only consider couples containing spins in srefs.\n",
    "        It returns as well an ordered list of the distances\n",
    "        and a dictionary associating each distance to a set of spins.\n",
    "    '''\n",
    "    \n",
    "     # for each distance, we get the various spins that are at this distance from a given spin index\n",
    "\n",
    "    pairs = []\n",
    "    distmin = Leff\n",
    "    \n",
    "   \n",
    "    for s1 in srefs:\n",
    "        for s2 in range(len(s_pos)):\n",
    "            (consider, dist) = lattice.pairseparation(s1, s2, s_pos, n1, n2, Leff, distmax)\n",
    "            if consider:\n",
    "                if dist < distmin:\n",
    "                    distmin = dist\n",
    "                \n",
    "                pairs.append(((s1, s2), dist))\n",
    "                \n",
    "    distances = []\n",
    "    distances_spins = {}\n",
    "    for (spair, dist) in pairs:\n",
    "        dist = np.round(dist, 4)\n",
    "        if dist != 0:\n",
    "            if dist in distances:\n",
    "                distances_spins[dist].append(spair)\n",
    "            else:\n",
    "                distances.append(dist)\n",
    "                distances_spins[dist] = [spair]\n",
    "\n",
    "    return pairs, sorted(distances), distances_spins"
   ]
  },
  {
   "cell_type": "code",
   "execution_count": null,
   "metadata": {},
   "outputs": [],
   "source": [
    "def dist_sitepairs(s_pos,  n1, n2, Leff):\n",
    "    '''\n",
    "        Using sitepairslist, this function returns a list of (sorted) distances and \n",
    "        a dictionnary associating each distance with a spin pair.\n",
    "        < s_pos: spins-> position\n",
    "        < n1, n2, Leff: output of superlattice, that is, the structure of the PBC.\n",
    "        > sorted(distances), distances_spins\n",
    "    '''\n",
    "    pairs = lattice.sitepairslist(s_pos, n1, n2, Leff)\n",
    "    distances = []\n",
    "    distances_spins = {}\n",
    "    for (spair, spospair, dist) in pairs:\n",
    "        dist = np.round(dist, 4)\n",
    "        if dist in distances:\n",
    "            distances_spins[dist].append(spair)\n",
    "        else:\n",
    "            distances.append(dist)\n",
    "            distances_spins[dist] = [spair]\n",
    "\n",
    "    return sorted(distances), distances_spins"
   ]
  },
  {
   "cell_type": "code",
   "execution_count": null,
   "metadata": {},
   "outputs": [],
   "source": [
    "def NeighboursList(L, distmax)\n",
    "    '''\n",
    "        Returns a list of distances between sites (smaller than distmax)\n",
    "        with respect to the lattice reference sites (e.g. 3 for kagome),\n",
    "        a dictionary of pairs of sites at a given distance and a list of\n",
    "        the neighbours associated with a given site and distance.\n",
    "    '''\n",
    "    #dimer table and dictionary:\n",
    "    (d_ijl, ijl_d) = lattice.createdualtable(L)\n",
    "    #spin table and dictionary\n",
    "    (s_ijl, ijl_s) = lattice.createspinsitetable(L)\n",
    "    #two spins surrounding each dimer\n",
    "    (d_2s, s2_d) = lattice.dualbondspinsitelinks(d_ijl, ijl_s, L)\n",
    "    #dimer-dimer connection through entry sites\n",
    "    d_nd = lattice.nsitesconnections(d_ijl, ijl_d)\n",
    "    #dimer-dimer connection through vertex sites\n",
    "    d_vd = lattice.vsitesconnections(d_ijl, ijl_d, L)\n",
    "    #for each dimer, is it takeing into account in winding number 1 or 2?\n",
    "    d_wn = lattice.windingtable(d_ijl, L)\n",
    "    #list of spin indices and dimer indices for the loop allowing to update the spin state\n",
    "    (sidlist, didlist) = lattice.spins_dimers_for_update(s_ijl, ijl_s, s2_d, L)\n",
    "    \n",
    "    (s_pos, ijl_pos) = lattice.reducedgraph(L, s_ijl, ijl_s)\n",
    "    pos = list(s_pos.values())\n",
    "    pos = [list(np.round(posval, 4)) for posval in pos]\n",
    "    \n",
    "    #initialise the superlattice\n",
    "    (n1, n2, Leff, S) = lattice.superlattice(L)\n",
    "    \n",
    "    # getting the list of pairs that we're interested in, \n",
    "    srefs = lattice.referenceSpins(L, ijl_s)\n",
    "    pairs, distances, distances_spins = sitepairslist(srefs, s_pos, n1,n2,Leff,distmax)\n",
    "    \n",
    "    NNList = [[[] for i in range(len(distances))] for j in range(len(srefs))]\n",
    "    \n",
    "    for i in range(len(distances)):\n",
    "        for pair in distances_spins[distances[i]]:\n",
    "            for j in range(len(srefs)):\n",
    "                if srefs[j] in pair:\n",
    "                    NNList[j][i].append(pair)\n",
    "\n",
    "\n",
    "    NNList = lattice.inequivalentSites()                \n",
    "    return distances, distances_spins, NNList, s_pos, srefs\n",
    "    "
   ]
  },
  {
   "cell_type": "code",
   "execution_count": null,
   "metadata": {},
   "outputs": [],
   "source": [
    "############## STATES INIT ##############################3"
   ]
  },
  {
   "cell_type": "code",
   "execution_count": null,
   "metadata": {},
   "outputs": [],
   "source": [
    "def create_temperatures(nt_list, t_list):\n",
    "    assert(len(t_list) == len(nt_list) + 1)\n",
    "    nt = 0\n",
    "    for nte in nt_list:\n",
    "        nt += nte\n",
    "\n",
    "    temp_states = np.zeros(nt)\n",
    "\n",
    "    nt_start = 0\n",
    "    for id_nt, nte in enumerate(nt_list):\n",
    "        temp_states[nt_start: nte+nt_start] = np.linspace(t_list[id_nt], t_list[id_nt + 1], nte)\n",
    "        nt_start += nte\n",
    "\n",
    "    return np.unique(temp_states)"
   ]
  },
  {
   "cell_type": "code",
   "execution_count": null,
   "metadata": {},
   "outputs": [],
   "source": [
    "def create_log_temperatures(nt_list, t_list):\n",
    "    assert(len(t_list) == len(nt_list) + 1)\n",
    "    nt = 0\n",
    "    for nte in nt_list:\n",
    "        nt += nte\n",
    "\n",
    "    temp_states = np.zeros(nt)\n",
    "\n",
    "    ## Here, we have htat nt_list = [number between t0 and t1, number between t1 and t2, ...]\n",
    "\n",
    "    nt_start = 0\n",
    "    for id_nt, nte in enumerate(nt_list):\n",
    "        temp_states[nt_start: nt_start + nte] = np.logspace(np.log10(t_list[id_nt]), np.log10(t_list[id_nt +1 ]), nte, endpoint=True)\n",
    "        print(nt_start, nt_start+nte)\n",
    "        nt_start +=nte\n",
    "        \n",
    "    return np.unique(temp_states)"
   ]
  },
  {
   "cell_type": "code",
   "execution_count": null,
   "metadata": {},
   "outputs": [],
   "source": [
    "def statesinit(nt, d_ijl, d_2s, s_ijl, hamiltonian, same = False):\n",
    "    '''\n",
    "        Random initialization of the states table (dimers) and computing \n",
    "        the initial energy\n",
    "    '''\n",
    "    #initialize the dimers\n",
    "    states = [np.array([1 for i in range(len(d_ijl))], dtype='int32') for ignored in range(nt)]\n",
    "\n",
    "    #initialize the spins randomly\n",
    "    spinstates = [(np.random.randint(0, 2, size=len(s_ijl))*2 - 1) for i in range(nt)]\n",
    "    \n",
    "    #initialise the dimer state according to the spin state\n",
    "    for t in range(nt):\n",
    "        for id_dim in range(len(d_ijl)):\n",
    "            [id_s1, id_s2] = d_2s[id_dim]\n",
    "            s1 = spinstates[t][id_s1]\n",
    "            s2 = spinstates[t][id_s2]\n",
    "            if (s1 == s2):\n",
    "                states[t][id_dim] = 1\n",
    "            else:\n",
    "                states[t][id_dim] = -1\n",
    "    en_states = [compute_energy(hamiltonian, states[t]) for t in range(nt)] # energy computed via the function in c++\n",
    "    \n",
    "    return states, en_states"
   ]
  },
  {
   "cell_type": "code",
   "execution_count": null,
   "metadata": {},
   "outputs": [],
   "source": [
    "def onestatecheck(spinstate, state, d_2s):\n",
    "    '''\n",
    "        This function checks whether the dimer state and the spin state are compatible\n",
    "    '''\n",
    "    mistakes = list()\n",
    "    for id_d, d in enumerate(state):\n",
    "        [id_s1, id_s2] = d_2s[id_d]\n",
    "        s1 = spinstate[id_s1]\n",
    "        s2 = spinstate[id_s2]\n",
    "        if (s1 == s2 and d == -1):\n",
    "            mistakes.append((id_d, id_s1, id_s2))\n",
    "        if (s1 != s2 and d == 1):\n",
    "            mistakes.append((id_d, id_s1, id_s2))\n",
    "    return mistakes"
   ]
  },
  {
   "cell_type": "code",
   "execution_count": null,
   "metadata": {},
   "outputs": [],
   "source": [
    "def statescheck(spinstates, states, d_2s):\n",
    "    '''\n",
    "        This function checks whether the dimer stateS and the spin stateS are compatible\n",
    "    '''\n",
    "    for spinstate, state in zip(spinstates, states):\n",
    "        if len(onestatecheck(spinstate, state, d_2s)) != 0:\n",
    "            return False\n",
    "    return True\n"
   ]
  },
  {
   "cell_type": "code",
   "execution_count": null,
   "metadata": {},
   "outputs": [],
   "source": [
    "def onestate_dimers2spins(sidlist, didlist, L, state):\n",
    "    '''\n",
    "        For a known state of the dual lattice (i.e. for each bond, is there or not a dimer), returns the corresponding\n",
    "        spin state.\n",
    "    '''\n",
    "    #initialise the spins in a meaningless way\n",
    "    spinstate = [0 for _ in range(len(sidlist))]\n",
    "    #initialise the first spin randomly\n",
    "    s_val =  np.random.randint(0, 2)*2-1\n",
    "    s = spinstate[sidlist[0]] = s_val\n",
    "    for it in range(0, len(sidlist)-1):\n",
    "        db_id = didlist[it]\n",
    "        spin_id = sidlist[it+1]\n",
    "        s = spinstate[spin_id] = s * state[db_id]\n",
    "    return spinstate"
   ]
  },
  {
   "cell_type": "code",
   "execution_count": null,
   "metadata": {},
   "outputs": [],
   "source": [
    "def states_dimers2spins(sidlist, didlist, L, states):\n",
    "    spinstates = []\n",
    "    for state in states:\n",
    "        spinstates.append(onestate_dimers2spins(sidlist, didlist, L, state))\n",
    "    return spinstates"
   ]
  },
  {
   "cell_type": "code",
   "execution_count": null,
   "metadata": {},
   "outputs": [],
   "source": []
  }
 ],
 "metadata": {
  "kernelspec": {
   "display_name": "Python 3",
   "language": "python",
   "name": "python3"
  },
  "language_info": {
   "codemirror_mode": {
    "name": "ipython",
    "version": 3
   },
   "file_extension": ".py",
   "mimetype": "text/x-python",
   "name": "python",
   "nbconvert_exporter": "python",
   "pygments_lexer": "ipython3",
   "version": "3.7.4"
  }
 },
 "nbformat": 4,
 "nbformat_minor": 2
}
