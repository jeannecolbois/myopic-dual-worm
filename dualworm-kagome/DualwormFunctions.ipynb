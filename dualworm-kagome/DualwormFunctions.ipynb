{
 "cells": [
  {
   "cell_type": "code",
   "execution_count": null,
   "metadata": {
    "collapsed": true
   },
   "outputs": [],
   "source": [
    "import numpy as np\n",
    "import dimers as dim\n",
    "import KagomeFunctions as lattice\n",
    "from scipy.special import erfc\n",
    "from time import time"
   ]
  },
  {
   "cell_type": "code",
   "execution_count": null,
   "metadata": {
    "collapsed": true
   },
   "outputs": [],
   "source": [
    "def createdualtable(L):\n",
    "    '''\n",
    "        Creates the table of dual bonds corresponding to the dual lattice \n",
    "        of side size L.\n",
    "        Returns a table identifing an int with the three coordinates of \n",
    "        the dual bond and a dictionnary identifying the\n",
    "        three coordinates with the dual bond's int index. This allows to \n",
    "        handle other relations between dual bonds in an easier way.\n",
    "        > d_ijl: table dimer -> coordinates\n",
    "        > ijl_d: dictionnary coordinates -> dimer\n",
    "    '''\n",
    "    return lattice.createdualtable(L)"
   ]
  },
  {
   "cell_type": "code",
   "execution_count": null,
   "metadata": {
    "collapsed": true
   },
   "outputs": [],
   "source": [
    "def createspinsitetable(L):\n",
    "    '''\n",
    "        Creates the table of spin sites corresponding to a real space \n",
    "        lattice with dual of site size L.\n",
    "        Returns a table identifing an int with the coordinates of the \n",
    "        spin site and a dictionnary identifying the\n",
    "        three coordinates with the spin site's int index. This allows \n",
    "        to handle other relations between spin sites in an easier way.\n",
    "        > d_ijl: table spin -> coordinates\n",
    "        > ijl_d: dictionnary coordinates -> spins\n",
    "    '''\n",
    "    return lattice.creatspinsitetable(L)"
   ]
  },
  {
   "cell_type": "code",
   "execution_count": null,
   "metadata": {
    "collapsed": true
   },
   "outputs": [],
   "source": [
    "def dualbondspinsitelinks(d_ijl, ijl_s, L):\n",
    "    '''\n",
    "        For a lattice with side size L, this function  returns two tables:\n",
    "        > d_2s: for each dual bond, which are the 2spin sites around it.\n",
    "        > s2_d: for each pair of spin sites nearest to one another, which \n",
    "        is the dual bond between them (dictionary)\n",
    "    '''\n",
    "    return lattice.dualbondspinsitelinks(d_ijl, ijl_s, L)"
   ]
  },
  {
   "cell_type": "code",
   "execution_count": null,
   "metadata": {
    "collapsed": true
   },
   "outputs": [],
   "source": [
    "def spins_dimers_for_update(s_ijl, ijl_s, s2_d, L):\n",
    "    '''\n",
    "        Returns a list of spin site indices and a list of dual bond indices. \n",
    "        Going through the spins list allows to map the whole\n",
    "        spin state of the system. The ith dimer lies between the ith and ith+1 \n",
    "        spin.\n",
    "        > spinsiteslist: list of spin sites in the update order\n",
    "        > dualbondslist: list of dual bonds in the update order\n",
    "    '''\n",
    "    return lattice.spins_dimers_for_update(s_ijl, ijl_s, s2_d, L)"
   ]
  },
  {
   "cell_type": "code",
   "execution_count": null,
   "metadata": {
    "collapsed": true
   },
   "outputs": [],
   "source": [
    "def nsitesconnections(d_ijl, ijl_d, L):\n",
    "    '''\n",
    "        For each dual bond, which are the other dual bonds which are \n",
    "        touching it through an \"n\" site (in the kagomé case, that's a \n",
    "        site with 6 dualbonds)\n",
    "        > d_nd: array[d] = list of dual bonds connected to d by a n-site\n",
    "    '''\n",
    "    return lattice.nsitesconnections(d_ijl, ijl_d, L)"
   ]
  },
  {
   "cell_type": "code",
   "execution_count": null,
   "metadata": {
    "collapsed": true
   },
   "outputs": [],
   "source": [
    "def vsitesconnections(d_ijl, ijl_d, L):\n",
    "    '''\n",
    "        For each dual bond, which are the other dual bonds which are \n",
    "        touching it through an \"v\" site (in the kagomé case, that's a \n",
    "        site with 3 dual bonds)\n",
    "        > d_vd: array[d] = list of dual bonds connected to d by a v-site\n",
    "    '''\n",
    "    return lattice.vsitesconnections(d_ijl, ijl_d, L)"
   ]
  },
  {
   "cell_type": "code",
   "execution_count": null,
   "metadata": {
    "collapsed": true
   },
   "outputs": [],
   "source": [
    "def windingtable(d_ijl, L):\n",
    "    '''\n",
    "        For each dual bond, is it on one of the two lines which are used \n",
    "        to count the winding numbers?\n",
    "        > d_wn: array[d] = [w1? w2?]\n",
    "    '''\n",
    "    return lattice.windingtable(d_ijl, L)"
   ]
  },
  {
   "cell_type": "code",
   "execution_count": null,
   "metadata": {
    "collapsed": true
   },
   "outputs": [],
   "source": [
    "def latticeinit(L):\n",
    "    #dual bond table and dictionary:\n",
    "    (d_ijl, ijl_d) = lattice.createdualtable(L)\n",
    "    #spin site table and dictionary\n",
    "    (s_ijl, ijl_s) = lattice.createspinsitetable(L)\n",
    "    #two spin sites surrounding each dual bond\n",
    "    (d_2s, s2_d) = lattice.dualbondspinsitelinks(d_ijl, ijl_s, L)\n",
    "    #dual bond - dual bond connection through entry sites\n",
    "    d_nd = lattice.nsitesconnections(d_ijl, ijl_d,L)\n",
    "    #dual bond - dual bond connection through vertex sites\n",
    "    d_vd = lattice.vsitesconnections(d_ijl, ijl_d, L)\n",
    "    #for each dual bond, is it taking into account in winding number 1 or 2?\n",
    "    d_wn = lattice.windingtable(d_ijl, L)\n",
    "    #list of spin site indices and dual bond indices for the loop allowing to update the spin state\n",
    "    (sidlist, didlist) = lattice.spins_dimers_for_update(s_ijl, ijl_s, s2_d, L)\n",
    "    \n",
    "    return d_ijl, ijl_d, s_ijl, ijl_s, d_2s, s2_d, d_nd, d_vd, d_wn, sidlist, didlist"
   ]
  },
  {
   "cell_type": "code",
   "execution_count": null,
   "metadata": {
    "collapsed": true
   },
   "outputs": [],
   "source": [
    "def Hamiltonian(couplings, d_ijl, ijl_d, L):\n",
    "    '''\n",
    "        Hamitlonian returns a list of couples (coupling value, interaction \n",
    "        table) where the interaction table states for each dual bond which \n",
    "        are the dual bonds intereacting with it with the mentionned coupling.\n",
    "        < couplings : dict. for each coupling ('J1', 'J2', 'J3', 'J3st', ...), associates the\n",
    "        value (use like a matlab struct)\n",
    "        > hamiltonian = [J1, (J2, d_J2d), (J3, d_J3d), ...]\n",
    "    '''\n",
    "    hamiltonian = [couplings['J1']]\n",
    "    if 'J2' in couplings: # checks if key in dict.keys() but more efficiently (hash)\n",
    "        J2 = couplings['J2'];\n",
    "        d_J2d = lattice.d_J2d(d_ijl, ijl_d, L)\n",
    "        hamiltonian.append((J2, d_J2d))\n",
    "\n",
    "    if 'J3' in couplings:\n",
    "        J3 = couplings['J3'];\n",
    "        d_J3d = lattice.d_J3d(d_ijl, ijl_d, L)\n",
    "        hamiltonian.append((J3,d_J3d))\n",
    "            \n",
    "    if 'J3st' in couplings:\n",
    "        J3st = couplings['J3st'];\n",
    "        J3st = J3st/2.0 # we are going to write two paths going each way!\n",
    "        d_J3std = lattice.d_J3std(d_ijl, ijl_d, L)\n",
    "        hamiltonian.append((J3st,d_J3std))\n",
    "    \n",
    "    if 'J4' in couplings:\n",
    "        J4 = couplings['J4'];\n",
    "        d_J4d = lattice.d_J4d(d_ijl, ijl_d, L)\n",
    "        hamiltonian.append((J4,d_J4d))\n",
    "        \n",
    "    return hamiltonian"
   ]
  },
  {
   "cell_type": "code",
   "execution_count": null,
   "metadata": {
    "collapsed": true
   },
   "outputs": [],
   "source": [
    "def compute_energy(hamiltonian, state, latsize = 1):\n",
    "    '''\n",
    "        Computes the energy of the state state given the hamiltonian \n",
    "        (from dualwormfunctions.Hamiltonian) and the lattice size \n",
    "        (number of sites)\n",
    "    '''\n",
    "    return dim.hamiltonian(hamiltonian, state)/latsize"
   ]
  },
  {
   "cell_type": "code",
   "execution_count": null,
   "metadata": {
    "collapsed": true
   },
   "outputs": [],
   "source": [
    "def GivenNeiNrj(state, power, D, J1supp, nei, distances, distances_spins):\n",
    "    nrj = 0\n",
    "    dist = distances[nei]\n",
    "    for (s1, s2) in distances_spins[dist]:\n",
    "        nrj += D/(dist**power)*state[s1]*state[s2]\n",
    "        if np.abs(dist-1) < 1e-2:\n",
    "            nrj += J1supp*D*state[s1]*state[s2]\n",
    "\n",
    "    return nrj"
   ]
  },
  {
   "cell_type": "code",
   "execution_count": null,
   "metadata": {
    "collapsed": true
   },
   "outputs": [],
   "source": [
    "def NeiFromNeiToNrj(state, power, D, J1supp, neimin, neimax, distances, \n",
    "                    distances_spins):\n",
    "    nrj = 0\n",
    "    for n in range(neimin, neimax+1, 1):\n",
    "         nrj += GivenNeiNrj(state, power, D, J1supp, n, distances, distances_spins)\n",
    "    return nrj"
   ]
  },
  {
   "cell_type": "code",
   "execution_count": null,
   "metadata": {
    "collapsed": true
   },
   "outputs": [],
   "source": [
    "def FiniteDistNrj(state, power, D, J1supp, neimax, distances, distances_spins):\n",
    "    '''\n",
    "        Function computing the energy of the dipolar system up to neimax \n",
    "        neighbours (neimax included)\n",
    "    '''\n",
    "\n",
    "    nrj = NeiFromNeiToNrj(state, power, D, J1supp, 1, neimax, distances, \n",
    "                          distances_spins)\n",
    "\n",
    "    return nrj"
   ]
  },
  {
   "cell_type": "code",
   "execution_count": null,
   "metadata": {
    "collapsed": true
   },
   "outputs": [],
   "source": [
    "def TruncatedNrj(state, n1, n2, Leff, power, s_pos, D, J1supp):\n",
    "    '''\n",
    "        Function computing the energy of the dipolar system by truncating \n",
    "        in such a way that a spin doesn't interact with its images\n",
    "    '''\n",
    "\n",
    "    nrj = 0\n",
    "    for s1 in range(len(s_pos)):\n",
    "        for s2 in range(s1, len(s_pos), 1):\n",
    "            (consider, dist) = lattice.pairseparation(s1, s2, s_pos, n1, \n",
    "                                                      n2, Leff,Leff)\n",
    "            if consider and dist != 0:\n",
    "                nrj += D/(dist**power)*state[s1]*state[s2]\n",
    "            if np.abs(dist-1) < 1e-2:\n",
    "                nrj += J1supp*D*state[s1]*state[s2]\n",
    "\n",
    "    return nrj"
   ]
  },
  {
   "cell_type": "code",
   "execution_count": null,
   "metadata": {
    "collapsed": true
   },
   "outputs": [],
   "source": [
    "def EwaldSum(state, pairslist, s_pos, klat, D, alpha, S, J1supp):\n",
    "    '''\n",
    "        Function computing the energy of the dipolar system using the Ewald \n",
    "        summation technique.\n",
    "        /!\\ alpha, klat and pairslist must have been chosen consistently or\n",
    "        the result might be wrong\n",
    "    '''\n",
    "    constterm = - 2*D*alpha**3/(3*np.sqrt(pi))*len(state)\n",
    "\n",
    "    print('constterm ok')\n",
    "    realspaceterm = 0\n",
    "    NNenergy = 0\n",
    "    for (s1, s2), (r1, r2), dist in pairslist:\n",
    "        if dist != 0:\n",
    "            term1 = 2*alpha*np.exp(- alpha**2 * dist**2)/(np.sqrt(pi)*dist**2)\n",
    "            term2 = erfc(alpha*dist)/(dist**3)\n",
    "            realspaceterm += D*state[s1]*state[s2]*(term1 + term2)\n",
    "        if np.abs(dist-1) < 1e-5:\n",
    "            NNenergy += J1supp*D*state[s1]*state[s2]\n",
    "\n",
    "    print('realspace ok')\n",
    "    fourierspaceterm = 0\n",
    "    for kvec in klat:\n",
    "        k = np.linalg.norm(kvec)\n",
    "\n",
    "        factor = (2*alpha/np.sqrt(pi) * np.exp(-k**2 / (4 * alpha**2)) \n",
    "                  - k*erfc(k/(2*alpha)))\n",
    "        ijabsum = 0\n",
    "        for s1 in range(len(s_pos)):\n",
    "            r1 = s_pos[s1]\n",
    "            for s2 in range(len(s_pos)):\n",
    "                r2 = s_pos[s2]\n",
    "                ijabsum += state[s1] * state[s2] * np.exp( 1j * \n",
    "                                                          np.dot(kvec,(r2-r1)) )\n",
    "        #for (s1, s2), (r1, r2), dist in pairslist:\n",
    "        #    ijabsum += state[s1] * state[s2] * np.exp( 1j * np.dot(kvec,(r2-r1) ) )\n",
    "\n",
    "        fourierspaceterm += factor*ijabsum\n",
    "\n",
    "    print('fourier space ok')\n",
    "\n",
    "    fourierspaceterm = (pi * D / S) * fourierspaceterm\n",
    "    E = constterm + realspaceterm + fourierspaceterm + NNenergy\n",
    "    issue = True\n",
    "    if np.abs(np.imag(E)/np.real(E)) < 1e-16:\n",
    "        issue = False\n",
    "\n",
    "    return issue, np.real(E)"
   ]
  },
  {
   "cell_type": "code",
   "execution_count": null,
   "metadata": {
    "collapsed": true
   },
   "outputs": [],
   "source": [
    "############### Neighbour pairs #####################"
   ]
  },
  {
   "cell_type": "code",
   "execution_count": null,
   "metadata": {
    "collapsed": true
   },
   "outputs": [],
   "source": [
    "def reducedgraph(L, s_ijl, ijl_s):\n",
    "    '''\n",
    "        Returns exactly one position per spin coordinate.\n",
    "    '''\n",
    "    return lattice.reducedgraph(L, s_ijl, ijl_s)"
   ]
  },
  {
   "cell_type": "code",
   "execution_count": null,
   "metadata": {
    "collapsed": true
   },
   "outputs": [],
   "source": [
    "def sitepairslist(srefs, s_pos, n1, n2, Leff, distmax):\n",
    "    '''\n",
    "        For a given structure, this function returns a table containing,\n",
    "        for each pair (coord s1, coord s2) at distance less than Leff/2, \n",
    "        the corresponding distance R and the *indices* s1 and s2 of the \n",
    "        spins in positions these positions. \n",
    "        We only consider couples containing spins in srefs.\n",
    "        It returns as well an ordered list of the distances\n",
    "        and a dictionary associating each distance to a set of spins.\n",
    "    '''\n",
    "    \n",
    "     # for each distance, we get the various spins that are at this distance\n",
    "        #  from a given spin index\n",
    "\n",
    "    pairs = []\n",
    "    distmin = Leff\n",
    "    \n",
    "   \n",
    "    for s1 in srefs:\n",
    "        for s2 in range(len(s_pos)):\n",
    "            (consider, dist) = lattice.pairseparation(s1, s2, s_pos, n1, n2,\n",
    "                                                      Leff, distmax)\n",
    "            if consider:\n",
    "                if dist < distmin:\n",
    "                    distmin = dist\n",
    "                \n",
    "                pairs.append(((s1, s2), dist))\n",
    "                \n",
    "    distances = []\n",
    "    distances_spins = {}\n",
    "    for (spair, dist) in pairs:\n",
    "        dist = np.round(dist, 4)\n",
    "        if dist != 0:\n",
    "            if dist in distances:\n",
    "                distances_spins[dist].append(spair)\n",
    "            else:\n",
    "                distances.append(dist)\n",
    "                distances_spins[dist] = [spair]\n",
    "\n",
    "    return pairs, sorted(distances), distances_spins"
   ]
  },
  {
   "cell_type": "code",
   "execution_count": null,
   "metadata": {
    "collapsed": true
   },
   "outputs": [],
   "source": [
    "def dist_sitepairs(s_pos,  n1, n2, Leff):\n",
    "    '''\n",
    "        Using sitepairslist, this function returns a list of (sorted) distances and \n",
    "        a dictionnary associating each distance with a spin pair.\n",
    "        < s_pos: spins-> position\n",
    "        < n1, n2, Leff: output of superlattice, that is, the structure of the PBC.\n",
    "        > sorted(distances), distances_spins\n",
    "    '''\n",
    "    pairs = lattice.sitepairslist(s_pos, n1, n2, Leff)\n",
    "    distances = []\n",
    "    distances_spins = {}\n",
    "    for (spair, spospair, dist) in pairs:\n",
    "        dist = np.round(dist, 4)\n",
    "        if dist in distances:\n",
    "            distances_spins[dist].append(spair)\n",
    "        else:\n",
    "            distances.append(dist)\n",
    "            distances_spins[dist] = [spair]\n",
    "\n",
    "    return sorted(distances), distances_spins"
   ]
  },
  {
   "cell_type": "code",
   "execution_count": null,
   "metadata": {
    "collapsed": true
   },
   "outputs": [],
   "source": [
    "def NeighboursList(L, distmax):\n",
    "    '''\n",
    "        Returns a list of distances between sites (smaller than distmax)\n",
    "        with respect to the lattice reference sites (e.g. 3 for kagome),\n",
    "        a dictionary of pairs of sites at a given distance and a list of\n",
    "        the neighbours associated with a given site and distance.\n",
    "    '''\n",
    "    #dimer table and dictionary:\n",
    "    (d_ijl, ijl_d) = lattice.createdualtable(L)\n",
    "    #spin table and dictionary\n",
    "    (s_ijl, ijl_s) = lattice.createspinsitetable(L)\n",
    "    #two spins surrounding each dimer\n",
    "    (d_2s, s2_d) = lattice.dualbondspinsitelinks(d_ijl, ijl_s, L)\n",
    "    #dimer-dimer connection through entry sites\n",
    "    d_nd = lattice.nsitesconnections(d_ijl, ijl_d)\n",
    "    #dimer-dimer connection through vertex sites\n",
    "    d_vd = lattice.vsitesconnections(d_ijl, ijl_d, L)\n",
    "    #for each dimer, is it takeing into account in winding number 1 or 2?\n",
    "    d_wn = lattice.windingtable(d_ijl, L)\n",
    "    #list of spin indices and dimer indices for the loop allowing to \n",
    "    # update the spin state\n",
    "    (sidlist, didlist) = lattice.spins_dimers_for_update(s_ijl, ijl_s, \n",
    "                                                         s2_d, L)\n",
    "    \n",
    "    (s_pos, ijl_pos) = lattice.reducedgraph(L, s_ijl, ijl_s)\n",
    "    pos = list(s_pos.values())\n",
    "    pos = [list(np.round(posval, 4)) for posval in pos]\n",
    "    \n",
    "    #initialise the superlattice\n",
    "    (n1, n2, Leff, S) = lattice.superlattice(L)\n",
    "    \n",
    "    # getting the list of pairs that we're interested in, \n",
    "    srefs = lattice.referenceSpins(L, ijl_s)\n",
    "    pairs, distances, distances_spins = sitepairslist(srefs, s_pos, n1,\n",
    "                                                      n2,Leff,distmax)\n",
    "    \n",
    "    NNList = [[[] for i in range(len(distances))] for j in range(len(srefs))]\n",
    "    \n",
    "    for i in range(len(distances)):\n",
    "        for pair in distances_spins[distances[i]]:\n",
    "            for j in range(len(srefs)):\n",
    "                if srefs[j] in pair:\n",
    "                    NNList[j][i].append(pair)\n",
    "\n",
    "\n",
    "    NNList = lattice.inequivalentSites()                \n",
    "    return distances, distances_spins, NNList, s_pos, srefs\n",
    "    "
   ]
  },
  {
   "cell_type": "code",
   "execution_count": null,
   "metadata": {
    "collapsed": true
   },
   "outputs": [],
   "source": [
    "############## STATES INIT ##############################3"
   ]
  },
  {
   "cell_type": "code",
   "execution_count": null,
   "metadata": {
    "collapsed": true
   },
   "outputs": [],
   "source": [
    "def create_temperatures(nt_list, t_list):\n",
    "    assert(len(t_list) == len(nt_list) + 1)\n",
    "    nt = 0\n",
    "    for nte in nt_list:\n",
    "        nt += nte\n",
    "\n",
    "    temp_states = np.zeros(nt)\n",
    "\n",
    "    nt_start = 0\n",
    "    for id_nt, nte in enumerate(nt_list):\n",
    "        temp_states[nt_start: nte+nt_start] =\\\n",
    "            np.linspace(t_list[id_nt], t_list[id_nt + 1], nte)\n",
    "        nt_start += nte\n",
    "\n",
    "    return np.unique(temp_states)"
   ]
  },
  {
   "cell_type": "code",
   "execution_count": null,
   "metadata": {
    "collapsed": true
   },
   "outputs": [],
   "source": [
    "def create_log_temperatures(nt_list, t_list):\n",
    "    assert(len(t_list) == len(nt_list) + 1)\n",
    "    nt = 0\n",
    "    for nte in nt_list:\n",
    "        nt += nte\n",
    "\n",
    "    temp_states = np.zeros(nt)\n",
    "\n",
    "    ## Here, we have htat nt_list = [number between t0 and t1, \n",
    "    # number between t1 and t2, ...]\n",
    "\n",
    "    nt_start = 0\n",
    "    for id_nt, nte in enumerate(nt_list):\n",
    "        temp_states[nt_start: nt_start + nte] = np.logspace(\n",
    "            np.log10(t_list[id_nt]), np.log10(t_list[id_nt +1 ]), \n",
    "            nte, endpoint=True)\n",
    "        print(nt_start, nt_start+nte)\n",
    "        nt_start +=nte\n",
    "        \n",
    "    return np.unique(temp_states)"
   ]
  },
  {
   "cell_type": "code",
   "execution_count": null,
   "metadata": {
    "collapsed": true
   },
   "outputs": [],
   "source": [
    "def statesinit(nt, d_ijl, d_2s, s_ijl, hamiltonian, same = False):\n",
    "    '''\n",
    "        Random initialization of the states table (dimers) and computing \n",
    "        the initial energy\n",
    "    '''\n",
    "    #initialize the dimers\n",
    "    states = [np.array([1 for i in range(len(d_ijl))], dtype='int32') \n",
    "              for ignored in range(nt)]\n",
    "\n",
    "    #initialize the spins randomly\n",
    "    spinstates = [(np.random.randint(0, 2, size=len(s_ijl))*2 - 1)\n",
    "                  for i in range(nt)]\n",
    "    \n",
    "    #initialise the dimer state according to the spin state\n",
    "    for t in range(nt):\n",
    "        for id_dim in range(len(d_ijl)):\n",
    "            [id_s1, id_s2] = d_2s[id_dim]\n",
    "            s1 = spinstates[t][id_s1]\n",
    "            s2 = spinstates[t][id_s2]\n",
    "            if (s1 == s2):\n",
    "                states[t][id_dim] = 1\n",
    "            else:\n",
    "                states[t][id_dim] = -1\n",
    "    statesen = [compute_energy(hamiltonian, states[t]) \n",
    "                 for t in range(nt)] # energy computed via the function in c++\n",
    "    \n",
    "    return states, statesen"
   ]
  },
  {
   "cell_type": "code",
   "execution_count": null,
   "metadata": {
    "collapsed": true
   },
   "outputs": [],
   "source": [
    "def onestatecheck(spinstate, state, d_2s):\n",
    "    '''\n",
    "        This function checks whether the dimer state and the spin \n",
    "        state are compatible\n",
    "    '''\n",
    "    mistakes = list()\n",
    "    for id_d, d in enumerate(state):\n",
    "        [id_s1, id_s2] = d_2s[id_d]\n",
    "        s1 = spinstate[id_s1]\n",
    "        s2 = spinstate[id_s2]\n",
    "        if (s1 == s2 and d == -1):\n",
    "            mistakes.append((id_d, id_s1, id_s2))\n",
    "        if (s1 != s2 and d == 1):\n",
    "            mistakes.append((id_d, id_s1, id_s2))\n",
    "    return mistakes"
   ]
  },
  {
   "cell_type": "code",
   "execution_count": null,
   "metadata": {
    "collapsed": true
   },
   "outputs": [],
   "source": [
    "def statescheck(spinstates, states, d_2s):\n",
    "    '''\n",
    "        This function checks whether the dimer stateS and the spin \n",
    "        stateS are compatible\n",
    "    '''\n",
    "    for spinstate, state in zip(spinstates, states):\n",
    "        if len(onestatecheck(spinstate, state, d_2s)) != 0:\n",
    "            return False\n",
    "    return True\n"
   ]
  },
  {
   "cell_type": "code",
   "execution_count": null,
   "metadata": {
    "collapsed": true
   },
   "outputs": [],
   "source": [
    "def onestate_dimers2spins(sidlist, didlist, L, state):\n",
    "    '''\n",
    "        For a known state of the dual lattice (i.e. for each bond, is \n",
    "        there or not a dimer), returns the corresponding\n",
    "        spin state.\n",
    "    '''\n",
    "    #initialise the spins in a meaningless way\n",
    "    spinstate = [0 for _ in range(len(sidlist))]\n",
    "    #initialise the first spin randomly\n",
    "    s_val =  np.random.randint(0, 2)*2-1\n",
    "    s = spinstate[sidlist[0]] = s_val\n",
    "    for it in range(0, len(sidlist)-1):\n",
    "        db_id = didlist[it]\n",
    "        spin_id = sidlist[it+1]\n",
    "        s = spinstate[spin_id] = s * state[db_id]\n",
    "    return spinstate"
   ]
  },
  {
   "cell_type": "code",
   "execution_count": null,
   "metadata": {
    "collapsed": true
   },
   "outputs": [],
   "source": [
    "def states_dimers2spins(sidlist, didlist, L, states):\n",
    "    spinstates = []\n",
    "    for state in states:\n",
    "        spinstates.append(onestate_dimers2spins(sidlist, didlist, L, state))\n",
    "    return spinstates"
   ]
  },
  {
   "cell_type": "code",
   "execution_count": null,
   "metadata": {
    "collapsed": true
   },
   "outputs": [],
   "source": [
    "############ EVOLUTION ############"
   ]
  },
  {
   "cell_type": "code",
   "execution_count": null,
   "metadata": {
    "collapsed": true
   },
   "outputs": [],
   "source": [
    "def statistics(tid, resid, bid, states, statesen, statestables,\n",
    "               spinstates,statsfunctions, sidlist, didlist, L, s_ijl, num_in_bin):\n",
    "    '''\n",
    "        This function updates the statistics in statestables and the spinstates given the states,\n",
    "        the states energy, the statistical functions, the list of spins and dimers for updates,\n",
    "        the system size and the number of states in a bin\n",
    "    '''\n",
    "    # bin index = integer division of the iteration and the number of iterations in a bin\n",
    "    #   Before doing any measurement, the spinstate must be updated. But it is not necessary to update the spinstate\n",
    "    #   if no measurement is performed, since the code runs on dimer configurations.\n",
    "    #   Hence, we can feed the statistics threads with only the temperatures indices for which we are interested in\n",
    "    #   the statistics.\n",
    "    spinstates[tid] = onestate_dimers2spins(sidlist,didlist,L,states[tid]) # new spins state\n",
    "   \n",
    "    for stat_id in range(len(statstables)): #stat_id: index of the statistical\n",
    "        #function you're currently looking at\n",
    "        func_per_site = statsfunctions[stat_id](states[tid], statesen[tid], \n",
    "                                                spinstates[tid], s_ijl) \n",
    "        #evaluation depends on the temperature index\n",
    "        \n",
    "        statstables[stat_id][0][resid][bid] += func_per_site / num_in_bin \n",
    "        #storage depends on the result index\n",
    "        \n",
    "        statstables[stat_id][resid][bid] += (func_per_site ** 2) / num_in_bin"
   ]
  },
  {
   "cell_type": "code",
   "execution_count": null,
   "metadata": {
    "collapsed": true
   },
   "outputs": [],
   "source": [
    "def tempering(nt, statesen, betas, states):\n",
    "    for t in range(nt-1, 0, -1):\n",
    "        #throw a dice\n",
    "        if (statesen[t] - statesen[t-1]) * (betas[t] - betas[t-1]) > 0: \n",
    "            # if bigger than 0 flip for sure\n",
    "            #states:\n",
    "            states[[t-1 , t]] = states[[t, t-1]]\n",
    "            #energy:\n",
    "            statesen[[t - 1, t]] = statesen[[t, t - 1]]\n",
    "            swaps[t] += 1\n",
    "            swaps[t-1] += 1\n",
    "        elif np.random.uniform() < np.exp((statesen[t] - statesen[t-1]) \n",
    "                                          * (betas[t] - betas[t-1])): \n",
    "            #else flip with a certain prob\n",
    "            #states:\n",
    "            states[[t-1 , t]] = states[[t, t-1]]\n",
    "            #energy:\n",
    "            statesen[[t - 1, t]] = statesen[[t, t - 1]]\n",
    "            swaps[t] += 1\n",
    "            swaps[t-1] +=1"
   ]
  },
  {
   "cell_type": "code",
   "execution_count": null,
   "metadata": {
    "collapsed": true
   },
   "outputs": [],
   "source": [
    "def mcs_swaps(states, spinstates, statesen, \n",
    "              betas, stat_temps, **kwargs):\n",
    "    '''\n",
    "        < keyword arguments:\n",
    "                'nb' : number of bins\n",
    "                'num_in_bin' : number of meas in each bin\n",
    "                'iterworm' : number of worm iterations per sweep\n",
    "                'nitermax' : limiting the size of worms\n",
    "                'check' : whether to check or not that the states remained \n",
    "                consistent\n",
    "                ---- thermodynamic\n",
    "                'statsfunctions':\n",
    "                'nt':\n",
    "                ---- tables for loop building (worm algorithm)\n",
    "                'hamiltonian': see hamiltonian function\n",
    "                'd_nd': see nsitesconnections function\n",
    "                'd_vd': see vsitesconnections function\n",
    "                'd_wn': see windingtable function\n",
    "                'd_2s': see dualbondspinsitelink function\n",
    "                's2_d': see dualbondspinsitelink function\n",
    "                'sidlist': see spin_dimers_for_update function\n",
    "                'didlist': see spin_dimers_for_update function\n",
    "                ---- system size\n",
    "                's_ijl': see s_ijl\n",
    "                'L': system size\n",
    "                'ncores':ncores\n",
    "        < states, spins states = tables that will be updated as the new \n",
    "        states and spinstates get computed\n",
    "        < statesen : energy of the states\n",
    "        < betas : list of inverse temperatures of the states\n",
    "    '''\n",
    "    ## Parse the keywords arguments\n",
    "    nb = kwargs.get('nb', None)\n",
    "    num_in_bin = kwargs.get('num_in_bin',None)\n",
    "    iterworm = kwargs.get('iterworm',None)\n",
    "    nitermax = kwargs.get('nitermax',None)\n",
    "    s_ijl = kwargs.get('s_ijl',None)\n",
    "    check = kwargs.get('check', None)\n",
    "    statsfunctions = kwargs.get('statsfunctions',None)\n",
    "    nt = kwargs.get('nt',None)\n",
    "    stat_temps = kwargs.get('stat_temps',None)\n",
    "    hamiltonian = kwargs.get('hamiltonian',None)\n",
    "    d_nd = kwargs.get('d_nd',None)\n",
    "    d_vd = kwargs.get('d_vd',None)\n",
    "    d_wn = kwargs.get('d_wn',None)\n",
    "    d_2s = kwargs.get('d_2s',None)\n",
    "    s2_d = kwargs.get('s2_d',None)\n",
    "    sidlist = kwargs.get('sidlist',None)\n",
    "    didlist = kwargs.get('didlist',None)\n",
    "    L = kwargs.get('L', None)\n",
    "    ncores = kwargs.get('ncores',4)\n",
    "    \n",
    "    ## Define the table for statistics\n",
    "    statstables = [(np.zeros((len(stat_temps), nb)).tolist(), \n",
    "                    np.zeros((len(stat_temps), nb)).tolist()) \n",
    "                   for i in range(len(statsfunctions))]\n",
    "            \n",
    "    ## Iterate\n",
    "    itermcs = nb*num_in_bin\n",
    "    swaps = [0 for t in range(nt)]\n",
    "    t_join = 0\n",
    "    t_spins = 0\n",
    "    t_tempering = 0\n",
    "    t_stat = 0\n",
    "    for it in range(itermcs):\n",
    "        #### EVOLVE using the mcsevolve function of the dimer\n",
    "        #### module (C)\n",
    "        # Note that states, betas, statesen get updated\n",
    "        t1 = time()\n",
    "        dim.mcsevolve(hamiltonian, states, betas, statesen, d_nd, d_vd, \n",
    "                      d_wn, iterworm, nitermax, ncores)\n",
    "        t2 = time()\n",
    "        t_join += (t2-t1)/itermcs\n",
    "        #### TEMPERING perform \"parallel\" tempering\n",
    "        tempering(nt, statesen, betas, states)\n",
    "        t3 = time()\n",
    "        t_tempering +=(t3-t2)/itermcs\n",
    "        \n",
    "        #### STATS update the statistics\n",
    "        bid = it//num_in_bin\n",
    "        if len(statsfunctions) != 0 or check:\n",
    "            for resid,tid in enumerate(stat_temps):\n",
    "                statistics(tid, resid, bid, states, statesen,statestables,\n",
    "                           spinstates,statsfunctions, sidlist, didlist, L, s_ijl, num_in_bin)\n",
    "        ##### (Sometimes implement parallel updating of the statistics, if worth it)\n",
    "        ##### (the trade-off is between the memory and the )\n",
    "        t4 = time()\n",
    "        t_spins += (t4-t3)/itermcs\n",
    "        \n",
    "    # ENDFOR\n",
    "    \n",
    "    # verifications\n",
    "    \n",
    "    if len(statsfunctions) != 0 or check:\n",
    "        for t in stat_temps:\n",
    "            assert len(onestatecheck(spinstates[t], states[t], d_2s)) == 0,\\\n",
    "            'Loss of consistency at temperature index {0}'.format(t)\n",
    "    ttot = time()\n",
    "    print('Time for mcsevolve = {0}'.format(t_join))\n",
    "    print('Time for tempering = {0}'.format(t_tempering))\n",
    "    print('Time for mapping to spins + computing statistics= {0}'.format(t_spins))\n",
    "    \n",
    "    return statstables, swaps"
   ]
  }
 ],
 "metadata": {
  "kernelspec": {
   "display_name": "Python 3",
   "language": "python",
   "name": "python3"
  },
  "language_info": {
   "codemirror_mode": {
    "name": "ipython",
    "version": 3
   },
   "file_extension": ".py",
   "mimetype": "text/x-python",
   "name": "python",
   "nbconvert_exporter": "python",
   "pygments_lexer": "ipython3",
   "version": "3.5.3"
  }
 },
 "nbformat": 4,
 "nbformat_minor": 2
}
