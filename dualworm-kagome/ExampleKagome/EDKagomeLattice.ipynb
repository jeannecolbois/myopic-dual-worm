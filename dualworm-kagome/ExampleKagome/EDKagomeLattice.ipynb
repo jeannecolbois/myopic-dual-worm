{
 "cells": [
  {
   "cell_type": "code",
   "execution_count": null,
   "metadata": {
    "collapsed": true
   },
   "outputs": [],
   "source": [
    "import numpy as np\n",
    "import matplotlib.pyplot as plt\n",
    "%matplotlib inline\n",
    "\n",
    "import KagomeDrawing as kdraw\n",
    "import GraphDrawing as gdw\n",
    "import KagomeFunctions as kf\n",
    "import DualwormFunctions as dw\n",
    "import argparse"
   ]
  },
  {
   "cell_type": "code",
   "execution_count": null,
   "metadata": {
    "collapsed": true
   },
   "outputs": [],
   "source": [
    "def getPositions(s_ijl,a = 2):\n",
    "    pos = {} #empty dictionary\n",
    "    for s, (i,j,l) in enumerate(s_ijl):\n",
    "        x = a * (i + j / 2.0)\n",
    "        y = a * j * np.sqrt(3) / 2.0\n",
    "        if l == 0:\n",
    "            x += a / 2.0\n",
    "        if l == 1:\n",
    "            x += a / 4.0\n",
    "            y += a * np.sqrt(3) / 4.0\n",
    "        if l == 2:\n",
    "            x -= a / 4.0\n",
    "            y += a * np.sqrt(3) / 4.0\n",
    "        pos[s] = (x,y)\n",
    "    return pos"
   ]
  },
  {
   "cell_type": "code",
   "execution_count": null,
   "metadata": {
    "collapsed": true
   },
   "outputs": [],
   "source": [
    "def spinHamiltonian():\n",
    "    return 0"
   ]
  },
  {
   "cell_type": "code",
   "execution_count": null,
   "metadata": {
    "collapsed": true
   },
   "outputs": [],
   "source": [
    "def unpackbits(x, num_bits):\n",
    "    '''\n",
    "    Thanks stackoverflow\n",
    "    ...\n",
    "    \n",
    "    Unpacking the bits of an int with given number of bits\n",
    "    '''\n",
    "\n",
    "    xshape = list(x.shape)\n",
    "    x = x.reshape([-1, 1])\n",
    "    to_and = 2**np.arange(num_bits).reshape([1, num_bits])\n",
    "    return (x & to_and).astype(bool).astype(int).reshape(xshape + [num_bits])"
   ]
  },
  {
   "cell_type": "code",
   "execution_count": null,
   "metadata": {
    "collapsed": true
   },
   "outputs": [],
   "source": [
    "def main(args):\n",
    "    ## Initialisation\n",
    "    L = args.L\n",
    "    print('Lattice side size: ', L)\n",
    "\n",
    "    (s_ijl, ijl_s) = kdraw.createspinsitetable(L)\n",
    "    pos = getPositions(s_ijl, a = 2)\n",
    "\n",
    "    plt.figure()\n",
    "    plt.axis('equal')\n",
    "    gdw.draw_nodes(pos, list(pos.keys()), c = \"blue\", s = 20)\n",
    "    plt.tick_params(  \n",
    "        which = 'both',      # both major and minor ticks are affected\n",
    "        bottom = False,      # ticks along the bottom edge are off\n",
    "        top = False,         # ticks along the top edge are off\n",
    "        labelbottom = False,\n",
    "        left = False,\n",
    "        right = False,\n",
    "        labelleft = False)\n",
    "\n",
    "    plt.figure()\n",
    "    plt.axis('equal')\n",
    "    kdraw.plot_kag_nodes(L,2)\n",
    "    plt.tick_params(  \n",
    "        which = 'both',      # both major and minor ticks are affected\n",
    "        bottom = False,      # ticks along the bottom edge are off\n",
    "        top = False,         # ticks along the top edge are off\n",
    "        labelbottom = False,\n",
    "        left = False,\n",
    "        right = False,\n",
    "        labelleft = False)\n",
    "    plt.show()\n",
    "\n",
    "    [d_ijl, ijl_d, s_ijl, ijl_s, d_2s, s2_d, \n",
    "     d_nd, d_vd, d_wn, sidlist, didlist, c_ijl, ijl_c, c2s, csign] = dw.latticeinit(L)\n",
    "    \n",
    "    ## Hamiltonian\n",
    "    J1 = args.J1\n",
    "    J2 = args.J2\n",
    "    J3 = args.J3\n",
    "    J3st = J3\n",
    "    J4 = args.J4\n",
    "    h = args.h\n",
    "    couplings = {'J1': J1, 'J2':J2, 'J3':J3, 'J3st':J3st, 'J4':J4}\n",
    "    print(\"Couplings extracted: \", couplings)\n",
    "    \n",
    "    hamiltonian = dw.Hamiltonian(couplings,d_ijl, ijl_d, L)\n",
    "    print(\"hamiltonian computed\")\n",
    "    \n",
    "    minstate = np.zeros(9*L**2, dtype = \"int8\")\n",
    "    \n",
    "    energies = np.zeros(2**(9*L**2))\n",
    "    minenergy = 0;\n",
    "    for spinstateval in range(0,2**(9*L**2)):\n",
    "        spinstate = unpackbits(np.array(spinstateval),9*L**2)*2 - 1\n",
    "        state = np.zeros(len(d_ijl), dtype ='int8')\n",
    "        for id_dim in range(len(d_ijl)):\n",
    "            [id_s1, id_s2] = d_2s[id_dim]\n",
    "            s1 = spinstate[id_s1]\n",
    "            s2 = spinstate[id_s2]\n",
    "            state[id_dim] = s1*s2\n",
    "        energy = dw.compute_energy(hamiltonian, state)\n",
    "        energies[spinstateval] = energy\n",
    "        if energy < minenergy:\n",
    "            minstate = spinstate\n",
    "            minenergy = energy\n",
    "    \n",
    "    plt.figure()\n",
    "    plt.axis('equal')\n",
    "    kdraw.plot_kag_spinstate(minstate, ijl_s, L, 2, 'lightblue', 'blue', 'red', linewidth = 1)\n",
    "    plt.tick_params(  \n",
    "        which = 'both',      # both major and minor ticks are affected\n",
    "        bottom = False,      # ticks along the bottom edge are off\n",
    "        top = False,         # ticks along the top edge are off\n",
    "        labelbottom = False,\n",
    "        left = False,\n",
    "        right = False,\n",
    "        labelleft = False)\n",
    "    plt.show()\n",
    "    return s_ijl, hamiltonian, minstate, minenergy, energies"
   ]
  },
  {
   "cell_type": "code",
   "execution_count": null,
   "metadata": {
    "collapsed": true
   },
   "outputs": [],
   "source": [
    "if __name__ == \"__main__\":\n",
    "    \n",
    "\n",
    "    ### PARSING\n",
    "    parser = argparse.ArgumentParser()\n",
    "\n",
    "    parser.add_argument('--L', type = int, default = 2, help = 'Lattice side size')\n",
    "\n",
    "    # COUPLINGS\n",
    "    parser.add_argument('--J1', type = float, default = 1.0,\n",
    "                        help = 'NN coupling') # nearest-neighbour coupling\n",
    "    parser.add_argument('--J2', type = float, default = 0.0,\n",
    "                        help = '2nd NN coupling') # 2nd NN coupling\n",
    "    parser.add_argument('--J3', type = float, default = 0.0,\n",
    "                        help = '3rd NN coupling') # 3rd NN coupling\n",
    "    parser.add_argument('--J4', type = float, default = 0.0,\n",
    "                        help = '4th NN coupling')\n",
    "    parser.add_argument('--h', type = float, default = 0.0,\n",
    "                        help = 'Magnetic field')\n",
    "    \n",
    "    \n",
    "    args = parser.parse_args()\n",
    "    \n",
    "    main(args)"
   ]
  }
 ],
 "metadata": {
  "kernelspec": {
   "display_name": "Python 3",
   "language": "python",
   "name": "python3"
  },
  "language_info": {
   "codemirror_mode": {
    "name": "ipython",
    "version": 3
   },
   "file_extension": ".py",
   "mimetype": "text/x-python",
   "name": "python",
   "nbconvert_exporter": "python",
   "pygments_lexer": "ipython3",
   "version": "3.5.3"
  }
 },
 "nbformat": 4,
 "nbformat_minor": 2
}
