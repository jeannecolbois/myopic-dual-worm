{
 "cells": [
  {
   "cell_type": "code",
   "execution_count": 1,
   "metadata": {
    "collapsed": true
   },
   "outputs": [],
   "source": [
    "import os,sys,inspect\n",
    "currentdir = os.path.dirname(os.path.abspath(inspect.getfile(inspect.currentframe())))\n",
    "parentdir = os.path.dirname(currentdir)\n",
    "sys.path.insert(0,parentdir) "
   ]
  },
  {
   "cell_type": "code",
   "execution_count": 2,
   "metadata": {
    "collapsed": true
   },
   "outputs": [],
   "source": [
    "import numpy as np\n",
    "import matplotlib.pyplot as plt\n",
    "%matplotlib inline\n",
    "\n",
    "import KagomeDrawing as kdraw\n",
    "import KagomeFunctions as kf\n",
    "import GraphDrawing as gdw"
   ]
  },
  {
   "cell_type": "code",
   "execution_count": 3,
   "metadata": {
    "collapsed": true
   },
   "outputs": [],
   "source": [
    "def getPositions(s_ijl,a = 2):\n",
    "    pos = {} #empty dictionary\n",
    "    for s, (i,j,l) in enumerate(s_ijl):\n",
    "        x = a * (i + j / 2.0)\n",
    "        y = a * j * np.sqrt(3) / 2.0\n",
    "        if l == 0:\n",
    "            x += a / 2.0\n",
    "        if l == 1:\n",
    "            x += a / 4.0\n",
    "            y += a * np.sqrt(3) / 4.0\n",
    "        if l == 2:\n",
    "            x -= a / 4.0\n",
    "            y += a * np.sqrt(3) / 4.0\n",
    "        pos[s] = (x,y)\n",
    "    return pos"
   ]
  },
  {
   "cell_type": "code",
   "execution_count": 4,
   "metadata": {
    "collapsed": false
   },
   "outputs": [
    {
     "data": {
      "image/png": "iVBORw0KGgoAAAANSUhEUgAAAWQAAADuCAYAAAAOR30qAAAABHNCSVQICAgIfAhkiAAAAAlwSFlz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\n",
      "text/plain": [
       "<Figure size 432x288 with 1 Axes>"
      ]
     },
     "metadata": {},
     "output_type": "display_data"
    },
    {
     "data": {
      "image/png": "iVBORw0KGgoAAAANSUhEUgAAAWQAAADuCAYAAAAOR30qAAAABHNCSVQICAgIfAhkiAAAAAlwSFlz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\n",
      "text/plain": [
       "<Figure size 432x288 with 1 Axes>"
      ]
     },
     "metadata": {},
     "output_type": "display_data"
    }
   ],
   "source": [
    "L = 2\n",
    "(s_ijl, ijl_s) = kdraw.createspinsitetable(L)\n",
    "pos = getPositions(s_ijl, a = 2)\n",
    "\n",
    "plt.figure()\n",
    "plt.axis('equal')\n",
    "gdw.draw_nodes(pos, list(pos.keys()), c = \"blue\", s = 20)\n",
    "plt.tick_params(  \n",
    "    which = 'both',      # both major and minor ticks are affected\n",
    "    bottom = False,      # ticks along the bottom edge are off\n",
    "    top = False,         # ticks along the top edge are off\n",
    "    labelbottom = False,\n",
    "    left = False,\n",
    "    right = False,\n",
    "    labelleft = False)\n",
    "\n",
    "\n",
    "plt.figure()\n",
    "plt.axis('equal')\n",
    "kdraw.plot_kag_nodes(L,2)\n",
    "plt.tick_params(  \n",
    "    which = 'both',      # both major and minor ticks are affected\n",
    "    bottom = False,      # ticks along the bottom edge are off\n",
    "    top = False,         # ticks along the top edge are off\n",
    "    labelbottom = False,\n",
    "    left = False,\n",
    "    right = False,\n",
    "    labelleft = False)\n",
    "plt.show()"
   ]
  },
  {
   "cell_type": "code",
   "execution_count": 5,
   "metadata": {
    "collapsed": false
   },
   "outputs": [
    {
     "name": "stdout",
     "output_type": "stream",
     "text": [
      "Number of spins: 9*L**2 =  36\n",
      "[(0, 1, 0), (0, 1, 1), (0, 1, 2), (0, 2, 0), (0, 2, 1), (0, 2, 2), (0, 3, 0), (0, 3, 1), (0, 3, 2), (1, 0, 0), (1, 0, 1), (1, 0, 2), (1, 1, 0), (1, 1, 1), (1, 1, 2), (1, 2, 0), (1, 2, 1), (1, 2, 2), (1, 3, 0), (1, 3, 1), (1, 3, 2), (2, 0, 0), (2, 0, 1), (2, 0, 2), (2, 1, 0), (2, 1, 1), (2, 1, 2), (2, 2, 0), (2, 2, 1), (2, 2, 2), (3, 0, 0), (3, 0, 1), (3, 0, 2), (3, 1, 0), (3, 1, 1), (3, 1, 2)]\n"
     ]
    }
   ],
   "source": [
    "print(\"Number of spins: 9*L**2 = \", len(s_ijl))\n",
    "print(s_ijl)"
   ]
  },
  {
   "cell_type": "code",
   "execution_count": 6,
   "metadata": {
    "collapsed": false
   },
   "outputs": [
    {
     "name": "stdout",
     "output_type": "stream",
     "text": [
      "Number of NN pairs: 2*N_spins =  72\n",
      "List NN pairs :  [[0, 1], [0, 14], [0, 10], [0, 11], [1, 14], [10, 11], [3, 4], [3, 17], [3, 13], [3, 14], [4, 17], [13, 14], [6, 7], [6, 20], [6, 16], [6, 17], [7, 20], [16, 17], [9, 10], [9, 23], [9, 7], [9, 8], [10, 23], [7, 8], [12, 13], [12, 26], [12, 22], [12, 23], [13, 26], [22, 23], [15, 16], [15, 29], [15, 25], [15, 26], [16, 29], [25, 26], [18, 19], [18, 2], [18, 28], [18, 29], [19, 2], [28, 29], [21, 22], [21, 32], [21, 19], [21, 20], [22, 32], [19, 20], [24, 25], [24, 35], [24, 31], [24, 32], [25, 35], [31, 32], [27, 28], [27, 11], [27, 34], [27, 35], [28, 11], [34, 35], [30, 31], [30, 5], [30, 1], [30, 2], [31, 5], [1, 2], [33, 34], [33, 8], [33, 4], [33, 5], [34, 8], [4, 5]]\n",
      "List NN pairs as (i,j,l) indices:  [((0, 1, 0), (0, 1, 1)), ((0, 1, 0), (1, 1, 2)), ((0, 1, 0), (1, 0, 1)), ((0, 1, 0), (1, 0, 2)), ((0, 1, 1), (1, 1, 2)), ((1, 0, 1), (1, 0, 2)), ((0, 2, 0), (0, 2, 1)), ((0, 2, 0), (1, 2, 2)), ((0, 2, 0), (1, 1, 1)), ((0, 2, 0), (1, 1, 2)), ((0, 2, 1), (1, 2, 2)), ((1, 1, 1), (1, 1, 2)), ((0, 3, 0), (0, 3, 1)), ((0, 3, 0), (1, 3, 2)), ((0, 3, 0), (1, 2, 1)), ((0, 3, 0), (1, 2, 2)), ((0, 3, 1), (1, 3, 2)), ((1, 2, 1), (1, 2, 2)), ((1, 0, 0), (1, 0, 1)), ((1, 0, 0), (2, 0, 2)), ((1, 0, 0), (0, 3, 1)), ((1, 0, 0), (0, 3, 2)), ((1, 0, 1), (2, 0, 2)), ((0, 3, 1), (0, 3, 2)), ((1, 1, 0), (1, 1, 1)), ((1, 1, 0), (2, 1, 2)), ((1, 1, 0), (2, 0, 1)), ((1, 1, 0), (2, 0, 2)), ((1, 1, 1), (2, 1, 2)), ((2, 0, 1), (2, 0, 2)), ((1, 2, 0), (1, 2, 1)), ((1, 2, 0), (2, 2, 2)), ((1, 2, 0), (2, 1, 1)), ((1, 2, 0), (2, 1, 2)), ((1, 2, 1), (2, 2, 2)), ((2, 1, 1), (2, 1, 2)), ((1, 3, 0), (1, 3, 1)), ((1, 3, 0), (0, 1, 2)), ((1, 3, 0), (2, 2, 1)), ((1, 3, 0), (2, 2, 2)), ((1, 3, 1), (0, 1, 2)), ((2, 2, 1), (2, 2, 2)), ((2, 0, 0), (2, 0, 1)), ((2, 0, 0), (3, 0, 2)), ((2, 0, 0), (1, 3, 1)), ((2, 0, 0), (1, 3, 2)), ((2, 0, 1), (3, 0, 2)), ((1, 3, 1), (1, 3, 2)), ((2, 1, 0), (2, 1, 1)), ((2, 1, 0), (3, 1, 2)), ((2, 1, 0), (3, 0, 1)), ((2, 1, 0), (3, 0, 2)), ((2, 1, 1), (3, 1, 2)), ((3, 0, 1), (3, 0, 2)), ((2, 2, 0), (2, 2, 1)), ((2, 2, 0), (1, 0, 2)), ((2, 2, 0), (3, 1, 1)), ((2, 2, 0), (3, 1, 2)), ((2, 2, 1), (1, 0, 2)), ((3, 1, 1), (3, 1, 2)), ((3, 0, 0), (3, 0, 1)), ((3, 0, 0), (0, 2, 2)), ((3, 0, 0), (0, 1, 1)), ((3, 0, 0), (0, 1, 2)), ((3, 0, 1), (0, 2, 2)), ((0, 1, 1), (0, 1, 2)), ((3, 1, 0), (3, 1, 1)), ((3, 1, 0), (0, 3, 2)), ((3, 1, 0), (0, 2, 1)), ((3, 1, 0), (0, 2, 2)), ((3, 1, 1), (0, 3, 2)), ((0, 2, 1), (0, 2, 2))]\n"
     ]
    }
   ],
   "source": [
    "nnpairs = kf.NNpairs(ijl_s, s_ijl,L)\n",
    "print(\"Number of NN pairs: 2*N_spins = \", len(nnpairs))\n",
    "print(\"List NN pairs : \", nnpairs)\n",
    "print(\"List NN pairs as (i,j,l) indices: \", [(s_ijl[nnpair[0]], s_ijl[nnpair[1]]) for nnpair in nnpairs])"
   ]
  },
  {
   "cell_type": "code",
   "execution_count": 7,
   "metadata": {
    "collapsed": false
   },
   "outputs": [
    {
     "name": "stdout",
     "output_type": "stream",
     "text": [
      "Number of NN2 pairs: 2*N_spins =  72\n",
      "List NN2 pairs :  [[0, 13], [0, 2], [1, 11], [1, 3], [14, 10], [14, 30], [3, 16], [3, 5], [4, 14], [4, 6], [17, 13], [17, 33], [6, 19], [6, 8], [7, 17], [7, 21], [20, 16], [20, 9], [9, 22], [9, 11], [10, 8], [10, 12], [23, 7], [23, 0], [12, 25], [12, 14], [13, 23], [13, 15], [26, 22], [26, 3], [15, 28], [15, 17], [16, 26], [16, 18], [29, 25], [29, 6], [18, 1], [18, 20], [19, 29], [19, 30], [2, 28], [2, 21], [21, 31], [21, 23], [22, 20], [22, 24], [32, 19], [32, 12], [24, 34], [24, 26], [25, 32], [25, 27], [35, 31], [35, 15], [27, 10], [27, 29], [28, 35], [28, 0], [11, 34], [11, 18], [30, 4], [30, 32], [31, 2], [31, 33], [5, 1], [5, 24], [33, 7], [33, 35], [34, 5], [34, 9], [8, 4], [8, 27]]\n",
      "List NN2 pairs as (i,j,l) indices:  [((0, 1, 0), (1, 1, 1)), ((0, 1, 0), (0, 1, 2)), ((0, 1, 1), (1, 0, 2)), ((0, 1, 1), (0, 2, 0)), ((1, 1, 2), (1, 0, 1)), ((1, 1, 2), (3, 0, 0)), ((0, 2, 0), (1, 2, 1)), ((0, 2, 0), (0, 2, 2)), ((0, 2, 1), (1, 1, 2)), ((0, 2, 1), (0, 3, 0)), ((1, 2, 2), (1, 1, 1)), ((1, 2, 2), (3, 1, 0)), ((0, 3, 0), (1, 3, 1)), ((0, 3, 0), (0, 3, 2)), ((0, 3, 1), (1, 2, 2)), ((0, 3, 1), (2, 0, 0)), ((1, 3, 2), (1, 2, 1)), ((1, 3, 2), (1, 0, 0)), ((1, 0, 0), (2, 0, 1)), ((1, 0, 0), (1, 0, 2)), ((1, 0, 1), (0, 3, 2)), ((1, 0, 1), (1, 1, 0)), ((2, 0, 2), (0, 3, 1)), ((2, 0, 2), (0, 1, 0)), ((1, 1, 0), (2, 1, 1)), ((1, 1, 0), (1, 1, 2)), ((1, 1, 1), (2, 0, 2)), ((1, 1, 1), (1, 2, 0)), ((2, 1, 2), (2, 0, 1)), ((2, 1, 2), (0, 2, 0)), ((1, 2, 0), (2, 2, 1)), ((1, 2, 0), (1, 2, 2)), ((1, 2, 1), (2, 1, 2)), ((1, 2, 1), (1, 3, 0)), ((2, 2, 2), (2, 1, 1)), ((2, 2, 2), (0, 3, 0)), ((1, 3, 0), (0, 1, 1)), ((1, 3, 0), (1, 3, 2)), ((1, 3, 1), (2, 2, 2)), ((1, 3, 1), (3, 0, 0)), ((0, 1, 2), (2, 2, 1)), ((0, 1, 2), (2, 0, 0)), ((2, 0, 0), (3, 0, 1)), ((2, 0, 0), (2, 0, 2)), ((2, 0, 1), (1, 3, 2)), ((2, 0, 1), (2, 1, 0)), ((3, 0, 2), (1, 3, 1)), ((3, 0, 2), (1, 1, 0)), ((2, 1, 0), (3, 1, 1)), ((2, 1, 0), (2, 1, 2)), ((2, 1, 1), (3, 0, 2)), ((2, 1, 1), (2, 2, 0)), ((3, 1, 2), (3, 0, 1)), ((3, 1, 2), (1, 2, 0)), ((2, 2, 0), (1, 0, 1)), ((2, 2, 0), (2, 2, 2)), ((2, 2, 1), (3, 1, 2)), ((2, 2, 1), (0, 1, 0)), ((1, 0, 2), (3, 1, 1)), ((1, 0, 2), (1, 3, 0)), ((3, 0, 0), (0, 2, 1)), ((3, 0, 0), (3, 0, 2)), ((3, 0, 1), (0, 1, 2)), ((3, 0, 1), (3, 1, 0)), ((0, 2, 2), (0, 1, 1)), ((0, 2, 2), (2, 1, 0)), ((3, 1, 0), (0, 3, 1)), ((3, 1, 0), (3, 1, 2)), ((3, 1, 1), (0, 2, 2)), ((3, 1, 1), (1, 0, 0)), ((0, 3, 2), (0, 2, 1)), ((0, 3, 2), (2, 2, 0))]\n"
     ]
    }
   ],
   "source": [
    "nn2pairs = kf.NN2pairs(ijl_s, s_ijl,L)\n",
    "print(\"Number of NN2 pairs: 2*N_spins = \", len(nn2pairs))\n",
    "print(\"List NN2 pairs : \", nn2pairs)\n",
    "print(\"List NN2 pairs as (i,j,l) indices: \", [(s_ijl[nn2pair[0]], s_ijl[nn2pair[1]]) for nn2pair in nn2pairs])"
   ]
  },
  {
   "cell_type": "code",
   "execution_count": 8,
   "metadata": {
    "collapsed": false
   },
   "outputs": [
    {
     "name": "stdout",
     "output_type": "stream",
     "text": [
      "Number of NN3// pairs: 2*N_spins =  72\n",
      "List NN3// pairs :  [[0, 3], [0, 30], [1, 10], [1, 19], [2, 14], [2, 5], [3, 6], [3, 33], [4, 13], [4, 31], [5, 17], [5, 8], [6, 21], [6, 9], [7, 16], [7, 34], [8, 20], [8, 23], [9, 12], [9, 0], [10, 7], [10, 28], [11, 23], [11, 14], [12, 15], [12, 3], [13, 22], [13, 1], [14, 26], [14, 17], [15, 18], [15, 6], [16, 25], [16, 4], [17, 29], [17, 20], [18, 30], [18, 21], [19, 28], [19, 7], [20, 2], [20, 32], [21, 24], [21, 12], [22, 19], [22, 10], [23, 32], [23, 26], [24, 27], [24, 15], [25, 31], [25, 13], [26, 35], [26, 29], [27, 0], [27, 18], [28, 34], [28, 16], [29, 11], [29, 2], [30, 33], [30, 24], [31, 1], [31, 22], [32, 5], [32, 35], [33, 9], [33, 27], [34, 4], [34, 25], [35, 8], [35, 11]]\n",
      "List NN3// pairs as (i,j,l) indices:  [((0, 1, 0), (0, 2, 0)), ((0, 1, 0), (3, 0, 0)), ((0, 1, 1), (1, 0, 1)), ((0, 1, 1), (1, 3, 1)), ((0, 1, 2), (1, 1, 2)), ((0, 1, 2), (0, 2, 2)), ((0, 2, 0), (0, 3, 0)), ((0, 2, 0), (3, 1, 0)), ((0, 2, 1), (1, 1, 1)), ((0, 2, 1), (3, 0, 1)), ((0, 2, 2), (1, 2, 2)), ((0, 2, 2), (0, 3, 2)), ((0, 3, 0), (2, 0, 0)), ((0, 3, 0), (1, 0, 0)), ((0, 3, 1), (1, 2, 1)), ((0, 3, 1), (3, 1, 1)), ((0, 3, 2), (1, 3, 2)), ((0, 3, 2), (2, 0, 2)), ((1, 0, 0), (1, 1, 0)), ((1, 0, 0), (0, 1, 0)), ((1, 0, 1), (0, 3, 1)), ((1, 0, 1), (2, 2, 1)), ((1, 0, 2), (2, 0, 2)), ((1, 0, 2), (1, 1, 2)), ((1, 1, 0), (1, 2, 0)), ((1, 1, 0), (0, 2, 0)), ((1, 1, 1), (2, 0, 1)), ((1, 1, 1), (0, 1, 1)), ((1, 1, 2), (2, 1, 2)), ((1, 1, 2), (1, 2, 2)), ((1, 2, 0), (1, 3, 0)), ((1, 2, 0), (0, 3, 0)), ((1, 2, 1), (2, 1, 1)), ((1, 2, 1), (0, 2, 1)), ((1, 2, 2), (2, 2, 2)), ((1, 2, 2), (1, 3, 2)), ((1, 3, 0), (3, 0, 0)), ((1, 3, 0), (2, 0, 0)), ((1, 3, 1), (2, 2, 1)), ((1, 3, 1), (0, 3, 1)), ((1, 3, 2), (0, 1, 2)), ((1, 3, 2), (3, 0, 2)), ((2, 0, 0), (2, 1, 0)), ((2, 0, 0), (1, 1, 0)), ((2, 0, 1), (1, 3, 1)), ((2, 0, 1), (1, 0, 1)), ((2, 0, 2), (3, 0, 2)), ((2, 0, 2), (2, 1, 2)), ((2, 1, 0), (2, 2, 0)), ((2, 1, 0), (1, 2, 0)), ((2, 1, 1), (3, 0, 1)), ((2, 1, 1), (1, 1, 1)), ((2, 1, 2), (3, 1, 2)), ((2, 1, 2), (2, 2, 2)), ((2, 2, 0), (0, 1, 0)), ((2, 2, 0), (1, 3, 0)), ((2, 2, 1), (3, 1, 1)), ((2, 2, 1), (1, 2, 1)), ((2, 2, 2), (1, 0, 2)), ((2, 2, 2), (0, 1, 2)), ((3, 0, 0), (3, 1, 0)), ((3, 0, 0), (2, 1, 0)), ((3, 0, 1), (0, 1, 1)), ((3, 0, 1), (2, 0, 1)), ((3, 0, 2), (0, 2, 2)), ((3, 0, 2), (3, 1, 2)), ((3, 1, 0), (1, 0, 0)), ((3, 1, 0), (2, 2, 0)), ((3, 1, 1), (0, 2, 1)), ((3, 1, 1), (2, 1, 1)), ((3, 1, 2), (0, 3, 2)), ((3, 1, 2), (1, 0, 2))]\n"
     ]
    }
   ],
   "source": [
    "nn3parpairs = kf.NN3parpairs(ijl_s, s_ijl,L)\n",
    "print(\"Number of NN3// pairs: 2*N_spins = \", len(nn3parpairs))\n",
    "print(\"List NN3// pairs : \", nn3parpairs)\n",
    "print(\"List NN3// pairs as (i,j,l) indices: \", [(s_ijl[nn3pair[0]], s_ijl[nn3pair[1]]) for nn3pair in nn3parpairs])" =======
   ]
  },
  {
   "cell_type": "code",
   "execution_count": 9,
   "metadata": {
    "collapsed": false
   },
   "outputs": [
    {
     "name": "stdout",
     "output_type": "stream",
     "text": [
      "Number of NN3* pairs:N_spins =  36\n",
      "List NN3* pairs :  [[0, 18], [1, 28], [2, 11], [3, 30], [4, 1], [5, 14], [6, 33], [7, 4], [8, 17], [9, 27], [10, 34], [11, 8], [12, 0], [13, 10], [14, 23], [15, 3], [16, 13], [17, 26], [18, 6], [19, 16], [20, 29], [21, 9], [22, 7], [23, 20], [24, 12], [25, 22], [26, 32], [27, 15], [28, 25], [29, 35], [30, 21], [31, 19], [32, 2], [33, 24], [34, 31], [35, 5]]\n",
      "List NN3* pairs as (i,j,l) indices:  [((0, 1, 0), (1, 3, 0)), ((0, 1, 1), (2, 2, 1)), ((0, 1, 2), (1, 0, 2)), ((0, 2, 0), (3, 0, 0)), ((0, 2, 1), (0, 1, 1)), ((0, 2, 2), (1, 1, 2)), ((0, 3, 0), (3, 1, 0)), ((0, 3, 1), (0, 2, 1)), ((0, 3, 2), (1, 2, 2)), ((1, 0, 0), (2, 2, 0)), ((1, 0, 1), (3, 1, 1)), ((1, 0, 2), (0, 3, 2)), ((1, 1, 0), (0, 1, 0)), ((1, 1, 1), (1, 0, 1)), ((1, 1, 2), (2, 0, 2)), ((1, 2, 0), (0, 2, 0)), ((1, 2, 1), (1, 1, 1)), ((1, 2, 2), (2, 1, 2)), ((1, 3, 0), (0, 3, 0)), ((1, 3, 1), (1, 2, 1)), ((1, 3, 2), (2, 2, 2)), ((2, 0, 0), (1, 0, 0)), ((2, 0, 1), (0, 3, 1)), ((2, 0, 2), (1, 3, 2)), ((2, 1, 0), (1, 1, 0)), ((2, 1, 1), (2, 0, 1)), ((2, 1, 2), (3, 0, 2)), ((2, 2, 0), (1, 2, 0)), ((2, 2, 1), (2, 1, 1)), ((2, 2, 2), (3, 1, 2)), ((3, 0, 0), (2, 0, 0)), ((3, 0, 1), (1, 3, 1)), ((3, 0, 2), (0, 1, 2)), ((3, 1, 0), (2, 1, 0)), ((3, 1, 1), (3, 0, 1)), ((3, 1, 2), (0, 2, 2))]\n"
     ]
    }
   ],
   "source": [
    "nn3starpairs = kf.NN3starpairs(ijl_s, s_ijl,L)\n",
    "print(\"Number of NN3* pairs:N_spins = \", len(nn3starpairs))\n",
    "print(\"List NN3* pairs : \", nn3starpairs)\n",
    "print(\"List NN3* pairs as (i,j,l) indices: \", [(s_ijl[nn3pair[0]], s_ijl[nn3pair[1]]) for nn3pair in nn3starpairs])"
   ]
  }
 ],
 "metadata": {
  "kernelspec": {
   "display_name": "Python 3",
   "language": "python",
   "name": "python3"
  },
  "language_info": {
   "codemirror_mode": {
    "name": "ipython",
    "version": 3
   },
   "file_extension": ".py",
   "mimetype": "text/x-python",
   "name": "python",
   "nbconvert_exporter": "python",
   "pygments_lexer": "ipython3",
   "version": "3.5.3"
  }
 },
 "nbformat": 4,
 "nbformat_minor": 2
}
