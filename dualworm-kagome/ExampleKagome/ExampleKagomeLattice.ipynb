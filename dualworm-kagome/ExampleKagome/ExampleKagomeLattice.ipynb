{
 "cells": [
  {
   "cell_type": "code",
   "execution_count": 1,
   "metadata": {},
   "outputs": [],
   "source": [
    "import numpy as np\n",
    "import matplotlib.pyplot as plt\n",
    "%matplotlib inline\n",
    "\n",
    "import KagomeDrawing as kdraw\n",
    "import KagomeFunctions as kf"
   ]
  },
  {
   "cell_type": "code",
   "execution_count": 2,
   "metadata": {},
   "outputs": [
    {
     "data": {
      "image/png": "[encoded data removed]",
      "text/plain": [
       "<Figure size 432x288 with 1 Axes>"
      ]
     },
     "metadata": {},
     "output_type": "display_data"
    }
   ],
   "source": [
    "L = 2\n",
    "(s_ijl, ijl_s) = kdraw.createspinsitetable(L)\n",
    "plt.figure()\n",
    "plt.axis('equal')\n",
    "kdraw.plot_kag_nodes(L,2)\n",
    "plt.tick_params(  \n",
    "    which = 'both',      # both major and minor ticks are affected\n",
    "    bottom = False,      # ticks along the bottom edge are off\n",
    "    top = False,         # ticks along the top edge are off\n",
    "    labelbottom = False,\n",
    "    left = False,\n",
    "    right = False,\n",
    "    labelleft = False)\n",
    "plt.show()"
   ]
  },
  {
   "cell_type": "code",
   "execution_count": 3,
   "metadata": {},
   "outputs": [
    {
     "name": "stdout",
     "output_type": "stream",
     "text": [
      "Number of spins: 9*L**2 =  36\n",
      "[(0, 1, 0), (0, 1, 1), (0, 1, 2), (0, 2, 0), (0, 2, 1), (0, 2, 2), (0, 3, 0), (0, 3, 1), (0, 3, 2), (1, 0, 0), (1, 0, 1), (1, 0, 2), (1, 1, 0), (1, 1, 1), (1, 1, 2), (1, 2, 0), (1, 2, 1), (1, 2, 2), (1, 3, 0), (1, 3, 1), (1, 3, 2), (2, 0, 0), (2, 0, 1), (2, 0, 2), (2, 1, 0), (2, 1, 1), (2, 1, 2), (2, 2, 0), (2, 2, 1), (2, 2, 2), (3, 0, 0), (3, 0, 1), (3, 0, 2), (3, 1, 0), (3, 1, 1), (3, 1, 2)]\n"
     ]
    }
   ],
   "source": [
    "print(\"Number of spins: 9*L**2 = \", len(s_ijl))\n",
    "print(s_ijl)"
   ]
  },
  {
   "cell_type": "code",
   "execution_count": 4,
   "metadata": {},
   "outputs": [
    {
     "name": "stdout",
     "output_type": "stream",
     "text": [
      "Number of NN pairs: 2*N_spins =  72\n",
      "List NN pairs :  [[0, 1], [0, 14], [0, 10], [0, 11], [1, 14], [10, 11], [3, 4], [3, 17], [3, 13], [3, 14], [4, 17], [13, 14], [6, 7], [6, 20], [6, 16], [6, 17], [7, 20], [16, 17], [9, 10], [9, 23], [9, 7], [9, 8], [10, 23], [7, 8], [12, 13], [12, 26], [12, 22], [12, 23], [13, 26], [22, 23], [15, 16], [15, 29], [15, 25], [15, 26], [16, 29], [25, 26], [18, 19], [18, 2], [18, 28], [18, 29], [19, 2], [28, 29], [21, 22], [21, 32], [21, 19], [21, 20], [22, 32], [19, 20], [24, 25], [24, 35], [24, 31], [24, 32], [25, 35], [31, 32], [27, 28], [27, 11], [27, 34], [27, 35], [28, 11], [34, 35], [30, 31], [30, 5], [30, 1], [30, 2], [31, 5], [1, 2], [33, 34], [33, 8], [33, 4], [33, 5], [34, 8], [4, 5]]\n",
      "List NN pairs as (i,j,l) indices:  [((0, 1, 0), (0, 1, 1)), ((0, 1, 0), (1, 1, 2)), ((0, 1, 0), (1, 0, 1)), ((0, 1, 0), (1, 0, 2)), ((0, 1, 1), (1, 1, 2)), ((1, 0, 1), (1, 0, 2)), ((0, 2, 0), (0, 2, 1)), ((0, 2, 0), (1, 2, 2)), ((0, 2, 0), (1, 1, 1)), ((0, 2, 0), (1, 1, 2)), ((0, 2, 1), (1, 2, 2)), ((1, 1, 1), (1, 1, 2)), ((0, 3, 0), (0, 3, 1)), ((0, 3, 0), (1, 3, 2)), ((0, 3, 0), (1, 2, 1)), ((0, 3, 0), (1, 2, 2)), ((0, 3, 1), (1, 3, 2)), ((1, 2, 1), (1, 2, 2)), ((1, 0, 0), (1, 0, 1)), ((1, 0, 0), (2, 0, 2)), ((1, 0, 0), (0, 3, 1)), ((1, 0, 0), (0, 3, 2)), ((1, 0, 1), (2, 0, 2)), ((0, 3, 1), (0, 3, 2)), ((1, 1, 0), (1, 1, 1)), ((1, 1, 0), (2, 1, 2)), ((1, 1, 0), (2, 0, 1)), ((1, 1, 0), (2, 0, 2)), ((1, 1, 1), (2, 1, 2)), ((2, 0, 1), (2, 0, 2)), ((1, 2, 0), (1, 2, 1)), ((1, 2, 0), (2, 2, 2)), ((1, 2, 0), (2, 1, 1)), ((1, 2, 0), (2, 1, 2)), ((1, 2, 1), (2, 2, 2)), ((2, 1, 1), (2, 1, 2)), ((1, 3, 0), (1, 3, 1)), ((1, 3, 0), (0, 1, 2)), ((1, 3, 0), (2, 2, 1)), ((1, 3, 0), (2, 2, 2)), ((1, 3, 1), (0, 1, 2)), ((2, 2, 1), (2, 2, 2)), ((2, 0, 0), (2, 0, 1)), ((2, 0, 0), (3, 0, 2)), ((2, 0, 0), (1, 3, 1)), ((2, 0, 0), (1, 3, 2)), ((2, 0, 1), (3, 0, 2)), ((1, 3, 1), (1, 3, 2)), ((2, 1, 0), (2, 1, 1)), ((2, 1, 0), (3, 1, 2)), ((2, 1, 0), (3, 0, 1)), ((2, 1, 0), (3, 0, 2)), ((2, 1, 1), (3, 1, 2)), ((3, 0, 1), (3, 0, 2)), ((2, 2, 0), (2, 2, 1)), ((2, 2, 0), (1, 0, 2)), ((2, 2, 0), (3, 1, 1)), ((2, 2, 0), (3, 1, 2)), ((2, 2, 1), (1, 0, 2)), ((3, 1, 1), (3, 1, 2)), ((3, 0, 0), (3, 0, 1)), ((3, 0, 0), (0, 2, 2)), ((3, 0, 0), (0, 1, 1)), ((3, 0, 0), (0, 1, 2)), ((3, 0, 1), (0, 2, 2)), ((0, 1, 1), (0, 1, 2)), ((3, 1, 0), (3, 1, 1)), ((3, 1, 0), (0, 3, 2)), ((3, 1, 0), (0, 2, 1)), ((3, 1, 0), (0, 2, 2)), ((3, 1, 1), (0, 3, 2)), ((0, 2, 1), (0, 2, 2))]\n"
     ]
    }
   ],
   "source": [
    "nnpairs = kf.NNpairs(ijl_s, s_ijl,L)\n",
    "print(\"Number of NN pairs: 2*N_spins = \", len(nnpairs))\n",
    "print(\"List NN pairs : \", nnpairs)\n",
    "print(\"List NN pairs as (i,j,l) indices: \", [(s_ijl[nnpair[0]], s_ijl[nnpair[1]]) for nnpair in nnpairs])"
   ]
  },
  {
   "cell_type": "code",
   "execution_count": 5,
   "metadata": {},
   "outputs": [
    {
     "name": "stdout",
     "output_type": "stream",
     "text": [
      "Number of NN2 pairs: 2*N_spins =  72\n",
      "List NN2 pairs :  [[0, 13], [0, 2], [1, 11], [1, 3], [14, 10], [14, 30], [3, 16], [3, 5], [4, 14], [4, 6], [17, 13], [17, 33], [6, 19], [6, 8], [7, 17], [7, 21], [20, 16], [20, 9], [9, 22], [9, 11], [10, 8], [10, 12], [23, 7], [23, 0], [12, 25], [12, 14], [13, 23], [13, 15], [26, 22], [26, 3], [15, 28], [15, 17], [16, 26], [16, 18], [29, 25], [29, 6], [18, 1], [18, 20], [19, 29], [19, 30], [2, 28], [2, 21], [21, 31], [21, 23], [22, 20], [22, 24], [32, 19], [32, 12], [24, 34], [24, 26], [25, 32], [25, 27], [35, 31], [35, 15], [27, 10], [27, 29], [28, 35], [28, 0], [11, 34], [11, 18], [30, 4], [30, 32], [31, 2], [31, 33], [5, 1], [5, 24], [33, 7], [33, 35], [34, 5], [34, 9], [8, 4], [8, 27]]\n",
      "List NN2 pairs as (i,j,l) indices:  [((0, 1, 0), (1, 1, 1)), ((0, 1, 0), (0, 1, 2)), ((0, 1, 1), (1, 0, 2)), ((0, 1, 1), (0, 2, 0)), ((1, 1, 2), (1, 0, 1)), ((1, 1, 2), (3, 0, 0)), ((0, 2, 0), (1, 2, 1)), ((0, 2, 0), (0, 2, 2)), ((0, 2, 1), (1, 1, 2)), ((0, 2, 1), (0, 3, 0)), ((1, 2, 2), (1, 1, 1)), ((1, 2, 2), (3, 1, 0)), ((0, 3, 0), (1, 3, 1)), ((0, 3, 0), (0, 3, 2)), ((0, 3, 1), (1, 2, 2)), ((0, 3, 1), (2, 0, 0)), ((1, 3, 2), (1, 2, 1)), ((1, 3, 2), (1, 0, 0)), ((1, 0, 0), (2, 0, 1)), ((1, 0, 0), (1, 0, 2)), ((1, 0, 1), (0, 3, 2)), ((1, 0, 1), (1, 1, 0)), ((2, 0, 2), (0, 3, 1)), ((2, 0, 2), (0, 1, 0)), ((1, 1, 0), (2, 1, 1)), ((1, 1, 0), (1, 1, 2)), ((1, 1, 1), (2, 0, 2)), ((1, 1, 1), (1, 2, 0)), ((2, 1, 2), (2, 0, 1)), ((2, 1, 2), (0, 2, 0)), ((1, 2, 0), (2, 2, 1)), ((1, 2, 0), (1, 2, 2)), ((1, 2, 1), (2, 1, 2)), ((1, 2, 1), (1, 3, 0)), ((2, 2, 2), (2, 1, 1)), ((2, 2, 2), (0, 3, 0)), ((1, 3, 0), (0, 1, 1)), ((1, 3, 0), (1, 3, 2)), ((1, 3, 1), (2, 2, 2)), ((1, 3, 1), (3, 0, 0)), ((0, 1, 2), (2, 2, 1)), ((0, 1, 2), (2, 0, 0)), ((2, 0, 0), (3, 0, 1)), ((2, 0, 0), (2, 0, 2)), ((2, 0, 1), (1, 3, 2)), ((2, 0, 1), (2, 1, 0)), ((3, 0, 2), (1, 3, 1)), ((3, 0, 2), (1, 1, 0)), ((2, 1, 0), (3, 1, 1)), ((2, 1, 0), (2, 1, 2)), ((2, 1, 1), (3, 0, 2)), ((2, 1, 1), (2, 2, 0)), ((3, 1, 2), (3, 0, 1)), ((3, 1, 2), (1, 2, 0)), ((2, 2, 0), (1, 0, 1)), ((2, 2, 0), (2, 2, 2)), ((2, 2, 1), (3, 1, 2)), ((2, 2, 1), (0, 1, 0)), ((1, 0, 2), (3, 1, 1)), ((1, 0, 2), (1, 3, 0)), ((3, 0, 0), (0, 2, 1)), ((3, 0, 0), (3, 0, 2)), ((3, 0, 1), (0, 1, 2)), ((3, 0, 1), (3, 1, 0)), ((0, 2, 2), (0, 1, 1)), ((0, 2, 2), (2, 1, 0)), ((3, 1, 0), (0, 3, 1)), ((3, 1, 0), (3, 1, 2)), ((3, 1, 1), (0, 2, 2)), ((3, 1, 1), (1, 0, 0)), ((0, 3, 2), (0, 2, 1)), ((0, 3, 2), (2, 2, 0))]\n"
     ]
    }
   ],
   "source": [
    "nn2pairs = kf.NN2pairs(ijl_s, s_ijl,L)\n",
    "print(\"Number of NN2 pairs: 2*N_spins = \", len(nn2pairs))\n",
    "print(\"List NN2 pairs : \", nn2pairs)\n",
    "print(\"List NN2 pairs as (i,j,l) indices: \", [(s_ijl[nn2pair[0]], s_ijl[nn2pair[1]]) for nn2pair in nn2pairs])"
   ]
  },
  {
   "cell_type": "code",
   "execution_count": 6,
   "metadata": {},
   "outputs": [
    {
     "name": "stdout",
     "output_type": "stream",
     "text": [
      "Number of NN3// pairs: 2*N_spins =  72\n",
      "List NN3// pairs :  [[0, 3], [0, 30], [1, 10], [1, 19], [2, 14], [2, 5], [3, 6], [3, 33], [4, 13], [4, 31], [5, 17], [5, 8], [6, 21], [6, 9], [7, 16], [7, 34], [8, 20], [8, 23], [9, 12], [9, 0], [10, 7], [10, 28], [11, 23], [11, 14], [12, 15], [12, 3], [13, 22], [13, 1], [14, 26], [14, 17], [15, 18], [15, 6], [16, 25], [16, 4], [17, 29], [17, 20], [18, 30], [18, 21], [19, 28], [19, 7], [20, 2], [20, 32], [21, 24], [21, 12], [22, 19], [22, 10], [23, 32], [23, 26], [24, 27], [24, 15], [25, 31], [25, 13], [26, 35], [26, 29], [27, 0], [27, 18], [28, 34], [28, 16], [29, 11], [29, 2], [30, 33], [30, 24], [31, 1], [31, 22], [32, 5], [32, 35], [33, 9], [33, 27], [34, 4], [34, 25], [35, 8], [35, 11]]\n",
      "List NN3// pairs as (i,j,l) indices:  [((0, 1, 0), (0, 2, 0)), ((0, 1, 0), (3, 0, 0)), ((0, 1, 1), (1, 0, 1)), ((0, 1, 1), (1, 3, 1)), ((0, 1, 2), (1, 1, 2)), ((0, 1, 2), (0, 2, 2)), ((0, 2, 0), (0, 3, 0)), ((0, 2, 0), (3, 1, 0)), ((0, 2, 1), (1, 1, 1)), ((0, 2, 1), (3, 0, 1)), ((0, 2, 2), (1, 2, 2)), ((0, 2, 2), (0, 3, 2)), ((0, 3, 0), (2, 0, 0)), ((0, 3, 0), (1, 0, 0)), ((0, 3, 1), (1, 2, 1)), ((0, 3, 1), (3, 1, 1)), ((0, 3, 2), (1, 3, 2)), ((0, 3, 2), (2, 0, 2)), ((1, 0, 0), (1, 1, 0)), ((1, 0, 0), (0, 1, 0)), ((1, 0, 1), (0, 3, 1)), ((1, 0, 1), (2, 2, 1)), ((1, 0, 2), (2, 0, 2)), ((1, 0, 2), (1, 1, 2)), ((1, 1, 0), (1, 2, 0)), ((1, 1, 0), (0, 2, 0)), ((1, 1, 1), (2, 0, 1)), ((1, 1, 1), (0, 1, 1)), ((1, 1, 2), (2, 1, 2)), ((1, 1, 2), (1, 2, 2)), ((1, 2, 0), (1, 3, 0)), ((1, 2, 0), (0, 3, 0)), ((1, 2, 1), (2, 1, 1)), ((1, 2, 1), (0, 2, 1)), ((1, 2, 2), (2, 2, 2)), ((1, 2, 2), (1, 3, 2)), ((1, 3, 0), (3, 0, 0)), ((1, 3, 0), (2, 0, 0)), ((1, 3, 1), (2, 2, 1)), ((1, 3, 1), (0, 3, 1)), ((1, 3, 2), (0, 1, 2)), ((1, 3, 2), (3, 0, 2)), ((2, 0, 0), (2, 1, 0)), ((2, 0, 0), (1, 1, 0)), ((2, 0, 1), (1, 3, 1)), ((2, 0, 1), (1, 0, 1)), ((2, 0, 2), (3, 0, 2)), ((2, 0, 2), (2, 1, 2)), ((2, 1, 0), (2, 2, 0)), ((2, 1, 0), (1, 2, 0)), ((2, 1, 1), (3, 0, 1)), ((2, 1, 1), (1, 1, 1)), ((2, 1, 2), (3, 1, 2)), ((2, 1, 2), (2, 2, 2)), ((2, 2, 0), (0, 1, 0)), ((2, 2, 0), (1, 3, 0)), ((2, 2, 1), (3, 1, 1)), ((2, 2, 1), (1, 2, 1)), ((2, 2, 2), (1, 0, 2)), ((2, 2, 2), (0, 1, 2)), ((3, 0, 0), (3, 1, 0)), ((3, 0, 0), (2, 1, 0)), ((3, 0, 1), (0, 1, 1)), ((3, 0, 1), (2, 0, 1)), ((3, 0, 2), (0, 2, 2)), ((3, 0, 2), (3, 1, 2)), ((3, 1, 0), (1, 0, 0)), ((3, 1, 0), (2, 2, 0)), ((3, 1, 1), (0, 2, 1)), ((3, 1, 1), (2, 1, 1)), ((3, 1, 2), (0, 3, 2)), ((3, 1, 2), (1, 0, 2))]\n"
     ]
    }
   ],
   "source": [
    "nn3pairs = kf.NN3pairs(ijl_s, s_ijl,L)\n",
    "print(\"Number of NN3// pairs: 2*N_spins = \", len(nn3pairs))\n",
    "print(\"List NN3// pairs : \", nn3pairs)\n",
    "print(\"List NN3// pairs as (i,j,l) indices: \", [(s_ijl[nn3pair[0]], s_ijl[nn3pair[1]]) for nn3pair in nn3pairs])"
   ]
  },
  {
   "cell_type": "code",
   "execution_count": 7,
   "metadata": {},
   "outputs": [
    {
     "name": "stdout",
     "output_type": "stream",
     "text": [
      "Number of NN3* pairs:N_spins =  36\n",
      "List NN3* pairs :  [[0, 18], [1, 28], [2, 11], [3, 30], [4, 1], [5, 14], [6, 33], [7, 4], [8, 17], [9, 27], [10, 34], [11, 8], [12, 0], [13, 10], [14, 23], [15, 3], [16, 13], [17, 26], [18, 6], [19, 16], [20, 29], [21, 9], [22, 7], [23, 20], [24, 12], [25, 22], [26, 32], [27, 15], [28, 25], [29, 35], [30, 21], [31, 19], [32, 2], [33, 24], [34, 31], [35, 5]]\n",
      "List NN3* pairs as (i,j,l) indices:  [((0, 1, 0), (1, 3, 0)), ((0, 1, 1), (2, 2, 1)), ((0, 1, 2), (1, 0, 2)), ((0, 2, 0), (3, 0, 0)), ((0, 2, 1), (0, 1, 1)), ((0, 2, 2), (1, 1, 2)), ((0, 3, 0), (3, 1, 0)), ((0, 3, 1), (0, 2, 1)), ((0, 3, 2), (1, 2, 2)), ((1, 0, 0), (2, 2, 0)), ((1, 0, 1), (3, 1, 1)), ((1, 0, 2), (0, 3, 2)), ((1, 1, 0), (0, 1, 0)), ((1, 1, 1), (1, 0, 1)), ((1, 1, 2), (2, 0, 2)), ((1, 2, 0), (0, 2, 0)), ((1, 2, 1), (1, 1, 1)), ((1, 2, 2), (2, 1, 2)), ((1, 3, 0), (0, 3, 0)), ((1, 3, 1), (1, 2, 1)), ((1, 3, 2), (2, 2, 2)), ((2, 0, 0), (1, 0, 0)), ((2, 0, 1), (0, 3, 1)), ((2, 0, 2), (1, 3, 2)), ((2, 1, 0), (1, 1, 0)), ((2, 1, 1), (2, 0, 1)), ((2, 1, 2), (3, 0, 2)), ((2, 2, 0), (1, 2, 0)), ((2, 2, 1), (2, 1, 1)), ((2, 2, 2), (3, 1, 2)), ((3, 0, 0), (2, 0, 0)), ((3, 0, 1), (1, 3, 1)), ((3, 0, 2), (0, 1, 2)), ((3, 1, 0), (2, 1, 0)), ((3, 1, 1), (3, 0, 1)), ((3, 1, 2), (0, 2, 2))]\n"
     ]
    }
   ],
   "source": [
    "nn3pairs = kf.NN4pairs(ijl_s, s_ijl,L)\n",
    "print(\"Number of NN3* pairs:N_spins = \", len(nn3pairs))\n",
    "print(\"List NN3* pairs : \", nn3pairs)\n",
    "print(\"List NN3* pairs as (i,j,l) indices: \", [(s_ijl[nn3pair[0]], s_ijl[nn3pair[1]]) for nn3pair in nn3pairs])"
   ]
  }
 ],
 "metadata": {
  "kernelspec": {
   "display_name": "Python 3",
   "language": "python",
   "name": "python3"
  },
  "language_info": {
   "codemirror_mode": {
    "name": "ipython",
    "version": 3
   },
   "file_extension": ".py",
   "mimetype": "text/x-python",
   "name": "python",
   "nbconvert_exporter": "python",
   "pygments_lexer": "ipython3",
   "version": "3.6.9"
  }
 },
 "nbformat": 4,
 "nbformat_minor": 2
}
