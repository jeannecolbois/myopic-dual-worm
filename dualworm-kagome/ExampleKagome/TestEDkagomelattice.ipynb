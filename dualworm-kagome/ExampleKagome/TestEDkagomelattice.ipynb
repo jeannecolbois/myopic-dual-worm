{
 "cells": [
  {
   "cell_type": "code",
   "execution_count": 1,
   "metadata": {},
   "outputs": [],
   "source": [
    "import os,sys,inspect\n",
    "currentdir = os.path.dirname(os.path.abspath(inspect.getfile(inspect.currentframe())))\n",
    "parentdir = os.path.dirname(currentdir)\n",
    "sys.path.insert(0,parentdir) "
   ]
  },
  {
   "cell_type": "code",
   "execution_count": 2,
   "metadata": {},
   "outputs": [],
   "source": [
    "import argparse\n",
    "import EDKagomeLattice\n",
    "import matplotlib.pyplot as plt\n",
    "%matplotlib inline\n",
    "import numpy as np\n",
    "import KagomeDrawing as kdraw\n",
    "from matplotlib.collections import LineCollection\n"
   ]
  },
  {
   "cell_type": "code",
   "execution_count": 3,
   "metadata": {},
   "outputs": [],
   "source": [
    "L = 1 # Hi Patrick :) You don't want to change this"
   ]
  },
  {
   "cell_type": "code",
   "execution_count": 4,
   "metadata": {},
   "outputs": [],
   "source": [
    "# Everything there should work fine *fingers crossed*\n",
    "# Hamiltonian: H = J1 \\sum_{<i,j>} s_i s_j + J2 \\sum_{<<i,j>>} s_i s_j + J3 \\sum_{<<i,j>>} s_i s_j\n",
    "# --> J_i > 0 => antiferromagnetic, J_i < 0 => ferromagnetic\n",
    "J1 = 1\n",
    "J2 = 0.2\n",
    "J3 = 0"
   ]
  },
  {
   "cell_type": "code",
   "execution_count": 5,
   "metadata": {},
   "outputs": [],
   "source": [
    "def genArgs():\n",
    "    parser = argparse.ArgumentParser()\n",
    "    parser.add_argument('-f', type = str)\n",
    "    parser.add_argument('--L', type = int, default = L, help = 'Lattice side size')\n",
    "    # COUPLINGS\n",
    "    parser.add_argument('--J1', type = float, default = J1,\n",
    "                        help = 'NN coupling') # nearest-neighbour coupling\n",
    "    parser.add_argument('--J2', type = float, default = J2,\n",
    "                        help = '2nd NN coupling') # 2nd NN coupling\n",
    "    parser.add_argument('--J3', type = float, default = J3,\n",
    "                        help = '3rd NN coupling') # 3rd NN coupling\n",
    "    parser.add_argument('--J4', type = float, default = 0.0,\n",
    "                        help = '4th NN coupling')\n",
    "    parser.add_argument('--h', type = float, default = 0.0,\n",
    "                        help = 'Magnetic field')\n",
    "    args = parser.parse_args()\n",
    "    return args"
   ]
  },
  {
   "cell_type": "code",
   "execution_count": 6,
   "metadata": {},
   "outputs": [],
   "source": [
    "def callED():\n",
    "    args = genArgs()\n",
    "    return EDKagomeLattice.main(args)"
   ]
  },
  {
   "cell_type": "code",
   "execution_count": 7,
   "metadata": {},
   "outputs": [],
   "source": [
    "def unpackbits(x, num_bits):\n",
    "    '''\n",
    "    Thanks stackoverflow\n",
    "    ...\n",
    "    \n",
    "    Unpacking the bits of an int with given number of bits\n",
    "    '''\n",
    "\n",
    "    xshape = list(x.shape)\n",
    "    x = x.reshape([-1, 1])\n",
    "    to_and = 2**np.arange(num_bits).reshape([1, num_bits])\n",
    "    return (x & to_and).astype(bool).astype(int).reshape(xshape + [num_bits])\n",
    "\n",
    "def getspinstate(index, L=1):\n",
    "    '''\n",
    "        Get the spinstate associated with the integer index,\n",
    "        assuming a linear system size L.\n",
    "        Returns:\n",
    "        spinstate (np.array of +-1)\n",
    "    '''\n",
    "    spinstate = unpackbits(np.array(index),9*L**2)*2 - 1\n",
    "    return spinstate"
   ]
  },
  {
   "cell_type": "code",
   "execution_count": 8,
   "metadata": {},
   "outputs": [
    {
     "name": "stdout",
     "output_type": "stream",
     "text": [
      "Lattice side size:  1\n"
     ]
    },
    {
     "data": {
      "image/png": "[encoded data removed]",
      "text/plain": [
       "<Figure size 432x288 with 1 Axes>"
      ]
     },
     "metadata": {},
     "output_type": "display_data"
    },
    {
     "data": {
      "image/png": "[encoded data removed]",
      "text/plain": [
       "<Figure size 432x288 with 1 Axes>"
      ]
     },
     "metadata": {},
     "output_type": "display_data"
    },
    {
     "name": "stdout",
     "output_type": "stream",
     "text": [
      "Couplings extracted:  {'J1': 1, 'J2': 0.2, 'J3': 0, 'J3st': 0, 'J4': 0.0}\n",
      "hamiltonian computed\n"
     ]
    },
    {
     "data": {
      "image/png": "[encoded data removed]",
      "text/plain": [
       "<Figure size 432x288 with 1 Axes>"
      ]
     },
     "metadata": {},
     "output_type": "display_data"
    }
   ],
   "source": [
    "s_ijl, hamiltonian, minstate, minenergy, energies = callED()"
   ]
  },
  {
   "cell_type": "code",
   "execution_count": 9,
   "metadata": {},
   "outputs": [
    {
     "data": {
      "text/plain": [
       "-0.8"
      ]
     },
     "execution_count": 9,
     "metadata": {},
     "output_type": "execute_result"
    }
   ],
   "source": [
    "minenergy/(9*L**2)"
   ]
  },
  {
   "cell_type": "code",
   "execution_count": 10,
   "metadata": {},
   "outputs": [
    {
     "name": "stdout",
     "output_type": "stream",
     "text": [
      "Comparison with Small J3 phase ground state energy:\n",
      " -1.1102230246251565e-16\n",
      "Comparison with phase 2 GS energy:\n",
      " -1.1102230246251565e-16\n",
      "Comparison with Intermediate phase ground state energy:\n",
      " -0.13333333333333341\n",
      "Comparison with Small J2 phase ground state energy:\n",
      " -0.2666666666666667\n"
     ]
    }
   ],
   "source": [
    "print(\"Comparison with Small J3 phase ground state energy:\\n\",\n",
    "      minenergy/(9*L**2) -(-2/3 * J1 - 2/3 *J2 + J3))\n",
    "print(\"Comparison with phase 2 GS energy:\\n\",\n",
    "      minenergy/(9*L**2) -(-2/3 * J1 - 2/3*J2 + 3*J3))\n",
    "print(\"Comparison with Intermediate phase ground state energy:\\n\",\n",
    "      minenergy/(9*L**2) + 2/3 * J1 + 1/3 *J3)\n",
    "print(\"Comparison with Small J2 phase ground state energy:\\n\",\n",
    "      minenergy/(9*L**2) + 2/3 * J1 - 2/3 *J2 + J3)"
   ]
  },
  {
   "cell_type": "code",
   "execution_count": 11,
   "metadata": {},
   "outputs": [
    {
     "data": {
      "text/plain": [
       "-0.7999999999999999"
      ]
     },
     "execution_count": 11,
     "metadata": {},
     "output_type": "execute_result"
    }
   ],
   "source": [
    "(-2/3 * J1 - 2/3*J2 + 3*J3)"
   ]
  },
  {
   "cell_type": "code",
   "execution_count": 12,
   "metadata": {},
   "outputs": [
    {
     "name": "stdout",
     "output_type": "stream",
     "text": [
      "--- Looking at configuration  10  ---\n",
      "E =  4.0\n",
      "[-1  1 -1  1 -1 -1 -1 -1 -1]\n"
     ]
    },
    {
     "data": {
      "image/png": "[encoded data removed]",
      "text/plain": [
       "<Figure size 432x288 with 1 Axes>"
      ]
     },
     "metadata": {},
     "output_type": "display_data"
    },
    {
     "name": "stdout",
     "output_type": "stream",
     "text": [
      "Mapping to (i,j,l) coordinates\n",
      "( 0 , 0 , 0 ): s =  -1\n",
      "( 0 , 0 , 1 ): s =  1\n",
      "( 0 , 0 , 2 ): s =  -1\n",
      "( 0 , 1 , 0 ): s =  1\n",
      "( 0 , 1 , 1 ): s =  -1\n",
      "( 0 , 1 , 2 ): s =  -1\n",
      "( 1 , 0 , 0 ): s =  -1\n",
      "( 1 , 0 , 1 ): s =  -1\n",
      "( 1 , 0 , 2 ): s =  -1\n"
     ]
    }
   ],
   "source": [
    "# There are 2^(9L^2) configurations.\n",
    "# If you want to plot the nth one (with PBC repeated)\n",
    "n = 10\n",
    "print(\"--- Looking at configuration \", n, \" ---\")\n",
    "print(\"E = \", energies[n])\n",
    "spinstate = getspinstate(n)\n",
    "print(spinstate)\n",
    "plt.figure()\n",
    "plt.axis('equal')\n",
    "(s_ijl, ijl_s) = kdraw.createspinsitetable(L)\n",
    "kdraw.plot_kag_spinstate(spinstate, ijl_s, L, 2, 'lightblue', 'blue', 'red', linewidth = 1)\n",
    "plt.tick_params(  \n",
    "    which = 'both',      # both major and minor ticks are affected\n",
    "    bottom = False,      # ticks along the bottom edge are off\n",
    "    top = False,         # ticks along the top edge are off\n",
    "    labelbottom = False,\n",
    "    left = False,\n",
    "    right = False,\n",
    "    labelleft = False)\n",
    "plt.show()\n",
    "\n",
    "print(\"Mapping to (i,j,l) coordinates\")\n",
    "for s,(i,j,l) in enumerate(s_ijl):\n",
    "    print(\"(\",i,\",\",j,\",\",l,\"): s = \",spinstate[s])"
   ]
  },
  {
   "cell_type": "code",
   "execution_count": null,
   "metadata": {},
   "outputs": [],
   "source": []
  }
 ],
 "metadata": {
  "kernelspec": {
   "display_name": "Python 3",
   "language": "python",
   "name": "python3"
  },
  "language_info": {
   "codemirror_mode": {
    "name": "ipython",
    "version": 3
   },
   "file_extension": ".py",
   "mimetype": "text/x-python",
   "name": "python",
   "nbconvert_exporter": "python",
   "pygments_lexer": "ipython3",
   "version": "3.6.9"
  }
 },
 "nbformat": 4,
 "nbformat_minor": 2
}
