{
 "cells": [
  {
   "cell_type": "code",
   "execution_count": null,
   "metadata": {
    "collapsed": true
   },
   "outputs": [],
   "source": [
    "import os,sys,inspect\n",
    "currentdir = os.path.dirname(os.path.abspath(inspect.getfile(inspect.currentframe())))\n",
    "parentdir = os.path.dirname(currentdir)\n",
    "sys.path.insert(0,parentdir) "
   ]
  },
  {
   "cell_type": "code",
   "execution_count": null,
   "metadata": {
    "collapsed": true
   },
   "outputs": [],
   "source": [
    "import argparse\n",
    "import EDKagomeLattice\n",
    "import matplotlib.pyplot as plt\n",
    "%matplotlib inline\n",
    "import numpy as np\n",
    "import KagomeDrawing as kdraw"
   ]
  },
  {
   "cell_type": "code",
   "execution_count": null,
   "metadata": {
    "collapsed": true
   },
   "outputs": [],
   "source": [
    "L = 1 # Hi Patrick :) You don't want to change this"
   ]
  },
  {
   "cell_type": "code",
   "execution_count": null,
   "metadata": {
    "collapsed": true
   },
   "outputs": [],
   "source": [
    "# Everything there should work fine *fingers crossed*\n",
    "# Hamiltonian: H = J1 \\sum_{<i,j>} s_i s_j + J2 \\sum_{<<i,j>>} s_i s_j + J3 \\sum_{<<i,j>>} s_i s_j\n",
    "# --> J_i > 0 => antiferromagnetic, J_i < 0 => ferromagnetic\n",
    "J1 = 1\n",
    "J2 = 0.2\n",
    "J3 = 0"
   ]
  },
  {
   "cell_type": "code",
   "execution_count": null,
   "metadata": {
    "collapsed": true
   },
   "outputs": [],
   "source": [
    "def genArgs():\n",
    "    parser = argparse.ArgumentParser()\n",
    "    parser.add_argument('-f', type = str)\n",
    "    parser.add_argument('--L', type = int, default = L, help = 'Lattice side size')\n",
    "    # COUPLINGS\n",
    "    parser.add_argument('--J1', type = float, default = J1,\n",
    "                        help = 'NN coupling') # nearest-neighbour coupling\n",
    "    parser.add_argument('--J2', type = float, default = J2,\n",
    "                        help = '2nd NN coupling') # 2nd NN coupling\n",
    "    parser.add_argument('--J3', type = float, default = J3,\n",
    "                        help = '3rd NN coupling') # 3rd NN coupling\n",
    "    parser.add_argument('--J4', type = float, default = 0.0,\n",
    "                        help = '4th NN coupling')\n",
    "    parser.add_argument('--h', type = float, default = 0.0,\n",
    "                        help = 'Magnetic field')\n",
    "    args = parser.parse_args()\n",
    "    return args"
   ]
  },
  {
   "cell_type": "code",
   "execution_count": null,
   "metadata": {
    "collapsed": true
   },
   "outputs": [],
   "source": [
    "def callED():\n",
    "    args = genArgs()\n",
    "    return EDKagomeLattice.main(args)"
   ]
  },
  {
   "cell_type": "code",
   "execution_count": null,
   "metadata": {
    "collapsed": true
   },
   "outputs": [],
   "source": [
    "def unpackbits(x, num_bits):\n",
    "    '''\n",
    "    Thanks stackoverflow\n",
    "    ...\n",
    "    \n",
    "    Unpacking the bits of an int with given number of bits\n",
    "    '''\n",
    "\n",
    "    xshape = list(x.shape)\n",
    "    x = x.reshape([-1, 1])\n",
    "    to_and = 2**np.arange(num_bits).reshape([1, num_bits])\n",
    "    return (x & to_and).astype(bool).astype(int).reshape(xshape + [num_bits])\n",
    "\n",
    "def getspinstate(index, L=1):\n",
    "    '''\n",
    "        Get the spinstate associated with the integer index,\n",
    "        assuming a linear system size L.\n",
    "        Returns:\n",
    "        spinstate (np.array of +-1)\n",
    "    '''\n",
    "    spinstate = unpackbits(np.array(index),9*L**2)*2 - 1\n",
    "    return spinstate"
   ]
  },
  {
   "cell_type": "code",
   "execution_count": null,
   "metadata": {
    "collapsed": false
   },
   "outputs": [],
   "source": [
    "s_ijl, hamiltonian, minstate, minenergy, energies = callED()"
   ]
  },
  {
   "cell_type": "code",
   "execution_count": null,
   "metadata": {
    "collapsed": false
   },
   "outputs": [],
   "source": [
    "minenergy/(9*L**2)"
   ]
  },
  {
   "cell_type": "code",
   "execution_count": null,
   "metadata": {
    "collapsed": false
   },
   "outputs": [],
   "source": [
    "print(\"Comparison with Small J3 phase ground state energy:\\n\",\n",
    "      minenergy/(9*L**2) -(-2/3 * J1 - 2/3 *J2 + J3))\n",
    "print(\"Comparison with phase 2 GS energy:\\n\",\n",
    "      minenergy/(9*L**2) -(-2/3 * J1 - 2/3*J2 + 3*J3))\n",
    "print(\"Comparison with Intermediate phase ground state energy:\\n\",\n",
    "      minenergy/(9*L**2) + 2/3 * J1 + 1/3 *J3)\n",
    "print(\"Comparison with Small J2 phase ground state energy:\\n\",\n",
    "      minenergy/(9*L**2) + 2/3 * J1 - 2/3 *J2 + J3)"
   ]
  },
  {
   "cell_type": "code",
   "execution_count": null,
   "metadata": {
    "collapsed": false
   },
   "outputs": [],
   "source": [
    "(-2/3 * J1 - 2/3*J2 + 3*J3)"
   ]
  },
  {
   "cell_type": "code",
   "execution_count": null,
   "metadata": {
    "collapsed": false
   },
   "outputs": [],
   "source": [
    "# There are 2^(9L^2) configurations.\n",
    "# If you want to plot the nth one (with PBC repeated)\n",
    "n = 10\n",
    "print(\"--- Looking at configuration \", n, \" ---\")\n",
    "print(\"E = \", energies[n])\n",
    "spinstate = getspinstate(n)\n",
    "print(spinstate)\n",
    "plt.figure()\n",
    "plt.axis('equal')\n",
    "(s_ijl, ijl_s) = kdraw.createspinsitetable(L)\n",
    "kdraw.plot_kag_spinstate(spinstate, ijl_s, L, 2, 'lightblue', 'blue', 'red', linewidth = 1)\n",
    "plt.tick_params(  \n",
    "    which = 'both',      # both major and minor ticks are affected\n",
    "    bottom = False,      # ticks along the bottom edge are off\n",
    "    top = False,         # ticks along the top edge are off\n",
    "    labelbottom = False,\n",
    "    left = False,\n",
    "    right = False,\n",
    "    labelleft = False)\n",
    "plt.show()\n",
    "\n",
    "print(\"Mapping to (i,j,l) coordinates\")\n",
    "for s,(i,j,l) in enumerate(s_ijl):\n",
    "    print(\"(\",i,\",\",j,\",\",l,\"): s = \",spinstate[s])"
   ]
  }
 ],
 "metadata": {
  "kernelspec": {
   "display_name": "Python 3",
   "language": "python",
   "name": "python3"
  },
  "language_info": {
   "codemirror_mode": {
    "name": "ipython",
    "version": 3
   },
   "file_extension": ".py",
   "mimetype": "text/x-python",
   "name": "python",
   "nbconvert_exporter": "python",
   "pygments_lexer": "ipython3",
   "version": "3.5.3"
  }
 },
 "nbformat": 4,
 "nbformat_minor": 2
}
