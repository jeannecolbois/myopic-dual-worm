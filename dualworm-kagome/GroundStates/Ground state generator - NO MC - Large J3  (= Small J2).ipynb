{
 "cells": [
  {
   "cell_type": "code",
   "execution_count": null,
   "metadata": {
    "collapsed": true
   },
   "outputs": [],
   "source": [
    "# Hi Bram :)\n",
    "# Nice you did it till here. As you can see, comments in python\n",
    "# are done with the \"#\" sign."
   ]
  },
  {
   "cell_type": "markdown",
   "metadata": {},
   "source": [
    "However, Jupyter has as well this thing where you can have some cells in markdown language instead, isn't this nice?\n",
    "Below is a guided example for you, but first a few tips.\n",
    "\n",
    "#### 1 - Indentation \n",
    "A useful thing to remember when using python is that the language relies on the indentation to understand when you are ending functions, loops and tests. So, spaces and tabs are not random characters and you have to use them carefully and systematically.\n",
    "#### 2 - Execution\n",
    "In jupyter, you can execute the code cell by cell (just like in Matlab where you can execute sections of a script). You can either do this by clicking on the symbol >| up there, or by pressing Shift+Enter when you are on the cell.\n",
    "\n",
    "#### 3- Refs\n",
    "You can check this website out: https://medium.com/@rrfd/jupyter-notebook-shortcuts-tips-and-tricks-top-nbextensions-bring-order-to-your-notebooks-pt-1-b58f270963f9 and this one: https://www.dataquest.io/blog/jupyter-notebook-tips-tricks-shortcuts/"
   ]
  },
  {
   "cell_type": "code",
   "execution_count": null,
   "metadata": {
    "collapsed": true
   },
   "outputs": [],
   "source": [
    "import os,sys,inspect\n",
    "currentdir = os.path.dirname(os.path.abspath(inspect.getfile(inspect.currentframe())))\n",
    "parentdir = os.path.dirname(currentdir)\n",
    "sys.path.insert(0,parentdir) "
   ]
  },
  {
   "cell_type": "code",
   "execution_count": null,
   "metadata": {
    "collapsed": false
   },
   "outputs": [],
   "source": [
    "# Always start by importing whatever it is that you will need\n",
    "import numpy as np # Numpy is basically the matlab of python.\n",
    "import matplotlib.pyplot as plt # a very nice tool to plot\n",
    "%matplotlib inline \n",
    "# > this \"%\" symbol is called magic.\n",
    "# In practice, this line just makes sure that what I plot is displayed\n",
    "# in the jupyter notebook\n",
    "import os\n",
    "# just to be able to use mkdir\n",
    "\n",
    "import StartStates as strst \n",
    "# > Just some python functions to generate a bunch of states\n",
    "import KagomeFunctions as kf\n",
    "# > The functions which are related to the structure of the kagome lattice\n",
    "import DualwormFunctions as dw\n",
    "# > The python functions wrapping the MC code\n",
    "import KagomeDrawing as kdraw\n",
    "#import dimers as dim \n",
    "# > the main MC module, written in C++"
   ]
  },
  {
   "cell_type": "markdown",
   "metadata": {},
   "source": [
    "### Selecting the parameters and generating the states\n",
    "Here below, L is the linear size of the triangular sublattice, such that you have 9L^2 kagome lattice sites.\n",
    "\n",
    "Here I'm not using MC to generate the states, just the rules that I know. Therefore, while the states are very random for the J1-J2 Model, they are not for, say, the Large J2, Intermediate or even large J3 phases.\n",
    "\n",
    "The \"kwinit\" parameters just tell the statesinit function how to initialise the states\n",
    "- Fully randomly or not (not, if you want to generate sthg in the ground state of the given model)\n",
    "- All the same or not\n",
    "- Taking into account some magnetic field or not\n",
    "- If so, the value of the magnetic field"
   ]
  },
  {
   "cell_type": "code",
   "execution_count": null,
   "metadata": {
    "collapsed": true
   },
   "outputs": [],
   "source": [
    "#Parameters\n",
    "L = 12 # linear system size, N = 9L^2    \n",
    "# Large J3:\n",
    "couplings = {'J1': 1, 'J2':0.01, 'J3':0.1, 'J3st':0.1, 'J4':0}\n",
    "name = \"LargeJ3\"\n",
    "kwinit = {'random': False, 'same': False, 'magninit': False, 'h':0}"
   ]
  },
  {
   "cell_type": "code",
   "execution_count": null,
   "metadata": {
    "collapsed": false
   },
   "outputs": [],
   "source": [
    "[d_ijl, ijl_d, s_ijl, ijl_s, d_2s, s2_d,\n",
    " d_nd, d_vd, d_wn, sidlist, didlist,\n",
    " c_ijl, ijl_c, c2s, csign] = dw.latticeinit(L)\n",
    "hamiltonian = dw.Hamiltonian(couplings, d_ijl, ijl_d, L)\n",
    "nt = 20 # number of states\n",
    "(states, energies, spinstates) = strst.statesinit(nt, d_ijl, d_2s, s_ijl, hamiltonian, **kwinit)\n",
    "# Check that all the states are in the ground state\n",
    "print(\"--- Careful when interpreting the results below:--- \\n--- J3 not taken into account\\\n",
    "in the J1-J2 GS --- \\n--- J2 not taken into account in the J1-J3 GS---\")\n",
    "print(\"GS J1-J2:\",\n",
    "      all(abs(energies/(9*L**2) +\\\n",
    "              2/3*couplings['J1']+\\\n",
    "              2/3*couplings['J2'])< 1e-13))\n",
    "print(\"GS LJ2:\",\n",
    "      all(abs(energies/(9*L**2) +\\\n",
    "              2/3*couplings['J1']+\\\n",
    "              2/3*couplings['J2']-\\\n",
    "              couplings['J3'])< 1e-13))\n",
    "print(\"GS LJ3:\",\n",
    "      all(abs(energies/(9*L**2) +\\\n",
    "              2/3*couplings['J1']-\\\n",
    "              2/3*couplings['J2']+\\\n",
    "              couplings['J3'])< 1e-13))\n",
    "print(\"GS J1-J3:\",\n",
    "      all(abs(energies/(9*L**2) +\\\n",
    "              2/3*couplings['J1']+\\\n",
    "              couplings['J3'])< 1e-13))"
   ]
  },
  {
   "cell_type": "markdown",
   "metadata": {},
   "source": [
    "### Plotting the states\n",
    "If you want to plot the states (spin + dimers), execute the cell below. Otherwise, skip it and go to the next cell to translate the results into your formalism"
   ]
  },
  {
   "cell_type": "code",
   "execution_count": null,
   "metadata": {
    "collapsed": false,
    "scrolled": true
   },
   "outputs": [],
   "source": [
    "# Plot the spinstates\n",
    "for idstate in range(nt):\n",
    "    plt.figure()\n",
    "    kdraw.plotstate(idstate, L, d_ijl, ijl_s, sidlist, didlist, s2_d,\n",
    "                   states, spinstates,dim_node_color = 'orange',\n",
    "                    dim_color = \"orange\", no_dim_color = 'lightgrey')\n",
    "    plt.savefig(name+\"State{0}.png\".format(idstate))\n",
    "    plt.show()"
   ]
  },
  {
   "cell_type": "markdown",
   "metadata": {},
   "source": [
    "### Mapping my configurations to your notations\n",
    "The cell below defines a function which maps the coordinates (i,j,l) of a spin in my notation to the coordinates (x,y) of a spin in your notation"
   ]
  },
  {
   "cell_type": "code",
   "execution_count": null,
   "metadata": {
    "collapsed": true
   },
   "outputs": [],
   "source": [
    "def getKagomeMap(L,s_ijl):\n",
    "    '''\n",
    "        getKagomeMap(L,s_ijl)\n",
    "        Returns a mapping from the (i,j,l) notation for the kagome structure\n",
    "        to the (x,y) notation. In the (x,y) notation, sites with\n",
    "        both x odd and y odd don't exist.\n",
    "        \n",
    "        Inputs:\n",
    "        - L: the linear size of the triangular sub-lattice\n",
    "        - s_ijl:  the mapping between the linear\n",
    "        indexing and the ijl indexing\n",
    "        \n",
    "        Outputs:\n",
    "        - xyarray : s-> x,y\n",
    "        - ijl_xy (dict)\n",
    "        - xy_ijl (dict)\n",
    "        - xy_s (dict)\n",
    "    '''\n",
    "    xyarray = np.zeros((len(s_ijl), 2), dtype = \"int32\")\n",
    "    ijl_xy = {}\n",
    "    xy_ijl = {}\n",
    "    xy_s = {}\n",
    "    for s, (i,j,l) in enumerate(s_ijl):\n",
    "        # shifting to get reasonable results for x,y\n",
    "        i = i-L;\n",
    "        j = j-L;\n",
    "        # computing xy\n",
    "        if l == 0:\n",
    "            x = 2*(i+j)\n",
    "            y = 2*j - 1\n",
    "        elif l == 1:\n",
    "            x = 2*(i+j)\n",
    "            y = 2*j\n",
    "        elif l == 2:\n",
    "            x = 2*(i+j)-1\n",
    "            y = 2*j\n",
    "        # building the maps\n",
    "        xyarray[s,:] = np.array([x,y])\n",
    "        ijl_xy[(i,j,l)] = np.array([x,y])\n",
    "        xy_ijl[(x,y)] = np.array((i,j,l))\n",
    "        xy_s[(x,y)] = s\n",
    "    return xyarray, ijl_xy, xy_ijl, xy_s"
   ]
  },
  {
   "cell_type": "code",
   "execution_count": null,
   "metadata": {
    "collapsed": true
   },
   "outputs": [],
   "source": [
    "def mapStateToMatrix(L,s_ijl, spinstate):\n",
    "    '''\n",
    "        mapStateToMatrix(L,s_ijl, spinstate)\n",
    "        Returns the spin state in the form of a matrix\n",
    "        \n",
    "        Inputs:\n",
    "        - L: the linear size of the triangular sub-lattice\n",
    "        - s_ijl:  the mapping between the linear\n",
    "        indexing and the ijl indexing\n",
    "        - spinstate: the spin configuration to translate\n",
    "        \n",
    "        Outputs:\n",
    "        - matrix form of the state;\n",
    "        the odd (x,y) indices are padded with zeros\n",
    "    '''\n",
    "    xyarray, ijl_xy, xy_ijl, xy_s = getKagomeMap(L,s_ijl)\n",
    "    \n",
    "    xyarray[:,0] = xyarray[:,0] - (min(xyarray[:,0])-1)\n",
    "    xyarray[:,1] = xyarray[:,1] - (min(xyarray[:,1])-1)\n",
    "    \n",
    "    xystate = np.zeros((max(xyarray[:,0])+1, max(xyarray[:,1])+1),dtype = \"int8\")\n",
    "    for sid, s in enumerate(spinstate):\n",
    "        [x,y] = xyarray[sid]\n",
    "        xystate[x,y] = s\n",
    "    \n",
    "    return xystate"
   ]
  },
  {
   "cell_type": "code",
   "execution_count": null,
   "metadata": {
    "collapsed": true
   },
   "outputs": [],
   "source": [
    "def mapStatesToMatrices(L, s_ijl, spinstates):\n",
    "    '''\n",
    "        mapStatesToMatrices(L,s_ijl, spinstates)\n",
    "        Returns the spin states in the form of matrices\n",
    "        \n",
    "        Inputs:\n",
    "        - L: the linear size of the triangular sub-lattice\n",
    "        - s_ijl:  the mapping between the linear\n",
    "        indexing and the ijl indexing\n",
    "        - spinstates: a list of spin configurations to translate\n",
    "        \n",
    "        Outputs:\n",
    "        - list of matrix forms of the states;\n",
    "        the odd (x,y) indices are padded with zeros\n",
    "    '''\n",
    "    mlist = []\n",
    "    for i in range(len(spinstates)):\n",
    "        mlist.append(mapStateToMatrix(L, s_ijl, spinstates[i]))\n",
    "    \n",
    "    return mlist"
   ]
  },
  {
   "cell_type": "markdown",
   "metadata": {},
   "source": [
    "Below you actually compute the matrix form for each state and save it in txt (should be csv).\n",
    "If you want to cut the states to regions without zeros:\n",
    "    *mlist[n][xmin:xmax, ymin:ymax]*"
   ]
  },
  {
   "cell_type": "code",
   "execution_count": null,
   "metadata": {
    "collapsed": false,
    "scrolled": false
   },
   "outputs": [],
   "source": [
    "mlist = mapStatesToMatrices(L,s_ijl, spinstates)\n",
    "xmin = L\n",
    "xmax = 3*L\n",
    "ymin = L\n",
    "ymax = 3*L\n",
    "for n in range(nt):\n",
    "    np.savetxt(\n",
    "        name+\"state_MatrixForm{0}.txt\".format(n),\n",
    "        mlist[n][xmin:xmax, ymin:ymax])\n",
    "    # comment if you don't want to print:\n",
    "    print(mlist[n][xmin:xmax, ymin:ymax])"
   ]
  },
  {
   "cell_type": "markdown",
   "metadata": {},
   "source": [
    "Below you can compare a state in the spin form and in matrix form. The spin form is plotted with PBC and because of the natural choice of axis in imshow it is not that easy to compare, but you can see that it is working"
   ]
  },
  {
   "cell_type": "code",
   "execution_count": null,
   "metadata": {
    "collapsed": false
   },
   "outputs": [],
   "source": [
    "n = 0 # state index\n",
    "kdraw.plot_function_kag(spinstates[n],L,1)\n",
    "plt.matshow(mlist[n],cmap = 'plasma',vmin = -1, vmax = 1)"
   ]
  },
  {
   "cell_type": "code",
   "execution_count": null,
   "metadata": {
    "collapsed": true
   },
   "outputs": [],
   "source": []
  }
 ],
 "metadata": {
  "kernelspec": {
   "display_name": "Python 3",
   "language": "python",
   "name": "python3"
  },
  "language_info": {
   "codemirror_mode": {
    "name": "ipython",
    "version": 3
   },
   "file_extension": ".py",
   "mimetype": "text/x-python",
   "name": "python",
   "nbconvert_exporter": "python",
   "pygments_lexer": "ipython3",
   "version": "3.5.3"
  }
 },
 "nbformat": 4,
 "nbformat_minor": 2
}
