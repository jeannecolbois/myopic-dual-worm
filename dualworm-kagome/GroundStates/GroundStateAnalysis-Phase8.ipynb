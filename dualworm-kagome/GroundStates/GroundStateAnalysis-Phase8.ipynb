{
 "cells": [
  {
   "cell_type": "code",
   "execution_count": null,
   "metadata": {},
   "outputs": [],
   "source": [
    "import os,sys,inspect\n",
    "currentdir = os.path.dirname(os.path.abspath(inspect.getfile(inspect.currentframe())))\n",
    "parentdir = os.path.dirname(currentdir)\n",
    "sys.path.insert(0,parentdir)"
   ]
  },
  {
   "cell_type": "code",
   "execution_count": null,
   "metadata": {},
   "outputs": [],
   "source": [
    "import dimers as dim"
   ]
  },
  {
   "cell_type": "code",
   "execution_count": null,
   "metadata": {},
   "outputs": [],
   "source": [
    "import KagomeFunctions as lattice"
   ]
  },
  {
   "cell_type": "code",
   "execution_count": null,
   "metadata": {},
   "outputs": [],
   "source": [
    "import itertools"
   ]
  },
  {
   "cell_type": "code",
   "execution_count": null,
   "metadata": {},
   "outputs": [],
   "source": [
    "from scipy.special import erfc"
   ]
  },
  {
   "cell_type": "code",
   "execution_count": null,
   "metadata": {},
   "outputs": [],
   "source": [
    "from time import time"
   ]
  },
  {
   "cell_type": "code",
   "execution_count": null,
   "metadata": {},
   "outputs": [],
   "source": [
    "import DualwormFunctions as dw\n",
    "import Observables as obs\n",
    "\n",
    "%load_ext line_profiler\n",
    "%load_ext memory_profiler\n",
    "\n",
    "import RunBasis\n",
    "import argparse\n",
    "import StartStates as strst\n",
    "import numpy as np\n",
    "\n",
    "import AnalysisFunctions as af # functions to make the analysis code cleaner\n",
    "import KagomeDrawing as kdraw\n",
    "\n",
    "\n",
    "import matplotlib.pyplot as plt\n",
    "%matplotlib inline\n",
    "\n",
    "import yep"
   ]
  },
  {
   "cell_type": "code",
   "execution_count": null,
   "metadata": {},
   "outputs": [],
   "source": [
    "nst = 2048;\n",
    "nsm = 16;\n",
    "nips = 4;\n",
    "nrps = 4;\n",
    "nb = 4;\n",
    "measperiod = 1;\n",
    "nt = 128\n",
    "nh = 1\n",
    "ncores = 4\n",
    "nmaxiter = 1\n",
    "L = 8\n",
    "J1 = -0.2\n",
    "J2 = 1\n",
    "J3 = 1\n",
    "h = 0\n",
    "notfullstateupdate = True\n",
    "stroutput = \"Phase8_J1-0.2J21J31_L{0}_tests_11\".format(L)#_folder"
   ]
  },
  {
   "cell_type": "code",
   "execution_count": null,
   "metadata": {},
   "outputs": [],
   "source": [
    "# Create a folder to save the pictures\n",
    "foldername = \"./\" + stroutput + \"_folder/\" \n",
    "results_foldername = 'Results/'\n",
    "os.makedirs(foldername + results_foldername, exist_ok = True)\n",
    "\n",
    "filenamelist = [\"backup\"]\n",
    "n = len(filenamelist)"
   ]
  },
  {
   "cell_type": "code",
   "execution_count": null,
   "metadata": {},
   "outputs": [],
   "source": [
    "[L, numsites, J1, J2, J3, J3st, J4, nb, num_in_bin, temperatures, nt,\n",
    " stat_temps, temperatures_plots, hfields, nh,\n",
    " stat_hfields, hfields_plots, listfunctions, sref,ids2walker] =\\\n",
    "af.LoadParameters(foldername, filenamelist)"
   ]
  },
  {
   "cell_type": "code",
   "execution_count": null,
   "metadata": {},
   "outputs": [],
   "source": [
    "kw = {'binning': False, 'plzplot': True, 'plotmin': 0, 'plotmax': 16}\n",
    "[t_h_MeanE, t_h_MeanEsq, t_h_varMeanE, t_h_varMeanEsq, C, ErrC] = \\\n",
    " af.LoadEnergy(foldername, filenamelist, numsites,\n",
    "               nb, stat_temps, temperatures, stat_hfields,\n",
    "               listfunctions, **kw)"
   ]
  },
  {
   "cell_type": "code",
   "execution_count": null,
   "metadata": {},
   "outputs": [],
   "source": [
    "tidmin = 0\n",
    "tidmax = [len(stat_temps[i]) for i in range(n)]\n",
    "\n",
    "af.BasicPlotsE(L, n, tidmin, tidmax, temperatures_plots, hfields_plots, foldername,\n",
    "                results_foldername, filenamelist, t_h_MeanE, t_h_MeanEsq, t_h_varMeanE,\n",
    "                t_h_varMeanEsq, C, ErrC, J1, J2, J3, J4, S0 = np.log(2))"
   ]
  },
  {
   "cell_type": "code",
   "execution_count": null,
   "metadata": {},
   "outputs": [],
   "source": [
    "# Load the states\n",
    "t_spinstates, t_states, t_charges = af.LoadStates(stroutput+\"_folder/\", [\"backup\"], L, nh)\n",
    "latsize = t_spinstates[0][0].size\n",
    "[d_ijl, ijl_d, s_ijl, ijl_s, d_2s, s2_d, d_nd, d_vd, d_wn,\n",
    "     sidlist, didlist, c_ijl, ijl_c, c2s, csign] =\\\n",
    "    dw.latticeinit(L[0])\n",
    "print(ids2walker[0][1,0])"
   ]
  },
  {
   "cell_type": "code",
   "execution_count": null,
   "metadata": {},
   "outputs": [],
   "source": [
    "[groundspinstates, groundstates, groundcharges] = \\\n",
    " af.LoadGroundStates(stroutput+\"_folder/\", filenamelist, L, nh, [nsm],**kw)\n",
    "\n",
    "groundspinstates = groundspinstates[0]\n",
    "groundstates = groundstates[0]\n",
    "groundcharges = groundcharges[0]\n",
    "\n",
    "stlen = len(s_ijl)\n",
    "domainwalls = obs.dweasyphase(stlen, groundstates[0], [], [], [],[])"
   ]
  },
  {
   "cell_type": "code",
   "execution_count": null,
   "metadata": {},
   "outputs": [],
   "source": [
    "\n",
    "couplings = {'J1':J1[0], 'J2':J2[0],'J3':J3[0], 'J3st':J3[0]}\n",
    "hamiltonian = dw.Hamiltonian(couplings, d_ijl, ijl_d, L[0])\n"
   ]
  },
  {
   "cell_type": "code",
   "execution_count": null,
   "metadata": {
    "scrolled": false
   },
   "outputs": [],
   "source": [
    "#### State analysis\n",
    "for i in range(2):\n",
    "    #state = t_states[0][ids2walker[0][i,0]]\n",
    "    state = groundstates[i]\n",
    "    #spinstate = t_spinstates[0][ids2walker[0][i,0]]\n",
    "    spinstate = groundspinstates[i]\n",
    "    #charges = obs.charges(0, state, 0 , spinstate, s_ijl, ijl_s,c2s = c2s , csign= csign)\n",
    "    charges = groundcharges[i]\n",
    "    print(\"Energy per site:\" ,dw.compute_energy(hamiltonian, groundstates[i], len(s_ijl)))\n",
    "    \n",
    "    kdraw.plotstate(0, L[0], d_ijl, ijl_s, sidlist, didlist, s2_d, [state], [spinstate],\n",
    "                    dim_node_color = \"pink\", dim_color =np.array([[1, 1, 0, 0]]), \n",
    "                    no_dim_color=\"darkcyan\",\n",
    "                    spin_up_color = 'blue', spin_down_color = 'red', dimerlinewidth=20)\n",
    "    #kdraw.plot_honeycomb_chargestate(charges, ijl_c,\n",
    "    #                                 L,2,c1_color = 'blue', c2_color = 'green',\n",
    "    #                                 c3_color = 'red', c4_color = 'yellow', uponly=False)\n",
    "    domainwalls = obs.dweasyphase(stlen, groundstates[i], [], [], [],[])\n",
    "    print(sum(domainwalls))\n",
    "    domains = [d for d, dstate in enumerate(state) if dstate ==-1 and domainwalls[d//6]==1]\n",
    "    kdraw.plot_dice_dimers([d for d, dstate in enumerate(state) if dstate ==-1], d_ijl, L[0], 2,\n",
    "                           color = 'darkcyan', linewidth=1, label='spin up - spin down separation', PBC= False)\n",
    "    kdraw.plot_dice_dimers(domains, d_ijl, L[0], 2, color = 'darkcyan', linewidth=5, \n",
    "                           label='domain wall between mappings', PBC = False)\n",
    "    plt.legend()\n",
    "    plt.savefig(\"./\"+stroutput+\"_folder/PlotsResults/GSConfig{0}_redlines.png\".format(i))\n",
    "    \n",
    "    \n",
    "    #kdraw.plotstate(0, L, d_ijl, ijl_s, sidlist, didlist, s2_d, [state], [spinstate],\n",
    "    #                dim_node_color = 'peachpuff', dim_color ='peachpuff', no_dim_color=\"red\",\n",
    "    #                spin_up_color = 'blue', spin_down_color = 'red')\n",
    "    ##kdraw.plot_honeycomb_chargestate(charges, ijl_c,\n",
    "    ##                                 L,2,c1_color = 'blue', c2_color = 'green',\n",
    "    ##                                 c3_color = 'red', c4_color = 'yellow', uponly=False)\n",
    "    #plt.legend()\n",
    "    #plt.savefig(\"./\"+stroutput+\"_folder/PlotsResults/GSConfig{0}_redlines+dimers.png\".format(i))"
   ]
  },
  {
   "cell_type": "code",
   "execution_count": null,
   "metadata": {
    "scrolled": false
   },
   "outputs": [],
   "source": [
    "#### State analysis\n",
    "for i in range(2):\n",
    "    #state = t_states[0][ids2walker[0][i,0]]\n",
    "    state = groundstates[i]\n",
    "    #spinstate = t_spinstates[0][ids2walker[0][i,0]]\n",
    "    spinstate = groundspinstates[i]\n",
    "    #charges = obs.charges(0, state, 0 , spinstate, s_ijl, ijl_s,c2s = c2s , csign= csign)\n",
    "    charges = groundcharges[i]\n",
    "    print(\"Energy per site:\" ,dw.compute_energy(hamiltonian, groundstates[i], len(s_ijl)))\n",
    "    \n",
    "    kdraw.plotstate(0, L[0], d_ijl, ijl_s, sidlist, didlist, s2_d, [state], [spinstate],\n",
    "                    dim_node_color = np.array([[1, 1, 0, 0]]), dim_color = np.array([[1, 1, 0, 0]]), \n",
    "                    no_dim_color=\"crimson\", spin_edge_color='lightgrey',\n",
    "                    spin_up_color = 'tan', spin_down_color = 'navy', PBC = False)\n",
    "    #kdraw.plot_honeycomb_chargestate(charges, ijl_c,\n",
    "    #                                 L,2,c1_color = 'blue', c2_color = 'green',\n",
    "    #                                 c3_color = 'red', c4_color = 'yellow', uponly=False)\n",
    "    domainwalls = obs.dweasyphase(stlen, groundstates[i], [], [], [],[])\n",
    "    print(sum(domainwalls))\n",
    "    domains = [d for d, dstate in enumerate(state) if dstate ==-1 and domainwalls[d//6]==1]\n",
    "    kdraw.plot_dice_dimers([d for d, dstate in enumerate(state) if dstate ==-1], d_ijl, L[0], 2,\n",
    "                           color = 'crimson', linewidth=1, PBC = False)\n",
    "    kdraw.plot_dice_dimers(domains, d_ijl, L[0], 2, color = 'crimson', linewidth=6, PBC = False)\n",
    "    #plt.legend()\n",
    "    plt.savefig(\"./\"+stroutput+\"_folder/PlotsResults/GSConfig{0}_redlines.png\".format(i))\n",
    "    "
   ]
  },
  {
   "cell_type": "code",
   "execution_count": null,
   "metadata": {},
   "outputs": [],
   "source": [
    "import matplotlib\n",
    "matplotlib.colors.to_hex('tan', keep_alpha=False)"
   ]
  },
  {
   "cell_type": "code",
   "execution_count": null,
   "metadata": {},
   "outputs": [],
   "source": []
  }
 ],
 "metadata": {
  "kernelspec": {
   "display_name": "Python 3",
   "language": "python",
   "name": "python3"
  },
  "language_info": {
   "codemirror_mode": {
    "name": "ipython",
    "version": 3
   },
   "file_extension": ".py",
   "mimetype": "text/x-python",
   "name": "python",
   "nbconvert_exporter": "python",
   "pygments_lexer": "ipython3",
   "version": "3.6.9"
  }
 },
 "nbformat": 4,
 "nbformat_minor": 2
}
