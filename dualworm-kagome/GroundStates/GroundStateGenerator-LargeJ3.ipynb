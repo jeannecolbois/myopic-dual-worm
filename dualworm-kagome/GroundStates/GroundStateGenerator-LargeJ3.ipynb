{
 "cells": [
  {
   "cell_type": "code",
   "execution_count": 1,
   "metadata": {
    "collapsed": true
   },
   "outputs": [],
   "source": [
    "import os,sys,inspect\n",
    "currentdir = os.path.dirname(os.path.abspath(inspect.getfile(inspect.currentframe())))\n",
    "parentdir = os.path.dirname(currentdir)\n",
    "sys.path.insert(0,parentdir)"
   ]
  },
  {
   "cell_type": "code",
   "execution_count": 2,
   "metadata": {
    "collapsed": false
   },
   "outputs": [
    {
     "ename": "ImportError",
     "evalue": "No module named 'numpy'",
     "output_type": "error",
     "traceback": [
      "\u001b[0;31m---------------------------------------------------------------------------\u001b[0m",
      "\u001b[0;31mImportError\u001b[0m                               Traceback (most recent call last)",
      "\u001b[0;32m<ipython-input-2-24f142bbefb2>\u001b[0m in \u001b[0;36m<module>\u001b[0;34m()\u001b[0m\n\u001b[0;32m----> 1\u001b[0;31m \u001b[0;32mimport\u001b[0m \u001b[0mDualwormFunctions\u001b[0m \u001b[0;32mas\u001b[0m \u001b[0mdw\u001b[0m\u001b[0;34m\u001b[0m\u001b[0m\n\u001b[0m\u001b[1;32m      2\u001b[0m \u001b[0;32mimport\u001b[0m \u001b[0mObservables\u001b[0m \u001b[0;32mas\u001b[0m \u001b[0mobs\u001b[0m\u001b[0;34m\u001b[0m\u001b[0m\n\u001b[1;32m      3\u001b[0m \u001b[0;34m\u001b[0m\u001b[0m\n\u001b[1;32m      4\u001b[0m \u001b[0mget_ipython\u001b[0m\u001b[0;34m(\u001b[0m\u001b[0;34m)\u001b[0m\u001b[0;34m.\u001b[0m\u001b[0mmagic\u001b[0m\u001b[0;34m(\u001b[0m\u001b[0;34m'load_ext line_profiler'\u001b[0m\u001b[0;34m)\u001b[0m\u001b[0;34m\u001b[0m\u001b[0m\n\u001b[1;32m      5\u001b[0m \u001b[0mget_ipython\u001b[0m\u001b[0;34m(\u001b[0m\u001b[0;34m)\u001b[0m\u001b[0;34m.\u001b[0m\u001b[0mmagic\u001b[0m\u001b[0;34m(\u001b[0m\u001b[0;34m'load_ext memory_profiler'\u001b[0m\u001b[0;34m)\u001b[0m\u001b[0;34m\u001b[0m\u001b[0m\n",
      "\u001b[0;32m/home/jeanne/Documents/Codes/Codes_DipolarIsingModel/myopic-dual-worm/dualworm-kagome/DualwormFunctions.py\u001b[0m in \u001b[0;36m<module>\u001b[0;34m()\u001b[0m\n\u001b[1;32m      4\u001b[0m \u001b[0;31m# In[ ]:\u001b[0m\u001b[0;34m\u001b[0m\u001b[0;34m\u001b[0m\u001b[0m\n\u001b[1;32m      5\u001b[0m \u001b[0;34m\u001b[0m\u001b[0m\n\u001b[0;32m----> 6\u001b[0;31m \u001b[0;32mimport\u001b[0m \u001b[0mnumpy\u001b[0m \u001b[0;32mas\u001b[0m \u001b[0mnp\u001b[0m\u001b[0;34m\u001b[0m\u001b[0m\n\u001b[0m\u001b[1;32m      7\u001b[0m \u001b[0;32mimport\u001b[0m \u001b[0mdimers\u001b[0m \u001b[0;32mas\u001b[0m \u001b[0mdim\u001b[0m\u001b[0;34m\u001b[0m\u001b[0m\n\u001b[1;32m      8\u001b[0m \u001b[0;32mimport\u001b[0m \u001b[0mKagomeFunctions\u001b[0m \u001b[0;32mas\u001b[0m \u001b[0mlattice\u001b[0m\u001b[0;34m\u001b[0m\u001b[0m\n",
      "\u001b[0;31mImportError\u001b[0m: No module named 'numpy'"
     ]
    }
   ],
   "source": [
    "import DualwormFunctions as dw\n",
    "import Observables as obs\n",
    "\n",
    "%load_ext line_profiler\n",
    "%load_ext memory_profiler\n",
    "\n",
    "import RunBasis\n",
    "import argparse\n",
    "import StartStates as strst\n",
    "import numpy as np\n",
    "\n",
    "import AnalysisFunctions as af # functions to make the analysis code cleaner\n",
    "import KagomeDrawing as kdraw\n",
    "\n",
    "\n",
    "import matplotlib.pyplot as plt\n",
    "%matplotlib inline\n",
    "\n",
    "import yep"
   ]
  },
  {
   "cell_type": "code",
   "execution_count": null,
   "metadata": {
    "collapsed": true
   },
   "outputs": [],
   "source": [
    "nst = 512;\n",
    "nsm = 32;\n",
    "nips = 4;\n",
    "nrps = 4;\n",
    "nb = 4;\n",
    "measperiod = 1;\n",
    "nt = 128\n",
    "nh = 1\n",
    "ncores = 4\n",
    "nmaxiter = 1\n",
    "L = 8\n",
    "J1 = 1\n",
    "J2 = 0.1\n",
    "J3 = 0.2\n",
    "h = 0\n",
    "notfullstateupdate = True\n",
    "stroutput = \"LargeJ3_J1{0}J2{1}J3{2}_L{3}_plot1\".format(J1,J2,J3,L)"
   ]
  },
  {
   "cell_type": "code",
   "execution_count": null,
   "metadata": {
    "collapsed": false
   },
   "outputs": [],
   "source": [
    "def genArgs():\n",
    "    parser = argparse.ArgumentParser()\n",
    "    \n",
    "    parser.add_argument('-f', type = str)\n",
    "\n",
    "    parser.add_argument('--L', type = int, default = L, help = 'Lattice side size')\n",
    "\n",
    "    # COUPLINGS\n",
    "    parser.add_argument('--J1', type = float, default = J1,\n",
    "                        help = 'NN coupling') # nearest-neighbour coupling\n",
    "    parser.add_argument('--J2', type = float, default = J2,\n",
    "                        help = '2nd NN coupling') # 2nd NN coupling\n",
    "    parser.add_argument('--J3', type = float, default = J3,\n",
    "                        help = '3rd NN coupling') # 3rd NN coupling\n",
    "    parser.add_argument('--J4', type = float, default = 0.0,\n",
    "                        help = '4th NN coupling') \n",
    "    #NUMBER OF STEPS AND ITERATIONS\n",
    "    parser.add_argument('--nst', type = int, default = nst,\n",
    "                        help = 'number of thermalisation steps') # number of thermalisation steps\n",
    "    parser.add_argument('--nsm', type = int, default = nsm,\n",
    "                        help = 'number of measurements steps') # number of measurement steps\n",
    "    parser.add_argument('--nips', type = int, default = nips,\n",
    "                        help = 'number of worm constructions per MC step')\n",
    "    parser.add_argument('--nrps', type = int, default = nrps,\n",
    "                        help = 'number of replica loops per MC step')\n",
    "    parser.add_argument('--measperiod', type = int, default = measperiod,\n",
    "                        help = 'number of nips worm building + swaps between measurements')\n",
    "    parser.add_argument('--nb', type = int, default = nb,\n",
    "                        help = 'number of bins')\n",
    "\n",
    "    #PARALLELISATION\n",
    "    parser.add_argument('--ncores', type = int, default = ncores,\n",
    "                        help = 'number of threads to use')\n",
    "\n",
    "    \n",
    "    # INITIALISATION PARAMETERS\n",
    "    parser.add_argument('--randominit', default = True, action ='store_true',\n",
    "                        help = 'intialise the states randomly')\n",
    "    parser.add_argument('--same', default = False, action = 'store_true',\n",
    "                        help = '''initialise all temperatures with the same\n",
    "                        state (debug purposes)''')\n",
    "    parser.add_argument('--magninit', default = False, action = 'store_true',\n",
    "                        help = '''initialise all the temperature with\n",
    "                        one of the m=1/3 GS''')\n",
    "    parser.add_argument('--magnstripes', default = False, action = 'store_true',\n",
    "                       help = '''initialise all the temperature with\n",
    "                       m=1/3 stripes''')\n",
    "    parser.add_argument('--maxflip', default = False, action = 'store_true',\n",
    "                       help = '''initialise all the temperature with\n",
    "                       maximally flippable plateau''')\n",
    "    parser.add_argument('--loadfromfile', default = False, action = 'store_true',\n",
    "                       help = '''initialise all the states with\n",
    "                       results from a previously performed simulations''')\n",
    "    parser.add_argument('--filename', type = str, default = '',\n",
    "                       help = '''initialise all the states with\n",
    "                       results from a previously performed simulations''')\n",
    "    \n",
    "    #WORM PARAMETERS\n",
    "    parser.add_argument('--nmaxiter', type = int, default = nmaxiter,\n",
    "                        help = '''maximal number of segments in a loop update over the\n",
    "                        size of the lattice (1 = 1times the number of dualbonds in the\n",
    "                        lattice)''')\n",
    "    parser.add_argument('--measupdate', default = False, action = 'store_true',\n",
    "                       help = '''activate to mimic the action of the measuring tip''')\n",
    "    parser.add_argument('--p', type = float, default = 0.0, \n",
    "                       help = '''prob of the measuring tip flipping the spin (number between 0 and 1)''')\n",
    "    parser.add_argument('--ssf', default = True, action = 'store_true',\n",
    "                        help = 'activate for single spin flip update')\n",
    "    parser.add_argument('--notfullssfupdate', default = notfullstateupdate, action = 'store_true',\n",
    "                        help = 'whether to fully update the state or not at each ssf step *during the measurement phase*')\n",
    "    parser.add_argument('--alternate', default = False, action = 'store_true',\n",
    "                        help = 'activate for single spin flip update and dw update')\n",
    "    parser.add_argument('--checkgs', default = True, action = 'store_true',\n",
    "                        help = 'activate to debug ssf')\n",
    "    \n",
    "    #TEMPERATURE PARAMETERS\n",
    "    parser.add_argument('--t_list', nargs = '+', type = float, default = [0.001,60],\n",
    "                        help = 'list of limiting temperature values')\n",
    "    parser.add_argument('--nt_list', nargs = '+', type = int, default = [nt],\n",
    "                        help = 'list of number of temperatures in between the given limiting temperatures')\n",
    "    parser.add_argument('--log_tlist', default = True, action='store_true',\n",
    "                        help = 'state whether you want the temperature be spaced log-like or linear-like (activate if you want log)')\n",
    "    parser.add_argument('--stat_temps_lims', nargs = '+', type = float,\n",
    "                        help = '''limiting temperatures for the various ranges of\n",
    "                        measurements''') \n",
    "                        #default will be set to none, and then we can decide what to do later on.\n",
    "    #MAGNETIC FIELD PARAMETERS\n",
    "    parser.add_argument('--h_list', nargs = '+', default = [0,h],type = float,\n",
    "                        help = 'list of limiting magnetic field values')\n",
    "    parser.add_argument('--nh_list', nargs = '+', default = [nh], type = int,\n",
    "                        help = 'list of number of magnetic fields in between the given limiting temperatures')\n",
    "    parser.add_argument('--stat_hfields_lims', nargs = '+', type = float,\n",
    "                help = '''limiting magnetic fields for the various ranges of\n",
    "                measurements''') \n",
    "    #MEASUREMENTS PARAMETERS\n",
    "    parser.add_argument('--generatingMode', default = True, action = 'store_true',\n",
    "                        help = 'activate if you want to generate a number of ground states and low energy states')\n",
    "    parser.add_argument('--energy', default = True, action = 'store_true',\n",
    "                        help = 'activate if you want to save the energy')\n",
    "    parser.add_argument('--magnetisation', default = False, action = 'store_true',\n",
    "                        help = 'activate if you want to save the magnetisation')\n",
    "    parser.add_argument('--charges', default = False, action = 'store_true',\n",
    "                        help = 'activate if you want to save the charges')\n",
    "    parser.add_argument('--correlations', default = False, action = 'store_true',\n",
    "                        help = 'activate if you want to save either central or all correlations')\n",
    "    parser.add_argument('--all_correlations', default = False, action = 'store_true',\n",
    "                        help = '''activate if you want to save the correlations for all non-equivalent\n",
    "                        pairs of sites. Otherwise, will save central correlations.''')\n",
    "    parser.add_argument('--firstcorrelations', default = False, action = 'store_true',\n",
    "                        help = 'activate if you want to save first correlations, otherwise will save central')\n",
    "    #SAVE\n",
    "    parser.add_argument('--output', type = str, default = stroutput, help = 'saving filename (.pkl will be added)')\n",
    "    parser.add_argument('--verbose', default = False, action = 'store_true', help = 'verbose')\n",
    "    args = parser.parse_args()\n",
    "    return args"
   ]
  },
  {
   "cell_type": "code",
   "execution_count": null,
   "metadata": {
    "collapsed": true
   },
   "outputs": [],
   "source": [
    "def callRunBasis():\n",
    "    args = genArgs()\n",
    "    return RunBasis.main(args)"
   ]
  },
  {
   "cell_type": "code",
   "execution_count": null,
   "metadata": {
    "collapsed": false,
    "scrolled": false
   },
   "outputs": [],
   "source": [
    "#%%prun -s  -T prun0\n",
    "#yep.start(stroutput+'.log')\n",
    "%lprun -f dw.mcs_swaps [meanstat, swapst, swapsh, failedupdatesth, failedupdates] = callRunBasis()\n",
    "#yep.stop()"
   ]
  },
  {
   "cell_type": "code",
   "execution_count": null,
   "metadata": {
    "collapsed": true
   },
   "outputs": [],
   "source": [
    "# Create a folder to save the pictures\n",
    "foldername = \"./\" + stroutput + \"_folder/\" \n",
    "results_foldername = 'Results/'\n",
    "os.makedirs(foldername + 'Plots' + results_foldername, exist_ok = True)\n",
    "\n",
    "filenamelist = [\"backup\"]\n",
    "n = len(filenamelist)"
   ]
  },
  {
   "cell_type": "code",
   "execution_count": null,
   "metadata": {
    "collapsed": false
   },
   "outputs": [],
   "source": [
    "[L, numsites, J1, J2, J3, J3st, J4, nb, num_in_bin, temperatures, nt,\n",
    " stat_temps, temperatures_plots, hfields, nh,\n",
    " stat_hfields, hfields_plots, listfunctions, sref,ids2walker] =\\\n",
    "af.LoadParameters(foldername, filenamelist)"
   ]
  },
  {
   "cell_type": "code",
   "execution_count": null,
   "metadata": {
    "collapsed": false
   },
   "outputs": [],
   "source": [
    "kw = {'binning': False, 'plzplot': True, 'plotmin': 0, 'plotmax': 16}\n",
    "[t_h_MeanE, t_h_MeanEsq, t_h_varMeanE, t_h_varMeanEsq, C, ErrC] = \\\n",
    " af.LoadEnergy(foldername, filenamelist, numsites,\n",
    "               nb, stat_temps, temperatures, stat_hfields,\n",
    "               listfunctions, **kw)"
   ]
  },
  {
   "cell_type": "code",
   "execution_count": null,
   "metadata": {
    "collapsed": false
   },
   "outputs": [],
   "source": [
    "# Load the states\n",
    "t_spinstates, t_states, t_charges = af.LoadStates(stroutput+\"_folder/\", [\"backup\"], L, nh)\n",
    "latsize = t_spinstates[0][62].size\n",
    "[d_ijl, ijl_d, s_ijl, ijl_s, d_2s, s2_d, d_nd, d_vd, d_wn,\n",
    "     sidlist, didlist, c_ijl, ijl_c, c2s, csign] =\\\n",
    "    dw.latticeinit(L[0])\n",
    "print(ids2walker[0][0,0])"
   ]
  },
  {
   "cell_type": "code",
   "execution_count": null,
   "metadata": {
    "collapsed": false
   },
   "outputs": [],
   "source": [
    "\n",
    "\n",
    "kdraw.plotstate(ids2walker[0][0,0], L[0], d_ijl, ijl_s, sidlist, didlist, s2_d, t_states[0], t_spinstates[0],dim_node_color = 'peachpuff', dim_color ='peachpuff', spin_up_color = 'lightblue', spin_down_color = 'pink')\n",
    "kdraw.plot_honeycomb_chargestate(t_charges[0][ids2walker[0][0,0]], ijl_c, L[0],2,c1_color = 'black', c2_color = 'green', c3_color = 'red', c4_color = 'black')\n",
    "plt.legend()"
   ]
  },
  {
   "cell_type": "code",
   "execution_count": null,
   "metadata": {
    "collapsed": true
   },
   "outputs": [],
   "source": []
  }
 ],
 "metadata": {
  "kernelspec": {
   "display_name": "Python 3",
   "language": "python",
   "name": "python3"
  },
  "language_info": {
   "codemirror_mode": {
    "name": "ipython",
    "version": 3
   },
   "file_extension": ".py",
   "mimetype": "text/x-python",
   "name": "python",
   "nbconvert_exporter": "python",
   "pygments_lexer": "ipython3",
   "version": "3.5.3"
  }
 },
 "nbformat": 4,
 "nbformat_minor": 2
}
