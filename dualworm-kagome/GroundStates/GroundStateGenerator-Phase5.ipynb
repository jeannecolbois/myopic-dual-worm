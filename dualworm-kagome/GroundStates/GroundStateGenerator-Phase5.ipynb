{
 "cells": [
  {
   "cell_type": "code",
   "execution_count": 1,
   "metadata": {
    "collapsed": true
   },
   "outputs": [],
   "source": [
    "import os,sys,inspect\n",
    "currentdir = os.path.dirname(os.path.abspath(inspect.getfile(inspect.currentframe())))\n",
    "parentdir = os.path.dirname(currentdir)\n",
    "sys.path.insert(0,parentdir)"
   ]
  },
  {
   "cell_type": "code",
   "execution_count": 2,
   "metadata": {
    "collapsed": false
   },
   "outputs": [],
   "source": [
    "import DualwormFunctions as dw\n",
    "import Observables as obs\n",
    "\n",
    "%load_ext line_profiler\n",
    "%load_ext memory_profiler\n",
    "\n",
    "import RunBasis\n",
    "import argparse\n",
    "import StartStates as strst\n",
    "import numpy as np\n",
    "\n",
    "import AnalysisFunctions as af # functions to make the analysis code cleaner\n",
    "import KagomeDrawing as kdraw\n",
    "\n",
    "\n",
    "import matplotlib.pyplot as plt\n",
    "%matplotlib inline\n",
    "\n",
    "import yep"
   ]
  },
  {
   "cell_type": "code",
   "execution_count": 3,
   "metadata": {
    "collapsed": true
   },
   "outputs": [],
   "source": [
    "nst = 256;\n",
    "nsm = 64;\n",
    "nips = 4;\n",
    "nrps = 4;\n",
    "nb = 4;\n",
    "measperiod = 1;\n",
    "nt = 128\n",
    "nh = 1\n",
    "ncores = 4\n",
    "nmaxiter = 1\n",
    "L = 8\n",
    "J1 = 1\n",
    "J2 = -1\n",
    "J3 = 1\n",
    "h = 0\n",
    "notfullstateupdate = True\n",
    "stroutput = \"Phase5_J1{0}J2{1}J3{2}_L{3}_2\".format(J1,J2,J3,L)"
   ]
  },
  {
   "cell_type": "code",
   "execution_count": 4,
   "metadata": {
    "collapsed": false
   },
   "outputs": [],
   "source": [
    "def genArgs():\n",
    "    parser = argparse.ArgumentParser()\n",
    "    \n",
    "    parser.add_argument('-f', type = str)\n",
    "\n",
    "    parser.add_argument('--L', type = int, default = L, help = 'Lattice side size')\n",
    "\n",
    "    # COUPLINGS\n",
    "    parser.add_argument('--J1', type = float, default = J1,\n",
    "                        help = 'NN coupling') # nearest-neighbour coupling\n",
    "    parser.add_argument('--J2', type = float, default = J2,\n",
    "                        help = '2nd NN coupling') # 2nd NN coupling\n",
    "    parser.add_argument('--J3', type = float, default = J3,\n",
    "                        help = '3rd NN coupling') # 3rd NN coupling\n",
    "    parser.add_argument('--J4', type = float, default = 0.0,\n",
    "                        help = '4th NN coupling') \n",
    "    #NUMBER OF STEPS AND ITERATIONS\n",
    "    parser.add_argument('--nst', type = int, default = nst,\n",
    "                        help = 'number of thermalisation steps') # number of thermalisation steps\n",
    "    parser.add_argument('--nsm', type = int, default = nsm,\n",
    "                        help = 'number of measurements steps') # number of measurement steps\n",
    "    parser.add_argument('--nips', type = int, default = nips,\n",
    "                        help = 'number of worm constructions per MC step')\n",
    "    parser.add_argument('--nrps', type = int, default = nrps,\n",
    "                        help = 'number of replica loops per MC step')\n",
    "    parser.add_argument('--measperiod', type = int, default = measperiod,\n",
    "                        help = 'number of nips worm building + swaps between measurements')\n",
    "    parser.add_argument('--nb', type = int, default = nb,\n",
    "                        help = 'number of bins')\n",
    "\n",
    "    #PARALLELISATION\n",
    "    parser.add_argument('--ncores', type = int, default = ncores,\n",
    "                        help = 'number of threads to use')\n",
    "\n",
    "    \n",
    "    # INITIALISATION PARAMETERS\n",
    "    parser.add_argument('--randominit', default = True, action ='store_true',\n",
    "                        help = 'intialise the states randomly')\n",
    "    parser.add_argument('--same', default = False, action = 'store_true',\n",
    "                        help = '''initialise all temperatures with the same\n",
    "                        state (debug purposes)''')\n",
    "    parser.add_argument('--magninit', default = False, action = 'store_true',\n",
    "                        help = '''initialise all the temperature with\n",
    "                        one of the m=1/3 GS''')\n",
    "    parser.add_argument('--magnstripes', default = False, action = 'store_true',\n",
    "                       help = '''initialise all the temperature with\n",
    "                       m=1/3 stripes''')\n",
    "    parser.add_argument('--maxflip', default = False, action = 'store_true',\n",
    "                       help = '''initialise all the temperature with\n",
    "                       maximally flippable plateau''')\n",
    "    parser.add_argument('--loadfromfile', default = False, action = 'store_true',\n",
    "                       help = '''initialise all the states with\n",
    "                       results from a previously performed simulations''')\n",
    "    parser.add_argument('--filename', type = str, default = '',\n",
    "                       help = '''initialise all the states with\n",
    "                       results from a previously performed simulations''')\n",
    "    \n",
    "    #WORM PARAMETERS\n",
    "    parser.add_argument('--nmaxiter', type = int, default = nmaxiter,\n",
    "                        help = '''maximal number of segments in a loop update over the\n",
    "                        size of the lattice (1 = 1times the number of dualbonds in the\n",
    "                        lattice)''')\n",
    "    parser.add_argument('--measupdate', default = False, action = 'store_true',\n",
    "                       help = '''activate to mimic the action of the measuring tip''')\n",
    "    parser.add_argument('--p', type = float, default = 0.0, \n",
    "                       help = '''prob of the measuring tip flipping the spin (number between 0 and 1)''')\n",
    "    parser.add_argument('--ssf', default = False, action = 'store_true',\n",
    "                        help = 'activate for single spin flip update')\n",
    "    parser.add_argument('--notfullssfupdate', default = notfullstateupdate, action = 'store_true',\n",
    "                        help = 'whether to fully update the state or not at each ssf step *during the measurement phase*')\n",
    "    parser.add_argument('--alternate', default = True, action = 'store_true',\n",
    "                        help = 'activate for single spin flip update and dw update')\n",
    "    parser.add_argument('--checkgs', default = True, action = 'store_true',\n",
    "                        help = 'activate to debug ssf')\n",
    "    \n",
    "    #TEMPERATURE PARAMETERS\n",
    "    parser.add_argument('--t_list', nargs = '+', type = float, default = [0.001,60],\n",
    "                        help = 'list of limiting temperature values')\n",
    "    parser.add_argument('--nt_list', nargs = '+', type = int, default = [nt],\n",
    "                        help = 'list of number of temperatures in between the given limiting temperatures')\n",
    "    parser.add_argument('--log_tlist', default = True, action='store_true',\n",
    "                        help = 'state whether you want the temperature be spaced log-like or linear-like (activate if you want log)')\n",
    "    parser.add_argument('--stat_temps_lims', nargs = '+', type = float,\n",
    "                        help = '''limiting temperatures for the various ranges of\n",
    "                        measurements''') \n",
    "                        #default will be set to none, and then we can decide what to do later on.\n",
    "    #MAGNETIC FIELD PARAMETERS\n",
    "    parser.add_argument('--h_list', nargs = '+', default = [0,h],type = float,\n",
    "                        help = 'list of limiting magnetic field values')\n",
    "    parser.add_argument('--nh_list', nargs = '+', default = [nh], type = int,\n",
    "                        help = 'list of number of magnetic fields in between the given limiting temperatures')\n",
    "    parser.add_argument('--stat_hfields_lims', nargs = '+', type = float,\n",
    "                help = '''limiting magnetic fields for the various ranges of\n",
    "                measurements''') \n",
    "    #MEASUREMENTS PARAMETERS\n",
    "    parser.add_argument('--generatingMode', default = True, action = 'store_true',\n",
    "                        help = 'activate if you want to generate a number of ground states and low energy states')\n",
    "    parser.add_argument('--energy', default = True, action = 'store_true',\n",
    "                        help = 'activate if you want to save the energy')\n",
    "    parser.add_argument('--magnetisation', default = False, action = 'store_true',\n",
    "                        help = 'activate if you want to save the magnetisation')\n",
    "    parser.add_argument('--charges', default = False, action = 'store_true',\n",
    "                        help = 'activate if you want to save the charges')\n",
    "    parser.add_argument('--correlations', default = False, action = 'store_true',\n",
    "                        help = 'activate if you want to save either central or all correlations')\n",
    "    parser.add_argument('--all_correlations', default = False, action = 'store_true',\n",
    "                        help = '''activate if you want to save the correlations for all non-equivalent\n",
    "                        pairs of sites. Otherwise, will save central correlations.''')\n",
    "    parser.add_argument('--firstcorrelations', default = False, action = 'store_true',\n",
    "                        help = 'activate if you want to save first correlations, otherwise will save central')\n",
    "    #SAVE\n",
    "    parser.add_argument('--output', type = str, default = stroutput, help = 'saving filename (.pkl will be added)')\n",
    "    args = parser.parse_args()\n",
    "    return args"
   ]
  },
  {
   "cell_type": "code",
   "execution_count": 5,
   "metadata": {
    "collapsed": true
   },
   "outputs": [],
   "source": [
    "def callRunBasis():\n",
    "    args = genArgs()\n",
    "    return RunBasis.main(args)"
   ]
  },
  {
   "cell_type": "code",
   "execution_count": 6,
   "metadata": {
    "collapsed": false,
    "scrolled": false
   },
   "outputs": [
    {
     "name": "stdout",
     "output_type": "stream",
     "text": [
      "-------------------Initialisation--------------------\n",
      "./Phase5_J11J2-1J31_L8_2_folder/backup.hkl\n",
      "Lattice side size:  8\n",
      "J1  1\n",
      "J2  -1\n",
      "J3  1\n",
      "J3st  1\n",
      "Couplings extracted\n",
      "Hamiltonian expression (without field) computed\n",
      "alternating ssf and dw update\n",
      "Number of temperatures:  128\n",
      "Temperatures: [1.00000000e-03 1.09049389e-03 1.18917693e-03 1.29679018e-03\n",
      " 1.41414178e-03 1.54211297e-03 1.68166478e-03 1.83384518e-03\n",
      " 1.99979697e-03 2.18076638e-03 2.37811242e-03 2.59331708e-03\n",
      " 2.82799644e-03 3.08391285e-03 3.36298813e-03 3.66731802e-03\n",
      " 3.99918791e-03 4.36109000e-03 4.75574202e-03 5.18610763e-03\n",
      " 5.65541870e-03 6.16719957e-03 6.72529347e-03 7.33389146e-03\n",
      " 7.99756386e-03 8.72129456e-03 9.51051846e-03 1.03711623e-02\n",
      " 1.13096892e-02 1.23331470e-02 1.34492215e-02 1.46662939e-02\n",
      " 1.59935040e-02 1.74408184e-02 1.90191060e-02 2.07402189e-02\n",
      " 2.26170821e-02 2.46637900e-02 2.68957123e-02 2.93296101e-02\n",
      " 3.19837607e-02 3.48780958e-02 3.80343505e-02 4.14762270e-02\n",
      " 4.52295722e-02 4.93225724e-02 5.37859640e-02 5.86532653e-02\n",
      " 6.39610277e-02 6.97491102e-02 7.60609788e-02 8.29440329e-02\n",
      " 9.04499614e-02 9.86351307e-02 1.07561008e-01 1.17294622e-01\n",
      " 1.27909069e-01 1.39484059e-01 1.52106515e-01 1.65871225e-01\n",
      " 1.80881559e-01 1.97250235e-01 2.15100177e-01 2.34565430e-01\n",
      " 2.55792169e-01 2.78939798e-01 3.04182147e-01 3.31708774e-01\n",
      " 3.61726392e-01 3.94460422e-01 4.30156682e-01 4.69083235e-01\n",
      " 5.11532404e-01 5.57822963e-01 6.08302535e-01 6.63350200e-01\n",
      " 7.23379343e-01 7.88840756e-01 8.60226028e-01 9.38071231e-01\n",
      " 1.02296095e+00 1.11553267e+00 1.21648156e+00 1.32656572e+00\n",
      " 1.44661182e+00 1.57752135e+00 1.72027740e+00 1.87595200e+00\n",
      " 2.04571421e+00 2.23083885e+00 2.43271614e+00 2.65286210e+00\n",
      " 2.89292992e+00 3.15472242e+00 3.44020553e+00 3.75152313e+00\n",
      " 4.09101306e+00 4.46122477e+00 4.86493837e+00 5.30518559e+00\n",
      " 5.78527249e+00 6.30880432e+00 6.87971259e+00 7.50228458e+00\n",
      " 8.18119552e+00 8.92154376e+00 9.72888900e+00 1.06092940e+01\n",
      " 1.15693704e+01 1.26163278e+01 1.37580284e+01 1.50030459e+01\n",
      " 1.63607300e+01 1.78412762e+01 1.94558027e+01 2.12164341e+01\n",
      " 2.31363918e+01 2.52300940e+01 2.75132634e+01 3.00030458e+01\n",
      " 3.27181382e+01 3.56789300e+01 3.89076553e+01 4.24285605e+01\n",
      " 4.62680862e+01 5.04550655e+01 5.50209408e+01 6.00000000e+01]\n",
      "Number of magnetic fields:  1\n",
      "Magnetic fields:  [0.]\n",
      "Fully random initialisation =  True\n",
      "Identical initialisation =  False\n",
      "Magnetisation initialisation =  False\n",
      "Minimal energy index:  4  with energy per site  -3.6666666666666665\n",
      "RunBasis: Away from gs at t index  0\n",
      "   en_states[t] =  -36.000000000000014\n",
      "   ref_energy =  -2112.0\n",
      "Energies Checked\n",
      "States Checked\n",
      "List of measurements to be performed: ['Energy']\n",
      "List of field indices to measure: [0]\n",
      "-----------Thermalisation------------------\n",
      "Number of thermalisation steps =  256\n",
      "itermcs =  256\n",
      "iterreplicas =  4\n",
      "ssf =  False\n",
      "alternate =  True\n",
      "ssffurther =  True\n",
      "genMode =  False\n",
      "fullstateupdate =  True\n",
      "statsfunctions []\n",
      "Time for mcsevolve = 0.4625102784484625\n",
      "Time for tempering = 0.01377384178340435\n",
      "Time for mapping to spins + computing statistics= 0.0001051807776093483\n",
      "Time for all thermalisation steps =  121.97133278846741\n",
      "Energies Checked\n",
      "States Checked\n",
      "-----------Measurements-----------------\n",
      "Number of measurement steps =  64\n",
      "['Energy']\n",
      "Measurement period: 1\n",
      "itermcs =  64\n",
      "iterreplicas =  4\n",
      "ssf =  False\n",
      "alternate =  True\n",
      "ssffurther =  True\n",
      "genMode =  True\n",
      "fullstateupdate =  False\n",
      "statsfunctions [<function energy at 0x7f96accfeae8>]\n",
      "Time for mcsevolve = 0.1839529238641262\n",
      "Time for tempering = 0.013984046876430511\n",
      "Time for mapping to spins + computing statistics= 0.04939011484384537\n",
      "Time for all measurements steps =  17.42714810371399\n",
      "Energies size:  (128, 1)\n",
      "Energies Checked\n",
      "States Checked\n",
      "Job done\n"
     ]
    }
   ],
   "source": [
    "#%%prun -s  -T prun0\n",
    "#yep.start(stroutput+'.log')\n",
    "%lprun -f dw.mcs_swaps [meanstat, swapst, swapsh, failedupdatesth, failedupdates] = callRunBasis()\n",
    "#yep.stop()"
   ]
  },
  {
   "cell_type": "code",
   "execution_count": 7,
   "metadata": {
    "collapsed": true
   },
   "outputs": [],
   "source": [
    "# Create a folder to save the pictures\n",
    "foldername = \"./\" + stroutput + \"_folder/\" \n",
    "results_foldername = 'Results/'\n",
    "os.makedirs(foldername + 'Plots' + results_foldername, exist_ok = True)\n",
    "\n",
    "filenamelist = [\"backup\"]\n",
    "n = len(filenamelist)"
   ]
  },
  {
   "cell_type": "code",
   "execution_count": 8,
   "metadata": {
    "collapsed": false
   },
   "outputs": [],
   "source": [
    "[L, numsites, J1, J2, J3, J3st, J4, nb, num_in_bin, temperatures, nt,\n",
    " stat_temps, temperatures_plots, hfields, nh,\n",
    " stat_hfields, hfields_plots, listfunctions, sref] =\\\n",
    "af.LoadParameters(foldername, filenamelist)"
   ]
  },
  {
   "cell_type": "code",
   "execution_count": 9,
   "metadata": {
    "collapsed": false
   },
   "outputs": [
    {
     "name": "stdout",
     "output_type": "stream",
     "text": [
      "[-3.66666667]\n"
     ]
    }
   ],
   "source": [
    "kw = {'binning': False, 'plzplot': True, 'plotmin': 0, 'plotmax': 16}\n",
    "[t_h_MeanE, t_h_MeanEsq, t_h_varMeanE, t_h_varMeanEsq, C, ErrC] = \\\n",
    " af.LoadEnergy(foldername, filenamelist, numsites,\n",
    "               nb, stat_temps, temperatures, stat_hfields,\n",
    "               listfunctions, **kw)\n"
   ]
  },
  {
   "cell_type": "code",
   "execution_count": 10,
   "metadata": {
    "collapsed": false
   },
   "outputs": [
    {
     "name": "stdout",
     "output_type": "stream",
     "text": [
      "[-3.66666667]\n",
      "-3.6666666666666665\n"
     ]
    }
   ],
   "source": [
    "print(t_h_MeanE[0][0])\n",
    "print((-2/3 * J1[0] + 2 * J2[0] - J3[0]))"
   ]
  },
  {
   "cell_type": "code",
   "execution_count": 11,
   "metadata": {
    "collapsed": false,
    "scrolled": false
   },
   "outputs": [],
   "source": [
    "#tidmin = 0\n",
    "#tidmax = [len(stat_temps[i]) for i in range(n)]\n",
    "#temperatures_plots = np.array(temperatures_plots)\n",
    "#### Energy\n",
    "#S0 = np.log(2)\n",
    "#kw = {'gscheck': True}\n",
    "#af.BasicPlotsE(L, n, tidmin, tidmax, temperatures_plots, hfields_plots, foldername,\n",
    "#                results_foldername, filenamelist, t_h_MeanE, t_h_MeanEsq, t_h_varMeanE,\n",
    "#                t_h_varMeanEsq, C, ErrC, J1, J2, J3, J4, **kw)\n",
    "#plt.show()"
   ]
  }
 ],
 "metadata": {
  "kernelspec": {
   "display_name": "Python 3",
   "language": "python",
   "name": "python3"
  },
  "language_info": {
   "codemirror_mode": {
    "name": "ipython",
    "version": 3
   },
   "file_extension": ".py",
   "mimetype": "text/x-python",
   "name": "python",
   "nbconvert_exporter": "python",
   "pygments_lexer": "ipython3",
   "version": "3.5.3"
  }
 },
 "nbformat": 4,
 "nbformat_minor": 2
}
