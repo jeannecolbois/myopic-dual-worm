{
 "cells": [
  {
   "cell_type": "code",
   "execution_count": 1,
   "metadata": {},
   "outputs": [],
   "source": [
    "import os,sys,inspect\n",
    "currentdir = os.path.dirname(os.path.abspath(inspect.getfile(inspect.currentframe())))\n",
    "parentdir = os.path.dirname(currentdir)\n",
    "sys.path.insert(0,parentdir)"
   ]
  },
  {
   "cell_type": "code",
   "execution_count": 2,
   "metadata": {},
   "outputs": [],
   "source": [
    "import DualwormFunctions as dw\n",
    "import Observables as obs\n",
    "\n",
    "%load_ext line_profiler\n",
    "%load_ext memory_profiler\n",
    "\n",
    "import RunBasis\n",
    "import argparse\n",
    "import StartStates as strst\n",
    "import numpy as np\n",
    "\n",
    "import AnalysisFunctions as af # functions to make the analysis code cleaner\n",
    "import KagomeDrawing as kdraw\n",
    "\n",
    "\n",
    "import matplotlib.pyplot as plt\n",
    "%matplotlib inline\n",
    "\n",
    "import yep"
   ]
  },
  {
   "cell_type": "code",
   "execution_count": 3,
   "metadata": {},
   "outputs": [],
   "source": [
    "nst = 128;\n",
    "nsm = 16;\n",
    "nips = 4;\n",
    "nrps = 4;\n",
    "nb = 4;\n",
    "measperiod = 1;\n",
    "nt = 64\n",
    "nh = 1\n",
    "ncores = 4\n",
    "nmaxiter = 1\n",
    "L = 8\n",
    "J1 = -0.2\n",
    "J2 = 1\n",
    "J3 = 1\n",
    "h = 0\n",
    "notfullstateupdate = False\n",
    "stroutput = \"Phase8_J1{0}J2{1}J3{2}_L{3}_tests_2\".format(J1,J2,J3,L)"
   ]
  },
  {
   "cell_type": "code",
   "execution_count": 4,
   "metadata": {},
   "outputs": [],
   "source": [
    "def genArgs():\n",
    "    parser = argparse.ArgumentParser()\n",
    "    \n",
    "    parser.add_argument('-f', type = str)\n",
    "\n",
    "    parser.add_argument('--L', type = int, default = L, help = 'Lattice side size')\n",
    "\n",
    "    # COUPLINGS\n",
    "    parser.add_argument('--J1', type = float, default = J1,\n",
    "                        help = 'NN coupling') # nearest-neighbour coupling\n",
    "    parser.add_argument('--J2', type = float, default = J2,\n",
    "                        help = '2nd NN coupling') # 2nd NN coupling\n",
    "    parser.add_argument('--J3', type = float, default = J3,\n",
    "                        help = '3rd NN coupling') # 3rd NN coupling\n",
    "    parser.add_argument('--J4', type = float, default = 0.0,\n",
    "                        help = '4th NN coupling') \n",
    "    #NUMBER OF STEPS AND ITERATIONS\n",
    "    parser.add_argument('--nst', type = int, default = nst,\n",
    "                        help = 'number of thermalisation steps') # number of thermalisation steps\n",
    "    parser.add_argument('--nsm', type = int, default = nsm,\n",
    "                        help = 'number of measurements steps') # number of measurement steps\n",
    "    parser.add_argument('--nips', type = int, default = nips,\n",
    "                        help = 'number of worm constructions per MC step')\n",
    "    parser.add_argument('--nrps', type = int, default = nrps,\n",
    "                        help = 'number of replica loops per MC step')\n",
    "    parser.add_argument('--measperiod', type = int, default = measperiod,\n",
    "                        help = 'number of nips worm building + swaps between measurements')\n",
    "    parser.add_argument('--nb', type = int, default = nb,\n",
    "                        help = 'number of bins')\n",
    "\n",
    "    #PARALLELISATION\n",
    "    parser.add_argument('--ncores', type = int, default = ncores,\n",
    "                        help = 'number of threads to use')\n",
    "\n",
    "    \n",
    "    # INITIALISATION PARAMETERS\n",
    "    parser.add_argument('--randominit', default = True, action ='store_true',\n",
    "                        help = 'intialise the states randomly')\n",
    "    parser.add_argument('--same', default = False, action = 'store_true',\n",
    "                        help = '''initialise all temperatures with the same\n",
    "                        state (debug purposes)''')\n",
    "    parser.add_argument('--testinit', default = True, action = 'store_true',\n",
    "                        help = '''test some given initialisation''')\n",
    "    parser.add_argument('--magninit', default = False, action = 'store_true',\n",
    "                        help = '''initialise all the temperature with\n",
    "                        one of the m=1/3 GS''')\n",
    "    parser.add_argument('--magnstripes', default = False, action = 'store_true',\n",
    "                       help = '''initialise all the temperature with\n",
    "                       m=1/3 stripes''')\n",
    "    parser.add_argument('--maxflip', default = False, action = 'store_true',\n",
    "                       help = '''initialise all the temperature with\n",
    "                       maximally flippable plateau''')\n",
    "    parser.add_argument('--loadfromfile', default = False, action = 'store_true',\n",
    "                       help = '''initialise all the states with\n",
    "                       results from a previously performed simulations''')\n",
    "    parser.add_argument('--filename', type = str, default = '',\n",
    "                       help = '''initialise all the states with\n",
    "                       results from a previously performed simulations''')\n",
    "    \n",
    "    #WORM PARAMETERS\n",
    "    parser.add_argument('--nmaxiter', type = int, default = nmaxiter,\n",
    "                        help = '''maximal number of segments in a loop update over the\n",
    "                        size of the lattice (1 = 1times the number of dualbonds in the\n",
    "                        lattice)''')\n",
    "    parser.add_argument('--measupdate', default = False, action = 'store_true',\n",
    "                       help = '''activate to mimic the action of the measuring tip''')\n",
    "    parser.add_argument('--p', type = float, default = 0.0, \n",
    "                       help = '''prob of the measuring tip flipping the spin (number between 0 and 1)''')\n",
    "    parser.add_argument('--ssf', default = True, action = 'store_true',\n",
    "                        help = 'activate for single spin flip update')\n",
    "    parser.add_argument('--notfullssfupdate', default = notfullstateupdate, action = 'store_true',\n",
    "                        help = 'whether to fully update the state or not at each ssf step *during the measurement phase*')\n",
    "    parser.add_argument('--alternate', default = True, action = 'store_true',\n",
    "                        help = 'activate for single spin flip update and dw update')\n",
    "    parser.add_argument('--checkgs', default = True, action = 'store_true',\n",
    "                        help = 'activate to debug ssf')\n",
    "    \n",
    "    #TEMPERATURE PARAMETERS\n",
    "    parser.add_argument('--t_list', nargs = '+', type = float, default = [0.001,60],\n",
    "                        help = 'list of limiting temperature values')\n",
    "    parser.add_argument('--nt_list', nargs = '+', type = int, default = [nt],\n",
    "                        help = 'list of number of temperatures in between the given limiting temperatures')\n",
    "    parser.add_argument('--log_tlist', default = True, action='store_true',\n",
    "                        help = 'state whether you want the temperature be spaced log-like or linear-like (activate if you want log)')\n",
    "    parser.add_argument('--stat_temps_lims', nargs = '+', type = float,\n",
    "                        help = '''limiting temperatures for the various ranges of\n",
    "                        measurements''') \n",
    "                        #default will be set to none, and then we can decide what to do later on.\n",
    "    #MAGNETIC FIELD PARAMETERS\n",
    "    parser.add_argument('--h_list', nargs = '+', default = [0,h],type = float,\n",
    "                        help = 'list of limiting magnetic field values')\n",
    "    parser.add_argument('--nh_list', nargs = '+', default = [nh], type = int,\n",
    "                        help = 'list of number of magnetic fields in between the given limiting temperatures')\n",
    "    parser.add_argument('--stat_hfields_lims', nargs = '+', type = float,\n",
    "                help = '''limiting magnetic fields for the various ranges of\n",
    "                measurements''') \n",
    "    #MEASUREMENTS PARAMETERS\n",
    "    parser.add_argument('--generatingMode', default = True, action = 'store_true',\n",
    "                        help = 'activate if you want to generate a number of ground states and low energy states')\n",
    "    parser.add_argument('--energy', default = True, action = 'store_true',\n",
    "                        help = 'activate if you want to save the energy')\n",
    "    parser.add_argument('--magnetisation', default = False, action = 'store_true',\n",
    "                        help = 'activate if you want to save the magnetisation')\n",
    "    parser.add_argument('--charges', default = False, action = 'store_true',\n",
    "                        help = 'activate if you want to save the charges')\n",
    "    parser.add_argument('--frustratedT', default = False, action = 'store_true',\n",
    "                        help = 'activate if you want to save the frustrated triangles')\n",
    "    parser.add_argument('--correlations', default = True, action = 'store_true',\n",
    "                        help = 'activate if you want to save either central or all correlations')\n",
    "    parser.add_argument('--both', default = False, action = 'store_true',\n",
    "                        help = '''both central and first correlations''')\n",
    "    parser.add_argument('--firstcorrelations', default = True, action = 'store_true',\n",
    "                        help = 'activate if you want to save first correlations, otherwise will save central')\n",
    "    parser.add_argument('--sref0', nargs = '+', type = int, default = [L-1, L-1, 0], help = 'ref spin 0')\n",
    "    parser.add_argument('--sref1', nargs = '+', type = int, default = [L-1, L-1, 1], help = 'ref spin 1')\n",
    "    parser.add_argument('--sref2', nargs = '+', type = int, default = [L-1, L-1, 2], help = 'ref spin 2')\n",
    "    #SAVE\n",
    "    parser.add_argument('--output', type = str, default = stroutput, help = 'saving filename (.pkl will be added)')\n",
    "    parser.add_argument('--verbose', default = False, action = 'store_true', help = 'verbose')\n",
    "    args = parser.parse_args()\n",
    "    \n",
    "    return args"
   ]
  },
  {
   "cell_type": "code",
   "execution_count": 5,
   "metadata": {},
   "outputs": [],
   "source": [
    "def callRunBasis():\n",
    "    args = genArgs()\n",
    "    return RunBasis.main(args)"
   ]
  },
  {
   "cell_type": "code",
   "execution_count": 6,
   "metadata": {
    "scrolled": true
   },
   "outputs": [
    {
     "name": "stdout",
     "output_type": "stream",
     "text": [
      "-------------------Initialisation--------------------\n",
      "./Phase8_J1-0.2J21J31_L8_tests_2_folder/backup.hkl\n",
      "Lattice side size:  8\n",
      "J1  -0.2\n",
      "J2  1\n",
      "J3  1\n",
      "J3st  1\n",
      "Couplings extracted\n",
      "Hamiltonian expression (without field) computed\n",
      "single spin flip update\n",
      "alternating ssf and dw update\n",
      "Number of temperatures:  64\n",
      "Temperatures: [1.00000000e-03 1.19081328e-03 1.41803628e-03 1.68861644e-03\n",
      " 2.01082688e-03 2.39451936e-03 2.85142547e-03 3.39551532e-03\n",
      " 4.04342475e-03 4.81496390e-03 5.73372298e-03 6.82779349e-03\n",
      " 8.13062718e-03 9.68205886e-03 1.15295243e-02 1.37295107e-02\n",
      " 1.63492837e-02 1.94689442e-02 2.31838774e-02 2.76076692e-02\n",
      " 3.28755792e-02 3.91486764e-02 4.66187639e-02 5.55142433e-02\n",
      " 6.61070984e-02 7.87212109e-02 9.37422637e-02 1.11629533e-01\n",
      " 1.32929931e-01 1.58294727e-01 1.88499464e-01 2.24467666e-01\n",
      " 2.67299078e-01 3.18303293e-01 3.79039789e-01 4.51365616e-01\n",
      " 5.37492171e-01 6.40052818e-01 7.62183397e-01 9.07618114e-01\n",
      " 1.08080371e+00 1.28703541e+00 1.53261886e+00 1.82506290e+00\n",
      " 2.17330915e+00 2.58800540e+00 3.08183121e+00 3.66988555e+00\n",
      " 4.37014846e+00 5.20403084e+00 6.19702905e+00 7.37950451e+00\n",
      " 8.78761200e+00 1.04644051e+01 1.24611526e+01 1.48389061e+01\n",
      " 1.76703664e+01 2.10421071e+01 2.50572206e+01 2.98384712e+01\n",
      " 3.55320479e+01 4.23120346e+01 5.03857329e+01 6.00000000e+01]\n",
      "Number of magnetic fields:  1\n",
      "Magnetic fields:  [0.]\n",
      "ids2walker shape (64, 1)\n",
      "Fully random initialisation =  True\n",
      "Identical initialisation =  False\n",
      "Magnetisation initialisation =  False\n",
      "Minimal energy index:  7  with energy per site  -1.7999999999999998\n",
      "RunBasis: Away from gs at t index  0\n",
      "   en_states[t] =  -52.00000000000027\n",
      "   ref_energy =  -1036.8\n",
      "Energies Checked\n",
      "States Checked\n",
      "Check: length of s_ijl 576\n",
      "Check: length of NN pairslist: 1152\n",
      "Check: length of 2ndNN pairs list:  1152\n",
      "Check: length of 3rd//NN pairs list:  1152\n",
      "Check: length of 3rd*NN pairs list:  576\n",
      "List of measurements to be performed: ['Energy', 'Si', 'FirstCorrelations']\n",
      "List of field indices to measure: [0]\n",
      "-----------Thermalisation------------------\n",
      "Number of thermalisation steps =  128\n",
      "itermcs =  128\n",
      "iterreplicas =  4\n",
      "ssf =  True\n",
      "alternate =  True\n",
      "ssffurther =  True\n",
      "genMode =  False\n",
      "saveupdates =  False\n",
      "fullstateupdate =  True\n",
      "measupdate =  False\n",
      "statsfunctions []\n",
      "Time for mcsevolve = 0.039678363129496574\n",
      "Time for tempering = 0.0007657650858163834\n",
      "Time for mapping to spins + computing statistics= 0.0001650843769311905\n",
      "Time for all thermalisation steps =  5.202462196350098\n",
      "Energies Checked\n",
      "States Checked\n",
      "-----------Measurements-----------------\n",
      "Number of measurement steps =  16\n",
      "['Energy', 'Si', 'FirstCorrelations']\n",
      "Measurement period: 1\n",
      "itermcs =  16\n",
      "iterreplicas =  4\n",
      "ssf =  True\n",
      "alternate =  True\n",
      "ssffurther =  True\n",
      "genMode =  True\n",
      "saveupdates =  False\n",
      "fullstateupdate =  True\n",
      "measupdate =  False\n",
      "statsfunctions [<function energy at 0x7f1074c1e840>, <function si at 0x7f1074c1e9d8>, <function firstcorrelations at 0x7f1074c1ea60>]\n",
      "Time for mcsevolve = 0.03981804847717285\n",
      "Time for tempering = 0.00080108642578125\n",
      "Time for mapping to spins + computing statistics= 0.14177344739437103\n",
      "Time for all measurements steps =  3.1837027072906494\n",
      "Energies size:  (64, 1)\n",
      "Energies Checked\n",
      "States Checked\n",
      "ids2walker shape (64, 1)\n",
      "Job done\n"
     ]
    }
   ],
   "source": [
    "#%%prun -s  -T prun0\n",
    "#yep.start(stroutput+'.log')\n",
    "%lprun -f dw.mcs_swaps callRunBasis()\n",
    "#yep.stop()"
   ]
  },
  {
   "cell_type": "code",
   "execution_count": 7,
   "metadata": {},
   "outputs": [],
   "source": [
    "# Create a folder to save the pictures\n",
    "foldername = \"./\" + stroutput + \"_folder/\" \n",
    "results_foldername = 'Results/'\n",
    "os.makedirs(foldername +results_foldername, exist_ok = True)\n",
    "\n",
    "filenamelist = [\"backup\"]\n",
    "n = len(filenamelist)"
   ]
  },
  {
   "cell_type": "code",
   "execution_count": 8,
   "metadata": {},
   "outputs": [],
   "source": [
    "[L, numsites, J1, J2, J3, J3st, J4, nb, num_in_bin, \n",
    " htip, Ttip, pswitch, uponly, path,\n",
    " temperatures, nt,\n",
    " stat_temps, temperatures_plots, hfields, nh, \n",
    " stat_hfields, hfields_plots, listfunctions, sref, ids2walker] = \\\n",
    "af.LoadParameters(foldername, filenamelist)"
   ]
  },
  {
   "cell_type": "code",
   "execution_count": 9,
   "metadata": {},
   "outputs": [
    {
     "name": "stdout",
     "output_type": "stream",
     "text": [
      "[-1.8]\n"
     ]
    }
   ],
   "source": [
    "kw = {'binning': False, 'plzplot': True, 'plotmin': 0, 'plotmax': 16}\n",
    "[t_h_MeanE, t_h_MeanEsq, t_h_varMeanE, t_h_varMeanEsq, C, ErrC] = \\\n",
    " af.LoadEnergy(foldername, filenamelist, numsites,\n",
    "               nb, stat_temps, temperatures, stat_hfields,\n",
    "               listfunctions, **kw)\n"
   ]
  },
  {
   "cell_type": "code",
   "execution_count": 10,
   "metadata": {},
   "outputs": [
    {
     "name": "stdout",
     "output_type": "stream",
     "text": [
      "[-1.8]\n",
      "-1.7999999999999998\n"
     ]
    }
   ],
   "source": [
    "print(t_h_MeanE[0][0])\n",
    "print((2/3 * J1[0] - (2/3) * J2[0] - J3[0]))"
   ]
  },
  {
   "cell_type": "code",
   "execution_count": 11,
   "metadata": {
    "scrolled": false
   },
   "outputs": [
    {
     "name": "stdout",
     "output_type": "stream",
     "text": [
      "nb  [4] num_in_bin  [4]\n"
     ]
    }
   ],
   "source": [
    "s_ijl, ijl_s = kdraw.createspinsitetable(L[0])\n",
    "print(\"nb \", nb, \"num_in_bin \", num_in_bin)\n",
    "swapst_th, swapsh_th, swapst, swapsh = af.LoadSwaps(foldername, filenamelist, nb, num_in_bin, nh, nt)\n",
    "\n",
    "n = len(L)\n",
    "failedth, failedssfth, failed, failedssf = \\\n",
    "af.LoadUpdates(foldername, filenamelist, nb, num_in_bin, [9*L[i]**2 for i in range(n)])\n"
   ]
  },
  {
   "cell_type": "code",
   "execution_count": 12,
   "metadata": {},
   "outputs": [
    {
     "data": {
      "image/png": "[encoded data removed]",
      "text/plain": [
       "<Figure size 432x288 with 1 Axes>"
      ]
     },
     "metadata": {},
     "output_type": "display_data"
    },
    {
     "data": {
      "image/png": "[encoded data removed]",
      "text/plain": [
       "<Figure size 432x288 with 1 Axes>"
      ]
     },
     "metadata": {},
     "output_type": "display_data"
    }
   ],
   "source": [
    "tidmin = 0\n",
    "tidmax = nt\n",
    "af.SwapsAnalysis(L, n, tidmin, tidmax, temperatures, hfields,\n",
    "                 foldername, results_foldername, swapst, swapsh)\n",
    "af.FailedAnalysis(L, n, tidmin, tidmax, temperatures, hfields,\n",
    "                 foldername, results_foldername,failed, failedssf)"
   ]
  }
 ],
 "metadata": {
  "kernelspec": {
   "display_name": "Python 3",
   "language": "python",
   "name": "python3"
  },
  "language_info": {
   "codemirror_mode": {
    "name": "ipython",
    "version": 3
   },
   "file_extension": ".py",
   "mimetype": "text/x-python",
   "name": "python",
   "nbconvert_exporter": "python",
   "pygments_lexer": "ipython3",
   "version": "3.6.9"
  }
 },
 "nbformat": 4,
 "nbformat_minor": 2
}
