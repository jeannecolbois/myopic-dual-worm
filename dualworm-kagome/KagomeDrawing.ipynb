{
 "cells": [
  {
   "cell_type": "code",
   "execution_count": null,
   "metadata": {
    "collapsed": true
   },
   "outputs": [],
   "source": [
    "from functools import lru_cache\n",
    "import GraphDrawing as gdw\n",
    "import numpy as np\n",
    "import matplotlib.pyplot as plt"
   ]
  },
  {
   "cell_type": "code",
   "execution_count": null,
   "metadata": {
    "collapsed": true
   },
   "outputs": [],
   "source": [
    "def fixbc(i, j, l, L):\n",
    "    '''\n",
    "        For a lattice side size L, this function handles the periodic boundary conditions by returning the corresponding\n",
    "        value of i, j, l if they match a point which is just outside the borders of the considered cell.\n",
    "    '''\n",
    "    if i == 2*L : # bottom right mapped to top left\n",
    "        i = 0\n",
    "        j += L\n",
    "    if j == 2*L: # top mapped to bottom\n",
    "        i += L\n",
    "        j = 0\n",
    "    if i+j == L-2: # bottom left mapped to top right\n",
    "        i += L\n",
    "        j += L\n",
    "    if i+j == 3*L-1: # top right mapped to bottom left\n",
    "        i -= L\n",
    "        j -= L\n",
    "    if j == -1: # bottom mapped to top\n",
    "        i -= L\n",
    "        j = 2*L-1\n",
    "    if i == -1: # top left mapped to bottom right\n",
    "        i = 2*L-1\n",
    "        j -= L\n",
    "    return (i, j, l)"
   ]
  },
  {
   "cell_type": "code",
   "execution_count": null,
   "metadata": {
    "collapsed": true
   },
   "outputs": [],
   "source": [
    "def createspinsitetable(L):\n",
    "    '''\n",
    "        Creates the table of spin sites corresponding to a dice lattice \n",
    "        of side size L.\n",
    "        Returns a table identifing an int with the three coordinates of \n",
    "        the spin site and a dictionnary identifying the\n",
    "        three coordinates with the spin site's int index. This allows \n",
    "        to handle other relations between spin sites in an\n",
    "        easier way.\n",
    "    '''\n",
    "    s_ijl = [(i, j, l) for i in range(2*L) for j in range(2*L) for l in range(3) if (i+j > L-2) and (i+j < 3*L-1)]\n",
    "    # dictionary\n",
    "    ijl_s = {}\n",
    "    for s, triplet in enumerate(s_ijl):\n",
    "        ijl_s[triplet] = s\n",
    "    return s_ijl, ijl_s"
   ]
  },
  {
   "cell_type": "code",
   "execution_count": null,
   "metadata": {
    "collapsed": true
   },
   "outputs": [],
   "source": [
    "def createspinsitetable(L):\n",
    "    '''\n",
    "        Creates the table of spin sites corresponding to a dice lattice \n",
    "        of side size L.\n",
    "        Returns a table identifing an int with the three coordinates of \n",
    "        the spin site and a dictionnary identifying the\n",
    "        three coordinates with the spin site's int index. This allows \n",
    "        to handle other relations between spin sites in an\n",
    "        easier way.\n",
    "    '''\n",
    "    s_ijl = [(i, j, l) for i in range(2*L) for j in range(2*L) for l in range(3) if (i+j > L-2) and (i+j < 3*L-1)]\n",
    "    # dictionary\n",
    "    ijl_s = {}\n",
    "    for s, triplet in enumerate(s_ijl):\n",
    "        ijl_s[triplet] = s\n",
    "    return s_ijl, ijl_s"
   ]
  },
  {
   "cell_type": "code",
   "execution_count": null,
   "metadata": {},
   "outputs": [],
   "source": [
    "@lru_cache(maxsize = None)\n",
    "def graphdice(L, a):\n",
    "    '''\n",
    "        For the dice lattice:\n",
    "        Returns two vertex <-> (i, j, l) tables, a table linking edge to the two corresponding vertices, as well as a dictionary giving the position (x,y) of each vertex\n",
    "    '''\n",
    "    #vertices table\n",
    "    v_ijl = [(i, j, l) for i in range(-1, 2*L+1) for j in range(-1, 2*L+1) for l in range(3) if (i+j >= L-2) and (i+j <= 3*L - 1)]\n",
    "    \n",
    "    #vertices dictionary:\n",
    "    ijl_v = {}\n",
    "    for v, triplet in enumerate(v_ijl):\n",
    "        ijl_v[triplet] = v\n",
    "    \n",
    "    #create the edges (v1, v2)\n",
    "    #table of where to look at \n",
    "    nv = [(0, -1, 2), (0, 0, 1), (0, 0, 2), (-1, 1, 1), (-1, 0, 2), (-1, 0, 1)]\n",
    "    #edge -> vertex: l from 0 to 5 indicates the edge\n",
    "    e_2v = [((i, j, 0),(i + nv[l][0], j + nv[l][1], nv[l][2])) for i in range(-1, 2*L+1) for j in range(-1, 2*L+1) for l in range(6) if (i+j >= L-2) and (i+j <= 3*L - 1)]\n",
    "    e_2v = [(ijl_v[i, j, l], ijl_v[ni, nj, nl]) for ((i, j, l), (ni, nj, nl)) in e_2v if (ni, nj, nl) in v_ijl]\n",
    "    #position\n",
    "    pos = {} #empty dictionary\n",
    "    for v, (i,j,l) in enumerate(v_ijl):\n",
    "        if l == 0:\n",
    "            x = a * (i + j / 2.0)\n",
    "            y = a * j * np.sqrt(3) / 2.0\n",
    "        if l == 1:\n",
    "            x = a * (i + j / 2.0 + 1.0 / 2.0)\n",
    "            y = a * (j * np.sqrt(3) / 2.0 - 1.0 / (2.0 * np.sqrt(3.0)))\n",
    "        if l == 2:\n",
    "            x = a * (i + j / 2.0 + 1.0 / 2.0)\n",
    "            y = a * (j * np.sqrt(3) / 2.0 + 1.0/ (2.0 * np.sqrt(3.0)))\n",
    "        pos[v] = (x,y)\n",
    "    return v_ijl, ijl_v, e_2v, pos"
   ]
  },
  {
   "cell_type": "code",
   "execution_count": null,
   "metadata": {
    "collapsed": true
   },
   "outputs": [],
   "source": [
    "def reducedgraphdice(L, a, d_ijl, v_ijl, ijl_v):\n",
    "    #table of where to look at \n",
    "    nv = [(0, -1, 2), (0, 0, 1), (0, 0, 2), (-1, 1, 1), (-1, 0, 2), (-1, 0, 1)]\n",
    "    #dimer -> vertex: l from 0 to 5 indicates the edge\n",
    "    d_2v = [((i, j, 0),(i + nv[l][0], j + nv[l][1], nv[l][2])) for (i, j, l) in d_ijl]\n",
    "    d_2v = [(ijl_v[i, j, l], ijl_v[fixbc(ni, nj, nl, L)]) for ((i, j, l), (ni, nj, nl)) in d_2v]\n",
    "    \n",
    "    v2_d = {} \n",
    "    for d, (v1,v2) in enumerate(d_2v):\n",
    "        v2_d[v1,v2] = d\n",
    "        v2_d[v2,v1] = d\n",
    "    \n",
    "    return d_2v, v2_d"
   ]
  },
  {
   "cell_type": "code",
   "execution_count": null,
   "metadata": {
    "collapsed": true
   },
   "outputs": [],
   "source": [
    "@lru_cache(maxsize = None)\n",
    "def graphkag(L, a):\n",
    "    '''\n",
    "        For the kagomé lattice:\n",
    "        Returns two vertex <-> (i, j, l) tables, a table linking edge to the two corresponding vertices, as well as a dictionary giving the position (x,y) of each vertex\n",
    "    '''\n",
    "    #vertices table\n",
    "    sv_ijl = [(i, j, l) for i in range(-1, 2*L+1) for j in range(-1, 2*L+1) for l in range(3) if (i+j >= L-2) and (i+j <= 3*L - 1)]\n",
    "    \n",
    "    #vertices dictionary:\n",
    "    ijl_sv = {}\n",
    "    for sv, triplet in enumerate(sv_ijl):\n",
    "        ijl_sv[triplet] = sv\n",
    "    \n",
    "    #create the edges (sv1, sv2)\n",
    "    #table of where to look at \n",
    "    nv = [[(0, 0, 1), (1, 0, 2)],[(-1, 1, 0), (1, 0, 2)], [(0, 0, 1), (-1, 1, 0)]]\n",
    "    #edge -> vertex: l from 0 to 5 indicates the edge\n",
    "    e_2sv = [((i, j, l),(i + nv[l][u][0], j + nv[l][u][1], nv[l][u][2])) for i in range(-1, 2*L+1) for j in range(-1, 2*L+1) for l in range(3) for u in range(2) if (i+j >= L-2) and (i+j <= 3*L - 1)]\n",
    "    e_2sv = [(ijl_sv[i, j, l], ijl_sv[ni, nj, nl]) for ((i, j, l), (ni, nj, nl)) in e_2sv if (ni, nj, nl) in sv_ijl]\n",
    "    #position\n",
    "    pos = {} #empty dictionary\n",
    "    for sv, (i,j,l) in enumerate(sv_ijl):\n",
    "        x = a * (i + j / 2.0)\n",
    "        y = a * j * np.sqrt(3) / 2.0\n",
    "        if l == 0:\n",
    "            x += a / 2.0\n",
    "        if l == 1:\n",
    "            x += a / 4.0\n",
    "            y += a * np.sqrt(3) / 4.0\n",
    "        if l == 2:\n",
    "            x -= a / 4.0\n",
    "            y += a * np.sqrt(3) / 4.0\n",
    "        pos[sv] = (x,y)\n",
    "    return sv_ijl, ijl_sv, e_2sv, pos"
   ]
  },
  {
   "cell_type": "code",
   "execution_count": null,
   "metadata": {
    "collapsed": true
   },
   "outputs": [],
   "source": [
    "@lru_cache(maxsize = None)\n",
    "def graphhoneycomb(L, a):\n",
    "    '''\n",
    "        For the kagomé lattice:\n",
    "        Returns two vertex <-> (i, j, l) tables, a table linking edge to the two corresponding vertices, as well as a dictionary giving the position (x,y) of each vertex\n",
    "    '''\n",
    "    #vertices table\n",
    "    cv_ijl = [(i, j, l) for i in range(-1, 2*L+1) for j in range(-1, 2*L+1) for l in range(2) if (i+j >= L-2) and (i+j <= 3*L - 1)]\n",
    "    \n",
    "    #vertices dictionary:\n",
    "    ijl_cv = {}\n",
    "    for cv, triplet in enumerate(cv_ijl):\n",
    "        ijl_cv[triplet] = cv\n",
    "    \n",
    "    #position\n",
    "    pos = {} #empty dictionary\n",
    "    for cv, (i,j,l) in enumerate(cv_ijl):\n",
    "        x = a * (i + j / 2.0)\n",
    "        y = a * j * np.sqrt(3) / 2.0\n",
    "        if l == 0:\n",
    "            x += a / 2.0\n",
    "            y += a / 4.0\n",
    "        if l == 1:\n",
    "            y += a/ 2.0\n",
    "\n",
    "        pos[cv] = (x,y)\n",
    "    return cv_ijl, ijl_cv,pos"
   ]
  },
  {
   "cell_type": "code",
   "execution_count": null,
   "metadata": {
    "collapsed": true
   },
   "outputs": [],
   "source": [
    "# FUCTION LINKING THE EDGE OF THE GRAPH TO THE CORRESPONDING DIMER STATE\n",
    "def edge2dimer(L, a, d_ijl, v_ijl, ijl_v, e_2v):\n",
    "    (d_2v, v2_d) = reducedgraphdice(L,a, d_ijl, v_ijl, ijl_v) #for the two vertices in the reduced bc\n",
    "    e_d = list()\n",
    "    for e, (v1, v2) in enumerate(e_2v):\n",
    "        (i1, j1, l1) = v_ijl[v1]\n",
    "        (i2, j2, l2) = v_ijl[v2]\n",
    "        v1 = ijl_v[fixbc(i1, j1, l1, L)]\n",
    "        v2 = ijl_v[fixbc(i2, j2, l2, L)]\n",
    "        d = v2_d[v1, v2]\n",
    "        e_d.append(d)\n",
    "    return e_d"
   ]
  },
  {
   "cell_type": "code",
   "execution_count": null,
   "metadata": {
    "collapsed": true
   },
   "outputs": [],
   "source": [
    "def plot_dice_nodes(L, a, color='black', s=1, **kargs):\n",
    "    (v_ijl, ijl_v, e_2v, pos) = graphdice(L, a)\n",
    "    gdw.draw_nodes(pos, list(pos.keys()), c=color, s=s, **kargs)\n",
    "def plot_dice_dimers(dimers, d_ijl, L, a, **kargs):\n",
    "    \"\"\"\n",
    "        :param dimers: list of dimers indices (for instance [3, 5, 2, ...])\n",
    "    \"\"\"\n",
    "    (v_ijl, ijl_v, e_2v, pos) = graphdice(L, a)\n",
    "    e_d = edge2dimer(L, a, d_ijl, v_ijl, ijl_v, e_2v)\n",
    "    dimersthere = [] # list of vertex pairs on the dice lattice where there is a dimer\n",
    "    for e, (v1, v2) in enumerate(e_2v):\n",
    "        #get corresponding state\n",
    "        if e_d[e] in dimers:\n",
    "            dimersthere.append((v1,v2))\n",
    "    gdw.draw_edges(pos, dimersthere, **kargs)\n",
    "def plot_dice_dimerstate(state, d_ijl, L, a, node_color = 'black', dim_color = 'black', no_dim_color = 'lightgrey', linewidth = 1, **kargs):\n",
    "    plot_dice_nodes(L, a, color = node_color, **kargs)\n",
    "    dimers = [d for d, dstate in enumerate(state) if dstate == 1]\n",
    "    nodimers = [d for d, dstate in enumerate(state) if dstate == -1]\n",
    "    plot_dice_dimers(dimers, d_ijl, L, a, color = dim_color, linewidth = linewidth)\n",
    "    plot_dice_dimers(nodimers, d_ijl, L, a, color = no_dim_color)"
   ]
  },
  {
   "cell_type": "code",
   "execution_count": null,
   "metadata": {
    "collapsed": true
   },
   "outputs": [],
   "source": [
    "def spinvertex2spin(L,a, ijl_s, sv_ijl):\n",
    "    '''\n",
    "        Given a list of spin vertices, associates to each one the corresponding spin\n",
    "    '''\n",
    "    sv_s = list()\n",
    "    for sv, (i, j, l) in enumerate(sv_ijl):\n",
    "        (ni, nj, nl) = fixbc(i, j, l, L)\n",
    "        s = ijl_s[ni, nj, nl]\n",
    "        sv_s.append(s)\n",
    "    \n",
    "    return sv_s"
   ]
  },
  {
   "cell_type": "code",
   "execution_count": null,
   "metadata": {
    "collapsed": true
   },
   "outputs": [],
   "source": [
    "def plot_kag_nodes(L, a, color='blue', s=20, **kargs):\n",
    "    (sv_ijl, ijl_sv, e_2sv, poskag) = graphkag(L,a)\n",
    "    gdw.draw_nodes(poskag, list(poskag.keys()), c = color, s = s, **kargs)\n",
    "\n",
    "def plot_kag_edges(L, a, color='lightblue', **kargs):\n",
    "    sv_ijl, ijl_sv, e_2sv, pos = graphkag(L, a)\n",
    "    gdw.draw_edges(pos, e_2sv, **kargs)\n",
    "    \n",
    "def plot_kag_spins(spins, ijl_s, L, a, color = 'red', **kargs):\n",
    "    \"\"\"\n",
    "        :param spins: list of spins indices (for instance [3, 5, 2, ...])\n",
    "    \"\"\"\n",
    "    (sv_ijl, ijl_sv, e_2sv, poskag) = graphkag(L,a)\n",
    "    sv_s = spinvertex2spin(L,a, ijl_s, sv_ijl)\n",
    "    spinsthere = []\n",
    "    for sv, ijl in enumerate(sv_ijl): #for each key\n",
    "        if sv_s[sv] in spins:# look for corresponding spin in spins\n",
    "            spinsthere.append(sv) #list of keys\n",
    "    gdw.draw_nodes(poskag, spinsthere, c = color, **kargs)\n",
    "    \n",
    "def plot_kag_spinstate(spinstate, ijl_s, L, a, edge_color = 'lightblue', up_color = 'blue', down_color = 'red', **kargs):\n",
    "    \"\"\"\n",
    "        :param spins: list of spins indices (for instance [3, 5, 2, ...])\n",
    "    \"\"\"\n",
    "    plot_kag_nodes(L, a, **kargs)\n",
    "    plot_kag_edges(L, a, color = edge_color, **kargs)\n",
    "    spinsup = [s for s, sstate in enumerate(spinstate) if sstate == 1]\n",
    "    spinsdown = [s for s, sstate in enumerate(spinstate) if sstate == -1]\n",
    "    if len(spinsup) != 0:\n",
    "        plot_kag_spins(spinsup, ijl_s, L, a, color = up_color, label = 'spin up')\n",
    "    if len(spinsdown) != 0:\n",
    "        plot_kag_spins(spinsdown, ijl_s, L, a, color = down_color, label = 'spin down')"
   ]
  },
  {
   "cell_type": "code",
   "execution_count": null,
   "metadata": {
    "collapsed": true
   },
   "outputs": [],
   "source": [
    "#def plot_honeycomb_nodes(L, a, color = 'blue', s = 20, **kargs):\n",
    "#    (cv_ijl, ijl_cv, posh) = graphhoneycomb(L,a)\n",
    "#    gdw.draw_nodes(posh, list(posh.keys()), c = color, s = s, **kargs)\n",
    "#    \n",
    "#def plot_honeycomb_chargestate(chargestate, ijl_c, L, a, edge_color = 'lightblue', **kargs):\n",
    "#    \"\"\"\n",
    "#        :param spins: list of spins indices (for instance [3, 5, 2, ...])\n",
    "#    \"\"\"\n",
    "#    plot_honeycomb_nodes(L, a, **kargs)\n",
    "#    c1 = [c for c, cstate in enumerate(chargestate) if cstate == 3]\n",
    "#    c2 = [c for c, cstate in enumerate(chargestate) if cstate == 1]\n",
    "#    c3 = [c for c, cstate in enumerate(chargestate) if cstate == -1]\n",
    "#    c4 = [c for c, cstate in enumerate(chargestate) if cstate == -3]\n",
    "#    if len(c1) != 0:\n",
    "#        plot_honeycomb_nodes(c1, ijl_c, L, a, color = up_color, label = 'spin up')\n",
    "#    if len(spinsdown) != 0:\n",
    "#        plot_kag_spins(spinsdown, ijl_s, L, a, color = down_color, label = 'spin down')"
   ]
  },
  {
   "cell_type": "code",
   "execution_count": null,
   "metadata": {
    "collapsed": true
   },
   "outputs": [],
   "source": [
    "#FUNCTION ALLOWING TO PLOT THE FULL STATE\n",
    "\n",
    "def plotstate(temp_id, L, d_ijl, ijl_s, sidlist, didlist, s2_d, states, dim_node_color = 'black', dim_color ='black', no_dim_color = 'lightgrey', spin_edge_color = 'lightblue', spin_up_color = 'blue', spin_down_color = 'red', dimerlinewidth = 5, spinlinewidth = 1, **kargs):    \n",
    "\n",
    "    a = 2 #lattice parameter\n",
    "    spinstate = onestate_dimers2spins(sidlist, didlist, L, states[temp_id])\n",
    "    plt.figure(figsize = (2*L,2*L))\n",
    "    plt.axis('equal')\n",
    "    plot_dice_dimerstate(states[temp_id], d_ijl, L, a, dim_node_color, dim_color, no_dim_color, linewidth = dimerlinewidth, **kargs)\n",
    "    plot_kag_spinstate(spinstate, ijl_s, L, a, spin_edge_color, spin_up_color, spin_down_color, linewidth = spinlinewidth, **kargs)\n",
    "    plt.tick_params(  \n",
    "        which = 'both',      # both major and minor ticks are affected\n",
    "        bottom = 'off',      # ticks along the bottom edge are off\n",
    "        top = 'off',         # ticks along the top edge are off\n",
    "        labelbottom = 'off',\n",
    "        left = 'off',\n",
    "        right = 'off',\n",
    "        labelleft = 'off') # labels along the bottom edge are off"
   ]
  },
  {
   "cell_type": "code",
   "execution_count": null,
   "metadata": {
    "collapsed": true
   },
   "outputs": [],
   "source": [
    "def plot_function_kag(f, L, a, **kargs):\n",
    "    '''\n",
    "        Plots the function f over the kagomé lattice. f has to be defined on the \"square\" brillouin zone\n",
    "        for k1, k2 in range(0, L), which will be the usual output of the FT\n",
    "    '''\n",
    "    #get the shape of the lattice\n",
    "    (sv_ijl, ijl_sv, e_2sv, pos) = graphkag(L, a) # drawing lattice\n",
    "    (s_ijl, ijl_s) = createspinsitetable(L) # lattice over which the function is defined\n",
    "    \n",
    "    \n",
    "    #chose the size of the points in a way that compensates for the parameters\n",
    "    s = (a*54/L)**2\n",
    "    \n",
    "    new_f = np.zeros(len(sv_ijl))\n",
    "    for sv, (i, j, l) in enumerate(sv_ijl):\n",
    "        new_f[sv] = f[ijl_s[fixbc(i, j, l, L)]]\n",
    "    \n",
    "    gdw.draw_function(pos, new_f, list(pos.keys()), s = s, marker = 'h', **kargs)\n",
    "    \n",
    "    plt.axis('equal')\n",
    "    #plt.axis([0, 1, 0, 3*n])\n",
    "    plt.tick_params(  \n",
    "        which = 'both',      # both major and minor ticks are affected\n",
    "        bottom = 'off',      # ticks along the bottom edge are off\n",
    "        top = 'off',         # ticks along the top edge are off\n",
    "        labelbottom = 'off',\n",
    "        left = 'off',\n",
    "        right = 'off',\n",
    "        labelleft = 'off') # labels along the bottom edge are off"
   ]
  },
  {
   "cell_type": "code",
   "execution_count": null,
   "metadata": {
    "collapsed": true
   },
   "outputs": [],
   "source": [
    "def KagomeSimpleReciprocal(L):\n",
    "    '''\n",
    "        Creates the table of reciprocal space points where there can be a non-zero amplitude of the diffraciton signal.\n",
    "        Returns a table identifying an int with the two reciprocal space indices and a dictionary identifying the two\n",
    "        indices with the corresponding int.\n",
    "    '''\n",
    "    q_k1k2 = [(k1, k2) for k1 in range(L) for k2 in range(L)]\n",
    "    k1k2_q = {} # new empty dictionary\n",
    "    for q, couple in enumerate(q_k1k2):\n",
    "        k1k2_q[couple] = q\n",
    "    return q_k1k2, k1k2_q\n",
    "\n",
    "def KagomeReciprocal(L):\n",
    "    '''\n",
    "        Creates the table of reciprocal space points where there can be a non-zero amplitude of the diffraciton signal.\n",
    "        Returns a table identifying an int with the two reciprocal space indices and a dictionary identifying the two\n",
    "        indices with the corresponding int.\n",
    "    '''\n",
    "    #possible values of q: \n",
    "    q_k1k2 = [(k1, k2) for k1 in range(-2*L, 2*L) for k2 in range(-4*L, 4*L) if (abs(2 * k1 - k2) <= 2*L and abs(2*k2 - k1) <= 2*L and abs(k1 + k2) <= 2*L)]\n",
    "    k1k2_q = {} # new empty dictionary\n",
    "    for q, couple in enumerate(q_k1k2):\n",
    "        k1k2_q[couple] = q\n",
    "    return q_k1k2, k1k2_q\n",
    "\n",
    "@lru_cache(maxsize = None)\n",
    "def reciprocalgraph(L, a):\n",
    "    '''\n",
    "        For the triangular lattice:\n",
    "        Returns two vertex <-> (k1, k2) tables,  and a dictionary giving the position (x,y) of each vertex\n",
    "    '''\n",
    "    (qv_k1k2, k1k2_qv) = KagomeReciprocal(L)\n",
    "    \n",
    "   \n",
    "    #position\n",
    "    pos = {} #empty dictionary\n",
    "    factor = 2 * np.pi / (a*L)\n",
    "    for qv, (k1, k2) in enumerate(qv_k1k2):\n",
    "        x = factor * k1\n",
    "        y = factor / np.sqrt(3) * (2 * k2 - k1)\n",
    "        pos[qv] = (x,y)\n",
    "        \n",
    "    return qv_k1k2, k1k2_qv, pos, factor"
   ]
  },
  {
   "cell_type": "code",
   "execution_count": null,
   "metadata": {
    "collapsed": true
   },
   "outputs": [],
   "source": [
    "def plot_reciprocal(L, a, n, color = 'blue', **kargs):\n",
    "    #get the shape of the lattice\n",
    "    (qv_k1k2, k1k2_qv, pos, factor) = reciprocalgraph(L, a)\n",
    "    \n",
    "    #chose the size of the points in a way that compensates for the parameters\n",
    "    s = (48/n*factor) ** 2\n",
    "    \n",
    "    #draw the lattice\n",
    "    gdw.draw_nodes(pos, list(pos.keys()), c = color, edgecolors = 'none', s = s, marker = 'H', **kargs)\n",
    "    \n",
    "    #make it a nice plot\n",
    "    plt.axis('equal')\n",
    "    plt.axis([0, 1, -3*n, 3*n])\n",
    "    plt.tick_params(  \n",
    "        which = 'both',      # both major and minor ticks are affected\n",
    "        bottom = 'off',      # ticks along the bottom edge are off\n",
    "        top = 'off',         # ticks along the top edge are off\n",
    "        labelbottom = 'off',\n",
    "        left = 'off',\n",
    "        right = 'off',\n",
    "        labelleft = 'off') # labels along the bottom edge are off  "
   ]
  },
  {
   "cell_type": "code",
   "execution_count": null,
   "metadata": {
    "collapsed": true
   },
   "outputs": [],
   "source": [
    "def plot_function_reciprocal(f, L, a, **kargs):\n",
    "    '''\n",
    "        Plots the function f over the reciprocal lattice. f has to be defined on the \"square\" brillouin zone\n",
    "        for k1, k2 in range(0, L), which will be the usual output of the FT\n",
    "    '''\n",
    "    #get the shape of the lattice\n",
    "    (qv_k1k2, k1k2_qv, pos, factor) = reciprocalgraph(L, a) # drawing lattice\n",
    "    \n",
    "    s =(110/L)**2\n",
    "    gdw.draw_function(pos, f, list(pos.keys()), s = s, **kargs)\n",
    "    \n",
    "    plt.axis('equal')\n",
    "   # plt.axis([0, 1, -10, 10])\n",
    "    plt.tick_params(  \n",
    "        which = 'both',      # both major and minor ticks are affected\n",
    "        bottom = 'off',      # ticks along the bottom edge are off\n",
    "        top = 'off',         # ticks along the top edge are off\n",
    "        labelbottom = 'off',\n",
    "        left = 'off',\n",
    "        right = 'off',\n",
    "        labelleft = 'off') # labels along the bottom edge are offb"
   ]
  }
 ],
 "metadata": {
  "kernelspec": {
   "display_name": "Python 3",
   "language": "python",
   "name": "python3"
  },
  "language_info": {
   "codemirror_mode": {
    "name": "ipython",
    "version": 3
   },
   "file_extension": ".py",
   "mimetype": "text/x-python",
   "name": "python",
   "nbconvert_exporter": "python",
   "pygments_lexer": "ipython3",
   "version": "3.7.4"
  }
 },
 "nbformat": 4,
 "nbformat_minor": 2
}
