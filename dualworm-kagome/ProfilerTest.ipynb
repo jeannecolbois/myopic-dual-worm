{
 "cells": [
  {
   "cell_type": "code",
   "execution_count": 1,
   "metadata": {},
   "outputs": [],
   "source": [
    "import DualwormFunctions as dw\n",
    "import Observables as obs\n",
    "%load_ext line_profiler\n",
    "import RunBasis\n",
    "import argparse"
   ]
  },
  {
   "cell_type": "code",
   "execution_count": 2,
   "metadata": {},
   "outputs": [],
   "source": [
    "def genArgs():\n",
    "    parser = argparse.ArgumentParser()\n",
    "    \n",
    "    parser.add_argument('-f', type = str)\n",
    "    parser.add_argument('--L', type = int, default = 8, help = 'Lattice side size')\n",
    "\n",
    "    # COUPLINGS\n",
    "    parser.add_argument('--J1', type = float, default = 1.0,\n",
    "                        help = 'NN coupling') # nearest-neighbour coupling\n",
    "    parser.add_argument('--J2', type = float, default = 0.0,\n",
    "                        help = '2nd NN coupling') # 2nd NN coupling\n",
    "    parser.add_argument('--J3', type = float, default = 0.0,\n",
    "                        help = '3rd NN coupling') # 3rd NN coupling\n",
    "    parser.add_argument('--J4', type = float, default = 0.0,\n",
    "                        help = '4th NN coupling')\n",
    "\n",
    "    #NUMBER OF STEPS AND ITERATIONS\n",
    "    parser.add_argument('--nst', type = int, default = 1000,\n",
    "                        help = 'number of thermalisation steps') # number of thermalisation steps\n",
    "    parser.add_argument('--nsm', type = int, default = 10000,\n",
    "                        help = 'number of measurements steps') # number of measurement steps\n",
    "    parser.add_argument('--nips', type = int, default = 10,\n",
    "                        help = 'number of worm constructions per MC step')\n",
    "    parser.add_argument('--nb', type = int, default = 50,\n",
    "                        help = 'number of bins')\n",
    "\n",
    "    #PARALLELISATION\n",
    "    parser.add_argument('--ncores', type = int, default = 4,\n",
    "                        help = 'number of threads to use')\n",
    "\n",
    "    #WORM PARAMETERS\n",
    "    parser.add_argument('--nmaxiter', type = int, default = 10,\n",
    "                        help = '''maximal number of segments in a loop update over the\n",
    "                        size of the lattice (1 = 1times the number of dualbonds in the\n",
    "                        lattice)''')\n",
    "    parser.add_argument('--randominit', default = False, action ='store_true',\n",
    "                        help = 'intialise the states randomly')\n",
    "    parser.add_argument('--same', default = False, action = 'store_true',\n",
    "                        help = '''initialise all temperatures with the same\n",
    "                        state (debug purposes)''')\n",
    "    parser.add_argument('--measupdate', default = True, action = 'store_true',\n",
    "                       help = '''activate to mimic the action of the measuring tip''')\n",
    "    parser.add_argument('--p', type = float, default = 0.5, \n",
    "                       help = '''prob of the measuring tip flipping the spin (number between 0 and 1)''')\n",
    "   \n",
    "    #TEMPERATURE PARAMETERS\n",
    "    parser.add_argument('--t_list', nargs = '+', type = float, default = [0.01,1],\n",
    "                        help = 'list of limiting temperature values')\n",
    "    parser.add_argument('--nt_list', nargs = '+', type = int, default = [28],\n",
    "                        help = 'list of number of temperatures in between the given limiting temperatures')\n",
    "    parser.add_argument('--log_tlist', default = False, action='store_true',\n",
    "                        help = 'state whether you want the temperature be spaced log-like or linear-like (activate if you want log)')\n",
    "    parser.add_argument('--stat_temps_lims', nargs = '+', type = float,\n",
    "                        help = '''limiting temperatures for the various ranges of\n",
    "                        measurements''') \n",
    "                        #default will be set to none, and then we can decide what to do later on.\n",
    "\n",
    "    #CORRELATIONS PARAMETER\n",
    "    parser.add_argument('--energy', default = True, action = 'store_true',\n",
    "                        help = 'activate if you want to save the energy')\n",
    "    parser.add_argument('--magnetisation', default = True, action = 'store_true',\n",
    "                        help = 'activate if you want to save the magnetisation')\n",
    "    parser.add_argument('--magnstats', default = True, action = 'store_true',\n",
    "                        help = 'activate if you want to compute the magnetisation statistics')\n",
    "    parser.add_argument('--correlations', default = False, action = 'store_true',\n",
    "                        help = 'activate if you want to save either central or all correlations')\n",
    "    parser.add_argument('--all_correlations', default = False, action = 'store_true',\n",
    "                        help = '''activate if you want to save the correlations for all non-equivalent\n",
    "                        pairs of sites. Otherwise, will save central correlations.''')\n",
    "    #SAVE\n",
    "    parser.add_argument('--output', type = str, default = \"test.out\", help = 'saving filename (.pkl will be added)')\n",
    "    args = parser.parse_args()\n",
    "    return args"
   ]
  },
  {
   "cell_type": "code",
   "execution_count": 3,
   "metadata": {},
   "outputs": [],
   "source": [
    "def callRunBasis():\n",
    "    args = genArgs()\n",
    "    RunBasis.main(args)"
   ]
  },
  {
   "cell_type": "code",
   "execution_count": 4,
   "metadata": {
    "scrolled": false
   },
   "outputs": [
    {
     "name": "stdout",
     "output_type": "stream",
     "text": [
      "Lattice side size:  8\n",
      "J1  1.0\n",
      "J2  0.0\n",
      "J3  0.0\n",
      "J3st  0.0\n",
      "J4 0.0\n",
      "Number of temperatures:  28\n",
      "Random initialisation =  False\n",
      "Same initialisation for all temperatures =  False\n",
      "statesinit function called\n",
      " --> Non random initialisation\n",
      "  >>> J1-J2 init\n",
      "  >>> J1-J3 init\n",
      "List of measurements to be performed: ['Energy', 'Magnetisation']\n",
      "List of temperature indices to measure: range(0, 28)\n",
      "Number of thermalisation steps =  1000\n",
      "[]\n",
      "Time for mcsevolve = 0.011492725372314464\n",
      "Time for tempering = 0.00038378381729125915\n",
      "Time for mapping to spins + computing statistics= 4.8086643218994015e-06\n",
      "Time for all thermalisation steps =  11.884312629699707\n",
      "Number of measurement steps =  10000\n",
      "['Energy', 'Magnetisation']\n"
     ]
    },
    {
     "ename": "AttributeError",
     "evalue": "module 'KagomeFunctions' has no attribute 'spin2plaquette'",
     "output_type": "error",
     "traceback": [
      "\u001b[0;31m---------------------------------------------------------------------------\u001b[0m",
      "\u001b[0;31mAttributeError\u001b[0m                            Traceback (most recent call last)",
      "\u001b[0;32m<ipython-input-4-f08c0dc0d332>\u001b[0m in \u001b[0;36m<module>\u001b[0;34m()\u001b[0m\n\u001b[0;32m----> 1\u001b[0;31m \u001b[0mget_ipython\u001b[0m\u001b[0;34m(\u001b[0m\u001b[0;34m)\u001b[0m\u001b[0;34m.\u001b[0m\u001b[0mrun_line_magic\u001b[0m\u001b[0;34m(\u001b[0m\u001b[0;34m'lprun'\u001b[0m\u001b[0;34m,\u001b[0m \u001b[0;34m'-f RunBasis.main callRunBasis()'\u001b[0m\u001b[0;34m)\u001b[0m\u001b[0;34m\u001b[0m\u001b[0;34m\u001b[0m\u001b[0m\n\u001b[0m",
      "\u001b[0;32m/usr/lib/python3.7/site-packages/IPython/core/interactiveshell.py\u001b[0m in \u001b[0;36mrun_line_magic\u001b[0;34m(self, magic_name, line, _stack_depth)\u001b[0m\n\u001b[1;32m   2129\u001b[0m                 \u001b[0mkwargs\u001b[0m\u001b[0;34m[\u001b[0m\u001b[0;34m'local_ns'\u001b[0m\u001b[0;34m]\u001b[0m \u001b[0;34m=\u001b[0m \u001b[0msys\u001b[0m\u001b[0;34m.\u001b[0m\u001b[0m_getframe\u001b[0m\u001b[0;34m(\u001b[0m\u001b[0mstack_depth\u001b[0m\u001b[0;34m)\u001b[0m\u001b[0;34m.\u001b[0m\u001b[0mf_locals\u001b[0m\u001b[0;34m\u001b[0m\u001b[0;34m\u001b[0m\u001b[0m\n\u001b[1;32m   2130\u001b[0m             \u001b[0;32mwith\u001b[0m \u001b[0mself\u001b[0m\u001b[0;34m.\u001b[0m\u001b[0mbuiltin_trap\u001b[0m\u001b[0;34m:\u001b[0m\u001b[0;34m\u001b[0m\u001b[0;34m\u001b[0m\u001b[0m\n\u001b[0;32m-> 2131\u001b[0;31m                 \u001b[0mresult\u001b[0m \u001b[0;34m=\u001b[0m \u001b[0mfn\u001b[0m\u001b[0;34m(\u001b[0m\u001b[0;34m*\u001b[0m\u001b[0margs\u001b[0m\u001b[0;34m,\u001b[0m\u001b[0;34m**\u001b[0m\u001b[0mkwargs\u001b[0m\u001b[0;34m)\u001b[0m\u001b[0;34m\u001b[0m\u001b[0;34m\u001b[0m\u001b[0m\n\u001b[0m\u001b[1;32m   2132\u001b[0m             \u001b[0;32mreturn\u001b[0m \u001b[0mresult\u001b[0m\u001b[0;34m\u001b[0m\u001b[0;34m\u001b[0m\u001b[0m\n\u001b[1;32m   2133\u001b[0m \u001b[0;34m\u001b[0m\u001b[0m\n",
      "\u001b[0;32m<decorator-gen-125>\u001b[0m in \u001b[0;36mlprun\u001b[0;34m(self, parameter_s)\u001b[0m\n",
      "\u001b[0;32m/usr/lib/python3.7/site-packages/IPython/core/magic.py\u001b[0m in \u001b[0;36m<lambda>\u001b[0;34m(f, *a, **k)\u001b[0m\n\u001b[1;32m    185\u001b[0m     \u001b[0;31m# but it's overkill for just that one bit of state.\u001b[0m\u001b[0;34m\u001b[0m\u001b[0;34m\u001b[0m\u001b[0;34m\u001b[0m\u001b[0m\n\u001b[1;32m    186\u001b[0m     \u001b[0;32mdef\u001b[0m \u001b[0mmagic_deco\u001b[0m\u001b[0;34m(\u001b[0m\u001b[0marg\u001b[0m\u001b[0;34m)\u001b[0m\u001b[0;34m:\u001b[0m\u001b[0;34m\u001b[0m\u001b[0;34m\u001b[0m\u001b[0m\n\u001b[0;32m--> 187\u001b[0;31m         \u001b[0mcall\u001b[0m \u001b[0;34m=\u001b[0m \u001b[0;32mlambda\u001b[0m \u001b[0mf\u001b[0m\u001b[0;34m,\u001b[0m \u001b[0;34m*\u001b[0m\u001b[0ma\u001b[0m\u001b[0;34m,\u001b[0m \u001b[0;34m**\u001b[0m\u001b[0mk\u001b[0m\u001b[0;34m:\u001b[0m \u001b[0mf\u001b[0m\u001b[0;34m(\u001b[0m\u001b[0;34m*\u001b[0m\u001b[0ma\u001b[0m\u001b[0;34m,\u001b[0m \u001b[0;34m**\u001b[0m\u001b[0mk\u001b[0m\u001b[0;34m)\u001b[0m\u001b[0;34m\u001b[0m\u001b[0;34m\u001b[0m\u001b[0m\n\u001b[0m\u001b[1;32m    188\u001b[0m \u001b[0;34m\u001b[0m\u001b[0m\n\u001b[1;32m    189\u001b[0m         \u001b[0;32mif\u001b[0m \u001b[0mcallable\u001b[0m\u001b[0;34m(\u001b[0m\u001b[0marg\u001b[0m\u001b[0;34m)\u001b[0m\u001b[0;34m:\u001b[0m\u001b[0;34m\u001b[0m\u001b[0;34m\u001b[0m\u001b[0m\n",
      "\u001b[0;32m~/.local/lib/python3.7/site-packages/line_profiler.py\u001b[0m in \u001b[0;36mlprun\u001b[0;34m(self, parameter_s)\u001b[0m\n\u001b[1;32m    354\u001b[0m         \u001b[0;32mtry\u001b[0m\u001b[0;34m:\u001b[0m\u001b[0;34m\u001b[0m\u001b[0;34m\u001b[0m\u001b[0m\n\u001b[1;32m    355\u001b[0m             \u001b[0;32mtry\u001b[0m\u001b[0;34m:\u001b[0m\u001b[0;34m\u001b[0m\u001b[0;34m\u001b[0m\u001b[0m\n\u001b[0;32m--> 356\u001b[0;31m                 \u001b[0mprofile\u001b[0m\u001b[0;34m.\u001b[0m\u001b[0mrunctx\u001b[0m\u001b[0;34m(\u001b[0m\u001b[0marg_str\u001b[0m\u001b[0;34m,\u001b[0m \u001b[0mglobal_ns\u001b[0m\u001b[0;34m,\u001b[0m \u001b[0mlocal_ns\u001b[0m\u001b[0;34m)\u001b[0m\u001b[0;34m\u001b[0m\u001b[0;34m\u001b[0m\u001b[0m\n\u001b[0m\u001b[1;32m    357\u001b[0m                 \u001b[0mmessage\u001b[0m \u001b[0;34m=\u001b[0m \u001b[0;34m''\u001b[0m\u001b[0;34m\u001b[0m\u001b[0;34m\u001b[0m\u001b[0m\n\u001b[1;32m    358\u001b[0m             \u001b[0;32mexcept\u001b[0m \u001b[0mSystemExit\u001b[0m\u001b[0;34m:\u001b[0m\u001b[0;34m\u001b[0m\u001b[0;34m\u001b[0m\u001b[0m\n",
      "\u001b[0;32m~/.local/lib/python3.7/site-packages/line_profiler.py\u001b[0m in \u001b[0;36mrunctx\u001b[0;34m(self, cmd, globals, locals)\u001b[0m\n\u001b[1;32m    149\u001b[0m         \u001b[0mself\u001b[0m\u001b[0;34m.\u001b[0m\u001b[0menable_by_count\u001b[0m\u001b[0;34m(\u001b[0m\u001b[0;34m)\u001b[0m\u001b[0;34m\u001b[0m\u001b[0;34m\u001b[0m\u001b[0m\n\u001b[1;32m    150\u001b[0m         \u001b[0;32mtry\u001b[0m\u001b[0;34m:\u001b[0m\u001b[0;34m\u001b[0m\u001b[0;34m\u001b[0m\u001b[0m\n\u001b[0;32m--> 151\u001b[0;31m             \u001b[0mexec_\u001b[0m\u001b[0;34m(\u001b[0m\u001b[0mcmd\u001b[0m\u001b[0;34m,\u001b[0m \u001b[0mglobals\u001b[0m\u001b[0;34m,\u001b[0m \u001b[0mlocals\u001b[0m\u001b[0;34m)\u001b[0m\u001b[0;34m\u001b[0m\u001b[0;34m\u001b[0m\u001b[0m\n\u001b[0m\u001b[1;32m    152\u001b[0m         \u001b[0;32mfinally\u001b[0m\u001b[0;34m:\u001b[0m\u001b[0;34m\u001b[0m\u001b[0;34m\u001b[0m\u001b[0m\n\u001b[1;32m    153\u001b[0m             \u001b[0mself\u001b[0m\u001b[0;34m.\u001b[0m\u001b[0mdisable_by_count\u001b[0m\u001b[0;34m(\u001b[0m\u001b[0;34m)\u001b[0m\u001b[0;34m\u001b[0m\u001b[0;34m\u001b[0m\u001b[0m\n",
      "\u001b[0;32m<string>\u001b[0m in \u001b[0;36m<module>\u001b[0;34m()\u001b[0m\n",
      "\u001b[0;32m<ipython-input-3-2c5eb7f4b939>\u001b[0m in \u001b[0;36mcallRunBasis\u001b[0;34m()\u001b[0m\n\u001b[1;32m      1\u001b[0m \u001b[0;32mdef\u001b[0m \u001b[0mcallRunBasis\u001b[0m\u001b[0;34m(\u001b[0m\u001b[0;34m)\u001b[0m\u001b[0;34m:\u001b[0m\u001b[0;34m\u001b[0m\u001b[0;34m\u001b[0m\u001b[0m\n\u001b[1;32m      2\u001b[0m     \u001b[0margs\u001b[0m \u001b[0;34m=\u001b[0m \u001b[0mgenArgs\u001b[0m\u001b[0;34m(\u001b[0m\u001b[0;34m)\u001b[0m\u001b[0;34m\u001b[0m\u001b[0;34m\u001b[0m\u001b[0m\n\u001b[0;32m----> 3\u001b[0;31m     \u001b[0mRunBasis\u001b[0m\u001b[0;34m.\u001b[0m\u001b[0mmain\u001b[0m\u001b[0;34m(\u001b[0m\u001b[0margs\u001b[0m\u001b[0;34m)\u001b[0m\u001b[0;34m\u001b[0m\u001b[0;34m\u001b[0m\u001b[0m\n\u001b[0m",
      "\u001b[0;32m~/Documents/Codes_DipolarIsingModel/myopic-dual-worm/dualworm-kagome/RunBasis.py\u001b[0m in \u001b[0;36mmain\u001b[0;34m(args)\u001b[0m\n\u001b[1;32m    179\u001b[0m     \u001b[0mbackup\u001b[0m\u001b[0;34m.\u001b[0m\u001b[0mparams\u001b[0m\u001b[0;34m.\u001b[0m\u001b[0mmeasupdate\u001b[0m \u001b[0;34m=\u001b[0m \u001b[0mmeasupdate\u001b[0m \u001b[0;34m=\u001b[0m \u001b[0margs\u001b[0m\u001b[0;34m.\u001b[0m\u001b[0mmeasupdate\u001b[0m\u001b[0;34m\u001b[0m\u001b[0;34m\u001b[0m\u001b[0m\n\u001b[1;32m    180\u001b[0m     \u001b[0;32mif\u001b[0m \u001b[0mmeasupdate\u001b[0m\u001b[0;34m:\u001b[0m\u001b[0;34m\u001b[0m\u001b[0;34m\u001b[0m\u001b[0m\n\u001b[0;32m--> 181\u001b[0;31m         \u001b[0mnnspins\u001b[0m\u001b[0;34m,\u001b[0m \u001b[0ms2p\u001b[0m \u001b[0;34m=\u001b[0m \u001b[0mdw\u001b[0m\u001b[0;34m.\u001b[0m\u001b[0mspin2plaquette\u001b[0m\u001b[0;34m(\u001b[0m\u001b[0mijl_s\u001b[0m\u001b[0;34m,\u001b[0m \u001b[0ms_ijl\u001b[0m\u001b[0;34m,\u001b[0m \u001b[0ms2_d\u001b[0m\u001b[0;34m,\u001b[0m\u001b[0mL\u001b[0m\u001b[0;34m)\u001b[0m\u001b[0;34m\u001b[0m\u001b[0;34m\u001b[0m\u001b[0m\n\u001b[0m\u001b[1;32m    182\u001b[0m         \u001b[0mbackup\u001b[0m\u001b[0;34m.\u001b[0m\u001b[0mparams\u001b[0m\u001b[0;34m.\u001b[0m\u001b[0mp\u001b[0m \u001b[0;34m=\u001b[0m \u001b[0mp\u001b[0m \u001b[0;34m=\u001b[0m \u001b[0margs\u001b[0m\u001b[0;34m.\u001b[0m\u001b[0mp\u001b[0m\u001b[0;34m\u001b[0m\u001b[0;34m\u001b[0m\u001b[0m\n\u001b[1;32m    183\u001b[0m     \u001b[0;32melse\u001b[0m\u001b[0;34m:\u001b[0m\u001b[0;34m\u001b[0m\u001b[0;34m\u001b[0m\u001b[0m\n",
      "\u001b[0;32m~/Documents/Codes_DipolarIsingModel/myopic-dual-worm/dualworm-kagome/DualwormFunctions.py\u001b[0m in \u001b[0;36mspin2plaquette\u001b[0;34m(ijl_s, s_ijl, s2_d, L)\u001b[0m\n\u001b[1;32m     68\u001b[0m         \u001b[0;32mand\u001b[0m \u001b[0mthe\u001b[0m \u001b[0mfour\u001b[0m \u001b[0mnn\u001b[0m \u001b[0mspins\u001b[0m\u001b[0;34m.\u001b[0m\u001b[0;34m\u001b[0m\u001b[0;34m\u001b[0m\u001b[0m\n\u001b[1;32m     69\u001b[0m     '''\n\u001b[0;32m---> 70\u001b[0;31m     \u001b[0;32mreturn\u001b[0m \u001b[0mlattice\u001b[0m\u001b[0;34m.\u001b[0m\u001b[0mspin2plaquette\u001b[0m\u001b[0;34m(\u001b[0m\u001b[0mijl_s\u001b[0m\u001b[0;34m,\u001b[0m \u001b[0ms_ijl\u001b[0m\u001b[0;34m,\u001b[0m \u001b[0ms2_d\u001b[0m\u001b[0;34m,\u001b[0m\u001b[0mL\u001b[0m\u001b[0;34m)\u001b[0m\u001b[0;34m\u001b[0m\u001b[0;34m\u001b[0m\u001b[0m\n\u001b[0m\u001b[1;32m     71\u001b[0m \u001b[0;34m\u001b[0m\u001b[0m\n\u001b[1;32m     72\u001b[0m \u001b[0;34m\u001b[0m\u001b[0m\n",
      "\u001b[0;31mAttributeError\u001b[0m: module 'KagomeFunctions' has no attribute 'spin2plaquette'"
     ]
    }
   ],
   "source": [
    "%lprun -f RunBasis.main callRunBasis() "
   ]
  },
  {
   "cell_type": "code",
   "execution_count": null,
   "metadata": {},
   "outputs": [],
   "source": []
  }
 ],
 "metadata": {
  "kernelspec": {
   "display_name": "Python 3",
   "language": "python",
   "name": "python3"
  },
  "language_info": {
   "codemirror_mode": {
    "name": "ipython",
    "version": 3
   },
   "file_extension": ".py",
   "mimetype": "text/x-python",
   "name": "python",
   "nbconvert_exporter": "python",
   "pygments_lexer": "ipython3",
   "version": "3.7.4"
  }
 },
 "nbformat": 4,
 "nbformat_minor": 2
}
