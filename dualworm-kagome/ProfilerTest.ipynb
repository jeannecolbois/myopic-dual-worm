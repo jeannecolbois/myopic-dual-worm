{
 "cells": [
  {
   "cell_type": "code",
   "execution_count": 1,
   "metadata": {},
   "outputs": [],
   "source": [
    "import DualwormFunctions as dw\n",
    "import Observables as obs\n",
    "%load_ext line_profiler\n",
    "%load_ext memory_profiler\n",
    "import RunBasis\n",
    "import argparse\n",
    "import StartStates as strst\n",
    "import numpy as np"
   ]
  },
  {
   "cell_type": "code",
   "execution_count": 13,
   "metadata": {},
   "outputs": [],
   "source": [
    "nst = 50;\n",
    "nsm = 256;\n",
    "nips = 30;\n",
    "nb = 128;\n",
    "measperiod = 2;"
   ]
  },
  {
   "cell_type": "code",
   "execution_count": 2,
   "metadata": {},
   "outputs": [],
   "source": [
    "def genArgs():\n",
    "    parser = argparse.ArgumentParser()\n",
    "    \n",
    "    parser.add_argument('-f', type = str)\n",
    "\n",
    "    parser.add_argument('--L', type = int, default = 12, help = 'Lattice side size')\n",
    "\n",
    "    # COUPLINGS\n",
    "    parser.add_argument('--J1', type = float, default = 1,\n",
    "                        help = 'NN coupling') # nearest-neighbour coupling\n",
    "    parser.add_argument('--J2', type = float, default = 0.0,\n",
    "                        help = '2nd NN coupling') # 2nd NN coupling\n",
    "    parser.add_argument('--J3', type = float, default = 0.0,\n",
    "                        help = '3rd NN coupling') # 3rd NN coupling\n",
    "    parser.add_argument('--J4', type = float, default = 0.0,\n",
    "                        help = '4th NN coupling')\n",
    "    parser.add_argument('--h', type = float, default = measperiod,\n",
    "                        help = 'Magnetic field')    \n",
    "    #NUMBER OF STEPS AND ITERATIONS\n",
    "    parser.add_argument('--nst', type = int, default = nst,\n",
    "                        help = 'number of thermalisation steps') # number of thermalisation steps\n",
    "    parser.add_argument('--nsm', type = int, default = nsm,\n",
    "                        help = 'number of measurements steps') # number of measurement steps\n",
    "    parser.add_argument('--nips', type = int, default = nips,\n",
    "                        help = 'number of worm constructions per MC step')\n",
    "    parser.add_argument('--measperiod', type = int, default = 2,\n",
    "                        help = 'number of nips worm building + swaps between measurements')\n",
    "    parser.add_argument('--nb', type = int, default = nb,\n",
    "                        help = 'number of bins')\n",
    "\n",
    "    #PARALLELISATION\n",
    "    parser.add_argument('--ncores', type = int, default = 8,\n",
    "                        help = 'number of threads to use')\n",
    "\n",
    "    #WORM PARAMETERS\n",
    "    parser.add_argument('--nmaxiter', type = int, default = 10,\n",
    "                        help = '''maximal number of segments in a loop update over the\n",
    "                        size of the lattice (1 = 1times the number of dualbonds in the\n",
    "                        lattice)''')\n",
    "    parser.add_argument('--randominit', default = False, action ='store_true',\n",
    "                        help = 'intialise the states randomly')\n",
    "    parser.add_argument('--same', default = False, action = 'store_true',\n",
    "                        help = '''initialise all temperatures with the same\n",
    "                        state (debug purposes)''')\n",
    "    parser.add_argument('--magninit', default = False, action = 'store_true',\n",
    "                        help = '''initialise all the temperature with the maximally magnetised GS''')\n",
    "    parser.add_argument('--measupdate', default = False, action = 'store_true',\n",
    "                       help = '''activate to mimic the action of the measuring tip''')\n",
    "    parser.add_argument('--p', type = float, default = 0.0, \n",
    "                       help = '''prob of the measuring tip flipping the spin (number between 0 and 1)''')\n",
    "    parser.add_argument('--ssf', default = True, action = 'store_true',\n",
    "                        help = 'activate for single spin flip update')\n",
    "    #TEMPERATURE PARAMETERS\n",
    "    parser.add_argument('--t_list', nargs = '+', type = float, default = [0.05,20],\n",
    "                        help = 'list of limiting temperature values')\n",
    "    parser.add_argument('--nt_list', nargs = '+', type = int, default = [84],\n",
    "                        help = 'list of number of temperatures in between the given limiting temperatures')\n",
    "    parser.add_argument('--log_tlist', default = True, action='store_true',\n",
    "                        help = 'state whether you want the temperature be spaced log-like or linear-like (activate if you want log)')\n",
    "    parser.add_argument('--stat_temps_lims', nargs = '+', type = float,\n",
    "                        help = '''limiting temperatures for the various ranges of\n",
    "                        measurements''') \n",
    "                        #default will be set to none, and then we can decide what to do later on.\n",
    "    \n",
    "    #CORRELATIONS PARAMETER\n",
    "    parser.add_argument('--energy', default = True, action = 'store_true',\n",
    "                        help = 'activate if you want to save the energy')\n",
    "    parser.add_argument('--magnetisation', default = True, action = 'store_true',\n",
    "                        help = 'activate if you want to save the magnetisation')\n",
    "    parser.add_argument('--magnstats', default = False, action = 'store_true', \n",
    "                       help = 'activate if you want to compute the magnetisation statistics')\n",
    "    parser.add_argument('--charges', default = True, action = 'store_true',\n",
    "                        help = 'activate if you want to save the charges')\n",
    "    parser.add_argument('--correlations', default = True, action = 'store_true',\n",
    "                        help = 'activate if you want to save either central or all correlations')\n",
    "    parser.add_argument('--all_correlations', default = False, action = 'store_true',\n",
    "                        help = '''activate if you want to save the correlations for all non-equivalent\n",
    "                        pairs of sites. Otherwise, will save central correlations.''')\n",
    "    parser.add_argument('--firstcorrelations', default = False, action = 'store_true',\n",
    "                        help = 'activate if you want to save first correlations, otherwise will save central')\n",
    "    #SAVE\n",
    "    parser.add_argument('--output', type = str, default = \"test\", help = 'saving filename (.pkl will be added)')\n",
    "    args = parser.parse_args()\n",
    "    return args"
   ]
  },
  {
   "cell_type": "code",
   "execution_count": 3,
   "metadata": {},
   "outputs": [],
   "source": [
    "def callRunBasis():\n",
    "    args = genArgs()\n",
    "    return RunBasis.main(args)"
   ]
  },
  {
   "cell_type": "code",
   "execution_count": 4,
   "metadata": {
    "scrolled": false
   },
   "outputs": [
    {
     "name": "stdout",
     "output_type": "stream",
     "text": [
      "Lattice side size:  12\n",
      "J1  1\n",
      "J2  0.0\n",
      "J3  0.0\n",
      "J3st  0.0\n",
      "h 1\n",
      "Couplings exacted\n",
      "dw.Hamiltonian done\n",
      "hamiltonian computed\n",
      "0 84\n",
      "Number of temperatures:  84\n",
      "Fully random initialisation =  False\n",
      "Identical initialisation =  False\n",
      "Magnetisation initialisation =  False\n",
      "{'random': False, 'same': False, 'magninit': False, 'h': 1}\n",
      "Same initialisation for all temperatures =  False\n",
      "False\n",
      "not random\n",
      "Initialisation type:  J1\n",
      "J1Init\n",
      "List of measurements to be performed: ['Energy', 'Magnetisation', 'Charges', 'Si', 'Central_Correlations']\n",
      "List of temperature indices to measure: range(0, 84)\n",
      "-----------Thermalisation------------------\n",
      "Number of thermalisation steps =  50\n",
      "itermcs =  50\n",
      "magnstats False\n",
      "statsfunctions []\n",
      "h =  1\n",
      "Time for mcsevolve = 0.12775915145874023\n",
      "Time for tempering = 0.0014353609085083006\n",
      "Time for mapping to spins + computing statistics= 2.632141113281251e-06\n",
      "Time for all thermalisation steps =  6.460557699203491\n",
      "-----------Measurements-----------------\n",
      "Number of measurement steps =  256\n",
      "['Energy', 'Magnetisation', 'Charges', 'Si', 'Central_Correlations']\n",
      "Measurement period: 2\n",
      "itermcs =  512\n",
      "magnstats False\n",
      "statsfunctions [<function energy at 0x7f96cc3f08c0>, <function magnetisation at 0x7f96c4069440>, <function charges at 0x7f96c4069680>, <function si at 0x7f96c4069560>, <function centralcorrelations at 0x7f96c40694d0>]\n",
      "h =  1\n",
      "Time for mcsevolve = 0.1258001634851098\n",
      "Time for tempering = 0.0015049255453050137\n",
      "Time for mapping to spins + computing statistics= 0.07601322047412395\n",
      "Time for all measurements steps =  104.6364324092865\n",
      "Job done\n"
     ]
    }
   ],
   "source": [
    "meanstat, failedupdatesth, failedupdates = callRunBasis() "
   ]
  },
  {
   "cell_type": "code",
   "execution_count": 9,
   "metadata": {},
   "outputs": [
    {
     "name": "stdout",
     "output_type": "stream",
     "text": [
      "[0.99989763 0.99989969 0.99990586 0.99990381 0.99990123 0.99989352\n",
      " 0.99990689 0.99990535 0.99990278 0.99990741 0.99989198 0.99990123\n",
      " 0.99989198 0.99990226 0.99990586 0.99989249 0.99990638 0.99989043\n",
      " 0.99986111 0.99983436 0.99979784 0.99966152 0.99953344 0.99922634\n",
      " 0.9987716  0.99805144 0.9969892  0.99546142 0.99338529 0.99028807\n",
      " 0.98659414 0.98152263 0.97496862 0.96704115 0.95734877 0.9460571\n",
      " 0.93313529 0.91844136 0.90167953 0.88454115 0.86463632 0.84414352\n",
      " 0.82236831 0.7988714  0.77507202 0.7497392  0.72555556 0.69978241\n",
      " 0.67440329 0.64855144 0.62284362 0.59558179 0.57074743 0.54546656\n",
      " 0.52019187 0.49552109 0.47127212 0.4483071  0.42561471 0.40299486\n",
      " 0.38219907 0.36068416 0.34162243 0.32231224 0.30413169 0.28641409\n",
      " 0.26995062 0.25413735 0.23882819 0.22429475 0.21094496 0.1984285\n",
      " 0.18550874 0.17467078 0.16348457 0.15312809 0.1433287  0.13391049\n",
      " 0.12561883 0.11714558 0.10991924 0.10298097 0.09593673 0.08903138]\n"
     ]
    }
   ],
   "source": [
    "print(failedupdatesth/(nst*nips))"
   ]
  },
  {
   "cell_type": "code",
   "execution_count": 14,
   "metadata": {},
   "outputs": [
    {
     "name": "stdout",
     "output_type": "stream",
     "text": [
      "[0.99999985 1.         0.9999998  0.99999965 0.9999999  1.\n",
      " 1.         0.9999999  0.9999999  0.9999999  0.9999999  0.99999995\n",
      " 0.99999985 0.99999995 0.99999975 0.99999839 0.99999473 0.99998799\n",
      " 0.99997674 0.99994821 0.99989606 0.99980564 0.999625   0.99934022\n",
      " 0.99886078 0.99814292 0.99707951 0.99555513 0.99337846 0.99040236\n",
      " 0.98644542 0.98140819 0.9750205  0.96701725 0.95754224 0.94633674\n",
      " 0.93332314 0.91851224 0.90222012 0.88408088 0.86499476 0.84398515\n",
      " 0.82182768 0.79879552 0.77479765 0.75037616 0.72523756 0.70007369\n",
      " 0.6743695  0.64810871 0.62226075 0.5959863  0.5705587  0.54519721\n",
      " 0.52020329 0.4956332  0.47178729 0.44817266 0.42534813 0.40326797\n",
      " 0.381914   0.36112    0.34123912 0.32216661 0.30356124 0.28624343\n",
      " 0.26962665 0.25412241 0.23909731 0.22430194 0.21069753 0.19793214\n",
      " 0.18563835 0.17415671 0.16313733 0.15289472 0.14323545 0.13380584\n",
      " 0.12536365 0.11704046 0.10947165 0.10205003 0.09544597 0.08905984]\n"
     ]
    }
   ],
   "source": [
    "print(failedupdates/(nsm*nips*measperiod))"
   ]
  },
  {
   "cell_type": "code",
   "execution_count": null,
   "metadata": {},
   "outputs": [],
   "source": []
  }
 ],
 "metadata": {
  "kernelspec": {
   "display_name": "Python 3",
   "language": "python",
   "name": "python3"
  },
  "language_info": {
   "codemirror_mode": {
    "name": "ipython",
    "version": 3
   },
   "file_extension": ".py",
   "mimetype": "text/x-python",
   "name": "python",
   "nbconvert_exporter": "python",
   "pygments_lexer": "ipython3",
   "version": "3.7.4"
  }
 },
 "nbformat": 4,
 "nbformat_minor": 2
}
