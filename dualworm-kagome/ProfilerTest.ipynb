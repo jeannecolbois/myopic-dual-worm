{
 "cells": [
  {
   "cell_type": "code",
   "execution_count": 1,
   "metadata": {},
   "outputs": [],
   "source": [
    "import DualwormFunctions as dw\n",
    "import Observables as obs\n",
    "%load_ext line_profiler\n",
    "%load_ext memory_profiler\n",
    "import RunBasis\n",
    "import argparse\n",
    "import StartStates as strst\n",
    "import numpy as np"
   ]
  },
  {
   "cell_type": "code",
   "execution_count": 2,
   "metadata": {},
   "outputs": [],
   "source": [
    "nst = 120;\n",
    "nsm = 128;\n",
    "nips = 2;\n",
    "nrps = 4;\n",
    "nb = 32;\n",
    "measperiod = 2;\n",
    "nt = 32\n",
    "nh = 64"
   ]
  },
  {
   "cell_type": "code",
   "execution_count": 3,
   "metadata": {},
   "outputs": [],
   "source": [
    "def genArgs():\n",
    "    parser = argparse.ArgumentParser()\n",
    "    \n",
    "    parser.add_argument('-f', type = str)\n",
    "\n",
    "    parser.add_argument('--L', type = int, default = 12, help = 'Lattice side size')\n",
    "\n",
    "    # COUPLINGS\n",
    "    parser.add_argument('--J1', type = float, default = 1,\n",
    "                        help = 'NN coupling') # nearest-neighbour coupling\n",
    "    parser.add_argument('--J2', type = float, default = 0,\n",
    "                        help = '2nd NN coupling') # 2nd NN coupling\n",
    "    parser.add_argument('--J3', type = float, default = 0,\n",
    "                        help = '3rd NN coupling') # 3rd NN coupling\n",
    "    parser.add_argument('--J4', type = float, default = 0.0,\n",
    "                        help = '4th NN coupling')\n",
    "    parser.add_argument('--h', type = float, default = 1.0,\n",
    "                        help = 'Magnetic field')    \n",
    "    #NUMBER OF STEPS AND ITERATIONS\n",
    "    parser.add_argument('--nst', type = int, default = nst,\n",
    "                        help = 'number of thermalisation steps') # number of thermalisation steps\n",
    "    parser.add_argument('--nsm', type = int, default = nsm,\n",
    "                        help = 'number of measurements steps') # number of measurement steps\n",
    "    parser.add_argument('--nips', type = int, default = nips,\n",
    "                        help = 'number of worm constructions per MC step')\n",
    "    parser.add_argument('--nrps', type = int, default = nrps,\n",
    "                        help = 'number of replica loops per MC step')\n",
    "    parser.add_argument('--measperiod', type = int, default = measperiod,\n",
    "                        help = 'number of nips worm building + swaps between measurements')\n",
    "    parser.add_argument('--nb', type = int, default = nb,\n",
    "                        help = 'number of bins')\n",
    "\n",
    "    #PARALLELISATION\n",
    "    parser.add_argument('--ncores', type = int, default = 6,\n",
    "                        help = 'number of threads to use')\n",
    "\n",
    "    \n",
    "    # INITIALISATION PARAMETERS\n",
    "    parser.add_argument('--randominit', default = True, action ='store_true',\n",
    "                        help = 'intialise the states randomly')\n",
    "    parser.add_argument('--same', default = False, action = 'store_true',\n",
    "                        help = '''initialise all temperatures with the same\n",
    "                        state (debug purposes)''')\n",
    "    parser.add_argument('--magninit', default = False, action = 'store_true',\n",
    "                        help = '''initialise all the temperature with\n",
    "                        one of the m=1/3 GS''')\n",
    "    parser.add_argument('--magnstripes', default = False, action = 'store_true',\n",
    "                       help = '''initialise all the temperature with\n",
    "                       m=1/3 stripes''')\n",
    "    parser.add_argument('--maxflip', default = False, action = 'store_true',\n",
    "                       help = '''initialise all the temperature with\n",
    "                       maximally flippable plateau''')\n",
    "    parser.add_argument('--loadfromfile', default = False, action = 'store_true',\n",
    "                       help = '''initialise all the states with\n",
    "                       results from a previously performed simulations''')\n",
    "    parser.add_argument('--filename', type = str, default = 'tests/J1hLongRun_RndInit_AlternateUpdateResults',\n",
    "                       help = '''initialise all the states with\n",
    "                       results from a previously performed simulations''')\n",
    "    \n",
    "    #WORM PARAMETERS\n",
    "    parser.add_argument('--nmaxiter', type = int, default = 10,\n",
    "                        help = '''maximal number of segments in a loop update over the\n",
    "                        size of the lattice (1 = 1times the number of dualbonds in the\n",
    "                        lattice)''')\n",
    "    parser.add_argument('--measupdate', default = False, action = 'store_true',\n",
    "                       help = '''activate to mimic the action of the measuring tip''')\n",
    "    parser.add_argument('--p', type = float, default = 0.0, \n",
    "                       help = '''prob of the measuring tip flipping the spin (number between 0 and 1)''')\n",
    "    parser.add_argument('--ssf', default = True, action = 'store_true',\n",
    "                        help = 'activate for single spin flip update')\n",
    "    parser.add_argument('--alternate', default = True, action = 'store_true',\n",
    "                        help = 'activate for single spin flip update and dw update')\n",
    "    parser.add_argument('--checkgs', default =False, action = 'store_true',\n",
    "                        help = 'activate to debug ssf')\n",
    "    \n",
    "    #TEMPERATURE PARAMETERS\n",
    "    parser.add_argument('--t_list', nargs = '+', type = float, default = [0.05,60],\n",
    "                        help = 'list of limiting temperature values')\n",
    "    parser.add_argument('--nt_list', nargs = '+', type = int, default = [nt],\n",
    "                        help = 'list of number of temperatures in between the given limiting temperatures')\n",
    "    parser.add_argument('--log_tlist', default = True, action='store_true',\n",
    "                        help = 'state whether you want the temperature be spaced log-like or linear-like (activate if you want log)')\n",
    "    parser.add_argument('--stat_temps_lims', nargs = '+', type = float,\n",
    "                        help = '''limiting temperatures for the various ranges of\n",
    "                        measurements''') \n",
    "                        #default will be set to none, and then we can decide what to do later on.\n",
    "    #MAGNETIC FIELD PARAMETERS\n",
    "    parser.add_argument('--h_list', nargs = '+', default = [0.2,6.0],type = float,\n",
    "                        help = 'list of limiting magnetic field values')\n",
    "    parser.add_argument('--nh_list', nargs = '+', default = [nh], type = int,\n",
    "                        help = 'list of number of magnetic fields in between the given limiting temperatures')\n",
    "    parser.add_argument('--stat_hfields_lims', nargs = '+', type = float,\n",
    "                help = '''limiting magnetic fields for the various ranges of\n",
    "                measurements''') \n",
    "    #CORRELATIONS PARAMETER\n",
    "    parser.add_argument('--energy', default = True, action = 'store_true',\n",
    "                        help = 'activate if you want to save the energy')\n",
    "    parser.add_argument('--magnetisation', default =True, action = 'store_true',\n",
    "                        help = 'activate if you want to save the magnetisation')\n",
    "    parser.add_argument('--charges', default = False, action = 'store_true',\n",
    "                        help = 'activate if you want to save the charges')\n",
    "    parser.add_argument('--correlations', default = True, action = 'store_true',\n",
    "                        help = 'activate if you want to save either central or all correlations')\n",
    "    parser.add_argument('--all_correlations', default = False, action = 'store_true',\n",
    "                        help = '''activate if you want to save the correlations for all non-equivalent\n",
    "                        pairs of sites. Otherwise, will save central correlations.''')\n",
    "    parser.add_argument('--firstcorrelations', default = False, action = 'store_true',\n",
    "                        help = 'activate if you want to save first correlations, otherwise will save central')\n",
    "    #SAVE\n",
    "    parser.add_argument('--output', type = str, default = \"LongerTests\", help = 'saving filename (.pkl will be added)')\n",
    "    args = parser.parse_args()\n",
    "    return args"
   ]
  },
  {
   "cell_type": "code",
   "execution_count": 4,
   "metadata": {},
   "outputs": [],
   "source": [
    "def callRunBasis():\n",
    "    args = genArgs()\n",
    "    return RunBasis.main(args)"
   ]
  },
  {
   "cell_type": "code",
   "execution_count": null,
   "metadata": {
    "scrolled": false
   },
   "outputs": [
    {
     "name": "stdout",
     "output_type": "stream",
     "text": [
      "-------------------Initialisation--------------------\n",
      "./LongerTests_folder/backup.hkl\n",
      "Lattice side size:  12\n",
      "J1  1\n",
      "J2  0\n",
      "J3  0\n",
      "J3st  0\n",
      "Couplings extracted\n",
      "Hamiltonian expression (without field) computed\n",
      "single spin flip update\n",
      "alternating ssf and dw update\n",
      "Number of temperatures:  32\n",
      "Temperatures: [5.00000000e-02 6.28490086e-02 7.89999577e-02 9.93013805e-02\n",
      " 1.24819866e-01 1.56896097e-01 1.97215283e-01 2.47895701e-01\n",
      " 3.11599981e-01 3.91674998e-01 4.92327707e-01 6.18846166e-01\n",
      " 7.77877360e-01 9.77776419e-01 1.22904557e+00 1.54488592e+00\n",
      " 1.94189096e+00 2.44091844e+00 3.06818608e+00 3.85664907e+00\n",
      " 4.84773142e+00 6.09350227e+00 7.65941154e+00 9.62772844e+00\n",
      " 1.21018638e+01 1.52118028e+01 1.91209345e+01 2.40346356e+01\n",
      " 3.02110604e+01 3.79747039e+01 4.77334498e+01 6.00000000e+01]\n",
      "Number of magnetic fields:  64\n",
      "Magnetic fields:  [0.2        0.29206349 0.38412698 0.47619048 0.56825397 0.66031746\n",
      " 0.75238095 0.84444444 0.93650794 1.02857143 1.12063492 1.21269841\n",
      " 1.3047619  1.3968254  1.48888889 1.58095238 1.67301587 1.76507937\n",
      " 1.85714286 1.94920635 2.04126984 2.13333333 2.22539683 2.31746032\n",
      " 2.40952381 2.5015873  2.59365079 2.68571429 2.77777778 2.86984127\n",
      " 2.96190476 3.05396825 3.14603175 3.23809524 3.33015873 3.42222222\n",
      " 3.51428571 3.60634921 3.6984127  3.79047619 3.88253968 3.97460317\n",
      " 4.06666667 4.15873016 4.25079365 4.34285714 4.43492063 4.52698413\n",
      " 4.61904762 4.71111111 4.8031746  4.8952381  4.98730159 5.07936508\n",
      " 5.17142857 5.26349206 5.35555556 5.44761905 5.53968254 5.63174603\n",
      " 5.72380952 5.81587302 5.90793651 6.        ]\n",
      "Fully random initialisation =  True\n",
      "Identical initialisation =  False\n",
      "Magnetisation initialisation =  False\n",
      "List of measurements to be performed: ['Energy', 'Magnetisation', 'Si', 'Central_Correlations']\n",
      "List of field indices to measure: [0, 1, 2, 3, 4, 5, 6, 7, 8, 9, 10, 11, 12, 13, 14, 15, 16, 17, 18, 19, 20, 21, 22, 23, 24, 25, 26, 27, 28, 29, 30, 31, 32, 33, 34, 35, 36, 37, 38, 39, 40, 41, 42, 43, 44, 45, 46, 47, 48, 49, 50, 51, 52, 53, 54, 55, 56, 57, 58, 59, 60, 61, 62, 63]\n",
      "-----------Thermalisation------------------\n",
      "Number of thermalisation steps =  120\n",
      "itermcs =  120\n",
      "iterreplicas =  4\n",
      "ssf =  True\n",
      "alternate =  True\n",
      "statsfunctions []\n",
      "Time for mcsevolve = 1.8956966578960424\n",
      "Time for tempering = 0.08473941485087076\n",
      "Time for mapping to spins + computing statistics= 2.920826276143394e-05\n",
      "Time for all thermalisation steps =  237.65846228599548\n",
      "-----------Measurements-----------------\n",
      "Number of measurement steps =  128\n",
      "['Energy', 'Magnetisation', 'Si', 'Central_Correlations']\n",
      "Measurement period: 2\n",
      "itermcs =  256\n",
      "iterreplicas =  4\n",
      "ssf =  True\n",
      "alternate =  True\n",
      "statsfunctions [<function energy at 0x7fd79c0a7620>, <function magnetisation at 0x7fd79c0a76a8>, <function si at 0x7fd79c0a77b8>, <function centralcorrelations at 0x7fd79c0a7730>]\n"
     ]
    }
   ],
   "source": [
    "%lprun -f dw.mcs_swaps meanstat, swapst, swapsh, failedupdatesth, failedupdates = callRunBasis() "
   ]
  },
  {
   "cell_type": "code",
   "execution_count": null,
   "metadata": {
    "scrolled": false
   },
   "outputs": [],
   "source": [
    "print(failedupdatesth/(nst*nips))"
   ]
  },
  {
   "cell_type": "code",
   "execution_count": null,
   "metadata": {
    "scrolled": false
   },
   "outputs": [],
   "source": [
    "print(failedupdates/(nsm*measperiod*nips))"
   ]
  },
  {
   "cell_type": "code",
   "execution_count": null,
   "metadata": {},
   "outputs": [],
   "source": [
    "print(4*swapst/(nrps*nsm*measperiod*nh))"
   ]
  },
  {
   "cell_type": "code",
   "execution_count": null,
   "metadata": {},
   "outputs": [],
   "source": [
    "print(4*swapsh/(nrps*nsm*measperiod*nt))"
   ]
  },
  {
   "cell_type": "code",
   "execution_count": null,
   "metadata": {},
   "outputs": [],
   "source": []
  },
  {
   "cell_type": "code",
   "execution_count": null,
   "metadata": {},
   "outputs": [],
   "source": []
  }
 ],
 "metadata": {
  "kernelspec": {
   "display_name": "Python 3",
   "language": "python",
   "name": "python3"
  },
  "language_info": {
   "codemirror_mode": {
    "name": "ipython",
    "version": 3
   },
   "file_extension": ".py",
   "mimetype": "text/x-python",
   "name": "python",
   "nbconvert_exporter": "python",
   "pygments_lexer": "ipython3",
   "version": "3.6.9"
  }
 },
 "nbformat": 4,
 "nbformat_minor": 2
}
