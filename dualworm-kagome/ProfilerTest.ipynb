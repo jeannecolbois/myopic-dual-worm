{
 "cells": [
  {
   "cell_type": "code",
   "execution_count": 1,
   "metadata": {},
   "outputs": [],
   "source": [
    "import DualwormFunctions as dw\n",
    "import Observables as obs\n",
    "\n",
    "%load_ext line_profiler\n",
    "%load_ext memory_profiler\n",
    "\n",
    "import RunBasis\n",
    "import argparse\n",
    "import StartStates as strst\n",
    "import numpy as np\n",
    "\n",
    "import yep"
   ]
  },
  {
   "cell_type": "code",
   "execution_count": 2,
   "metadata": {},
   "outputs": [],
   "source": [
    "nst = 2;\n",
    "nsm = 2;\n",
    "nips = 5;\n",
    "nrps = 5;\n",
    "nb = 2;\n",
    "measperiod = 1;\n",
    "nt = 32\n",
    "nh = 61\n",
    "ncores = 8\n",
    "nmaxiter = 1\n",
    "stroutput = \"Profiling_nh{0}_nt{1}_nst{2}_nsm{3}_nips{4}_nrps{5}_ncores{6}_nmaxiter{7}_v1(compiled)\".format(nh, nt, nst, nsm, nips, nrps, ncores, nmaxiter)\n"
   ]
  },
  {
   "cell_type": "code",
   "execution_count": 3,
   "metadata": {},
   "outputs": [],
   "source": [
    "def genArgs():\n",
    "    parser = argparse.ArgumentParser()\n",
    "    \n",
    "    parser.add_argument('-f', type = str)\n",
    "\n",
    "    parser.add_argument('--L', type = int, default = 12, help = 'Lattice side size')\n",
    "\n",
    "    # COUPLINGS\n",
    "    parser.add_argument('--J1', type = float, default = 1,\n",
    "                        help = 'NN coupling') # nearest-neighbour coupling\n",
    "    parser.add_argument('--J2', type = float, default = 0,\n",
    "                        help = '2nd NN coupling') # 2nd NN coupling\n",
    "    parser.add_argument('--J3', type = float, default = 0,\n",
    "                        help = '3rd NN coupling') # 3rd NN coupling\n",
    "    parser.add_argument('--J4', type = float, default = 0.0,\n",
    "                        help = '4th NN coupling')\n",
    "    parser.add_argument('--h', type = float, default = 1.0,\n",
    "                        help = 'Magnetic field')    \n",
    "    #NUMBER OF STEPS AND ITERATIONS\n",
    "    parser.add_argument('--nst', type = int, default = nst,\n",
    "                        help = 'number of thermalisation steps') # number of thermalisation steps\n",
    "    parser.add_argument('--nsm', type = int, default = nsm,\n",
    "                        help = 'number of measurements steps') # number of measurement steps\n",
    "    parser.add_argument('--nips', type = int, default = nips,\n",
    "                        help = 'number of worm constructions per MC step')\n",
    "    parser.add_argument('--nrps', type = int, default = nrps,\n",
    "                        help = 'number of replica loops per MC step')\n",
    "    parser.add_argument('--measperiod', type = int, default = measperiod,\n",
    "                        help = 'number of nips worm building + swaps between measurements')\n",
    "    parser.add_argument('--nb', type = int, default = nb,\n",
    "                        help = 'number of bins')\n",
    "\n",
    "    #PARALLELISATION\n",
    "    parser.add_argument('--ncores', type = int, default = ncores,\n",
    "                        help = 'number of threads to use')\n",
    "\n",
    "    \n",
    "    # INITIALISATION PARAMETERS\n",
    "    parser.add_argument('--randominit', default = True, action ='store_true',\n",
    "                        help = 'intialise the states randomly')\n",
    "    parser.add_argument('--same', default = False, action = 'store_true',\n",
    "                        help = '''initialise all temperatures with the same\n",
    "                        state (debug purposes)''')\n",
    "    parser.add_argument('--magninit', default = False, action = 'store_true',\n",
    "                        help = '''initialise all the temperature with\n",
    "                        one of the m=1/3 GS''')\n",
    "    parser.add_argument('--magnstripes', default = False, action = 'store_true',\n",
    "                       help = '''initialise all the temperature with\n",
    "                       m=1/3 stripes''')\n",
    "    parser.add_argument('--maxflip', default = False, action = 'store_true',\n",
    "                       help = '''initialise all the temperature with\n",
    "                       maximally flippable plateau''')\n",
    "    parser.add_argument('--loadfromfile', default = False, action = 'store_true',\n",
    "                       help = '''initialise all the states with\n",
    "                       results from a previously performed simulations''')\n",
    "    parser.add_argument('--filename', type = str, default = 'LongerTests_folder',\n",
    "                       help = '''initialise all the states with\n",
    "                       results from a previously performed simulations''')\n",
    "    \n",
    "    #WORM PARAMETERS\n",
    "    parser.add_argument('--nmaxiter', type = int, default = nmaxiter,\n",
    "                        help = '''maximal number of segments in a loop update over the\n",
    "                        size of the lattice (1 = 1times the number of dualbonds in the\n",
    "                        lattice)''')\n",
    "    parser.add_argument('--measupdate', default = False, action = 'store_true',\n",
    "                       help = '''activate to mimic the action of the measuring tip''')\n",
    "    parser.add_argument('--p', type = float, default = 0.0, \n",
    "                       help = '''prob of the measuring tip flipping the spin (number between 0 and 1)''')\n",
    "    parser.add_argument('--ssf', default = True, action = 'store_true',\n",
    "                        help = 'activate for single spin flip update')\n",
    "    parser.add_argument('--alternate', default = True, action = 'store_true',\n",
    "                        help = 'activate for single spin flip update and dw update')\n",
    "    parser.add_argument('--checkgs', default =False, action = 'store_true',\n",
    "                        help = 'activate to debug ssf')\n",
    "    \n",
    "    #TEMPERATURE PARAMETERS\n",
    "    parser.add_argument('--t_list', nargs = '+', type = float, default = [0.05,nt+0.05],\n",
    "                        help = 'list of limiting temperature values')\n",
    "    parser.add_argument('--nt_list', nargs = '+', type = int, default = [nt],\n",
    "                        help = 'list of number of temperatures in between the given limiting temperatures')\n",
    "    parser.add_argument('--log_tlist', default = True, action='store_true',\n",
    "                        help = 'state whether you want the temperature be spaced log-like or linear-like (activate if you want log)')\n",
    "    parser.add_argument('--stat_temps_lims', nargs = '+', type = float,\n",
    "                        help = '''limiting temperatures for the various ranges of\n",
    "                        measurements''') \n",
    "                        #default will be set to none, and then we can decide what to do later on.\n",
    "    #MAGNETIC FIELD PARAMETERS\n",
    "    parser.add_argument('--h_list', nargs = '+', default = [0,6.0],type = float,\n",
    "                        help = 'list of limiting magnetic field values')\n",
    "    parser.add_argument('--nh_list', nargs = '+', default = [nh], type = int,\n",
    "                        help = 'list of number of magnetic fields in between the given limiting temperatures')\n",
    "    parser.add_argument('--stat_hfields_lims', nargs = '+', type = float,\n",
    "                help = '''limiting magnetic fields for the various ranges of\n",
    "                measurements''') \n",
    "    #CORRELATIONS PARAMETER\n",
    "    parser.add_argument('--energy', default = True, action = 'store_true',\n",
    "                        help = 'activate if you want to save the energy')\n",
    "    parser.add_argument('--magnetisation', default =True, action = 'store_true',\n",
    "                        help = 'activate if you want to save the magnetisation')\n",
    "    parser.add_argument('--charges', default = False, action = 'store_true',\n",
    "                        help = 'activate if you want to save the charges')\n",
    "    parser.add_argument('--correlations', default = True, action = 'store_true',\n",
    "                        help = 'activate if you want to save either central or all correlations')\n",
    "    parser.add_argument('--all_correlations', default = False, action = 'store_true',\n",
    "                        help = '''activate if you want to save the correlations for all non-equivalent\n",
    "                        pairs of sites. Otherwise, will save central correlations.''')\n",
    "    parser.add_argument('--firstcorrelations', default = False, action = 'store_true',\n",
    "                        help = 'activate if you want to save first correlations, otherwise will save central')\n",
    "    #SAVE\n",
    "    parser.add_argument('--output', type = str, default = stroutput, help = 'saving filename (.pkl will be added)')\n",
    "    args = parser.parse_args()\n",
    "    return args"
   ]
  },
  {
   "cell_type": "code",
   "execution_count": 4,
   "metadata": {},
   "outputs": [],
   "source": [
    "def callRunBasis():\n",
    "    args = genArgs()\n",
    "    return RunBasis.main(args)"
   ]
  },
  {
   "cell_type": "code",
   "execution_count": 5,
   "metadata": {
    "scrolled": false
   },
   "outputs": [
    {
     "name": "stdout",
     "output_type": "stream",
     "text": [
      "-------------------Initialisation--------------------\n",
      "./Profiling_nh61_nt32_nst2_nsm2_nips5_nrps5_ncores8_nmaxiter1_v1(compiled)_folder/backup.hkl\n",
      "Lattice side size:  12\n",
      "J1  1\n",
      "J2  0\n",
      "J3  0\n",
      "J3st  0\n",
      "Couplings extracted\n",
      "Hamiltonian expression (without field) computed\n",
      "single spin flip update\n",
      "alternating ssf and dw update\n",
      "Number of temperatures:  32\n",
      "Temperatures: [ 0.05        0.06159051  0.07586782  0.09345476  0.11511853  0.14180418\n",
      "  0.17467584  0.21516749  0.26504552  0.32648578  0.40216853  0.4953953\n",
      "  0.61023301  0.75169126  0.92594099  1.14058358  1.40498253  1.73067185\n",
      "  2.1318593   2.6260461   3.23479045  3.98464798  4.90833015  6.04613131\n",
      "  7.44768641  9.17413633 11.300795   13.92043492 17.14733417 21.1222617\n",
      " 26.01861809 32.05      ]\n",
      "Number of magnetic fields:  61\n",
      "Magnetic fields:  [0.  0.1 0.2 0.3 0.4 0.5 0.6 0.7 0.8 0.9 1.  1.1 1.2 1.3 1.4 1.5 1.6 1.7\n",
      " 1.8 1.9 2.  2.1 2.2 2.3 2.4 2.5 2.6 2.7 2.8 2.9 3.  3.1 3.2 3.3 3.4 3.5\n",
      " 3.6 3.7 3.8 3.9 4.  4.1 4.2 4.3 4.4 4.5 4.6 4.7 4.8 4.9 5.  5.1 5.2 5.3\n",
      " 5.4 5.5 5.6 5.7 5.8 5.9 6. ]\n",
      "Fully random initialisation =  True\n",
      "Identical initialisation =  False\n",
      "Magnetisation initialisation =  False\n",
      "List of measurements to be performed: ['Energy', 'Magnetisation', 'Si', 'Central_Correlations']\n",
      "List of field indices to measure: [0, 1, 2, 3, 4, 5, 6, 7, 8, 9, 10, 11, 12, 13, 14, 15, 16, 17, 18, 19, 20, 21, 22, 23, 24, 25, 26, 27, 28, 29, 30, 31, 32, 33, 34, 35, 36, 37, 38, 39, 40, 41, 42, 43, 44, 45, 46, 47, 48, 49, 50, 51, 52, 53, 54, 55, 56, 57, 58, 59, 60]\n",
      "-----------Thermalisation------------------\n",
      "Number of thermalisation steps =  2\n",
      "itermcs =  2\n",
      "iterreplicas =  5\n",
      "ssf =  True\n",
      "alternate =  True\n",
      "statsfunctions []\n",
      "Time for mcsevolve = 2.1824082136154175\n",
      "Time for tempering = 0.09670722484588623\n",
      "Time for mapping to spins + computing statistics= 2.8967857360839844e-05\n",
      "Time for all thermalisation steps =  4.559404611587524\n",
      "-----------Measurements-----------------\n",
      "Number of measurement steps =  2\n",
      "['Energy', 'Magnetisation', 'Si', 'Central_Correlations']\n",
      "Measurement period: 1\n",
      "itermcs =  2\n",
      "iterreplicas =  5\n",
      "ssf =  True\n",
      "alternate =  True\n",
      "statsfunctions [<function energy at 0x7fa2bc2e6b70>, <function magnetisation at 0x7fa2bc2e6bf8>, <function si at 0x7fa2bc2e6d08>, <function centralcorrelations at 0x7fa2bc2e6c80>]\n",
      "Time for mcsevolve = 2.1849476099014282\n",
      "Time for tempering = 0.09628140926361084\n",
      "Time for mapping to spins + computing statistics= 2.025839686393738\n",
      "Time for all measurements steps =  12.305301666259766\n",
      "Energies size:  (32, 61)\n",
      "Job done\n"
     ]
    }
   ],
   "source": [
    "#%%prun -s  -T prun0\n",
    "yep.start(stroutput+'.log')\n",
    "%lprun -f dw.mcs_swaps [meanstat, swapst, swapsh, failedupdatesth, failedupdates] = callRunBasis()\n",
    "yep.stop()"
   ]
  },
  {
   "cell_type": "code",
   "execution_count": 6,
   "metadata": {
    "scrolled": false
   },
   "outputs": [
    {
     "name": "stdout",
     "output_type": "stream",
     "text": [
      "[[0.56095679 0.95277778 0.98703704 ... 0.95069444 0.95169753 0.95092593]\n",
      " [0.55408951 0.93024691 0.96782407 ... 0.95115741 0.95015432 0.95084877]\n",
      " [0.55378086 0.90416667 0.96458333 ... 0.94868827 0.95061728 0.95208333]\n",
      " ...\n",
      " [0.06566358 0.07646605 0.07199074 ... 0.2320216  0.23310185 0.23140432]\n",
      " [0.05563272 0.05864198 0.05817901 ... 0.19459877 0.20262346 0.20408951]\n",
      " [0.04521605 0.04722222 0.04953704 ... 0.16057099 0.16689815 0.16967593]]\n"
     ]
    }
   ],
   "source": [
    "print(failedupdatesth/(nst*nips))"
   ]
  },
  {
   "cell_type": "code",
   "execution_count": 7,
   "metadata": {
    "scrolled": false
   },
   "outputs": [
    {
     "name": "stdout",
     "output_type": "stream",
     "text": [
      "[[0.55347222 0.9820216  0.99992284 ... 1.00015432 1.00015432 1.00015432]\n",
      " [0.5507716  0.95671296 0.99783951 ... 1.00015432 1.00015432 1.00015432]\n",
      " [0.54807099 0.93364198 0.99405864 ... 1.00015432 1.00015432 1.00015432]\n",
      " ...\n",
      " [0.07052469 0.07600309 0.07237654 ... 0.22716049 0.2308642  0.23333333]\n",
      " [0.05470679 0.05601852 0.0595679  ... 0.18973765 0.19344136 0.19158951]\n",
      " [0.04652778 0.05069444 0.04976852 ... 0.16365741 0.16527778 0.15439815]]\n"
     ]
    }
   ],
   "source": [
    "print(failedupdates/(nsm*measperiod*nips))"
   ]
  },
  {
   "cell_type": "code",
   "execution_count": 8,
   "metadata": {},
   "outputs": [
    {
     "name": "stdout",
     "output_type": "stream",
     "text": [
      "[0.74098361 0.60327869 0.85245902 0.68196721 0.8        0.67540984\n",
      " 0.72131148 0.59672131 0.63606557 0.47213115 0.4852459  0.30163934\n",
      " 0.15081967 0.01967213 0.07868852 0.01967213 0.05901639 0.02622951\n",
      " 0.0852459  0.03934426 0.13114754 0.09180328 0.17704918 0.17704918\n",
      " 0.26229508 0.30819672 0.39344262 0.3147541  0.57704918 0.45901639\n",
      " 0.69508197 0.        ]\n"
     ]
    }
   ],
   "source": [
    "print(4*swapst/(nrps*nsm*measperiod*nh))"
   ]
  },
  {
   "cell_type": "code",
   "execution_count": 9,
   "metadata": {},
   "outputs": [
    {
     "name": "stdout",
     "output_type": "stream",
     "text": [
      "[0.3375 0.425  0.3375 0.6375 0.4    0.775  0.525  0.7625 0.4375 0.8375\n",
      " 0.4875 0.7875 0.4375 0.6625 0.4375 0.7125 0.375  0.55   0.35   0.5375\n",
      " 0.4    0.5375 0.4    0.5375 0.3375 0.675  0.4    0.725  0.5    0.8625\n",
      " 0.5125 0.8875 0.5375 0.875  0.4125 0.7875 0.45   0.625  0.35   0.475\n",
      " 0.2125 0.5125 0.3625 0.5    0.425  0.7125 0.55   0.625  0.5875 0.8125\n",
      " 0.5375 0.85   0.65   0.9125 0.675  0.925  0.625  1.     0.65   1.0375\n",
      " 0.    ]\n"
     ]
    }
   ],
   "source": [
    "print(4*swapsh/(nrps*nsm*measperiod*nt))"
   ]
  },
  {
   "cell_type": "code",
   "execution_count": null,
   "metadata": {},
   "outputs": [],
   "source": []
  },
  {
   "cell_type": "code",
   "execution_count": null,
   "metadata": {},
   "outputs": [],
   "source": []
  },
  {
   "cell_type": "code",
   "execution_count": null,
   "metadata": {},
   "outputs": [],
   "source": [
    "\n"
   ]
  }
 ],
 "metadata": {
  "kernelspec": {
   "display_name": "Python 3",
   "language": "python",
   "name": "python3"
  },
  "language_info": {
   "codemirror_mode": {
    "name": "ipython",
    "version": 3
   },
   "file_extension": ".py",
   "mimetype": "text/x-python",
   "name": "python",
   "nbconvert_exporter": "python",
   "pygments_lexer": "ipython3",
   "version": "3.6.9"
  }
 },
 "nbformat": 4,
 "nbformat_minor": 2
}
