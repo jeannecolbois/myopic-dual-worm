{
 "cells": [
  {
   "cell_type": "code",
   "execution_count": 1,
   "metadata": {},
   "outputs": [],
   "source": [
    "import DualwormFunctions as dw\n",
    "import Observables as obs\n",
    "%load_ext line_profiler\n",
    "%load_ext memory_profiler\n",
    "import RunBasis\n",
    "import argparse\n",
    "import StartStates as strst\n",
    "import numpy as np"
   ]
  },
  {
   "cell_type": "code",
   "execution_count": 2,
   "metadata": {},
   "outputs": [],
   "source": [
    "nst = 2;\n",
    "nsm = 32;\n",
    "nips = 2;\n",
    "nrps = 4;\n",
    "nb = 32;\n",
    "measperiod = 2;\n",
    "nt = 8\n",
    "nh = 8"
   ]
  },
  {
   "cell_type": "code",
   "execution_count": 3,
   "metadata": {},
   "outputs": [],
   "source": [
    "def genArgs():\n",
    "    parser = argparse.ArgumentParser()\n",
    "    \n",
    "    parser.add_argument('-f', type = str)\n",
    "\n",
    "    parser.add_argument('--L', type = int, default = 12, help = 'Lattice side size')\n",
    "\n",
    "    # COUPLINGS\n",
    "    parser.add_argument('--J1', type = float, default = 1,\n",
    "                        help = 'NN coupling') # nearest-neighbour coupling\n",
    "    parser.add_argument('--J2', type = float, default = 0,\n",
    "                        help = '2nd NN coupling') # 2nd NN coupling\n",
    "    parser.add_argument('--J3', type = float, default = 0,\n",
    "                        help = '3rd NN coupling') # 3rd NN coupling\n",
    "    parser.add_argument('--J4', type = float, default = 0.0,\n",
    "                        help = '4th NN coupling')\n",
    "    parser.add_argument('--h', type = float, default = 1.0,\n",
    "                        help = 'Magnetic field')    \n",
    "    #NUMBER OF STEPS AND ITERATIONS\n",
    "    parser.add_argument('--nst', type = int, default = nst,\n",
    "                        help = 'number of thermalisation steps') # number of thermalisation steps\n",
    "    parser.add_argument('--nsm', type = int, default = nsm,\n",
    "                        help = 'number of measurements steps') # number of measurement steps\n",
    "    parser.add_argument('--nips', type = int, default = nips,\n",
    "                        help = 'number of worm constructions per MC step')\n",
    "    parser.add_argument('--nrps', type = int, default = nrps,\n",
    "                        help = 'number of replica loops per MC step')\n",
    "    parser.add_argument('--measperiod', type = int, default = measperiod,\n",
    "                        help = 'number of nips worm building + swaps between measurements')\n",
    "    parser.add_argument('--nb', type = int, default = nb,\n",
    "                        help = 'number of bins')\n",
    "\n",
    "    #PARALLELISATION\n",
    "    parser.add_argument('--ncores', type = int, default = 6,\n",
    "                        help = 'number of threads to use')\n",
    "\n",
    "    \n",
    "    # INITIALISATION PARAMETERS\n",
    "    parser.add_argument('--randominit', default = True, action ='store_true',\n",
    "                        help = 'intialise the states randomly')\n",
    "    parser.add_argument('--same', default = False, action = 'store_true',\n",
    "                        help = '''initialise all temperatures with the same\n",
    "                        state (debug purposes)''')\n",
    "    parser.add_argument('--magninit', default = False, action = 'store_true',\n",
    "                        help = '''initialise all the temperature with\n",
    "                        one of the m=1/3 GS''')\n",
    "    parser.add_argument('--magnstripes', default = False, action = 'store_true',\n",
    "                       help = '''initialise all the temperature with\n",
    "                       m=1/3 stripes''')\n",
    "    parser.add_argument('--maxflip', default = False, action = 'store_true',\n",
    "                       help = '''initialise all the temperature with\n",
    "                       maximally flippable plateau''')\n",
    "    parser.add_argument('--loadfromfile', default = False, action = 'store_true',\n",
    "                       help = '''initialise all the states with\n",
    "                       results from a previously performed simulations''')\n",
    "    parser.add_argument('--filename', type = str, default = 'tests/J1hLongRun_RndInit_AlternateUpdateResults',\n",
    "                       help = '''initialise all the states with\n",
    "                       results from a previously performed simulations''')\n",
    "    \n",
    "    #WORM PARAMETERS\n",
    "    parser.add_argument('--nmaxiter', type = int, default = 10,\n",
    "                        help = '''maximal number of segments in a loop update over the\n",
    "                        size of the lattice (1 = 1times the number of dualbonds in the\n",
    "                        lattice)''')\n",
    "    parser.add_argument('--measupdate', default = False, action = 'store_true',\n",
    "                       help = '''activate to mimic the action of the measuring tip''')\n",
    "    parser.add_argument('--p', type = float, default = 0.0, \n",
    "                       help = '''prob of the measuring tip flipping the spin (number between 0 and 1)''')\n",
    "    parser.add_argument('--ssf', default = True, action = 'store_true',\n",
    "                        help = 'activate for single spin flip update')\n",
    "    parser.add_argument('--alternate', default = True, action = 'store_true',\n",
    "                        help = 'activate for single spin flip update and dw update')\n",
    "    parser.add_argument('--checkgs', default =False, action = 'store_true',\n",
    "                        help = 'activate to debug ssf')\n",
    "    \n",
    "    #TEMPERATURE PARAMETERS\n",
    "    parser.add_argument('--t_list', nargs = '+', type = float, default = [0.05,60],\n",
    "                        help = 'list of limiting temperature values')\n",
    "    parser.add_argument('--nt_list', nargs = '+', type = int, default = [nt],\n",
    "                        help = 'list of number of temperatures in between the given limiting temperatures')\n",
    "    parser.add_argument('--log_tlist', default = False, action='store_true',\n",
    "                        help = 'state whether you want the temperature be spaced log-like or linear-like (activate if you want log)')\n",
    "    parser.add_argument('--stat_temps_lims', nargs = '+', type = float,\n",
    "                        help = '''limiting temperatures for the various ranges of\n",
    "                        measurements''') \n",
    "                        #default will be set to none, and then we can decide what to do later on.\n",
    "    #MAGNETIC FIELD PARAMETERS\n",
    "    parser.add_argument('--h_list', nargs = '+', default = [0.2,6.0],type = float,\n",
    "                        help = 'list of limiting magnetic field values')\n",
    "    parser.add_argument('--nh_list', nargs = '+', default = [nh], type = int,\n",
    "                        help = 'list of number of magnetic fields in between the given limiting temperatures')\n",
    "    parser.add_argument('--stat_hfields_lims', nargs = '+', type = float,\n",
    "                help = '''limiting magnetic fields for the various ranges of\n",
    "                measurements''') \n",
    "    #CORRELATIONS PARAMETER\n",
    "    parser.add_argument('--energy', default = True, action = 'store_true',\n",
    "                        help = 'activate if you want to save the energy')\n",
    "    parser.add_argument('--magnetisation', default =True, action = 'store_true',\n",
    "                        help = 'activate if you want to save the magnetisation')\n",
    "    parser.add_argument('--charges', default = False, action = 'store_true',\n",
    "                        help = 'activate if you want to save the charges')\n",
    "    parser.add_argument('--correlations', default = True, action = 'store_true',\n",
    "                        help = 'activate if you want to save either central or all correlations')\n",
    "    parser.add_argument('--all_correlations', default = False, action = 'store_true',\n",
    "                        help = '''activate if you want to save the correlations for all non-equivalent\n",
    "                        pairs of sites. Otherwise, will save central correlations.''')\n",
    "    parser.add_argument('--firstcorrelations', default = False, action = 'store_true',\n",
    "                        help = 'activate if you want to save first correlations, otherwise will save central')\n",
    "    #SAVE\n",
    "    parser.add_argument('--output', type = str, default = \"tests\", help = 'saving filename (.pkl will be added)')\n",
    "    args = parser.parse_args()\n",
    "    return args"
   ]
  },
  {
   "cell_type": "code",
   "execution_count": 4,
   "metadata": {},
   "outputs": [],
   "source": [
    "def callRunBasis():\n",
    "    args = genArgs()\n",
    "    return RunBasis.main(args)"
   ]
  },
  {
   "cell_type": "code",
   "execution_count": 5,
   "metadata": {
    "scrolled": false
   },
   "outputs": [
    {
     "name": "stdout",
     "output_type": "stream",
     "text": [
      "-------------------Initialisation--------------------\n",
      "./tests_folder/backup.hkl\n",
      "Lattice side size:  12\n",
      "J1  1\n",
      "J2  0\n",
      "J3  0\n",
      "J3st  0\n",
      "Couplings extracted\n",
      "Hamiltonian expression (without field) computed\n",
      "single spin flip update\n",
      "alternating ssf and dw update\n",
      "Number of temperatures:  8\n",
      "Temperatures: [5.00000000e-02 8.61428571e+00 1.71785714e+01 2.57428571e+01\n",
      " 3.43071429e+01 4.28714286e+01 5.14357143e+01 6.00000000e+01]\n",
      "Number of magnetic fields:  8\n",
      "Magnetic fields:  [0.2        1.02857143 1.85714286 2.68571429 3.51428571 4.34285714\n",
      " 5.17142857 6.        ]\n",
      "Fully random initialisation =  True\n",
      "Identical initialisation =  False\n",
      "Magnetisation initialisation =  False\n",
      "List of measurements to be performed: ['Energy', 'Magnetisation', 'Si', 'Central_Correlations']\n",
      "List of field indices to measure: [0, 1, 2, 3, 4, 5, 6, 7]\n",
      "-----------Thermalisation------------------\n",
      "Number of thermalisation steps =  2\n",
      "itermcs =  2\n",
      "iterreplicas =  4\n",
      "ssf =  True\n",
      "alternate =  True\n",
      "statsfunctions []\n",
      "Time for mcsevolve = 0.058565378189086914\n",
      "Time for tempering = 0.0024944543838500977\n",
      "Time for mapping to spins + computing statistics= 2.9921531677246094e-05\n",
      "Time for all thermalisation steps =  0.12314701080322266\n",
      "-----------Measurements-----------------\n",
      "Number of measurement steps =  32\n",
      "['Energy', 'Magnetisation', 'Si', 'Central_Correlations']\n",
      "Measurement period: 2\n",
      "itermcs =  64\n",
      "iterreplicas =  4\n",
      "ssf =  True\n",
      "alternate =  True\n",
      "statsfunctions [<function energy at 0x7f0866604598>, <function magnetisation at 0x7f0866604620>, <function si at 0x7f0866604730>, <function centralcorrelations at 0x7f08666046a8>]\n",
      "Time for mcsevolve = 0.09534125030040741\n",
      "Time for tempering = 0.0033172443509101868\n",
      "Time for mapping to spins + computing statistics= 0.050777848809957504\n",
      "Time for all measurements steps =  11.560098648071289\n",
      "Energies size:  (8, 8)\n",
      "Job done\n"
     ]
    }
   ],
   "source": [
    "%lprun -f dw.mcs_swaps meanstat, swapst, swapsh, failedupdatesth, failedupdates = callRunBasis() "
   ]
  },
  {
   "cell_type": "code",
   "execution_count": 6,
   "metadata": {
    "scrolled": false
   },
   "outputs": [
    {
     "name": "stdout",
     "output_type": "stream",
     "text": [
      "[[0.92322531 0.91338735 0.9211034  0.90528549 0.9222608  0.8755787\n",
      "  0.88078704 0.87905093]\n",
      " [0.16570216 0.18923611 0.19386574 0.24324846 0.28395062 0.34645062\n",
      "  0.3898534  0.42361111]\n",
      " [0.08699846 0.10320216 0.11516204 0.13290895 0.1722608  0.20081019\n",
      "  0.22492284 0.27044753]\n",
      " [0.06462191 0.06674383 0.08217593 0.09915123 0.1242284  0.13117284\n",
      "  0.16512346 0.19695216]\n",
      " [0.04185957 0.05381944 0.05632716 0.07407407 0.09220679 0.1095679\n",
      "  0.13040123 0.15084877]\n",
      " [0.03645833 0.04475309 0.05285494 0.05999228 0.08699846 0.09857253\n",
      "  0.1095679  0.13136574]\n",
      " [0.0310571  0.03665123 0.04301698 0.05324074 0.06076389 0.08024691\n",
      "  0.09143519 0.10763889]\n",
      " [0.02662037 0.03009259 0.0310571  0.04957562 0.05652006 0.07619599\n",
      "  0.08256173 0.0931713 ]]\n"
     ]
    }
   ],
   "source": [
    "print(failedupdatesth/(nst*nips))"
   ]
  },
  {
   "cell_type": "code",
   "execution_count": 7,
   "metadata": {
    "scrolled": false
   },
   "outputs": [
    {
     "name": "stdout",
     "output_type": "stream",
     "text": [
      "[[1.00012056 1.00034361 0.9991018  1.00036772 1.00034963 1.00028332\n",
      "  1.00031949 1.00031949]\n",
      " [0.16968678 0.19391999 0.19973717 0.24151837 0.28440273 0.32764878\n",
      "  0.38659216 0.44340157]\n",
      " [0.08907817 0.10429929 0.11327522 0.14145086 0.17197748 0.20636212\n",
      "  0.24045742 0.27702426]\n",
      " [0.05949195 0.07051143 0.07854094 0.09943456 0.12237172 0.14528477\n",
      "  0.17511815 0.20061728]\n",
      " [0.0453981  0.05375313 0.06078197 0.07770906 0.09499783 0.1134199\n",
      "  0.1374361  0.15842617]\n",
      " [0.03706115 0.04359568 0.04870153 0.06245177 0.07819131 0.09473259\n",
      "  0.11122565 0.12843003]\n",
      " [0.0300504  0.03669343 0.04038267 0.05249325 0.06594811 0.07996962\n",
      "  0.09516662 0.11061077]\n",
      " [0.02574026 0.03130425 0.03573495 0.04561511 0.05802107 0.06843171\n",
      "  0.08084973 0.09424431]]\n"
     ]
    }
   ],
   "source": [
    "print(failedupdates/(nsm*measperiod*nips))"
   ]
  },
  {
   "cell_type": "code",
   "execution_count": 8,
   "metadata": {},
   "outputs": [
    {
     "name": "stdout",
     "output_type": "stream",
     "text": [
      "[0.         0.0078125  0.22265625 0.44921875 0.64257812 0.7578125\n",
      " 0.81054688 0.        ]\n"
     ]
    }
   ],
   "source": [
    "print(4*swapst/(nrps*nsm*measperiod*nh))"
   ]
  },
  {
   "cell_type": "code",
   "execution_count": 9,
   "metadata": {},
   "outputs": [
    {
     "name": "stdout",
     "output_type": "stream",
     "text": [
      "[0.25       0.47265625 0.43164062 0.41210938 0.4375     0.484375\n",
      " 0.5390625  0.28515625]\n"
     ]
    }
   ],
   "source": [
    "print(4*swapsh/(nrps*nsm*measperiod*nt))"
   ]
  },
  {
   "cell_type": "code",
   "execution_count": null,
   "metadata": {},
   "outputs": [],
   "source": []
  },
  {
   "cell_type": "code",
   "execution_count": null,
   "metadata": {},
   "outputs": [],
   "source": []
  }
 ],
 "metadata": {
  "kernelspec": {
   "display_name": "Python 3",
   "language": "python",
   "name": "python3"
  },
  "language_info": {
   "codemirror_mode": {
    "name": "ipython",
    "version": 3
   },
   "file_extension": ".py",
   "mimetype": "text/x-python",
   "name": "python",
   "nbconvert_exporter": "python",
   "pygments_lexer": "ipython3",
   "version": "3.6.9"
  }
 },
 "nbformat": 4,
 "nbformat_minor": 2
}
