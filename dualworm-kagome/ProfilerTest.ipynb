{
 "cells": [
  {
   "cell_type": "code",
   "execution_count": 1,
   "metadata": {
    "collapsed": false
   },
   "outputs": [],
   "source": [
    "import DualwormFunctions as dw\n",
    "import Observables as obs\n",
    "%load_ext line_profiler\n",
    "%load_ext memory_profiler\n",
    "import RunBasis_NewSaves\n",
    "import argparse\n",
    "import StartStates as strst\n",
    "import numpy as np"
   ]
  },
  {
   "cell_type": "code",
   "execution_count": 2,
   "metadata": {
    "collapsed": true
   },
   "outputs": [],
   "source": [
    "nst = 2;\n",
    "nsm = 16;\n",
    "nips = 2;\n",
    "nrps = 4;\n",
    "nb = 16;\n",
    "measperiod = 2;\n",
    "nt = 8\n",
    "nh = 8"
   ]
  },
  {
   "cell_type": "code",
   "execution_count": 3,
   "metadata": {
    "collapsed": true
   },
   "outputs": [],
   "source": [
    "def genArgs():\n",
    "    parser = argparse.ArgumentParser()\n",
    "    \n",
    "    parser.add_argument('-f', type = str)\n",
    "\n",
    "    parser.add_argument('--L', type = int, default = 12, help = 'Lattice side size')\n",
    "\n",
    "    # COUPLINGS\n",
    "    parser.add_argument('--J1', type = float, default = 1,\n",
    "                        help = 'NN coupling') # nearest-neighbour coupling\n",
    "    parser.add_argument('--J2', type = float, default = 0,\n",
    "                        help = '2nd NN coupling') # 2nd NN coupling\n",
    "    parser.add_argument('--J3', type = float, default = 0,\n",
    "                        help = '3rd NN coupling') # 3rd NN coupling\n",
    "    parser.add_argument('--J4', type = float, default = 0.0,\n",
    "                        help = '4th NN coupling')\n",
    "    parser.add_argument('--h', type = float, default = 1.0,\n",
    "                        help = 'Magnetic field')    \n",
    "    #NUMBER OF STEPS AND ITERATIONS\n",
    "    parser.add_argument('--nst', type = int, default = nst,\n",
    "                        help = 'number of thermalisation steps') # number of thermalisation steps\n",
    "    parser.add_argument('--nsm', type = int, default = nsm,\n",
    "                        help = 'number of measurements steps') # number of measurement steps\n",
    "    parser.add_argument('--nips', type = int, default = nips,\n",
    "                        help = 'number of worm constructions per MC step')\n",
    "    parser.add_argument('--nrps', type = int, default = nrps,\n",
    "                        help = 'number of replica loops per MC step')\n",
    "    parser.add_argument('--measperiod', type = int, default = measperiod,\n",
    "                        help = 'number of nips worm building + swaps between measurements')\n",
    "    parser.add_argument('--nb', type = int, default = nb,\n",
    "                        help = 'number of bins')\n",
    "\n",
    "    #PARALLELISATION\n",
    "    parser.add_argument('--ncores', type = int, default = 6,\n",
    "                        help = 'number of threads to use')\n",
    "\n",
    "    \n",
    "    # INITIALISATION PARAMETERS\n",
    "    parser.add_argument('--randominit', default = True, action ='store_true',\n",
    "                        help = 'intialise the states randomly')\n",
    "    parser.add_argument('--same', default = False, action = 'store_true',\n",
    "                        help = '''initialise all temperatures with the same\n",
    "                        state (debug purposes)''')\n",
    "    parser.add_argument('--magninit', default = False, action = 'store_true',\n",
    "                        help = '''initialise all the temperature with\n",
    "                        one of the m=1/3 GS''')\n",
    "    parser.add_argument('--magnstripes', default = False, action = 'store_true',\n",
    "                       help = '''initialise all the temperature with\n",
    "                       m=1/3 stripes''')\n",
    "    parser.add_argument('--maxflip', default = False, action = 'store_true',\n",
    "                       help = '''initialise all the temperature with\n",
    "                       maximally flippable plateau''')\n",
    "    parser.add_argument('--loadfromfile', default = False, action = 'store_true',\n",
    "                       help = '''initialise all the states with\n",
    "                       results from a previously performed simulations''')\n",
    "    parser.add_argument('--filename', type = str, default = 'tests/J1hLongRun_RndInit_AlternateUpdateResults',\n",
    "                       help = '''initialise all the states with\n",
    "                       results from a previously performed simulations''')\n",
    "    \n",
    "    #WORM PARAMETERS\n",
    "    parser.add_argument('--nmaxiter', type = int, default = 10,\n",
    "                        help = '''maximal number of segments in a loop update over the\n",
    "                        size of the lattice (1 = 1times the number of dualbonds in the\n",
    "                        lattice)''')\n",
    "    parser.add_argument('--measupdate', default = False, action = 'store_true',\n",
    "                       help = '''activate to mimic the action of the measuring tip''')\n",
    "    parser.add_argument('--p', type = float, default = 0.0, \n",
    "                       help = '''prob of the measuring tip flipping the spin (number between 0 and 1)''')\n",
    "    parser.add_argument('--ssf', default = True, action = 'store_true',\n",
    "                        help = 'activate for single spin flip update')\n",
    "    parser.add_argument('--alternate', default = True, action = 'store_true',\n",
    "                        help = 'activate for single spin flip update and dw update')\n",
    "    parser.add_argument('--checkgs', default = True, action = 'store_true',\n",
    "                        help = 'activate to debug ssf')\n",
    "    \n",
    "    #TEMPERATURE PARAMETERS\n",
    "    parser.add_argument('--t_list', nargs = '+', type = float, default = [0.05,60],\n",
    "                        help = 'list of limiting temperature values')\n",
    "    parser.add_argument('--nt_list', nargs = '+', type = int, default = [nt],\n",
    "                        help = 'list of number of temperatures in between the given limiting temperatures')\n",
    "    parser.add_argument('--log_tlist', default = False, action='store_true',\n",
    "                        help = 'state whether you want the temperature be spaced log-like or linear-like (activate if you want log)')\n",
    "    parser.add_argument('--stat_temps_lims', nargs = '+', type = float,\n",
    "                        help = '''limiting temperatures for the various ranges of\n",
    "                        measurements''') \n",
    "                        #default will be set to none, and then we can decide what to do later on.\n",
    "    #MAGNETIC FIELD PARAMETERS\n",
    "    parser.add_argument('--h_list', nargs = '+', default = [0.2,6.0],type = float,\n",
    "                        help = 'list of limiting magnetic field values')\n",
    "    parser.add_argument('--nh_list', nargs = '+', default = [nh], type = int,\n",
    "                        help = 'list of number of magnetic fields in between the given limiting temperatures')\n",
    "    parser.add_argument('--stat_hfields_lims', nargs = '+', type = float,\n",
    "                help = '''limiting magnetic fields for the various ranges of\n",
    "                measurements''') \n",
    "    #CORRELATIONS PARAMETER\n",
    "    parser.add_argument('--energy', default = True, action = 'store_true',\n",
    "                        help = 'activate if you want to save the energy')\n",
    "    parser.add_argument('--magnetisation', default =True, action = 'store_true',\n",
    "                        help = 'activate if you want to save the magnetisation')\n",
    "    parser.add_argument('--charges', default = False, action = 'store_true',\n",
    "                        help = 'activate if you want to save the charges')\n",
    "    parser.add_argument('--correlations', default = True, action = 'store_true',\n",
    "                        help = 'activate if you want to save either central or all correlations')\n",
    "    parser.add_argument('--all_correlations', default = False, action = 'store_true',\n",
    "                        help = '''activate if you want to save the correlations for all non-equivalent\n",
    "                        pairs of sites. Otherwise, will save central correlations.''')\n",
    "    parser.add_argument('--firstcorrelations', default = False, action = 'store_true',\n",
    "                        help = 'activate if you want to save first correlations, otherwise will save central')\n",
    "    #SAVE\n",
    "    parser.add_argument('--output', type = str, default = \"tests\", help = 'saving filename (.pkl will be added)')\n",
    "    args = parser.parse_args()\n",
    "    return args"
   ]
  },
  {
   "cell_type": "code",
   "execution_count": 4,
   "metadata": {
    "collapsed": true
   },
   "outputs": [],
   "source": [
    "def callRunBasis():\n",
    "    args = genArgs()\n",
    "    return RunBasis_NewSaves.main(args)"
   ]
  },
  {
   "cell_type": "code",
   "execution_count": 5,
   "metadata": {
    "collapsed": false,
    "scrolled": false
   },
   "outputs": [
    {
     "name": "stdout",
     "output_type": "stream",
     "text": [
      "-------------------Initialisation--------------------\n",
      "Lattice side size:  12\n",
      "J1  1\n",
      "J2  0\n",
      "J3  0\n",
      "J3st  0\n",
      "Couplings extracted\n",
      "Hamiltonian expression (without field) computed\n",
      "single spin flip update\n",
      "alternating ssf and dw update\n",
      "Number of temperatures:  8\n",
      "Temperatures: [5.00000000e-02 8.61428571e+00 1.71785714e+01 2.57428571e+01\n",
      " 3.43071429e+01 4.28714286e+01 5.14357143e+01 6.00000000e+01]\n",
      "Number of magnetic fields:  8\n",
      "Magnetic fields:  [0.2        1.02857143 1.85714286 2.68571429 3.51428571 4.34285714\n",
      " 5.17142857 6.        ]\n",
      "Fully random initialisation =  True\n",
      "Identical initialisation =  False\n",
      "Magnetisation initialisation =  False\n",
      "[ -950.4        -1308.34285714 -1666.28571429 -2024.22857143\n",
      " -2382.17142857 -3036.34285714 -4110.17142857 -5184.        ]\n",
      "RunBasis: Away from gs at t index  0  and h index  0\n",
      "   new_en_states[t,h] =  80.8\n",
      "   ref_en_states[h] =  -950.4\n",
      "RunBasis: Away from gs at t index  0  and h index  1\n",
      "   new_en_states[t,h] =  93.6\n",
      "   ref_en_states[h] =  -1308.3428571428572\n",
      "RunBasis: Away from gs at t index  0  and h index  2\n",
      "   new_en_states[t,h] =  -29.428571428571423\n",
      "   ref_en_states[h] =  -1666.2857142857142\n",
      "RunBasis: Away from gs at t index  0  and h index  3\n",
      "   new_en_states[t,h] =  -60.22857142857143\n",
      "   ref_en_states[h] =  -2024.2285714285715\n",
      "RunBasis: Away from gs at t index  0  and h index  4\n",
      "   new_en_states[t,h] =  204.8\n",
      "   ref_en_states[h] =  -2382.1714285714284\n",
      "RunBasis: Away from gs at t index  0  and h index  5\n",
      "   new_en_states[t,h] =  60.114285714285714\n",
      "   ref_en_states[h] =  -3036.3428571428567\n",
      "RunBasis: Away from gs at t index  0  and h index  6\n",
      "   new_en_states[t,h] =  -406.40000000000003\n",
      "   ref_en_states[h] =  -4110.171428571429\n",
      "RunBasis: Away from gs at t index  0  and h index  7\n",
      "   new_en_states[t,h] =  -316.0\n",
      "   ref_en_states[h] =  -5184.0\n",
      "List of measurements to be performed: ['Energy', 'Magnetisation', 'Si', 'Central_Correlations']\n",
      "List of field indices to measure: [0, 1, 2, 3, 4, 5, 6, 7]\n",
      "-----------Thermalisation------------------\n",
      "Number of thermalisation steps =  2\n",
      "itermcs =  2\n",
      "iterreplicas =  4\n",
      "ssf =  True\n",
      "alternate =  True\n",
      "statsfunctions []\n",
      "Time for mcsevolve = 0.17957258224487305\n",
      "Time for tempering = 0.004140973091125488\n",
      "Time for mapping to spins + computing statistics= 4.5299530029296875e-05\n",
      "Time for all thermalisation steps =  0.3689596652984619\n",
      "RunBasis: Away from gs at t index  0  and h index  0\n",
      "   new_en_states[t,h] =  -925.2000000000002\n",
      "   ref_en_states[h] =  -950.4\n",
      "RunBasis: Away from gs at t index  0  and h index  1\n",
      "   new_en_states[t,h] =  -1191.0857142857142\n",
      "   ref_en_states[h] =  -1308.3428571428572\n",
      "RunBasis: Away from gs at t index  0  and h index  2\n",
      "   new_en_states[t,h] =  -1458.2857142857142\n",
      "   ref_en_states[h] =  -1666.2857142857142\n",
      "RunBasis: Away from gs at t index  0  and h index  3\n",
      "   new_en_states[t,h] =  -1879.6571428571488\n",
      "   ref_en_states[h] =  -2024.2285714285715\n",
      "RunBasis: Away from gs at t index  0  and h index  4\n",
      "   new_en_states[t,h] =  -2316.9714285714385\n",
      "   ref_en_states[h] =  -2382.1714285714284\n",
      "RunBasis: Away from gs at t index  0  and h index  5\n",
      "   new_en_states[t,h] =  -3019.4285714285847\n",
      "   ref_en_states[h] =  -3036.3428571428567\n",
      "RunBasis: Away from gs at t index  0  and h index  6\n",
      "   new_en_states[t,h] =  -4082.057142857143\n",
      "   ref_en_states[h] =  -4110.171428571429\n",
      "RunBasis: Away from gs at t index  0  and h index  7\n",
      "   new_en_states[t,h] =  -5132.000000000006\n",
      "   ref_en_states[h] =  -5184.0\n",
      "-----------Measurements-----------------\n",
      "Number of measurement steps =  16\n",
      "['Energy', 'Magnetisation', 'Si', 'Central_Correlations']\n",
      "Measurement period: 2\n",
      "itermcs =  32\n",
      "iterreplicas =  4\n",
      "ssf =  True\n",
      "alternate =  True\n",
      "statsfunctions [<function energy at 0x7f3efaf71268>, <function magnetisation at 0x7f3efaf712f0>, <function si at 0x7f3efaf71400>, <function centralcorrelations at 0x7f3efaf71378>]\n",
      "Time for mcsevolve = 0.17119254916906357\n",
      "Time for tempering = 0.004036374390125275\n",
      "Time for mapping to spins + computing statistics= 0.007655449211597443\n",
      "Time for all measurements steps =  5.957624197006226\n",
      "Energies size:  (8, 8)\n",
      "RunBasis: Away from gs at t index  0  and h index  0\n",
      "   new_en_states[t,h] =  -925.6000000000001\n",
      "   ref_en_states[h] =  -950.4\n",
      "RunBasis: Away from gs at t index  0  and h index  1\n",
      "   new_en_states[t,h] =  -1195.1999999999998\n",
      "   ref_en_states[h] =  -1308.3428571428572\n",
      "RunBasis: Away from gs at t index  0  and h index  2\n",
      "   new_en_states[t,h] =  -1506.5714285714284\n",
      "   ref_en_states[h] =  -1666.2857142857142\n",
      "RunBasis: Away from gs at t index  0  and h index  3\n",
      "   new_en_states[t,h] =  -1884.9142857142915\n",
      "   ref_en_states[h] =  -2024.2285714285715\n",
      "RunBasis: Away from gs at t index  0  and h index  4\n",
      "   new_en_states[t,h] =  -2325.828571428581\n",
      "   ref_en_states[h] =  -2382.1714285714284\n",
      "RunBasis: Away from gs at t index  0  and h index  5\n",
      "   new_en_states[t,h] =  -3036.3428571428703\n",
      "   ref_en_states[h] =  -3036.3428571428567\n",
      "RunBasis: Away from gs at t index  0  and h index  6\n",
      "   new_en_states[t,h] =  -4110.171428571435\n",
      "   ref_en_states[h] =  -4110.171428571429\n",
      "Job done\n"
     ]
    }
   ],
   "source": [
    "%lprun -f dw.mcs_swaps meanstat, swapst, swapsh, failedupdatesth, failedupdates = callRunBasis() "
   ]
  },
  {
   "cell_type": "code",
   "execution_count": 6,
   "metadata": {
    "collapsed": false,
    "scrolled": false
   },
   "outputs": [
    {
     "name": "stdout",
     "output_type": "stream",
     "text": [
      "[[0.96875    0.96643519 0.9220679  0.9068287  0.91859568 0.8751929\n",
      "  0.88734568 0.88869599]\n",
      " [0.15393519 0.19077932 0.2038966  0.24517747 0.28780864 0.31577932\n",
      "  0.38599537 0.44193673]\n",
      " [0.08777006 0.10358796 0.11670525 0.14216821 0.16859568 0.20524691\n",
      "  0.24440586 0.27295525]\n",
      " [0.05748457 0.06770833 0.07986111 0.10127315 0.12692901 0.14332562\n",
      "  0.16415895 0.19077932]\n",
      " [0.04282407 0.05054012 0.06153549 0.07908951 0.09375    0.1095679\n",
      "  0.13869599 0.1560571 ]\n",
      " [0.03607253 0.04861111 0.04378858 0.06346451 0.07908951 0.09008488\n",
      "  0.11342593 0.12866512]\n",
      " [0.02893519 0.0320216  0.04340278 0.05189043 0.0628858  0.07600309\n",
      "  0.09529321 0.1099537 ]\n",
      " [0.02449846 0.02584877 0.03317901 0.04494599 0.05767747 0.06539352\n",
      "  0.07908951 0.09201389]]\n"
     ]
    }
   ],
   "source": [
    "print(failedupdatesth/(nst*nips))"
   ]
  },
  {
   "cell_type": "code",
   "execution_count": 7,
   "metadata": {
    "collapsed": false,
    "scrolled": false
   },
   "outputs": [
    {
     "name": "stdout",
     "output_type": "stream",
     "text": [
      "[[0.99996383 1.00036169 0.99940924 1.00036169 1.00030141 1.00022907\n",
      "  1.00024113 1.00025318]\n",
      " [0.16752267 0.19386574 0.20308883 0.2396195  0.28326341 0.32520737\n",
      "  0.38648968 0.44070698]\n",
      " [0.08981964 0.10472126 0.11277488 0.13992573 0.16839072 0.20163002\n",
      "  0.23913725 0.27471547]\n",
      " [0.06046248 0.07085503 0.07913773 0.09862076 0.12015336 0.14574894\n",
      "  0.17062114 0.20059317]\n",
      " [0.0455488  0.05251736 0.06082417 0.07636478 0.09448544 0.11317274\n",
      "  0.13492236 0.15489969]\n",
      " [0.036386   0.04246238 0.04920187 0.06253617 0.07632861 0.09276138\n",
      "  0.10994165 0.12713397]\n",
      " [0.02985147 0.03575907 0.04106385 0.0522039  0.06463397 0.07716049\n",
      "  0.09338831 0.10745804]\n",
      " [0.02523389 0.03135851 0.03524064 0.04603106 0.05571229 0.06961323\n",
      "  0.08110291 0.09352093]]\n"
     ]
    }
   ],
   "source": [
    "print(failedupdates/(nsm*measperiod*nips))"
   ]
  },
  {
   "cell_type": "code",
   "execution_count": 8,
   "metadata": {
    "collapsed": false
   },
   "outputs": [
    {
     "name": "stdout",
     "output_type": "stream",
     "text": [
      "[0.         0.0078125  0.203125   0.52734375 0.63671875 0.71875\n",
      " 0.8359375  0.        ]\n"
     ]
    }
   ],
   "source": [
    "print(4*swapst/(nrps*nsm*measperiod*nh))"
   ]
  },
  {
   "cell_type": "code",
   "execution_count": 9,
   "metadata": {
    "collapsed": false
   },
   "outputs": [
    {
     "name": "stdout",
     "output_type": "stream",
     "text": [
      "[0.1875     0.46875    0.4140625  0.42578125 0.40625    0.46875\n",
      " 0.56640625 0.3046875 ]\n"
     ]
    }
   ],
   "source": [
    "print(4*swapsh/(nrps*nsm*measperiod*nt))"
   ]
  },
  {
   "cell_type": "code",
   "execution_count": null,
   "metadata": {
    "collapsed": true
   },
   "outputs": [],
   "source": []
  },
  {
   "cell_type": "code",
   "execution_count": null,
   "metadata": {
    "collapsed": true
   },
   "outputs": [],
   "source": []
  }
 ],
 "metadata": {
  "kernelspec": {
   "display_name": "Python 3",
   "language": "python",
   "name": "python3"
  },
  "language_info": {
   "codemirror_mode": {
    "name": "ipython",
    "version": 3
   },
   "file_extension": ".py",
   "mimetype": "text/x-python",
   "name": "python",
   "nbconvert_exporter": "python",
   "pygments_lexer": "ipython3",
   "version": "3.5.3"
  }
 },
 "nbformat": 4,
 "nbformat_minor": 2
}
