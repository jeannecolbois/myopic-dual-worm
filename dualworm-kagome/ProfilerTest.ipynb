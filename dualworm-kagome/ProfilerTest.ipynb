{
 "cells": [
  {
   "cell_type": "code",
   "execution_count": 1,
   "metadata": {},
   "outputs": [],
   "source": [
    "import DualwormFunctions as dw\n",
    "import Observables as obs\n",
    "%load_ext line_profiler\n",
    "%load_ext memory_profiler\n",
    "import RunBasis\n",
    "import argparse\n",
    "import StartStates as strst\n",
    "import numpy as np"
   ]
  },
  {
   "cell_type": "code",
   "execution_count": 2,
   "metadata": {},
   "outputs": [],
   "source": [
    "nst = 500;\n",
    "nsm = 1024;\n",
    "nips = 20;\n",
    "nb = 128;\n",
    "measperiod = 1;\n",
    "h = 0.5"
   ]
  },
  {
   "cell_type": "code",
   "execution_count": 3,
   "metadata": {},
   "outputs": [],
   "source": [
    "def genArgs():\n",
    "    parser = argparse.ArgumentParser()\n",
    "    \n",
    "    parser.add_argument('-f', type = str)\n",
    "\n",
    "    parser.add_argument('--L', type = int, default = 8, help = 'Lattice side size')\n",
    "\n",
    "    # COUPLINGS\n",
    "    parser.add_argument('--J1', type = float, default = 1,\n",
    "                        help = 'NN coupling') # nearest-neighbour coupling\n",
    "    parser.add_argument('--J2', type = float, default = 0.0,\n",
    "                        help = '2nd NN coupling') # 2nd NN coupling\n",
    "    parser.add_argument('--J3', type = float, default = 0.0,\n",
    "                        help = '3rd NN coupling') # 3rd NN coupling\n",
    "    parser.add_argument('--J4', type = float, default = 0.0,\n",
    "                        help = '4th NN coupling')\n",
    "    parser.add_argument('--h', type = float, default = 0.5,\n",
    "                        help = 'Magnetic field')    \n",
    "    #NUMBER OF STEPS AND ITERATIONS\n",
    "    parser.add_argument('--nst', type = int, default = nst,\n",
    "                        help = 'number of thermalisation steps') # number of thermalisation steps\n",
    "    parser.add_argument('--nsm', type = int, default = nsm,\n",
    "                        help = 'number of measurements steps') # number of measurement steps\n",
    "    parser.add_argument('--nips', type = int, default = nips,\n",
    "                        help = 'number of worm constructions per MC step')\n",
    "    parser.add_argument('--measperiod', type = int, default = measperiod,\n",
    "                        help = 'number of nips worm building + swaps between measurements')\n",
    "    parser.add_argument('--nb', type = int, default = nb,\n",
    "                        help = 'number of bins')\n",
    "\n",
    "    #PARALLELISATION\n",
    "    parser.add_argument('--ncores', type = int, default = 8,\n",
    "                        help = 'number of threads to use')\n",
    "\n",
    "    #WORM PARAMETERS\n",
    "    parser.add_argument('--nmaxiter', type = int, default = 10,\n",
    "                        help = '''maximal number of segments in a loop update over the\n",
    "                        size of the lattice (1 = 1times the number of dualbonds in the\n",
    "                        lattice)''')\n",
    "    parser.add_argument('--randominit', default = False, action ='store_true',\n",
    "                        help = 'intialise the states randomly')\n",
    "    parser.add_argument('--same', default = False, action = 'store_true',\n",
    "                        help = '''initialise all temperatures with the same\n",
    "                        state (debug purposes)''')\n",
    "    parser.add_argument('--magninit', default = False, action = 'store_true',\n",
    "                        help = '''initialise all the temperature with the maximally magnetised GS''')\n",
    "    parser.add_argument('--measupdate', default = False, action = 'store_true',\n",
    "                       help = '''activate to mimic the action of the measuring tip''')\n",
    "    parser.add_argument('--p', type = float, default = 0.0, \n",
    "                       help = '''prob of the measuring tip flipping the spin (number between 0 and 1)''')\n",
    "    parser.add_argument('--ssf', default = True, action = 'store_true',\n",
    "                        help = 'activate for single spin flip update')\n",
    "    #TEMPERATURE PARAMETERS\n",
    "    parser.add_argument('--t_list', nargs = '+', type = float, default = [0.05,20],\n",
    "                        help = 'list of limiting temperature values')\n",
    "    parser.add_argument('--nt_list', nargs = '+', type = int, default = [84],\n",
    "                        help = 'list of number of temperatures in between the given limiting temperatures')\n",
    "    parser.add_argument('--log_tlist', default = True, action='store_true',\n",
    "                        help = 'state whether you want the temperature be spaced log-like or linear-like (activate if you want log)')\n",
    "    parser.add_argument('--stat_temps_lims', nargs = '+', type = float,\n",
    "                        help = '''limiting temperatures for the various ranges of\n",
    "                        measurements''') \n",
    "                        #default will be set to none, and then we can decide what to do later on.\n",
    "    \n",
    "    #CORRELATIONS PARAMETER\n",
    "    parser.add_argument('--energy', default = True, action = 'store_true',\n",
    "                        help = 'activate if you want to save the energy')\n",
    "    parser.add_argument('--magnetisation', default = True, action = 'store_true',\n",
    "                        help = 'activate if you want to save the magnetisation')\n",
    "    parser.add_argument('--magnstats', default = False, action = 'store_true', \n",
    "                       help = 'activate if you want to compute the magnetisation statistics')\n",
    "    parser.add_argument('--charges', default = True, action = 'store_true',\n",
    "                        help = 'activate if you want to save the charges')\n",
    "    parser.add_argument('--correlations', default = True, action = 'store_true',\n",
    "                        help = 'activate if you want to save either central or all correlations')\n",
    "    parser.add_argument('--all_correlations', default = False, action = 'store_true',\n",
    "                        help = '''activate if you want to save the correlations for all non-equivalent\n",
    "                        pairs of sites. Otherwise, will save central correlations.''')\n",
    "    parser.add_argument('--firstcorrelations', default = False, action = 'store_true',\n",
    "                        help = 'activate if you want to save first correlations, otherwise will save central')\n",
    "    #SAVE\n",
    "    parser.add_argument('--output', type = str, default = \"tests/HField0_h={0}_L8_randJ1init\".format(h), help = 'saving filename (.pkl will be added)')\n",
    "    args = parser.parse_args()\n",
    "    return args"
   ]
  },
  {
   "cell_type": "code",
   "execution_count": 4,
   "metadata": {},
   "outputs": [],
   "source": [
    "def callRunBasis():\n",
    "    args = genArgs()\n",
    "    return RunBasis.main(args)"
   ]
  },
  {
   "cell_type": "code",
   "execution_count": 5,
   "metadata": {
    "scrolled": false
   },
   "outputs": [
    {
     "name": "stdout",
     "output_type": "stream",
     "text": [
      "Lattice side size:  8\n",
      "J1  1\n",
      "J2  0.0\n",
      "J3  0.0\n",
      "J3st  0.0\n",
      "h 0.5\n",
      "Couplings exacted\n",
      "dw.Hamiltonian done\n",
      "hamiltonian computed\n",
      "0 84\n",
      "Number of temperatures:  84\n",
      "Fully random initialisation =  False\n",
      "Identical initialisation =  False\n",
      "Magnetisation initialisation =  False\n",
      "{'random': False, 'same': False, 'magninit': False, 'h': 0.5}\n",
      "Same initialisation for all temperatures =  False\n",
      "False\n",
      "not random\n",
      "Initialisation type:  J1\n",
      "J1Init\n",
      "List of measurements to be performed: ['Energy', 'Magnetisation', 'Charges', 'Si', 'Central_Correlations']\n",
      "List of temperature indices to measure: range(0, 84)\n",
      "-----------Thermalisation------------------\n",
      "Number of thermalisation steps =  500\n",
      "itermcs =  500\n",
      "magnstats False\n",
      "statsfunctions []\n",
      "h =  0.5\n",
      "Time for mcsevolve = 0.03710175561904906\n",
      "Time for tempering = 0.001438751220703125\n",
      "Time for mapping to spins + computing statistics= 2.033710479736317e-06\n",
      "Time for all thermalisation steps =  19.272282361984253\n",
      "-----------Measurements-----------------\n",
      "Number of measurement steps =  1024\n",
      "['Energy', 'Magnetisation', 'Charges', 'Si', 'Central_Correlations']\n",
      "Measurement period: 1\n",
      "itermcs =  1024\n",
      "magnstats False\n",
      "statsfunctions [<function energy at 0x7f95b42c1b00>, <function magnetisation at 0x7f959809c440>, <function charges at 0x7f959809c680>, <function si at 0x7f959809c560>, <function centralcorrelations at 0x7f959809c4d0>]\n",
      "h =  0.5\n",
      "Time for mcsevolve = 0.042612516321241856\n",
      "Time for tempering = 0.0015475333202630281\n",
      "Time for mapping to spins + computing statistics= 0.08140873163938522\n",
      "Time for all measurements steps =  128.84436964988708\n",
      "Job done\n"
     ]
    }
   ],
   "source": [
    "meanstat, failedupdatesth, failedupdates = callRunBasis() "
   ]
  },
  {
   "cell_type": "code",
   "execution_count": 6,
   "metadata": {},
   "outputs": [
    {
     "name": "stdout",
     "output_type": "stream",
     "text": [
      "[0.99998576 0.99998663 0.99998455 0.99998507 0.9999842  0.99998368\n",
      " 0.99998073 0.99997847 0.99996667 0.99994688 0.99990434 0.99982847\n",
      " 0.99971076 0.99951094 0.99916562 0.99856632 0.99779844 0.99654514\n",
      " 0.99482326 0.99251493 0.98950729 0.985575   0.98084375 0.97525955\n",
      " 0.9684651  0.96057587 0.95180208 0.94157187 0.9305533  0.91840087\n",
      " 0.9059776  0.89253385 0.87933785 0.86491319 0.85011667 0.83517344\n",
      " 0.8196151  0.80388976 0.78815104 0.7717941  0.75586059 0.73856875\n",
      " 0.72160972 0.70470556 0.68615295 0.66819115 0.64820087 0.62910312\n",
      " 0.60925486 0.58904687 0.56822969 0.54686858 0.52511493 0.50401163\n",
      " 0.48185573 0.46061719 0.43946007 0.41885851 0.39800417 0.3780526\n",
      " 0.35728733 0.33846059 0.31954826 0.30173194 0.28552899 0.26830243\n",
      " 0.25247448 0.23781389 0.22338056 0.20922917 0.19693767 0.18423767\n",
      " 0.17268941 0.16181562 0.15171215 0.14162674 0.13228819 0.12373073\n",
      " 0.11559097 0.10784375 0.10076059 0.09390538 0.08788924 0.08185191]\n"
     ]
    }
   ],
   "source": [
    "print(failedupdatesth/(nst*nips))"
   ]
  },
  {
   "cell_type": "code",
   "execution_count": 7,
   "metadata": {},
   "outputs": [
    {
     "name": "stdout",
     "output_type": "stream",
     "text": [
      "[1.         1.         1.         1.         0.99999966 0.99999924\n",
      " 0.99999703 0.99999347 0.99998432 0.99996719 0.99992905 0.99985352\n",
      " 0.9997345  0.99951664 0.99914271 0.99861637 0.99778264 0.99654075\n",
      " 0.99486076 0.99258787 0.98951018 0.98571159 0.98095186 0.97526627\n",
      " 0.96855121 0.96054704 0.95173857 0.94163767 0.93071221 0.91873067\n",
      " 0.90594889 0.89280633 0.87919676 0.86481366 0.85010774 0.83512412\n",
      " 0.82006107 0.80408563 0.78787409 0.7721116  0.7553555  0.73869392\n",
      " 0.72166095 0.70440564 0.68629744 0.6678605  0.64827805 0.62855479\n",
      " 0.60914332 0.58872113 0.56833344 0.54657372 0.52558729 0.50430247\n",
      " 0.48223885 0.46093852 0.43917211 0.41851451 0.39793727 0.37744471\n",
      " 0.35765067 0.33829888 0.31991153 0.30179977 0.2848248  0.26813397\n",
      " 0.25247684 0.23749737 0.22290412 0.20926912 0.19647598 0.18419596\n",
      " 0.17243568 0.16159888 0.15125656 0.14145923 0.13221376 0.12372267\n",
      " 0.11551802 0.1078737  0.10064545 0.09393709 0.08753035 0.08158951]\n"
     ]
    }
   ],
   "source": [
    "print(failedupdates/(nsm*nips*measperiod))"
   ]
  },
  {
   "cell_type": "code",
   "execution_count": null,
   "metadata": {},
   "outputs": [],
   "source": []
  }
 ],
 "metadata": {
  "kernelspec": {
   "display_name": "Python 3",
   "language": "python",
   "name": "python3"
  },
  "language_info": {
   "codemirror_mode": {
    "name": "ipython",
    "version": 3
   },
   "file_extension": ".py",
   "mimetype": "text/x-python",
   "name": "python",
   "nbconvert_exporter": "python",
   "pygments_lexer": "ipython3",
   "version": "3.7.4"
  }
 },
 "nbformat": 4,
 "nbformat_minor": 2
}
