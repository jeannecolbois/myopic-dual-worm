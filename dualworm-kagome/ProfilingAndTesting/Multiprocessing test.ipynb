{
 "cells": [
  {
   "cell_type": "code",
   "execution_count": 1,
   "metadata": {},
   "outputs": [],
   "source": [
    "\n",
    "from time import time"
   ]
  },
  {
   "cell_type": "code",
   "execution_count": 2,
   "metadata": {},
   "outputs": [],
   "source": [
    "numstates = 50;\n",
    "numiter = 10**6"
   ]
  },
  {
   "cell_type": "code",
   "execution_count": null,
   "metadata": {},
   "outputs": [],
   "source": [
    "from concurrent.futures import ProcessPoolExecutor\n",
    "\n",
    "testlist = [0 for i in range(numstates)]\n",
    "def updatelist(index, number):\n",
    "    for _ in range(numiter):\n",
    "        testlist[index] += number ### Careful: here, testlist has been copied for each process\n",
    "    return testlist[index]\n",
    "def multiprocess(func, *args):\n",
    "    print(args)\n",
    "    #res = map(func,*args)\n",
    "    with ProcessPoolExecutor(max_workers=None) as ex: # auto\n",
    "        res = ex.map(func, *args)\n",
    "    return list(res)\n",
    "    #return list(res)\n",
    "\n",
    "t1 = time()\n",
    "args = [range(numstates), range(numstates)]\n",
    "res = multiprocess(updatelist, *args)\n",
    "t2 = time()\n",
    "print(t2-t1)\n",
    "print(res)\n"
   ]
  },
  {
   "cell_type": "code",
   "execution_count": null,
   "metadata": {},
   "outputs": [],
   "source": [
    "from concurrent.futures import ProcessPoolExecutor\n",
    "\n",
    "\n",
    "def updatelist(index, number, val):\n",
    "    for _ in range(numiter):\n",
    "        val += number ### Careful: here, testlist has been copied for each process\n",
    "    return val\n",
    "def multiprocess(func, *args):\n",
    "    print(args)\n",
    "    #res = map(func,*args)\n",
    "    with ProcessPoolExecutor(max_workers=None) as ex: # auto\n",
    "        res = ex.map(func, *args)\n",
    "    return list(res)\n",
    "    #return list(res)\n",
    "\n",
    "testlist = [0 for i in range(numstates)]\n",
    "t1 = time()\n",
    "args = [range(numstates), range(numstates), testlist]\n",
    "res = multiprocess(updatelist, *args)\n",
    "t2 = time()\n",
    "print(t2-t1)\n",
    "print(res)\n"
   ]
  },
  {
   "cell_type": "code",
   "execution_count": null,
   "metadata": {},
   "outputs": [],
   "source": [
    "from multiprocessing import Process, Array, Pool\n",
    "\n",
    "class P(Process):\n",
    "    def __init__(self, index, number, *args):\n",
    "        super(P, self).__init__()\n",
    "        self.index = index\n",
    "        self.number = number\n",
    "        self.args = args\n",
    "        \n",
    "    def run(self):\n",
    "        for _ in range(numiter):\n",
    "            self.args[0][self.index] += self.number\n",
    "            \n",
    "\n",
    "def compute(*args):\n",
    "    proc = P(*args)\n",
    "    proc.start()\n",
    "    proc.join()\n",
    "    \n",
    "testlist = Array('d',[0 for i in range(numstates)])\n",
    "testlist[index]\n",
    "p = Pool()\n",
    "\n",
    "listid = [i for i in range(len(testlist))]\n",
    "listval = listid\n",
    "\n",
    "args = [listid, listval, testlist]\n",
    "\n",
    "result = p.map(compute, args)\n",
    "\n",
    "t1 = time()\n",
    "for index in range(len(testlist)):\n",
    "    proclist[index].start()\n",
    "for index in range(len(testlist)):\n",
    "    proclist[index].join()\n",
    "t2 = time()\n",
    "print(t2-t1)\n",
    "    \n",
    "print(testlist[:])"
   ]
  },
  {
   "cell_type": "code",
   "execution_count": 3,
   "metadata": {},
   "outputs": [],
   "source": [
    "def updatests1(index, testlist):\n",
    "    y = testlist[index]\n",
    "    for _ in range(numiter):\n",
    "        y += index"
   ]
  },
  {
   "cell_type": "code",
   "execution_count": 4,
   "metadata": {},
   "outputs": [],
   "source": [
    "def updatests2(index, testlist):\n",
    "    for _ in range(numiter):\n",
    "        testlist[index] += index "
   ]
  },
  {
   "cell_type": "code",
   "execution_count": 6,
   "metadata": {},
   "outputs": [
    {
     "name": "stdout",
     "output_type": "stream",
     "text": [
      "5.326629638671875\n",
      "[0, 0, 0, 0, 0, 0, 0, 0, 0, 0, 0, 0, 0, 0, 0, 0, 0, 0, 0, 0, 0, 0, 0, 0, 0, 0, 0, 0, 0, 0, 0, 0, 0, 0, 0, 0, 0, 0, 0, 0, 0, 0, 0, 0, 0, 0, 0, 0, 0, 0]\n",
      "[0, 1000000, 2000000, 3000000, 4000000, 5000000, 6000000, 7000000, 8000000, 9000000, 10000000, 11000000, 12000000, 13000000, 14000000, 15000000, 16000000, 17000000, 18000000, 19000000, 20000000, 21000000, 22000000, 23000000, 24000000, 25000000, 26000000, 27000000, 28000000, 29000000, 30000000, 31000000, 32000000, 33000000, 34000000, 35000000, 36000000, 37000000, 38000000, 39000000, 40000000, 41000000, 42000000, 43000000, 44000000, 45000000, 46000000, 47000000, 48000000, 49000000]\n"
     ]
    }
   ],
   "source": [
    "testlist1 = [0 for i in range(numstates)]\n",
    "testlist2 = [0 for i in range(numstates)]\n",
    "\n",
    "t1 = time()\n",
    "\n",
    "for index in range(len(testlist1)):\n",
    "    updatests1(index, testlist1)\n",
    "    updatests2(index, testlist2)\n",
    "t2 = time()\n",
    "print(t2-t1)\n",
    "    \n",
    "print(testlist1)\n",
    "print(testlist2)"
   ]
  },
  {
   "cell_type": "code",
   "execution_count": 7,
   "metadata": {},
   "outputs": [],
   "source": [
    "d = {'nb': 10, 'nm':2}"
   ]
  },
  {
   "cell_type": "code",
   "execution_count": 8,
   "metadata": {},
   "outputs": [],
   "source": [
    "if 'nb' in d:\n",
    "    d['nb'] += 1"
   ]
  },
  {
   "cell_type": "code",
   "execution_count": 9,
   "metadata": {},
   "outputs": [
    {
     "data": {
      "text/plain": [
       "{'nb': 11, 'nm': 2}"
      ]
     },
     "execution_count": 9,
     "metadata": {},
     "output_type": "execute_result"
    }
   ],
   "source": [
    "d"
   ]
  },
  {
   "cell_type": "code",
   "execution_count": 23,
   "metadata": {},
   "outputs": [],
   "source": [
    "def test(**kwargs):\n",
    "    a = kwargs.get('a')\n",
    "    a[0] += 2"
   ]
  },
  {
   "cell_type": "code",
   "execution_count": 24,
   "metadata": {},
   "outputs": [],
   "source": [
    "a = [0,1]\n",
    "kw = {'a': a}\n",
    "test(**kw)"
   ]
  },
  {
   "cell_type": "code",
   "execution_count": 25,
   "metadata": {},
   "outputs": [
    {
     "data": {
      "text/plain": [
       "[2, 1]"
      ]
     },
     "execution_count": 25,
     "metadata": {},
     "output_type": "execute_result"
    }
   ],
   "source": [
    "a"
   ]
  },
  {
   "cell_type": "code",
   "execution_count": null,
   "metadata": {},
   "outputs": [],
   "source": []
  }
 ],
 "metadata": {
  "kernelspec": {
   "display_name": "Python 3",
   "language": "python",
   "name": "python3"
  },
  "language_info": {
   "codemirror_mode": {
    "name": "ipython",
    "version": 3
   },
   "file_extension": ".py",
   "mimetype": "text/x-python",
   "name": "python",
   "nbconvert_exporter": "python",
   "pygments_lexer": "ipython3",
   "version": "3.7.4"
  }
 },
 "nbformat": 4,
 "nbformat_minor": 2
}
