{
 "cells": [
  {
   "cell_type": "code",
   "execution_count": 1,
   "metadata": {},
   "outputs": [],
   "source": [
    "import os,sys,inspect\n",
    "currentdir = os.path.dirname(os.path.abspath(inspect.getfile(inspect.currentframe())))\n",
    "parentdir = os.path.dirname(currentdir)\n",
    "sys.path.insert(0,parentdir)"
   ]
  },
  {
   "cell_type": "code",
   "execution_count": 2,
   "metadata": {},
   "outputs": [],
   "source": [
    "import DualwormFunctions as dw\n",
    "import Observables as obs\n",
    "\n",
    "#%load_ext line_profiler\n",
    "#%load_ext memory_profiler\n",
    "\n",
    "import RunBasis\n",
    "import argparse\n",
    "import StartStates as strst\n",
    "import numpy as np\n",
    "\n",
    "import AnalysisFunctions as af # functions to make the analysis code cleaner\n",
    "import KagomeDrawing as kdraw\n",
    "    #plots using matplotlib\n",
    "import matplotlib.pyplot as plt\n",
    "%matplotlib inline\n",
    "\n",
    "#import yep"
   ]
  },
  {
   "cell_type": "code",
   "execution_count": 3,
   "metadata": {},
   "outputs": [],
   "source": [
    "nst = 2\n",
    "nsm = 32;\n",
    "nips = 32;\n",
    "nrps = 1;# ALWAYS\n",
    "nb = 16\n",
    "measperiod =1; # make sure measperiod never commensurate with 2\n",
    "nt = 128\n",
    "nh = 1\n",
    "ncores = 4\n",
    "nmaxiter = 32\n",
    "L = 4\n",
    "J1 = 1\n",
    "J2 = 0.1\n",
    "h = 0\n",
    "\n",
    "stroutput = \"PSIJ1J2_J1={0}_J2={2}_L={1}_nrps={3}_mp={4}_nips32\".format(J1,L,J2,nrps,measperiod)"
   ]
  },
  {
   "cell_type": "code",
   "execution_count": 4,
   "metadata": {},
   "outputs": [],
   "source": [
    "def genArgs():\n",
    "    parser = argparse.ArgumentParser()\n",
    "    \n",
    "    parser.add_argument('-f', type = str)\n",
    "\n",
    "    parser.add_argument('--L', type = int, default = L, help = 'Lattice side size')\n",
    "\n",
    "    # COUPLINGS\n",
    "    parser.add_argument('--J1', type = float, default = J1,\n",
    "                        help = 'NN coupling') # nearest-neighbour coupling\n",
    "    parser.add_argument('--J2', type = float, default = J2,\n",
    "                        help = '2nd NN coupling') # 2nd NN coupling\n",
    "    parser.add_argument('--J3', type = float, default = 0.0,\n",
    "                        help = '3rd NN coupling') # 3rd NN coupling\n",
    "    parser.add_argument('--J4', type = float, default = 0.0,\n",
    "                        help = '4th NN coupling') \n",
    "    #NUMBER OF STEPS AND ITERATIONS\n",
    "    parser.add_argument('--nst', type = int, default = nst,\n",
    "                        help = 'number of thermalisation steps') # number of thermalisation steps\n",
    "    parser.add_argument('--nsm', type = int, default = nsm,\n",
    "                        help = 'number of measurements steps') # number of measurement steps\n",
    "    parser.add_argument('--nips', type = int, default = nips,\n",
    "                        help = 'number of worm constructions per MC step')\n",
    "    parser.add_argument('--nrps', type = int, default = nrps,\n",
    "                        help = 'number of replica loops per MC step')\n",
    "    parser.add_argument('--measperiod', type = int, default = measperiod,\n",
    "                        help = 'number of nips worm building + swaps between measurements')\n",
    "    parser.add_argument('--nb', type = int, default = nb,\n",
    "                        help = 'number of bins')\n",
    "\n",
    "    #PARALLELISATION\n",
    "    parser.add_argument('--ncores', type = int, default = ncores,\n",
    "                        help = 'number of threads to use')\n",
    "\n",
    "    \n",
    "    # INITIALISATION PARAMETERS\n",
    "    parser.add_argument('--randominit', default = True, action ='store_true',\n",
    "                        help = 'intialise the states randomly')\n",
    "    parser.add_argument('--same', default = False, action = 'store_true',\n",
    "                        help = '''initialise all temperatures with the same\n",
    "                        state (debug purposes)''')\n",
    "    parser.add_argument('--magninit', default = False, action = 'store_true',\n",
    "                        help = '''initialise all the temperature with\n",
    "                        one of the m=1/3 GS''')\n",
    "    parser.add_argument('--magnstripes', default = False, action = 'store_true',\n",
    "                       help = '''initialise all the temperature with\n",
    "                       m=1/3 stripes''')\n",
    "    parser.add_argument('--maxflip', default = False, action = 'store_true',\n",
    "                       help = '''initialise all the temperature with\n",
    "                       maximally flippable plateau''')\n",
    "    parser.add_argument('--loadfromfile', default = False, action = 'store_true',\n",
    "                       help = '''initialise all the states with\n",
    "                       results from a previously performed simulations''')\n",
    "    parser.add_argument('--filename', type = str, default = 'JustSomeJ1-1J21J31Test2_step1_folder',\n",
    "                       help = '''initialise all the states with\n",
    "                       results from a previously performed simulations''')\n",
    "    \n",
    "    #WORM PARAMETERS\n",
    "    parser.add_argument('--nmaxiter', type = int, default = nmaxiter,\n",
    "                        help = '''maximal number of segments in a loop update over the\n",
    "                        size of the lattice (1 = 1times the number of dualbonds in the\n",
    "                        lattice)''')\n",
    "    parser.add_argument('--measupdate', default = False, action = 'store_true',\n",
    "                       help = '''activate to mimic the action of the measuring tip''')\n",
    "    parser.add_argument('--measupdatev', type = int, default = 0,\n",
    "                       help = '''select the version of measupdate''')\n",
    "    parser.add_argument('--measupdatesave', default = False, action = 'store_true',\n",
    "                       help = '''activate to cancel measurement update before continuing''')\n",
    "    parser.add_argument('--p', type = float, default = 0, \n",
    "                       help = '''version 0: prob of the measuring tip flipping the spin (number between 0 and 1)\n",
    "                       \\n version 1: htip/J (try 0, 2, 4)''')\n",
    "    parser.add_argument('--ssf', default = False, action = 'store_true',\n",
    "                        help = 'activate for single spin flip update')\n",
    "    parser.add_argument('--notfullssfupdate', default = False, action = 'store_true',\n",
    "                        help = 'whether to fully update the state or not at each ssf step *during the measurement phase*')\n",
    "    parser.add_argument('--alternate', default = False, action = 'store_true',\n",
    "                        help = 'activate for single spin flip update and dw update')\n",
    "    parser.add_argument('--checkgs', default = True, action = 'store_true',\n",
    "                        help = 'activate to debug ssf')\n",
    "    \n",
    "    #TEMPERATURE PARAMETERS\n",
    "    parser.add_argument('--t_list', nargs = '+', type = float, default = [0.0005,60],\n",
    "                        help = 'list of limiting temperature values')\n",
    "    parser.add_argument('--nt_list', nargs = '+', type = int, default = [nt],\n",
    "                        help = 'list of number of temperatures in between the given limiting temperatures')\n",
    "    parser.add_argument('--log_tlist', default = True, action='store_true',\n",
    "                        help = 'state whether you want the temperature be spaced log-like or linear-like (activate if you want log)')\n",
    "    parser.add_argument('--stat_temps_lims', nargs = '+', type = float,\n",
    "                        help = '''limiting temperatures for the various ranges of\n",
    "                        measurements''') \n",
    "                        #default will be set to none, and then we can decide what to do later on.\n",
    "    #MAGNETIC FIELD PARAMETERS\n",
    "    parser.add_argument('--h_list', nargs = '+', default = [0,h],type = float,\n",
    "                        help = 'list of limiting magnetic field values')\n",
    "    parser.add_argument('--nh_list', nargs = '+', default = [nh], type = int,\n",
    "                        help = 'list of number of magnetic fields in between the given limiting temperatures')\n",
    "    parser.add_argument('--stat_hfields_lims', nargs = '+', type = float,\n",
    "                help = '''limiting magnetic fields for the various ranges of\n",
    "                measurements''') \n",
    "    #MEASUREMENTS PARAMETERS\n",
    "    parser.add_argument('--generatingMode', default = False, action = 'store_true',\n",
    "                        help = 'activate if you want to generate a number of ground states and low energy states')\n",
    "    parser.add_argument('--energy', default = True, action = 'store_true',\n",
    "                        help = 'activate if you want to save the energy')\n",
    "    parser.add_argument('--magnetisation', default = True, action = 'store_true',\n",
    "                        help = 'activate if you want to save the magnetisation')\n",
    "    parser.add_argument('--charges', default = False, action = 'store_true',\n",
    "                        help = 'activate if you want to save the charges')\n",
    "    parser.add_argument('--frustratedT', default = True, action = 'store_true',\n",
    "                        help = 'activate if you want to save the frustrated triangles')\n",
    "    parser.add_argument('--correlations', default = True, action = 'store_true',\n",
    "                        help = 'activate if you want to save either central or all correlations')\n",
    "    parser.add_argument('--both', default = True, action = 'store_true',\n",
    "                        help = '''activate if you want to save both types of correlations''')\n",
    "    parser.add_argument('--firstcorrelations', default = False, action = 'store_true',\n",
    "                        help = 'activate if you want to save first correlations, otherwise will save central')\n",
    "    parser.add_argument('--sref0', nargs = '+', type = int, default = [L-2, L-1, 0], help = 'ref spin 0')\n",
    "    parser.add_argument('--sref1', nargs = '+', type = int, default = [L-2, L-1, 1], help = 'ref spin 1')\n",
    "    parser.add_argument('--sref2', nargs = '+', type = int, default = [L-2, L-1, 2], help = 'ref spin 2')\n",
    "    #SAVE\n",
    "    parser.add_argument('--output', type = str, default = stroutput, help = 'saving filename (.pkl will be added)')\n",
    "    parser.add_argument('--verbose',default = False, action = 'store_true',\n",
    "                        help = 'activate verbosity')\n",
    "    args = parser.parse_args()\n",
    "    return args\n",
    "\n"
   ]
  },
  {
   "cell_type": "code",
   "execution_count": 5,
   "metadata": {},
   "outputs": [],
   "source": [
    "def callRunBasis():\n",
    "    args = genArgs()\n",
    "    return RunBasis.main(args)"
   ]
  },
  {
   "cell_type": "code",
   "execution_count": 6,
   "metadata": {
    "scrolled": false
   },
   "outputs": [
    {
     "name": "stdout",
     "output_type": "stream",
     "text": [
      "-------------------Initialisation--------------------\n",
      "./PSIJ1J2_J1=1_J2=0.1_L=4_nrps=1_mp=1_nips32_folder/backup.hkl\n",
      "Lattice side size:  4\n",
      "J1  1\n",
      "J2  0.1\n",
      "J3  0.0\n",
      "J3st  0.0\n",
      "Couplings extracted\n",
      "Hamiltonian expression (without field) computed\n",
      "Number of temperatures:  128\n",
      "Temperatures: [5.00000000e-04 5.48230960e-04 6.01114371e-04 6.59099017e-04\n",
      " 7.22676973e-04 7.92387781e-04 8.68823028e-04 9.52631365e-04\n",
      " 1.04452401e-03 1.14528081e-03 1.25575679e-03 1.37688950e-03\n",
      " 1.50970691e-03 1.65533613e-03 1.81501303e-03 1.99009267e-03\n",
      " 2.18206083e-03 2.39254661e-03 2.62333625e-03 2.87638830e-03\n",
      " 3.15385024e-03 3.45807669e-03 3.79164940e-03 4.15739918e-03\n",
      " 4.55842989e-03 4.99814478e-03 5.48027542e-03 6.00891331e-03\n",
      " 6.58854462e-03 7.22408828e-03 7.92093771e-03 8.68500656e-03\n",
      " 9.52277897e-03 1.04413645e-02 1.14485586e-02 1.25529085e-02\n",
      " 1.37637862e-02 1.50914674e-02 1.65472193e-02 1.81433958e-02\n",
      " 1.98935426e-02 2.18125119e-02 2.39165887e-02 2.62236288e-02\n",
      " 2.87532104e-02 3.15268002e-02 3.45679359e-02 3.79024253e-02\n",
      " 4.15585660e-02 4.55673851e-02 4.99629025e-02 5.47824200e-02\n",
      " 6.00668374e-02 6.58609999e-02 7.22140783e-02 7.91799870e-02\n",
      " 8.68178405e-02 9.51924560e-02 1.04374903e-01 1.14443107e-01\n",
      " 1.25482508e-01 1.37586792e-01 1.50858678e-01 1.65410796e-01\n",
      " 1.81366639e-01 1.98861613e-01 2.18044186e-01 2.39077146e-01\n",
      " 2.62138987e-01 2.87425417e-01 3.15151024e-01 3.45551097e-01\n",
      " 3.78883619e-01 4.15431460e-01 4.55504776e-01 4.99443641e-01\n",
      " 5.47620934e-01 6.00445500e-01 6.58365626e-01 7.21872838e-01\n",
      " 7.91506077e-01 8.67856273e-01 9.51571355e-01 1.04336175e+00\n",
      " 1.14400643e+00 1.25435949e+00 1.37535741e+00 1.50802703e+00\n",
      " 1.65349421e+00 1.81299344e+00 1.98787826e+00 2.17963282e+00\n",
      " 2.38988438e+00 2.62041722e+00 2.87318769e+00 3.15034089e+00\n",
      " 3.45422882e+00 3.78743037e+00 4.15277317e+00 4.55335764e+00\n",
      " 4.99258326e+00 5.47417742e+00 6.00222709e+00 6.58121343e+00\n",
      " 7.21604992e+00 7.91212394e+00 8.67534261e+00 9.51218281e+00\n",
      " 1.04297462e+01 1.14358196e+01 1.25389407e+01 1.37484710e+01\n",
      " 1.50746749e+01 1.65288069e+01 1.81232074e+01 1.98714067e+01\n",
      " 2.17882408e+01 2.38899763e+01 2.61944493e+01 2.87212162e+01\n",
      " 3.14917198e+01 3.45294715e+01 3.78602506e+01 4.15123231e+01\n",
      " 4.55166815e+01 4.99073079e+01 5.47214627e+01 6.00000000e+01]\n",
      "Number of magnetic fields:  1\n",
      "Magnetic fields:  [0.]\n",
      "ids2walker shape (128, 1)\n",
      "Fully random initialisation =  True\n",
      "Identical initialisation =  False\n",
      "Magnetisation initialisation =  False\n"
     ]
    },
    {
     "ename": "AttributeError",
     "evalue": "'Namespace' object has no attribute 'testinit'",
     "output_type": "error",
     "traceback": [
      "\u001b[0;31m---------------------------------------------------------------------------\u001b[0m",
      "\u001b[0;31mAttributeError\u001b[0m                            Traceback (most recent call last)",
      "\u001b[0;32m<ipython-input-6-c33c51abfefc>\u001b[0m in \u001b[0;36m<module>\u001b[0;34m\u001b[0m\n\u001b[1;32m      2\u001b[0m \u001b[0;31m#yep.start(stroutput+'.log')\u001b[0m\u001b[0;34m\u001b[0m\u001b[0;34m\u001b[0m\u001b[0;34m\u001b[0m\u001b[0m\n\u001b[1;32m      3\u001b[0m \u001b[0;31m#%lprun -f dw.mcs_swaps\u001b[0m\u001b[0;34m\u001b[0m\u001b[0;34m\u001b[0m\u001b[0;34m\u001b[0m\u001b[0m\n\u001b[0;32m----> 4\u001b[0;31m \u001b[0;34m[\u001b[0m\u001b[0mmeanstat\u001b[0m\u001b[0;34m,\u001b[0m \u001b[0mswapst\u001b[0m\u001b[0;34m,\u001b[0m \u001b[0mswapsh\u001b[0m\u001b[0;34m,\u001b[0m \u001b[0mfailedupdatesth\u001b[0m\u001b[0;34m,\u001b[0m \u001b[0mfailedupdates\u001b[0m\u001b[0;34m,\u001b[0m \u001b[0mfailedssfupdates\u001b[0m\u001b[0;34m]\u001b[0m \u001b[0;34m=\u001b[0m \u001b[0mcallRunBasis\u001b[0m\u001b[0;34m(\u001b[0m\u001b[0;34m)\u001b[0m\u001b[0;34m\u001b[0m\u001b[0;34m\u001b[0m\u001b[0m\n\u001b[0m\u001b[1;32m      5\u001b[0m \u001b[0;31m#yep.stop()\u001b[0m\u001b[0;34m\u001b[0m\u001b[0;34m\u001b[0m\u001b[0;34m\u001b[0m\u001b[0m\n",
      "\u001b[0;32m<ipython-input-5-ca2c44349815>\u001b[0m in \u001b[0;36mcallRunBasis\u001b[0;34m()\u001b[0m\n\u001b[1;32m      1\u001b[0m \u001b[0;32mdef\u001b[0m \u001b[0mcallRunBasis\u001b[0m\u001b[0;34m(\u001b[0m\u001b[0;34m)\u001b[0m\u001b[0;34m:\u001b[0m\u001b[0;34m\u001b[0m\u001b[0;34m\u001b[0m\u001b[0m\n\u001b[1;32m      2\u001b[0m     \u001b[0margs\u001b[0m \u001b[0;34m=\u001b[0m \u001b[0mgenArgs\u001b[0m\u001b[0;34m(\u001b[0m\u001b[0;34m)\u001b[0m\u001b[0;34m\u001b[0m\u001b[0;34m\u001b[0m\u001b[0m\n\u001b[0;32m----> 3\u001b[0;31m     \u001b[0;32mreturn\u001b[0m \u001b[0mRunBasis\u001b[0m\u001b[0;34m.\u001b[0m\u001b[0mmain\u001b[0m\u001b[0;34m(\u001b[0m\u001b[0margs\u001b[0m\u001b[0;34m)\u001b[0m\u001b[0;34m\u001b[0m\u001b[0;34m\u001b[0m\u001b[0m\n\u001b[0m",
      "\u001b[0;32m~/Documents/Codes_DipolarIsingModel/myopic-dual-worm/dualworm-kagome/RunBasis.py\u001b[0m in \u001b[0;36mmain\u001b[0;34m(args)\u001b[0m\n\u001b[1;32m     82\u001b[0m     (states, energies, spinstates, ref_energies, checkgsid)=    rbf.StatesAndEnergyInit(args, backup, loadbackup,hamiltonian,\n\u001b[1;32m     83\u001b[0m                             \u001b[0mids2walker\u001b[0m\u001b[0;34m,\u001b[0m \u001b[0mnt\u001b[0m\u001b[0;34m,\u001b[0m \u001b[0mnh\u001b[0m\u001b[0;34m,\u001b[0m \u001b[0mhfields\u001b[0m\u001b[0;34m,\u001b[0m \u001b[0md_ijl\u001b[0m\u001b[0;34m,\u001b[0m\u001b[0;34m\u001b[0m\u001b[0;34m\u001b[0m\u001b[0m\n\u001b[0;32m---> 84\u001b[0;31m                             d_2s, s_ijl, couplings, L)\n\u001b[0m\u001b[1;32m     85\u001b[0m     \u001b[0;31m# Checks\u001b[0m\u001b[0;34m\u001b[0m\u001b[0;34m\u001b[0m\u001b[0;34m\u001b[0m\u001b[0m\n\u001b[1;32m     86\u001b[0m     \u001b[0mok\u001b[0m \u001b[0;34m=\u001b[0m \u001b[0mrbf\u001b[0m\u001b[0;34m.\u001b[0m\u001b[0mCheckGs\u001b[0m\u001b[0;34m(\u001b[0m\u001b[0margs\u001b[0m\u001b[0;34m,\u001b[0m \u001b[0mnt\u001b[0m\u001b[0;34m,\u001b[0m \u001b[0mnh\u001b[0m\u001b[0;34m,\u001b[0m \u001b[0mref_energies\u001b[0m\u001b[0;34m,\u001b[0m \u001b[0menergies\u001b[0m\u001b[0;34m,\u001b[0m \u001b[0mcheckgsid\u001b[0m\u001b[0;34m)\u001b[0m\u001b[0;34m\u001b[0m\u001b[0;34m\u001b[0m\u001b[0m\n",
      "\u001b[0;32m~/Documents/Codes_DipolarIsingModel/myopic-dual-worm/dualworm-kagome/RunBasisFunctions.py\u001b[0m in \u001b[0;36mStatesAndEnergyInit\u001b[0;34m(args, backup, loadbackup, hamiltonian, ids2walker, nt, nh, hfields, d_ijl, d_2s, s_ijl, couplings, L)\u001b[0m\n\u001b[1;32m    165\u001b[0m         \u001b[0mmaxflip\u001b[0m \u001b[0;34m=\u001b[0m \u001b[0margs\u001b[0m\u001b[0;34m.\u001b[0m\u001b[0mmaxflip\u001b[0m\u001b[0;34m\u001b[0m\u001b[0;34m\u001b[0m\u001b[0m\n\u001b[1;32m    166\u001b[0m         \u001b[0mmagnstripes\u001b[0m \u001b[0;34m=\u001b[0m \u001b[0margs\u001b[0m\u001b[0;34m.\u001b[0m\u001b[0mmagnstripes\u001b[0m\u001b[0;34m\u001b[0m\u001b[0;34m\u001b[0m\u001b[0m\n\u001b[0;32m--> 167\u001b[0;31m         \u001b[0mtestinit\u001b[0m \u001b[0;34m=\u001b[0m \u001b[0margs\u001b[0m\u001b[0;34m.\u001b[0m\u001b[0mtestinit\u001b[0m\u001b[0;34m\u001b[0m\u001b[0;34m\u001b[0m\u001b[0m\n\u001b[0m\u001b[1;32m    168\u001b[0m \u001b[0;34m\u001b[0m\u001b[0m\n\u001b[1;32m    169\u001b[0m         kwinit = {'random': randominit, 'same': same, \n",
      "\u001b[0;31mAttributeError\u001b[0m: 'Namespace' object has no attribute 'testinit'"
     ]
    }
   ],
   "source": [
    "#%%prun -s  -T prun0\n",
    "#yep.start(stroutput+'.log')\n",
    "#%lprun -f dw.mcs_swaps \n",
    "[meanstat, swapst, swapsh, failedupdatesth, failedupdates, failedssfupdates] = callRunBasis()\n",
    "#yep.stop()"
   ]
  },
  {
   "cell_type": "code",
   "execution_count": null,
   "metadata": {
    "scrolled": false
   },
   "outputs": [],
   "source": [
    "54/(nsm*measperiod*nips)"
   ]
  },
  {
   "cell_type": "code",
   "execution_count": null,
   "metadata": {},
   "outputs": [],
   "source": [
    "import importlib\n",
    "importlib.reload(af)"
   ]
  },
  {
   "cell_type": "code",
   "execution_count": null,
   "metadata": {},
   "outputs": [],
   "source": [
    "# Create a folder to save the pictures\n",
    "foldername = \"./\" + stroutput + \"_folder/\" \n",
    "results_foldername = 'Results/'\n",
    "os.makedirs(foldername + results_foldername, exist_ok = True)\n",
    "\n",
    "filenamelist = [\"backup\"]\n",
    "n = len(filenamelist)"
   ]
  },
  {
   "cell_type": "code",
   "execution_count": null,
   "metadata": {},
   "outputs": [],
   "source": [
    "[L, numsites, J1, J2, J3, J3st, J4, nb, num_in_bin, temperatures, nt,\n",
    " stat_temps, temperatures_plots, hfields, nh,\n",
    " stat_hfields, hfields_plots, listfunctions, sref, idswalker] =\\\n",
    "af.LoadParameters(foldername, filenamelist)"
   ]
  },
  {
   "cell_type": "code",
   "execution_count": null,
   "metadata": {},
   "outputs": [],
   "source": [
    "#s_ijl, ijl_s = kdraw.createspinsitetable(L[0])\n",
    "#print(\"nb \", nb, \"num_in_bin \", num_in_bin)\n",
    "#swapst_th, swapsh_th, swapst, swapsh = af.LoadSwaps(foldername, filenamelist, nb, num_in_bin, nh, nt)\n",
    "#\n",
    "n = len(L)\n",
    "failedth, failedssfth, failed, failedssf = \\\n",
    "af.LoadUpdates(foldername, filenamelist, nb, num_in_bin, [9*L[i]**2 for i in range(n)])\n"
   ]
  },
  {
   "cell_type": "code",
   "execution_count": null,
   "metadata": {},
   "outputs": [],
   "source": [
    "tidmin = 0\n",
    "tidmax = [len(stat_temps[i]) for i in range(n)]"
   ]
  },
  {
   "cell_type": "code",
   "execution_count": null,
   "metadata": {
    "scrolled": true
   },
   "outputs": [],
   "source": [
    "af.SwapsAnalysis(L, n, tidmin, tidmax, temperatures, hfields,\n",
    "                 foldername, results_foldername, swapst, swapsh)"
   ]
  },
  {
   "cell_type": "code",
   "execution_count": null,
   "metadata": {},
   "outputs": [],
   "source": [
    "af.FailedAnalysis(L, n, tidmin, tidmax, temperatures, hfields,\n",
    "                 foldername, results_foldername,failed, failedssf)"
   ]
  },
  {
   "cell_type": "code",
   "execution_count": null,
   "metadata": {
    "scrolled": false
   },
   "outputs": [],
   "source": [
    "kw = {'binning': False, 'plzplot': False, 'plotmin': 0, 'plotmax': 16}\n",
    "[t_h_MeanE, t_h_MeanEsq, t_h_varMeanE, t_h_varMeanEsq, C, ErrC] = \\\n",
    " af.LoadEnergy(foldername, filenamelist, numsites,\n",
    "               nb, stat_temps, temperatures, stat_hfields,\n",
    "               listfunctions, **kw)\n",
    "\n",
    "temperatures_plots = np.array(temperatures_plots)\n",
    "### Energy\n",
    "S0 = np.log(2)\n",
    "kw = {'gscheck': False, 'alpha':0.1}\n",
    "af.BasicPlotsE(L, n, tidmin, tidmax, temperatures_plots, hfields_plots, foldername,\n",
    "                results_foldername, filenamelist, t_h_MeanE, t_h_MeanEsq, t_h_varMeanE,\n",
    "                t_h_varMeanEsq, C, ErrC, J1, J2, J3, J4, **kw)\n",
    "plt.show()"
   ]
  },
  {
   "cell_type": "code",
   "execution_count": null,
   "metadata": {
    "scrolled": true
   },
   "outputs": [],
   "source": [
    "kw = {'binning': True, 'plzplot': False, 'plotmin': 0, 'plotmax': 16}\n",
    "[t_h_MeanM, t_h_MeanMsq, t_h_varMeanM, t_h_varMeanMsq, Chi, ErrChi] = \\\n",
    " af.LoadMagnetisation(foldername, filenamelist, numsites,\n",
    "               nb, stat_temps, temperatures, stat_hfields,\n",
    "               listfunctions, **kw)\n",
    "tidmin = 0\n",
    "tidmax = [len(stat_temps[i]) for i in range(n)]\n",
    "temperatures_plots = np.array(temperatures_plots)\n",
    "### Energy\n",
    "S0 = np.log(2)\n",
    "kw = {'gscheck': False}\n",
    "af.BasicPlotsM(L, n, tidmin, tidmax, temperatures_plots, hfields_plots, foldername,\n",
    "                results_foldername, filenamelist, t_h_MeanM, t_h_MeanMsq, t_h_varMeanM,\n",
    "                t_h_varMeanMsq, Chi, ErrChi, J1, J2, J3, J4, **kw)\n",
    "plt.show()"
   ]
  },
  {
   "cell_type": "code",
   "execution_count": null,
   "metadata": {},
   "outputs": [],
   "source": [
    "rmmag = True"
   ]
  },
  {
   "cell_type": "code",
   "execution_count": null,
   "metadata": {},
   "outputs": [],
   "source": [
    "kw = {'rmmag':rmmag}\n",
    "t_h_MeanFc, t_h_varMeanFc, t_h_MeanSi, t_h_varMeanSi= \\\n",
    " af.LoadFirstCorrelations(foldername, filenamelist, listfunctions, stat_temps[0:4], stat_hfields, nb, t_h_varMeanMsq,**kw)\n"
   ]
  },
  {
   "cell_type": "code",
   "execution_count": null,
   "metadata": {},
   "outputs": [],
   "source": [
    "for i in range(n):\n",
    "    addsave = \"J2ovJ1\" +\"={:4f}\".format(J2[i]/J1[i])\n",
    "    addtitle = r\"$J_2/J_1$={0}\".format(J2[i]/J1[i])\n",
    "    fig, ax = plt.subplots(1,1,figsize = (11,9))\n",
    "    af.BasicPlotsFirstCorrelations(L, i, t_h_MeanFc, temperatures_plots, \n",
    "                                   t_h_varMeanFc, foldername, \n",
    "                                   results_foldername, filenamelist,\n",
    "                                   tmin = 0, setyticks = np.arange(-0.3,0.7,0.1),\n",
    "                                   addtitle = addtitle,\n",
    "                                   save = False, createfig = False, ax = ax)\n",
    "    plt.legend()\n",
    "    plt.savefig(\"./\" + foldername + results_foldername + \"/FirstCorrelations_rmmag{0}.png\".format(rmmag))"
   ]
  },
  {
   "cell_type": "code",
   "execution_count": null,
   "metadata": {},
   "outputs": [],
   "source": [
    "for i in range(n):\n",
    "    addsave = \"J2ovJ1\" +\"={0}\".format(J2[i]/J1[i])\n",
    "    addtitle = r\"$J_2/J_1$={0}\".format(J2[i]/J1[i])\n",
    "    af.BasicPlotsFirstCorrelations(L, i, t_h_MeanFc, temperatures_plots, \n",
    "                                   t_h_varMeanFc, foldername, \n",
    "                                   results_foldername, filenamelist,\n",
    "                                   tmin = 0, setyticks = np.arange(-0.3,0.7,0.1),\n",
    "                                   addtitle = addtitle,\n",
    "                                   save = False, log = False)\n",
    "    plt.gca().set_prop_cycle(None)\n",
    "    \n",
    "    plt.xlim([0, 8])\n",
    "    plt.ylim([-0.35, 0.2])\n",
    "    plt.yticks(np.arange(-0.35,0.25,0.05))\n",
    "    plt.legend()\n",
    "    plt.savefig(\"./\" + foldername + results_foldername + \"/ZoomFirstCorrelations_Linear_rmmag{0}.png\".format(rmmag))"
   ]
  },
  {
   "cell_type": "code",
   "execution_count": null,
   "metadata": {},
   "outputs": [],
   "source": [
    "kw = {'rmmag': rmmag}\n",
    "t_h_MeanSs, t_h_varMeanSs, t_h_MeanSi, t_h_varMeanSi, t_h_MeanCorr, t_h_errCorrEstim = \\\n",
    " af.LoadCentralCorrelations(foldername, filenamelist, listfunctions, sref, stat_temps[0:4], stat_hfields, nb, **kw)"
   ]
  },
  {
   "cell_type": "code",
   "execution_count": null,
   "metadata": {},
   "outputs": [],
   "source": [
    "### COMPUTING CORRELATIONS FROM <SISJ> AND <SI> and plotting in 2D\n",
    "ploth = False\n",
    "if not ploth:\n",
    "    tid = 0\n",
    "    hid = 0\n",
    "    rid = tid\n",
    "else:\n",
    "    tid = 9\n",
    "    hid = 15\n",
    "    rid = hid\n",
    "\n",
    "#[corr, errcorr, maxerr] = af.PrepPlot2DCorrelations(rid, n, \n",
    "#                                                t_h_MeanCorr,\n",
    "#                                                t_h_errCorrEstim,\n",
    "#                                                t_h_MeanSi,\n",
    "#                                                hfields_plots,\n",
    "#                                                temperatures_plots,\\\n",
    "#                                                ploth = ploth)\n",
    "print(\"t = \",temperatures_plots[0][tid])\n",
    "print(\"h = \",hfields_plots[0][hid])"
   ]
  },
  {
   "cell_type": "code",
   "execution_count": null,
   "metadata": {
    "scrolled": false
   },
   "outputs": [],
   "source": [
    "af.PlotFirstCorrelations(0, L,foldername, results_foldername, \n",
    "                         hfields_plots, temperatures_plots,\n",
    "                         t_h_MeanCorr, t_h_errCorrEstim, sref,\\\n",
    "                         distmax = 2, ploth = ploth,\n",
    "                         plotFirst = True, t_h_MeanFc = t_h_MeanFc)\n",
    "plt.plot([1e-3,60],[-0.179, -0.179])\n",
    "plt.fill_between([1e-3,60],[-0.2, -0.2], [-0.157, -0.157], alpha = 0.2)"
   ]
  },
  {
   "cell_type": "code",
   "execution_count": null,
   "metadata": {},
   "outputs": [],
   "source": [
    "t_h_MeanFrustratedTriangles, t_h_varMeanFrustratedTriangles= \\\n",
    " af.LoadFrustratedTriangles(foldername, filenamelist, listfunctions, stat_temps, stat_hfields, nb, **kw)"
   ]
  },
  {
   "cell_type": "code",
   "execution_count": null,
   "metadata": {},
   "outputs": [],
   "source": [
    "af.BasicPlotsTriangles(L, n, tidmin, tidmax, temperatures_plots, hfields_plots, foldername,\n",
    "                results_foldername, filenamelist, t_h_MeanFrustratedTriangles,\n",
    "                        t_h_varMeanFrustratedTriangles, **kw)\n",
    "plt.plot([1e-3,60],[0.116, 0.116])\n",
    "plt.fill_between([1e-3,60],[0.11, 0.11], [0.122, 0.122], alpha = 0.2)"
   ]
  },
  {
   "cell_type": "code",
   "execution_count": null,
   "metadata": {},
   "outputs": [],
   "source": []
  }
 ],
 "metadata": {
  "kernelspec": {
   "display_name": "Python 3",
   "language": "python",
   "name": "python3"
  },
  "language_info": {
   "codemirror_mode": {
    "name": "ipython",
    "version": 3
   },
   "file_extension": ".py",
   "mimetype": "text/x-python",
   "name": "python",
   "nbconvert_exporter": "python",
   "pygments_lexer": "ipython3",
   "version": "3.6.9"
  }
 },
 "nbformat": 4,
 "nbformat_minor": 2
}
