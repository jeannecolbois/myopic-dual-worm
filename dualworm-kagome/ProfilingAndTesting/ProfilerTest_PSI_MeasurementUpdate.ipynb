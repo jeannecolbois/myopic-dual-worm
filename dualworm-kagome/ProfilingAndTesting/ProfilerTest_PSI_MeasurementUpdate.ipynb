{
 "cells": [
  {
   "cell_type": "code",
   "execution_count": null,
   "metadata": {},
   "outputs": [],
   "source": [
    "import os,sys,inspect\n",
    "currentdir = os.path.dirname(os.path.abspath(inspect.getfile(inspect.currentframe())))\n",
    "parentdir = os.path.dirname(currentdir)\n",
    "sys.path.insert(0,parentdir)"
   ]
  },
  {
   "cell_type": "code",
   "execution_count": null,
   "metadata": {},
   "outputs": [],
   "source": [
    "import DualwormFunctions as dw\n",
    "import Observables as obs\n",
    "\n",
    "%load_ext line_profiler\n",
    "%load_ext memory_profiler\n",
    "\n",
    "import RunBasis\n",
    "import argparse\n",
    "import StartStates as strst\n",
    "import numpy as np\n",
    "\n",
    "import AnalysisFunctions as af # functions to make the analysis code cleaner\n",
    "import KagomeDrawing as kdraw\n",
    "    #plots using matplotlib\n",
    "import matplotlib.pyplot as plt\n",
    "%matplotlib inline\n",
    "\n",
    "import yep"
   ]
  },
  {
   "cell_type": "code",
   "execution_count": null,
   "metadata": {},
   "outputs": [],
   "source": [
    "nst = 1024\n",
    "nsm = 1024\n",
    "nips = 4;\n",
    "nrps = 4;\n",
    "nb = 32\n",
    "measperiod =4;\n",
    "nt = 32\n",
    "nh = 6\n",
    "ncores = 4\n",
    "nmaxiter = 1\n",
    "L = 4\n",
    "J1 = 1\n",
    "J2 = 0\n",
    "h = 1\n",
    "measupdate = False\n",
    "p = 1 # when v = v1, p = htip/J. Values to try: 0, 2, 4\n",
    "save = False\n",
    "if not measupdate:\n",
    "    p= 0\n",
    "\n",
    "stroutput = \"PSIMeasupdate_RefInField_orig3_J1={0}_J2={3}_L={1}_p={2}_nrps={4}_Both\".format(J1,L,p,J2,nrps)"
   ]
  },
  {
   "cell_type": "code",
   "execution_count": null,
   "metadata": {},
   "outputs": [],
   "source": [
    "def genArgs():\n",
    "    parser = argparse.ArgumentParser()\n",
    "    \n",
    "    parser.add_argument('-f', type = str)\n",
    "\n",
    "    parser.add_argument('--L', type = int, default = L, help = 'Lattice side size')\n",
    "\n",
    "    # COUPLINGS\n",
    "    parser.add_argument('--J1', type = float, default = J1,\n",
    "                        help = 'NN coupling') # nearest-neighbour coupling\n",
    "    parser.add_argument('--J2', type = float, default = J2,\n",
    "                        help = '2nd NN coupling') # 2nd NN coupling\n",
    "    parser.add_argument('--J3', type = float, default = 0.0,\n",
    "                        help = '3rd NN coupling') # 3rd NN coupling\n",
    "    parser.add_argument('--J4', type = float, default = 0.0,\n",
    "                        help = '4th NN coupling') \n",
    "    #NUMBER OF STEPS AND ITERATIONS\n",
    "    parser.add_argument('--nst', type = int, default = nst,\n",
    "                        help = 'number of thermalisation steps') # number of thermalisation steps\n",
    "    parser.add_argument('--nsm', type = int, default = nsm,\n",
    "                        help = 'number of measurements steps') # number of measurement steps\n",
    "    parser.add_argument('--nips', type = int, default = nips,\n",
    "                        help = 'number of worm constructions per MC step')\n",
    "    parser.add_argument('--nrps', type = int, default = nrps,\n",
    "                        help = 'number of replica loops per MC step')\n",
    "    parser.add_argument('--measperiod', type = int, default = measperiod,\n",
    "                        help = 'number of nips worm building + swaps between measurements')\n",
    "    parser.add_argument('--nb', type = int, default = nb,\n",
    "                        help = 'number of bins')\n",
    "\n",
    "    #PARALLELISATION\n",
    "    parser.add_argument('--ncores', type = int, default = ncores,\n",
    "                        help = 'number of threads to use')\n",
    "\n",
    "    \n",
    "    # INITIALISATION PARAMETERS\n",
    "    parser.add_argument('--randominit', default = True, action ='store_true',\n",
    "                        help = 'intialise the states randomly')\n",
    "    parser.add_argument('--same', default = False, action = 'store_true',\n",
    "                        help = '''initialise all temperatures with the same\n",
    "                        state (debug purposes)''')\n",
    "    parser.add_argument('--magninit', default = False, action = 'store_true',\n",
    "                        help = '''initialise all the temperature with\n",
    "                        one of the m=1/3 GS''')\n",
    "    parser.add_argument('--magnstripes', default = False, action = 'store_true',\n",
    "                       help = '''initialise all the temperature with\n",
    "                       m=1/3 stripes''')\n",
    "    parser.add_argument('--maxflip', default = False, action = 'store_true',\n",
    "                       help = '''initialise all the temperature with\n",
    "                       maximally flippable plateau''')\n",
    "    parser.add_argument('--loadfromfile', default = False, action = 'store_true',\n",
    "                       help = '''initialise all the states with\n",
    "                       results from a previously performed simulations''')\n",
    "    parser.add_argument('--filename', type = str, default = 'JustSomeJ1-1J21J31Test2_step1_folder',\n",
    "                       help = '''initialise all the states with\n",
    "                       results from a previously performed simulations''')\n",
    "    \n",
    "    #WORM PARAMETERS\n",
    "    parser.add_argument('--nmaxiter', type = int, default = nmaxiter,\n",
    "                        help = '''maximal number of segments in a loop update over the\n",
    "                        size of the lattice (1 = 1times the number of dualbonds in the\n",
    "                        lattice)''')\n",
    "    parser.add_argument('--measupdate', default = measupdate, action = 'store_true',\n",
    "                       help = '''activate to mimic the action of the measuring tip''')\n",
    "    parser.add_argument('--measupdatev', type = int, default = 0,\n",
    "                       help = '''select the version of measupdate''')\n",
    "    parser.add_argument('--measupdatesave', default = save, action = 'store_true',\n",
    "                       help = '''activate to cancel measurement update before continuing''')\n",
    "    parser.add_argument('--p', type = float, default = p, \n",
    "                       help = '''version 0: prob of the measuring tip flipping the spin (number between 0 and 1)\n",
    "                       \\n version 1: htip/J (try 0, 2, 4)''')\n",
    "    parser.add_argument('--ssf', default = False, action = 'store_true',\n",
    "                        help = 'activate for single spin flip update')\n",
    "    parser.add_argument('--notfullssfupdate', default = False, action = 'store_true',\n",
    "                        help = 'whether to fully update the state or not at each ssf step *during the measurement phase*')\n",
    "    parser.add_argument('--alternate', default = True, action = 'store_true',\n",
    "                        help = 'activate for single spin flip update and dw update')\n",
    "    parser.add_argument('--checkgs', default = True, action = 'store_true',\n",
    "                        help = 'activate to debug ssf')\n",
    "    \n",
    "    #TEMPERATURE PARAMETERS\n",
    "    parser.add_argument('--t_list', nargs = '+', type = float, default = [0.1,60],\n",
    "                        help = 'list of limiting temperature values')\n",
    "    parser.add_argument('--nt_list', nargs = '+', type = int, default = [nt],\n",
    "                        help = 'list of number of temperatures in between the given limiting temperatures')\n",
    "    parser.add_argument('--log_tlist', default = True, action='store_true',\n",
    "                        help = 'state whether you want the temperature be spaced log-like or linear-like (activate if you want log)')\n",
    "    parser.add_argument('--stat_temps_lims', nargs = '+', type = float,\n",
    "                        help = '''limiting temperatures for the various ranges of\n",
    "                        measurements''') \n",
    "                        #default will be set to none, and then we can decide what to do later on.\n",
    "    #MAGNETIC FIELD PARAMETERS\n",
    "    parser.add_argument('--h_list', nargs = '+', default = [0,h],type = float,\n",
    "                        help = 'list of limiting magnetic field values')\n",
    "    parser.add_argument('--nh_list', nargs = '+', default = [nh], type = int,\n",
    "                        help = 'list of number of magnetic fields in between the given limiting temperatures')\n",
    "    parser.add_argument('--stat_hfields_lims', nargs = '+', type = float,\n",
    "                help = '''limiting magnetic fields for the various ranges of\n",
    "                measurements''') \n",
    "    #MEASUREMENTS PARAMETERS\n",
    "    parser.add_argument('--generatingMode', default = False, action = 'store_true',\n",
    "                        help = 'activate if you want to generate a number of ground states and low energy states')\n",
    "    parser.add_argument('--energy', default = True, action = 'store_true',\n",
    "                        help = 'activate if you want to save the energy')\n",
    "    parser.add_argument('--magnetisation', default = True, action = 'store_true',\n",
    "                        help = 'activate if you want to save the magnetisation')\n",
    "    parser.add_argument('--charges', default = True, action = 'store_true',\n",
    "                        help = 'activate if you want to save the charges')\n",
    "    parser.add_argument('--correlations', default = True, action = 'store_true',\n",
    "                        help = 'activate if you want to save either central or all correlations')\n",
    "    parser.add_argument('--both', default = True, action = 'store_true',\n",
    "                        help = '''activate if you want to save both types of correlations''')\n",
    "    parser.add_argument('--firstcorrelations', default = False, action = 'store_true',\n",
    "                        help = 'activate if you want to save first correlations, otherwise will save central')\n",
    "    parser.add_argument('--sref0', nargs = '+', type = int, default = [L-2, L-1, 0], help = 'ref spin 0')\n",
    "    parser.add_argument('--sref1', nargs = '+', type = int, default = [L-2, L-1, 1], help = 'ref spin 1')\n",
    "    parser.add_argument('--sref2', nargs = '+', type = int, default = [L-2, L-1, 2], help = 'ref spin 2')\n",
    "    #SAVE\n",
    "    parser.add_argument('--output', type = str, default = stroutput, help = 'saving filename (.pkl will be added)')\n",
    "    parser.add_argument('--verbose',default = False, action = 'store_true',\n",
    "                        help = 'activate verbosity')\n",
    "    args = parser.parse_args()\n",
    "    return args\n",
    "\n"
   ]
  },
  {
   "cell_type": "code",
   "execution_count": null,
   "metadata": {},
   "outputs": [],
   "source": [
    "def callRunBasis():\n",
    "    args = genArgs()\n",
    "    return RunBasis.main(args)"
   ]
  },
  {
   "cell_type": "code",
   "execution_count": null,
   "metadata": {
    "scrolled": true
   },
   "outputs": [],
   "source": [
    "#%%prun -s  -T prun0\n",
    "#yep.start(stroutput+'.log')\n",
    "%lprun -f dw.mcs_swaps [meanstat, swapst, swapsh, failedupdatesth, failedupdates] = callRunBasis()\n",
    "#yep.stop()"
   ]
  },
  {
   "cell_type": "code",
   "execution_count": null,
   "metadata": {},
   "outputs": [],
   "source": [
    "# Create a folder to save the pictures\n",
    "foldername = \"./\" + stroutput + \"_folder/\" \n",
    "results_foldername = 'Results/'\n",
    "os.makedirs(foldername + results_foldername, exist_ok = True)\n",
    "\n",
    "filenamelist = [\"backup\"]\n",
    "n = len(filenamelist)"
   ]
  },
  {
   "cell_type": "code",
   "execution_count": null,
   "metadata": {},
   "outputs": [],
   "source": [
    "[L, numsites, J1, J2, J3, J3st, J4, nb, num_in_bin, temperatures, nt,\n",
    " stat_temps, temperatures_plots, hfields, nh,\n",
    " stat_hfields, hfields_plots, listfunctions, sref, idswalker] =\\\n",
    "af.LoadParameters(foldername, filenamelist)"
   ]
  },
  {
   "cell_type": "code",
   "execution_count": null,
   "metadata": {},
   "outputs": [],
   "source": [
    "kw = {'binning': False, 'plzplot': True, 'plotmin': 0, 'plotmax': 16}\n",
    "[t_h_MeanE, t_h_MeanEsq, t_h_varMeanE, t_h_varMeanEsq, C, ErrC] = \\\n",
    " af.LoadEnergy(foldername, filenamelist, numsites,\n",
    "               nb, stat_temps, temperatures, stat_hfields,\n",
    "               listfunctions, **kw)\n",
    "tidmin = 0\n",
    "tidmax = [len(stat_temps[i]) for i in range(n)]\n",
    "temperatures_plots = np.array(temperatures_plots)\n",
    "### Energy\n",
    "S0 = np.log(2)\n",
    "kw = {'gscheck': False}\n",
    "af.BasicPlotsE(L, n, tidmin, tidmax, temperatures_plots, hfields_plots, foldername,\n",
    "                results_foldername, filenamelist, t_h_MeanE, t_h_MeanEsq, t_h_varMeanE,\n",
    "                t_h_varMeanEsq, C, ErrC, J1, J2, J3, J4, **kw)\n",
    "plt.show()"
   ]
  },
  {
   "cell_type": "code",
   "execution_count": null,
   "metadata": {
    "scrolled": true
   },
   "outputs": [],
   "source": [
    "kw = {'binning': False, 'plzplot': True, 'plotmin': 0, 'plotmax': 16}\n",
    "[t_h_MeanM, t_h_MeanMsq, t_h_varMeanM, t_h_varMeanMsq, Chi, ErrChi] = \\\n",
    " af.LoadMagnetisation(foldername, filenamelist, numsites,\n",
    "               nb, stat_temps, temperatures, stat_hfields,\n",
    "               listfunctions, **kw)\n",
    "tidmin = 0\n",
    "tidmax = [len(stat_temps[i]) for i in range(n)]\n",
    "temperatures_plots = np.array(temperatures_plots)\n",
    "### Energy\n",
    "S0 = np.log(2)\n",
    "kw = {'gscheck': False}\n",
    "af.BasicPlotsM(L, n, tidmin, tidmax, temperatures_plots, hfields_plots, foldername,\n",
    "                results_foldername, filenamelist, t_h_MeanM, t_h_MeanMsq, t_h_varMeanM,\n",
    "                t_h_varMeanMsq, Chi, ErrChi, J1, J2, J3, J4, **kw)\n",
    "plt.show()"
   ]
  },
  {
   "cell_type": "code",
   "execution_count": null,
   "metadata": {},
   "outputs": [],
   "source": [
    "import importlib\n",
    "importlib.reload(af)"
   ]
  },
  {
   "cell_type": "code",
   "execution_count": null,
   "metadata": {},
   "outputs": [],
   "source": [
    "rmmag = True"
   ]
  },
  {
   "cell_type": "code",
   "execution_count": null,
   "metadata": {},
   "outputs": [],
   "source": [
    "kw = {'rmmag':rmmag}\n",
    "t_h_MeanFc, t_h_varMeanFc, t_h_MeanSi, t_h_varMeanSi= \\\n",
    " af.LoadFirstCorrelations(foldername, filenamelist, listfunctions, stat_temps[0:4], stat_hfields, nb, **kw)\n"
   ]
  },
  {
   "cell_type": "code",
   "execution_count": null,
   "metadata": {},
   "outputs": [],
   "source": [
    "plt.semilogx(temperatures_plots[0],t_h_MeanFc[0][:,0,0],'.',label = 'NN')\n",
    "plt.semilogx(temperatures_plots[0],t_h_MeanFc[0][:,0,1],'.',label = 'NN2')\n",
    "plt.semilogx(temperatures_plots[0],t_h_MeanFc[0][:,0,2],'.',label = 'NN3par')\n",
    "plt.semilogx(temperatures_plots[0],t_h_MeanFc[0][:,0,3],'.',label = 'NN3star')\n",
    "plt.title(\"p = {0}\".format(p))\n",
    "plt.xlabel(\"T\")\n",
    "plt.ylabel(\"Correlation\")\n",
    "plt.legend()\n",
    "plt.savefig(\"./\" + foldername + results_foldername + \"/FirstCorrelations_rmmag{0}.png\".format(rmmag))"
   ]
  },
  {
   "cell_type": "code",
   "execution_count": null,
   "metadata": {},
   "outputs": [],
   "source": [
    "kw = {'rmmag': rmmag}\n",
    "t_h_MeanSs, t_h_varMeanSs, t_h_MeanSi, t_h_varMeanSi, t_h_MeanCorr, t_h_errCorrEstim = \\\n",
    " af.LoadCentralCorrelations(foldername, filenamelist, listfunctions, sref, stat_temps[0:4], stat_hfields, nb, **kw)"
   ]
  },
  {
   "cell_type": "code",
   "execution_count": null,
   "metadata": {},
   "outputs": [],
   "source": [
    "### COMPUTING CORRELATIONS FROM <SISJ> AND <SI> and plotting in 2D\n",
    "ploth = False\n",
    "if not ploth:\n",
    "    tid = 0\n",
    "    hid = 0\n",
    "    rid = tid\n",
    "else:\n",
    "    tid = 9\n",
    "    hid = 15\n",
    "    rid = hid\n",
    "\n",
    "#[corr, errcorr, maxerr] = af.PrepPlot2DCorrelations(rid, n, \n",
    "#                                                t_h_MeanCorr,\n",
    "#                                                t_h_errCorrEstim,\n",
    "#                                                t_h_MeanSi,\n",
    "#                                                hfields_plots,\n",
    "#                                                temperatures_plots,\\\n",
    "#                                                ploth = ploth)\n",
    "print(\"t = \",temperatures_plots[0][tid])\n",
    "print(\"h = \",hfields_plots[0][hid])"
   ]
  },
  {
   "cell_type": "code",
   "execution_count": null,
   "metadata": {
    "scrolled": false
   },
   "outputs": [],
   "source": [
    "af.PlotFirstCorrelations(n, L,foldername, results_foldername, \n",
    "                         hfields_plots, temperatures_plots,\n",
    "                         t_h_MeanCorr, t_h_errCorrEstim, sref,\\\n",
    "                         distmax = 2, ploth = ploth)\n",
    "plt.gca().set_prop_cycle(None)\n",
    "plt.semilogx(temperatures_plots[0],t_h_MeanFc[0][:,0,0],'.',label = 'NN')\n",
    "plt.semilogx(temperatures_plots[0],t_h_MeanFc[0][:,0,1],'.',label = 'NN2')\n",
    "plt.semilogx(temperatures_plots[0],t_h_MeanFc[0][:,0,2],'.',label = 'NN3par')\n",
    "plt.semilogx(temperatures_plots[0],t_h_MeanFc[0][:,0,3],'.',label = 'NN3star')\n",
    "plt.savefig(\"./\" + foldername + results_foldername + \"/FirstCorrelationsComparison_rmmag{0}.png\".format(rmmag))\n",
    "plt.show()"
   ]
  },
  {
   "cell_type": "code",
   "execution_count": null,
   "metadata": {},
   "outputs": [],
   "source": [
    "import KagomeFunctions as kf"
   ]
  },
  {
   "cell_type": "code",
   "execution_count": null,
   "metadata": {},
   "outputs": [],
   "source": [
    "#dimer table and dictionary:\n",
    "(d_ijl, ijl_d) = kf.createdualtable(L[0])\n",
    "#spin table and dictionary\n",
    "(s_ijl, ijl_s) = kf.createspinsitetable(L[0])  "
   ]
  },
  {
   "cell_type": "code",
   "execution_count": null,
   "metadata": {},
   "outputs": [],
   "source": [
    "distmax = 2.1\n",
    "distances, distances_spins, NNList, s_pos = kf.NearestNeighboursLists(L[0], distmax, sref[0])\n",
    "    # instead, consider using the same NNlist as given to FirstCorrelations\n",
    "nnlists = [dw.NNpairs(ijl_s, s_ijl, L[0]), dw.NN2pairs(ijl_s, s_ijl, L[0]),\n",
    "                   dw.NN3parpairs(ijl_s, s_ijl, L[0]), dw.NN3starpairs(ijl_s, s_ijl, L[0])]"
   ]
  },
  {
   "cell_type": "code",
   "execution_count": null,
   "metadata": {},
   "outputs": [],
   "source": [
    "print(sref[0])"
   ]
  },
  {
   "cell_type": "code",
   "execution_count": null,
   "metadata": {},
   "outputs": [],
   "source": [
    "NNList"
   ]
  },
  {
   "cell_type": "code",
   "execution_count": null,
   "metadata": {},
   "outputs": [],
   "source": [
    "nn = np.array(nnlists[0])\n",
    "test0 = np.where(nn[:,0] == 2)\n",
    "test1 = np.where(nn[:,1] == 2)\n",
    "print(test0)\n",
    "print(test1)"
   ]
  },
  {
   "cell_type": "code",
   "execution_count": null,
   "metadata": {},
   "outputs": [],
   "source": [
    "len(s_ijl)*2"
   ]
  },
  {
   "cell_type": "code",
   "execution_count": null,
   "metadata": {
    "scrolled": true
   },
   "outputs": [],
   "source": [
    "nn[test0[0],:]"
   ]
  },
  {
   "cell_type": "code",
   "execution_count": null,
   "metadata": {},
   "outputs": [],
   "source": [
    "nn2 = np.array(nnlists[1])\n",
    "test0 = np.where(nn2[:,0] == 2)\n",
    "test1 = np.where(nn2[:,1] == 2)\n",
    "print(test0)\n",
    "print(test1)\n",
    "print(nn2.shape)"
   ]
  },
  {
   "cell_type": "code",
   "execution_count": null,
   "metadata": {},
   "outputs": [],
   "source": [
    "nn3 = np.array(nnlists[2])\n",
    "test0 = np.where(nn3[:,0] == 2)\n",
    "test1 = np.where(nn3[:,1] == 2)\n",
    "print(test0)\n",
    "print(test1)\n",
    "print(nn3.shape)"
   ]
  }
 ],
 "metadata": {
  "kernelspec": {
   "display_name": "Python 3",
   "language": "python",
   "name": "python3"
  },
  "language_info": {
   "codemirror_mode": {
    "name": "ipython",
    "version": 3
   },
   "file_extension": ".py",
   "mimetype": "text/x-python",
   "name": "python",
   "nbconvert_exporter": "python",
   "pygments_lexer": "ipython3",
   "version": "3.5.3"
  }
 },
 "nbformat": 4,
 "nbformat_minor": 2
}
