{
 "cells": [
  {
   "cell_type": "markdown",
   "metadata": {},
   "source": [
    "Last update 08.01.2020\n",
    "\n",
    "Author : Jeanne Colbois\n",
    "\n",
    "Please send any comments, questions or remarks to Jeanne Colbois: jeanne.colbois@epfl.ch.\n",
    "The author would appreciate to be cited in uses of this code, and would be very happy to hear about potential nice developments."
   ]
  },
  {
   "cell_type": "code",
   "execution_count": null,
   "metadata": {
    "collapsed": true
   },
   "outputs": [],
   "source": [
    "import os,sys,inspect\n",
    "currentdir = os.path.dirname(os.path.abspath(inspect.getfile(inspect.currentframe())))\n",
    "parentdir = os.path.dirname(currentdir)\n",
    "sys.path.insert(0,parentdir) "
   ]
  },
  {
   "cell_type": "code",
   "execution_count": null,
   "metadata": {
    "collapsed": true
   },
   "outputs": [],
   "source": [
    "import numpy as np # maths\n",
    "\n",
    "from time import time# timer for debug\n",
    "    # gather results obtained from the runs  \n",
    "    # system commands\n",
    "import os\n",
    "\n",
    "import KagomeFunctions as kf # \"library\" allowing to work on Kagome\n",
    "import KagomeDrawing as kdraw # \"library\" allowing to plot Kagome\n",
    "import DualwormFunctions as dw\n",
    "import KagomeFT as kft\n",
    "import AnalysisFunctions_OBC as af # functions to make the analysis code cleaner\n",
    "    #plots using matplotlib\n",
    "import matplotlib\n",
    "import matplotlib.pyplot as plt\n",
    "import StartStates as strst\n",
    "#import matplotlib.image as mpimg\n",
    "%matplotlib inline\n",
    "matplotlib.rcParams['axes.unicode_minus'] = False\n",
    "matplotlib.rcParams.update({'font.size': 14})"
   ]
  },
  {
   "cell_type": "code",
   "execution_count": null,
   "metadata": {
    "collapsed": false,
    "scrolled": false
   },
   "outputs": [],
   "source": [
    "### First check what happens for a constant function\n",
    "L = 12\n",
    "(s_ijl, ijl_s) = kf.createspinsitetable(L)\n",
    "nspins = len(s_ijl)\n",
    "N = np.sqrt((nspins**2)/2)\n",
    "\n",
    "(q_k1k2, k1k2_q) = kdraw.KagomeReciprocal(L)\n",
    "q_k1k2 = np.array(q_k1k2)\n",
    "\n",
    "sconf = np.array([1 for i in range(nspins)])\n",
    "StrctFactPBC, m = kft.PBCStrctFact(L, sconf, ijl_s, subtractm = False, centered = True)\n",
    "\n",
    "StrctFact = np.zeros((q_k1k2.shape[0],3, 3), dtype = 'complex128')\n",
    "\n",
    "s_pos, ijl_pos = kf.reducedgraphkag(L, s_ijl, ijl_s)\n",
    "listnei = [(0, 0), (0, 1), (1, 0), (-1, 1),\n",
    "               (-1, 0), (0, -1),(1, -1)]\n",
    "n1, n2, Leff, S = kf.superlattice(L)\n",
    "print(n1, n2)\n",
    "a = 2\n",
    "xy_m1m2 = (1/a)*np.array([[1, -1/np.sqrt(3)],[0, 2/np.sqrt(3)]])\n",
    "m = 0\n",
    "for s1 in range(nspins):\n",
    "    (i1,j1,l1) = s_ijl[s1]\n",
    "    pos1 = s_pos[s1]\n",
    "    vals1 = sconf[ijl_s[(i1,j1,l1)]]\n",
    "    pos1list = np.array([pos1 + nei[0]*Leff*n1 + nei[1]*Leff*n2\n",
    "                         for nei in listnei])\n",
    "    for s2 in range(s1+1, nspins):\n",
    "        (i2,j2,l2) = s_ijl[s2]\n",
    "        vals2 = sconf[ijl_s[(i2,j2,l2)]]\n",
    "        pos2 = s_pos[s2]\n",
    "        # separation\n",
    "        sep = pos2 - pos1list\n",
    "        # index of minmum distance\n",
    "        neiid = np.argmin([np.linalg.norm(sep[i]) for i in\n",
    "                           range(sep.shape[0])])\n",
    "        \n",
    "        # position difference in (m1, m2) coordinates\n",
    "        dm1m2 = np.dot(xy_m1m2, sep[neiid])\n",
    "        c = np.asscalar(vals1*vals2) # m is zero if not subtractm\n",
    "\n",
    "        exponent = 1j * 2 * np.pi * np.dot(q_k1k2, dm1m2) / L\n",
    "        #print(\"s2 = \", s2, np.real(np.exp(exponent)))\n",
    "        #if any(np.abs(np.imag(np.exp(exponent)))>1e-14):\n",
    "        #    print(\"s2 = \", s2, np.imag(np.exp(exponent)))\n",
    "        \n",
    "        StrctFact[:,l1, l2] += c*np.exp(exponent)/N\n",
    "        StrctFact[:,l2, l1] += c*np.exp(-exponent)/N\n",
    "        "
   ]
  },
  {
   "cell_type": "code",
   "execution_count": null,
   "metadata": {
    "collapsed": false,
    "scrolled": false
   },
   "outputs": [],
   "source": [
    "size = (175/L)**2\n",
    "fig, ax = plt.subplots(figsize = (8,8),dpi=200)\n",
    "kdraw.plot_function_reciprocal(np.real(StrctFact[:,0,0]), L, 2, s = size)#, vmin = vmin, vmax = vmax)\n",
    "fig, ax = plt.subplots(figsize = (8,8),dpi=200)\n",
    "kdraw.plot_function_reciprocal(np.real(StrctFact[:,1,1]), L, 2, s = size)#, vmin = vmin, vmax = vmax)\n",
    "fig, ax = plt.subplots(figsize = (8,8),dpi=200)\n",
    "kdraw.plot_function_reciprocal(np.real(StrctFact[:,2,2]), L, 2, s = size)#, vmin = vmin, vmax = vmax)\n",
    "fig, ax = plt.subplots(figsize = (8,8),dpi=200)\n",
    "kdraw.plot_function_reciprocal(np.real(StrctFact[:,0,1]+StrctFact[:,1,0])/2, L, 2, s = size)#vmin = vmin, vmax = vmax)\n",
    "fig, ax = plt.subplots(figsize = (8,8),dpi=200)\n",
    "kdraw.plot_function_reciprocal(np.real(StrctFact[:,0,2]+StrctFact[:,2,0])/2, L, 2, s = size)#vmin = vmin, vmax = vmax)\n",
    "fig, ax = plt.subplots(figsize = (8,8),dpi=200)\n",
    "kdraw.plot_function_reciprocal(np.real(StrctFact[:,1,2]+StrctFact[:,2,1])/2, L, 2, s = size)#vmin = vmin, vmax = vmax)\n",
    "fig, ax = plt.subplots(figsize = (8,8),dpi=200)\n",
    "kdraw.plot_function_reciprocal(np.sum(StrctFact, axis = (1,2)), L, 2, s = size)#vmin = vmin, vmax = vmax)"
   ]
  },
  {
   "cell_type": "code",
   "execution_count": null,
   "metadata": {
    "collapsed": true
   },
   "outputs": [],
   "source": [
    "corr0 = np.array([1 for i in range(nspins)])\n",
    "corr1 = np.array([0 for i in range(nspins)])\n",
    "StrfactComp, SF0, SF1, SF2 = kft.StrctFact(corr0, corr0, corr0)"
   ]
  },
  {
   "cell_type": "code",
   "execution_count": null,
   "metadata": {
    "collapsed": false,
    "scrolled": false
   },
   "outputs": [],
   "source": [
    "size = (175/L)**2\n",
    "fig, ax = plt.subplots(figsize = (8,8),dpi=200)\n",
    "kdraw.plot_function_reciprocal(StrfactComp, L, 2, s = size)#, vmin = vmin, vmax = vmax)\n",
    "fig, ax = plt.subplots(figsize = (8,8),dpi=200)\n",
    "kdraw.plot_function_reciprocal(SF0, L, 2, s = size)#, vmin = vmin, vmax = vmax)\n",
    "fig, ax = plt.subplots(figsize = (8,8),dpi=200)\n",
    "kdraw.plot_function_reciprocal(SF1, L, 2, s = size)#, vmin = vmin, vmax = vmax)\n",
    "fig, ax = plt.subplots(figsize = (8,8),dpi=200)\n",
    "kdraw.plot_function_reciprocal(SF2, L, 2, s = size)#, vmin = vmin, vmax = vmax)\n"
   ]
  },
  {
   "cell_type": "code",
   "execution_count": null,
   "metadata": {
    "collapsed": true
   },
   "outputs": [],
   "source": []
  }
 ],
 "metadata": {
  "kernelspec": {
   "display_name": "Python 3",
   "language": "python",
   "name": "python3"
  },
  "language_info": {
   "codemirror_mode": {
    "name": "ipython",
    "version": 3
   },
   "file_extension": ".py",
   "mimetype": "text/x-python",
   "name": "python",
   "nbconvert_exporter": "python",
   "pygments_lexer": "ipython3",
   "version": "3.5.3"
  }
 },
 "nbformat": 4,
 "nbformat_minor": 2
}
