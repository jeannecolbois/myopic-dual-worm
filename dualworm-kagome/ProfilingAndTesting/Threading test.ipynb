{
 "cells": [
  {
   "cell_type": "code",
   "execution_count": null,
   "metadata": {
    "collapsed": true
   },
   "outputs": [],
   "source": [
    "import os,sys,inspect\n",
    "currentdir = os.path.dirname(os.path.abspath(inspect.getfile(inspect.currentframe())))\n",
    "parentdir = os.path.dirname(currentdir)\n",
    "sys.path.insert(0,parentdir) "
   ]
  },
  {
   "cell_type": "code",
   "execution_count": null,
   "metadata": {
    "collapsed": true
   },
   "outputs": [],
   "source": [
    "from threading import Thread\n",
    "from time import time"
   ]
  },
  {
   "cell_type": "code",
   "execution_count": null,
   "metadata": {
    "collapsed": true
   },
   "outputs": [],
   "source": [
    "nupdates = 100000000"
   ]
  },
  {
   "cell_type": "code",
   "execution_count": null,
   "metadata": {
    "collapsed": true
   },
   "outputs": [],
   "source": [
    "class updatelist(Thread):\n",
    "    def __init__(self, index, number, *args):\n",
    "        Thread.__init__(self)\n",
    "        self.index = index\n",
    "        self.number = number\n",
    "        self.args = args\n",
    "        \n",
    "    def run(self):\n",
    "        for _ in range(nupdates):\n",
    "            self.args[0][self.index] += self.number"
   ]
  },
  {
   "cell_type": "code",
   "execution_count": null,
   "metadata": {
    "collapsed": false
   },
   "outputs": [],
   "source": [
    "testlist = [0 for i in range(80)]\n",
    "\n",
    "threadlist = list()\n",
    "for index in range(len(testlist)):\n",
    "    val = index\n",
    "    threadlist.append(updatelist(index,val,testlist))\n",
    "\n",
    "t1 = time()\n",
    "for index in range(len(testlist)):\n",
    "    threadlist[index].start()\n",
    "for index in range(len(testlist)):\n",
    "    threadlist[index].join()\n",
    "t2 = time()\n",
    "print(t2-t1)\n",
    "    \n",
    "print(testlist)"
   ]
  },
  {
   "cell_type": "code",
   "execution_count": null,
   "metadata": {
    "collapsed": false
   },
   "outputs": [],
   "source": [
    "testlist = [0 for i in range(80)]\n",
    "\n",
    "t1 = time()\n",
    "\n",
    "for index in range(len(testlist)):\n",
    "    for _ in range(nupdates):\n",
    "        testlist[index] += index\n",
    "\n",
    "    \n",
    "t2 = time()\n",
    "print(t2-t1)\n",
    "    \n",
    "print(testlist)"
   ]
  },
  {
   "cell_type": "code",
   "execution_count": null,
   "metadata": {
    "collapsed": true
   },
   "outputs": [],
   "source": []
  }
 ],
 "metadata": {
  "kernelspec": {
   "display_name": "Python 3",
   "language": "python",
   "name": "python3"
  },
  "language_info": {
   "codemirror_mode": {
    "name": "ipython",
    "version": 3
   },
   "file_extension": ".py",
   "mimetype": "text/x-python",
   "name": "python",
   "nbconvert_exporter": "python",
   "pygments_lexer": "ipython3",
   "version": "3.5.3"
  }
 },
 "nbformat": 4,
 "nbformat_minor": 2
}
